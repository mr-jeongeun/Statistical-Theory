{
  "cells": [
    {
      "cell_type": "markdown",
      "source": [
        "+ 데이터마이닝 : 대량의 데이터로부터 규칙이나 패턴을 찾아내는 과정\n",
        "  + 목적 : 정보 추출 $\\rightarrow$ 이해할 수 있는 구조로 변환\n",
        "  + KDD 과정 : 데이터 선택 $\\rightarrow$ 전처리 $\\rightarrow$ 변환 $\\rightarrow$ 데이터마이닝 $\\rightarrow$ 해석/평가\n",
        "+ 지도학습(=예측모형) : 결과값이 알려진 다변량 자료를 이용하여 모형을 구축하고 이를 통해 새로운 자료에 대해 결과값에 대한 예측 또는 분류를 수행하는 방법\n",
        "  + 결과값이 범주형 : 분류가 목적\n",
        "  + 결과값이 연속형 : 예측이 목적\n",
        "  + ex - 로지스틱 회귀, 의사결정나무, 판별분석, 인접이웃분류KNN, 베이즈분류, 신경망, 서포트벡터머신SVM, 앙상블 모형\n",
        "+ 비지도학습 : 별도의 결과값을 요구하지 않는 자료에 대한 분석\n",
        "  + ex- 군집분석(k-평균군집, 계층적 군집, 혼합분포군집), 주성분분석PCA, 독립성분분석ICA"
      ],
      "metadata": {
        "id": "3z2v1oqqn2eR"
      }
    }
  ],
  "metadata": {
    "colab": {
      "provenance": []
    },
    "kernelspec": {
      "display_name": "R",
      "name": "ir"
    },
    "language_info": {
      "name": "R"
    }
  },
  "nbformat": 4,
  "nbformat_minor": 0
}