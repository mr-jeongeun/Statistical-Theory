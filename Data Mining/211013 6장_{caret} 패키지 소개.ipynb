{
  "cells": [
    {
      "cell_type": "markdown",
      "source": [
        "+ {caret} 패키지 : classification and regression training\n",
        "  + 복잡한 회귀와 분류 문제에 대한 모형 훈련과 조율 과정을 간소화하는 함수를 포함"
      ],
      "metadata": {
        "id": "hInuiUhhFEgC"
      }
    },
    {
      "cell_type": "markdown",
      "source": [
        "### 6.2 사용절차 : PLS 회귀 예제\n",
        "+ train() 함수\n",
        "\n",
        "  1) 재표본을 사용하여 모형의 조율모수가 성능에 미치는 영향을 평가하고\n",
        "\n",
        "  2) 이들 모수에서 최적의 모형을 선택하고\n",
        "  \n",
        "  3) 훈련 집합에서 모형 성능을 추정한다\n",
        "\n",
        "+ createDataPartition() : 훈련용 데이터셋과 검증용 데이터셋으로 나눔"
      ],
      "metadata": {
        "id": "vvxDJWXIFF1w"
      }
    },
    {
      "cell_type": "code",
      "source": [
        "install.packages(\"caret\")\n",
        "install.packages(\"mlbench\")\n",
        "library(caret)\n",
        "library(mlbench)\n",
        "data(Sonar)"
      ],
      "metadata": {
        "colab": {
          "base_uri": "https://localhost:8080/"
        },
        "id": "s2uCiJpqFDy3",
        "outputId": "230bdc12-97d2-47cc-a139-fe0d57490fb2"
      },
      "execution_count": 1,
      "outputs": [
        {
          "output_type": "stream",
          "name": "stderr",
          "text": [
            "Installing package into ‘/usr/local/lib/R/site-library’\n",
            "(as ‘lib’ is unspecified)\n",
            "\n",
            "also installing the dependencies ‘listenv’, ‘parallelly’, ‘future’, ‘globals’, ‘shape’, ‘future.apply’, ‘numDeriv’, ‘progressr’, ‘SQUAREM’, ‘diagram’, ‘lava’, ‘prodlim’, ‘proxy’, ‘iterators’, ‘Rcpp’, ‘clock’, ‘gower’, ‘hardhat’, ‘ipred’, ‘timeDate’, ‘e1071’, ‘foreach’, ‘ModelMetrics’, ‘plyr’, ‘pROC’, ‘recipes’, ‘reshape2’\n",
            "\n",
            "\n",
            "Installing package into ‘/usr/local/lib/R/site-library’\n",
            "(as ‘lib’ is unspecified)\n",
            "\n",
            "Loading required package: ggplot2\n",
            "\n",
            "Loading required package: lattice\n",
            "\n"
          ]
        }
      ]
    },
    {
      "cell_type": "code",
      "source": [
        "set.seed(107)\n",
        "inTrain = createDataPartition(y = Sonar$Class, p = 0.75, list = FALSE)\n",
        "str(inTrain)"
      ],
      "metadata": {
        "colab": {
          "base_uri": "https://localhost:8080/"
        },
        "id": "v62NkYm8FDvt",
        "outputId": "540f20e1-da7d-4b29-aa2d-9c3830e25c68"
      },
      "execution_count": 2,
      "outputs": [
        {
          "output_type": "stream",
          "name": "stdout",
          "text": [
            " int [1:157, 1] 1 2 3 4 5 7 10 11 12 13 ...\n",
            " - attr(*, \"dimnames\")=List of 2\n",
            "  ..$ : NULL\n",
            "  ..$ : chr \"Resample1\"\n"
          ]
        }
      ]
    },
    {
      "cell_type": "code",
      "source": [
        "training = Sonar[inTrain, ]\n",
        "testing = Sonar[-inTrain, ]\n",
        "nrow(training)\n",
        "nrow(testing)"
      ],
      "metadata": {
        "colab": {
          "base_uri": "https://localhost:8080/",
          "height": 52
        },
        "id": "qZRyB403FDs5",
        "outputId": "0449b67c-13ae-485a-eb51-24bcd756137b"
      },
      "execution_count": 3,
      "outputs": [
        {
          "output_type": "display_data",
          "data": {
            "text/html": [
              "157"
            ],
            "text/markdown": "157",
            "text/latex": "157",
            "text/plain": [
              "[1] 157"
            ]
          },
          "metadata": {}
        },
        {
          "output_type": "display_data",
          "data": {
            "text/html": [
              "51"
            ],
            "text/markdown": "51",
            "text/latex": "51",
            "text/plain": [
              "[1] 51"
            ]
          },
          "metadata": {}
        }
      ]
    },
    {
      "cell_type": "markdown",
      "source": [
        "+ train() 함수의 tuneLength = 옵션 : 평가되는 수를 제어\n",
        "+ train() 함수의 tuneGrid = 옵션 : 특정값이 필요할 때 사용\n",
        "+ trainControl() 함수의 summaryFunction = 옵션 : 관측값과 예측값을 취하여 성능 측도를 추정하는 함수에서 사용\n",
        "+ trainControl() 함수의 classProbs = TRUE 옵션 : 통계적 계산을 포함하는 데 사용\n",
        "  + 이게 없으면 ROC 계산이 이루어지지 않음"
      ],
      "metadata": {
        "id": "n3o-BKItFP0j"
      }
    },
    {
      "cell_type": "code",
      "source": [
        "set.seed(123)\n",
        "install.packages(\"pls\")\n",
        "library(pls)\n",
        "ctrl = trainControl(method = \"repeatedcv\", repeats = 3,\n",
        "                    classProbs = TRUE, summaryFunction = twoClassSummary)\n",
        "plsFit = train(Class ~ ., data = training, method = \"pls\", tuneLength = 15,\n",
        "               trControl = ctrl, metric = \"ROC\", preProc = c(\"center\", \"scale\"))\n",
        "plsFit"
      ],
      "metadata": {
        "colab": {
          "base_uri": "https://localhost:8080/",
          "height": 856
        },
        "id": "tijxMZVmFUbY",
        "outputId": "0f9c69cc-7834-46a9-b33c-2ca5534023c5"
      },
      "execution_count": 4,
      "outputs": [
        {
          "output_type": "stream",
          "name": "stderr",
          "text": [
            "Installing package into ‘/usr/local/lib/R/site-library’\n",
            "(as ‘lib’ is unspecified)\n",
            "\n",
            "\n",
            "Attaching package: ‘pls’\n",
            "\n",
            "\n",
            "The following object is masked from ‘package:caret’:\n",
            "\n",
            "    R2\n",
            "\n",
            "\n",
            "The following object is masked from ‘package:stats’:\n",
            "\n",
            "    loadings\n",
            "\n",
            "\n"
          ]
        },
        {
          "output_type": "display_data",
          "data": {
            "text/plain": [
              "Partial Least Squares \n",
              "\n",
              "157 samples\n",
              " 60 predictor\n",
              "  2 classes: 'M', 'R' \n",
              "\n",
              "Pre-processing: centered (60), scaled (60) \n",
              "Resampling: Cross-Validated (10 fold, repeated 3 times) \n",
              "Summary of sample sizes: 141, 141, 142, 142, 141, 142, ... \n",
              "Resampling results across tuning parameters:\n",
              "\n",
              "  ncomp  ROC        Sens       Spec     \n",
              "   1     0.8052910  0.7259259  0.6904762\n",
              "   2     0.8479084  0.7495370  0.8005952\n",
              "   3     0.8488426  0.7638889  0.7476190\n",
              "   4     0.8355241  0.7652778  0.7357143\n",
              "   5     0.8124173  0.7481481  0.7547619\n",
              "   6     0.7887566  0.7236111  0.6988095\n",
              "   7     0.7938161  0.7439815  0.6892857\n",
              "   8     0.8012235  0.7393519  0.6982143\n",
              "   9     0.7932126  0.7578704  0.6767857\n",
              "  10     0.7895916  0.7412037  0.6904762\n",
              "  11     0.7868386  0.7416667  0.7101190\n",
              "  12     0.7773479  0.7365741  0.7148810\n",
              "  13     0.7715608  0.7375000  0.7000000\n",
              "  14     0.7678902  0.7175926  0.6904762\n",
              "  15     0.7679729  0.7148148  0.6898810\n",
              "\n",
              "ROC was used to select the optimal model using the largest value.\n",
              "The final value used for the model was ncomp = 3."
            ]
          },
          "metadata": {}
        }
      ]
    },
    {
      "cell_type": "code",
      "source": [
        "plot(plsFit)"
      ],
      "metadata": {
        "colab": {
          "base_uri": "https://localhost:8080/",
          "height": 437
        },
        "id": "FjeB-cEHFUZR",
        "outputId": "420a297e-1719-4eb8-e367-464f1af22335"
      },
      "execution_count": 5,
      "outputs": [
        {
          "output_type": "display_data",
          "data": {
            "text/plain": [
              "plot without title"
            ],
            "image/png": "[encoded data removed]"
          },
          "metadata": {
            "image/png": {
              "width": 420,
              "height": 420
            }
          }
        }
      ]
    },
    {
      "cell_type": "code",
      "source": [
        "plsClasses = predict(plsFit, newdata = testing)\n",
        "str(plsClasses)"
      ],
      "metadata": {
        "colab": {
          "base_uri": "https://localhost:8080/"
        },
        "id": "2ferrnBQFUWy",
        "outputId": "722ff5f7-7187-4cfc-96e7-ece78b86e1b6"
      },
      "execution_count": 6,
      "outputs": [
        {
          "output_type": "stream",
          "name": "stdout",
          "text": [
            " Factor w/ 2 levels \"M\",\"R\": 2 1 1 1 2 2 1 2 2 2 ...\n"
          ]
        }
      ]
    },
    {
      "cell_type": "code",
      "source": [
        "plsProbs = predict(plsFit, newdata = testing, type = \"prob\")\n",
        "head(plsProbs)"
      ],
      "metadata": {
        "colab": {
          "base_uri": "https://localhost:8080/",
          "height": 286
        },
        "id": "_Gqclgt-FUSA",
        "outputId": "7109ba89-13d3-4b7b-bf62-765f6cb5ea31"
      },
      "execution_count": 7,
      "outputs": [
        {
          "output_type": "display_data",
          "data": {
            "text/html": [
              "<table class=\"dataframe\">\n",
              "<caption>A data.frame: 6 × 2</caption>\n",
              "<thead>\n",
              "\t<tr><th></th><th scope=col>M</th><th scope=col>R</th></tr>\n",
              "\t<tr><th></th><th scope=col>&lt;dbl&gt;</th><th scope=col>&lt;dbl&gt;</th></tr>\n",
              "</thead>\n",
              "<tbody>\n",
              "\t<tr><th scope=row>6</th><td>0.2878477</td><td>0.7121523</td></tr>\n",
              "\t<tr><th scope=row>8</th><td>0.6484796</td><td>0.3515204</td></tr>\n",
              "\t<tr><th scope=row>9</th><td>0.6590434</td><td>0.3409566</td></tr>\n",
              "\t<tr><th scope=row>15</th><td>0.5285970</td><td>0.4714030</td></tr>\n",
              "\t<tr><th scope=row>26</th><td>0.4299690</td><td>0.5700310</td></tr>\n",
              "\t<tr><th scope=row>27</th><td>0.4916393</td><td>0.5083607</td></tr>\n",
              "</tbody>\n",
              "</table>\n"
            ],
            "text/markdown": "\nA data.frame: 6 × 2\n\n| <!--/--> | M &lt;dbl&gt; | R &lt;dbl&gt; |\n|---|---|---|\n| 6 | 0.2878477 | 0.7121523 |\n| 8 | 0.6484796 | 0.3515204 |\n| 9 | 0.6590434 | 0.3409566 |\n| 15 | 0.5285970 | 0.4714030 |\n| 26 | 0.4299690 | 0.5700310 |\n| 27 | 0.4916393 | 0.5083607 |\n\n",
            "text/latex": "A data.frame: 6 × 2\n\\begin{tabular}{r|ll}\n  & M & R\\\\\n  & <dbl> & <dbl>\\\\\n\\hline\n\t6 & 0.2878477 & 0.7121523\\\\\n\t8 & 0.6484796 & 0.3515204\\\\\n\t9 & 0.6590434 & 0.3409566\\\\\n\t15 & 0.5285970 & 0.4714030\\\\\n\t26 & 0.4299690 & 0.5700310\\\\\n\t27 & 0.4916393 & 0.5083607\\\\\n\\end{tabular}\n",
            "text/plain": [
              "   M         R        \n",
              "6  0.2878477 0.7121523\n",
              "8  0.6484796 0.3515204\n",
              "9  0.6590434 0.3409566\n",
              "15 0.5285970 0.4714030\n",
              "26 0.4299690 0.5700310\n",
              "27 0.4916393 0.5083607"
            ]
          },
          "metadata": {}
        }
      ]
    },
    {
      "cell_type": "code",
      "source": [
        "confusionMatrix(data = plsClasses, testing$Class)"
      ],
      "metadata": {
        "colab": {
          "base_uri": "https://localhost:8080/",
          "height": 499
        },
        "id": "NI4XtI0oFUPt",
        "outputId": "dc89dbac-1415-4e83-b0a1-8df81232119c"
      },
      "execution_count": 8,
      "outputs": [
        {
          "output_type": "display_data",
          "data": {
            "text/plain": [
              "Confusion Matrix and Statistics\n",
              "\n",
              "          Reference\n",
              "Prediction  M  R\n",
              "         M 21  7\n",
              "         R  6 17\n",
              "                                          \n",
              "               Accuracy : 0.7451          \n",
              "                 95% CI : (0.6037, 0.8567)\n",
              "    No Information Rate : 0.5294          \n",
              "    P-Value [Acc > NIR] : 0.001311        \n",
              "                                          \n",
              "                  Kappa : 0.4872          \n",
              "                                          \n",
              " Mcnemar's Test P-Value : 1.000000        \n",
              "                                          \n",
              "            Sensitivity : 0.7778          \n",
              "            Specificity : 0.7083          \n",
              "         Pos Pred Value : 0.7500          \n",
              "         Neg Pred Value : 0.7391          \n",
              "             Prevalence : 0.5294          \n",
              "         Detection Rate : 0.4118          \n",
              "   Detection Prevalence : 0.5490          \n",
              "      Balanced Accuracy : 0.7431          \n",
              "                                          \n",
              "       'Positive' Class : M               \n",
              "                                          "
            ]
          },
          "metadata": {}
        }
      ]
    },
    {
      "cell_type": "markdown",
      "source": [
        "+ Cohen의 카파통계량 : 범주형으로 이루어지는 평가에서 두 평가자 간의 일치도의 측도\n",
        "  + 제안된 분류기의 성능이 각 범주의 빈도에 따라 임의로 예측하는 분류기의 성능보다 얼마나 우수한지를 알려줌\n",
        "  + 우연에 의한 일치 가능성을 고려하므로 단순 퍼센트보다 로버스트한 측도\n",
        "  + 정분류율의 평가로 쓰이기도 함"
      ],
      "metadata": {
        "id": "Mu5pdZGBFaQ1"
      }
    },
    {
      "cell_type": "code",
      "source": [
        "rdaGrid = data.frame(gamma = (0:4) / 4, lambda = 3 / 4)\n",
        "set.seed(123)\n",
        "install.packages(\"klaR\")\n",
        "library(klaR)\n",
        "rdaFit = train(Class ~ ., data = training, method = \"rda\",\n",
        "               tuneGrid = rdaGrid, trControl = ctrl, metric = \"ROC\")\n",
        "rdaFit"
      ],
      "metadata": {
        "colab": {
          "base_uri": "https://localhost:8080/",
          "height": 555
        },
        "id": "Szu40qwHFdCJ",
        "outputId": "7768b492-7d8c-404a-b77b-f1e485d4b623"
      },
      "execution_count": 9,
      "outputs": [
        {
          "output_type": "stream",
          "name": "stderr",
          "text": [
            "Installing package into ‘/usr/local/lib/R/site-library’\n",
            "(as ‘lib’ is unspecified)\n",
            "\n",
            "also installing the dependencies ‘R.methodsS3’, ‘R.oo’, ‘R.utils’, ‘httpuv’, ‘xtable’, ‘sourcetools’, ‘later’, ‘promises’, ‘R.cache’, ‘shiny’, ‘miniUI’, ‘styler’, ‘classInt’, ‘labelled’, ‘combinat’, ‘questionr’\n",
            "\n",
            "\n",
            "Loading required package: MASS\n",
            "\n"
          ]
        },
        {
          "output_type": "display_data",
          "data": {
            "text/plain": [
              "Regularized Discriminant Analysis \n",
              "\n",
              "157 samples\n",
              " 60 predictor\n",
              "  2 classes: 'M', 'R' \n",
              "\n",
              "No pre-processing\n",
              "Resampling: Cross-Validated (10 fold, repeated 3 times) \n",
              "Summary of sample sizes: 141, 141, 142, 142, 141, 142, ... \n",
              "Resampling results across tuning parameters:\n",
              "\n",
              "  gamma  ROC        Sens       Spec     \n",
              "  0.00   0.7775876  0.7231481  0.6815476\n",
              "  0.25   0.8865989  0.8643519  0.7863095\n",
              "  0.50   0.8764964  0.8513889  0.7303571\n",
              "  0.75   0.8633185  0.8300926  0.7095238\n",
              "  1.00   0.7338872  0.6800926  0.6357143\n",
              "\n",
              "Tuning parameter 'lambda' was held constant at a value of 0.75\n",
              "ROC was used to select the optimal model using the largest value.\n",
              "The final values used for the model were gamma = 0.25 and lambda = 0.75."
            ]
          },
          "metadata": {}
        }
      ]
    },
    {
      "cell_type": "code",
      "source": [
        "rdaClasses = predict(rdaFit, newdata = testing)\n",
        "confusionMatrix(rdaClasses, testing$Class)"
      ],
      "metadata": {
        "colab": {
          "base_uri": "https://localhost:8080/",
          "height": 499
        },
        "id": "pAphWQXJFdAN",
        "outputId": "2a7d4594-2fcd-46f2-ce48-b964c1103641"
      },
      "execution_count": 10,
      "outputs": [
        {
          "output_type": "display_data",
          "data": {
            "text/plain": [
              "Confusion Matrix and Statistics\n",
              "\n",
              "          Reference\n",
              "Prediction  M  R\n",
              "         M 25  5\n",
              "         R  2 19\n",
              "                                         \n",
              "               Accuracy : 0.8627         \n",
              "                 95% CI : (0.7374, 0.943)\n",
              "    No Information Rate : 0.5294         \n",
              "    P-Value [Acc > NIR] : 5.008e-07      \n",
              "                                         \n",
              "                  Kappa : 0.7226         \n",
              "                                         \n",
              " Mcnemar's Test P-Value : 0.4497         \n",
              "                                         \n",
              "            Sensitivity : 0.9259         \n",
              "            Specificity : 0.7917         \n",
              "         Pos Pred Value : 0.8333         \n",
              "         Neg Pred Value : 0.9048         \n",
              "             Prevalence : 0.5294         \n",
              "         Detection Rate : 0.4902         \n",
              "   Detection Prevalence : 0.5882         \n",
              "      Balanced Accuracy : 0.8588         \n",
              "                                         \n",
              "       'Positive' Class : M              \n",
              "                                         "
            ]
          },
          "metadata": {}
        }
      ]
    },
    {
      "cell_type": "code",
      "source": [
        "resamps = resamples(list(pls = plsFit, rda = rdaFit))\n",
        "summary(resamps)"
      ],
      "metadata": {
        "colab": {
          "base_uri": "https://localhost:8080/",
          "height": 392
        },
        "id": "wwfASzVnFc-G",
        "outputId": "34b0ffc5-a44c-4ccd-9cc8-189e5b8b9de0"
      },
      "execution_count": 11,
      "outputs": [
        {
          "output_type": "display_data",
          "data": {
            "text/plain": [
              "\n",
              "Call:\n",
              "summary.resamples(object = resamps)\n",
              "\n",
              "Models: pls, rda \n",
              "Number of resamples: 30 \n",
              "\n",
              "ROC \n",
              "         Min.   1st Qu.    Median      Mean   3rd Qu.     Max. NA's\n",
              "pls 0.6785714 0.7872024 0.8234127 0.8488426 0.9375000 0.984127    0\n",
              "rda 0.7500000 0.8470982 0.8888889 0.8865989 0.9404762 1.000000    0\n",
              "\n",
              "Sens \n",
              "         Min.   1st Qu. Median      Mean 3rd Qu. Max. NA's\n",
              "pls 0.5555556 0.6250000  0.750 0.7638889   0.875    1    0\n",
              "rda 0.6250000 0.7569444  0.875 0.8643519   1.000    1    0\n",
              "\n",
              "Spec \n",
              "         Min.   1st Qu.    Median      Mean   3rd Qu. Max. NA's\n",
              "pls 0.4285714 0.7142857 0.7142857 0.7476190 0.8571429    1    0\n",
              "rda 0.5000000 0.7142857 0.7500000 0.7863095 0.8750000    1    0\n"
            ]
          },
          "metadata": {}
        }
      ]
    },
    {
      "cell_type": "code",
      "source": [
        "xyplot(resamps, what = \"BlandAltman\")"
      ],
      "metadata": {
        "colab": {
          "base_uri": "https://localhost:8080/",
          "height": 437
        },
        "id": "Ay5VcF8uFc74",
        "outputId": "6dd2cd89-2b3e-45ee-b9ea-b37774ac1763"
      },
      "execution_count": 12,
      "outputs": [
        {
          "output_type": "display_data",
          "data": {
            "text/plain": [
              "plot without title"
            ],
            "image/png": "[encoded data removed]"
          },
          "metadata": {
            "image/png": {
              "width": 420,
              "height": 420
            }
          }
        }
      ]
    },
    {
      "cell_type": "code",
      "source": [
        "diffs = diff(resamps)\n",
        "summary(diffs)"
      ],
      "metadata": {
        "colab": {
          "base_uri": "https://localhost:8080/",
          "height": 410
        },
        "id": "FwQdR__iFc52",
        "outputId": "d4b2334b-7d93-47f9-bd5e-7df89c4de752"
      },
      "execution_count": 13,
      "outputs": [
        {
          "output_type": "display_data",
          "data": {
            "text/plain": [
              "\n",
              "Call:\n",
              "summary.diff.resamples(object = diffs)\n",
              "\n",
              "p-value adjustment: bonferroni \n",
              "Upper diagonal: estimates of the difference\n",
              "Lower diagonal: p-value for H0: difference = 0\n",
              "\n",
              "ROC \n",
              "    pls       rda     \n",
              "pls           -0.03776\n",
              "rda 0.0005443         \n",
              "\n",
              "Sens \n",
              "    pls       rda    \n",
              "pls           -0.1005\n",
              "rda 0.0001718        \n",
              "\n",
              "Spec \n",
              "    pls    rda     \n",
              "pls        -0.03869\n",
              "rda 0.1357         \n"
            ]
          },
          "metadata": {}
        }
      ]
    },
    {
      "cell_type": "markdown",
      "source": [
        "+ BlandAltman : 서로 다른 두 분석 간의 합치도를 분석하는데 사용되는 데이터 plot 방법\n",
        "+ bonferroni : 다중비교에서 생길 수 있는 오류 교정방법으로 관측데이터에 대해 $H_0$가 성립할 확률이 낮으면 $H_0$를 기각함으로써 $H_1$ 채택"
      ],
      "metadata": {
        "id": "UOriABJ1FihU"
      }
    },
    {
      "cell_type": "markdown",
      "source": [
        "### 6.4 {caret}을 이용한 변수선택\n",
        "+ ROC 곡선 분석을 사용하여 추정 가능\n",
        "+ 모형-기반 접근법의 장점 : 모형 성능과 보다 밀접하게 관계되며 예측변수들 간의 상관구조를 중요도 계산에 결합할 수 있음\n",
        "+ varImp{caret} 함수 : train 객체 또는 특정 방법에 의한 결과 객체에 대한 변수 중요도를 계산\n",
        "\n",
        "#### 예제 1."
      ],
      "metadata": {
        "id": "r0leKvfVFkMS"
      }
    },
    {
      "cell_type": "code",
      "source": [
        "set.seed(100)\n",
        "library(mlbench)\n",
        "library(caret)\n",
        "data(PimaIndiansDiabetes)"
      ],
      "metadata": {
        "id": "ViAJ6ML4Fc3e"
      },
      "execution_count": 14,
      "outputs": []
    },
    {
      "cell_type": "code",
      "source": [
        "control = trainControl(method = \"repeatedcV\", number = 10, repeats = 3)\n",
        "model = train(diabetes ~ ., data = PimaIndiansDiabetes, method = \"lvq\",\n",
        "              preProcess = \"scale\", trControl = control)\n",
        "\n",
        "importance = varImp(model, scale = FALSE)\n",
        "print(importance)"
      ],
      "metadata": {
        "colab": {
          "base_uri": "https://localhost:8080/"
        },
        "id": "8x4Pc6VvFqRB",
        "outputId": "1f99079a-2660-4d76-cf6a-4d3e0619f301"
      },
      "execution_count": 15,
      "outputs": [
        {
          "output_type": "stream",
          "name": "stderr",
          "text": [
            "Warning message:\n",
            "“`repeats` has no meaning for this resampling method.”\n"
          ]
        },
        {
          "output_type": "stream",
          "name": "stdout",
          "text": [
            "ROC curve variable importance\n",
            "\n",
            "         Importance\n",
            "glucose      0.7881\n",
            "mass         0.6876\n",
            "age          0.6869\n",
            "pregnant     0.6195\n",
            "pedigree     0.6062\n",
            "pressure     0.5865\n",
            "triceps      0.5536\n",
            "insulin      0.5379\n"
          ]
        }
      ]
    },
    {
      "cell_type": "code",
      "source": [
        "plot(importance)"
      ],
      "metadata": {
        "colab": {
          "base_uri": "https://localhost:8080/",
          "height": 437
        },
        "id": "Yu2yRt0zFqPF",
        "outputId": "277fb48a-40df-4c17-f5c9-6a8ef220fd15"
      },
      "execution_count": 16,
      "outputs": [
        {
          "output_type": "display_data",
          "data": {
            "text/plain": [
              "plot without title"
            ],
            "image/png": "[encoded data removed]"
          },
          "metadata": {
            "image/png": {
              "width": 420,
              "height": 420
            }
          }
        }
      ]
    },
    {
      "cell_type": "markdown",
      "source": [
        "+ 재귀적 변수제거(=후진선택, RFE) : caret 패키지에서 제공되는 가장 널리 사용되는 자동 변수 선택 방법\n",
        "+ rfe{caret} 함수 : RFE 알고리즘 수행\n",
        "#### 예제 2."
      ],
      "metadata": {
        "id": "6jnhLo7gFr48"
      }
    },
    {
      "cell_type": "code",
      "source": [
        "set.seed(50)\n",
        "install.packages(\"randomForest\")\n",
        "library(mlbench)\n",
        "library(caret)\n",
        "library(randomForest)\n",
        "data(PimaIndiansDiabetes)"
      ],
      "metadata": {
        "colab": {
          "base_uri": "https://localhost:8080/"
        },
        "id": "2YDaLNucFqMo",
        "outputId": "6d6101a5-ae6c-496f-dfb9-adf494e0ddba"
      },
      "execution_count": 17,
      "outputs": [
        {
          "output_type": "stream",
          "name": "stderr",
          "text": [
            "Installing package into ‘/usr/local/lib/R/site-library’\n",
            "(as ‘lib’ is unspecified)\n",
            "\n",
            "randomForest 4.7-1.1\n",
            "\n",
            "Type rfNews() to see new features/changes/bug fixes.\n",
            "\n",
            "\n",
            "Attaching package: ‘randomForest’\n",
            "\n",
            "\n",
            "The following object is masked from ‘package:ggplot2’:\n",
            "\n",
            "    margin\n",
            "\n",
            "\n"
          ]
        }
      ]
    },
    {
      "cell_type": "code",
      "source": [
        "control = rfeControl(functions = rfFuncs, method = \"cv\", number = 10)\n",
        "results = rfe(PimaIndiansDiabetes[, 1:8], PimaIndiansDiabetes[, 9],\n",
        "              sizes = c(1:8), rfeControl = control)\n",
        "print(results)"
      ],
      "metadata": {
        "colab": {
          "base_uri": "https://localhost:8080/"
        },
        "id": "Mwn9DpTQF0nR",
        "outputId": "e77f4deb-face-4c5f-9b01-c92a6b1a009b"
      },
      "execution_count": 18,
      "outputs": [
        {
          "output_type": "stream",
          "name": "stdout",
          "text": [
            "\n",
            "Recursive feature selection\n",
            "\n",
            "Outer resampling method: Cross-Validated (10 fold) \n",
            "\n",
            "Resampling performance over subset size:\n",
            "\n",
            " Variables Accuracy  Kappa AccuracySD KappaSD Selected\n",
            "         1   0.6940 0.2627    0.02186  0.0701         \n",
            "         2   0.7421 0.4097    0.05035  0.1260         \n",
            "         3   0.7381 0.4090    0.05410  0.1265         \n",
            "         4   0.7655 0.4762    0.06119  0.1465         \n",
            "         5   0.7538 0.4366    0.05793  0.1473         \n",
            "         6   0.7668 0.4705    0.06093  0.1501         \n",
            "         7   0.7667 0.4693    0.06934  0.1680         \n",
            "         8   0.7693 0.4731    0.07120  0.1688        *\n",
            "\n",
            "The top 5 variables (out of 8):\n",
            "   glucose, mass, age, pregnant, pedigree\n",
            "\n"
          ]
        }
      ]
    },
    {
      "cell_type": "code",
      "source": [
        "predictors(results)"
      ],
      "metadata": {
        "colab": {
          "base_uri": "https://localhost:8080/",
          "height": 34
        },
        "id": "2qbF7pwmF0lb",
        "outputId": "3e55e14c-9d08-4e68-f176-3888ea18be8a"
      },
      "execution_count": 19,
      "outputs": [
        {
          "output_type": "display_data",
          "data": {
            "text/html": [
              "<style>\n",
              ".list-inline {list-style: none; margin:0; padding: 0}\n",
              ".list-inline>li {display: inline-block}\n",
              ".list-inline>li:not(:last-child)::after {content: \"\\00b7\"; padding: 0 .5ex}\n",
              "</style>\n",
              "<ol class=list-inline><li>'glucose'</li><li>'mass'</li><li>'age'</li><li>'pregnant'</li><li>'pedigree'</li><li>'insulin'</li><li>'triceps'</li><li>'pressure'</li></ol>\n"
            ],
            "text/markdown": "1. 'glucose'\n2. 'mass'\n3. 'age'\n4. 'pregnant'\n5. 'pedigree'\n6. 'insulin'\n7. 'triceps'\n8. 'pressure'\n\n\n",
            "text/latex": "\\begin{enumerate*}\n\\item 'glucose'\n\\item 'mass'\n\\item 'age'\n\\item 'pregnant'\n\\item 'pedigree'\n\\item 'insulin'\n\\item 'triceps'\n\\item 'pressure'\n\\end{enumerate*}\n",
            "text/plain": [
              "[1] \"glucose\"  \"mass\"     \"age\"      \"pregnant\" \"pedigree\" \"insulin\"  \"triceps\" \n",
              "[8] \"pressure\""
            ]
          },
          "metadata": {}
        }
      ]
    },
    {
      "cell_type": "code",
      "source": [
        "plot(results, type = c(\"g\", \"o\"))"
      ],
      "metadata": {
        "colab": {
          "base_uri": "https://localhost:8080/",
          "height": 437
        },
        "id": "3FWv6w-EF0jW",
        "outputId": "62ffa3ad-26ae-459b-f5ef-fefd87edcde1"
      },
      "execution_count": 20,
      "outputs": [
        {
          "output_type": "display_data",
          "data": {
            "text/plain": [
              "plot without title"
            ],
            "image/png": "[encoded data removed]"
          },
          "metadata": {
            "image/png": {
              "width": 420,
              "height": 420
            }
          }
        }
      ]
    },
    {
      "cell_type": "markdown",
      "source": [
        "+ Regularization : 특정 제약항을 추가함으로써 일반화의 성질을 좋게 하는 목적으로 사용하며 정보는 주로 벌점의 형태로 주어짐"
      ],
      "metadata": {
        "id": "a89jvxUsF3S_"
      }
    },
    {
      "cell_type": "markdown",
      "source": [
        "### 6.5 예제 : {caret}을 이용한 기계학습\n",
        "+ 절차 : 전처리 $\\rightarrow$ 데이터분할 $\\rightarrow$ 변수선택 $\\rightarrow$ 모형적합 $\\rightarrow$ 모수조율 $\\rightarrow$ 변수중요도추정 $\\rightarrow$ 예측 및 모형 평가\n",
        "\n",
        "#### 예제 3."
      ],
      "metadata": {
        "id": "BQbbLmMSF6Wu"
      }
    },
    {
      "cell_type": "code",
      "source": [
        "# train = read.csv(\"loan.csv\", encoding = \"UTF-8\")\n",
        "# str(train)"
      ],
      "metadata": {
        "id": "uTMPELdxF8Eq"
      },
      "execution_count": 21,
      "outputs": []
    },
    {
      "cell_type": "markdown",
      "source": [
        "##### (a) 전처리 1 - 결측값 대치, 표준화"
      ],
      "metadata": {
        "id": "4Ph6EMQkHVCJ"
      }
    },
    {
      "cell_type": "code",
      "source": [
        "# sum(is.na(train))\n",
        "\n",
        "# library(mice)\n",
        "# library(caret)\n",
        "# md.pattern(train)\n",
        "\n",
        "# prePro = preProcess(train, method = c(\"knnImpute\", \"center\", \"scale\"))\n",
        "# loanPre = predict(prePro, train)\n",
        "# sum(is.na(loanPre))"
      ],
      "metadata": {
        "id": "oR9OueU6F0hC"
      },
      "execution_count": 22,
      "outputs": []
    },
    {
      "cell_type": "markdown",
      "source": [
        "+ md.pattern{mice} : 결측값의 패턴 확인\n",
        "  + knnImpute방법 : knn 방법으로 결측치 대치(결측치 제거x)\n",
        "  \n",
        "##### (b) 전처리 2 - 범주형 예측변수 처리"
      ],
      "metadata": {
        "id": "NSOw7QyYHd4k"
      }
    },
    {
      "cell_type": "code",
      "source": [
        "# # 종속변수를 숫자형 변수로 변환(0, 1로 recoding)\n",
        "# loanPre$Loan_Status = ifelse(loanPre$Loan_Status == \"N\", 0, 1)\n",
        "# id = loanPre$Loan_ID\n",
        "# loanPre$Loan_ID = NULL  # 1열(Loan_ID)은 제거하여 복잡성 줄임\n",
        "\n",
        "# # 범주형 변수에 대해 더미변수를 생성\n",
        "# dmy = dummyVars(\"~ .\", data = loanPre, fullRank = T)\n",
        "# loanDummy = data.frame(predict(dmy, newdata = loanPre))\n",
        "# str(loanDummy)\n",
        "\n",
        "# # 반응변수를 원래의 범주형으로 돌려줌\n",
        "# loanDummy$Loan_Status = as.factor(loanDummy$Loan_Status)"
      ],
      "metadata": {
        "id": "87kO2DPDHhBV"
      },
      "execution_count": 23,
      "outputs": []
    },
    {
      "cell_type": "markdown",
      "source": [
        "+ dummyVars() : 범주형 예측변수에 대해 더미변수 생성\n",
        "  + fullRank = TRUE 옵션 : (범주 수 - 1)개의 더미변수 생성\n",
        "    + 역행렬이 계산되게 하려는 통계적 접근 방식\n",
        "  + fullRank = FALSE 옵션 : (범주 수)개의 더미변수 생성\n",
        "    + 요즘 많이 쓰는 방식\n",
        "    \n",
        "##### (c) 데이터 분할"
      ],
      "metadata": {
        "id": "25UnKvQgHjux"
      }
    },
    {
      "cell_type": "code",
      "source": [
        "# # 훈련용자료 75%, 검증용자료 25% 생성\n",
        "# set.seed(101)\n",
        "# index = createDataPartition(loanDummy$Loan_Status, p = 0.75, list = F)\n",
        "# loanTrain = loanDummy[index,]\n",
        "# loanTest = loanDummy[-index,]"
      ],
      "metadata": {
        "id": "6uY5mjtOHttC"
      },
      "execution_count": 24,
      "outputs": []
    },
    {
      "cell_type": "markdown",
      "source": [
        "+ set.seed() : 난수를 생성하는 프로그램에서 결과가 항상 다르게 나올 수 있는데 이 때 특정 결과의 재현성을 시행하기 위한 함수\n",
        "\n",
        "##### (d) 변수 선택"
      ],
      "metadata": {
        "id": "FGwCQdxUHvi-"
      }
    },
    {
      "cell_type": "code",
      "source": [
        "# # rfe() 함수의 옵션 설정\n",
        "# set.seed(102)\n",
        "# control = rfeControl(functions = rfFuncs, method = \"repeatedcv\", repeats = 3, verbose = FALSE)\n",
        "# outcomeName = \"Loan_Status\"\n",
        "# predictors = names(loanTrain)[!names(loanTrain) %in% outcomeName]\n",
        "# predictorProfile = rfe(loanTrain[, predictors], loanTrain[, outcomeName],\n",
        "#                        rfeControl = control)\n",
        "# predictorProfile\n",
        "# names(predictorProfile)\n",
        "# predictors = predictorProfile$optVariables"
      ],
      "metadata": {
        "id": "1QD6pr7uHzOj"
      },
      "execution_count": 25,
      "outputs": []
    },
    {
      "cell_type": "markdown",
      "source": [
        "##### (e) 모형 적합"
      ],
      "metadata": {
        "id": "7XFc5YgfH2q_"
      }
    },
    {
      "cell_type": "code",
      "source": [
        "# {caret} 패키지에서 제공되는 알고리즘 확인\n",
        "# names(getModelInfo())\n",
        "\n",
        "# # 모형적합 예시\n",
        "# set.seed(103)\n",
        "# model_gbm = train(loanTrain[, predictors], loanTrain[, outcomeName], method = \"gbm\")\n",
        "# model_rf = train(loanTrain[, predictors], loanTrain[, outcomeName], method = \"rf\")\n",
        "# model_nnet = train(loanTrain[, predictors], loanTrain[, outcomeName], method = \"nnet\")\n",
        "# model_glm = train(loanTrain[, predictors], loanTrain[, outcomeName], method = \"glm\")"
      ],
      "metadata": {
        "id": "HqByewCDH5FF"
      },
      "execution_count": 26,
      "outputs": []
    },
    {
      "cell_type": "markdown",
      "source": [
        "+ getModelInfo() : {caret} 패키지에서 제공되는 알고리즘 확인\n",
        "\n",
        "##### (f) 모수 조율 : (e)에 비해 시간-소모적임에 유의"
      ],
      "metadata": {
        "id": "OB7TjZmrH7Rt"
      }
    },
    {
      "cell_type": "code",
      "source": [
        "# 모형의 성능 평가 방법을 지정 : 5-중첩 교차타당성 방법을 5회 반복\n",
        "# fitControl = trainControl(method = \"repeatedcv\", number = 5, repeats = 5)\n",
        "\n",
        "# # 1. tuneGrid() 함수를 이용한 모수 조율\n",
        "# modelLookup(model = \"gbm\")\n",
        "# grid = expand.grid(n.trees = c(10, 20, 50, 100, 500, 1000),\n",
        "#                    shrinkage = c(0.01, 0.05, 0.1, 0.5),\n",
        "#                    n.minobsinnode = c(3, 5, 10),\n",
        "#                    interaction.depth = c(1, 5, 10))\n",
        "\n",
        "# set.seed(104)\n",
        "# model_gbm_1 = train(loanTrain[, predictors], loanTrain[, outcomeName],\n",
        "#                     method = \"gbm\", trControl = fitControl, tuneGrid = grid)\n",
        "# plot(model_gbm_1)\n",
        "\n",
        "# # 2. tuneLength() 함수를 이용한 모수 조율\n",
        "# set.seed(105)\n",
        "# model_gbm_2 = train(loanTrain[, predictors], loanTrain[, outcomeName],\n",
        "#                     method = \"gbm\", trControl = fitControl, tuneLength = 10)\n",
        "# plot(model_gbm_2)\n"
      ],
      "metadata": {
        "id": "WEDK9t4dH9q7"
      },
      "execution_count": 27,
      "outputs": []
    },
    {
      "cell_type": "markdown",
      "source": [
        "+ tuneGrid() : expand.grid()에서 지정한 모든 모수 조합에 대해 모형적합과 모형평가를 수행하여 최적의 모수 집합을 찾음\n",
        "+ tuneLength() : 각 모수에 대해 값을 지정하는 대신 각 모수별로 고려해야 할 모수 값의 개수(길이)를 지정\n",
        "\n",
        "##### (g) 변수 중요도 추정"
      ],
      "metadata": {
        "id": "A99dVM3FIA6J"
      }
    },
    {
      "cell_type": "code",
      "source": [
        "# library(gbm)\n",
        "# varImp(object = model_gbm)\n",
        "# plot(varImp(object = model_gbm), main = \"GBM - Variable Importance\")\n",
        "\n",
        "# varImP(object = model_rf)\n",
        "# plot(varImp(object = model_rf), main = \"RF - Variable Importance\")\n",
        "\n",
        "# varImP(object = model_nnet)\n",
        "# plot(varImp(object = model_nnet), main = \"NNET - Variable Importance\")\n",
        "\n",
        "# varImP(object = model_glm)\n",
        "# plot(varImp(object = model_glm), main = \"GLM - Variable Importance\")"
      ],
      "metadata": {
        "id": "hltjvd-4IC20"
      },
      "execution_count": 28,
      "outputs": []
    },
    {
      "cell_type": "markdown",
      "source": [
        "##### (h) 예측 및 모형 평가"
      ],
      "metadata": {
        "id": "mwNlGF1gIFsv"
      }
    },
    {
      "cell_type": "code",
      "source": [
        "# predictions = predict.train(object = model, gbm, loanTest[, predictors], type = \"raw\")\n",
        "# table(predictions)\n",
        "# confusionMatrix(predictions, loanTest[, outcomeName])"
      ],
      "metadata": {
        "id": "y7LUoFTOIHM2"
      },
      "execution_count": 29,
      "outputs": []
    },
    {
      "cell_type": "markdown",
      "source": [
        "+ predict.train() : 검증용 자료에 대한 예측 수행\n",
        "  + type = \"raw\" : 예측 클래스 제공\n",
        "  + type = \"prob\" : 각 클래스에 속할 확률 제공\n",
        "+ confusionMatrix() : 검증용 자료에 대한 모형평가 결과 제공\n",
        "\n",
        "+ caret 패키지의 장점\n",
        "\n",
        "  1) 단독으로 거의 모든 지도학습 문제를 다룸\n",
        "\n",
        "  2) 전처리에서 예측모델링까지의 전 과정을 통일된 방식으로 수행\n",
        "  \n",
        "  3) 문법 체계가 매우 단순함"
      ],
      "metadata": {
        "id": "UafdigV-II08"
      }
    }
  ],
  "metadata": {
    "colab": {
      "provenance": []
    },
    "kernelspec": {
      "display_name": "R",
      "name": "ir"
    },
    "language_info": {
      "name": "R"
    }
  },
  "nbformat": 4,
  "nbformat_minor": 0
}