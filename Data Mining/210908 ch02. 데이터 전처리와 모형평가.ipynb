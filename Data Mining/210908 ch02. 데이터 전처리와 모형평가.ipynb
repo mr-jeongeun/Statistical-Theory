{
  "cells": [
    {
      "cell_type": "markdown",
      "source": [
        "+ 데이터 전처리 : R의 {caret} 패키지(단, 모든 데이터는 수치형으로 가정)"
      ],
      "metadata": {
        "id": "-sst11JD1SPE"
      }
    },
    {
      "cell_type": "markdown",
      "source": [
        "### 2.2.1 영-과 영근처-분산 예측변수의 처리\n",
        "+ 예제 1."
      ],
      "metadata": {
        "id": "LX9ahV3a1UUD"
      }
    },
    {
      "cell_type": "code",
      "source": [
        "install.packages(\"caret\")\n",
        "library(caret)\n",
        "data(mdrr)\n",
        "data.frame(table(mdrrDescr$nR11))"
      ],
      "metadata": {
        "colab": {
          "base_uri": "https://localhost:8080/",
          "height": 408
        },
        "id": "5t1R324w1Wnj",
        "outputId": "e791e234-1141-4b22-a8b6-585f4d3f9e2a"
      },
      "execution_count": 1,
      "outputs": [
        {
          "output_type": "stream",
          "name": "stderr",
          "text": [
            "Installing package into ‘/usr/local/lib/R/site-library’\n",
            "(as ‘lib’ is unspecified)\n",
            "\n",
            "also installing the dependencies ‘listenv’, ‘parallelly’, ‘future’, ‘globals’, ‘shape’, ‘future.apply’, ‘numDeriv’, ‘progressr’, ‘SQUAREM’, ‘diagram’, ‘lava’, ‘prodlim’, ‘proxy’, ‘iterators’, ‘Rcpp’, ‘clock’, ‘gower’, ‘hardhat’, ‘ipred’, ‘timeDate’, ‘e1071’, ‘foreach’, ‘ModelMetrics’, ‘plyr’, ‘pROC’, ‘recipes’, ‘reshape2’\n",
            "\n",
            "\n",
            "Loading required package: ggplot2\n",
            "\n",
            "Loading required package: lattice\n",
            "\n"
          ]
        },
        {
          "output_type": "display_data",
          "data": {
            "text/html": [
              "<table class=\"dataframe\">\n",
              "<caption>A data.frame: 3 × 2</caption>\n",
              "<thead>\n",
              "\t<tr><th scope=col>Var1</th><th scope=col>Freq</th></tr>\n",
              "\t<tr><th scope=col>&lt;fct&gt;</th><th scope=col>&lt;int&gt;</th></tr>\n",
              "</thead>\n",
              "<tbody>\n",
              "\t<tr><td>0</td><td>501</td></tr>\n",
              "\t<tr><td>1</td><td>  4</td></tr>\n",
              "\t<tr><td>2</td><td> 23</td></tr>\n",
              "</tbody>\n",
              "</table>\n"
            ],
            "text/markdown": "\nA data.frame: 3 × 2\n\n| Var1 &lt;fct&gt; | Freq &lt;int&gt; |\n|---|---|\n| 0 | 501 |\n| 1 |   4 |\n| 2 |  23 |\n\n",
            "text/latex": "A data.frame: 3 × 2\n\\begin{tabular}{ll}\n Var1 & Freq\\\\\n <fct> & <int>\\\\\n\\hline\n\t 0 & 501\\\\\n\t 1 &   4\\\\\n\t 2 &  23\\\\\n\\end{tabular}\n",
            "text/plain": [
              "  Var1 Freq\n",
              "1 0    501 \n",
              "2 1      4 \n",
              "3 2     23 "
            ]
          },
          "metadata": {}
        }
      ]
    },
    {
      "cell_type": "markdown",
      "source": [
        "+ 다중약물내성 자료(528개 관측치, 342개 변수)\n",
        "+ 데이터가 매우 불균형 & 몇 개의 수치만을 취함\n",
        "+ 이러한 예측변수의 문제점 : 교차타당성/붓스트랩 하위 샘플로 분할될 때 영-분산 예측변수가 되거나, 일부 샘플이 모형에 과도한 영향을 미침\n",
        "\n",
        "  → 모형화 이전에 식별되고 제거 필요\n",
        "+ 영-분산 예측변수 식별 측도 : 아래의 두 기준을 모두 사용하면 위험성을 줄일 수 있음\n",
        "  1) 빈도비율 : (일순위 빈발값의 빈도) / (차순위 빈발값의 빈도)\n",
        "  + 정상적 - 1에 가까움, 불균형 - 매우 큰 값\n",
        "  + 현재 data : 501 / 23\n",
        "  \n",
        "  2) 유일 값들의 비율 : (유일한 값들의 수) / (전체 표본의 수) * 100\n",
        "  + 집중도 클수록 0에 가까움\n",
        "  + 현재 data : (1) 501 / 528 * 100   (2) 4 / 528 * 100   (3) 23 / 528 * 100"
      ],
      "metadata": {
        "id": "Dud47FVS1aer"
      }
    },
    {
      "cell_type": "code",
      "source": [
        "nzv = nearZeroVar(mdrrDescr, saveMetrics = TRUE)\n",
        "str(nzv)"
      ],
      "metadata": {
        "colab": {
          "base_uri": "https://localhost:8080/"
        },
        "id": "TUEt_gBq1hQh",
        "outputId": "187e59e3-6468-4862-9f49-732db787dbe3"
      },
      "execution_count": 2,
      "outputs": [
        {
          "output_type": "stream",
          "name": "stdout",
          "text": [
            "'data.frame':\t342 obs. of  4 variables:\n",
            " $ freqRatio    : num  1.25 1.12 1 1.25 1.25 ...\n",
            " $ percentUnique: num  90 42.6 83 84.3 82.8 ...\n",
            " $ zeroVar      : logi  FALSE FALSE FALSE FALSE FALSE FALSE ...\n",
            " $ nzv          : logi  FALSE FALSE FALSE FALSE FALSE FALSE ...\n"
          ]
        }
      ]
    },
    {
      "cell_type": "code",
      "source": [
        "nzv[nzv$nzv, ][1:10, ]  # nzv의 nzv 변수를 가져와서 처음 10개만 출력"
      ],
      "metadata": {
        "colab": {
          "base_uri": "https://localhost:8080/",
          "height": 412
        },
        "id": "t6JAs99_1jK6",
        "outputId": "b70afcfd-6ff0-4c6f-cc84-f96365f11c96"
      },
      "execution_count": 3,
      "outputs": [
        {
          "output_type": "display_data",
          "data": {
            "text/html": [
              "<table class=\"dataframe\">\n",
              "<caption>A data.frame: 10 × 4</caption>\n",
              "<thead>\n",
              "\t<tr><th></th><th scope=col>freqRatio</th><th scope=col>percentUnique</th><th scope=col>zeroVar</th><th scope=col>nzv</th></tr>\n",
              "\t<tr><th></th><th scope=col>&lt;dbl&gt;</th><th scope=col>&lt;dbl&gt;</th><th scope=col>&lt;lgl&gt;</th><th scope=col>&lt;lgl&gt;</th></tr>\n",
              "</thead>\n",
              "<tbody>\n",
              "\t<tr><th scope=row>nTB</th><td> 23.00000</td><td>0.3787879</td><td>FALSE</td><td>TRUE</td></tr>\n",
              "\t<tr><th scope=row>nBR</th><td>131.00000</td><td>0.3787879</td><td>FALSE</td><td>TRUE</td></tr>\n",
              "\t<tr><th scope=row>nI</th><td>527.00000</td><td>0.3787879</td><td>FALSE</td><td>TRUE</td></tr>\n",
              "\t<tr><th scope=row>nR03</th><td>527.00000</td><td>0.3787879</td><td>FALSE</td><td>TRUE</td></tr>\n",
              "\t<tr><th scope=row>nR08</th><td>527.00000</td><td>0.3787879</td><td>FALSE</td><td>TRUE</td></tr>\n",
              "\t<tr><th scope=row>nR11</th><td> 21.78261</td><td>0.5681818</td><td>FALSE</td><td>TRUE</td></tr>\n",
              "\t<tr><th scope=row>nR12</th><td> 57.66667</td><td>0.3787879</td><td>FALSE</td><td>TRUE</td></tr>\n",
              "\t<tr><th scope=row>D.Dr03</th><td>527.00000</td><td>0.3787879</td><td>FALSE</td><td>TRUE</td></tr>\n",
              "\t<tr><th scope=row>D.Dr07</th><td>123.50000</td><td>5.8712121</td><td>FALSE</td><td>TRUE</td></tr>\n",
              "\t<tr><th scope=row>D.Dr08</th><td>527.00000</td><td>0.3787879</td><td>FALSE</td><td>TRUE</td></tr>\n",
              "</tbody>\n",
              "</table>\n"
            ],
            "text/markdown": "\nA data.frame: 10 × 4\n\n| <!--/--> | freqRatio &lt;dbl&gt; | percentUnique &lt;dbl&gt; | zeroVar &lt;lgl&gt; | nzv &lt;lgl&gt; |\n|---|---|---|---|---|\n| nTB |  23.00000 | 0.3787879 | FALSE | TRUE |\n| nBR | 131.00000 | 0.3787879 | FALSE | TRUE |\n| nI | 527.00000 | 0.3787879 | FALSE | TRUE |\n| nR03 | 527.00000 | 0.3787879 | FALSE | TRUE |\n| nR08 | 527.00000 | 0.3787879 | FALSE | TRUE |\n| nR11 |  21.78261 | 0.5681818 | FALSE | TRUE |\n| nR12 |  57.66667 | 0.3787879 | FALSE | TRUE |\n| D.Dr03 | 527.00000 | 0.3787879 | FALSE | TRUE |\n| D.Dr07 | 123.50000 | 5.8712121 | FALSE | TRUE |\n| D.Dr08 | 527.00000 | 0.3787879 | FALSE | TRUE |\n\n",
            "text/latex": "A data.frame: 10 × 4\n\\begin{tabular}{r|llll}\n  & freqRatio & percentUnique & zeroVar & nzv\\\\\n  & <dbl> & <dbl> & <lgl> & <lgl>\\\\\n\\hline\n\tnTB &  23.00000 & 0.3787879 & FALSE & TRUE\\\\\n\tnBR & 131.00000 & 0.3787879 & FALSE & TRUE\\\\\n\tnI & 527.00000 & 0.3787879 & FALSE & TRUE\\\\\n\tnR03 & 527.00000 & 0.3787879 & FALSE & TRUE\\\\\n\tnR08 & 527.00000 & 0.3787879 & FALSE & TRUE\\\\\n\tnR11 &  21.78261 & 0.5681818 & FALSE & TRUE\\\\\n\tnR12 &  57.66667 & 0.3787879 & FALSE & TRUE\\\\\n\tD.Dr03 & 527.00000 & 0.3787879 & FALSE & TRUE\\\\\n\tD.Dr07 & 123.50000 & 5.8712121 & FALSE & TRUE\\\\\n\tD.Dr08 & 527.00000 & 0.3787879 & FALSE & TRUE\\\\\n\\end{tabular}\n",
            "text/plain": [
              "       freqRatio percentUnique zeroVar nzv \n",
              "nTB     23.00000 0.3787879     FALSE   TRUE\n",
              "nBR    131.00000 0.3787879     FALSE   TRUE\n",
              "nI     527.00000 0.3787879     FALSE   TRUE\n",
              "nR03   527.00000 0.3787879     FALSE   TRUE\n",
              "nR08   527.00000 0.3787879     FALSE   TRUE\n",
              "nR11    21.78261 0.5681818     FALSE   TRUE\n",
              "nR12    57.66667 0.3787879     FALSE   TRUE\n",
              "D.Dr03 527.00000 0.3787879     FALSE   TRUE\n",
              "D.Dr07 123.50000 5.8712121     FALSE   TRUE\n",
              "D.Dr08 527.00000 0.3787879     FALSE   TRUE"
            ]
          },
          "metadata": {}
        }
      ]
    },
    {
      "cell_type": "code",
      "source": [
        "dim(mdrrDescr)"
      ],
      "metadata": {
        "colab": {
          "base_uri": "https://localhost:8080/",
          "height": 34
        },
        "id": "ss1uDX5-1knN",
        "outputId": "ab0ab16d-a9b9-4a86-bf9c-bd75ede940b5"
      },
      "execution_count": 4,
      "outputs": [
        {
          "output_type": "display_data",
          "data": {
            "text/html": [
              "<style>\n",
              ".list-inline {list-style: none; margin:0; padding: 0}\n",
              ".list-inline>li {display: inline-block}\n",
              ".list-inline>li:not(:last-child)::after {content: \"\\00b7\"; padding: 0 .5ex}\n",
              "</style>\n",
              "<ol class=list-inline><li>528</li><li>342</li></ol>\n"
            ],
            "text/markdown": "1. 528\n2. 342\n\n\n",
            "text/latex": "\\begin{enumerate*}\n\\item 528\n\\item 342\n\\end{enumerate*}\n",
            "text/plain": [
              "[1] 528 342"
            ]
          },
          "metadata": {}
        }
      ]
    },
    {
      "cell_type": "code",
      "source": [
        "nzv = nearZeroVar(mdrrDescr)\n",
        "nzv"
      ],
      "metadata": {
        "colab": {
          "base_uri": "https://localhost:8080/",
          "height": 34
        },
        "id": "BjCGXrHf1lYL",
        "outputId": "2f0f00c2-756e-47a8-966f-e9d1e0636e22"
      },
      "execution_count": 5,
      "outputs": [
        {
          "output_type": "display_data",
          "data": {
            "text/html": [
              "<style>\n",
              ".list-inline {list-style: none; margin:0; padding: 0}\n",
              ".list-inline>li {display: inline-block}\n",
              ".list-inline>li:not(:last-child)::after {content: \"\\00b7\"; padding: 0 .5ex}\n",
              "</style>\n",
              "<ol class=list-inline><li>22</li><li>31</li><li>32</li><li>34</li><li>38</li><li>41</li><li>42</li><li>259</li><li>262</li><li>263</li><li>264</li><li>266</li><li>267</li><li>270</li><li>271</li><li>272</li><li>273</li><li>274</li><li>276</li><li>277</li><li>278</li><li>279</li><li>280</li><li>281</li><li>282</li><li>283</li><li>284</li><li>285</li><li>286</li><li>287</li><li>288</li><li>327</li><li>328</li><li>330</li><li>331</li><li>333</li><li>334</li><li>335</li><li>336</li><li>337</li><li>338</li><li>339</li><li>340</li><li>341</li><li>342</li></ol>\n"
            ],
            "text/markdown": "1. 22\n2. 31\n3. 32\n4. 34\n5. 38\n6. 41\n7. 42\n8. 259\n9. 262\n10. 263\n11. 264\n12. 266\n13. 267\n14. 270\n15. 271\n16. 272\n17. 273\n18. 274\n19. 276\n20. 277\n21. 278\n22. 279\n23. 280\n24. 281\n25. 282\n26. 283\n27. 284\n28. 285\n29. 286\n30. 287\n31. 288\n32. 327\n33. 328\n34. 330\n35. 331\n36. 333\n37. 334\n38. 335\n39. 336\n40. 337\n41. 338\n42. 339\n43. 340\n44. 341\n45. 342\n\n\n",
            "text/latex": "\\begin{enumerate*}\n\\item 22\n\\item 31\n\\item 32\n\\item 34\n\\item 38\n\\item 41\n\\item 42\n\\item 259\n\\item 262\n\\item 263\n\\item 264\n\\item 266\n\\item 267\n\\item 270\n\\item 271\n\\item 272\n\\item 273\n\\item 274\n\\item 276\n\\item 277\n\\item 278\n\\item 279\n\\item 280\n\\item 281\n\\item 282\n\\item 283\n\\item 284\n\\item 285\n\\item 286\n\\item 287\n\\item 288\n\\item 327\n\\item 328\n\\item 330\n\\item 331\n\\item 333\n\\item 334\n\\item 335\n\\item 336\n\\item 337\n\\item 338\n\\item 339\n\\item 340\n\\item 341\n\\item 342\n\\end{enumerate*}\n",
            "text/plain": [
              " [1]  22  31  32  34  38  41  42 259 262 263 264 266 267 270 271 272 273 274 276\n",
              "[20] 277 278 279 280 281 282 283 284 285 286 287 288 327 328 330 331 333 334 335\n",
              "[39] 336 337 338 339 340 341 342"
            ]
          },
          "metadata": {}
        }
      ]
    },
    {
      "cell_type": "code",
      "source": [
        "filteredDescr = mdrrDescr[, -nzv]  # 영근처- 분산을 가지는 변수 제거\n",
        "dim(filteredDescr)  # (342 - 297)개 삭제"
      ],
      "metadata": {
        "colab": {
          "base_uri": "https://localhost:8080/",
          "height": 34
        },
        "id": "VqKngLrq1mqH",
        "outputId": "9d8fb18c-68e6-4ee9-b2d5-f615398bdd10"
      },
      "execution_count": 6,
      "outputs": [
        {
          "output_type": "display_data",
          "data": {
            "text/html": [
              "<style>\n",
              ".list-inline {list-style: none; margin:0; padding: 0}\n",
              ".list-inline>li {display: inline-block}\n",
              ".list-inline>li:not(:last-child)::after {content: \"\\00b7\"; padding: 0 .5ex}\n",
              "</style>\n",
              "<ol class=list-inline><li>528</li><li>297</li></ol>\n"
            ],
            "text/markdown": "1. 528\n2. 297\n\n\n",
            "text/latex": "\\begin{enumerate*}\n\\item 528\n\\item 297\n\\end{enumerate*}\n",
            "text/plain": [
              "[1] 528 297"
            ]
          },
          "metadata": {}
        }
      ]
    },
    {
      "cell_type": "markdown",
      "source": [
        "+ nearZeroVar() 함수 : 영근처-분산의 변수 식별, 문제가 되는 변수의 위치를 반환\n",
        "  + 디폴트 : 표본에서 유일 값의 비율이 10% 이하이고 빈도비율이 19(95/5)보다 큰 예측변수는 영-근처 분산으로 분류됨"
      ],
      "metadata": {
        "id": "Jkbj9rq81oPC"
      }
    },
    {
      "cell_type": "markdown",
      "source": [
        "### 2.2.2 상관된 예측변수의 식별 : 중복변수 제거\n",
        "+ 다중공선성의 영향을 고려하여 예측변수들 간의 상관관계의 수준은 줄이는 것이 좋다.\n",
        "+ 예제 2."
      ],
      "metadata": {
        "id": "tKbL1__K1qJj"
      }
    },
    {
      "cell_type": "code",
      "source": [
        "descrCor = cor(filteredDescr)"
      ],
      "metadata": {
        "id": "CHJT3hzh1rMP"
      },
      "execution_count": 7,
      "outputs": []
    },
    {
      "cell_type": "code",
      "source": [
        "# sum : 논리형 자료의 합\n",
        "highCorr = sum(abs(descrCor[upper.tri(descrCor)]) > .999)"
      ],
      "metadata": {
        "id": "FIRGWrHH1t84"
      },
      "execution_count": 8,
      "outputs": []
    },
    {
      "cell_type": "markdown",
      "source": [
        "+ 상관계수가 0.999 이상인 경우가 65개임"
      ],
      "metadata": {
        "id": "ubI09APP1usa"
      }
    },
    {
      "cell_type": "code",
      "source": [
        "summary(descrCor[upper.tri(descrCor)])"
      ],
      "metadata": {
        "colab": {
          "base_uri": "https://localhost:8080/",
          "height": 53
        },
        "id": "53ytBDx61wSg",
        "outputId": "1afaa59b-6ad9-48be-909f-e1f5f583358b"
      },
      "execution_count": 9,
      "outputs": [
        {
          "output_type": "display_data",
          "data": {
            "text/plain": [
              "    Min.  1st Qu.   Median     Mean  3rd Qu.     Max. \n",
              "-0.99607 -0.05373  0.25006  0.26078  0.65527  1.00000 "
            ]
          },
          "metadata": {}
        }
      ]
    },
    {
      "cell_type": "code",
      "source": [
        "# 0.75 이상의 절대 상관계수를 갖는 예측변수를 제거하는 과정과 그 효과\n",
        "highlyCorDescr = findCorrelation(descrCor, cutoff = 0.75)  # 기준 완화\n",
        "filteredDescr = filteredDescr[, -highlyCorDescr]\n",
        "descrCor2 = cor(filteredDescr)\n",
        "summary(descrCor2[upper.tri(descrCor2)])\n",
        "# findCorrelation() 함수 : 제거해야할 예측변수를 제공함"
      ],
      "metadata": {
        "colab": {
          "base_uri": "https://localhost:8080/",
          "height": 53
        },
        "id": "SXwhTX0P10vZ",
        "outputId": "fbf4597f-1278-44de-b418-c602f0f48ccb"
      },
      "execution_count": 10,
      "outputs": [
        {
          "output_type": "display_data",
          "data": {
            "text/plain": [
              "    Min.  1st Qu.   Median     Mean  3rd Qu.     Max. \n",
              "-0.70728 -0.05378  0.04418  0.06692  0.18858  0.74458 "
            ]
          },
          "metadata": {}
        }
      ]
    },
    {
      "cell_type": "markdown",
      "source": [
        "### 2.2.3 예측변수의 변환\n",
        "#### (a) 중심화와 척도화\n",
        "+ preProcess() 함수 : 예측변수에 중심화와 척도화를 포함한 많은 연산 제공\n",
        "  + 이는 특정한 데이터 셋으로부터 요구하는 것을 추저한 다음, 이 값을 재계산하지 않고 임의의 데이터 셋에 이들 변환을 적용\n",
        "  \n",
        "+ 예제 3."
      ],
      "metadata": {
        "id": "jTF4WfoU15Va"
      }
    },
    {
      "cell_type": "code",
      "source": [
        "set.seed(200)\n",
        "# 1부터 mdrrClass의 길이만큼 생성 -> 1:528\n",
        "inTrain = sample(seq(along = mdrrClass), length(mdrrClass) / 2)\n",
        "training = filteredDescr[inTrain, ]\n",
        "test = filteredDescr[-inTrain, ]\n",
        "trainMDRR = mdrrClass[inTrain]\n",
        "testMDRR = mdrrClass[-inTrain]"
      ],
      "metadata": {
        "id": "TIAXcW0Q15E-"
      },
      "execution_count": 11,
      "outputs": []
    },
    {
      "cell_type": "code",
      "source": [
        "# 중심화와 척도화\n",
        "preProcValues = preProcess(training, method = c(\"center\", \"scale\"))\n",
        "trainTransformed = predict(preProcValues, training)\n",
        "testTransformed = predict(preProcValues, test)"
      ],
      "metadata": {
        "id": "0FM9PW1y15CN"
      },
      "execution_count": 12,
      "outputs": []
    },
    {
      "cell_type": "markdown",
      "source": [
        "+ 1) 원자료에서 train 50(or 70) : 모형구축 + test 50(or 30) : 모형성능평가\n",
        "+ 2) 원자료에서 train 40 : 모형구축 + validation 30 : 구축된 모형의 성능 향상(개선, 타당성 검증) + test 30 : 모형 성능 평가"
      ],
      "metadata": {
        "id": "ndfwrsG31_ly"
      }
    },
    {
      "cell_type": "markdown",
      "source": [
        "#### (b) 박스-콕스 변환"
      ],
      "metadata": {
        "id": "lTc0a4Yp2Ayg"
      }
    },
    {
      "cell_type": "code",
      "source": [
        "# 박스-콕스 변환 수행 : method = \"BoxCox\"\n",
        "preProcValues2 = preProcess(training, method = \"BoxCox\")\n",
        "trainBC = predict(preProcValues2, training)\n",
        "testBC = predict(preProcValues2, test)\n",
        "preProcValues2"
      ],
      "metadata": {
        "colab": {
          "base_uri": "https://localhost:8080/",
          "height": 178
        },
        "id": "4r_-zg1T147w",
        "outputId": "d3dacab1-8695-4b19-bb65-2a912ae29430"
      },
      "execution_count": 13,
      "outputs": [
        {
          "output_type": "display_data",
          "data": {
            "text/plain": [
              "Created from 264 samples and 31 variables\n",
              "\n",
              "Pre-processing:\n",
              "  - Box-Cox transformation (31)\n",
              "  - ignored (0)\n",
              "\n",
              "Lambda estimates for Box-Cox transformation:\n",
              "   Min. 1st Qu.  Median    Mean 3rd Qu.    Max. \n",
              "-2.0000 -0.2500  0.4000  0.4548  1.4500  2.0000 \n"
            ]
          },
          "metadata": {}
        }
      ]
    },
    {
      "cell_type": "markdown",
      "source": [
        "### 2.2.4* 기타 전처리 방법\n",
        "#### (a) 범주형 변수에 대한 더미변수 생성\n",
        "+ dummyVars() 함수 : 하나 이상의 요인으로부터 완전한 더미변수 집합을 생성\n",
        "+ 예제 5."
      ],
      "metadata": {
        "id": "4P6L-WyC2EUv"
      }
    },
    {
      "cell_type": "code",
      "source": [
        "install.packages(\"earth\")\n",
        "library(earth)\n",
        "data(etitanic)\n",
        "str(etitanic)"
      ],
      "metadata": {
        "colab": {
          "base_uri": "https://localhost:8080/"
        },
        "id": "UxKBDXWx2C-1",
        "outputId": "93361280-0717-4d5a-8307-57768389381f"
      },
      "execution_count": 14,
      "outputs": [
        {
          "output_type": "stream",
          "name": "stderr",
          "text": [
            "Installing package into ‘/usr/local/lib/R/site-library’\n",
            "(as ‘lib’ is unspecified)\n",
            "\n",
            "also installing the dependencies ‘plotrix’, ‘Formula’, ‘plotmo’, ‘TeachingDemos’\n",
            "\n",
            "\n",
            "Loading required package: Formula\n",
            "\n",
            "Loading required package: plotmo\n",
            "\n",
            "Loading required package: plotrix\n",
            "\n",
            "Loading required package: TeachingDemos\n",
            "\n"
          ]
        },
        {
          "output_type": "stream",
          "name": "stdout",
          "text": [
            "'data.frame':\t1046 obs. of  6 variables:\n",
            " $ pclass  : Factor w/ 3 levels \"1st\",\"2nd\",\"3rd\": 1 1 1 1 1 1 1 1 1 1 ...\n",
            " $ survived: int  1 1 0 0 0 1 1 0 1 0 ...\n",
            " $ sex     : Factor w/ 2 levels \"female\",\"male\": 1 2 1 2 1 2 1 2 1 2 ...\n",
            " $ age     : num  29 0.917 2 30 25 ...\n",
            " $ sibsp   : int  0 1 1 1 1 0 1 0 2 0 ...\n",
            " $ parch   : int  0 2 2 2 2 0 0 0 0 0 ...\n"
          ]
        }
      ]
    },
    {
      "cell_type": "code",
      "source": [
        "# model.matrix{stats} 함수 : (범주의 수 - 1)개 생성 -> 공선성 방지\n",
        "# pclass : 2개 + sex : 1개\n",
        "head(model.matrix(survived ~ ., data = etitanic))"
      ],
      "metadata": {
        "colab": {
          "base_uri": "https://localhost:8080/",
          "height": 255
        },
        "id": "MJpIr6Xk2C8m",
        "outputId": "6c8b2aa7-2a43-40a2-d421-6f6f9b412105"
      },
      "execution_count": 15,
      "outputs": [
        {
          "output_type": "display_data",
          "data": {
            "text/html": [
              "<table class=\"dataframe\">\n",
              "<caption>A matrix: 6 × 7 of type dbl</caption>\n",
              "<thead>\n",
              "\t<tr><th></th><th scope=col>(Intercept)</th><th scope=col>pclass2nd</th><th scope=col>pclass3rd</th><th scope=col>sexmale</th><th scope=col>age</th><th scope=col>sibsp</th><th scope=col>parch</th></tr>\n",
              "</thead>\n",
              "<tbody>\n",
              "\t<tr><th scope=row>1</th><td>1</td><td>0</td><td>0</td><td>0</td><td>29.0000</td><td>0</td><td>0</td></tr>\n",
              "\t<tr><th scope=row>2</th><td>1</td><td>0</td><td>0</td><td>1</td><td> 0.9167</td><td>1</td><td>2</td></tr>\n",
              "\t<tr><th scope=row>3</th><td>1</td><td>0</td><td>0</td><td>0</td><td> 2.0000</td><td>1</td><td>2</td></tr>\n",
              "\t<tr><th scope=row>4</th><td>1</td><td>0</td><td>0</td><td>1</td><td>30.0000</td><td>1</td><td>2</td></tr>\n",
              "\t<tr><th scope=row>5</th><td>1</td><td>0</td><td>0</td><td>0</td><td>25.0000</td><td>1</td><td>2</td></tr>\n",
              "\t<tr><th scope=row>6</th><td>1</td><td>0</td><td>0</td><td>1</td><td>48.0000</td><td>0</td><td>0</td></tr>\n",
              "</tbody>\n",
              "</table>\n"
            ],
            "text/markdown": "\nA matrix: 6 × 7 of type dbl\n\n| <!--/--> | (Intercept) | pclass2nd | pclass3rd | sexmale | age | sibsp | parch |\n|---|---|---|---|---|---|---|---|\n| 1 | 1 | 0 | 0 | 0 | 29.0000 | 0 | 0 |\n| 2 | 1 | 0 | 0 | 1 |  0.9167 | 1 | 2 |\n| 3 | 1 | 0 | 0 | 0 |  2.0000 | 1 | 2 |\n| 4 | 1 | 0 | 0 | 1 | 30.0000 | 1 | 2 |\n| 5 | 1 | 0 | 0 | 0 | 25.0000 | 1 | 2 |\n| 6 | 1 | 0 | 0 | 1 | 48.0000 | 0 | 0 |\n\n",
            "text/latex": "A matrix: 6 × 7 of type dbl\n\\begin{tabular}{r|lllllll}\n  & (Intercept) & pclass2nd & pclass3rd & sexmale & age & sibsp & parch\\\\\n\\hline\n\t1 & 1 & 0 & 0 & 0 & 29.0000 & 0 & 0\\\\\n\t2 & 1 & 0 & 0 & 1 &  0.9167 & 1 & 2\\\\\n\t3 & 1 & 0 & 0 & 0 &  2.0000 & 1 & 2\\\\\n\t4 & 1 & 0 & 0 & 1 & 30.0000 & 1 & 2\\\\\n\t5 & 1 & 0 & 0 & 0 & 25.0000 & 1 & 2\\\\\n\t6 & 1 & 0 & 0 & 1 & 48.0000 & 0 & 0\\\\\n\\end{tabular}\n",
            "text/plain": [
              "  (Intercept) pclass2nd pclass3rd sexmale age     sibsp parch\n",
              "1 1           0         0         0       29.0000 0     0    \n",
              "2 1           0         0         1        0.9167 1     2    \n",
              "3 1           0         0         0        2.0000 1     2    \n",
              "4 1           0         0         1       30.0000 1     2    \n",
              "5 1           0         0         0       25.0000 1     2    \n",
              "6 1           0         0         1       48.0000 0     0    "
            ]
          },
          "metadata": {}
        }
      ]
    },
    {
      "cell_type": "code",
      "source": [
        "# dummyVar() 함수 : 범주의 수만큼 생성 -> 딥러닝 / 신경망에서 많이 씀 -> 역행렬 계산 시 오류x\n",
        "# pclass : 3개 + sex : 2개\n",
        "dummy.1 = dummyVars(survived ~ ., data = etitanic)\n",
        "head(predict(dummy.1, newdata = etitanic))"
      ],
      "metadata": {
        "colab": {
          "base_uri": "https://localhost:8080/",
          "height": 255
        },
        "id": "rpgeBxwE2C6q",
        "outputId": "805a1400-b5f1-41d8-f588-d134209eba37"
      },
      "execution_count": 16,
      "outputs": [
        {
          "output_type": "display_data",
          "data": {
            "text/html": [
              "<table class=\"dataframe\">\n",
              "<caption>A matrix: 6 × 8 of type dbl</caption>\n",
              "<thead>\n",
              "\t<tr><th></th><th scope=col>pclass.1st</th><th scope=col>pclass.2nd</th><th scope=col>pclass.3rd</th><th scope=col>sex.female</th><th scope=col>sex.male</th><th scope=col>age</th><th scope=col>sibsp</th><th scope=col>parch</th></tr>\n",
              "</thead>\n",
              "<tbody>\n",
              "\t<tr><th scope=row>1</th><td>1</td><td>0</td><td>0</td><td>1</td><td>0</td><td>29.0000</td><td>0</td><td>0</td></tr>\n",
              "\t<tr><th scope=row>2</th><td>1</td><td>0</td><td>0</td><td>0</td><td>1</td><td> 0.9167</td><td>1</td><td>2</td></tr>\n",
              "\t<tr><th scope=row>3</th><td>1</td><td>0</td><td>0</td><td>1</td><td>0</td><td> 2.0000</td><td>1</td><td>2</td></tr>\n",
              "\t<tr><th scope=row>4</th><td>1</td><td>0</td><td>0</td><td>0</td><td>1</td><td>30.0000</td><td>1</td><td>2</td></tr>\n",
              "\t<tr><th scope=row>5</th><td>1</td><td>0</td><td>0</td><td>1</td><td>0</td><td>25.0000</td><td>1</td><td>2</td></tr>\n",
              "\t<tr><th scope=row>6</th><td>1</td><td>0</td><td>0</td><td>0</td><td>1</td><td>48.0000</td><td>0</td><td>0</td></tr>\n",
              "</tbody>\n",
              "</table>\n"
            ],
            "text/markdown": "\nA matrix: 6 × 8 of type dbl\n\n| <!--/--> | pclass.1st | pclass.2nd | pclass.3rd | sex.female | sex.male | age | sibsp | parch |\n|---|---|---|---|---|---|---|---|---|\n| 1 | 1 | 0 | 0 | 1 | 0 | 29.0000 | 0 | 0 |\n| 2 | 1 | 0 | 0 | 0 | 1 |  0.9167 | 1 | 2 |\n| 3 | 1 | 0 | 0 | 1 | 0 |  2.0000 | 1 | 2 |\n| 4 | 1 | 0 | 0 | 0 | 1 | 30.0000 | 1 | 2 |\n| 5 | 1 | 0 | 0 | 1 | 0 | 25.0000 | 1 | 2 |\n| 6 | 1 | 0 | 0 | 0 | 1 | 48.0000 | 0 | 0 |\n\n",
            "text/latex": "A matrix: 6 × 8 of type dbl\n\\begin{tabular}{r|llllllll}\n  & pclass.1st & pclass.2nd & pclass.3rd & sex.female & sex.male & age & sibsp & parch\\\\\n\\hline\n\t1 & 1 & 0 & 0 & 1 & 0 & 29.0000 & 0 & 0\\\\\n\t2 & 1 & 0 & 0 & 0 & 1 &  0.9167 & 1 & 2\\\\\n\t3 & 1 & 0 & 0 & 1 & 0 &  2.0000 & 1 & 2\\\\\n\t4 & 1 & 0 & 0 & 0 & 1 & 30.0000 & 1 & 2\\\\\n\t5 & 1 & 0 & 0 & 1 & 0 & 25.0000 & 1 & 2\\\\\n\t6 & 1 & 0 & 0 & 0 & 1 & 48.0000 & 0 & 0\\\\\n\\end{tabular}\n",
            "text/plain": [
              "  pclass.1st pclass.2nd pclass.3rd sex.female sex.male age     sibsp parch\n",
              "1 1          0          0          1          0        29.0000 0     0    \n",
              "2 1          0          0          0          1         0.9167 1     2    \n",
              "3 1          0          0          1          0         2.0000 1     2    \n",
              "4 1          0          0          0          1        30.0000 1     2    \n",
              "5 1          0          0          1          0        25.0000 1     2    \n",
              "6 1          0          0          0          1        48.0000 0     0    "
            ]
          },
          "metadata": {}
        }
      ]
    },
    {
      "cell_type": "markdown",
      "source": [
        "+ 새로 생성된 더미변수는 일부 모형 함수 계산 시 오류가 발생할 수 있음"
      ],
      "metadata": {
        "id": "ILkDaezV2MHx"
      }
    },
    {
      "cell_type": "markdown",
      "source": [
        "#### (b) 선형종속성\n",
        "+ findLinearCombos() 함수 : 행렬의 QR 분해를 사용하여 선형 결합의 집합을 열거\n",
        "  + 선형종속성을 없애기 위해 제거할 열 위치의 벡터를 제공\n",
        "+ 예제 6."
      ],
      "metadata": {
        "id": "3y5kwl5L2Owz"
      }
    },
    {
      "cell_type": "code",
      "source": [
        "ltfrDesign = matrix(0, nrow = 6, ncol = 6)\n",
        "ltfrDesign[, 1] = c(1, 1, 1, 1, 1, 1)\n",
        "ltfrDesign[, 2] = c(1, 1, 1, 0, 0, 0)\n",
        "ltfrDesign[, 3] = c(0, 0, 0, 1, 1, 1)\n",
        "ltfrDesign[, 4] = c(1, 0, 0, 1, 0, 0)\n",
        "ltfrDesign[, 5] = c(0, 1, 0, 0, 1, 0)\n",
        "ltfrDesign[, 6] = c(0, 0, 1, 0, 0, 1)\n",
        "\n",
        "comboInfo = findLinearCombos(ltfrDesign)\n",
        "# 3번째 변수는 1, 2의 선형결합으로 만들어진다\n",
        "# 6번째 변수는 1, 4, 5의 선형결합으로 만들어진다\n",
        "# 3, 6을 제거하면 선형종속의 문제가 사라진다\n",
        "comboInfo\n",
        "ltfrDesign[, -comboInfo$remove]"
      ],
      "metadata": {
        "colab": {
          "base_uri": "https://localhost:8080/",
          "height": 383
        },
        "id": "UqlP6R842C4k",
        "outputId": "4fcf614f-3c57-4d7f-dd54-9c74db5e53d7"
      },
      "execution_count": 17,
      "outputs": [
        {
          "output_type": "display_data",
          "data": {
            "text/html": [
              "<dl>\n",
              "\t<dt>$linearCombos</dt>\n",
              "\t\t<dd><ol>\n",
              "\t<li><style>\n",
              ".list-inline {list-style: none; margin:0; padding: 0}\n",
              ".list-inline>li {display: inline-block}\n",
              ".list-inline>li:not(:last-child)::after {content: \"\\00b7\"; padding: 0 .5ex}\n",
              "</style>\n",
              "<ol class=list-inline><li>3</li><li>1</li><li>2</li></ol>\n",
              "</li>\n",
              "\t<li><style>\n",
              ".list-inline {list-style: none; margin:0; padding: 0}\n",
              ".list-inline>li {display: inline-block}\n",
              ".list-inline>li:not(:last-child)::after {content: \"\\00b7\"; padding: 0 .5ex}\n",
              "</style>\n",
              "<ol class=list-inline><li>6</li><li>1</li><li>4</li><li>5</li></ol>\n",
              "</li>\n",
              "</ol>\n",
              "</dd>\n",
              "\t<dt>$remove</dt>\n",
              "\t\t<dd><style>\n",
              ".list-inline {list-style: none; margin:0; padding: 0}\n",
              ".list-inline>li {display: inline-block}\n",
              ".list-inline>li:not(:last-child)::after {content: \"\\00b7\"; padding: 0 .5ex}\n",
              "</style>\n",
              "<ol class=list-inline><li>3</li><li>6</li></ol>\n",
              "</dd>\n",
              "</dl>\n"
            ],
            "text/markdown": "$linearCombos\n:   1. 1. 3\n2. 1\n3. 2\n\n\n\n2. 1. 6\n2. 1\n3. 4\n4. 5\n\n\n\n\n\n\n$remove\n:   1. 3\n2. 6\n\n\n\n\n\n",
            "text/latex": "\\begin{description}\n\\item[\\$linearCombos] \\begin{enumerate}\n\\item \\begin{enumerate*}\n\\item 3\n\\item 1\n\\item 2\n\\end{enumerate*}\n\n\\item \\begin{enumerate*}\n\\item 6\n\\item 1\n\\item 4\n\\item 5\n\\end{enumerate*}\n\n\\end{enumerate}\n\n\\item[\\$remove] \\begin{enumerate*}\n\\item 3\n\\item 6\n\\end{enumerate*}\n\n\\end{description}\n",
            "text/plain": [
              "$linearCombos\n",
              "$linearCombos[[1]]\n",
              "[1] 3 1 2\n",
              "\n",
              "$linearCombos[[2]]\n",
              "[1] 6 1 4 5\n",
              "\n",
              "\n",
              "$remove\n",
              "[1] 3 6\n"
            ]
          },
          "metadata": {}
        },
        {
          "output_type": "display_data",
          "data": {
            "text/html": [
              "<table class=\"dataframe\">\n",
              "<caption>A matrix: 6 × 4 of type dbl</caption>\n",
              "<tbody>\n",
              "\t<tr><td>1</td><td>1</td><td>1</td><td>0</td></tr>\n",
              "\t<tr><td>1</td><td>1</td><td>0</td><td>1</td></tr>\n",
              "\t<tr><td>1</td><td>1</td><td>0</td><td>0</td></tr>\n",
              "\t<tr><td>1</td><td>0</td><td>1</td><td>0</td></tr>\n",
              "\t<tr><td>1</td><td>0</td><td>0</td><td>1</td></tr>\n",
              "\t<tr><td>1</td><td>0</td><td>0</td><td>0</td></tr>\n",
              "</tbody>\n",
              "</table>\n"
            ],
            "text/markdown": "\nA matrix: 6 × 4 of type dbl\n\n| 1 | 1 | 1 | 0 |\n| 1 | 1 | 0 | 1 |\n| 1 | 1 | 0 | 0 |\n| 1 | 0 | 1 | 0 |\n| 1 | 0 | 0 | 1 |\n| 1 | 0 | 0 | 0 |\n\n",
            "text/latex": "A matrix: 6 × 4 of type dbl\n\\begin{tabular}{llll}\n\t 1 & 1 & 1 & 0\\\\\n\t 1 & 1 & 0 & 1\\\\\n\t 1 & 1 & 0 & 0\\\\\n\t 1 & 0 & 1 & 0\\\\\n\t 1 & 0 & 0 & 1\\\\\n\t 1 & 0 & 0 & 0\\\\\n\\end{tabular}\n",
            "text/plain": [
              "     [,1] [,2] [,3] [,4]\n",
              "[1,] 1    1    1    0   \n",
              "[2,] 1    1    0    1   \n",
              "[3,] 1    1    0    0   \n",
              "[4,] 1    0    1    0   \n",
              "[5,] 1    0    0    1   \n",
              "[6,] 1    0    0    0   "
            ]
          },
          "metadata": {}
        }
      ]
    },
    {
      "cell_type": "markdown",
      "source": [
        "+ 2열 + 3열 = 1열 / 4열 + 5열 + 6열 = 1열 : 선형종속적\n",
        "\n"
      ],
      "metadata": {
        "id": "RALa4s_T2T9U"
      }
    },
    {
      "cell_type": "markdown",
      "source": [
        "#### (c) 결측값 대치\n",
        "+ k-근접 이웃(KNN) 이용\n",
        "+ 예제 7."
      ],
      "metadata": {
        "id": "Wo6C4Qgc2XLt"
      }
    },
    {
      "cell_type": "code",
      "source": [
        "data(airquality)\n",
        "summary(airquality)  # 결측값 개수 확인"
      ],
      "metadata": {
        "colab": {
          "base_uri": "https://localhost:8080/",
          "height": 303
        },
        "id": "KZvbiabY2C21",
        "outputId": "8861ad10-8e80-4846-c0f0-9a925d412e9f"
      },
      "execution_count": 18,
      "outputs": [
        {
          "output_type": "display_data",
          "data": {
            "text/plain": [
              "     Ozone           Solar.R           Wind             Temp      \n",
              " Min.   :  1.00   Min.   :  7.0   Min.   : 1.700   Min.   :56.00  \n",
              " 1st Qu.: 18.00   1st Qu.:115.8   1st Qu.: 7.400   1st Qu.:72.00  \n",
              " Median : 31.50   Median :205.0   Median : 9.700   Median :79.00  \n",
              " Mean   : 42.13   Mean   :185.9   Mean   : 9.958   Mean   :77.88  \n",
              " 3rd Qu.: 63.25   3rd Qu.:258.8   3rd Qu.:11.500   3rd Qu.:85.00  \n",
              " Max.   :168.00   Max.   :334.0   Max.   :20.700   Max.   :97.00  \n",
              " NA's   :37       NA's   :7                                       \n",
              "     Month            Day      \n",
              " Min.   :5.000   Min.   : 1.0  \n",
              " 1st Qu.:6.000   1st Qu.: 8.0  \n",
              " Median :7.000   Median :16.0  \n",
              " Mean   :6.993   Mean   :15.8  \n",
              " 3rd Qu.:8.000   3rd Qu.:23.0  \n",
              " Max.   :9.000   Max.   :31.0  \n",
              "                               "
            ]
          },
          "metadata": {}
        }
      ]
    },
    {
      "cell_type": "code",
      "source": [
        "imp.1 = preProcess(airquality, method = c(\"knnImpute\"))\n",
        "install.packages(\"RANN\")\n",
        "library(RANN)\n",
        "imp.2 = predict(imp.1, airquality)  # predict() : 대치된 값 확인\n",
        "summary(airquality)"
      ],
      "metadata": {
        "colab": {
          "base_uri": "https://localhost:8080/",
          "height": 356
        },
        "id": "iP95vCmB2C0Z",
        "outputId": "fa27e355-b0a6-46db-abdb-0284d3b57fea"
      },
      "execution_count": 19,
      "outputs": [
        {
          "output_type": "stream",
          "name": "stderr",
          "text": [
            "Installing package into ‘/usr/local/lib/R/site-library’\n",
            "(as ‘lib’ is unspecified)\n",
            "\n"
          ]
        },
        {
          "output_type": "display_data",
          "data": {
            "text/plain": [
              "     Ozone           Solar.R           Wind             Temp      \n",
              " Min.   :  1.00   Min.   :  7.0   Min.   : 1.700   Min.   :56.00  \n",
              " 1st Qu.: 18.00   1st Qu.:115.8   1st Qu.: 7.400   1st Qu.:72.00  \n",
              " Median : 31.50   Median :205.0   Median : 9.700   Median :79.00  \n",
              " Mean   : 42.13   Mean   :185.9   Mean   : 9.958   Mean   :77.88  \n",
              " 3rd Qu.: 63.25   3rd Qu.:258.8   3rd Qu.:11.500   3rd Qu.:85.00  \n",
              " Max.   :168.00   Max.   :334.0   Max.   :20.700   Max.   :97.00  \n",
              " NA's   :37       NA's   :7                                       \n",
              "     Month            Day      \n",
              " Min.   :5.000   Min.   : 1.0  \n",
              " 1st Qu.:6.000   1st Qu.: 8.0  \n",
              " Median :7.000   Median :16.0  \n",
              " Mean   :6.993   Mean   :15.8  \n",
              " 3rd Qu.:8.000   3rd Qu.:23.0  \n",
              " Max.   :9.000   Max.   :31.0  \n",
              "                               "
            ]
          },
          "metadata": {}
        }
      ]
    },
    {
      "cell_type": "markdown",
      "source": [
        "#### (d) 군집거리 계산\n",
        "+ 각 군집중심까지의 마할라노비스 거리가 계산\n",
        "+ classDist() 함수 : 군집 내에서 주성분분석 수행하여 공분산행렬 문제 해결\n",
        "+ predict.classDist() 함수 : 군집거리 생성하는 데 사용\n",
        "+ 예제 8."
      ],
      "metadata": {
        "id": "-rTKOO2D2dx7"
      }
    },
    {
      "cell_type": "code",
      "source": [
        "# 훈련용자료로부터 군집중심과 공분산행렬 계산\n",
        "trainSet = sample(1:150, 100)\n",
        "distData = classDist(iris[trainSet, 1:4], iris$Species[trainSet])\n",
        "distData$values"
      ],
      "metadata": {
        "colab": {
          "base_uri": "https://localhost:8080/",
          "height": 849
        },
        "id": "_ACbVEdq2cGo",
        "outputId": "a3b00f15-2802-463c-a3f3-929e7faba987"
      },
      "execution_count": 20,
      "outputs": [
        {
          "output_type": "display_data",
          "data": {
            "text/html": [
              "<dl>\n",
              "\t<dt>$setosa</dt>\n",
              "\t\t<dd><dl>\n",
              "\t<dt>$means</dt>\n",
              "\t\t<dd><style>\n",
              ".dl-inline {width: auto; margin:0; padding: 0}\n",
              ".dl-inline>dt, .dl-inline>dd {float: none; width: auto; display: inline-block}\n",
              ".dl-inline>dt::after {content: \":\\0020\"; padding-right: .5ex}\n",
              ".dl-inline>dt:not(:first-of-type) {padding-left: .5ex}\n",
              "</style><dl class=dl-inline><dt>Sepal.Length</dt><dd>4.95588235294118</dd><dt>Sepal.Width</dt><dd>3.42941176470588</dd><dt>Petal.Length</dt><dd>1.46470588235294</dd><dt>Petal.Width</dt><dd>0.238235294117647</dd></dl>\n",
              "</dd>\n",
              "\t<dt>$A</dt>\n",
              "\t\t<dd><table class=\"dataframe\">\n",
              "<caption>A matrix: 4 × 4 of type dbl</caption>\n",
              "<thead>\n",
              "\t<tr><th></th><th scope=col>Sepal.Length</th><th scope=col>Sepal.Width</th><th scope=col>Petal.Length</th><th scope=col>Petal.Width</th></tr>\n",
              "</thead>\n",
              "<tbody>\n",
              "\t<tr><th scope=row>Sepal.Length</th><td> 20.2608477</td><td>-13.658011</td><td> -7.699669</td><td> -0.7552542</td></tr>\n",
              "\t<tr><th scope=row>Sepal.Width</th><td>-13.6580115</td><td> 17.586335</td><td>  4.274466</td><td> -8.9586461</td></tr>\n",
              "\t<tr><th scope=row>Petal.Length</th><td> -7.6996694</td><td>  4.274466</td><td> 32.654508</td><td>-16.0113441</td></tr>\n",
              "\t<tr><th scope=row>Petal.Width</th><td> -0.7552542</td><td> -8.958646</td><td>-16.011344</td><td> 99.3825581</td></tr>\n",
              "</tbody>\n",
              "</table>\n",
              "</dd>\n",
              "</dl>\n",
              "</dd>\n",
              "\t<dt>$versicolor</dt>\n",
              "\t\t<dd><dl>\n",
              "\t<dt>$means</dt>\n",
              "\t\t<dd><style>\n",
              ".dl-inline {width: auto; margin:0; padding: 0}\n",
              ".dl-inline>dt, .dl-inline>dd {float: none; width: auto; display: inline-block}\n",
              ".dl-inline>dt::after {content: \":\\0020\"; padding-right: .5ex}\n",
              ".dl-inline>dt:not(:first-of-type) {padding-left: .5ex}\n",
              "</style><dl class=dl-inline><dt>Sepal.Length</dt><dd>5.82424242424242</dd><dt>Sepal.Width</dt><dd>2.78484848484848</dd><dt>Petal.Length</dt><dd>4.22121212121212</dd><dt>Petal.Width</dt><dd>1.35454545454545</dd></dl>\n",
              "</dd>\n",
              "\t<dt>$A</dt>\n",
              "\t\t<dd><table class=\"dataframe\">\n",
              "<caption>A matrix: 4 × 4 of type dbl</caption>\n",
              "<thead>\n",
              "\t<tr><th></th><th scope=col>Sepal.Length</th><th scope=col>Sepal.Width</th><th scope=col>Petal.Length</th><th scope=col>Petal.Width</th></tr>\n",
              "</thead>\n",
              "<tbody>\n",
              "\t<tr><th scope=row>Sepal.Length</th><td>12.388139</td><td> -2.185631</td><td> -8.637163</td><td>  3.528737</td></tr>\n",
              "\t<tr><th scope=row>Sepal.Width</th><td>-2.185631</td><td> 20.195145</td><td>  1.031926</td><td>-15.217328</td></tr>\n",
              "\t<tr><th scope=row>Petal.Length</th><td>-8.637163</td><td>  1.031926</td><td> 21.414366</td><td>-36.108266</td></tr>\n",
              "\t<tr><th scope=row>Petal.Width</th><td> 3.528737</td><td>-15.217328</td><td>-36.108266</td><td>113.155926</td></tr>\n",
              "</tbody>\n",
              "</table>\n",
              "</dd>\n",
              "</dl>\n",
              "</dd>\n",
              "\t<dt>$virginica</dt>\n",
              "\t\t<dd><dl>\n",
              "\t<dt>$means</dt>\n",
              "\t\t<dd><style>\n",
              ".dl-inline {width: auto; margin:0; padding: 0}\n",
              ".dl-inline>dt, .dl-inline>dd {float: none; width: auto; display: inline-block}\n",
              ".dl-inline>dt::after {content: \":\\0020\"; padding-right: .5ex}\n",
              ".dl-inline>dt:not(:first-of-type) {padding-left: .5ex}\n",
              "</style><dl class=dl-inline><dt>Sepal.Length</dt><dd>6.62424242424242</dd><dt>Sepal.Width</dt><dd>2.98484848484848</dd><dt>Petal.Length</dt><dd>5.58484848484848</dd><dt>Petal.Width</dt><dd>2.04242424242424</dd></dl>\n",
              "</dd>\n",
              "\t<dt>$A</dt>\n",
              "\t\t<dd><table class=\"dataframe\">\n",
              "<caption>A matrix: 4 × 4 of type dbl</caption>\n",
              "<thead>\n",
              "\t<tr><th></th><th scope=col>Sepal.Length</th><th scope=col>Sepal.Width</th><th scope=col>Petal.Length</th><th scope=col>Petal.Width</th></tr>\n",
              "</thead>\n",
              "<tbody>\n",
              "\t<tr><th scope=row>Sepal.Length</th><td> 14.009600</td><td>-4.911715</td><td>-13.283931</td><td> 2.134639</td></tr>\n",
              "\t<tr><th scope=row>Sepal.Width</th><td> -4.911715</td><td>14.629276</td><td>  3.871407</td><td>-7.476280</td></tr>\n",
              "\t<tr><th scope=row>Petal.Length</th><td>-13.283931</td><td> 3.871407</td><td> 15.829162</td><td>-3.040134</td></tr>\n",
              "\t<tr><th scope=row>Petal.Width</th><td>  2.134639</td><td>-7.476280</td><td> -3.040134</td><td>19.850390</td></tr>\n",
              "</tbody>\n",
              "</table>\n",
              "</dd>\n",
              "</dl>\n",
              "</dd>\n",
              "</dl>\n"
            ],
            "text/markdown": "$setosa\n:   $means\n:   Sepal.Length\n:   4.95588235294118Sepal.Width\n:   3.42941176470588Petal.Length\n:   1.46470588235294Petal.Width\n:   0.238235294117647\n\n\n$A\n:   \nA matrix: 4 × 4 of type dbl\n\n| <!--/--> | Sepal.Length | Sepal.Width | Petal.Length | Petal.Width |\n|---|---|---|---|---|\n| Sepal.Length |  20.2608477 | -13.658011 |  -7.699669 |  -0.7552542 |\n| Sepal.Width | -13.6580115 |  17.586335 |   4.274466 |  -8.9586461 |\n| Petal.Length |  -7.6996694 |   4.274466 |  32.654508 | -16.0113441 |\n| Petal.Width |  -0.7552542 |  -8.958646 | -16.011344 |  99.3825581 |\n\n\n\n\n\n$versicolor\n:   $means\n:   Sepal.Length\n:   5.82424242424242Sepal.Width\n:   2.78484848484848Petal.Length\n:   4.22121212121212Petal.Width\n:   1.35454545454545\n\n\n$A\n:   \nA matrix: 4 × 4 of type dbl\n\n| <!--/--> | Sepal.Length | Sepal.Width | Petal.Length | Petal.Width |\n|---|---|---|---|---|\n| Sepal.Length | 12.388139 |  -2.185631 |  -8.637163 |   3.528737 |\n| Sepal.Width | -2.185631 |  20.195145 |   1.031926 | -15.217328 |\n| Petal.Length | -8.637163 |   1.031926 |  21.414366 | -36.108266 |\n| Petal.Width |  3.528737 | -15.217328 | -36.108266 | 113.155926 |\n\n\n\n\n\n$virginica\n:   $means\n:   Sepal.Length\n:   6.62424242424242Sepal.Width\n:   2.98484848484848Petal.Length\n:   5.58484848484848Petal.Width\n:   2.04242424242424\n\n\n$A\n:   \nA matrix: 4 × 4 of type dbl\n\n| <!--/--> | Sepal.Length | Sepal.Width | Petal.Length | Petal.Width |\n|---|---|---|---|---|\n| Sepal.Length |  14.009600 | -4.911715 | -13.283931 |  2.134639 |\n| Sepal.Width |  -4.911715 | 14.629276 |   3.871407 | -7.476280 |\n| Petal.Length | -13.283931 |  3.871407 |  15.829162 | -3.040134 |\n| Petal.Width |   2.134639 | -7.476280 |  -3.040134 | 19.850390 |\n\n\n\n\n\n\n\n",
            "text/latex": "\\begin{description}\n\\item[\\$setosa] \\begin{description}\n\\item[\\$means] \\begin{description*}\n\\item[Sepal.Length] 4.95588235294118\n\\item[Sepal.Width] 3.42941176470588\n\\item[Petal.Length] 1.46470588235294\n\\item[Petal.Width] 0.238235294117647\n\\end{description*}\n\n\\item[\\$A] A matrix: 4 × 4 of type dbl\n\\begin{tabular}{r|llll}\n  & Sepal.Length & Sepal.Width & Petal.Length & Petal.Width\\\\\n\\hline\n\tSepal.Length &  20.2608477 & -13.658011 &  -7.699669 &  -0.7552542\\\\\n\tSepal.Width & -13.6580115 &  17.586335 &   4.274466 &  -8.9586461\\\\\n\tPetal.Length &  -7.6996694 &   4.274466 &  32.654508 & -16.0113441\\\\\n\tPetal.Width &  -0.7552542 &  -8.958646 & -16.011344 &  99.3825581\\\\\n\\end{tabular}\n\n\\end{description}\n\n\\item[\\$versicolor] \\begin{description}\n\\item[\\$means] \\begin{description*}\n\\item[Sepal.Length] 5.82424242424242\n\\item[Sepal.Width] 2.78484848484848\n\\item[Petal.Length] 4.22121212121212\n\\item[Petal.Width] 1.35454545454545\n\\end{description*}\n\n\\item[\\$A] A matrix: 4 × 4 of type dbl\n\\begin{tabular}{r|llll}\n  & Sepal.Length & Sepal.Width & Petal.Length & Petal.Width\\\\\n\\hline\n\tSepal.Length & 12.388139 &  -2.185631 &  -8.637163 &   3.528737\\\\\n\tSepal.Width & -2.185631 &  20.195145 &   1.031926 & -15.217328\\\\\n\tPetal.Length & -8.637163 &   1.031926 &  21.414366 & -36.108266\\\\\n\tPetal.Width &  3.528737 & -15.217328 & -36.108266 & 113.155926\\\\\n\\end{tabular}\n\n\\end{description}\n\n\\item[\\$virginica] \\begin{description}\n\\item[\\$means] \\begin{description*}\n\\item[Sepal.Length] 6.62424242424242\n\\item[Sepal.Width] 2.98484848484848\n\\item[Petal.Length] 5.58484848484848\n\\item[Petal.Width] 2.04242424242424\n\\end{description*}\n\n\\item[\\$A] A matrix: 4 × 4 of type dbl\n\\begin{tabular}{r|llll}\n  & Sepal.Length & Sepal.Width & Petal.Length & Petal.Width\\\\\n\\hline\n\tSepal.Length &  14.009600 & -4.911715 & -13.283931 &  2.134639\\\\\n\tSepal.Width &  -4.911715 & 14.629276 &   3.871407 & -7.476280\\\\\n\tPetal.Length & -13.283931 &  3.871407 &  15.829162 & -3.040134\\\\\n\tPetal.Width &   2.134639 & -7.476280 &  -3.040134 & 19.850390\\\\\n\\end{tabular}\n\n\\end{description}\n\n\\end{description}\n",
            "text/plain": [
              "$setosa\n",
              "$setosa$means\n",
              "Sepal.Length  Sepal.Width Petal.Length  Petal.Width \n",
              "   4.9558824    3.4294118    1.4647059    0.2382353 \n",
              "\n",
              "$setosa$A\n",
              "             Sepal.Length Sepal.Width Petal.Length Petal.Width\n",
              "Sepal.Length   20.2608477  -13.658011    -7.699669  -0.7552542\n",
              "Sepal.Width   -13.6580115   17.586335     4.274466  -8.9586461\n",
              "Petal.Length   -7.6996694    4.274466    32.654508 -16.0113441\n",
              "Petal.Width    -0.7552542   -8.958646   -16.011344  99.3825581\n",
              "\n",
              "\n",
              "$versicolor\n",
              "$versicolor$means\n",
              "Sepal.Length  Sepal.Width Petal.Length  Petal.Width \n",
              "    5.824242     2.784848     4.221212     1.354545 \n",
              "\n",
              "$versicolor$A\n",
              "             Sepal.Length Sepal.Width Petal.Length Petal.Width\n",
              "Sepal.Length    12.388139   -2.185631    -8.637163    3.528737\n",
              "Sepal.Width     -2.185631   20.195145     1.031926  -15.217328\n",
              "Petal.Length    -8.637163    1.031926    21.414366  -36.108266\n",
              "Petal.Width      3.528737  -15.217328   -36.108266  113.155926\n",
              "\n",
              "\n",
              "$virginica\n",
              "$virginica$means\n",
              "Sepal.Length  Sepal.Width Petal.Length  Petal.Width \n",
              "    6.624242     2.984848     5.584848     2.042424 \n",
              "\n",
              "$virginica$A\n",
              "             Sepal.Length Sepal.Width Petal.Length Petal.Width\n",
              "Sepal.Length    14.009600   -4.911715   -13.283931    2.134639\n",
              "Sepal.Width     -4.911715   14.629276     3.871407   -7.476280\n",
              "Petal.Length   -13.283931    3.871407    15.829162   -3.040134\n",
              "Petal.Width      2.134639   -7.476280    -3.040134   19.850390\n",
              "\n"
            ]
          },
          "metadata": {}
        }
      ]
    },
    {
      "cell_type": "code",
      "source": [
        "# 제외된(검증용) 자료에 대해 군집중심까지의 마할라노비스 거리 계산\n",
        "newDist = predict(distData, iris[-trainSet, 1:4])\n",
        "newDist"
      ],
      "metadata": {
        "colab": {
          "base_uri": "https://localhost:8080/",
          "height": 1000
        },
        "id": "kbbXWWAq2cC4",
        "outputId": "1a68c10a-beb6-45bf-9819-c7a2715ce5dc"
      },
      "execution_count": 21,
      "outputs": [
        {
          "output_type": "display_data",
          "data": {
            "text/html": [
              "<table class=\"dataframe\">\n",
              "<caption>A matrix: 50 × 3 of type dbl</caption>\n",
              "<thead>\n",
              "\t<tr><th></th><th scope=col>dist.setosa</th><th scope=col>dist.versicolor</th><th scope=col>dist.virginica</th></tr>\n",
              "</thead>\n",
              "<tbody>\n",
              "\t<tr><th scope=row>1</th><td>-0.519901195</td><td>4.5717425</td><td>5.20335944</td></tr>\n",
              "\t<tr><th scope=row>2</th><td> 1.007168029</td><td>4.2081656</td><td>5.08395902</td></tr>\n",
              "\t<tr><th scope=row>15</th><td> 2.459942067</td><td>5.0651726</td><td>5.55830921</td></tr>\n",
              "\t<tr><th scope=row>18</th><td>-0.119479566</td><td>4.4931370</td><td>5.16985682</td></tr>\n",
              "\t<tr><th scope=row>19</th><td> 1.685006934</td><td>4.7389994</td><td>5.27450103</td></tr>\n",
              "\t<tr><th scope=row>20</th><td> 0.290483717</td><td>4.6627160</td><td>5.17595398</td></tr>\n",
              "\t<tr><th scope=row>22</th><td> 0.826596195</td><td>4.5291732</td><td>5.12295943</td></tr>\n",
              "\t<tr><th scope=row>27</th><td> 0.930639856</td><td>4.2569461</td><td>4.99740588</td></tr>\n",
              "\t<tr><th scope=row>28</th><td> 0.004583052</td><td>4.5693658</td><td>5.19178910</td></tr>\n",
              "\t<tr><th scope=row>29</th><td> 0.628610532</td><td>4.5314912</td><td>5.22198927</td></tr>\n",
              "\t<tr><th scope=row>30</th><td> 0.502678205</td><td>4.2653920</td><td>4.95172750</td></tr>\n",
              "\t<tr><th scope=row>32</th><td> 1.879957804</td><td>4.4120266</td><td>5.18278706</td></tr>\n",
              "\t<tr><th scope=row>38</th><td> 1.045783608</td><td>4.6982092</td><td>5.19749939</td></tr>\n",
              "\t<tr><th scope=row>42</th><td> 2.766074475</td><td>3.6930675</td><td>4.94263413</td></tr>\n",
              "\t<tr><th scope=row>46</th><td> 1.138625025</td><td>4.0890187</td><td>5.01524658</td></tr>\n",
              "\t<tr><th scope=row>49</th><td> 0.386892111</td><td>4.7147506</td><td>5.25167061</td></tr>\n",
              "\t<tr><th scope=row>51</th><td> 5.849235514</td><td>2.5283032</td><td>3.31004461</td></tr>\n",
              "\t<tr><th scope=row>53</th><td> 5.971219903</td><td>2.0185570</td><td>2.81273753</td></tr>\n",
              "\t<tr><th scope=row>59</th><td> 5.780032705</td><td>1.9657536</td><td>3.04878784</td></tr>\n",
              "\t<tr><th scope=row>61</th><td> 5.160148487</td><td>2.2426207</td><td>3.41454812</td></tr>\n",
              "\t<tr><th scope=row>63</th><td> 5.470672259</td><td>2.4454499</td><td>3.55057497</td></tr>\n",
              "\t<tr><th scope=row>66</th><td> 5.711131077</td><td>2.0653913</td><td>3.33938240</td></tr>\n",
              "\t<tr><th scope=row>68</th><td> 5.389397216</td><td>2.3697144</td><td>3.23650597</td></tr>\n",
              "\t<tr><th scope=row>70</th><td> 5.348156417</td><td>1.0150873</td><td>3.17529631</td></tr>\n",
              "\t<tr><th scope=row>74</th><td> 5.774609988</td><td>2.4325955</td><td>2.62800310</td></tr>\n",
              "\t<tr><th scope=row>76</th><td> 5.718807183</td><td>1.7275016</td><td>3.22332234</td></tr>\n",
              "\t<tr><th scope=row>77</th><td> 5.935123978</td><td>2.0537075</td><td>2.92635820</td></tr>\n",
              "\t<tr><th scope=row>82</th><td> 5.199934975</td><td>1.5255308</td><td>3.40902991</td></tr>\n",
              "\t<tr><th scope=row>86</th><td> 5.782980555</td><td>1.8419413</td><td>2.53124827</td></tr>\n",
              "\t<tr><th scope=row>87</th><td> 5.876757531</td><td>1.6382770</td><td>2.84809815</td></tr>\n",
              "\t<tr><th scope=row>88</th><td> 5.781741766</td><td>2.0345626</td><td>3.15567753</td></tr>\n",
              "\t<tr><th scope=row>90</th><td> 5.505963242</td><td>0.4659018</td><td>2.78072681</td></tr>\n",
              "\t<tr><th scope=row>91</th><td> 5.639755980</td><td>2.0189520</td><td>2.58024257</td></tr>\n",
              "\t<tr><th scope=row>101</th><td> 6.678337493</td><td>3.8986103</td><td>2.43874667</td></tr>\n",
              "\t<tr><th scope=row>104</th><td> 6.332051066</td><td>2.3582125</td><td>0.97421547</td></tr>\n",
              "\t<tr><th scope=row>105</th><td> 6.529480545</td><td>3.2023221</td><td>0.62793286</td></tr>\n",
              "\t<tr><th scope=row>107</th><td> 5.960793887</td><td>3.1909653</td><td>2.30158820</td></tr>\n",
              "\t<tr><th scope=row>116</th><td> 6.418313079</td><td>3.7147021</td><td>0.50456845</td></tr>\n",
              "\t<tr><th scope=row>117</th><td> 6.290818850</td><td>1.9655626</td><td>0.25237447</td></tr>\n",
              "\t<tr><th scope=row>118</th><td> 6.745231941</td><td>3.3009385</td><td>2.34160974</td></tr>\n",
              "\t<tr><th scope=row>120</th><td> 6.084594086</td><td>2.6676583</td><td>2.06916746</td></tr>\n",
              "\t<tr><th scope=row>121</th><td> 6.530273249</td><td>3.4623953</td><td>0.28444141</td></tr>\n",
              "\t<tr><th scope=row>124</th><td> 6.116814884</td><td>2.3569415</td><td>1.44639753</td></tr>\n",
              "\t<tr><th scope=row>129</th><td> 6.450659017</td><td>3.1114449</td><td>0.03331579</td></tr>\n",
              "\t<tr><th scope=row>130</th><td> 6.364246442</td><td>2.9576983</td><td>1.70577874</td></tr>\n",
              "\t<tr><th scope=row>134</th><td> 6.055427435</td><td>1.7412348</td><td>1.63224015</td></tr>\n",
              "\t<tr><th scope=row>136</th><td> 6.685188745</td><td>3.6243108</td><td>1.97804276</td></tr>\n",
              "\t<tr><th scope=row>140</th><td> 6.377012757</td><td>3.0638128</td><td>1.02131491</td></tr>\n",
              "\t<tr><th scope=row>143</th><td> 6.220233835</td><td>2.8484320</td><td>0.89559738</td></tr>\n",
              "\t<tr><th scope=row>146</th><td> 6.418666396</td><td>3.9065479</td><td>1.62747728</td></tr>\n",
              "</tbody>\n",
              "</table>\n"
            ],
            "text/markdown": "\nA matrix: 50 × 3 of type dbl\n\n| <!--/--> | dist.setosa | dist.versicolor | dist.virginica |\n|---|---|---|---|\n| 1 | -0.519901195 | 4.5717425 | 5.20335944 |\n| 2 |  1.007168029 | 4.2081656 | 5.08395902 |\n| 15 |  2.459942067 | 5.0651726 | 5.55830921 |\n| 18 | -0.119479566 | 4.4931370 | 5.16985682 |\n| 19 |  1.685006934 | 4.7389994 | 5.27450103 |\n| 20 |  0.290483717 | 4.6627160 | 5.17595398 |\n| 22 |  0.826596195 | 4.5291732 | 5.12295943 |\n| 27 |  0.930639856 | 4.2569461 | 4.99740588 |\n| 28 |  0.004583052 | 4.5693658 | 5.19178910 |\n| 29 |  0.628610532 | 4.5314912 | 5.22198927 |\n| 30 |  0.502678205 | 4.2653920 | 4.95172750 |\n| 32 |  1.879957804 | 4.4120266 | 5.18278706 |\n| 38 |  1.045783608 | 4.6982092 | 5.19749939 |\n| 42 |  2.766074475 | 3.6930675 | 4.94263413 |\n| 46 |  1.138625025 | 4.0890187 | 5.01524658 |\n| 49 |  0.386892111 | 4.7147506 | 5.25167061 |\n| 51 |  5.849235514 | 2.5283032 | 3.31004461 |\n| 53 |  5.971219903 | 2.0185570 | 2.81273753 |\n| 59 |  5.780032705 | 1.9657536 | 3.04878784 |\n| 61 |  5.160148487 | 2.2426207 | 3.41454812 |\n| 63 |  5.470672259 | 2.4454499 | 3.55057497 |\n| 66 |  5.711131077 | 2.0653913 | 3.33938240 |\n| 68 |  5.389397216 | 2.3697144 | 3.23650597 |\n| 70 |  5.348156417 | 1.0150873 | 3.17529631 |\n| 74 |  5.774609988 | 2.4325955 | 2.62800310 |\n| 76 |  5.718807183 | 1.7275016 | 3.22332234 |\n| 77 |  5.935123978 | 2.0537075 | 2.92635820 |\n| 82 |  5.199934975 | 1.5255308 | 3.40902991 |\n| 86 |  5.782980555 | 1.8419413 | 2.53124827 |\n| 87 |  5.876757531 | 1.6382770 | 2.84809815 |\n| 88 |  5.781741766 | 2.0345626 | 3.15567753 |\n| 90 |  5.505963242 | 0.4659018 | 2.78072681 |\n| 91 |  5.639755980 | 2.0189520 | 2.58024257 |\n| 101 |  6.678337493 | 3.8986103 | 2.43874667 |\n| 104 |  6.332051066 | 2.3582125 | 0.97421547 |\n| 105 |  6.529480545 | 3.2023221 | 0.62793286 |\n| 107 |  5.960793887 | 3.1909653 | 2.30158820 |\n| 116 |  6.418313079 | 3.7147021 | 0.50456845 |\n| 117 |  6.290818850 | 1.9655626 | 0.25237447 |\n| 118 |  6.745231941 | 3.3009385 | 2.34160974 |\n| 120 |  6.084594086 | 2.6676583 | 2.06916746 |\n| 121 |  6.530273249 | 3.4623953 | 0.28444141 |\n| 124 |  6.116814884 | 2.3569415 | 1.44639753 |\n| 129 |  6.450659017 | 3.1114449 | 0.03331579 |\n| 130 |  6.364246442 | 2.9576983 | 1.70577874 |\n| 134 |  6.055427435 | 1.7412348 | 1.63224015 |\n| 136 |  6.685188745 | 3.6243108 | 1.97804276 |\n| 140 |  6.377012757 | 3.0638128 | 1.02131491 |\n| 143 |  6.220233835 | 2.8484320 | 0.89559738 |\n| 146 |  6.418666396 | 3.9065479 | 1.62747728 |\n\n",
            "text/latex": "A matrix: 50 × 3 of type dbl\n\\begin{tabular}{r|lll}\n  & dist.setosa & dist.versicolor & dist.virginica\\\\\n\\hline\n\t1 & -0.519901195 & 4.5717425 & 5.20335944\\\\\n\t2 &  1.007168029 & 4.2081656 & 5.08395902\\\\\n\t15 &  2.459942067 & 5.0651726 & 5.55830921\\\\\n\t18 & -0.119479566 & 4.4931370 & 5.16985682\\\\\n\t19 &  1.685006934 & 4.7389994 & 5.27450103\\\\\n\t20 &  0.290483717 & 4.6627160 & 5.17595398\\\\\n\t22 &  0.826596195 & 4.5291732 & 5.12295943\\\\\n\t27 &  0.930639856 & 4.2569461 & 4.99740588\\\\\n\t28 &  0.004583052 & 4.5693658 & 5.19178910\\\\\n\t29 &  0.628610532 & 4.5314912 & 5.22198927\\\\\n\t30 &  0.502678205 & 4.2653920 & 4.95172750\\\\\n\t32 &  1.879957804 & 4.4120266 & 5.18278706\\\\\n\t38 &  1.045783608 & 4.6982092 & 5.19749939\\\\\n\t42 &  2.766074475 & 3.6930675 & 4.94263413\\\\\n\t46 &  1.138625025 & 4.0890187 & 5.01524658\\\\\n\t49 &  0.386892111 & 4.7147506 & 5.25167061\\\\\n\t51 &  5.849235514 & 2.5283032 & 3.31004461\\\\\n\t53 &  5.971219903 & 2.0185570 & 2.81273753\\\\\n\t59 &  5.780032705 & 1.9657536 & 3.04878784\\\\\n\t61 &  5.160148487 & 2.2426207 & 3.41454812\\\\\n\t63 &  5.470672259 & 2.4454499 & 3.55057497\\\\\n\t66 &  5.711131077 & 2.0653913 & 3.33938240\\\\\n\t68 &  5.389397216 & 2.3697144 & 3.23650597\\\\\n\t70 &  5.348156417 & 1.0150873 & 3.17529631\\\\\n\t74 &  5.774609988 & 2.4325955 & 2.62800310\\\\\n\t76 &  5.718807183 & 1.7275016 & 3.22332234\\\\\n\t77 &  5.935123978 & 2.0537075 & 2.92635820\\\\\n\t82 &  5.199934975 & 1.5255308 & 3.40902991\\\\\n\t86 &  5.782980555 & 1.8419413 & 2.53124827\\\\\n\t87 &  5.876757531 & 1.6382770 & 2.84809815\\\\\n\t88 &  5.781741766 & 2.0345626 & 3.15567753\\\\\n\t90 &  5.505963242 & 0.4659018 & 2.78072681\\\\\n\t91 &  5.639755980 & 2.0189520 & 2.58024257\\\\\n\t101 &  6.678337493 & 3.8986103 & 2.43874667\\\\\n\t104 &  6.332051066 & 2.3582125 & 0.97421547\\\\\n\t105 &  6.529480545 & 3.2023221 & 0.62793286\\\\\n\t107 &  5.960793887 & 3.1909653 & 2.30158820\\\\\n\t116 &  6.418313079 & 3.7147021 & 0.50456845\\\\\n\t117 &  6.290818850 & 1.9655626 & 0.25237447\\\\\n\t118 &  6.745231941 & 3.3009385 & 2.34160974\\\\\n\t120 &  6.084594086 & 2.6676583 & 2.06916746\\\\\n\t121 &  6.530273249 & 3.4623953 & 0.28444141\\\\\n\t124 &  6.116814884 & 2.3569415 & 1.44639753\\\\\n\t129 &  6.450659017 & 3.1114449 & 0.03331579\\\\\n\t130 &  6.364246442 & 2.9576983 & 1.70577874\\\\\n\t134 &  6.055427435 & 1.7412348 & 1.63224015\\\\\n\t136 &  6.685188745 & 3.6243108 & 1.97804276\\\\\n\t140 &  6.377012757 & 3.0638128 & 1.02131491\\\\\n\t143 &  6.220233835 & 2.8484320 & 0.89559738\\\\\n\t146 &  6.418666396 & 3.9065479 & 1.62747728\\\\\n\\end{tabular}\n",
            "text/plain": [
              "    dist.setosa  dist.versicolor dist.virginica\n",
              "1   -0.519901195 4.5717425       5.20335944    \n",
              "2    1.007168029 4.2081656       5.08395902    \n",
              "15   2.459942067 5.0651726       5.55830921    \n",
              "18  -0.119479566 4.4931370       5.16985682    \n",
              "19   1.685006934 4.7389994       5.27450103    \n",
              "20   0.290483717 4.6627160       5.17595398    \n",
              "22   0.826596195 4.5291732       5.12295943    \n",
              "27   0.930639856 4.2569461       4.99740588    \n",
              "28   0.004583052 4.5693658       5.19178910    \n",
              "29   0.628610532 4.5314912       5.22198927    \n",
              "30   0.502678205 4.2653920       4.95172750    \n",
              "32   1.879957804 4.4120266       5.18278706    \n",
              "38   1.045783608 4.6982092       5.19749939    \n",
              "42   2.766074475 3.6930675       4.94263413    \n",
              "46   1.138625025 4.0890187       5.01524658    \n",
              "49   0.386892111 4.7147506       5.25167061    \n",
              "51   5.849235514 2.5283032       3.31004461    \n",
              "53   5.971219903 2.0185570       2.81273753    \n",
              "59   5.780032705 1.9657536       3.04878784    \n",
              "61   5.160148487 2.2426207       3.41454812    \n",
              "63   5.470672259 2.4454499       3.55057497    \n",
              "66   5.711131077 2.0653913       3.33938240    \n",
              "68   5.389397216 2.3697144       3.23650597    \n",
              "70   5.348156417 1.0150873       3.17529631    \n",
              "74   5.774609988 2.4325955       2.62800310    \n",
              "76   5.718807183 1.7275016       3.22332234    \n",
              "77   5.935123978 2.0537075       2.92635820    \n",
              "82   5.199934975 1.5255308       3.40902991    \n",
              "86   5.782980555 1.8419413       2.53124827    \n",
              "87   5.876757531 1.6382770       2.84809815    \n",
              "88   5.781741766 2.0345626       3.15567753    \n",
              "90   5.505963242 0.4659018       2.78072681    \n",
              "91   5.639755980 2.0189520       2.58024257    \n",
              "101  6.678337493 3.8986103       2.43874667    \n",
              "104  6.332051066 2.3582125       0.97421547    \n",
              "105  6.529480545 3.2023221       0.62793286    \n",
              "107  5.960793887 3.1909653       2.30158820    \n",
              "116  6.418313079 3.7147021       0.50456845    \n",
              "117  6.290818850 1.9655626       0.25237447    \n",
              "118  6.745231941 3.3009385       2.34160974    \n",
              "120  6.084594086 2.6676583       2.06916746    \n",
              "121  6.530273249 3.4623953       0.28444141    \n",
              "124  6.116814884 2.3569415       1.44639753    \n",
              "129  6.450659017 3.1114449       0.03331579    \n",
              "130  6.364246442 2.9576983       1.70577874    \n",
              "134  6.055427435 1.7412348       1.63224015    \n",
              "136  6.685188745 3.6243108       1.97804276    \n",
              "140  6.377012757 3.0638128       1.02131491    \n",
              "143  6.220233835 2.8484320       0.89559738    \n",
              "146  6.418666396 3.9065479       1.62747728    "
            ]
          },
          "metadata": {}
        }
      ]
    },
    {
      "cell_type": "code",
      "source": [
        "# 제외된 자료에 대한 군집거리의 산점도행렬\n",
        "splom(newDist, groups = iris$Species[-trainSet], auto.key = list(columns = 3))"
      ],
      "metadata": {
        "colab": {
          "base_uri": "https://localhost:8080/",
          "height": 437
        },
        "id": "Iagl1OZc2cAH",
        "outputId": "05f19923-00ba-417c-ef08-b5992ffa65b3"
      },
      "execution_count": 22,
      "outputs": [
        {
          "output_type": "display_data",
          "data": {
            "text/plain": [
              "plot without title"
            ],
            "image/png": "[encoded data removed]"
          },
          "metadata": {
            "image/png": {
              "width": 420,
              "height": 420
            }
          }
        }
      ]
    }
  ],
  "metadata": {
    "colab": {
      "provenance": []
    },
    "kernelspec": {
      "display_name": "R",
      "name": "ir"
    },
    "language_info": {
      "name": "R"
    }
  },
  "nbformat": 4,
  "nbformat_minor": 0
}