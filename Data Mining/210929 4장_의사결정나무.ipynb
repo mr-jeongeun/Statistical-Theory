{
  "cells": [
    {
      "cell_type": "markdown",
      "source": [
        "+ 의사결정나무 : 의사결정규칙을 나무 구조로 나타내어 전체 자료를 몇 개의 소집단으로 분류하거나 예측을 수행하는 분석 방법\n",
        "  + 하위노드 : 노드(집단) 내에서는 동질성이, 집단 간에는 이질성이 가장 커지도록 선택\n",
        "  + 뿌리노드, 부모노드, 자식노드, 최종노드\n",
        "  + 가지분할, 가지치기\n",
        "  + 분류나무 : 목표변수가 이산형\n",
        "    + 카이제곱통계량의 p-값, 지니지수, 엔트로피지수\n",
        "    : 값이 작을수록 자식노드 간 이질성이 큼\n",
        "    \n",
        "  + 회귀나무 : 목표변수가 연속형\n",
        "    + F-통계량의 p-값 : 값이 클수록 자식노드 간이 이질적이므로 이 값이 커지는 방향으로 가지분할 수행\n",
        "    + 분산의 감소량 : 이 값이 최대화 되는 방향으로 가지분할 수행\n",
        "  \n",
        "+ 장점\n",
        "  1) 구조가 단순하여 해석이 용이\n",
        "  2) 유용한 입력변수의 파악과 예측변수 간의 상호작용 및 비선형성을 고려하여 분석이 수행\n",
        "  3) 선형성, 정규성, 등분산성 등의 수학적 가정이 불필요한 비모수적 모형\n",
        "+ 단점\n",
        "  1) 분류 기준값의 경계선 근방의 자룟값에 대해서는 오차가 클 수 있음(비연속성)\n",
        "  2) 각 예측변수의 효과를 파악하기 어려움\n",
        "  3) 새로운 자료에 대한 예측이 불안정할 수 있음"
      ],
      "metadata": {
        "id": "MUua9bmo28pD"
      }
    },
    {
      "cell_type": "markdown",
      "source": [
        "### 예제 1."
      ],
      "metadata": {
        "id": "-dxup5YK3Hgu"
      }
    },
    {
      "cell_type": "code",
      "source": [
        "install.packages(\"rpart\")\n",
        "library(rpart)\n",
        "c = rpart(Species ~., data = iris)\n",
        "c"
      ],
      "metadata": {
        "colab": {
          "base_uri": "https://localhost:8080/",
          "height": 249
        },
        "id": "TNlhZRIT3J8s",
        "outputId": "df2d3b29-74d2-461d-8a76-917009f54bb3"
      },
      "execution_count": 1,
      "outputs": [
        {
          "output_type": "stream",
          "name": "stderr",
          "text": [
            "Installing package into ‘/usr/local/lib/R/site-library’\n",
            "(as ‘lib’ is unspecified)\n",
            "\n"
          ]
        },
        {
          "output_type": "display_data",
          "data": {
            "text/plain": [
              "n= 150 \n",
              "\n",
              "node), split, n, loss, yval, (yprob)\n",
              "      * denotes terminal node\n",
              "\n",
              "1) root 150 100 setosa (0.33333333 0.33333333 0.33333333)  \n",
              "  2) Petal.Length< 2.45 50   0 setosa (1.00000000 0.00000000 0.00000000) *\n",
              "  3) Petal.Length>=2.45 100  50 versicolor (0.00000000 0.50000000 0.50000000)  \n",
              "    6) Petal.Width< 1.75 54   5 versicolor (0.00000000 0.90740741 0.09259259) *\n",
              "    7) Petal.Width>=1.75 46   1 virginica (0.00000000 0.02173913 0.97826087) *"
            ]
          },
          "metadata": {}
        }
      ]
    },
    {
      "cell_type": "code",
      "source": [
        "plot(c, compress = T, margin = 0.3)\n",
        "text(c, cex = 1.5)"
      ],
      "metadata": {
        "colab": {
          "base_uri": "https://localhost:8080/",
          "height": 437
        },
        "id": "QJhKmoWf46vq",
        "outputId": "731cfb2f-ec55-4eee-dcb2-4a7dcdabb4ee"
      },
      "execution_count": 2,
      "outputs": [
        {
          "output_type": "display_data",
          "data": {
            "text/plain": [
              "plot without title"
            ],
            "image/png": "[encoded data removed]"
          },
          "metadata": {
            "image/png": {
              "width": 420,
              "height": 420
            }
          }
        }
      ]
    },
    {
      "cell_type": "code",
      "source": [
        "head(predict(c, newdata = iris, type = \"class\"))\n",
        "tail(predict(c, newdata = iris, type = \"class\"))"
      ],
      "metadata": {
        "colab": {
          "base_uri": "https://localhost:8080/",
          "height": 86
        },
        "id": "KMiH3SNL47us",
        "outputId": "2808784a-53ab-4526-d0c2-905502b2c661"
      },
      "execution_count": 3,
      "outputs": [
        {
          "output_type": "display_data",
          "data": {
            "text/html": [
              "<style>\n",
              ".dl-inline {width: auto; margin:0; padding: 0}\n",
              ".dl-inline>dt, .dl-inline>dd {float: none; width: auto; display: inline-block}\n",
              ".dl-inline>dt::after {content: \":\\0020\"; padding-right: .5ex}\n",
              ".dl-inline>dt:not(:first-of-type) {padding-left: .5ex}\n",
              "</style><dl class=dl-inline><dt>1</dt><dd>setosa</dd><dt>2</dt><dd>setosa</dd><dt>3</dt><dd>setosa</dd><dt>4</dt><dd>setosa</dd><dt>5</dt><dd>setosa</dd><dt>6</dt><dd>setosa</dd></dl>\n",
              "\n",
              "<details>\n",
              "\t<summary style=display:list-item;cursor:pointer>\n",
              "\t\t<strong>Levels</strong>:\n",
              "\t</summary>\n",
              "\t<style>\n",
              "\t.list-inline {list-style: none; margin:0; padding: 0}\n",
              "\t.list-inline>li {display: inline-block}\n",
              "\t.list-inline>li:not(:last-child)::after {content: \"\\00b7\"; padding: 0 .5ex}\n",
              "\t</style>\n",
              "\t<ol class=list-inline><li>'setosa'</li><li>'versicolor'</li><li>'virginica'</li></ol>\n",
              "</details>"
            ],
            "text/markdown": "1\n:   setosa2\n:   setosa3\n:   setosa4\n:   setosa5\n:   setosa6\n:   setosa\n\n\n**Levels**: 1. 'setosa'\n2. 'versicolor'\n3. 'virginica'\n\n\n",
            "text/latex": "\\begin{description*}\n\\item[1] setosa\n\\item[2] setosa\n\\item[3] setosa\n\\item[4] setosa\n\\item[5] setosa\n\\item[6] setosa\n\\end{description*}\n\n\\emph{Levels}: \\begin{enumerate*}\n\\item 'setosa'\n\\item 'versicolor'\n\\item 'virginica'\n\\end{enumerate*}\n",
            "text/plain": [
              "     1      2      3      4      5      6 \n",
              "setosa setosa setosa setosa setosa setosa \n",
              "Levels: setosa versicolor virginica"
            ]
          },
          "metadata": {}
        },
        {
          "output_type": "display_data",
          "data": {
            "text/html": [
              "<style>\n",
              ".dl-inline {width: auto; margin:0; padding: 0}\n",
              ".dl-inline>dt, .dl-inline>dd {float: none; width: auto; display: inline-block}\n",
              ".dl-inline>dt::after {content: \":\\0020\"; padding-right: .5ex}\n",
              ".dl-inline>dt:not(:first-of-type) {padding-left: .5ex}\n",
              "</style><dl class=dl-inline><dt>145</dt><dd>virginica</dd><dt>146</dt><dd>virginica</dd><dt>147</dt><dd>virginica</dd><dt>148</dt><dd>virginica</dd><dt>149</dt><dd>virginica</dd><dt>150</dt><dd>virginica</dd></dl>\n",
              "\n",
              "<details>\n",
              "\t<summary style=display:list-item;cursor:pointer>\n",
              "\t\t<strong>Levels</strong>:\n",
              "\t</summary>\n",
              "\t<style>\n",
              "\t.list-inline {list-style: none; margin:0; padding: 0}\n",
              "\t.list-inline>li {display: inline-block}\n",
              "\t.list-inline>li:not(:last-child)::after {content: \"\\00b7\"; padding: 0 .5ex}\n",
              "\t</style>\n",
              "\t<ol class=list-inline><li>'setosa'</li><li>'versicolor'</li><li>'virginica'</li></ol>\n",
              "</details>"
            ],
            "text/markdown": "145\n:   virginica146\n:   virginica147\n:   virginica148\n:   virginica149\n:   virginica150\n:   virginica\n\n\n**Levels**: 1. 'setosa'\n2. 'versicolor'\n3. 'virginica'\n\n\n",
            "text/latex": "\\begin{description*}\n\\item[145] virginica\n\\item[146] virginica\n\\item[147] virginica\n\\item[148] virginica\n\\item[149] virginica\n\\item[150] virginica\n\\end{description*}\n\n\\emph{Levels}: \\begin{enumerate*}\n\\item 'setosa'\n\\item 'versicolor'\n\\item 'virginica'\n\\end{enumerate*}\n",
            "text/plain": [
              "      145       146       147       148       149       150 \n",
              "virginica virginica virginica virginica virginica virginica \n",
              "Levels: setosa versicolor virginica"
            ]
          },
          "metadata": {}
        }
      ]
    },
    {
      "cell_type": "code",
      "source": [
        "install.packages(\"rpart.plot\")\n",
        "library(rpart.plot)\n",
        "prp(c, type = 4, extra = 2)"
      ],
      "metadata": {
        "colab": {
          "base_uri": "https://localhost:8080/",
          "height": 491
        },
        "id": "n1uE-6074_bB",
        "outputId": "bed503d0-da42-4718-824d-9bc3f5d48b3e"
      },
      "execution_count": 4,
      "outputs": [
        {
          "output_type": "stream",
          "name": "stderr",
          "text": [
            "Installing package into ‘/usr/local/lib/R/site-library’\n",
            "(as ‘lib’ is unspecified)\n",
            "\n"
          ]
        },
        {
          "output_type": "display_data",
          "data": {
            "text/plain": [
              "plot without title"
            ],
            "image/png": "[encoded data removed]"
          },
          "metadata": {
            "image/png": {
              "width": 420,
              "height": 420
            }
          }
        }
      ]
    },
    {
      "cell_type": "code",
      "source": [
        "ls(c)"
      ],
      "metadata": {
        "colab": {
          "base_uri": "https://localhost:8080/",
          "height": 34
        },
        "id": "Mbdu3mlE4_Ye",
        "outputId": "5f8c850a-6539-45fb-892d-ffbb638cf306"
      },
      "execution_count": 5,
      "outputs": [
        {
          "output_type": "display_data",
          "data": {
            "text/html": [
              "<style>\n",
              ".list-inline {list-style: none; margin:0; padding: 0}\n",
              ".list-inline>li {display: inline-block}\n",
              ".list-inline>li:not(:last-child)::after {content: \"\\00b7\"; padding: 0 .5ex}\n",
              "</style>\n",
              "<ol class=list-inline><li>'call'</li><li>'control'</li><li>'cptable'</li><li>'frame'</li><li>'functions'</li><li>'method'</li><li>'numresp'</li><li>'ordered'</li><li>'parms'</li><li>'splits'</li><li>'terms'</li><li>'variable.importance'</li><li>'where'</li><li>'y'</li></ol>\n"
            ],
            "text/markdown": "1. 'call'\n2. 'control'\n3. 'cptable'\n4. 'frame'\n5. 'functions'\n6. 'method'\n7. 'numresp'\n8. 'ordered'\n9. 'parms'\n10. 'splits'\n11. 'terms'\n12. 'variable.importance'\n13. 'where'\n14. 'y'\n\n\n",
            "text/latex": "\\begin{enumerate*}\n\\item 'call'\n\\item 'control'\n\\item 'cptable'\n\\item 'frame'\n\\item 'functions'\n\\item 'method'\n\\item 'numresp'\n\\item 'ordered'\n\\item 'parms'\n\\item 'splits'\n\\item 'terms'\n\\item 'variable.importance'\n\\item 'where'\n\\item 'y'\n\\end{enumerate*}\n",
            "text/plain": [
              " [1] \"call\"                \"control\"             \"cptable\"            \n",
              " [4] \"frame\"               \"functions\"           \"method\"             \n",
              " [7] \"numresp\"             \"ordered\"             \"parms\"              \n",
              "[10] \"splits\"              \"terms\"               \"variable.importance\"\n",
              "[13] \"where\"               \"y\"                  "
            ]
          },
          "metadata": {}
        }
      ]
    },
    {
      "cell_type": "code",
      "source": [
        "c$cptable  # 트리의 크기에 따른 비용-복잡도 모수, 교차타당성오차 제공"
      ],
      "metadata": {
        "colab": {
          "base_uri": "https://localhost:8080/",
          "height": 161
        },
        "id": "yeD1HMVJ5Bok",
        "outputId": "f9fc253e-43dc-4364-d121-78ba274823c7"
      },
      "execution_count": 6,
      "outputs": [
        {
          "output_type": "display_data",
          "data": {
            "text/html": [
              "<table class=\"dataframe\">\n",
              "<caption>A matrix: 3 × 5 of type dbl</caption>\n",
              "<thead>\n",
              "\t<tr><th></th><th scope=col>CP</th><th scope=col>nsplit</th><th scope=col>rel error</th><th scope=col>xerror</th><th scope=col>xstd</th></tr>\n",
              "</thead>\n",
              "<tbody>\n",
              "\t<tr><th scope=row>1</th><td>0.50</td><td>0</td><td>1.00</td><td>1.18</td><td>0.05017303</td></tr>\n",
              "\t<tr><th scope=row>2</th><td>0.44</td><td>1</td><td>0.50</td><td>0.71</td><td>0.06115009</td></tr>\n",
              "\t<tr><th scope=row>3</th><td>0.01</td><td>2</td><td>0.06</td><td>0.08</td><td>0.02751969</td></tr>\n",
              "</tbody>\n",
              "</table>\n"
            ],
            "text/markdown": "\nA matrix: 3 × 5 of type dbl\n\n| <!--/--> | CP | nsplit | rel error | xerror | xstd |\n|---|---|---|---|---|---|\n| 1 | 0.50 | 0 | 1.00 | 1.18 | 0.05017303 |\n| 2 | 0.44 | 1 | 0.50 | 0.71 | 0.06115009 |\n| 3 | 0.01 | 2 | 0.06 | 0.08 | 0.02751969 |\n\n",
            "text/latex": "A matrix: 3 × 5 of type dbl\n\\begin{tabular}{r|lllll}\n  & CP & nsplit & rel error & xerror & xstd\\\\\n\\hline\n\t1 & 0.50 & 0 & 1.00 & 1.18 & 0.05017303\\\\\n\t2 & 0.44 & 1 & 0.50 & 0.71 & 0.06115009\\\\\n\t3 & 0.01 & 2 & 0.06 & 0.08 & 0.02751969\\\\\n\\end{tabular}\n",
            "text/plain": [
              "  CP   nsplit rel error xerror xstd      \n",
              "1 0.50 0      1.00      1.18   0.05017303\n",
              "2 0.44 1      0.50      0.71   0.06115009\n",
              "3 0.01 2      0.06      0.08   0.02751969"
            ]
          },
          "metadata": {}
        }
      ]
    },
    {
      "cell_type": "code",
      "source": [
        "opt = which.min(c$cptable[,\"xerror\"])\n",
        "cp = c$cptable[opt, \"CP\"]\n",
        "prune.c = prune(c, cp = cp)\n",
        "plot(prune.c)\n",
        "text(prune.c, use.n = T)"
      ],
      "metadata": {
        "colab": {
          "base_uri": "https://localhost:8080/",
          "height": 437
        },
        "id": "4xzbBp9U5DHy",
        "outputId": "e1a73f08-c6e1-4df3-d85c-ad4f5af4131d"
      },
      "execution_count": 7,
      "outputs": [
        {
          "output_type": "display_data",
          "data": {
            "text/plain": [
              "plot without title"
            ],
            "image/png": "[encoded data removed]"
          },
          "metadata": {
            "image/png": {
              "width": 420,
              "height": 420
            }
          }
        }
      ]
    },
    {
      "cell_type": "code",
      "source": [
        "plotcp(c)"
      ],
      "metadata": {
        "colab": {
          "base_uri": "https://localhost:8080/",
          "height": 437
        },
        "id": "iFqxH3Et5GND",
        "outputId": "aeb6f115-7fb0-404a-e4cb-e635cfc2cab1"
      },
      "execution_count": 8,
      "outputs": [
        {
          "output_type": "display_data",
          "data": {
            "text/plain": [
              "plot without title"
            ],
            "image/png": "[encoded data removed]"
          },
          "metadata": {
            "image/png": {
              "width": 420,
              "height": 420
            }
          }
        }
      ]
    },
    {
      "cell_type": "markdown",
      "source": [
        "### 예제 2."
      ],
      "metadata": {
        "id": "sM17HMaA3MAS"
      }
    },
    {
      "cell_type": "code",
      "source": [
        "install.packages(\"party\")\n",
        "library(party)\n",
        "data(stagec)\n",
        "str(stagec)"
      ],
      "metadata": {
        "colab": {
          "base_uri": "https://localhost:8080/"
        },
        "id": "eYZ74UtQ5MEe",
        "outputId": "4e082c0f-65c6-4044-b6ed-2b54f8900b82"
      },
      "execution_count": 9,
      "outputs": [
        {
          "output_type": "stream",
          "name": "stderr",
          "text": [
            "Installing package into ‘/usr/local/lib/R/site-library’\n",
            "(as ‘lib’ is unspecified)\n",
            "\n",
            "also installing the dependencies ‘TH.data’, ‘libcoin’, ‘matrixStats’, ‘multcomp’, ‘mvtnorm’, ‘modeltools’, ‘strucchange’, ‘coin’, ‘zoo’, ‘sandwich’\n",
            "\n",
            "\n",
            "Loading required package: grid\n",
            "\n",
            "Loading required package: mvtnorm\n",
            "\n",
            "Loading required package: modeltools\n",
            "\n",
            "Loading required package: stats4\n",
            "\n",
            "Loading required package: strucchange\n",
            "\n",
            "Loading required package: zoo\n",
            "\n",
            "\n",
            "Attaching package: ‘zoo’\n",
            "\n",
            "\n",
            "The following objects are masked from ‘package:base’:\n",
            "\n",
            "    as.Date, as.Date.numeric\n",
            "\n",
            "\n",
            "Loading required package: sandwich\n",
            "\n"
          ]
        },
        {
          "output_type": "stream",
          "name": "stdout",
          "text": [
            "'data.frame':\t146 obs. of  8 variables:\n",
            " $ pgtime : num  6.1 9.4 5.2 3.2 1.9 4.8 5.8 7.3 3.7 15.9 ...\n",
            " $ pgstat : int  0 0 1 1 1 0 0 0 1 0 ...\n",
            " $ age    : int  64 62 59 62 64 69 75 71 73 64 ...\n",
            " $ eet    : int  2 1 2 2 2 1 2 2 2 2 ...\n",
            " $ g2     : num  10.26 NA 9.99 3.57 22.56 ...\n",
            " $ grade  : int  2 3 3 2 4 3 2 3 3 3 ...\n",
            " $ gleason: int  4 8 7 4 8 7 NA 7 6 7 ...\n",
            " $ ploidy : Factor w/ 3 levels \"diploid\",\"tetraploid\",..: 1 3 1 1 2 1 2 3 1 2 ...\n"
          ]
        }
      ]
    },
    {
      "cell_type": "code",
      "source": [
        "stagec1 = subset(stagec, !is.na(g2))\n",
        "stagec2 = subset(stagec1, !is.na(gleason))\n",
        "stagec3 = subset(stagec2, !is.na(eet))\n",
        "str(stagec3)"
      ],
      "metadata": {
        "colab": {
          "base_uri": "https://localhost:8080/"
        },
        "id": "KMxe8CNr5OFf",
        "outputId": "39ec931c-8ef7-4c22-976d-189cd21fe99d"
      },
      "execution_count": 10,
      "outputs": [
        {
          "output_type": "stream",
          "name": "stdout",
          "text": [
            "'data.frame':\t134 obs. of  8 variables:\n",
            " $ pgtime : num  6.1 5.2 3.2 1.9 4.8 3.7 15.9 6.3 2.9 1.5 ...\n",
            " $ pgstat : int  0 1 1 1 0 1 0 0 1 1 ...\n",
            " $ age    : int  64 59 62 64 69 73 64 65 58 70 ...\n",
            " $ eet    : int  2 2 2 2 1 2 2 2 2 2 ...\n",
            " $ g2     : num  10.26 9.99 3.57 22.56 6.14 ...\n",
            " $ grade  : int  2 3 2 4 3 3 3 3 4 3 ...\n",
            " $ gleason: int  4 7 4 8 7 6 7 7 8 8 ...\n",
            " $ ploidy : Factor w/ 3 levels \"diploid\",\"tetraploid\",..: 1 1 1 2 1 1 2 2 2 1 ...\n"
          ]
        }
      ]
    },
    {
      "cell_type": "code",
      "source": [
        "set.seed(1234)\n",
        "ind = sample(2, nrow(stagec3), replace = TRUE, prob = c(0.7, 0.3))\n",
        "ind"
      ],
      "metadata": {
        "colab": {
          "base_uri": "https://localhost:8080/",
          "height": 52
        },
        "id": "dgn_P2EP3J55",
        "outputId": "2a856640-3a95-4918-aea2-e09ccfca9ad0"
      },
      "execution_count": 11,
      "outputs": [
        {
          "output_type": "display_data",
          "data": {
            "text/html": [
              "<style>\n",
              ".list-inline {list-style: none; margin:0; padding: 0}\n",
              ".list-inline>li {display: inline-block}\n",
              ".list-inline>li:not(:last-child)::after {content: \"\\00b7\"; padding: 0 .5ex}\n",
              "</style>\n",
              "<ol class=list-inline><li>1</li><li>1</li><li>1</li><li>1</li><li>2</li><li>1</li><li>1</li><li>1</li><li>1</li><li>1</li><li>1</li><li>1</li><li>1</li><li>2</li><li>1</li><li>2</li><li>1</li><li>1</li><li>1</li><li>1</li><li>1</li><li>1</li><li>1</li><li>1</li><li>1</li><li>2</li><li>1</li><li>2</li><li>2</li><li>1</li><li>1</li><li>1</li><li>1</li><li>1</li><li>1</li><li>2</li><li>1</li><li>1</li><li>2</li><li>2</li><li>1</li><li>1</li><li>1</li><li>1</li><li>1</li><li>1</li><li>1</li><li>1</li><li>1</li><li>2</li><li>1</li><li>1</li><li>2</li><li>1</li><li>1</li><li>1</li><li>1</li><li>2</li><li>1</li><li>2</li><li>2</li><li>1</li><li>1</li><li>1</li><li>1</li><li>2</li><li>1</li><li>1</li><li>1</li><li>1</li><li>1</li><li>2</li><li>1</li><li>2</li><li>1</li><li>1</li><li>1</li><li>1</li><li>1</li><li>1</li><li>2</li><li>1</li><li>1</li><li>1</li><li>1</li><li>2</li><li>1</li><li>1</li><li>1</li><li>2</li><li>1</li><li>2</li><li>1</li><li>1</li><li>1</li><li>1</li><li>1</li><li>1</li><li>1</li><li>2</li><li>1</li><li>1</li><li>1</li><li>1</li><li>1</li><li>1</li><li>1</li><li>1</li><li>1</li><li>1</li><li>2</li><li>1</li><li>2</li><li>1</li><li>1</li><li>2</li><li>2</li><li>1</li><li>1</li><li>2</li><li>2</li><li>2</li><li>2</li><li>2</li><li>1</li><li>1</li><li>1</li><li>1</li><li>1</li><li>1</li><li>2</li><li>1</li><li>1</li><li>1</li></ol>\n"
            ],
            "text/markdown": "1. 1\n2. 1\n3. 1\n4. 1\n5. 2\n6. 1\n7. 1\n8. 1\n9. 1\n10. 1\n11. 1\n12. 1\n13. 1\n14. 2\n15. 1\n16. 2\n17. 1\n18. 1\n19. 1\n20. 1\n21. 1\n22. 1\n23. 1\n24. 1\n25. 1\n26. 2\n27. 1\n28. 2\n29. 2\n30. 1\n31. 1\n32. 1\n33. 1\n34. 1\n35. 1\n36. 2\n37. 1\n38. 1\n39. 2\n40. 2\n41. 1\n42. 1\n43. 1\n44. 1\n45. 1\n46. 1\n47. 1\n48. 1\n49. 1\n50. 2\n51. 1\n52. 1\n53. 2\n54. 1\n55. 1\n56. 1\n57. 1\n58. 2\n59. 1\n60. 2\n61. 2\n62. 1\n63. 1\n64. 1\n65. 1\n66. 2\n67. 1\n68. 1\n69. 1\n70. 1\n71. 1\n72. 2\n73. 1\n74. 2\n75. 1\n76. 1\n77. 1\n78. 1\n79. 1\n80. 1\n81. 2\n82. 1\n83. 1\n84. 1\n85. 1\n86. 2\n87. 1\n88. 1\n89. 1\n90. 2\n91. 1\n92. 2\n93. 1\n94. 1\n95. 1\n96. 1\n97. 1\n98. 1\n99. 1\n100. 2\n101. 1\n102. 1\n103. 1\n104. 1\n105. 1\n106. 1\n107. 1\n108. 1\n109. 1\n110. 1\n111. 2\n112. 1\n113. 2\n114. 1\n115. 1\n116. 2\n117. 2\n118. 1\n119. 1\n120. 2\n121. 2\n122. 2\n123. 2\n124. 2\n125. 1\n126. 1\n127. 1\n128. 1\n129. 1\n130. 1\n131. 2\n132. 1\n133. 1\n134. 1\n\n\n",
            "text/latex": "\\begin{enumerate*}\n\\item 1\n\\item 1\n\\item 1\n\\item 1\n\\item 2\n\\item 1\n\\item 1\n\\item 1\n\\item 1\n\\item 1\n\\item 1\n\\item 1\n\\item 1\n\\item 2\n\\item 1\n\\item 2\n\\item 1\n\\item 1\n\\item 1\n\\item 1\n\\item 1\n\\item 1\n\\item 1\n\\item 1\n\\item 1\n\\item 2\n\\item 1\n\\item 2\n\\item 2\n\\item 1\n\\item 1\n\\item 1\n\\item 1\n\\item 1\n\\item 1\n\\item 2\n\\item 1\n\\item 1\n\\item 2\n\\item 2\n\\item 1\n\\item 1\n\\item 1\n\\item 1\n\\item 1\n\\item 1\n\\item 1\n\\item 1\n\\item 1\n\\item 2\n\\item 1\n\\item 1\n\\item 2\n\\item 1\n\\item 1\n\\item 1\n\\item 1\n\\item 2\n\\item 1\n\\item 2\n\\item 2\n\\item 1\n\\item 1\n\\item 1\n\\item 1\n\\item 2\n\\item 1\n\\item 1\n\\item 1\n\\item 1\n\\item 1\n\\item 2\n\\item 1\n\\item 2\n\\item 1\n\\item 1\n\\item 1\n\\item 1\n\\item 1\n\\item 1\n\\item 2\n\\item 1\n\\item 1\n\\item 1\n\\item 1\n\\item 2\n\\item 1\n\\item 1\n\\item 1\n\\item 2\n\\item 1\n\\item 2\n\\item 1\n\\item 1\n\\item 1\n\\item 1\n\\item 1\n\\item 1\n\\item 1\n\\item 2\n\\item 1\n\\item 1\n\\item 1\n\\item 1\n\\item 1\n\\item 1\n\\item 1\n\\item 1\n\\item 1\n\\item 1\n\\item 2\n\\item 1\n\\item 2\n\\item 1\n\\item 1\n\\item 2\n\\item 2\n\\item 1\n\\item 1\n\\item 2\n\\item 2\n\\item 2\n\\item 2\n\\item 2\n\\item 1\n\\item 1\n\\item 1\n\\item 1\n\\item 1\n\\item 1\n\\item 2\n\\item 1\n\\item 1\n\\item 1\n\\end{enumerate*}\n",
            "text/plain": [
              "  [1] 1 1 1 1 2 1 1 1 1 1 1 1 1 2 1 2 1 1 1 1 1 1 1 1 1 2 1 2 2 1 1 1 1 1 1 2 1\n",
              " [38] 1 2 2 1 1 1 1 1 1 1 1 1 2 1 1 2 1 1 1 1 2 1 2 2 1 1 1 1 2 1 1 1 1 1 2 1 2\n",
              " [75] 1 1 1 1 1 1 2 1 1 1 1 2 1 1 1 2 1 2 1 1 1 1 1 1 1 2 1 1 1 1 1 1 1 1 1 1 2\n",
              "[112] 1 2 1 1 2 2 1 1 2 2 2 2 2 1 1 1 1 1 1 2 1 1 1"
            ]
          },
          "metadata": {}
        }
      ]
    },
    {
      "cell_type": "code",
      "source": [
        "trainData = stagec3[ind == 1,]  # n = 102개\n",
        "testData = stagec3[ind == 2,]  # n = 32개\n",
        "\n",
        "tree = ctree(ploidy ~ ., data = trainData)\n",
        "tree"
      ],
      "metadata": {
        "colab": {
          "base_uri": "https://localhost:8080/",
          "height": 267
        },
        "id": "_nT3e3dM3Qlq",
        "outputId": "66c4411c-b9d5-4889-ca6f-232daf171b02"
      },
      "execution_count": 12,
      "outputs": [
        {
          "output_type": "display_data",
          "data": {
            "text/plain": [
              "\n",
              "\t Conditional inference tree with 3 terminal nodes\n",
              "\n",
              "Response:  ploidy \n",
              "Inputs:  pgtime, pgstat, age, eet, g2, grade, gleason \n",
              "Number of observations:  102 \n",
              "\n",
              "1) g2 <= 13.01; criterion = 1, statistic = 49.684\n",
              "  2) pgstat <= 0; criterion = 0.958, statistic = 7.5\n",
              "    3)*  weights = 36 \n",
              "  2) pgstat > 0\n",
              "    4)*  weights = 15 \n",
              "1) g2 > 13.01\n",
              "  5)*  weights = 51 "
            ]
          },
          "metadata": {}
        }
      ]
    },
    {
      "cell_type": "code",
      "source": [
        "plot(tree)"
      ],
      "metadata": {
        "colab": {
          "base_uri": "https://localhost:8080/",
          "height": 437
        },
        "id": "vbFfUzON3QjU",
        "outputId": "e234f790-227b-4b34-d468-c3700e98b3ee"
      },
      "execution_count": 13,
      "outputs": [
        {
          "output_type": "display_data",
          "data": {
            "text/plain": [
              "plot without title"
            ],
            "image/png": "[encoded data removed]"
          },
          "metadata": {
            "image/png": {
              "width": 420,
              "height": 420
            }
          }
        }
      ]
    },
    {
      "cell_type": "code",
      "source": [
        "testPred = predict(tree, newdata = testData)\n",
        "table(testPred, testData$ploidy)  # testData 32개"
      ],
      "metadata": {
        "colab": {
          "base_uri": "https://localhost:8080/",
          "height": 106
        },
        "id": "W8Nv3Rvn3Qc7",
        "outputId": "241a3024-ec9b-40e6-b04f-c6614fd2f6b8"
      },
      "execution_count": 14,
      "outputs": [
        {
          "output_type": "display_data",
          "data": {
            "text/plain": [
              "            \n",
              "testPred     diploid tetraploid aneuploid\n",
              "  diploid         17          0         1\n",
              "  tetraploid       0         13         1\n",
              "  aneuploid        0          0         0"
            ]
          },
          "metadata": {}
        }
      ]
    },
    {
      "cell_type": "markdown",
      "source": [
        "### 예제 3."
      ],
      "metadata": {
        "id": "nPMFGmXS5b1r"
      }
    },
    {
      "cell_type": "code",
      "source": [
        "airq = subset(airquality, !is.na(Ozone))\n",
        "head(airq)"
      ],
      "metadata": {
        "colab": {
          "base_uri": "https://localhost:8080/",
          "height": 286
        },
        "id": "ZxehXGz-3VXL",
        "outputId": "9590351c-1bcb-4b2f-8777-9bd7d0f76d0a"
      },
      "execution_count": 15,
      "outputs": [
        {
          "output_type": "display_data",
          "data": {
            "text/html": [
              "<table class=\"dataframe\">\n",
              "<caption>A data.frame: 6 × 6</caption>\n",
              "<thead>\n",
              "\t<tr><th></th><th scope=col>Ozone</th><th scope=col>Solar.R</th><th scope=col>Wind</th><th scope=col>Temp</th><th scope=col>Month</th><th scope=col>Day</th></tr>\n",
              "\t<tr><th></th><th scope=col>&lt;int&gt;</th><th scope=col>&lt;int&gt;</th><th scope=col>&lt;dbl&gt;</th><th scope=col>&lt;int&gt;</th><th scope=col>&lt;int&gt;</th><th scope=col>&lt;int&gt;</th></tr>\n",
              "</thead>\n",
              "<tbody>\n",
              "\t<tr><th scope=row>1</th><td>41</td><td>190</td><td> 7.4</td><td>67</td><td>5</td><td>1</td></tr>\n",
              "\t<tr><th scope=row>2</th><td>36</td><td>118</td><td> 8.0</td><td>72</td><td>5</td><td>2</td></tr>\n",
              "\t<tr><th scope=row>3</th><td>12</td><td>149</td><td>12.6</td><td>74</td><td>5</td><td>3</td></tr>\n",
              "\t<tr><th scope=row>4</th><td>18</td><td>313</td><td>11.5</td><td>62</td><td>5</td><td>4</td></tr>\n",
              "\t<tr><th scope=row>6</th><td>28</td><td> NA</td><td>14.9</td><td>66</td><td>5</td><td>6</td></tr>\n",
              "\t<tr><th scope=row>7</th><td>23</td><td>299</td><td> 8.6</td><td>65</td><td>5</td><td>7</td></tr>\n",
              "</tbody>\n",
              "</table>\n"
            ],
            "text/markdown": "\nA data.frame: 6 × 6\n\n| <!--/--> | Ozone &lt;int&gt; | Solar.R &lt;int&gt; | Wind &lt;dbl&gt; | Temp &lt;int&gt; | Month &lt;int&gt; | Day &lt;int&gt; |\n|---|---|---|---|---|---|---|\n| 1 | 41 | 190 |  7.4 | 67 | 5 | 1 |\n| 2 | 36 | 118 |  8.0 | 72 | 5 | 2 |\n| 3 | 12 | 149 | 12.6 | 74 | 5 | 3 |\n| 4 | 18 | 313 | 11.5 | 62 | 5 | 4 |\n| 6 | 28 |  NA | 14.9 | 66 | 5 | 6 |\n| 7 | 23 | 299 |  8.6 | 65 | 5 | 7 |\n\n",
            "text/latex": "A data.frame: 6 × 6\n\\begin{tabular}{r|llllll}\n  & Ozone & Solar.R & Wind & Temp & Month & Day\\\\\n  & <int> & <int> & <dbl> & <int> & <int> & <int>\\\\\n\\hline\n\t1 & 41 & 190 &  7.4 & 67 & 5 & 1\\\\\n\t2 & 36 & 118 &  8.0 & 72 & 5 & 2\\\\\n\t3 & 12 & 149 & 12.6 & 74 & 5 & 3\\\\\n\t4 & 18 & 313 & 11.5 & 62 & 5 & 4\\\\\n\t6 & 28 &  NA & 14.9 & 66 & 5 & 6\\\\\n\t7 & 23 & 299 &  8.6 & 65 & 5 & 7\\\\\n\\end{tabular}\n",
            "text/plain": [
              "  Ozone Solar.R Wind Temp Month Day\n",
              "1 41    190      7.4 67   5     1  \n",
              "2 36    118      8.0 72   5     2  \n",
              "3 12    149     12.6 74   5     3  \n",
              "4 18    313     11.5 62   5     4  \n",
              "6 28     NA     14.9 66   5     6  \n",
              "7 23    299      8.6 65   5     7  "
            ]
          },
          "metadata": {}
        }
      ]
    },
    {
      "cell_type": "code",
      "source": [
        "airct = ctree(Ozone ~ ., data = airq)\n",
        "airct"
      ],
      "metadata": {
        "colab": {
          "base_uri": "https://localhost:8080/",
          "height": 374
        },
        "id": "pAtzUUcS3WeY",
        "outputId": "5d80e63f-6b5f-4c2b-f685-eb5bf82b8f60"
      },
      "execution_count": 16,
      "outputs": [
        {
          "output_type": "display_data",
          "data": {
            "text/plain": [
              "\n",
              "\t Conditional inference tree with 5 terminal nodes\n",
              "\n",
              "Response:  Ozone \n",
              "Inputs:  Solar.R, Wind, Temp, Month, Day \n",
              "Number of observations:  116 \n",
              "\n",
              "1) Temp <= 82; criterion = 1, statistic = 56.086\n",
              "  2) Wind <= 6.9; criterion = 0.998, statistic = 12.969\n",
              "    3)*  weights = 10 \n",
              "  2) Wind > 6.9\n",
              "    4) Temp <= 77; criterion = 0.997, statistic = 11.599\n",
              "      5)*  weights = 48 \n",
              "    4) Temp > 77\n",
              "      6)*  weights = 21 \n",
              "1) Temp > 82\n",
              "  7) Wind <= 10.3; criterion = 0.997, statistic = 11.712\n",
              "    8)*  weights = 30 \n",
              "  7) Wind > 10.3\n",
              "    9)*  weights = 7 "
            ]
          },
          "metadata": {}
        }
      ]
    },
    {
      "cell_type": "code",
      "source": [
        "plot(airct)"
      ],
      "metadata": {
        "colab": {
          "base_uri": "https://localhost:8080/",
          "height": 437
        },
        "id": "qPb66tdh3WcW",
        "outputId": "0f0ea59d-8a29-48f4-ecca-c1ea745fdc8c"
      },
      "execution_count": 17,
      "outputs": [
        {
          "output_type": "display_data",
          "data": {
            "text/plain": [
              "plot without title"
            ],
            "image/png": "[encoded data removed]"
          },
          "metadata": {
            "image/png": {
              "width": 420,
              "height": 420
            }
          }
        }
      ]
    },
    {
      "cell_type": "code",
      "source": [
        "head(predict(airct, data = airq))"
      ],
      "metadata": {
        "colab": {
          "base_uri": "https://localhost:8080/",
          "height": 290
        },
        "id": "qaeWqyjl3WZ6",
        "outputId": "d5cbb7e3-8519-455f-ad9e-e4497b42141f"
      },
      "execution_count": 18,
      "outputs": [
        {
          "output_type": "display_data",
          "data": {
            "text/html": [
              "<table class=\"dataframe\">\n",
              "<caption>A matrix: 6 × 1 of type dbl</caption>\n",
              "<thead>\n",
              "\t<tr><th scope=col>Ozone</th></tr>\n",
              "</thead>\n",
              "<tbody>\n",
              "\t<tr><td>18.47917</td></tr>\n",
              "\t<tr><td>18.47917</td></tr>\n",
              "\t<tr><td>18.47917</td></tr>\n",
              "\t<tr><td>18.47917</td></tr>\n",
              "\t<tr><td>18.47917</td></tr>\n",
              "\t<tr><td>18.47917</td></tr>\n",
              "</tbody>\n",
              "</table>\n"
            ],
            "text/markdown": "\nA matrix: 6 × 1 of type dbl\n\n| Ozone |\n|---|\n| 18.47917 |\n| 18.47917 |\n| 18.47917 |\n| 18.47917 |\n| 18.47917 |\n| 18.47917 |\n\n",
            "text/latex": "A matrix: 6 × 1 of type dbl\n\\begin{tabular}{l}\n Ozone\\\\\n\\hline\n\t 18.47917\\\\\n\t 18.47917\\\\\n\t 18.47917\\\\\n\t 18.47917\\\\\n\t 18.47917\\\\\n\t 18.47917\\\\\n\\end{tabular}\n",
            "text/plain": [
              "     Ozone   \n",
              "[1,] 18.47917\n",
              "[2,] 18.47917\n",
              "[3,] 18.47917\n",
              "[4,] 18.47917\n",
              "[5,] 18.47917\n",
              "[6,] 18.47917"
            ]
          },
          "metadata": {}
        }
      ]
    },
    {
      "cell_type": "code",
      "source": [
        "predict(airct, data = airq, type = \"node\")"
      ],
      "metadata": {
        "colab": {
          "base_uri": "https://localhost:8080/",
          "height": 52
        },
        "id": "5jHrrjc23WXv",
        "outputId": "1523ce33-2401-4ff7-aa7a-80c41daa810b"
      },
      "execution_count": 19,
      "outputs": [
        {
          "output_type": "display_data",
          "data": {
            "text/html": [
              "<style>\n",
              ".list-inline {list-style: none; margin:0; padding: 0}\n",
              ".list-inline>li {display: inline-block}\n",
              ".list-inline>li:not(:last-child)::after {content: \"\\00b7\"; padding: 0 .5ex}\n",
              "</style>\n",
              "<ol class=list-inline><li>5</li><li>5</li><li>5</li><li>5</li><li>5</li><li>5</li><li>5</li><li>5</li><li>3</li><li>5</li><li>5</li><li>5</li><li>5</li><li>5</li><li>5</li><li>5</li><li>5</li><li>5</li><li>5</li><li>5</li><li>5</li><li>5</li><li>5</li><li>6</li><li>3</li><li>5</li><li>6</li><li>9</li><li>9</li><li>6</li><li>5</li><li>5</li><li>5</li><li>5</li><li>5</li><li>8</li><li>8</li><li>6</li><li>8</li><li>9</li><li>8</li><li>8</li><li>8</li><li>8</li><li>5</li><li>6</li><li>6</li><li>3</li><li>6</li><li>8</li><li>8</li><li>9</li><li>3</li><li>8</li><li>8</li><li>6</li><li>9</li><li>8</li><li>8</li><li>8</li><li>6</li><li>3</li><li>6</li><li>6</li><li>8</li><li>8</li><li>8</li><li>8</li><li>8</li><li>8</li><li>9</li><li>6</li><li>6</li><li>5</li><li>3</li><li>5</li><li>6</li><li>6</li><li>5</li><li>5</li><li>6</li><li>3</li><li>8</li><li>8</li><li>8</li><li>8</li><li>8</li><li>8</li><li>8</li><li>8</li><li>8</li><li>8</li><li>9</li><li>6</li><li>6</li><li>5</li><li>5</li><li>6</li><li>5</li><li>3</li><li>5</li><li>5</li><li>3</li><li>5</li><li>5</li><li>5</li><li>6</li><li>5</li><li>5</li><li>6</li><li>5</li><li>5</li><li>3</li><li>5</li><li>5</li><li>5</li></ol>\n"
            ],
            "text/markdown": "1. 5\n2. 5\n3. 5\n4. 5\n5. 5\n6. 5\n7. 5\n8. 5\n9. 3\n10. 5\n11. 5\n12. 5\n13. 5\n14. 5\n15. 5\n16. 5\n17. 5\n18. 5\n19. 5\n20. 5\n21. 5\n22. 5\n23. 5\n24. 6\n25. 3\n26. 5\n27. 6\n28. 9\n29. 9\n30. 6\n31. 5\n32. 5\n33. 5\n34. 5\n35. 5\n36. 8\n37. 8\n38. 6\n39. 8\n40. 9\n41. 8\n42. 8\n43. 8\n44. 8\n45. 5\n46. 6\n47. 6\n48. 3\n49. 6\n50. 8\n51. 8\n52. 9\n53. 3\n54. 8\n55. 8\n56. 6\n57. 9\n58. 8\n59. 8\n60. 8\n61. 6\n62. 3\n63. 6\n64. 6\n65. 8\n66. 8\n67. 8\n68. 8\n69. 8\n70. 8\n71. 9\n72. 6\n73. 6\n74. 5\n75. 3\n76. 5\n77. 6\n78. 6\n79. 5\n80. 5\n81. 6\n82. 3\n83. 8\n84. 8\n85. 8\n86. 8\n87. 8\n88. 8\n89. 8\n90. 8\n91. 8\n92. 8\n93. 9\n94. 6\n95. 6\n96. 5\n97. 5\n98. 6\n99. 5\n100. 3\n101. 5\n102. 5\n103. 3\n104. 5\n105. 5\n106. 5\n107. 6\n108. 5\n109. 5\n110. 6\n111. 5\n112. 5\n113. 3\n114. 5\n115. 5\n116. 5\n\n\n",
            "text/latex": "\\begin{enumerate*}\n\\item 5\n\\item 5\n\\item 5\n\\item 5\n\\item 5\n\\item 5\n\\item 5\n\\item 5\n\\item 3\n\\item 5\n\\item 5\n\\item 5\n\\item 5\n\\item 5\n\\item 5\n\\item 5\n\\item 5\n\\item 5\n\\item 5\n\\item 5\n\\item 5\n\\item 5\n\\item 5\n\\item 6\n\\item 3\n\\item 5\n\\item 6\n\\item 9\n\\item 9\n\\item 6\n\\item 5\n\\item 5\n\\item 5\n\\item 5\n\\item 5\n\\item 8\n\\item 8\n\\item 6\n\\item 8\n\\item 9\n\\item 8\n\\item 8\n\\item 8\n\\item 8\n\\item 5\n\\item 6\n\\item 6\n\\item 3\n\\item 6\n\\item 8\n\\item 8\n\\item 9\n\\item 3\n\\item 8\n\\item 8\n\\item 6\n\\item 9\n\\item 8\n\\item 8\n\\item 8\n\\item 6\n\\item 3\n\\item 6\n\\item 6\n\\item 8\n\\item 8\n\\item 8\n\\item 8\n\\item 8\n\\item 8\n\\item 9\n\\item 6\n\\item 6\n\\item 5\n\\item 3\n\\item 5\n\\item 6\n\\item 6\n\\item 5\n\\item 5\n\\item 6\n\\item 3\n\\item 8\n\\item 8\n\\item 8\n\\item 8\n\\item 8\n\\item 8\n\\item 8\n\\item 8\n\\item 8\n\\item 8\n\\item 9\n\\item 6\n\\item 6\n\\item 5\n\\item 5\n\\item 6\n\\item 5\n\\item 3\n\\item 5\n\\item 5\n\\item 3\n\\item 5\n\\item 5\n\\item 5\n\\item 6\n\\item 5\n\\item 5\n\\item 6\n\\item 5\n\\item 5\n\\item 3\n\\item 5\n\\item 5\n\\item 5\n\\end{enumerate*}\n",
            "text/plain": [
              "  [1] 5 5 5 5 5 5 5 5 3 5 5 5 5 5 5 5 5 5 5 5 5 5 5 6 3 5 6 9 9 6 5 5 5 5 5 8 8\n",
              " [38] 6 8 9 8 8 8 8 5 6 6 3 6 8 8 9 3 8 8 6 9 8 8 8 6 3 6 6 8 8 8 8 8 8 9 6 6 5\n",
              " [75] 3 5 6 6 5 5 6 3 8 8 8 8 8 8 8 8 8 8 9 6 6 5 5 6 5 3 5 5 3 5 5 5 6 5 5 6 5\n",
              "[112] 5 3 5 5 5"
            ]
          },
          "metadata": {}
        }
      ]
    },
    {
      "cell_type": "code",
      "source": [
        "mean((airq$Ozone - predict(airct))^2)"
      ],
      "metadata": {
        "colab": {
          "base_uri": "https://localhost:8080/",
          "height": 34
        },
        "id": "J5ro7iP74nWc",
        "outputId": "d80d01cc-1a01-4e78-b846-ff693c6c9045"
      },
      "execution_count": 20,
      "outputs": [
        {
          "output_type": "display_data",
          "data": {
            "text/html": [
              "403.666774425287"
            ],
            "text/markdown": "403.666774425287",
            "text/latex": "403.666774425287",
            "text/plain": [
              "[1] 403.6668"
            ]
          },
          "metadata": {}
        }
      ]
    }
  ],
  "metadata": {
    "colab": {
      "provenance": []
    },
    "kernelspec": {
      "display_name": "R",
      "name": "ir"
    },
    "language_info": {
      "name": "R"
    }
  },
  "nbformat": 4,
  "nbformat_minor": 0
}