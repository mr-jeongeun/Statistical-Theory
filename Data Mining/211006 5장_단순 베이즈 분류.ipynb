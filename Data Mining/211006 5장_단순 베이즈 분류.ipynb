{
  "cells": [
    {
      "cell_type": "markdown",
      "source": [
        "+ 단순 베이즈 분류 : 베이즈 정리에 기반한 방법 & 계산 단순화가 목적\n",
        "  + 사후확률이 큰 집단으로 새로운 데이터를 분류함\n",
        "  + 사후확률의 계산을 좀 더 편하게 할 수 있도록 예측변수들 간의 독립을 가정함\n",
        "  + $p(C_j|x) = \\frac {p(C_j)p(x|C_j)} {p(x)}$\n",
        "    + posterior prob = prior prob * likelihood\n",
        "  + $p(x|C_j) = p(x_1|C_j)p(x_2|C_j)...p(x_d|C_j)$\n",
        "\n",
        "+ 단순 베이즈 분류에서 낮은-빈도 문제를 해결하기 위해서는 모든 속성값-군집 조합에 대한 빈도에 작은 수를 더하여 계산을 수행하면 됨\n",
        "+ 사전확률을 정할 때에는 모집단의 빈도에 기초하는 것이 더 유연함\n",
        "+ 각 확률을 계산할 때에는 각 상황을 정규분포라고 가정하고 분포에 값을 대입하여 구함(-> 평균, 분산 활용)"
      ],
      "metadata": {
        "id": "-sst11JD1SPE"
      }
    },
    {
      "cell_type": "markdown",
      "source": [
        "### 예제 1."
      ],
      "metadata": {
        "id": "LX9ahV3a1UUD"
      }
    },
    {
      "cell_type": "code",
      "source": [
        "install.packages(\"e1071\")\n",
        "library(e1071)\n",
        "data(iris)\n",
        "head(iris)"
      ],
      "metadata": {
        "colab": {
          "base_uri": "https://localhost:8080/",
          "height": 393
        },
        "id": "5t1R324w1Wnj",
        "outputId": "92fc9500-0daf-4176-f1d6-3f9ac6f0b0e6"
      },
      "execution_count": 1,
      "outputs": [
        {
          "output_type": "stream",
          "name": "stderr",
          "text": [
            "Installing package into ‘/usr/local/lib/R/site-library’\n",
            "(as ‘lib’ is unspecified)\n",
            "\n",
            "also installing the dependency ‘proxy’\n",
            "\n",
            "\n"
          ]
        },
        {
          "output_type": "display_data",
          "data": {
            "text/html": [
              "<table class=\"dataframe\">\n",
              "<caption>A data.frame: 6 × 5</caption>\n",
              "<thead>\n",
              "\t<tr><th></th><th scope=col>Sepal.Length</th><th scope=col>Sepal.Width</th><th scope=col>Petal.Length</th><th scope=col>Petal.Width</th><th scope=col>Species</th></tr>\n",
              "\t<tr><th></th><th scope=col>&lt;dbl&gt;</th><th scope=col>&lt;dbl&gt;</th><th scope=col>&lt;dbl&gt;</th><th scope=col>&lt;dbl&gt;</th><th scope=col>&lt;fct&gt;</th></tr>\n",
              "</thead>\n",
              "<tbody>\n",
              "\t<tr><th scope=row>1</th><td>5.1</td><td>3.5</td><td>1.4</td><td>0.2</td><td>setosa</td></tr>\n",
              "\t<tr><th scope=row>2</th><td>4.9</td><td>3.0</td><td>1.4</td><td>0.2</td><td>setosa</td></tr>\n",
              "\t<tr><th scope=row>3</th><td>4.7</td><td>3.2</td><td>1.3</td><td>0.2</td><td>setosa</td></tr>\n",
              "\t<tr><th scope=row>4</th><td>4.6</td><td>3.1</td><td>1.5</td><td>0.2</td><td>setosa</td></tr>\n",
              "\t<tr><th scope=row>5</th><td>5.0</td><td>3.6</td><td>1.4</td><td>0.2</td><td>setosa</td></tr>\n",
              "\t<tr><th scope=row>6</th><td>5.4</td><td>3.9</td><td>1.7</td><td>0.4</td><td>setosa</td></tr>\n",
              "</tbody>\n",
              "</table>\n"
            ],
            "text/markdown": "\nA data.frame: 6 × 5\n\n| <!--/--> | Sepal.Length &lt;dbl&gt; | Sepal.Width &lt;dbl&gt; | Petal.Length &lt;dbl&gt; | Petal.Width &lt;dbl&gt; | Species &lt;fct&gt; |\n|---|---|---|---|---|---|\n| 1 | 5.1 | 3.5 | 1.4 | 0.2 | setosa |\n| 2 | 4.9 | 3.0 | 1.4 | 0.2 | setosa |\n| 3 | 4.7 | 3.2 | 1.3 | 0.2 | setosa |\n| 4 | 4.6 | 3.1 | 1.5 | 0.2 | setosa |\n| 5 | 5.0 | 3.6 | 1.4 | 0.2 | setosa |\n| 6 | 5.4 | 3.9 | 1.7 | 0.4 | setosa |\n\n",
            "text/latex": "A data.frame: 6 × 5\n\\begin{tabular}{r|lllll}\n  & Sepal.Length & Sepal.Width & Petal.Length & Petal.Width & Species\\\\\n  & <dbl> & <dbl> & <dbl> & <dbl> & <fct>\\\\\n\\hline\n\t1 & 5.1 & 3.5 & 1.4 & 0.2 & setosa\\\\\n\t2 & 4.9 & 3.0 & 1.4 & 0.2 & setosa\\\\\n\t3 & 4.7 & 3.2 & 1.3 & 0.2 & setosa\\\\\n\t4 & 4.6 & 3.1 & 1.5 & 0.2 & setosa\\\\\n\t5 & 5.0 & 3.6 & 1.4 & 0.2 & setosa\\\\\n\t6 & 5.4 & 3.9 & 1.7 & 0.4 & setosa\\\\\n\\end{tabular}\n",
            "text/plain": [
              "  Sepal.Length Sepal.Width Petal.Length Petal.Width Species\n",
              "1 5.1          3.5         1.4          0.2         setosa \n",
              "2 4.9          3.0         1.4          0.2         setosa \n",
              "3 4.7          3.2         1.3          0.2         setosa \n",
              "4 4.6          3.1         1.5          0.2         setosa \n",
              "5 5.0          3.6         1.4          0.2         setosa \n",
              "6 5.4          3.9         1.7          0.4         setosa "
            ]
          },
          "metadata": {}
        }
      ]
    },
    {
      "cell_type": "code",
      "source": [
        "m = naiveBayes(Species ~ ., data = iris)\n",
        "m"
      ],
      "metadata": {
        "colab": {
          "base_uri": "https://localhost:8080/",
          "height": 642
        },
        "id": "TUEt_gBq1hQh",
        "outputId": "ba776232-d698-4d37-fd66-7f9e00cf6550"
      },
      "execution_count": 2,
      "outputs": [
        {
          "output_type": "display_data",
          "data": {
            "text/plain": [
              "\n",
              "Naive Bayes Classifier for Discrete Predictors\n",
              "\n",
              "Call:\n",
              "naiveBayes.default(x = X, y = Y, laplace = laplace)\n",
              "\n",
              "A-priori probabilities:\n",
              "Y\n",
              "    setosa versicolor  virginica \n",
              " 0.3333333  0.3333333  0.3333333 \n",
              "\n",
              "Conditional probabilities:\n",
              "            Sepal.Length\n",
              "Y             [,1]      [,2]\n",
              "  setosa     5.006 0.3524897\n",
              "  versicolor 5.936 0.5161711\n",
              "  virginica  6.588 0.6358796\n",
              "\n",
              "            Sepal.Width\n",
              "Y             [,1]      [,2]\n",
              "  setosa     3.428 0.3790644\n",
              "  versicolor 2.770 0.3137983\n",
              "  virginica  2.974 0.3224966\n",
              "\n",
              "            Petal.Length\n",
              "Y             [,1]      [,2]\n",
              "  setosa     1.462 0.1736640\n",
              "  versicolor 4.260 0.4699110\n",
              "  virginica  5.552 0.5518947\n",
              "\n",
              "            Petal.Width\n",
              "Y             [,1]      [,2]\n",
              "  setosa     0.246 0.1053856\n",
              "  versicolor 1.326 0.1977527\n",
              "  virginica  2.026 0.2746501\n"
            ]
          },
          "metadata": {}
        }
      ]
    },
    {
      "cell_type": "markdown",
      "source": [
        "+ naiveBayes() : 단순 베이즈 분류 수행"
      ],
      "metadata": {
        "id": "qGh7pnVC6IJx"
      }
    },
    {
      "cell_type": "code",
      "source": [
        "table(predict(m, iris), iris[, 5])"
      ],
      "metadata": {
        "colab": {
          "base_uri": "https://localhost:8080/",
          "height": 106
        },
        "id": "t6JAs99_1jK6",
        "outputId": "5f223a0b-c92d-41fe-a206-cfcfb4af2e5d"
      },
      "execution_count": 3,
      "outputs": [
        {
          "output_type": "display_data",
          "data": {
            "text/plain": [
              "            \n",
              "             setosa versicolor virginica\n",
              "  setosa         50          0         0\n",
              "  versicolor      0         47         3\n",
              "  virginica       0          3        47"
            ]
          },
          "metadata": {}
        }
      ]
    },
    {
      "cell_type": "markdown",
      "source": [
        "### 예제 2."
      ],
      "metadata": {
        "id": "tKbL1__K1qJj"
      }
    },
    {
      "cell_type": "markdown",
      "source": [
        "+ Colab에서 ElemStatLearn 패키지의 지난 버전 설치를 진행하지 못하여 코드만 첨부"
      ],
      "metadata": {
        "id": "fbBpAvoz8VLJ"
      }
    },
    {
      "cell_type": "code",
      "source": [
        "# data(spam, package = \"ElemStatLearn\")\n",
        "# library(klaR)\n",
        "\n",
        "# train.ind = sample(1: nrow(spam), ceiling(nrow(spam) * 2 / 3), replace = FALSE)\n",
        "# nb.res = NaiveBayes(spam ~ ., data = spam[train.ind, ])\n",
        "\n",
        "# opar = par(mfrow = c(2, 4))\n",
        "# plot(nb.res)\n",
        "\n",
        "# par(opar)\n",
        "\n",
        "# nb.pred = predict(nb.res, spam[-train.ind, ])\n",
        "# confusion.mat = table(nb.pred$class, spam[-train.ind, \"spam\"])\n",
        "# confusion.mat\n",
        "# sum(diag(confusion.mat)) / sum(confusion.mat)"
      ],
      "metadata": {
        "id": "CHJT3hzh1rMP"
      },
      "execution_count": 4,
      "outputs": []
    },
    {
      "cell_type": "markdown",
      "source": [
        "+ 패키지 {klaR} : 분류 및 시각화를 위한 다양한 함수 제공\n",
        "\n",
        "+ 결측값 포함하는 자료 처리방법\n",
        "  + 훈련단계 : 속성값-군집 조합에 대한 빈도 계산 시 결측값을 포함하는 케이스가 제외됨\n",
        "  + 분류단계 : 결측인 속성이 계산과정에서 생략됨"
      ],
      "metadata": {
        "id": "DrpXYyaL6mJ0"
      }
    },
    {
      "cell_type": "markdown",
      "source": [
        "### 예제 3."
      ],
      "metadata": {
        "id": "0cGZXqT06oE-"
      }
    },
    {
      "cell_type": "code",
      "source": [
        "library(e1071)\n",
        "install.packages(\"mlbench\")\n",
        "data(HouseVotes84, package = \"mlbench\")\n",
        "head(HouseVotes84)"
      ],
      "metadata": {
        "colab": {
          "base_uri": "https://localhost:8080/",
          "height": 340
        },
        "id": "EYT4UMGi6mTg",
        "outputId": "c1d6b385-7607-4737-b53f-f24d84d16525"
      },
      "execution_count": 5,
      "outputs": [
        {
          "output_type": "stream",
          "name": "stderr",
          "text": [
            "Installing package into ‘/usr/local/lib/R/site-library’\n",
            "(as ‘lib’ is unspecified)\n",
            "\n"
          ]
        },
        {
          "output_type": "display_data",
          "data": {
            "text/html": [
              "<table class=\"dataframe\">\n",
              "<caption>A data.frame: 6 × 17</caption>\n",
              "<thead>\n",
              "\t<tr><th></th><th scope=col>Class</th><th scope=col>V1</th><th scope=col>V2</th><th scope=col>V3</th><th scope=col>V4</th><th scope=col>V5</th><th scope=col>V6</th><th scope=col>V7</th><th scope=col>V8</th><th scope=col>V9</th><th scope=col>V10</th><th scope=col>V11</th><th scope=col>V12</th><th scope=col>V13</th><th scope=col>V14</th><th scope=col>V15</th><th scope=col>V16</th></tr>\n",
              "\t<tr><th></th><th scope=col>&lt;fct&gt;</th><th scope=col>&lt;fct&gt;</th><th scope=col>&lt;fct&gt;</th><th scope=col>&lt;fct&gt;</th><th scope=col>&lt;fct&gt;</th><th scope=col>&lt;fct&gt;</th><th scope=col>&lt;fct&gt;</th><th scope=col>&lt;fct&gt;</th><th scope=col>&lt;fct&gt;</th><th scope=col>&lt;fct&gt;</th><th scope=col>&lt;fct&gt;</th><th scope=col>&lt;fct&gt;</th><th scope=col>&lt;fct&gt;</th><th scope=col>&lt;fct&gt;</th><th scope=col>&lt;fct&gt;</th><th scope=col>&lt;fct&gt;</th><th scope=col>&lt;fct&gt;</th></tr>\n",
              "</thead>\n",
              "<tbody>\n",
              "\t<tr><th scope=row>1</th><td>republican</td><td>n </td><td>y</td><td>n</td><td>y </td><td>y </td><td>y</td><td>n</td><td>n</td><td>n</td><td>y</td><td>NA</td><td>y </td><td>y</td><td>y</td><td>n</td><td>y </td></tr>\n",
              "\t<tr><th scope=row>2</th><td>republican</td><td>n </td><td>y</td><td>n</td><td>y </td><td>y </td><td>y</td><td>n</td><td>n</td><td>n</td><td>n</td><td>n </td><td>y </td><td>y</td><td>y</td><td>n</td><td>NA</td></tr>\n",
              "\t<tr><th scope=row>3</th><td>democrat  </td><td>NA</td><td>y</td><td>y</td><td>NA</td><td>y </td><td>y</td><td>n</td><td>n</td><td>n</td><td>n</td><td>y </td><td>n </td><td>y</td><td>y</td><td>n</td><td>n </td></tr>\n",
              "\t<tr><th scope=row>4</th><td>democrat  </td><td>n </td><td>y</td><td>y</td><td>n </td><td>NA</td><td>y</td><td>n</td><td>n</td><td>n</td><td>n</td><td>y </td><td>n </td><td>y</td><td>n</td><td>n</td><td>y </td></tr>\n",
              "\t<tr><th scope=row>5</th><td>democrat  </td><td>y </td><td>y</td><td>y</td><td>n </td><td>y </td><td>y</td><td>n</td><td>n</td><td>n</td><td>n</td><td>y </td><td>NA</td><td>y</td><td>y</td><td>y</td><td>y </td></tr>\n",
              "\t<tr><th scope=row>6</th><td>democrat  </td><td>n </td><td>y</td><td>y</td><td>n </td><td>y </td><td>y</td><td>n</td><td>n</td><td>n</td><td>n</td><td>n </td><td>n </td><td>y</td><td>y</td><td>y</td><td>y </td></tr>\n",
              "</tbody>\n",
              "</table>\n"
            ],
            "text/markdown": "\nA data.frame: 6 × 17\n\n| <!--/--> | Class &lt;fct&gt; | V1 &lt;fct&gt; | V2 &lt;fct&gt; | V3 &lt;fct&gt; | V4 &lt;fct&gt; | V5 &lt;fct&gt; | V6 &lt;fct&gt; | V7 &lt;fct&gt; | V8 &lt;fct&gt; | V9 &lt;fct&gt; | V10 &lt;fct&gt; | V11 &lt;fct&gt; | V12 &lt;fct&gt; | V13 &lt;fct&gt; | V14 &lt;fct&gt; | V15 &lt;fct&gt; | V16 &lt;fct&gt; |\n|---|---|---|---|---|---|---|---|---|---|---|---|---|---|---|---|---|---|\n| 1 | republican | n  | y | n | y  | y  | y | n | n | n | y | NA | y  | y | y | n | y  |\n| 2 | republican | n  | y | n | y  | y  | y | n | n | n | n | n  | y  | y | y | n | NA |\n| 3 | democrat   | NA | y | y | NA | y  | y | n | n | n | n | y  | n  | y | y | n | n  |\n| 4 | democrat   | n  | y | y | n  | NA | y | n | n | n | n | y  | n  | y | n | n | y  |\n| 5 | democrat   | y  | y | y | n  | y  | y | n | n | n | n | y  | NA | y | y | y | y  |\n| 6 | democrat   | n  | y | y | n  | y  | y | n | n | n | n | n  | n  | y | y | y | y  |\n\n",
            "text/latex": "A data.frame: 6 × 17\n\\begin{tabular}{r|lllllllllllllllll}\n  & Class & V1 & V2 & V3 & V4 & V5 & V6 & V7 & V8 & V9 & V10 & V11 & V12 & V13 & V14 & V15 & V16\\\\\n  & <fct> & <fct> & <fct> & <fct> & <fct> & <fct> & <fct> & <fct> & <fct> & <fct> & <fct> & <fct> & <fct> & <fct> & <fct> & <fct> & <fct>\\\\\n\\hline\n\t1 & republican & n  & y & n & y  & y  & y & n & n & n & y & NA & y  & y & y & n & y \\\\\n\t2 & republican & n  & y & n & y  & y  & y & n & n & n & n & n  & y  & y & y & n & NA\\\\\n\t3 & democrat   & NA & y & y & NA & y  & y & n & n & n & n & y  & n  & y & y & n & n \\\\\n\t4 & democrat   & n  & y & y & n  & NA & y & n & n & n & n & y  & n  & y & n & n & y \\\\\n\t5 & democrat   & y  & y & y & n  & y  & y & n & n & n & n & y  & NA & y & y & y & y \\\\\n\t6 & democrat   & n  & y & y & n  & y  & y & n & n & n & n & n  & n  & y & y & y & y \\\\\n\\end{tabular}\n",
            "text/plain": [
              "  Class      V1 V2 V3 V4 V5 V6 V7 V8 V9 V10 V11 V12 V13 V14 V15 V16\n",
              "1 republican n  y  n  y  y  y  n  n  n  y   NA  y   y   y   n   y  \n",
              "2 republican n  y  n  y  y  y  n  n  n  n   n   y   y   y   n   NA \n",
              "3 democrat   NA y  y  NA y  y  n  n  n  n   y   n   y   y   n   n  \n",
              "4 democrat   n  y  y  n  NA y  n  n  n  n   y   n   y   n   n   y  \n",
              "5 democrat   y  y  y  n  y  y  n  n  n  n   y   NA  y   y   y   y  \n",
              "6 democrat   n  y  y  n  y  y  n  n  n  n   n   n   y   y   y   y  "
            ]
          },
          "metadata": {}
        }
      ]
    },
    {
      "cell_type": "code",
      "source": [
        "summary(HouseVotes84)"
      ],
      "metadata": {
        "colab": {
          "base_uri": "https://localhost:8080/",
          "height": 231
        },
        "id": "CUFYMlA66sju",
        "outputId": "9e201e6c-f89b-4131-bf72-726a4f03b6d7"
      },
      "execution_count": 6,
      "outputs": [
        {
          "output_type": "display_data",
          "data": {
            "text/plain": [
              "        Class        V1         V2         V3         V4         V5     \n",
              " democrat  :267   n   :236   n   :192   n   :171   n   :247   n   :208  \n",
              " republican:168   y   :187   y   :195   y   :253   y   :177   y   :212  \n",
              "                  NA's: 12   NA's: 48   NA's: 11   NA's: 11   NA's: 15  \n",
              "    V6         V7         V8         V9        V10        V11        V12     \n",
              " n   :152   n   :182   n   :178   n   :206   n   :212   n   :264   n   :233  \n",
              " y   :272   y   :239   y   :242   y   :207   y   :216   y   :150   y   :171  \n",
              " NA's: 11   NA's: 14   NA's: 15   NA's: 22   NA's:  7   NA's: 21   NA's: 31  \n",
              "   V13        V14        V15        V16     \n",
              " n   :201   n   :170   n   :233   n   : 62  \n",
              " y   :209   y   :248   y   :174   y   :269  \n",
              " NA's: 25   NA's: 17   NA's: 28   NA's:104  "
            ]
          },
          "metadata": {}
        }
      ]
    },
    {
      "cell_type": "code",
      "source": [
        "model = naiveBayes(Class ~ ., data = HouseVotes84)\n",
        "pred = predict(model, HouseVotes84[, -1])\n",
        "tab = table(pred, HouseVotes84$Class)\n",
        "tab"
      ],
      "metadata": {
        "colab": {
          "base_uri": "https://localhost:8080/",
          "height": 88
        },
        "id": "kt_kV9Ko62VU",
        "outputId": "e80ea156-a13e-4e62-f99d-ba4950a244b8"
      },
      "execution_count": 7,
      "outputs": [
        {
          "output_type": "display_data",
          "data": {
            "text/plain": [
              "            \n",
              "pred         democrat republican\n",
              "  democrat        238         13\n",
              "  republican       29        155"
            ]
          },
          "metadata": {}
        }
      ]
    },
    {
      "cell_type": "code",
      "source": [
        "table(HouseVotes84$Class)"
      ],
      "metadata": {
        "colab": {
          "base_uri": "https://localhost:8080/",
          "height": 71
        },
        "id": "QM0ufnKY64ca",
        "outputId": "abdfa7af-3c79-4fa8-ffb2-d955c6dcd256"
      },
      "execution_count": 8,
      "outputs": [
        {
          "output_type": "display_data",
          "data": {
            "text/plain": [
              "\n",
              "  democrat republican \n",
              "       267        168 "
            ]
          },
          "metadata": {}
        }
      ]
    },
    {
      "cell_type": "code",
      "source": [
        "sum(tab[row(tab) == col(tab)]) / sum(tab)"
      ],
      "metadata": {
        "colab": {
          "base_uri": "https://localhost:8080/",
          "height": 34
        },
        "id": "ijKR-h7z66W8",
        "outputId": "638632c1-3be8-4588-8114-a70456c1ac46"
      },
      "execution_count": 9,
      "outputs": [
        {
          "output_type": "display_data",
          "data": {
            "text/html": [
              "0.903448275862069"
            ],
            "text/markdown": "0.903448275862069",
            "text/latex": "0.903448275862069",
            "text/plain": [
              "[1] 0.9034483"
            ]
          },
          "metadata": {}
        }
      ]
    }
  ],
  "metadata": {
    "colab": {
      "provenance": []
    },
    "kernelspec": {
      "display_name": "R",
      "name": "ir"
    },
    "language_info": {
      "name": "R"
    }
  },
  "nbformat": 4,
  "nbformat_minor": 0
}