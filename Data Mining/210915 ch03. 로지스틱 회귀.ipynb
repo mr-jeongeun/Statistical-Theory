{
  "cells": [
    {
      "cell_type": "markdown",
      "source": [
        "+ 로지스틱 회귀 : 반응변수(y)가 범주형일 때 적용되는 회귀분석모형\n",
        "  + 사후확률 : 이때 모형의 적합을 통해 추정된 확률\n",
        "  + 특징(장점): y가 범주형인데 일반 회귀적합을 하면 (0 or 1 = -$\\infty$ ~ $\\infty$)의 양변의 구조적 문제가 발생하여 오류 → log(오즈)로 구조적 문제 해결 / 오증의 완점에서 해석될 수 있음\n",
        "    + 회귀계수 $\\beta_1$ 해석 : 나머지 변수가 주어질 때 $x_1$이 한 단위 증가할 때마다 $e^{오즈}$가 증가함\n",
        "  + 목적 : 예측 + 분류\n",
        "    + 분류 : $\\pi(x)$가 기준값보다 크면 $Y=1$집단으로, 작으면 $Y=0$집단으로 분류\n",
        "  + 형태\n",
        "    1) $log(\\frac {\\pi(x)} {1 - \\pi(x)}) = \\alpha + \\beta_1 x_1 + ... + \\beta_k x_k$\n",
        "    2) $\\pi(x) = \\frac {exp(\\alpha + \\beta_1 x_1 + ... + \\beta_k x_k)} {1 + exp(\\alpha + \\beta_1 x_1 + ... + \\beta_k x_k)}$\n",
        "    3) = $ \\frac {1} {exp{-(\\alpha + \\beta_1 x_1 + ... + \\beta_k x_k)}}$\n",
        "    4) $\\frac {\\pi(x)} {1 - \\pi(x)} = e^{\\alpha + \\beta_1 x_1 + ... + \\beta_k x_k}$\n",
        "    \n",
        "    + 위 식은 표준 로지스틱 분포의 누적분포함수(c.d.f)를 $F(x)$라고 할 때, $\\pi(x) = F(\\alpha + \\beta_1 x_1 + ... + \\beta_k x_k)$와 동일한 표현\n",
        "      + 의미 : 표준 로지스틱 분포의 누적분포함수로 성공의 확률을 설명한다.\n",
        "\n",
        "+ 프로빗모형 : 위 식에서 $F(*)$ 대신 표준정규분포의 누적함수 $\\Phi(*)$로 성공의 확률을 모형화 한 것\n",
        "  + 모형 : $\\Phi(\\pi(x)) = \\alpha + \\beta_1 x_1 + ... + \\beta_k x_k$"
      ],
      "metadata": {
        "id": "MUua9bmo28pD"
      }
    },
    {
      "cell_type": "markdown",
      "source": [
        "### 예제 1."
      ],
      "metadata": {
        "id": "-dxup5YK3Hgu"
      }
    },
    {
      "cell_type": "code",
      "source": [
        "data(iris)\n",
        "a = subset(iris, Species == \"setosa\" | Species == \"versicolor\")\n",
        "a$Species = factor(a$Species)\n",
        "str(a)"
      ],
      "metadata": {
        "colab": {
          "base_uri": "https://localhost:8080/"
        },
        "id": "TNlhZRIT3J8s",
        "outputId": "9f8dc77b-ab24-4944-8999-f4b74f79a51b"
      },
      "execution_count": 1,
      "outputs": [
        {
          "output_type": "stream",
          "name": "stdout",
          "text": [
            "'data.frame':\t100 obs. of  5 variables:\n",
            " $ Sepal.Length: num  5.1 4.9 4.7 4.6 5 5.4 4.6 5 4.4 4.9 ...\n",
            " $ Sepal.Width : num  3.5 3 3.2 3.1 3.6 3.9 3.4 3.4 2.9 3.1 ...\n",
            " $ Petal.Length: num  1.4 1.4 1.3 1.5 1.4 1.7 1.4 1.5 1.4 1.5 ...\n",
            " $ Petal.Width : num  0.2 0.2 0.2 0.2 0.2 0.4 0.3 0.2 0.2 0.1 ...\n",
            " $ Species     : Factor w/ 2 levels \"setosa\",\"versicolor\": 1 1 1 1 1 1 1 1 1 1 ...\n"
          ]
        }
      ]
    },
    {
      "cell_type": "markdown",
      "source": [
        "+ Species는 요인형 변수 : setosa(Y = 1), versicolor(Y = 2)\n",
        "  + 이 자료를 로지스틱 회귀하면, 큰 숫자(Y = 2) versicolor 오즈를 모형화"
      ],
      "metadata": {
        "id": "sM17HMaA3MAS"
      }
    },
    {
      "cell_type": "code",
      "source": [
        "b = glm(Species ~ Sepal.Length, data = a, family = binomial)\n",
        "summary(b)"
      ],
      "metadata": {
        "colab": {
          "base_uri": "https://localhost:8080/",
          "height": 338
        },
        "id": "dgn_P2EP3J55",
        "outputId": "ec4e007c-af12-4578-c96d-97b6b797e287"
      },
      "execution_count": 2,
      "outputs": [
        {
          "output_type": "display_data",
          "data": {
            "text/plain": [
              "\n",
              "Call:\n",
              "glm(formula = Species ~ Sepal.Length, family = binomial, data = a)\n",
              "\n",
              "Coefficients:\n",
              "             Estimate Std. Error z value Pr(>|z|)    \n",
              "(Intercept)   -27.831      5.434  -5.122 3.02e-07 ***\n",
              "Sepal.Length    5.140      1.007   5.107 3.28e-07 ***\n",
              "---\n",
              "Signif. codes:  0 ‘***’ 0.001 ‘**’ 0.01 ‘*’ 0.05 ‘.’ 0.1 ‘ ’ 1\n",
              "\n",
              "(Dispersion parameter for binomial family taken to be 1)\n",
              "\n",
              "    Null deviance: 138.629  on 99  degrees of freedom\n",
              "Residual deviance:  64.211  on 98  degrees of freedom\n",
              "AIC: 68.211\n",
              "\n",
              "Number of Fisher Scoring iterations: 6\n"
            ]
          },
          "metadata": {}
        }
      ]
    },
    {
      "cell_type": "markdown",
      "source": [
        "+ Sepal.Length는 매우 유의한 변수\n",
        "+ Sepal.Length가 한 단위 증가함에 따라 versicolor(Y = 2)일 오즈가 exp(5.14) = 170배 증가함\n",
        "+ 이탈도 : Null - Residual = 74.4 정도, p-value = 0.997로 귀무가설 기각x, 잘 적합됨"
      ],
      "metadata": {
        "id": "uM8pl-OG3OZE"
      }
    },
    {
      "cell_type": "code",
      "source": [
        "coef(b)"
      ],
      "metadata": {
        "colab": {
          "base_uri": "https://localhost:8080/",
          "height": 34
        },
        "id": "_nT3e3dM3Qlq",
        "outputId": "5991ab20-d8a9-4930-9aaa-6e360aa1f6e7"
      },
      "execution_count": 3,
      "outputs": [
        {
          "output_type": "display_data",
          "data": {
            "text/html": [
              "<style>\n",
              ".dl-inline {width: auto; margin:0; padding: 0}\n",
              ".dl-inline>dt, .dl-inline>dd {float: none; width: auto; display: inline-block}\n",
              ".dl-inline>dt::after {content: \":\\0020\"; padding-right: .5ex}\n",
              ".dl-inline>dt:not(:first-of-type) {padding-left: .5ex}\n",
              "</style><dl class=dl-inline><dt>(Intercept)</dt><dd>-27.8314509865048</dd><dt>Sepal.Length</dt><dd>5.14033613779181</dd></dl>\n"
            ],
            "text/markdown": "(Intercept)\n:   -27.8314509865048Sepal.Length\n:   5.14033613779181\n\n",
            "text/latex": "\\begin{description*}\n\\item[(Intercept)] -27.8314509865048\n\\item[Sepal.Length] 5.14033613779181\n\\end{description*}\n",
            "text/plain": [
              " (Intercept) Sepal.Length \n",
              "  -27.831451     5.140336 "
            ]
          },
          "metadata": {}
        }
      ]
    },
    {
      "cell_type": "code",
      "source": [
        "exp(coef(b)[\"Sepal.Length\"])"
      ],
      "metadata": {
        "colab": {
          "base_uri": "https://localhost:8080/",
          "height": 34
        },
        "id": "vbFfUzON3QjU",
        "outputId": "24aba4a5-40c7-409d-c01a-84e16f406d39"
      },
      "execution_count": 4,
      "outputs": [
        {
          "output_type": "display_data",
          "data": {
            "text/html": [
              "<strong>Sepal.Length:</strong> 170.773161988263"
            ],
            "text/markdown": "**Sepal.Length:** 170.773161988263",
            "text/latex": "\\textbf{Sepal.Length:} 170.773161988263",
            "text/plain": [
              "Sepal.Length \n",
              "    170.7732 "
            ]
          },
          "metadata": {}
        }
      ]
    },
    {
      "cell_type": "code",
      "source": [
        "confint(b, parm = \"Sepal.Length\")"
      ],
      "metadata": {
        "colab": {
          "base_uri": "https://localhost:8080/",
          "height": 70
        },
        "id": "W8Nv3Rvn3Qc7",
        "outputId": "979b0081-ee7a-4d44-dcf2-d111ba70eac7"
      },
      "execution_count": 5,
      "outputs": [
        {
          "output_type": "stream",
          "name": "stderr",
          "text": [
            "Waiting for profiling to be done...\n",
            "\n"
          ]
        },
        {
          "output_type": "display_data",
          "data": {
            "text/html": [
              "<style>\n",
              ".dl-inline {width: auto; margin:0; padding: 0}\n",
              ".dl-inline>dt, .dl-inline>dd {float: none; width: auto; display: inline-block}\n",
              ".dl-inline>dt::after {content: \":\\0020\"; padding-right: .5ex}\n",
              ".dl-inline>dt:not(:first-of-type) {padding-left: .5ex}\n",
              "</style><dl class=dl-inline><dt>2.5 %</dt><dd>3.42161349390365</dd><dt>97.5 %</dt><dd>7.41550849942133</dd></dl>\n"
            ],
            "text/markdown": "2.5 %\n:   3.4216134939036597.5 %\n:   7.41550849942133\n\n",
            "text/latex": "\\begin{description*}\n\\item[2.5 \\textbackslash{}\\%] 3.42161349390365\n\\item[97.5 \\textbackslash{}\\%] 7.41550849942133\n\\end{description*}\n",
            "text/plain": [
              "   2.5 %   97.5 % \n",
              "3.421613 7.415508 "
            ]
          },
          "metadata": {}
        }
      ]
    },
    {
      "cell_type": "code",
      "source": [
        "exp(confint(b, parm = \"Sepal.Length\"))"
      ],
      "metadata": {
        "colab": {
          "base_uri": "https://localhost:8080/",
          "height": 70
        },
        "id": "ZxehXGz-3VXL",
        "outputId": "8977eb6b-b6b2-431d-9bd8-93c123f44ca7"
      },
      "execution_count": 6,
      "outputs": [
        {
          "output_type": "stream",
          "name": "stderr",
          "text": [
            "Waiting for profiling to be done...\n",
            "\n"
          ]
        },
        {
          "output_type": "display_data",
          "data": {
            "text/html": [
              "<style>\n",
              ".dl-inline {width: auto; margin:0; padding: 0}\n",
              ".dl-inline>dt, .dl-inline>dd {float: none; width: auto; display: inline-block}\n",
              ".dl-inline>dt::after {content: \":\\0020\"; padding-right: .5ex}\n",
              ".dl-inline>dt:not(:first-of-type) {padding-left: .5ex}\n",
              "</style><dl class=dl-inline><dt>2.5 %</dt><dd>30.6187783988702</dd><dt>97.5 %</dt><dd>1661.55385279045</dd></dl>\n"
            ],
            "text/markdown": "2.5 %\n:   30.618778398870297.5 %\n:   1661.55385279045\n\n",
            "text/latex": "\\begin{description*}\n\\item[2.5 \\textbackslash{}\\%] 30.6187783988702\n\\item[97.5 \\textbackslash{}\\%] 1661.55385279045\n\\end{description*}\n",
            "text/plain": [
              "     2.5 %     97.5 % \n",
              "  30.61878 1661.55385 "
            ]
          },
          "metadata": {}
        }
      ]
    },
    {
      "cell_type": "code",
      "source": [
        "fitted(b)[c(1:5, 96:100)]  # p(y = 2) : versicolor 일 확률의 추정값"
      ],
      "metadata": {
        "colab": {
          "base_uri": "https://localhost:8080/",
          "height": 52
        },
        "id": "pAtzUUcS3WeY",
        "outputId": "cfb96b82-5ba5-4f02-de2e-cfe6ea223393"
      },
      "execution_count": 7,
      "outputs": [
        {
          "output_type": "display_data",
          "data": {
            "text/html": [
              "<style>\n",
              ".dl-inline {width: auto; margin:0; padding: 0}\n",
              ".dl-inline>dt, .dl-inline>dd {float: none; width: auto; display: inline-block}\n",
              ".dl-inline>dt::after {content: \":\\0020\"; padding-right: .5ex}\n",
              ".dl-inline>dt:not(:first-of-type) {padding-left: .5ex}\n",
              "</style><dl class=dl-inline><dt>1</dt><dd>0.165793673130113</dd><dt>2</dt><dd>0.0663719305866138</dd><dt>3</dt><dd>0.0247982535699575</dd><dt>4</dt><dd>0.0149806081609909</dd><dt>5</dt><dd>0.106236800075159</dd><dt>96</dt><dd>0.812823961304027</dd><dt>97</dt><dd>0.812823961304027</dd><dt>98</dt><dd>0.982683598308999</dd><dt>99</dt><dd>0.165793673130113</dd><dt>100</dt><dd>0.812823961304027</dd></dl>\n"
            ],
            "text/markdown": "1\n:   0.1657936731301132\n:   0.06637193058661383\n:   0.02479825356995754\n:   0.01498060816099095\n:   0.10623680007515996\n:   0.81282396130402797\n:   0.81282396130402798\n:   0.98268359830899999\n:   0.165793673130113100\n:   0.812823961304027\n\n",
            "text/latex": "\\begin{description*}\n\\item[1] 0.165793673130113\n\\item[2] 0.0663719305866138\n\\item[3] 0.0247982535699575\n\\item[4] 0.0149806081609909\n\\item[5] 0.106236800075159\n\\item[96] 0.812823961304027\n\\item[97] 0.812823961304027\n\\item[98] 0.982683598308999\n\\item[99] 0.165793673130113\n\\item[100] 0.812823961304027\n\\end{description*}\n",
            "text/plain": [
              "         1          2          3          4          5         96         97 \n",
              "0.16579367 0.06637193 0.02479825 0.01498061 0.10623680 0.81282396 0.81282396 \n",
              "        98         99        100 \n",
              "0.98268360 0.16579367 0.81282396 "
            ]
          },
          "metadata": {}
        }
      ]
    },
    {
      "cell_type": "code",
      "source": [
        "predict(b, newdata = a[c(1, 50, 51, 100), ], type = \"response\")"
      ],
      "metadata": {
        "colab": {
          "base_uri": "https://localhost:8080/",
          "height": 34
        },
        "id": "qPb66tdh3WcW",
        "outputId": "b81eab61-693e-4620-b23d-ee67842c7820"
      },
      "execution_count": 8,
      "outputs": [
        {
          "output_type": "display_data",
          "data": {
            "text/html": [
              "<style>\n",
              ".dl-inline {width: auto; margin:0; padding: 0}\n",
              ".dl-inline>dt, .dl-inline>dd {float: none; width: auto; display: inline-block}\n",
              ".dl-inline>dt::after {content: \":\\0020\"; padding-right: .5ex}\n",
              ".dl-inline>dt:not(:first-of-type) {padding-left: .5ex}\n",
              "</style><dl class=dl-inline><dt>1</dt><dd>0.165793673130113</dd><dt>50</dt><dd>0.106236800075159</dd><dt>51</dt><dd>0.99971160814976</dd><dt>100</dt><dd>0.812823961304027</dd></dl>\n"
            ],
            "text/markdown": "1\n:   0.16579367313011350\n:   0.10623680007515951\n:   0.99971160814976100\n:   0.812823961304027\n\n",
            "text/latex": "\\begin{description*}\n\\item[1] 0.165793673130113\n\\item[50] 0.106236800075159\n\\item[51] 0.99971160814976\n\\item[100] 0.812823961304027\n\\end{description*}\n",
            "text/plain": [
              "        1        50        51       100 \n",
              "0.1657937 0.1062368 0.9997116 0.8128240 "
            ]
          },
          "metadata": {}
        }
      ]
    },
    {
      "cell_type": "code",
      "source": [
        "cdplot(Species ~ Sepal.Length, data = a)"
      ],
      "metadata": {
        "colab": {
          "base_uri": "https://localhost:8080/",
          "height": 437
        },
        "id": "qaeWqyjl3WZ6",
        "outputId": "7ec0a23e-c8f7-46a8-c370-98d06a5e3778"
      },
      "execution_count": 9,
      "outputs": [
        {
          "output_type": "display_data",
          "data": {
            "text/plain": [
              "Plot with title “”"
            ],
            "image/png": "[encoded data removed]"
          },
          "metadata": {
            "image/png": {
              "width": 420,
              "height": 420
            }
          }
        }
      ]
    },
    {
      "cell_type": "code",
      "source": [
        "plot(a$Sepal.Length, a$Species, xlab = \"Sepal.Length\")\n",
        "x = seq(min(a$Sepal.Length), max(a$Sepal.Length), 0.1)\n",
        "lines(x, 1 + (1 / (1 + (1 / exp(-27.831 + 5.140 * x)))), type = \"l\", col = \"red\")"
      ],
      "metadata": {
        "colab": {
          "base_uri": "https://localhost:8080/",
          "height": 437
        },
        "id": "5jHrrjc23WXv",
        "outputId": "47911fc9-cd96-4ba4-9eed-3ebd9ffb381f"
      },
      "execution_count": 10,
      "outputs": [
        {
          "output_type": "display_data",
          "data": {
            "text/plain": [
              "plot without title"
            ],
            "image/png": "[encoded data removed]"
          },
          "metadata": {
            "image/png": {
              "width": 420,
              "height": 420
            }
          }
        }
      ]
    },
    {
      "cell_type": "markdown",
      "source": [
        "+ Sepal.Length가 커짐에 따라 versicolor의 확률이 증가함"
      ],
      "metadata": {
        "id": "YJibbAUb3dQA"
      }
    },
    {
      "cell_type": "markdown",
      "source": [
        "### 예제 2."
      ],
      "metadata": {
        "id": "sTNbiH4i3e5E"
      }
    },
    {
      "cell_type": "code",
      "source": [
        "attach(mtcars)\n",
        "str(mtcars)"
      ],
      "metadata": {
        "colab": {
          "base_uri": "https://localhost:8080/"
        },
        "id": "V9mb1T863fXD",
        "outputId": "57a2f09d-ec81-4e88-d8f9-1d1ec277fa27"
      },
      "execution_count": 12,
      "outputs": [
        {
          "output_type": "stream",
          "name": "stdout",
          "text": [
            "'data.frame':\t32 obs. of  11 variables:\n",
            " $ mpg : num  21 21 22.8 21.4 18.7 18.1 14.3 24.4 22.8 19.2 ...\n",
            " $ cyl : num  6 6 4 6 8 6 8 4 4 6 ...\n",
            " $ disp: num  160 160 108 258 360 ...\n",
            " $ hp  : num  110 110 93 110 175 105 245 62 95 123 ...\n",
            " $ drat: num  3.9 3.9 3.85 3.08 3.15 2.76 3.21 3.69 3.92 3.92 ...\n",
            " $ wt  : num  2.62 2.88 2.32 3.21 3.44 ...\n",
            " $ qsec: num  16.5 17 18.6 19.4 17 ...\n",
            " $ vs  : num  0 0 1 1 0 1 0 1 1 1 ...\n",
            " $ am  : num  1 1 1 0 0 0 0 0 0 0 ...\n",
            " $ gear: num  4 4 4 3 3 3 3 4 4 4 ...\n",
            " $ carb: num  4 4 1 1 2 1 4 2 2 4 ...\n"
          ]
        }
      ]
    },
    {
      "cell_type": "code",
      "source": [
        "glm.vs = glm(vs ~ mpg + am, data = mtcars, family = binomial)\n",
        "summary(glm.vs)"
      ],
      "metadata": {
        "colab": {
          "base_uri": "https://localhost:8080/",
          "height": 356
        },
        "id": "ZPY6hYmJ3fU8",
        "outputId": "3bd8f540-7b7b-4359-93fe-65bf7d4cc2a3"
      },
      "execution_count": 13,
      "outputs": [
        {
          "output_type": "display_data",
          "data": {
            "text/plain": [
              "\n",
              "Call:\n",
              "glm(formula = vs ~ mpg + am, family = binomial, data = mtcars)\n",
              "\n",
              "Coefficients:\n",
              "            Estimate Std. Error z value Pr(>|z|)   \n",
              "(Intercept) -12.7051     4.6252  -2.747  0.00602 **\n",
              "mpg           0.6809     0.2524   2.698  0.00697 **\n",
              "am           -3.0073     1.5995  -1.880  0.06009 . \n",
              "---\n",
              "Signif. codes:  0 ‘***’ 0.001 ‘**’ 0.01 ‘*’ 0.05 ‘.’ 0.1 ‘ ’ 1\n",
              "\n",
              "(Dispersion parameter for binomial family taken to be 1)\n",
              "\n",
              "    Null deviance: 43.860  on 31  degrees of freedom\n",
              "Residual deviance: 20.646  on 29  degrees of freedom\n",
              "AIC: 26.646\n",
              "\n",
              "Number of Fisher Scoring iterations: 6\n"
            ]
          },
          "metadata": {}
        }
      ]
    },
    {
      "cell_type": "markdown",
      "source": [
        "+ 반응변수 : vs(0 : flat engine, 1 : straight engine)\n",
        "+ mpg 값이 한 단위 증가함에 따라 vs가 1일 오즈가 exp(0.6809) = 1.98배 증가함\n",
        "+ mpg가 주어질 때 오즈에 대한 am의 효과는 exp(-3.0073) = 0.05배, 즉 변속기가 수동인 경우 자동에 비해 vs = 1의 오즈가 95% 감소"
      ],
      "metadata": {
        "id": "4h1O9hm73iPy"
      }
    },
    {
      "cell_type": "code",
      "source": [
        "step.vs = step(glm.vs, direction = \"backward\")\n",
        "summary(step.vs)"
      ],
      "metadata": {
        "colab": {
          "base_uri": "https://localhost:8080/",
          "height": 481
        },
        "id": "Jx0kXsPJ3i5t",
        "outputId": "3b8860c6-e29c-4dc1-dd34-7f8e22403a13"
      },
      "execution_count": 14,
      "outputs": [
        {
          "output_type": "stream",
          "name": "stdout",
          "text": [
            "Start:  AIC=26.65\n",
            "vs ~ mpg + am\n",
            "\n",
            "       Df Deviance    AIC\n",
            "<none>      20.646 26.646\n",
            "- am    1   25.533 29.533\n",
            "- mpg   1   42.953 46.953\n"
          ]
        },
        {
          "output_type": "display_data",
          "data": {
            "text/plain": [
              "\n",
              "Call:\n",
              "glm(formula = vs ~ mpg + am, family = binomial, data = mtcars)\n",
              "\n",
              "Coefficients:\n",
              "            Estimate Std. Error z value Pr(>|z|)   \n",
              "(Intercept) -12.7051     4.6252  -2.747  0.00602 **\n",
              "mpg           0.6809     0.2524   2.698  0.00697 **\n",
              "am           -3.0073     1.5995  -1.880  0.06009 . \n",
              "---\n",
              "Signif. codes:  0 ‘***’ 0.001 ‘**’ 0.01 ‘*’ 0.05 ‘.’ 0.1 ‘ ’ 1\n",
              "\n",
              "(Dispersion parameter for binomial family taken to be 1)\n",
              "\n",
              "    Null deviance: 43.860  on 31  degrees of freedom\n",
              "Residual deviance: 20.646  on 29  degrees of freedom\n",
              "AIC: 26.646\n",
              "\n",
              "Number of Fisher Scoring iterations: 6\n"
            ]
          },
          "metadata": {}
        }
      ]
    },
    {
      "cell_type": "code",
      "source": [
        "ls(glm.vs)"
      ],
      "metadata": {
        "colab": {
          "base_uri": "https://localhost:8080/",
          "height": 52
        },
        "id": "634Bqad93i3T",
        "outputId": "2f9c0774-8794-46f1-d96d-5d42eeb4fcaa"
      },
      "execution_count": 15,
      "outputs": [
        {
          "output_type": "display_data",
          "data": {
            "text/html": [
              "<style>\n",
              ".list-inline {list-style: none; margin:0; padding: 0}\n",
              ".list-inline>li {display: inline-block}\n",
              ".list-inline>li:not(:last-child)::after {content: \"\\00b7\"; padding: 0 .5ex}\n",
              "</style>\n",
              "<ol class=list-inline><li>'aic'</li><li>'boundary'</li><li>'call'</li><li>'coefficients'</li><li>'contrasts'</li><li>'control'</li><li>'converged'</li><li>'data'</li><li>'deviance'</li><li>'df.null'</li><li>'df.residual'</li><li>'effects'</li><li>'family'</li><li>'fitted.values'</li><li>'formula'</li><li>'iter'</li><li>'linear.predictors'</li><li>'method'</li><li>'model'</li><li>'null.deviance'</li><li>'offset'</li><li>'prior.weights'</li><li>'qr'</li><li>'R'</li><li>'rank'</li><li>'residuals'</li><li>'terms'</li><li>'weights'</li><li>'xlevels'</li><li>'y'</li></ol>\n"
            ],
            "text/markdown": "1. 'aic'\n2. 'boundary'\n3. 'call'\n4. 'coefficients'\n5. 'contrasts'\n6. 'control'\n7. 'converged'\n8. 'data'\n9. 'deviance'\n10. 'df.null'\n11. 'df.residual'\n12. 'effects'\n13. 'family'\n14. 'fitted.values'\n15. 'formula'\n16. 'iter'\n17. 'linear.predictors'\n18. 'method'\n19. 'model'\n20. 'null.deviance'\n21. 'offset'\n22. 'prior.weights'\n23. 'qr'\n24. 'R'\n25. 'rank'\n26. 'residuals'\n27. 'terms'\n28. 'weights'\n29. 'xlevels'\n30. 'y'\n\n\n",
            "text/latex": "\\begin{enumerate*}\n\\item 'aic'\n\\item 'boundary'\n\\item 'call'\n\\item 'coefficients'\n\\item 'contrasts'\n\\item 'control'\n\\item 'converged'\n\\item 'data'\n\\item 'deviance'\n\\item 'df.null'\n\\item 'df.residual'\n\\item 'effects'\n\\item 'family'\n\\item 'fitted.values'\n\\item 'formula'\n\\item 'iter'\n\\item 'linear.predictors'\n\\item 'method'\n\\item 'model'\n\\item 'null.deviance'\n\\item 'offset'\n\\item 'prior.weights'\n\\item 'qr'\n\\item 'R'\n\\item 'rank'\n\\item 'residuals'\n\\item 'terms'\n\\item 'weights'\n\\item 'xlevels'\n\\item 'y'\n\\end{enumerate*}\n",
            "text/plain": [
              " [1] \"aic\"               \"boundary\"          \"call\"             \n",
              " [4] \"coefficients\"      \"contrasts\"         \"control\"          \n",
              " [7] \"converged\"         \"data\"              \"deviance\"         \n",
              "[10] \"df.null\"           \"df.residual\"       \"effects\"          \n",
              "[13] \"family\"            \"fitted.values\"     \"formula\"          \n",
              "[16] \"iter\"              \"linear.predictors\" \"method\"           \n",
              "[19] \"model\"             \"null.deviance\"     \"offset\"           \n",
              "[22] \"prior.weights\"     \"qr\"                \"R\"                \n",
              "[25] \"rank\"              \"residuals\"         \"terms\"            \n",
              "[28] \"weights\"           \"xlevels\"           \"y\"                "
            ]
          },
          "metadata": {}
        }
      ]
    },
    {
      "cell_type": "code",
      "source": [
        "str(glm.vs)"
      ],
      "metadata": {
        "colab": {
          "base_uri": "https://localhost:8080/"
        },
        "id": "UgesIvlQ3i1A",
        "outputId": "9a6ab4c9-e843-45bd-a880-d43d54871d34"
      },
      "execution_count": 16,
      "outputs": [
        {
          "output_type": "stream",
          "name": "stdout",
          "text": [
            "List of 30\n",
            " $ coefficients     : Named num [1:3] -12.705 0.681 -3.007\n",
            "  ..- attr(*, \"names\")= chr [1:3] \"(Intercept)\" \"mpg\" \"am\"\n",
            " $ residuals        : Named num [1:32] -1.24 -1.24 2.21 1.15 -2.03 ...\n",
            "  ..- attr(*, \"names\")= chr [1:32] \"Mazda RX4\" \"Mazda RX4 Wag\" \"Datsun 710\" \"Hornet 4 Drive\" ...\n",
            " $ fitted.values    : Named num [1:32] 0.196 0.196 0.453 0.866 0.507 ...\n",
            "  ..- attr(*, \"names\")= chr [1:32] \"Mazda RX4\" \"Mazda RX4 Wag\" \"Datsun 710\" \"Hornet 4 Drive\" ...\n",
            " $ effects          : Named num [1:32] 0.726 -1.939 1.88 0.932 -0.658 ...\n",
            "  ..- attr(*, \"names\")= chr [1:32] \"(Intercept)\" \"mpg\" \"am\" \"\" ...\n",
            " $ R                : num [1:3, 1:3] -1.8 0 0 -35.07 -5.29 ...\n",
            "  ..- attr(*, \"dimnames\")=List of 2\n",
            "  .. ..$ : chr [1:3] \"(Intercept)\" \"mpg\" \"am\"\n",
            "  .. ..$ : chr [1:3] \"(Intercept)\" \"mpg\" \"am\"\n",
            " $ rank             : int 3\n",
            " $ qr               :List of 5\n",
            "  ..$ qr   : num [1:32, 1:3] -1.804 0.22 0.276 0.189 0.277 ...\n",
            "  .. ..- attr(*, \"dimnames\")=List of 2\n",
            "  .. .. ..$ : chr [1:32] \"Mazda RX4\" \"Mazda RX4 Wag\" \"Datsun 710\" \"Hornet 4 Drive\" ...\n",
            "  .. .. ..$ : chr [1:3] \"(Intercept)\" \"mpg\" \"am\"\n",
            "  ..$ rank : int 3\n",
            "  ..$ qraux: num [1:3] 1.22 1.1 1.12\n",
            "  ..$ pivot: int [1:3] 1 2 3\n",
            "  ..$ tol  : num 1e-11\n",
            "  ..- attr(*, \"class\")= chr \"qr\"\n",
            " $ family           :List of 13\n",
            "  ..$ family    : chr \"binomial\"\n",
            "  ..$ link      : chr \"logit\"\n",
            "  ..$ linkfun   :function (mu)  \n",
            "  ..$ linkinv   :function (eta)  \n",
            "  ..$ variance  :function (mu)  \n",
            "  ..$ dev.resids:function (y, mu, wt)  \n",
            "  ..$ aic       :function (y, n, mu, wt, dev)  \n",
            "  ..$ mu.eta    :function (eta)  \n",
            "  ..$ initialize: language {     if (NCOL(y) == 1) { ...\n",
            "  ..$ validmu   :function (mu)  \n",
            "  ..$ valideta  :function (eta)  \n",
            "  ..$ simulate  :function (object, nsim)  \n",
            "  ..$ dispersion: num 1\n",
            "  ..- attr(*, \"class\")= chr \"family\"\n",
            " $ linear.predictors: Named num [1:32] -1.4131 -1.4131 -0.1874 1.8666 0.0281 ...\n",
            "  ..- attr(*, \"names\")= chr [1:32] \"Mazda RX4\" \"Mazda RX4 Wag\" \"Datsun 710\" \"Hornet 4 Drive\" ...\n",
            " $ deviance         : num 20.6\n",
            " $ aic              : num 26.6\n",
            " $ null.deviance    : num 43.9\n",
            " $ iter             : int 6\n",
            " $ weights          : Named num [1:32] 0.157 0.157 0.248 0.116 0.25 ...\n",
            "  ..- attr(*, \"names\")= chr [1:32] \"Mazda RX4\" \"Mazda RX4 Wag\" \"Datsun 710\" \"Hornet 4 Drive\" ...\n",
            " $ prior.weights    : Named num [1:32] 1 1 1 1 1 1 1 1 1 1 ...\n",
            "  ..- attr(*, \"names\")= chr [1:32] \"Mazda RX4\" \"Mazda RX4 Wag\" \"Datsun 710\" \"Hornet 4 Drive\" ...\n",
            " $ df.residual      : int 29\n",
            " $ df.null          : int 31\n",
            " $ y                : Named num [1:32] 0 0 1 1 0 1 0 1 1 1 ...\n",
            "  ..- attr(*, \"names\")= chr [1:32] \"Mazda RX4\" \"Mazda RX4 Wag\" \"Datsun 710\" \"Hornet 4 Drive\" ...\n",
            " $ converged        : logi TRUE\n",
            " $ boundary         : logi FALSE\n",
            " $ model            :'data.frame':\t32 obs. of  3 variables:\n",
            "  ..$ vs : num [1:32] 0 0 1 1 0 1 0 1 1 1 ...\n",
            "  ..$ mpg: num [1:32] 21 21 22.8 21.4 18.7 18.1 14.3 24.4 22.8 19.2 ...\n",
            "  ..$ am : num [1:32] 1 1 1 0 0 0 0 0 0 0 ...\n",
            "  ..- attr(*, \"terms\")=Classes 'terms', 'formula'  language vs ~ mpg + am\n",
            "  .. .. ..- attr(*, \"variables\")= language list(vs, mpg, am)\n",
            "  .. .. ..- attr(*, \"factors\")= int [1:3, 1:2] 0 1 0 0 0 1\n",
            "  .. .. .. ..- attr(*, \"dimnames\")=List of 2\n",
            "  .. .. .. .. ..$ : chr [1:3] \"vs\" \"mpg\" \"am\"\n",
            "  .. .. .. .. ..$ : chr [1:2] \"mpg\" \"am\"\n",
            "  .. .. ..- attr(*, \"term.labels\")= chr [1:2] \"mpg\" \"am\"\n",
            "  .. .. ..- attr(*, \"order\")= int [1:2] 1 1\n",
            "  .. .. ..- attr(*, \"intercept\")= int 1\n",
            "  .. .. ..- attr(*, \"response\")= int 1\n",
            "  .. .. ..- attr(*, \".Environment\")=<environment: R_GlobalEnv> \n",
            "  .. .. ..- attr(*, \"predvars\")= language list(vs, mpg, am)\n",
            "  .. .. ..- attr(*, \"dataClasses\")= Named chr [1:3] \"numeric\" \"numeric\" \"numeric\"\n",
            "  .. .. .. ..- attr(*, \"names\")= chr [1:3] \"vs\" \"mpg\" \"am\"\n",
            " $ call             : language glm(formula = vs ~ mpg + am, family = binomial, data = mtcars)\n",
            " $ formula          :Class 'formula'  language vs ~ mpg + am\n",
            "  .. ..- attr(*, \".Environment\")=<environment: R_GlobalEnv> \n",
            " $ terms            :Classes 'terms', 'formula'  language vs ~ mpg + am\n",
            "  .. ..- attr(*, \"variables\")= language list(vs, mpg, am)\n",
            "  .. ..- attr(*, \"factors\")= int [1:3, 1:2] 0 1 0 0 0 1\n",
            "  .. .. ..- attr(*, \"dimnames\")=List of 2\n",
            "  .. .. .. ..$ : chr [1:3] \"vs\" \"mpg\" \"am\"\n",
            "  .. .. .. ..$ : chr [1:2] \"mpg\" \"am\"\n",
            "  .. ..- attr(*, \"term.labels\")= chr [1:2] \"mpg\" \"am\"\n",
            "  .. ..- attr(*, \"order\")= int [1:2] 1 1\n",
            "  .. ..- attr(*, \"intercept\")= int 1\n",
            "  .. ..- attr(*, \"response\")= int 1\n",
            "  .. ..- attr(*, \".Environment\")=<environment: R_GlobalEnv> \n",
            "  .. ..- attr(*, \"predvars\")= language list(vs, mpg, am)\n",
            "  .. ..- attr(*, \"dataClasses\")= Named chr [1:3] \"numeric\" \"numeric\" \"numeric\"\n",
            "  .. .. ..- attr(*, \"names\")= chr [1:3] \"vs\" \"mpg\" \"am\"\n",
            " $ data             :'data.frame':\t32 obs. of  11 variables:\n",
            "  ..$ mpg : num [1:32] 21 21 22.8 21.4 18.7 18.1 14.3 24.4 22.8 19.2 ...\n",
            "  ..$ cyl : num [1:32] 6 6 4 6 8 6 8 4 4 6 ...\n",
            "  ..$ disp: num [1:32] 160 160 108 258 360 ...\n",
            "  ..$ hp  : num [1:32] 110 110 93 110 175 105 245 62 95 123 ...\n",
            "  ..$ drat: num [1:32] 3.9 3.9 3.85 3.08 3.15 2.76 3.21 3.69 3.92 3.92 ...\n",
            "  ..$ wt  : num [1:32] 2.62 2.88 2.32 3.21 3.44 ...\n",
            "  ..$ qsec: num [1:32] 16.5 17 18.6 19.4 17 ...\n",
            "  ..$ vs  : num [1:32] 0 0 1 1 0 1 0 1 1 1 ...\n",
            "  ..$ am  : num [1:32] 1 1 1 0 0 0 0 0 0 0 ...\n",
            "  ..$ gear: num [1:32] 4 4 4 3 3 3 3 4 4 4 ...\n",
            "  ..$ carb: num [1:32] 4 4 1 1 2 1 4 2 2 4 ...\n",
            " $ offset           : NULL\n",
            " $ control          :List of 3\n",
            "  ..$ epsilon: num 1e-08\n",
            "  ..$ maxit  : num 25\n",
            "  ..$ trace  : logi FALSE\n",
            " $ method           : chr \"glm.fit\"\n",
            " $ contrasts        : NULL\n",
            " $ xlevels          : Named list()\n",
            " - attr(*, \"class\")= chr [1:2] \"glm\" \"lm\"\n"
          ]
        }
      ]
    },
    {
      "cell_type": "code",
      "source": [
        "anova(glm.vs, test = \"Chisq\")"
      ],
      "metadata": {
        "colab": {
          "base_uri": "https://localhost:8080/",
          "height": 192
        },
        "id": "czbVEbIL3vCZ",
        "outputId": "19a494f6-8cea-4732-bf69-f6bfd571de0b"
      },
      "execution_count": 17,
      "outputs": [
        {
          "output_type": "display_data",
          "data": {
            "text/html": [
              "<table class=\"dataframe\">\n",
              "<caption>A anova: 3 × 5</caption>\n",
              "<thead>\n",
              "\t<tr><th></th><th scope=col>Df</th><th scope=col>Deviance</th><th scope=col>Resid. Df</th><th scope=col>Resid. Dev</th><th scope=col>Pr(&gt;Chi)</th></tr>\n",
              "\t<tr><th></th><th scope=col>&lt;int&gt;</th><th scope=col>&lt;dbl&gt;</th><th scope=col>&lt;int&gt;</th><th scope=col>&lt;dbl&gt;</th><th scope=col>&lt;dbl&gt;</th></tr>\n",
              "</thead>\n",
              "<tbody>\n",
              "\t<tr><th scope=row>NULL</th><td>NA</td><td>       NA</td><td>31</td><td>43.86011</td><td>          NA</td></tr>\n",
              "\t<tr><th scope=row>mpg</th><td> 1</td><td>18.326774</td><td>30</td><td>25.53334</td><td>1.860736e-05</td></tr>\n",
              "\t<tr><th scope=row>am</th><td> 1</td><td> 4.887042</td><td>29</td><td>20.64629</td><td>2.705900e-02</td></tr>\n",
              "</tbody>\n",
              "</table>\n"
            ],
            "text/markdown": "\nA anova: 3 × 5\n\n| <!--/--> | Df &lt;int&gt; | Deviance &lt;dbl&gt; | Resid. Df &lt;int&gt; | Resid. Dev &lt;dbl&gt; | Pr(&gt;Chi) &lt;dbl&gt; |\n|---|---|---|---|---|---|\n| NULL | NA |        NA | 31 | 43.86011 |           NA |\n| mpg |  1 | 18.326774 | 30 | 25.53334 | 1.860736e-05 |\n| am |  1 |  4.887042 | 29 | 20.64629 | 2.705900e-02 |\n\n",
            "text/latex": "A anova: 3 × 5\n\\begin{tabular}{r|lllll}\n  & Df & Deviance & Resid. Df & Resid. Dev & Pr(>Chi)\\\\\n  & <int> & <dbl> & <int> & <dbl> & <dbl>\\\\\n\\hline\n\tNULL & NA &        NA & 31 & 43.86011 &           NA\\\\\n\tmpg &  1 & 18.326774 & 30 & 25.53334 & 1.860736e-05\\\\\n\tam &  1 &  4.887042 & 29 & 20.64629 & 2.705900e-02\\\\\n\\end{tabular}\n",
            "text/plain": [
              "     Df Deviance  Resid. Df Resid. Dev Pr(>Chi)    \n",
              "NULL NA        NA 31        43.86011             NA\n",
              "mpg   1 18.326774 30        25.53334   1.860736e-05\n",
              "am    1  4.887042 29        20.64629   2.705900e-02"
            ]
          },
          "metadata": {}
        }
      ]
    },
    {
      "cell_type": "code",
      "source": [
        "1 - pchisq(18.327, 1)\n",
        "1 - pchisq(4.887, 1)"
      ],
      "metadata": {
        "colab": {
          "base_uri": "https://localhost:8080/",
          "height": 52
        },
        "id": "OmbSKFAm3vAD",
        "outputId": "a1590424-728c-4e8b-d576-c26f86b51a96"
      },
      "execution_count": 18,
      "outputs": [
        {
          "output_type": "display_data",
          "data": {
            "text/html": [
              "1.8605154929574e-05"
            ],
            "text/markdown": "1.8605154929574e-05",
            "text/latex": "1.8605154929574e-05",
            "text/plain": [
              "[1] 1.860515e-05"
            ]
          },
          "metadata": {}
        },
        {
          "output_type": "display_data",
          "data": {
            "text/html": [
              "0.0270596668718691"
            ],
            "text/markdown": "0.0270596668718691",
            "text/latex": "0.0270596668718691",
            "text/plain": [
              "[1] 0.02705967"
            ]
          },
          "metadata": {}
        }
      ]
    },
    {
      "cell_type": "markdown",
      "source": [
        "#### 참고. 일반화선형모형(GLM)에서의 이탈도\n",
        "+ 포화모형 : 추저해야 할 모수의 수가 데이터의 수와 동일한 모형\n",
        "+ 영모형 : 절편항만 가지는 모형으로 추정할 모수가 1개\n",
        "+ 제안모형 : (p개의 모수 + 절편항)을 포함하는 모형으로 추정할 모수가 (p+1)개\n",
        "+ 이탈도(Null and Residual)는 값이 작을수록 해당모형이 자료를 작 적합함을 의미"
      ],
      "metadata": {
        "id": "4uLhWHYC3yd8"
      }
    },
    {
      "cell_type": "markdown",
      "source": [
        "#### 참고. 다중회귀에서의 변수선택법\n",
        "+ 전진선택법 : 가장 작은 모형에서 반응변수에 가장 큰 영향을 주는 설명변수를 차례로 모형에 포함시키되 더 이상 의미 있는 변수가 없을 때 중단하는 방법\n",
        "+ 후진제거법 : 모든 설명변수를 포함하는 모형에서 기여도가 낮은 변수를 차례로 제거해 나가되 더 이상 제거할 변수가 없을 때 중단하는 방법\n",
        "+ 단계별 선택법 : 먼저 선택된 변수도 다음 단계에서 제거될 수 있도록 변수선택의 단계마다 체크해나가는 방법"
      ],
      "metadata": {
        "id": "z_a8nr3g3yb_"
      }
    }
  ],
  "metadata": {
    "colab": {
      "provenance": []
    },
    "kernelspec": {
      "display_name": "R",
      "name": "ir"
    },
    "language_info": {
      "name": "R"
    }
  },
  "nbformat": 4,
  "nbformat_minor": 0
}