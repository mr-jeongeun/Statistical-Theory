{
  "cells": [
    {
      "cell_type": "markdown",
      "source": [
        "+ k-인접이웃(K-nearest neighbor, KNN) : 새로운 데이터에 대해 이와 가장 거리가 가까운 k-개의 과거자료의 결과(집단)를 이용하여 다수결로 분류\n",
        "  + 과거 데이터는 저장만 해두고 필요시 비교 수행하는 방식\n",
        "  + 반응변수가 범주형 $\\rightarrow$ 분류 목적, 연속형 $\\rightarrow$ 회귀 목적\n",
        "  + 주변 값들의 기여도에 가중 부여 가능(거리에 반비례 / 가까우면 큰 가중)\n",
        "  + 특징\n",
        "    + k값의 선택에 따라 새로운 데이터에 대한 분류결과가 달라짐\n",
        "    + 사례 기반학습 : 지역 정보만으로 근사 + 모든 계산 후 분류 수행\n",
        "    + 단점 : 데이터의 지역 구조에 민감함"
      ],
      "metadata": {
        "id": "Wit1c2FXDJug"
      }
    },
    {
      "cell_type": "markdown",
      "source": [
        "### 예제 1. knn(){class}"
      ],
      "metadata": {
        "id": "gNRQQS-2DJsB"
      }
    },
    {
      "cell_type": "code",
      "source": [
        "install.packages(\"class\")\n",
        "library(class)\n",
        "data(iris3)"
      ],
      "metadata": {
        "colab": {
          "base_uri": "https://localhost:8080/"
        },
        "id": "dyFt8bQXDKIJ",
        "outputId": "4ce69375-32e9-4983-f52c-6298aedb8188"
      },
      "execution_count": 1,
      "outputs": [
        {
          "output_type": "stream",
          "name": "stderr",
          "text": [
            "Installing package into ‘/usr/local/lib/R/site-library’\n",
            "(as ‘lib’ is unspecified)\n",
            "\n"
          ]
        }
      ]
    },
    {
      "cell_type": "code",
      "source": [
        "train = rbind(iris3[1:25,,1], iris3[1:25,,2], iris3[1:25,,3])  # 행렬객체\n",
        "test = rbind(iris3[26:50,,1], iris3[26:50,,2], iris3[26:50,,3])\n",
        "c1 = factor(c(rep(\"s\", 25), rep(\"c\", 25), rep(\"v\", 25)))\n",
        "knn(train, test, c1, k = 3, prob = TRUE)  # prob = TRUE : 확률이 큰 쪽으로 분류"
      ],
      "metadata": {
        "colab": {
          "base_uri": "https://localhost:8080/",
          "height": 52
        },
        "id": "UqRsKwTMDKF0",
        "outputId": "a53d4992-ff8a-45bb-9b6d-747eca738233"
      },
      "execution_count": 2,
      "outputs": [
        {
          "output_type": "display_data",
          "data": {
            "text/html": [
              "<style>\n",
              ".list-inline {list-style: none; margin:0; padding: 0}\n",
              ".list-inline>li {display: inline-block}\n",
              ".list-inline>li:not(:last-child)::after {content: \"\\00b7\"; padding: 0 .5ex}\n",
              "</style>\n",
              "<ol class=list-inline><li>s</li><li>s</li><li>s</li><li>s</li><li>s</li><li>s</li><li>s</li><li>s</li><li>s</li><li>s</li><li>s</li><li>s</li><li>s</li><li>s</li><li>s</li><li>s</li><li>s</li><li>s</li><li>s</li><li>s</li><li>s</li><li>s</li><li>s</li><li>s</li><li>s</li><li>c</li><li>c</li><li>v</li><li>c</li><li>c</li><li>c</li><li>c</li><li>c</li><li>v</li><li>c</li><li>c</li><li>c</li><li>c</li><li>c</li><li>c</li><li>c</li><li>c</li><li>c</li><li>c</li><li>c</li><li>c</li><li>c</li><li>c</li><li>c</li><li>c</li><li>v</li><li>c</li><li>c</li><li>v</li><li>v</li><li>v</li><li>v</li><li>v</li><li>v</li><li>v</li><li>v</li><li>v</li><li>v</li><li>c</li><li>v</li><li>v</li><li>v</li><li>v</li><li>v</li><li>v</li><li>v</li><li>v</li><li>v</li><li>v</li><li>v</li></ol>\n",
              "\n",
              "<details>\n",
              "\t<summary style=display:list-item;cursor:pointer>\n",
              "\t\t<strong>Levels</strong>:\n",
              "\t</summary>\n",
              "\t<style>\n",
              "\t.list-inline {list-style: none; margin:0; padding: 0}\n",
              "\t.list-inline>li {display: inline-block}\n",
              "\t.list-inline>li:not(:last-child)::after {content: \"\\00b7\"; padding: 0 .5ex}\n",
              "\t</style>\n",
              "\t<ol class=list-inline><li>'c'</li><li>'s'</li><li>'v'</li></ol>\n",
              "</details>"
            ],
            "text/markdown": "1. s\n2. s\n3. s\n4. s\n5. s\n6. s\n7. s\n8. s\n9. s\n10. s\n11. s\n12. s\n13. s\n14. s\n15. s\n16. s\n17. s\n18. s\n19. s\n20. s\n21. s\n22. s\n23. s\n24. s\n25. s\n26. c\n27. c\n28. v\n29. c\n30. c\n31. c\n32. c\n33. c\n34. v\n35. c\n36. c\n37. c\n38. c\n39. c\n40. c\n41. c\n42. c\n43. c\n44. c\n45. c\n46. c\n47. c\n48. c\n49. c\n50. c\n51. v\n52. c\n53. c\n54. v\n55. v\n56. v\n57. v\n58. v\n59. v\n60. v\n61. v\n62. v\n63. v\n64. c\n65. v\n66. v\n67. v\n68. v\n69. v\n70. v\n71. v\n72. v\n73. v\n74. v\n75. v\n\n\n\n**Levels**: 1. 'c'\n2. 's'\n3. 'v'\n\n\n",
            "text/latex": "\\begin{enumerate*}\n\\item s\n\\item s\n\\item s\n\\item s\n\\item s\n\\item s\n\\item s\n\\item s\n\\item s\n\\item s\n\\item s\n\\item s\n\\item s\n\\item s\n\\item s\n\\item s\n\\item s\n\\item s\n\\item s\n\\item s\n\\item s\n\\item s\n\\item s\n\\item s\n\\item s\n\\item c\n\\item c\n\\item v\n\\item c\n\\item c\n\\item c\n\\item c\n\\item c\n\\item v\n\\item c\n\\item c\n\\item c\n\\item c\n\\item c\n\\item c\n\\item c\n\\item c\n\\item c\n\\item c\n\\item c\n\\item c\n\\item c\n\\item c\n\\item c\n\\item c\n\\item v\n\\item c\n\\item c\n\\item v\n\\item v\n\\item v\n\\item v\n\\item v\n\\item v\n\\item v\n\\item v\n\\item v\n\\item v\n\\item c\n\\item v\n\\item v\n\\item v\n\\item v\n\\item v\n\\item v\n\\item v\n\\item v\n\\item v\n\\item v\n\\item v\n\\end{enumerate*}\n\n\\emph{Levels}: \\begin{enumerate*}\n\\item 'c'\n\\item 's'\n\\item 'v'\n\\end{enumerate*}\n",
            "text/plain": [
              " [1] s s s s s s s s s s s s s s s s s s s s s s s s s c c v c c c c c v c c c c\n",
              "[39] c c c c c c c c c c c c v c c v v v v v v v v v v c v v v v v v v v v v v\n",
              "attr(,\"prob\")\n",
              " [1] 1.0000000 1.0000000 1.0000000 1.0000000 1.0000000 1.0000000 1.0000000\n",
              " [8] 1.0000000 1.0000000 1.0000000 1.0000000 1.0000000 1.0000000 1.0000000\n",
              "[15] 1.0000000 1.0000000 1.0000000 1.0000000 1.0000000 1.0000000 1.0000000\n",
              "[22] 1.0000000 1.0000000 1.0000000 1.0000000 1.0000000 1.0000000 0.6666667\n",
              "[29] 1.0000000 1.0000000 1.0000000 1.0000000 1.0000000 0.6666667 1.0000000\n",
              "[36] 1.0000000 1.0000000 1.0000000 1.0000000 1.0000000 1.0000000 1.0000000\n",
              "[43] 1.0000000 1.0000000 1.0000000 1.0000000 1.0000000 1.0000000 1.0000000\n",
              "[50] 1.0000000 1.0000000 0.6666667 0.7500000 1.0000000 1.0000000 1.0000000\n",
              "[57] 1.0000000 1.0000000 0.5000000 1.0000000 1.0000000 1.0000000 1.0000000\n",
              "[64] 0.6666667 1.0000000 1.0000000 1.0000000 1.0000000 1.0000000 1.0000000\n",
              "[71] 1.0000000 0.6666667 1.0000000 1.0000000 0.6666667\n",
              "Levels: c s v"
            ]
          },
          "metadata": {}
        }
      ]
    },
    {
      "cell_type": "markdown",
      "source": [
        "+ y 범주형 / trian(앞 25개) + test(뒤 25개)\n",
        "+ knn 해석\n",
        "  + [1] : 실제로 3개 다 S\n",
        "  + [75] : 실제로 2개는 v, 1개는 v가 아닌 것"
      ],
      "metadata": {
        "id": "EqW8U3g-DRgS"
      }
    },
    {
      "cell_type": "markdown",
      "source": [
        "### 예제 2. kNN(){DMwR}"
      ],
      "metadata": {
        "id": "cdXLAsCxDWSQ"
      }
    },
    {
      "cell_type": "markdown",
      "source": [
        "+ Colab에서 DMwR 패키지의 지난 버전 설치를 진행하지 못하여 코드만 첨부"
      ],
      "metadata": {
        "id": "iZt2b1YqDbvY"
      }
    },
    {
      "cell_type": "code",
      "source": [
        "# library(DMwR)\n",
        "# data(iris)\n",
        "# idxs = sample(1 : nrow(iris), as.integer(0.7 * nrow(iris)))  # train 70%\n",
        "# trainIris = iris[idxs,]\n",
        "# testIris = iris[-idxs,]\n",
        "# # trainIris 자료에서 Species를 y로 하고 나머지 변수를 전부 예측변수로 하는 knn분류 알고리즘을 수행하여라\n",
        "# # k값의 설정은 분석자가 주관적으로 설정해야하는 사안\n",
        "# nn3 = kNN(Species ~ ., trainIris, testIris, norm = FALSE, k = 3)\n",
        "# table(testIris[,'Species'], nn3)\n",
        "# nn5 = kNN(Species ~ ., trainIris, testIris, norm = TRUE, k = 5)\n",
        "# table(testIris[,'Species'], nn5)"
      ],
      "metadata": {
        "id": "vg-rl32CDRPg"
      },
      "execution_count": 3,
      "outputs": []
    },
    {
      "cell_type": "markdown",
      "source": [
        "+ knn(){DMwR} vs knn(){class}\n",
        "  + 모형식 기반으로 수행, 정규화 옵션 제공\n",
        "+ 정규화 수행 : 통상적으로 이질적인 자료에 대해서는 정규화를 시키는 것이 바람직함\n",
        "  + 이 자료에서는 단위가 다른 변수가 아니기에 정규화의 효과가 크지 않아 결과에 영향을 미치지 않으므로 정규화 수행 x"
      ],
      "metadata": {
        "id": "MwBxjcKDDmHQ"
      }
    },
    {
      "cell_type": "markdown",
      "source": [
        "### 예제 3. kknn(){kknn}"
      ],
      "metadata": {
        "id": "9I8KM61ODnQ5"
      }
    },
    {
      "cell_type": "code",
      "source": [
        "install.packages(\"kknn\")\n",
        "library(kknn)\n",
        "data(iris)"
      ],
      "metadata": {
        "colab": {
          "base_uri": "https://localhost:8080/"
        },
        "id": "madnwRqPDRNa",
        "outputId": "c30f5baf-1caf-4c9b-ac49-bc3bbd8128bb"
      },
      "execution_count": 4,
      "outputs": [
        {
          "output_type": "stream",
          "name": "stderr",
          "text": [
            "Installing package into ‘/usr/local/lib/R/site-library’\n",
            "(as ‘lib’ is unspecified)\n",
            "\n",
            "also installing the dependency ‘igraph’\n",
            "\n",
            "\n"
          ]
        }
      ]
    },
    {
      "cell_type": "code",
      "source": [
        "m = dim(iris)[1]\n",
        "val = sample(1:m, size = round(m/3), replace = FALSE, prob = rep(1/m, m))\n",
        "iris.learn = iris[-val,]\n",
        "iris.valid = iris[val,]\n",
        "iris.kknn = kknn(Species ~ ., iris.learn, iris.valid, distance = 1, kernel = \"triangular\")  # 맨하튼 거리\n",
        "summary(iris.kknn)"
      ],
      "metadata": {
        "colab": {
          "base_uri": "https://localhost:8080/"
        },
        "id": "JDCTd4rqDRLA",
        "outputId": "8dc7bbac-c7dd-4e1d-a87a-fbc358584848"
      },
      "execution_count": 5,
      "outputs": [
        {
          "output_type": "stream",
          "name": "stdout",
          "text": [
            "\n",
            "Call:\n",
            "kknn(formula = Species ~ ., train = iris.learn, test = iris.valid,     distance = 1, kernel = \"triangular\")\n",
            "\n",
            "Response: \"nominal\"\n",
            "          fit prob.setosa prob.versicolor prob.virginica\n",
            "1  versicolor           0      0.96280416     0.03719584\n",
            "2  versicolor           0      0.85431665     0.14568335\n",
            "3      setosa           1      0.00000000     0.00000000\n",
            "4  versicolor           0      1.00000000     0.00000000\n",
            "5   virginica           0      0.00000000     1.00000000\n",
            "6      setosa           1      0.00000000     0.00000000\n",
            "7      setosa           1      0.00000000     0.00000000\n",
            "8      setosa           1      0.00000000     0.00000000\n",
            "9   virginica           0      0.49164279     0.50835721\n",
            "10 versicolor           0      1.00000000     0.00000000\n",
            "11     setosa           1      0.00000000     0.00000000\n",
            "12 versicolor           0      1.00000000     0.00000000\n",
            "13 versicolor           0      1.00000000     0.00000000\n",
            "14  virginica           0      0.02613246     0.97386754\n",
            "15     setosa           1      0.00000000     0.00000000\n",
            "16  virginica           0      0.22766811     0.77233189\n",
            "17     setosa           1      0.00000000     0.00000000\n",
            "18     setosa           1      0.00000000     0.00000000\n",
            "19     setosa           1      0.00000000     0.00000000\n",
            "20     setosa           1      0.00000000     0.00000000\n",
            "21  virginica           0      0.22483993     0.77516007\n",
            "22 versicolor           0      1.00000000     0.00000000\n",
            "23  virginica           0      0.00000000     1.00000000\n",
            "24  virginica           0      0.00000000     1.00000000\n",
            "25  virginica           0      0.00000000     1.00000000\n",
            "26  virginica           0      0.00000000     1.00000000\n",
            "27 versicolor           0      1.00000000     0.00000000\n",
            "28     setosa           1      0.00000000     0.00000000\n",
            "29  virginica           0      0.04885644     0.95114356\n",
            "30  virginica           0      0.00000000     1.00000000\n",
            "31     setosa           1      0.00000000     0.00000000\n",
            "32 versicolor           0      1.00000000     0.00000000\n",
            "33 versicolor           0      1.00000000     0.00000000\n",
            "34 versicolor           0      0.79519267     0.20480733\n",
            "35 versicolor           0      0.88785119     0.11214881\n",
            "36     setosa           1      0.00000000     0.00000000\n",
            "37 versicolor           0      0.85130141     0.14869859\n",
            "38 versicolor           0      0.73063390     0.26936610\n",
            "39     setosa           1      0.00000000     0.00000000\n",
            "40 versicolor           0      0.93113973     0.06886027\n",
            "41 versicolor           0      1.00000000     0.00000000\n",
            "42 versicolor           0      1.00000000     0.00000000\n",
            "43 versicolor           0      1.00000000     0.00000000\n",
            "44  virginica           0      0.22483993     0.77516007\n",
            "45     setosa           1      0.00000000     0.00000000\n",
            "46 versicolor           0      1.00000000     0.00000000\n",
            "47  virginica           0      0.10726998     0.89273002\n",
            "48     setosa           1      0.00000000     0.00000000\n",
            "49 versicolor           0      1.00000000     0.00000000\n",
            "50     setosa           1      0.00000000     0.00000000\n"
          ]
        }
      ]
    },
    {
      "cell_type": "code",
      "source": [
        "fit = fitted(iris.kknn)\n",
        "table(iris.valid$Species, fit)\n",
        "# s=1, v=2, c=3으로 변환하여 이 1, 2, 3을 문자로 인식"
      ],
      "metadata": {
        "colab": {
          "base_uri": "https://localhost:8080/",
          "height": 106
        },
        "id": "OslLSRyBDrzR",
        "outputId": "58cfb620-c5ae-4acd-b4dc-670c78d4dde3"
      },
      "execution_count": 6,
      "outputs": [
        {
          "output_type": "display_data",
          "data": {
            "text/plain": [
              "            fit\n",
              "             setosa versicolor virginica\n",
              "  setosa         17          0         0\n",
              "  versicolor      0         17         2\n",
              "  virginica       0          3        11"
            ]
          },
          "metadata": {}
        }
      ]
    },
    {
      "cell_type": "code",
      "source": [
        "pcol = as.character(as.numeric(iris.valid$Species))\n",
        "# 정분류일 경우 - false(0) - +1 수행 - 1 - green3\n",
        "# 오분류일 경우 - true(1) - +1 수행 - 2 - red"
      ],
      "metadata": {
        "id": "My8wOoyiDuHs"
      },
      "execution_count": 7,
      "outputs": []
    },
    {
      "cell_type": "code",
      "source": [
        "pairs(iris.valid[1:4], pch = pcol,\n",
        "      col = c(\"green3\", \"red\")[(iris.valid$Species != fit) + 1])"
      ],
      "metadata": {
        "colab": {
          "base_uri": "https://localhost:8080/",
          "height": 437
        },
        "id": "rlPG1lSWDvS8",
        "outputId": "b1eb67b5-ab67-4c4e-f48f-cddd402e3e30"
      },
      "execution_count": 8,
      "outputs": [
        {
          "output_type": "display_data",
          "data": {
            "text/plain": [
              "plot without title"
            ],
            "image/png": "[encoded data removed]"
          },
          "metadata": {
            "image/png": {
              "width": 420,
              "height": 420
            }
          }
        }
      ]
    },
    {
      "cell_type": "markdown",
      "source": [
        "+ 가중 knn 분류를 제공 $\\rightarrow$ 커널밀도함수의 합이 최대인 군집으로 분류를 수행\n",
        "  + kernel : rectangular, triangular, epanechnikov, biweight, triweight, cos, inv, gaussian, rank, optimal\n",
        "+ distance = 1 $\\rightarrow$ 맨하튼 거리, distance = 2 $\\rightarrow$ 유클리드 거리"
      ],
      "metadata": {
        "id": "VqDcB6CdDymi"
      }
    },
    {
      "cell_type": "markdown",
      "source": [
        "### 예제 4. {FNN}, k-NN 회귀"
      ],
      "metadata": {
        "id": "xpuDfDQLDzK-"
      }
    },
    {
      "cell_type": "code",
      "source": [
        "full = data.frame(name = c(\"McGwire, Mark\", \"Bonds, Barry\", \"Helton, Todd\",\n",
        "                           \"Walker, Larry\", \"ujols, Albert\", \"Pedroia, Dustin\"),\n",
        "                  lag1 = c(100, 90, 75, 89, 95, 70),\n",
        "                  lag2 = c(120, 80, 95, 79, 92, 90),\n",
        "                  Runs = c(65, 120, 105, 99, 65, 100))\n",
        "library(kknn)\n",
        "train = full[full$name != \"Bonds, Barry\",]\n",
        "test = full[full$name == \"Bonds, Barry\",]\n",
        "# testdata(Bonds, Barry 선수)와 가까운 선수 2명만 선택하여 시가거리에 기반하여 평균을 내어 y를 예측하여라\n",
        "k = kknn(Runs ~ lag1 + lag2, train = train, test = test, k = 2, distance = 1)\n",
        "fit = fitted(k)\n",
        "fit"
      ],
      "metadata": {
        "colab": {
          "base_uri": "https://localhost:8080/",
          "height": 34
        },
        "id": "7ioYjcYDD3Ht",
        "outputId": "96b77079-81dc-49bb-e362-aa584116555b"
      },
      "execution_count": 9,
      "outputs": [
        {
          "output_type": "display_data",
          "data": {
            "text/html": [
              "90.5"
            ],
            "text/markdown": "90.5",
            "text/latex": "90.5",
            "text/plain": [
              "[1] 90.5"
            ]
          },
          "metadata": {}
        }
      ]
    },
    {
      "cell_type": "code",
      "source": [
        "names(k)"
      ],
      "metadata": {
        "colab": {
          "base_uri": "https://localhost:8080/",
          "height": 34
        },
        "id": "i9KMLON_D3w5",
        "outputId": "b0a404ec-78dd-4243-8a27-725af8c490f8"
      },
      "execution_count": 10,
      "outputs": [
        {
          "output_type": "display_data",
          "data": {
            "text/html": [
              "<style>\n",
              ".list-inline {list-style: none; margin:0; padding: 0}\n",
              ".list-inline>li {display: inline-block}\n",
              ".list-inline>li:not(:last-child)::after {content: \"\\00b7\"; padding: 0 .5ex}\n",
              "</style>\n",
              "<ol class=list-inline><li>'fitted.values'</li><li>'CL'</li><li>'W'</li><li>'D'</li><li>'C'</li><li>'prob'</li><li>'response'</li><li>'distance'</li><li>'call'</li><li>'terms'</li></ol>\n"
            ],
            "text/markdown": "1. 'fitted.values'\n2. 'CL'\n3. 'W'\n4. 'D'\n5. 'C'\n6. 'prob'\n7. 'response'\n8. 'distance'\n9. 'call'\n10. 'terms'\n\n\n",
            "text/latex": "\\begin{enumerate*}\n\\item 'fitted.values'\n\\item 'CL'\n\\item 'W'\n\\item 'D'\n\\item 'C'\n\\item 'prob'\n\\item 'response'\n\\item 'distance'\n\\item 'call'\n\\item 'terms'\n\\end{enumerate*}\n",
            "text/plain": [
              " [1] \"fitted.values\" \"CL\"            \"W\"             \"D\"            \n",
              " [5] \"C\"             \"prob\"          \"response\"      \"distance\"     \n",
              " [9] \"call\"          \"terms\"        "
            ]
          },
          "metadata": {}
        }
      ]
    },
    {
      "cell_type": "code",
      "source": [
        "k$fitted.values"
      ],
      "metadata": {
        "colab": {
          "base_uri": "https://localhost:8080/",
          "height": 34
        },
        "id": "fWve_HOkD4_F",
        "outputId": "d01e11a7-41c6-4a93-89f1-d9e8a6aca1a8"
      },
      "execution_count": 11,
      "outputs": [
        {
          "output_type": "display_data",
          "data": {
            "text/html": [
              "90.5"
            ],
            "text/markdown": "90.5",
            "text/latex": "90.5",
            "text/plain": [
              "[1] 90.5"
            ]
          },
          "metadata": {}
        }
      ]
    },
    {
      "cell_type": "code",
      "source": [
        "k$CL  # class의 행렬"
      ],
      "metadata": {
        "colab": {
          "base_uri": "https://localhost:8080/",
          "height": 100
        },
        "id": "qe6veLEND47a",
        "outputId": "4078ae8f-d721-4b4a-f916-984fc789ae17"
      },
      "execution_count": 12,
      "outputs": [
        {
          "output_type": "display_data",
          "data": {
            "text/html": [
              "<table class=\"dataframe\">\n",
              "<caption>A matrix: 1 × 2 of type dbl</caption>\n",
              "<tbody>\n",
              "\t<tr><td>99</td><td>65</td></tr>\n",
              "</tbody>\n",
              "</table>\n"
            ],
            "text/markdown": "\nA matrix: 1 × 2 of type dbl\n\n| 99 | 65 |\n\n",
            "text/latex": "A matrix: 1 × 2 of type dbl\n\\begin{tabular}{ll}\n\t 99 & 65\\\\\n\\end{tabular}\n",
            "text/plain": [
              "     [,1] [,2]\n",
              "[1,] 99   65  "
            ]
          },
          "metadata": {}
        }
      ]
    },
    {
      "cell_type": "code",
      "source": [
        "k$W  # 가중치의 행렬"
      ],
      "metadata": {
        "colab": {
          "base_uri": "https://localhost:8080/",
          "height": 83
        },
        "id": "LV0Ce-xPD6wS",
        "outputId": "dcbbc641-591d-4514-f7c7-da3bc091fdfa"
      },
      "execution_count": 13,
      "outputs": [
        {
          "output_type": "display_data",
          "data": {
            "text/html": [
              "<table class=\"dataframe\">\n",
              "<caption>A matrix: 1 × 2 of type dbl</caption>\n",
              "<tbody>\n",
              "\t<tr><td>0.75</td><td>0.25</td></tr>\n",
              "</tbody>\n",
              "</table>\n"
            ],
            "text/markdown": "\nA matrix: 1 × 2 of type dbl\n\n| 0.75 | 0.25 |\n\n",
            "text/latex": "A matrix: 1 × 2 of type dbl\n\\begin{tabular}{ll}\n\t 0.75 & 0.25\\\\\n\\end{tabular}\n",
            "text/plain": [
              "     [,1] [,2]\n",
              "[1,] 0.75 0.25"
            ]
          },
          "metadata": {}
        }
      ]
    },
    {
      "cell_type": "code",
      "source": [
        "k$C  # 인접이웃 위치"
      ],
      "metadata": {
        "colab": {
          "base_uri": "https://localhost:8080/",
          "height": 34
        },
        "id": "2Z8HZxv7D7e9",
        "outputId": "70624e64-b6ed-4fb7-a2aa-5321527c7ce7"
      },
      "execution_count": 14,
      "outputs": [
        {
          "output_type": "display_data",
          "data": {
            "text/html": [
              "<style>\n",
              ".list-inline {list-style: none; margin:0; padding: 0}\n",
              ".list-inline>li {display: inline-block}\n",
              ".list-inline>li:not(:last-child)::after {content: \"\\00b7\"; padding: 0 .5ex}\n",
              "</style>\n",
              "<ol class=list-inline><li>3</li><li>4</li></ol>\n"
            ],
            "text/markdown": "1. 3\n2. 4\n\n\n",
            "text/latex": "\\begin{enumerate*}\n\\item 3\n\\item 4\n\\end{enumerate*}\n",
            "text/plain": [
              "[1] 3 4"
            ]
          },
          "metadata": {}
        }
      ]
    },
    {
      "cell_type": "code",
      "source": [
        "train[c(k$C),]"
      ],
      "metadata": {
        "colab": {
          "base_uri": "https://localhost:8080/",
          "height": 161
        },
        "id": "sHVe7z-vD8oV",
        "outputId": "d43041b6-2f91-4599-b49d-e2295a44891e"
      },
      "execution_count": 15,
      "outputs": [
        {
          "output_type": "display_data",
          "data": {
            "text/html": [
              "<table class=\"dataframe\">\n",
              "<caption>A data.frame: 2 × 4</caption>\n",
              "<thead>\n",
              "\t<tr><th></th><th scope=col>name</th><th scope=col>lag1</th><th scope=col>lag2</th><th scope=col>Runs</th></tr>\n",
              "\t<tr><th></th><th scope=col>&lt;chr&gt;</th><th scope=col>&lt;dbl&gt;</th><th scope=col>&lt;dbl&gt;</th><th scope=col>&lt;dbl&gt;</th></tr>\n",
              "</thead>\n",
              "<tbody>\n",
              "\t<tr><th scope=row>4</th><td>Walker, Larry</td><td>89</td><td>79</td><td>99</td></tr>\n",
              "\t<tr><th scope=row>5</th><td>ujols, Albert</td><td>95</td><td>92</td><td>65</td></tr>\n",
              "</tbody>\n",
              "</table>\n"
            ],
            "text/markdown": "\nA data.frame: 2 × 4\n\n| <!--/--> | name &lt;chr&gt; | lag1 &lt;dbl&gt; | lag2 &lt;dbl&gt; | Runs &lt;dbl&gt; |\n|---|---|---|---|---|\n| 4 | Walker, Larry | 89 | 79 | 99 |\n| 5 | ujols, Albert | 95 | 92 | 65 |\n\n",
            "text/latex": "A data.frame: 2 × 4\n\\begin{tabular}{r|llll}\n  & name & lag1 & lag2 & Runs\\\\\n  & <chr> & <dbl> & <dbl> & <dbl>\\\\\n\\hline\n\t4 & Walker, Larry & 89 & 79 & 99\\\\\n\t5 & ujols, Albert & 95 & 92 & 65\\\\\n\\end{tabular}\n",
            "text/plain": [
              "  name          lag1 lag2 Runs\n",
              "4 Walker, Larry 89   79   99  \n",
              "5 ujols, Albert 95   92   65  "
            ]
          },
          "metadata": {}
        }
      ]
    },
    {
      "cell_type": "code",
      "source": [
        "install.packages(\"FNN\")\n",
        "library(FNN)\n",
        "# test자료의 lag1, lag2를 이용해 가까운 2개 인접이웃을 train에 대해 찾아라\n",
        "get.knnx(data = train[, c(\"lag1\", \"lag2\")], query = test[,c(\"lag1\", \"lag2\")], k = 2)\n",
        "train[c(3, 4), \"name\"]  # 훈련용 자료에서 3, 4번의 name"
      ],
      "metadata": {
        "colab": {
          "base_uri": "https://localhost:8080/",
          "height": 496
        },
        "id": "5v5Yp7qIEApM",
        "outputId": "87d48470-972c-47a2-958c-2f8efd96e359"
      },
      "execution_count": 16,
      "outputs": [
        {
          "output_type": "stream",
          "name": "stderr",
          "text": [
            "Installing package into ‘/usr/local/lib/R/site-library’\n",
            "(as ‘lib’ is unspecified)\n",
            "\n",
            "\n",
            "Attaching package: ‘FNN’\n",
            "\n",
            "\n",
            "The following objects are masked from ‘package:class’:\n",
            "\n",
            "    knn, knn.cv\n",
            "\n",
            "\n"
          ]
        },
        {
          "output_type": "display_data",
          "data": {
            "text/html": [
              "<dl>\n",
              "\t<dt>$nn.index</dt>\n",
              "\t\t<dd><table class=\"dataframe\">\n",
              "<caption>A matrix: 1 × 2 of type int</caption>\n",
              "<tbody>\n",
              "\t<tr><td>3</td><td>4</td></tr>\n",
              "</tbody>\n",
              "</table>\n",
              "</dd>\n",
              "\t<dt>$nn.dist</dt>\n",
              "\t\t<dd><table class=\"dataframe\">\n",
              "<caption>A matrix: 1 × 2 of type dbl</caption>\n",
              "<tbody>\n",
              "\t<tr><td>1.414214</td><td>13</td></tr>\n",
              "</tbody>\n",
              "</table>\n",
              "</dd>\n",
              "</dl>\n"
            ],
            "text/markdown": "$nn.index\n:   \nA matrix: 1 × 2 of type int\n\n| 3 | 4 |\n\n\n$nn.dist\n:   \nA matrix: 1 × 2 of type dbl\n\n| 1.414214 | 13 |\n\n\n\n\n",
            "text/latex": "\\begin{description}\n\\item[\\$nn.index] A matrix: 1 × 2 of type int\n\\begin{tabular}{ll}\n\t 3 & 4\\\\\n\\end{tabular}\n\n\\item[\\$nn.dist] A matrix: 1 × 2 of type dbl\n\\begin{tabular}{ll}\n\t 1.414214 & 13\\\\\n\\end{tabular}\n\n\\end{description}\n",
            "text/plain": [
              "$nn.index\n",
              "     [,1] [,2]\n",
              "[1,]    3    4\n",
              "\n",
              "$nn.dist\n",
              "         [,1] [,2]\n",
              "[1,] 1.414214   13\n"
            ]
          },
          "metadata": {}
        },
        {
          "output_type": "display_data",
          "data": {
            "text/html": [
              "<style>\n",
              ".list-inline {list-style: none; margin:0; padding: 0}\n",
              ".list-inline>li {display: inline-block}\n",
              ".list-inline>li:not(:last-child)::after {content: \"\\00b7\"; padding: 0 .5ex}\n",
              "</style>\n",
              "<ol class=list-inline><li>'Walker, Larry'</li><li>'ujols, Albert'</li></ol>\n"
            ],
            "text/markdown": "1. 'Walker, Larry'\n2. 'ujols, Albert'\n\n\n",
            "text/latex": "\\begin{enumerate*}\n\\item 'Walker, Larry'\n\\item 'ujols, Albert'\n\\end{enumerate*}\n",
            "text/plain": [
              "[1] \"Walker, Larry\" \"ujols, Albert\""
            ]
          },
          "metadata": {}
        }
      ]
    },
    {
      "cell_type": "markdown",
      "source": [
        "+ {FNN} : 훈련용 자료에 대해 원하는 질의를 통해 필요한 결과를 얻게 해 줌\n",
        "+ $nn.dist : 디폴트로 유클리드거리 제공"
      ],
      "metadata": {
        "id": "Bwu6JHAYECft"
      }
    },
    {
      "cell_type": "markdown",
      "source": [
        "## 7.3절 {caret}을 이용한 k-NN 분석\n",
        "### (a) 표본추출"
      ],
      "metadata": {
        "id": "Z1G_GzvGED4N"
      }
    },
    {
      "cell_type": "code",
      "source": [
        "install.packages(\"ISLR\")\n",
        "install.packages(\"caret\")\n",
        "library(ISLR)\n",
        "library(caret)"
      ],
      "metadata": {
        "colab": {
          "base_uri": "https://localhost:8080/"
        },
        "id": "eW7NLL6SEIpY",
        "outputId": "612cf50b-58c5-4478-d541-ae2f4fcf9de4"
      },
      "execution_count": 17,
      "outputs": [
        {
          "output_type": "stream",
          "name": "stderr",
          "text": [
            "Installing package into ‘/usr/local/lib/R/site-library’\n",
            "(as ‘lib’ is unspecified)\n",
            "\n",
            "Installing package into ‘/usr/local/lib/R/site-library’\n",
            "(as ‘lib’ is unspecified)\n",
            "\n",
            "also installing the dependencies ‘listenv’, ‘parallelly’, ‘future’, ‘globals’, ‘shape’, ‘future.apply’, ‘numDeriv’, ‘progressr’, ‘SQUAREM’, ‘diagram’, ‘lava’, ‘prodlim’, ‘proxy’, ‘iterators’, ‘Rcpp’, ‘clock’, ‘gower’, ‘hardhat’, ‘ipred’, ‘timeDate’, ‘e1071’, ‘foreach’, ‘ModelMetrics’, ‘plyr’, ‘pROC’, ‘recipes’, ‘reshape2’\n",
            "\n",
            "\n",
            "Loading required package: ggplot2\n",
            "\n",
            "Loading required package: lattice\n",
            "\n",
            "\n",
            "Attaching package: ‘caret’\n",
            "\n",
            "\n",
            "The following object is masked from ‘package:kknn’:\n",
            "\n",
            "    contr.dummy\n",
            "\n",
            "\n"
          ]
        }
      ]
    },
    {
      "cell_type": "code",
      "source": [
        "set.seed(100)\n",
        "# y 정보를 이용해 층화추출 -> y 정보를 줌으로써 0, 1이 골고루 뽑히게 함\n",
        "indxTrain = createDataPartition(y = Smarket$Direction, p = 0.75, list = FALSE)  # 훈련용 / 검증용 자료 나눔\n",
        "training = Smarket[indxTrain,]\n",
        "testing = Smarket[-indxTrain,]\n",
        "prop.table(table(training$Direction)) * 100\n",
        "prop.table(table(testing$Direction)) * 100\n",
        "prop.table(table(Smarket$Direction)) * 100"
      ],
      "metadata": {
        "colab": {
          "base_uri": "https://localhost:8080/",
          "height": 178
        },
        "id": "whjyieOsEInV",
        "outputId": "67b473a1-b295-410b-cbe5-2bb922460ffa"
      },
      "execution_count": 18,
      "outputs": [
        {
          "output_type": "display_data",
          "data": {
            "text/plain": [
              "\n",
              "    Down       Up \n",
              "48.18763 51.81237 "
            ]
          },
          "metadata": {}
        },
        {
          "output_type": "display_data",
          "data": {
            "text/plain": [
              "\n",
              "    Down       Up \n",
              "48.07692 51.92308 "
            ]
          },
          "metadata": {}
        },
        {
          "output_type": "display_data",
          "data": {
            "text/plain": [
              "\n",
              " Down    Up \n",
              "48.16 51.84 "
            ]
          },
          "metadata": {}
        }
      ]
    },
    {
      "cell_type": "markdown",
      "source": [
        "### (b) 전처리"
      ],
      "metadata": {
        "id": "-0fSyWWVEMhX"
      }
    },
    {
      "cell_type": "code",
      "source": [
        "trainX = training[, names(training) != \"Direction\"]  # 전처리 시 불편함을 줄이기 위해 반응변수를 제외\n",
        "preProcValues = preProcess(x = trainX, method = c(\"center\", \"scale\"))  # 중심화, 척도화 -> 표준화\n",
        "preProcValues"
      ],
      "metadata": {
        "colab": {
          "base_uri": "https://localhost:8080/",
          "height": 124
        },
        "id": "UtSGSLm6EIky",
        "outputId": "26217ef0-34bd-4103-9579-52e3eb199694"
      },
      "execution_count": 19,
      "outputs": [
        {
          "output_type": "display_data",
          "data": {
            "text/plain": [
              "Created from 938 samples and 8 variables\n",
              "\n",
              "Pre-processing:\n",
              "  - centered (8)\n",
              "  - ignored (0)\n",
              "  - scaled (8)\n"
            ]
          },
          "metadata": {}
        }
      ]
    },
    {
      "cell_type": "markdown",
      "source": [
        "### (c) 훈련과 훈련조율"
      ],
      "metadata": {
        "id": "KFRYwuFAEOge"
      }
    },
    {
      "cell_type": "code",
      "source": [
        "set.seed(200)\n",
        "# 모형평가 시 repeatedcv 방법을 3회 반복하겠다.\n",
        "ctrl = trainControl(method = \"repeatedcv\", repeats = 3)\n",
        "knnFit = train(Direction ~ ., data = training, method = \"knn\", trControl = ctrl,\n",
        "               preProcess = c(\"center\", \"scale\"), tuneLength = 20)\n",
        "knnFit  # k-NN 적합 결과"
      ],
      "metadata": {
        "colab": {
          "base_uri": "https://localhost:8080/",
          "height": 642
        },
        "id": "RBRZTS4oEQI_",
        "outputId": "ab680f2e-9429-4cb1-8c8d-3d48deee709a"
      },
      "execution_count": 20,
      "outputs": [
        {
          "output_type": "display_data",
          "data": {
            "text/plain": [
              "k-Nearest Neighbors \n",
              "\n",
              "938 samples\n",
              "  8 predictor\n",
              "  2 classes: 'Down', 'Up' \n",
              "\n",
              "Pre-processing: centered (8), scaled (8) \n",
              "Resampling: Cross-Validated (10 fold, repeated 3 times) \n",
              "Summary of sample sizes: 844, 844, 843, 844, 845, 845, ... \n",
              "Resampling results across tuning parameters:\n",
              "\n",
              "  k   Accuracy   Kappa    \n",
              "   5  0.8837625  0.7668667\n",
              "   7  0.8823439  0.7641736\n",
              "   9  0.8798806  0.7591151\n",
              "  11  0.8930660  0.7855027\n",
              "  13  0.8923603  0.7840046\n",
              "  15  0.8983926  0.7959911\n",
              "  17  0.9008712  0.8008697\n",
              "  19  0.8998034  0.7987302\n",
              "  21  0.9015651  0.8021944\n",
              "  23  0.9015574  0.8021663\n",
              "  25  0.9072465  0.8135966\n",
              "  27  0.9072542  0.8135649\n",
              "  29  0.9111626  0.8214699\n",
              "  31  0.9090274  0.8171458\n",
              "  33  0.9058319  0.8107612\n",
              "  35  0.9097479  0.8186335\n",
              "  37  0.9076353  0.8143704\n",
              "  39  0.9065752  0.8122363\n",
              "  41  0.9080164  0.8150995\n",
              "  43  0.9090842  0.8172527\n",
              "\n",
              "Accuracy was used to select the optimal model using the largest value.\n",
              "The final value used for the model was k = 29."
            ]
          },
          "metadata": {}
        }
      ]
    },
    {
      "cell_type": "code",
      "source": [
        "plot(knnFit)"
      ],
      "metadata": {
        "colab": {
          "base_uri": "https://localhost:8080/",
          "height": 437
        },
        "id": "sHOMU8MxERBB",
        "outputId": "209308e6-d19a-4a53-d879-6416179b0747"
      },
      "execution_count": 21,
      "outputs": [
        {
          "output_type": "display_data",
          "data": {
            "text/plain": [
              "plot without title"
            ],
            "image/png": "[encoded data removed]"
          },
          "metadata": {
            "image/png": {
              "width": 420,
              "height": 420
            }
          }
        }
      ]
    },
    {
      "cell_type": "markdown",
      "source": [
        "+ 인접이웃의 크기(k)가 29일 때 정확도가 제일 높다."
      ],
      "metadata": {
        "id": "rQKMwytUER7K"
      }
    },
    {
      "cell_type": "code",
      "source": [
        "knnPredict = predict(knnFit, newdata = testing)\n",
        "confusionMatrix(knnPredict, testing$Direction)  # 정오분류표"
      ],
      "metadata": {
        "colab": {
          "base_uri": "https://localhost:8080/",
          "height": 499
        },
        "id": "MVmeYkTiEVLb",
        "outputId": "014aa18a-565a-4032-f0d0-4274fc878289"
      },
      "execution_count": 22,
      "outputs": [
        {
          "output_type": "display_data",
          "data": {
            "text/plain": [
              "Confusion Matrix and Statistics\n",
              "\n",
              "          Reference\n",
              "Prediction Down  Up\n",
              "      Down  124   8\n",
              "      Up     26 154\n",
              "                                          \n",
              "               Accuracy : 0.891           \n",
              "                 95% CI : (0.8511, 0.9233)\n",
              "    No Information Rate : 0.5192          \n",
              "    P-Value [Acc > NIR] : < 2.2e-16       \n",
              "                                          \n",
              "                  Kappa : 0.7808          \n",
              "                                          \n",
              " Mcnemar's Test P-Value : 0.003551        \n",
              "                                          \n",
              "            Sensitivity : 0.8267          \n",
              "            Specificity : 0.9506          \n",
              "         Pos Pred Value : 0.9394          \n",
              "         Neg Pred Value : 0.8556          \n",
              "             Prevalence : 0.4808          \n",
              "         Detection Rate : 0.3974          \n",
              "   Detection Prevalence : 0.4231          \n",
              "      Balanced Accuracy : 0.8886          \n",
              "                                          \n",
              "       'Positive' Class : Down            \n",
              "                                          "
            ]
          },
          "metadata": {}
        }
      ]
    },
    {
      "cell_type": "code",
      "source": [
        "mean(knnPredict == testing$Direction)"
      ],
      "metadata": {
        "colab": {
          "base_uri": "https://localhost:8080/",
          "height": 34
        },
        "id": "nmic1AsQEVJK",
        "outputId": "af2cda24-cb97-4bbf-fa52-b33a29dc8c94"
      },
      "execution_count": 23,
      "outputs": [
        {
          "output_type": "display_data",
          "data": {
            "text/html": [
              "0.891025641025641"
            ],
            "text/markdown": "0.891025641025641",
            "text/latex": "0.891025641025641",
            "text/plain": [
              "[1] 0.8910256"
            ]
          },
          "metadata": {}
        }
      ]
    },
    {
      "cell_type": "markdown",
      "source": [
        "+ 정확도 : 89.1%"
      ],
      "metadata": {
        "id": "9ZiQJhJbEXvM"
      }
    },
    {
      "cell_type": "code",
      "source": [
        "set.seed(300)\n",
        "ctrl = trainControl(method = \"repeatedcv\", repeats = 3,\n",
        "                    classProbs = TRUE, summaryFunction = twoClassSummary)\n",
        "knnFit = train(Direction ~ ., data = training, method = \"knn\", trControl = ctrl,\n",
        "               preProcess = c(\"center\", \"scale\"), tuneLength = 20)\n",
        "knnFit"
      ],
      "metadata": {
        "colab": {
          "base_uri": "https://localhost:8080/",
          "height": 678
        },
        "id": "8yRuPKhKEVHT",
        "outputId": "155d274a-9f83-495f-f0c9-dfef5e90678b"
      },
      "execution_count": 24,
      "outputs": [
        {
          "output_type": "stream",
          "name": "stderr",
          "text": [
            "Warning message in train.default(x, y, weights = w, ...):\n",
            "“The metric \"Accuracy\" was not in the result set. ROC will be used instead.”\n"
          ]
        },
        {
          "output_type": "display_data",
          "data": {
            "text/plain": [
              "k-Nearest Neighbors \n",
              "\n",
              "938 samples\n",
              "  8 predictor\n",
              "  2 classes: 'Down', 'Up' \n",
              "\n",
              "Pre-processing: centered (8), scaled (8) \n",
              "Resampling: Cross-Validated (10 fold, repeated 3 times) \n",
              "Summary of sample sizes: 844, 844, 844, 845, 844, 845, ... \n",
              "Resampling results across tuning parameters:\n",
              "\n",
              "  k   ROC        Sens       Spec     \n",
              "   5  0.9490633  0.8525443  0.9086310\n",
              "   7  0.9569101  0.8628663  0.8943452\n",
              "   9  0.9631884  0.8569887  0.9080641\n",
              "  11  0.9679797  0.8717874  0.9224773\n",
              "  13  0.9692392  0.8636393  0.9279478\n",
              "  15  0.9694958  0.8554911  0.9334325\n",
              "  17  0.9718937  0.8539291  0.9361678\n",
              "  19  0.9744087  0.8510467  0.9389031\n",
              "  21  0.9745304  0.8511433  0.9403628\n",
              "  23  0.9760532  0.8577456  0.9424178\n",
              "  25  0.9783209  0.8607085  0.9458475\n",
              "  27  0.9779612  0.8629147  0.9547619\n",
              "  29  0.9769421  0.8533494  0.9485544\n",
              "  31  0.9768530  0.8599678  0.9465278\n",
              "  33  0.9769135  0.8628824  0.9561083\n",
              "  35  0.9771471  0.8584541  0.9526927\n",
              "  37  0.9769091  0.8643800  0.9561224\n",
              "  39  0.9770477  0.8606763  0.9534014\n",
              "  41  0.9776417  0.8607246  0.9540958\n",
              "  43  0.9771876  0.8585507  0.9540675\n",
              "\n",
              "ROC was used to select the optimal model using the largest value.\n",
              "The final value used for the model was k = 25."
            ]
          },
          "metadata": {}
        }
      ]
    },
    {
      "cell_type": "code",
      "source": [
        "# knnFit에 대해 0.5 기준을 사용했을 때 민감도, 특이도 값을 그림에 계단형태로 제시하여라\n",
        "plot(knnFit, print.thres = 0.5, type = \"S\")"
      ],
      "metadata": {
        "colab": {
          "base_uri": "https://localhost:8080/",
          "height": 437
        },
        "id": "zosFjwUhEVE7",
        "outputId": "a62d7b9c-0239-4f02-e317-bcc115cfb4c4"
      },
      "execution_count": 25,
      "outputs": [
        {
          "output_type": "display_data",
          "data": {
            "text/plain": [
              "plot without title"
            ],
            "image/png": "[encoded data removed]"
          },
          "metadata": {
            "image/png": {
              "width": 420,
              "height": 420
            }
          }
        }
      ]
    },
    {
      "cell_type": "markdown",
      "source": [
        "+ summary=twoClassSummary : AUC, 민감도, 특이도 등 성능측도 제공\n",
        "  + classProbs = TRUE : 출력된 확률값에 기반하여 계산이 가능하게 하는 옵션으로 위의 측도 계산에 필요\n",
        "+ tuneLength = 20 : 조율모수의 격자 조절\n",
        "+ 적합모형은 인접이웃으로 k=25를 선택하였다(AUC 기준 사용)"
      ],
      "metadata": {
        "id": "ZZxijqZpEdAy"
      }
    },
    {
      "cell_type": "code",
      "source": [
        "knnPredict = predict(knnFit, newdata = testing)\n",
        "confusionMatrix(knnPredict, testing$Direction)  # 정오분류표"
      ],
      "metadata": {
        "colab": {
          "base_uri": "https://localhost:8080/",
          "height": 499
        },
        "id": "PvBwDI_OEb0j",
        "outputId": "df4bedbe-4484-4bfc-e321-705b0c2b6fb6"
      },
      "execution_count": 26,
      "outputs": [
        {
          "output_type": "display_data",
          "data": {
            "text/plain": [
              "Confusion Matrix and Statistics\n",
              "\n",
              "          Reference\n",
              "Prediction Down  Up\n",
              "      Down  122   8\n",
              "      Up     28 154\n",
              "                                          \n",
              "               Accuracy : 0.8846          \n",
              "                 95% CI : (0.8439, 0.9179)\n",
              "    No Information Rate : 0.5192          \n",
              "    P-Value [Acc > NIR] : < 2.2e-16       \n",
              "                                          \n",
              "                  Kappa : 0.7677          \n",
              "                                          \n",
              " Mcnemar's Test P-Value : 0.001542        \n",
              "                                          \n",
              "            Sensitivity : 0.8133          \n",
              "            Specificity : 0.9506          \n",
              "         Pos Pred Value : 0.9385          \n",
              "         Neg Pred Value : 0.8462          \n",
              "             Prevalence : 0.4808          \n",
              "         Detection Rate : 0.3910          \n",
              "   Detection Prevalence : 0.4167          \n",
              "      Balanced Accuracy : 0.8820          \n",
              "                                          \n",
              "       'Positive' Class : Down            \n",
              "                                          "
            ]
          },
          "metadata": {}
        }
      ]
    },
    {
      "cell_type": "code",
      "source": [
        "mean(knnPredict == testing$Direction)"
      ],
      "metadata": {
        "colab": {
          "base_uri": "https://localhost:8080/",
          "height": 34
        },
        "id": "IWm-wx5IEbyb",
        "outputId": "8a527a1a-7358-4689-ac08-83f108aa406c"
      },
      "execution_count": 27,
      "outputs": [
        {
          "output_type": "display_data",
          "data": {
            "text/html": [
              "0.884615384615385"
            ],
            "text/markdown": "0.884615384615385",
            "text/latex": "0.884615384615385",
            "text/plain": [
              "[1] 0.8846154"
            ]
          },
          "metadata": {}
        }
      ]
    },
    {
      "cell_type": "markdown",
      "source": [
        "+ 정확도 : 88.8% (다소 감소)"
      ],
      "metadata": {
        "id": "EoXw_0vZEf2Q"
      }
    },
    {
      "cell_type": "code",
      "source": [
        "# ROC 곡선 그리기\n",
        "install.packages(\"pROC\")\n",
        "library(pROC)\n",
        "knnPredict = predict(knnFit, newdata = testing, type = \"prob\")\n",
        "knnROC = roc(testing$Direction, knnPredict[, \"Down\"], levels = levels(testing$Direction))\n",
        "knnROC"
      ],
      "metadata": {
        "colab": {
          "base_uri": "https://localhost:8080/",
          "height": 410
        },
        "id": "lxew9B_AEbwR",
        "outputId": "12815fe5-9dc7-488a-d439-d1c349b64dc3"
      },
      "execution_count": 28,
      "outputs": [
        {
          "output_type": "stream",
          "name": "stderr",
          "text": [
            "Installing package into ‘/usr/local/lib/R/site-library’\n",
            "(as ‘lib’ is unspecified)\n",
            "\n",
            "Type 'citation(\"pROC\")' for a citation.\n",
            "\n",
            "\n",
            "Attaching package: ‘pROC’\n",
            "\n",
            "\n",
            "The following objects are masked from ‘package:stats’:\n",
            "\n",
            "    cov, smooth, var\n",
            "\n",
            "\n",
            "Setting direction: controls > cases\n",
            "\n"
          ]
        },
        {
          "output_type": "display_data",
          "data": {
            "text/plain": [
              "\n",
              "Call:\n",
              "roc.default(response = testing$Direction, predictor = knnPredict[,     \"Down\"], levels = levels(testing$Direction))\n",
              "\n",
              "Data: knnPredict[, \"Down\"] in 150 controls (testing$Direction Down) > 162 cases (testing$Direction Up).\n",
              "Area under the curve: 0.9659"
            ]
          },
          "metadata": {}
        }
      ]
    },
    {
      "cell_type": "code",
      "source": [
        "plot(knnROC, type = \"S\", print.thres = 0.5)  # 기준값 0.5일 때의 결과를 표시"
      ],
      "metadata": {
        "colab": {
          "base_uri": "https://localhost:8080/",
          "height": 437
        },
        "id": "eJnPa-5zEm74",
        "outputId": "c3e31847-93c2-4b35-a4fd-4b716bb08a28"
      },
      "execution_count": 29,
      "outputs": [
        {
          "output_type": "display_data",
          "data": {
            "text/plain": [
              "plot without title"
            ],
            "image/png": "[encoded data removed]"
          },
          "metadata": {
            "image/png": {
              "width": 420,
              "height": 420
            }
          }
        }
      ]
    },
    {
      "cell_type": "markdown",
      "source": [
        "+ AUC : 0.9698로 굉장히 뛰어난 성능"
      ],
      "metadata": {
        "id": "4a3sLj9NEoNA"
      }
    },
    {
      "cell_type": "markdown",
      "source": [
        "### (d) 랜덤포리스트(method = \"rf\")를 적용한 결과"
      ],
      "metadata": {
        "id": "4wIgRFT9EpCi"
      }
    },
    {
      "cell_type": "code",
      "source": [
        "set.seed(400)\n",
        "install.packages(\"randomForest\")\n",
        "library(randomForest)\n",
        "ctrl = trainControl(method = \"repeatedcv\", repeats = 3)\n",
        "rfFit = train(Direction ~ ., data = training, method = \"rf\", trControl = ctrl,\n",
        "              preProcess = c(\"center\", \"scale\"), tuneLength = 20)  # rf : 랜덤포레스트\n",
        "rfFit  # mtry는 임의로 선택된 예측변수의 수(조율모수)"
      ],
      "metadata": {
        "colab": {
          "base_uri": "https://localhost:8080/",
          "height": 731
        },
        "id": "e50_l33tEm50",
        "outputId": "33ce14e4-d385-4a24-c146-b8938fe83992"
      },
      "execution_count": 30,
      "outputs": [
        {
          "output_type": "stream",
          "name": "stderr",
          "text": [
            "Installing package into ‘/usr/local/lib/R/site-library’\n",
            "(as ‘lib’ is unspecified)\n",
            "\n",
            "randomForest 4.7-1.1\n",
            "\n",
            "Type rfNews() to see new features/changes/bug fixes.\n",
            "\n",
            "\n",
            "Attaching package: ‘randomForest’\n",
            "\n",
            "\n",
            "The following object is masked from ‘package:ggplot2’:\n",
            "\n",
            "    margin\n",
            "\n",
            "\n"
          ]
        },
        {
          "output_type": "stream",
          "name": "stdout",
          "text": [
            "note: only 7 unique complexity parameters in default grid. Truncating the grid to 7 .\n",
            "\n"
          ]
        },
        {
          "output_type": "display_data",
          "data": {
            "text/plain": [
              "Random Forest \n",
              "\n",
              "938 samples\n",
              "  8 predictor\n",
              "  2 classes: 'Down', 'Up' \n",
              "\n",
              "Pre-processing: centered (8), scaled (8) \n",
              "Resampling: Cross-Validated (10 fold, repeated 3 times) \n",
              "Summary of sample sizes: 844, 844, 844, 844, 844, 844, ... \n",
              "Resampling results across tuning parameters:\n",
              "\n",
              "  mtry  Accuracy   Kappa    \n",
              "  2     0.9989399  0.9978761\n",
              "  3     0.9989399  0.9978761\n",
              "  4     0.9989399  0.9978761\n",
              "  5     0.9989399  0.9978761\n",
              "  6     0.9989399  0.9978761\n",
              "  7     0.9989399  0.9978761\n",
              "  8     0.9989399  0.9978761\n",
              "\n",
              "Accuracy was used to select the optimal model using the largest value.\n",
              "The final value used for the model was mtry = 2."
            ]
          },
          "metadata": {}
        }
      ]
    },
    {
      "cell_type": "code",
      "source": [
        "plot(rfFit)"
      ],
      "metadata": {
        "colab": {
          "base_uri": "https://localhost:8080/",
          "height": 437
        },
        "id": "V8Z1O_rEEm3Y",
        "outputId": "f2217b2c-75bf-4cc2-f7bb-ebb83d27ab7f"
      },
      "execution_count": 31,
      "outputs": [
        {
          "output_type": "display_data",
          "data": {
            "text/plain": [
              "plot without title"
            ],
            "image/png": "[encoded data removed]"
          },
          "metadata": {
            "image/png": {
              "width": 420,
              "height": 420
            }
          }
        }
      ]
    },
    {
      "cell_type": "code",
      "source": [
        "rfPredict = predict(rfFit, newdata = testing)\n",
        "confusionMatrix(rfPredict, testing$Direction)"
      ],
      "metadata": {
        "colab": {
          "base_uri": "https://localhost:8080/",
          "height": 499
        },
        "id": "DUkwyfaVErcl",
        "outputId": "b0cc9edb-a571-4e34-a498-13c772b7c799"
      },
      "execution_count": 32,
      "outputs": [
        {
          "output_type": "display_data",
          "data": {
            "text/plain": [
              "Confusion Matrix and Statistics\n",
              "\n",
              "          Reference\n",
              "Prediction Down  Up\n",
              "      Down  150   1\n",
              "      Up      0 161\n",
              "                                          \n",
              "               Accuracy : 0.9968          \n",
              "                 95% CI : (0.9823, 0.9999)\n",
              "    No Information Rate : 0.5192          \n",
              "    P-Value [Acc > NIR] : <2e-16          \n",
              "                                          \n",
              "                  Kappa : 0.9936          \n",
              "                                          \n",
              " Mcnemar's Test P-Value : 1               \n",
              "                                          \n",
              "            Sensitivity : 1.0000          \n",
              "            Specificity : 0.9938          \n",
              "         Pos Pred Value : 0.9934          \n",
              "         Neg Pred Value : 1.0000          \n",
              "             Prevalence : 0.4808          \n",
              "         Detection Rate : 0.4808          \n",
              "   Detection Prevalence : 0.4840          \n",
              "      Balanced Accuracy : 0.9969          \n",
              "                                          \n",
              "       'Positive' Class : Down            \n",
              "                                          "
            ]
          },
          "metadata": {}
        }
      ]
    },
    {
      "cell_type": "code",
      "source": [
        "mean(rfPredict == testing$Direction)"
      ],
      "metadata": {
        "colab": {
          "base_uri": "https://localhost:8080/",
          "height": 34
        },
        "id": "nMeHJyKkErao",
        "outputId": "794f9246-b68f-49a3-dab2-12de9a76e529"
      },
      "execution_count": 33,
      "outputs": [
        {
          "output_type": "display_data",
          "data": {
            "text/html": [
              "0.996794871794872"
            ],
            "text/markdown": "0.996794871794872",
            "text/latex": "0.996794871794872",
            "text/plain": [
              "[1] 0.9967949"
            ]
          },
          "metadata": {}
        }
      ]
    },
    {
      "cell_type": "markdown",
      "source": [
        "+ 랜덤포레스트 : 일종의 앙상블 모형으로 대체로 성능이 매우 뛰어난 방법으로 알려져 있다.\n",
        "+ 조율모수로 2를 선택하는 것이 최적의 모형\n",
        "+ 정분류율이 100%로 rf가 얼마나 좋은 모형인지를 보여줌\n",
        "\n",
        "+ 클래스 요약함수 사용하여 AUC 기반 모형 구축"
      ],
      "metadata": {
        "id": "6NXmdl3EEwJo"
      }
    },
    {
      "cell_type": "code",
      "source": [
        "set.seed(500)\n",
        "ctrl = trainControl(method = \"repeatedcv\", repeats = 3, classProbs = TRUE,\n",
        "                    summaryFunction = twoClassSummary)\n",
        "rfFit = train(Direction ~ ., data = training, method = \"rf\", trControl = ctrl,\n",
        "              preProcess = c(\"center\", \"scale\"), tuneLength = 20)\n",
        "rfFit"
      ],
      "metadata": {
        "colab": {
          "base_uri": "https://localhost:8080/",
          "height": 481
        },
        "id": "mPMr5VtoErYY",
        "outputId": "48a8d90e-7365-41ec-c49f-8099b2335705"
      },
      "execution_count": 34,
      "outputs": [
        {
          "output_type": "stream",
          "name": "stdout",
          "text": [
            "note: only 7 unique complexity parameters in default grid. Truncating the grid to 7 .\n",
            "\n"
          ]
        },
        {
          "output_type": "stream",
          "name": "stderr",
          "text": [
            "Warning message in train.default(x, y, weights = w, ...):\n",
            "“The metric \"Accuracy\" was not in the result set. ROC will be used instead.”\n"
          ]
        },
        {
          "output_type": "display_data",
          "data": {
            "text/plain": [
              "Random Forest \n",
              "\n",
              "938 samples\n",
              "  8 predictor\n",
              "  2 classes: 'Down', 'Up' \n",
              "\n",
              "Pre-processing: centered (8), scaled (8) \n",
              "Resampling: Cross-Validated (10 fold, repeated 3 times) \n",
              "Summary of sample sizes: 844, 845, 844, 843, 844, 844, ... \n",
              "Resampling results across tuning parameters:\n",
              "\n",
              "  mtry  ROC  Sens       Spec\n",
              "  2     1    0.9977778  1   \n",
              "  3     1    0.9977778  1   \n",
              "  4     1    0.9977778  1   \n",
              "  5     1    0.9977778  1   \n",
              "  6     1    0.9977778  1   \n",
              "  7     1    0.9977778  1   \n",
              "  8     1    0.9977778  1   \n",
              "\n",
              "ROC was used to select the optimal model using the largest value.\n",
              "The final value used for the model was mtry = 2."
            ]
          },
          "metadata": {}
        }
      ]
    },
    {
      "cell_type": "code",
      "source": [
        "plot(rfFit)"
      ],
      "metadata": {
        "colab": {
          "base_uri": "https://localhost:8080/",
          "height": 437
        },
        "id": "6Ytm1JvREyKJ",
        "outputId": "3e169c79-3cb2-4eaf-813d-1bf16e65b485"
      },
      "execution_count": 35,
      "outputs": [
        {
          "output_type": "display_data",
          "data": {
            "text/plain": [
              "plot without title"
            ],
            "image/png": "[encoded data removed]"
          },
          "metadata": {
            "image/png": {
              "width": 420,
              "height": 420
            }
          }
        }
      ]
    },
    {
      "cell_type": "code",
      "source": [
        "# 몇가지 매개변수로 플롯하기\n",
        "plot(rfFit, print.thres = 0.5, type = \"S\")\n",
        "rfPredict = predict(rfFit, newdata = testing)\n",
        "confusionMatrix(rfPredict, testing$Direction)\n",
        "mean(rfPredict == testing$Direction)"
      ],
      "metadata": {
        "colab": {
          "base_uri": "https://localhost:8080/",
          "height": 937
        },
        "id": "EnzpNVapE0C9",
        "outputId": "50e162ac-a9af-4b0f-c9d7-654eef531502"
      },
      "execution_count": 36,
      "outputs": [
        {
          "output_type": "display_data",
          "data": {
            "text/plain": [
              "Confusion Matrix and Statistics\n",
              "\n",
              "          Reference\n",
              "Prediction Down  Up\n",
              "      Down  150   1\n",
              "      Up      0 161\n",
              "                                          \n",
              "               Accuracy : 0.9968          \n",
              "                 95% CI : (0.9823, 0.9999)\n",
              "    No Information Rate : 0.5192          \n",
              "    P-Value [Acc > NIR] : <2e-16          \n",
              "                                          \n",
              "                  Kappa : 0.9936          \n",
              "                                          \n",
              " Mcnemar's Test P-Value : 1               \n",
              "                                          \n",
              "            Sensitivity : 1.0000          \n",
              "            Specificity : 0.9938          \n",
              "         Pos Pred Value : 0.9934          \n",
              "         Neg Pred Value : 1.0000          \n",
              "             Prevalence : 0.4808          \n",
              "         Detection Rate : 0.4808          \n",
              "   Detection Prevalence : 0.4840          \n",
              "      Balanced Accuracy : 0.9969          \n",
              "                                          \n",
              "       'Positive' Class : Down            \n",
              "                                          "
            ]
          },
          "metadata": {}
        },
        {
          "output_type": "display_data",
          "data": {
            "text/html": [
              "0.996794871794872"
            ],
            "text/markdown": "0.996794871794872",
            "text/latex": "0.996794871794872",
            "text/plain": [
              "[1] 0.9967949"
            ]
          },
          "metadata": {}
        },
        {
          "output_type": "display_data",
          "data": {
            "text/plain": [
              "plot without title"
            ],
            "image/png": "[encoded data removed]"
          },
          "metadata": {
            "image/png": {
              "width": 420,
              "height": 420
            }
          }
        }
      ]
    },
    {
      "cell_type": "code",
      "source": [
        "library(pROC)\n",
        "rfPredict = predict(rfFit, newdata=testing , type=\"prob\")\n",
        "rfROC = roc(response = testing$Direction, predictor=rfPredict[,\"Down\"],\n",
        "             levels =levels(rev(testing$Direction)))\n",
        "rfROC"
      ],
      "metadata": {
        "colab": {
          "base_uri": "https://localhost:8080/",
          "height": 160
        },
        "id": "C-nhcQIb9dfy",
        "outputId": "99650fb1-899a-4dee-e715-8f143896c6ce"
      },
      "execution_count": 37,
      "outputs": [
        {
          "output_type": "stream",
          "name": "stderr",
          "text": [
            "Setting direction: controls > cases\n",
            "\n"
          ]
        },
        {
          "output_type": "display_data",
          "data": {
            "text/plain": [
              "\n",
              "Call:\n",
              "roc.default(response = testing$Direction, predictor = rfPredict[,     \"Down\"], levels = levels(rev(testing$Direction)))\n",
              "\n",
              "Data: rfPredict[, \"Down\"] in 150 controls (testing$Direction Down) > 162 cases (testing$Direction Up).\n",
              "Area under the curve: 1"
            ]
          },
          "metadata": {}
        }
      ]
    },
    {
      "cell_type": "code",
      "source": [
        "plot(rfROC, type=\"S\", print.thres= 0.5)"
      ],
      "metadata": {
        "colab": {
          "base_uri": "https://localhost:8080/",
          "height": 437
        },
        "id": "RJ0QfaWrEi4C",
        "outputId": "f09817a1-5b9f-401e-9012-5833a271a300"
      },
      "execution_count": 38,
      "outputs": [
        {
          "output_type": "display_data",
          "data": {
            "text/plain": [
              "plot without title"
            ],
            "image/png": "[encoded data removed]"
          },
          "metadata": {
            "image/png": {
              "width": 420,
              "height": 420
            }
          }
        }
      ]
    }
  ],
  "metadata": {
    "colab": {
      "provenance": []
    },
    "kernelspec": {
      "display_name": "R",
      "name": "ir"
    },
    "language_info": {
      "name": "R"
    }
  },
  "nbformat": 4,
  "nbformat_minor": 0
}