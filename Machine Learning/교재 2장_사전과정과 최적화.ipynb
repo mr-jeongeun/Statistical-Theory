{
  "nbformat": 4,
  "nbformat_minor": 0,
  "metadata": {
    "colab": {
      "name": "교재 2장_사전과정과 최적화.ipynb",
      "provenance": [],
      "collapsed_sections": []
    },
    "kernelspec": {
      "name": "python3",
      "display_name": "Python 3"
    },
    "language_info": {
      "name": "python"
    }
  },
  "cells": [
    {
      "cell_type": "markdown",
      "source": [
        "### 2.1 실수자료로의 전환(Vectorlization)"
      ],
      "metadata": {
        "id": "3EFmWrnZPHze"
      }
    },
    {
      "cell_type": "markdown",
      "source": [
        "#### 범주화자료의 수량화(one-hot 벡터)"
      ],
      "metadata": {
        "id": "-W6zTtEyRkyt"
      }
    },
    {
      "cell_type": "code",
      "source": [
        "x = [{\"city\" : \"Seoul\", \"temp\" : 10.0}, {\"city\" : \"Dubai\", \"temp\" : 33.5}, {\"city\" : \"LA\", \"temp\" : 20.0}]\n",
        "x"
      ],
      "metadata": {
        "colab": {
          "base_uri": "https://localhost:8080/"
        },
        "id": "MiHtj4AGQN3x",
        "outputId": "c1e154a2-a575-490e-ac8a-abf5e32919cd"
      },
      "execution_count": 1,
      "outputs": [
        {
          "output_type": "execute_result",
          "data": {
            "text/plain": [
              "[{'city': 'Seoul', 'temp': 10.0},\n",
              " {'city': 'Dubai', 'temp': 33.5},\n",
              " {'city': 'LA', 'temp': 20.0}]"
            ]
          },
          "metadata": {},
          "execution_count": 1
        }
      ]
    },
    {
      "cell_type": "code",
      "source": [
        "from sklearn.feature_extraction import DictVectorizer\n",
        "vec = DictVectorizer(sparse = False)\n",
        "vec.fit_transform(x)"
      ],
      "metadata": {
        "colab": {
          "base_uri": "https://localhost:8080/"
        },
        "id": "vitQ4cqdQoNz",
        "outputId": "2c2f45d1-93c0-4775-9f14-3e5bf65225c3"
      },
      "execution_count": 2,
      "outputs": [
        {
          "output_type": "execute_result",
          "data": {
            "text/plain": [
              "array([[ 0. ,  0. ,  1. , 10. ],\n",
              "       [ 1. ,  0. ,  0. , 33.5],\n",
              "       [ 0. ,  1. ,  0. , 20. ]])"
            ]
          },
          "metadata": {},
          "execution_count": 2
        }
      ]
    },
    {
      "cell_type": "code",
      "source": [
        "vec1 = DictVectorizer()  # 메모리를 줄이기 위해 sparse = True(디폴트값)\n",
        "x1 = vec1.fit_transform(x)\n",
        "x1"
      ],
      "metadata": {
        "colab": {
          "base_uri": "https://localhost:8080/"
        },
        "id": "eHsZR_8kQ2ju",
        "outputId": "af721644-9d45-46bc-f2d9-738933798a50"
      },
      "execution_count": 3,
      "outputs": [
        {
          "output_type": "execute_result",
          "data": {
            "text/plain": [
              "<3x4 sparse matrix of type '<class 'numpy.float64'>'\n",
              "\twith 6 stored elements in Compressed Sparse Row format>"
            ]
          },
          "metadata": {},
          "execution_count": 3
        }
      ]
    },
    {
      "cell_type": "code",
      "source": [
        "x1.toarray()  # 배열로 변경\n",
        "vec1.get_feature_names()"
      ],
      "metadata": {
        "colab": {
          "base_uri": "https://localhost:8080/"
        },
        "id": "yMnPRaQeRVKq",
        "outputId": "48aa637a-537c-4bbf-e090-e0ce18a61336"
      },
      "execution_count": 4,
      "outputs": [
        {
          "output_type": "stream",
          "name": "stderr",
          "text": [
            "/usr/local/lib/python3.7/dist-packages/sklearn/utils/deprecation.py:87: FutureWarning: Function get_feature_names is deprecated; get_feature_names is deprecated in 1.0 and will be removed in 1.2. Please use get_feature_names_out instead.\n",
            "  warnings.warn(msg, category=FutureWarning)\n"
          ]
        },
        {
          "output_type": "execute_result",
          "data": {
            "text/plain": [
              "['city=Dubai', 'city=LA', 'city=Seoul', 'temp']"
            ]
          },
          "metadata": {},
          "execution_count": 4
        }
      ]
    },
    {
      "cell_type": "markdown",
      "source": [
        "#### 텍스트 자료의 수량화"
      ],
      "metadata": {
        "id": "v5EG-t-iRfeX"
      }
    },
    {
      "cell_type": "code",
      "source": [
        "text = [\"떴다 떴다 비행기 날아라 날아라\",\n",
        "        \"높이 높이 날아라 우리 비행기\",\n",
        "        \"내가 만든 비행기 날아라 날아라\",\n",
        "        \"멀리 멀리 날아라 우리 비행기\"]\n",
        "text"
      ],
      "metadata": {
        "colab": {
          "base_uri": "https://localhost:8080/"
        },
        "id": "tiQusO6SRrom",
        "outputId": "f7c5474a-c103-43ba-9a06-e7e9bb38e7cb"
      },
      "execution_count": 5,
      "outputs": [
        {
          "output_type": "execute_result",
          "data": {
            "text/plain": [
              "['떴다 떴다 비행기 날아라 날아라',\n",
              " '높이 높이 날아라 우리 비행기',\n",
              " '내가 만든 비행기 날아라 날아라',\n",
              " '멀리 멀리 날아라 우리 비행기']"
            ]
          },
          "metadata": {},
          "execution_count": 5
        }
      ]
    },
    {
      "cell_type": "code",
      "source": [
        "from sklearn.feature_extraction.text import CountVectorizer\n",
        "vec2 = CountVectorizer()\n",
        "t = vec2.fit_transform(text).toarray()\n",
        "\n",
        "import pandas as pd\n",
        "t1 = pd.DataFrame(t, columns = vec2.get_feature_names())\n",
        "t1"
      ],
      "metadata": {
        "colab": {
          "base_uri": "https://localhost:8080/",
          "height": 230
        },
        "id": "adk4C03yR4T_",
        "outputId": "c00049b6-8b05-4591-87ad-462518075e90"
      },
      "execution_count": 6,
      "outputs": [
        {
          "output_type": "stream",
          "name": "stderr",
          "text": [
            "/usr/local/lib/python3.7/dist-packages/sklearn/utils/deprecation.py:87: FutureWarning: Function get_feature_names is deprecated; get_feature_names is deprecated in 1.0 and will be removed in 1.2. Please use get_feature_names_out instead.\n",
            "  warnings.warn(msg, category=FutureWarning)\n"
          ]
        },
        {
          "output_type": "execute_result",
          "data": {
            "text/plain": [
              "   날아라  내가  높이  떴다  만든  멀리  비행기  우리\n",
              "0    2   0   0   2   0   0    1   0\n",
              "1    1   0   2   0   0   0    1   1\n",
              "2    2   1   0   0   1   0    1   0\n",
              "3    1   0   0   0   0   2    1   1"
            ],
            "text/html": [
              "\n",
              "  <div id=\"df-e3a1bc06-c96a-4dc0-b31d-f33305f99b41\">\n",
              "    <div class=\"colab-df-container\">\n",
              "      <div>\n",
              "<style scoped>\n",
              "    .dataframe tbody tr th:only-of-type {\n",
              "        vertical-align: middle;\n",
              "    }\n",
              "\n",
              "    .dataframe tbody tr th {\n",
              "        vertical-align: top;\n",
              "    }\n",
              "\n",
              "    .dataframe thead th {\n",
              "        text-align: right;\n",
              "    }\n",
              "</style>\n",
              "<table border=\"1\" class=\"dataframe\">\n",
              "  <thead>\n",
              "    <tr style=\"text-align: right;\">\n",
              "      <th></th>\n",
              "      <th>날아라</th>\n",
              "      <th>내가</th>\n",
              "      <th>높이</th>\n",
              "      <th>떴다</th>\n",
              "      <th>만든</th>\n",
              "      <th>멀리</th>\n",
              "      <th>비행기</th>\n",
              "      <th>우리</th>\n",
              "    </tr>\n",
              "  </thead>\n",
              "  <tbody>\n",
              "    <tr>\n",
              "      <th>0</th>\n",
              "      <td>2</td>\n",
              "      <td>0</td>\n",
              "      <td>0</td>\n",
              "      <td>2</td>\n",
              "      <td>0</td>\n",
              "      <td>0</td>\n",
              "      <td>1</td>\n",
              "      <td>0</td>\n",
              "    </tr>\n",
              "    <tr>\n",
              "      <th>1</th>\n",
              "      <td>1</td>\n",
              "      <td>0</td>\n",
              "      <td>2</td>\n",
              "      <td>0</td>\n",
              "      <td>0</td>\n",
              "      <td>0</td>\n",
              "      <td>1</td>\n",
              "      <td>1</td>\n",
              "    </tr>\n",
              "    <tr>\n",
              "      <th>2</th>\n",
              "      <td>2</td>\n",
              "      <td>1</td>\n",
              "      <td>0</td>\n",
              "      <td>0</td>\n",
              "      <td>1</td>\n",
              "      <td>0</td>\n",
              "      <td>1</td>\n",
              "      <td>0</td>\n",
              "    </tr>\n",
              "    <tr>\n",
              "      <th>3</th>\n",
              "      <td>1</td>\n",
              "      <td>0</td>\n",
              "      <td>0</td>\n",
              "      <td>0</td>\n",
              "      <td>0</td>\n",
              "      <td>2</td>\n",
              "      <td>1</td>\n",
              "      <td>1</td>\n",
              "    </tr>\n",
              "  </tbody>\n",
              "</table>\n",
              "</div>\n",
              "      <button class=\"colab-df-convert\" onclick=\"convertToInteractive('df-e3a1bc06-c96a-4dc0-b31d-f33305f99b41')\"\n",
              "              title=\"Convert this dataframe to an interactive table.\"\n",
              "              style=\"display:none;\">\n",
              "        \n",
              "  <svg xmlns=\"http://www.w3.org/2000/svg\" height=\"24px\"viewBox=\"0 0 24 24\"\n",
              "       width=\"24px\">\n",
              "    <path d=\"M0 0h24v24H0V0z\" fill=\"none\"/>\n",
              "    <path d=\"M18.56 5.44l.94 2.06.94-2.06 2.06-.94-2.06-.94-.94-2.06-.94 2.06-2.06.94zm-11 1L8.5 8.5l.94-2.06 2.06-.94-2.06-.94L8.5 2.5l-.94 2.06-2.06.94zm10 10l.94 2.06.94-2.06 2.06-.94-2.06-.94-.94-2.06-.94 2.06-2.06.94z\"/><path d=\"M17.41 7.96l-1.37-1.37c-.4-.4-.92-.59-1.43-.59-.52 0-1.04.2-1.43.59L10.3 9.45l-7.72 7.72c-.78.78-.78 2.05 0 2.83L4 21.41c.39.39.9.59 1.41.59.51 0 1.02-.2 1.41-.59l7.78-7.78 2.81-2.81c.8-.78.8-2.07 0-2.86zM5.41 20L4 18.59l7.72-7.72 1.47 1.35L5.41 20z\"/>\n",
              "  </svg>\n",
              "      </button>\n",
              "      \n",
              "  <style>\n",
              "    .colab-df-container {\n",
              "      display:flex;\n",
              "      flex-wrap:wrap;\n",
              "      gap: 12px;\n",
              "    }\n",
              "\n",
              "    .colab-df-convert {\n",
              "      background-color: #E8F0FE;\n",
              "      border: none;\n",
              "      border-radius: 50%;\n",
              "      cursor: pointer;\n",
              "      display: none;\n",
              "      fill: #1967D2;\n",
              "      height: 32px;\n",
              "      padding: 0 0 0 0;\n",
              "      width: 32px;\n",
              "    }\n",
              "\n",
              "    .colab-df-convert:hover {\n",
              "      background-color: #E2EBFA;\n",
              "      box-shadow: 0px 1px 2px rgba(60, 64, 67, 0.3), 0px 1px 3px 1px rgba(60, 64, 67, 0.15);\n",
              "      fill: #174EA6;\n",
              "    }\n",
              "\n",
              "    [theme=dark] .colab-df-convert {\n",
              "      background-color: #3B4455;\n",
              "      fill: #D2E3FC;\n",
              "    }\n",
              "\n",
              "    [theme=dark] .colab-df-convert:hover {\n",
              "      background-color: #434B5C;\n",
              "      box-shadow: 0px 1px 3px 1px rgba(0, 0, 0, 0.15);\n",
              "      filter: drop-shadow(0px 1px 2px rgba(0, 0, 0, 0.3));\n",
              "      fill: #FFFFFF;\n",
              "    }\n",
              "  </style>\n",
              "\n",
              "      <script>\n",
              "        const buttonEl =\n",
              "          document.querySelector('#df-e3a1bc06-c96a-4dc0-b31d-f33305f99b41 button.colab-df-convert');\n",
              "        buttonEl.style.display =\n",
              "          google.colab.kernel.accessAllowed ? 'block' : 'none';\n",
              "\n",
              "        async function convertToInteractive(key) {\n",
              "          const element = document.querySelector('#df-e3a1bc06-c96a-4dc0-b31d-f33305f99b41');\n",
              "          const dataTable =\n",
              "            await google.colab.kernel.invokeFunction('convertToInteractive',\n",
              "                                                     [key], {});\n",
              "          if (!dataTable) return;\n",
              "\n",
              "          const docLinkHtml = 'Like what you see? Visit the ' +\n",
              "            '<a target=\"_blank\" href=https://colab.research.google.com/notebooks/data_table.ipynb>data table notebook</a>'\n",
              "            + ' to learn more about interactive tables.';\n",
              "          element.innerHTML = '';\n",
              "          dataTable['output_type'] = 'display_data';\n",
              "          await google.colab.output.renderOutput(dataTable, element);\n",
              "          const docLink = document.createElement('div');\n",
              "          docLink.innerHTML = docLinkHtml;\n",
              "          element.appendChild(docLink);\n",
              "        }\n",
              "      </script>\n",
              "    </div>\n",
              "  </div>\n",
              "  "
            ]
          },
          "metadata": {},
          "execution_count": 6
        }
      ]
    },
    {
      "cell_type": "markdown",
      "source": [
        "#### TFIDF\n",
        "+ 높은 빈도는 낮은 가중치, 낮은 빈도는 높은 가중치 부여"
      ],
      "metadata": {
        "id": "YerFaeUWToXP"
      }
    },
    {
      "cell_type": "code",
      "source": [
        "from sklearn.feature_extraction.text import TfidfVectorizer\n",
        "tfid = TfidfVectorizer()\n",
        "x2 = tfid.fit_transform(text).toarray()\n",
        "x3 = pd.DataFrame(x2, columns = tfid.get_feature_names())\n",
        "x3"
      ],
      "metadata": {
        "colab": {
          "base_uri": "https://localhost:8080/",
          "height": 230
        },
        "id": "x8LR53YqSTQP",
        "outputId": "03113590-9170-4092-f4eb-a6af3f732006"
      },
      "execution_count": 7,
      "outputs": [
        {
          "output_type": "stream",
          "name": "stderr",
          "text": [
            "/usr/local/lib/python3.7/dist-packages/sklearn/utils/deprecation.py:87: FutureWarning: Function get_feature_names is deprecated; get_feature_names is deprecated in 1.0 and will be removed in 1.2. Please use get_feature_names_out instead.\n",
            "  warnings.warn(msg, category=FutureWarning)\n"
          ]
        },
        {
          "output_type": "execute_result",
          "data": {
            "text/plain": [
              "        날아라        내가       높이       떴다        만든       멀리       비행기        우리\n",
              "0  0.450735  0.000000  0.00000  0.86374  0.000000  0.00000  0.225368  0.000000\n",
              "1  0.229589  0.000000  0.87992  0.00000  0.000000  0.00000  0.229589  0.346869\n",
              "2  0.569241  0.545415  0.00000  0.00000  0.545415  0.00000  0.284620  0.000000\n",
              "3  0.229589  0.000000  0.00000  0.00000  0.000000  0.87992  0.229589  0.346869"
            ],
            "text/html": [
              "\n",
              "  <div id=\"df-17d99360-b310-49bb-bffe-75753c5851c7\">\n",
              "    <div class=\"colab-df-container\">\n",
              "      <div>\n",
              "<style scoped>\n",
              "    .dataframe tbody tr th:only-of-type {\n",
              "        vertical-align: middle;\n",
              "    }\n",
              "\n",
              "    .dataframe tbody tr th {\n",
              "        vertical-align: top;\n",
              "    }\n",
              "\n",
              "    .dataframe thead th {\n",
              "        text-align: right;\n",
              "    }\n",
              "</style>\n",
              "<table border=\"1\" class=\"dataframe\">\n",
              "  <thead>\n",
              "    <tr style=\"text-align: right;\">\n",
              "      <th></th>\n",
              "      <th>날아라</th>\n",
              "      <th>내가</th>\n",
              "      <th>높이</th>\n",
              "      <th>떴다</th>\n",
              "      <th>만든</th>\n",
              "      <th>멀리</th>\n",
              "      <th>비행기</th>\n",
              "      <th>우리</th>\n",
              "    </tr>\n",
              "  </thead>\n",
              "  <tbody>\n",
              "    <tr>\n",
              "      <th>0</th>\n",
              "      <td>0.450735</td>\n",
              "      <td>0.000000</td>\n",
              "      <td>0.00000</td>\n",
              "      <td>0.86374</td>\n",
              "      <td>0.000000</td>\n",
              "      <td>0.00000</td>\n",
              "      <td>0.225368</td>\n",
              "      <td>0.000000</td>\n",
              "    </tr>\n",
              "    <tr>\n",
              "      <th>1</th>\n",
              "      <td>0.229589</td>\n",
              "      <td>0.000000</td>\n",
              "      <td>0.87992</td>\n",
              "      <td>0.00000</td>\n",
              "      <td>0.000000</td>\n",
              "      <td>0.00000</td>\n",
              "      <td>0.229589</td>\n",
              "      <td>0.346869</td>\n",
              "    </tr>\n",
              "    <tr>\n",
              "      <th>2</th>\n",
              "      <td>0.569241</td>\n",
              "      <td>0.545415</td>\n",
              "      <td>0.00000</td>\n",
              "      <td>0.00000</td>\n",
              "      <td>0.545415</td>\n",
              "      <td>0.00000</td>\n",
              "      <td>0.284620</td>\n",
              "      <td>0.000000</td>\n",
              "    </tr>\n",
              "    <tr>\n",
              "      <th>3</th>\n",
              "      <td>0.229589</td>\n",
              "      <td>0.000000</td>\n",
              "      <td>0.00000</td>\n",
              "      <td>0.00000</td>\n",
              "      <td>0.000000</td>\n",
              "      <td>0.87992</td>\n",
              "      <td>0.229589</td>\n",
              "      <td>0.346869</td>\n",
              "    </tr>\n",
              "  </tbody>\n",
              "</table>\n",
              "</div>\n",
              "      <button class=\"colab-df-convert\" onclick=\"convertToInteractive('df-17d99360-b310-49bb-bffe-75753c5851c7')\"\n",
              "              title=\"Convert this dataframe to an interactive table.\"\n",
              "              style=\"display:none;\">\n",
              "        \n",
              "  <svg xmlns=\"http://www.w3.org/2000/svg\" height=\"24px\"viewBox=\"0 0 24 24\"\n",
              "       width=\"24px\">\n",
              "    <path d=\"M0 0h24v24H0V0z\" fill=\"none\"/>\n",
              "    <path d=\"M18.56 5.44l.94 2.06.94-2.06 2.06-.94-2.06-.94-.94-2.06-.94 2.06-2.06.94zm-11 1L8.5 8.5l.94-2.06 2.06-.94-2.06-.94L8.5 2.5l-.94 2.06-2.06.94zm10 10l.94 2.06.94-2.06 2.06-.94-2.06-.94-.94-2.06-.94 2.06-2.06.94z\"/><path d=\"M17.41 7.96l-1.37-1.37c-.4-.4-.92-.59-1.43-.59-.52 0-1.04.2-1.43.59L10.3 9.45l-7.72 7.72c-.78.78-.78 2.05 0 2.83L4 21.41c.39.39.9.59 1.41.59.51 0 1.02-.2 1.41-.59l7.78-7.78 2.81-2.81c.8-.78.8-2.07 0-2.86zM5.41 20L4 18.59l7.72-7.72 1.47 1.35L5.41 20z\"/>\n",
              "  </svg>\n",
              "      </button>\n",
              "      \n",
              "  <style>\n",
              "    .colab-df-container {\n",
              "      display:flex;\n",
              "      flex-wrap:wrap;\n",
              "      gap: 12px;\n",
              "    }\n",
              "\n",
              "    .colab-df-convert {\n",
              "      background-color: #E8F0FE;\n",
              "      border: none;\n",
              "      border-radius: 50%;\n",
              "      cursor: pointer;\n",
              "      display: none;\n",
              "      fill: #1967D2;\n",
              "      height: 32px;\n",
              "      padding: 0 0 0 0;\n",
              "      width: 32px;\n",
              "    }\n",
              "\n",
              "    .colab-df-convert:hover {\n",
              "      background-color: #E2EBFA;\n",
              "      box-shadow: 0px 1px 2px rgba(60, 64, 67, 0.3), 0px 1px 3px 1px rgba(60, 64, 67, 0.15);\n",
              "      fill: #174EA6;\n",
              "    }\n",
              "\n",
              "    [theme=dark] .colab-df-convert {\n",
              "      background-color: #3B4455;\n",
              "      fill: #D2E3FC;\n",
              "    }\n",
              "\n",
              "    [theme=dark] .colab-df-convert:hover {\n",
              "      background-color: #434B5C;\n",
              "      box-shadow: 0px 1px 3px 1px rgba(0, 0, 0, 0.15);\n",
              "      filter: drop-shadow(0px 1px 2px rgba(0, 0, 0, 0.3));\n",
              "      fill: #FFFFFF;\n",
              "    }\n",
              "  </style>\n",
              "\n",
              "      <script>\n",
              "        const buttonEl =\n",
              "          document.querySelector('#df-17d99360-b310-49bb-bffe-75753c5851c7 button.colab-df-convert');\n",
              "        buttonEl.style.display =\n",
              "          google.colab.kernel.accessAllowed ? 'block' : 'none';\n",
              "\n",
              "        async function convertToInteractive(key) {\n",
              "          const element = document.querySelector('#df-17d99360-b310-49bb-bffe-75753c5851c7');\n",
              "          const dataTable =\n",
              "            await google.colab.kernel.invokeFunction('convertToInteractive',\n",
              "                                                     [key], {});\n",
              "          if (!dataTable) return;\n",
              "\n",
              "          const docLinkHtml = 'Like what you see? Visit the ' +\n",
              "            '<a target=\"_blank\" href=https://colab.research.google.com/notebooks/data_table.ipynb>data table notebook</a>'\n",
              "            + ' to learn more about interactive tables.';\n",
              "          element.innerHTML = '';\n",
              "          dataTable['output_type'] = 'display_data';\n",
              "          await google.colab.output.renderOutput(dataTable, element);\n",
              "          const docLink = document.createElement('div');\n",
              "          docLink.innerHTML = docLinkHtml;\n",
              "          element.appendChild(docLink);\n",
              "        }\n",
              "      </script>\n",
              "    </div>\n",
              "  </div>\n",
              "  "
            ]
          },
          "metadata": {},
          "execution_count": 7
        }
      ]
    },
    {
      "cell_type": "markdown",
      "source": [
        "#### 특성변수 생성"
      ],
      "metadata": {
        "id": "U6taqms1Tagi"
      }
    },
    {
      "cell_type": "code",
      "source": [
        "import plotly.express as px\n",
        "import numpy as np\n",
        "X = np.array([1, 2, 3, 4, 5])\n",
        "Y = np.array([5, 3, 1, 5, 8])\n",
        "fig = px.line(x = X, y = Y)\n",
        "fig.update_layout(width = 500, height = 380)\n",
        "fig.show()"
      ],
      "metadata": {
        "colab": {
          "base_uri": "https://localhost:8080/",
          "height": 397
        },
        "id": "H96r0y7vVDLg",
        "outputId": "86b017d0-b920-405d-bbc9-5e17d955a984"
      },
      "execution_count": 8,
      "outputs": [
        {
          "output_type": "display_data",
          "data": {
            "text/html": [
              "<html>\n",
              "<head><meta charset=\"utf-8\" /></head>\n",
              "<body>\n",
              "    <div>            <script src=\"https://cdnjs.cloudflare.com/ajax/libs/mathjax/2.7.5/MathJax.js?config=TeX-AMS-MML_SVG\"></script><script type=\"text/javascript\">if (window.MathJax) {MathJax.Hub.Config({SVG: {font: \"STIX-Web\"}});}</script>                <script type=\"text/javascript\">window.PlotlyConfig = {MathJaxConfig: 'local'};</script>\n",
              "        <script src=\"https://cdn.plot.ly/plotly-2.8.3.min.js\"></script>                <div id=\"64e733ea-0832-48b8-9ba4-ebfeef55216f\" class=\"plotly-graph-div\" style=\"height:380px; width:500px;\"></div>            <script type=\"text/javascript\">                                    window.PLOTLYENV=window.PLOTLYENV || {};                                    if (document.getElementById(\"64e733ea-0832-48b8-9ba4-ebfeef55216f\")) {                    Plotly.newPlot(                        \"64e733ea-0832-48b8-9ba4-ebfeef55216f\",                        [{\"hovertemplate\":\"x=%{x}<br>y=%{y}<extra></extra>\",\"legendgroup\":\"\",\"line\":{\"color\":\"#636efa\",\"dash\":\"solid\"},\"marker\":{\"symbol\":\"circle\"},\"mode\":\"lines\",\"name\":\"\",\"orientation\":\"v\",\"showlegend\":false,\"x\":[1,2,3,4,5],\"xaxis\":\"x\",\"y\":[5,3,1,5,8],\"yaxis\":\"y\",\"type\":\"scatter\"}],                        {\"template\":{\"data\":{\"bar\":[{\"error_x\":{\"color\":\"#2a3f5f\"},\"error_y\":{\"color\":\"#2a3f5f\"},\"marker\":{\"line\":{\"color\":\"#E5ECF6\",\"width\":0.5},\"pattern\":{\"fillmode\":\"overlay\",\"size\":10,\"solidity\":0.2}},\"type\":\"bar\"}],\"barpolar\":[{\"marker\":{\"line\":{\"color\":\"#E5ECF6\",\"width\":0.5},\"pattern\":{\"fillmode\":\"overlay\",\"size\":10,\"solidity\":0.2}},\"type\":\"barpolar\"}],\"carpet\":[{\"aaxis\":{\"endlinecolor\":\"#2a3f5f\",\"gridcolor\":\"white\",\"linecolor\":\"white\",\"minorgridcolor\":\"white\",\"startlinecolor\":\"#2a3f5f\"},\"baxis\":{\"endlinecolor\":\"#2a3f5f\",\"gridcolor\":\"white\",\"linecolor\":\"white\",\"minorgridcolor\":\"white\",\"startlinecolor\":\"#2a3f5f\"},\"type\":\"carpet\"}],\"choropleth\":[{\"colorbar\":{\"outlinewidth\":0,\"ticks\":\"\"},\"type\":\"choropleth\"}],\"contour\":[{\"colorbar\":{\"outlinewidth\":0,\"ticks\":\"\"},\"colorscale\":[[0.0,\"#0d0887\"],[0.1111111111111111,\"#46039f\"],[0.2222222222222222,\"#7201a8\"],[0.3333333333333333,\"#9c179e\"],[0.4444444444444444,\"#bd3786\"],[0.5555555555555556,\"#d8576b\"],[0.6666666666666666,\"#ed7953\"],[0.7777777777777778,\"#fb9f3a\"],[0.8888888888888888,\"#fdca26\"],[1.0,\"#f0f921\"]],\"type\":\"contour\"}],\"contourcarpet\":[{\"colorbar\":{\"outlinewidth\":0,\"ticks\":\"\"},\"type\":\"contourcarpet\"}],\"heatmap\":[{\"colorbar\":{\"outlinewidth\":0,\"ticks\":\"\"},\"colorscale\":[[0.0,\"#0d0887\"],[0.1111111111111111,\"#46039f\"],[0.2222222222222222,\"#7201a8\"],[0.3333333333333333,\"#9c179e\"],[0.4444444444444444,\"#bd3786\"],[0.5555555555555556,\"#d8576b\"],[0.6666666666666666,\"#ed7953\"],[0.7777777777777778,\"#fb9f3a\"],[0.8888888888888888,\"#fdca26\"],[1.0,\"#f0f921\"]],\"type\":\"heatmap\"}],\"heatmapgl\":[{\"colorbar\":{\"outlinewidth\":0,\"ticks\":\"\"},\"colorscale\":[[0.0,\"#0d0887\"],[0.1111111111111111,\"#46039f\"],[0.2222222222222222,\"#7201a8\"],[0.3333333333333333,\"#9c179e\"],[0.4444444444444444,\"#bd3786\"],[0.5555555555555556,\"#d8576b\"],[0.6666666666666666,\"#ed7953\"],[0.7777777777777778,\"#fb9f3a\"],[0.8888888888888888,\"#fdca26\"],[1.0,\"#f0f921\"]],\"type\":\"heatmapgl\"}],\"histogram\":[{\"marker\":{\"pattern\":{\"fillmode\":\"overlay\",\"size\":10,\"solidity\":0.2}},\"type\":\"histogram\"}],\"histogram2d\":[{\"colorbar\":{\"outlinewidth\":0,\"ticks\":\"\"},\"colorscale\":[[0.0,\"#0d0887\"],[0.1111111111111111,\"#46039f\"],[0.2222222222222222,\"#7201a8\"],[0.3333333333333333,\"#9c179e\"],[0.4444444444444444,\"#bd3786\"],[0.5555555555555556,\"#d8576b\"],[0.6666666666666666,\"#ed7953\"],[0.7777777777777778,\"#fb9f3a\"],[0.8888888888888888,\"#fdca26\"],[1.0,\"#f0f921\"]],\"type\":\"histogram2d\"}],\"histogram2dcontour\":[{\"colorbar\":{\"outlinewidth\":0,\"ticks\":\"\"},\"colorscale\":[[0.0,\"#0d0887\"],[0.1111111111111111,\"#46039f\"],[0.2222222222222222,\"#7201a8\"],[0.3333333333333333,\"#9c179e\"],[0.4444444444444444,\"#bd3786\"],[0.5555555555555556,\"#d8576b\"],[0.6666666666666666,\"#ed7953\"],[0.7777777777777778,\"#fb9f3a\"],[0.8888888888888888,\"#fdca26\"],[1.0,\"#f0f921\"]],\"type\":\"histogram2dcontour\"}],\"mesh3d\":[{\"colorbar\":{\"outlinewidth\":0,\"ticks\":\"\"},\"type\":\"mesh3d\"}],\"parcoords\":[{\"line\":{\"colorbar\":{\"outlinewidth\":0,\"ticks\":\"\"}},\"type\":\"parcoords\"}],\"pie\":[{\"automargin\":true,\"type\":\"pie\"}],\"scatter\":[{\"marker\":{\"colorbar\":{\"outlinewidth\":0,\"ticks\":\"\"}},\"type\":\"scatter\"}],\"scatter3d\":[{\"line\":{\"colorbar\":{\"outlinewidth\":0,\"ticks\":\"\"}},\"marker\":{\"colorbar\":{\"outlinewidth\":0,\"ticks\":\"\"}},\"type\":\"scatter3d\"}],\"scattercarpet\":[{\"marker\":{\"colorbar\":{\"outlinewidth\":0,\"ticks\":\"\"}},\"type\":\"scattercarpet\"}],\"scattergeo\":[{\"marker\":{\"colorbar\":{\"outlinewidth\":0,\"ticks\":\"\"}},\"type\":\"scattergeo\"}],\"scattergl\":[{\"marker\":{\"colorbar\":{\"outlinewidth\":0,\"ticks\":\"\"}},\"type\":\"scattergl\"}],\"scattermapbox\":[{\"marker\":{\"colorbar\":{\"outlinewidth\":0,\"ticks\":\"\"}},\"type\":\"scattermapbox\"}],\"scatterpolar\":[{\"marker\":{\"colorbar\":{\"outlinewidth\":0,\"ticks\":\"\"}},\"type\":\"scatterpolar\"}],\"scatterpolargl\":[{\"marker\":{\"colorbar\":{\"outlinewidth\":0,\"ticks\":\"\"}},\"type\":\"scatterpolargl\"}],\"scatterternary\":[{\"marker\":{\"colorbar\":{\"outlinewidth\":0,\"ticks\":\"\"}},\"type\":\"scatterternary\"}],\"surface\":[{\"colorbar\":{\"outlinewidth\":0,\"ticks\":\"\"},\"colorscale\":[[0.0,\"#0d0887\"],[0.1111111111111111,\"#46039f\"],[0.2222222222222222,\"#7201a8\"],[0.3333333333333333,\"#9c179e\"],[0.4444444444444444,\"#bd3786\"],[0.5555555555555556,\"#d8576b\"],[0.6666666666666666,\"#ed7953\"],[0.7777777777777778,\"#fb9f3a\"],[0.8888888888888888,\"#fdca26\"],[1.0,\"#f0f921\"]],\"type\":\"surface\"}],\"table\":[{\"cells\":{\"fill\":{\"color\":\"#EBF0F8\"},\"line\":{\"color\":\"white\"}},\"header\":{\"fill\":{\"color\":\"#C8D4E3\"},\"line\":{\"color\":\"white\"}},\"type\":\"table\"}]},\"layout\":{\"annotationdefaults\":{\"arrowcolor\":\"#2a3f5f\",\"arrowhead\":0,\"arrowwidth\":1},\"autotypenumbers\":\"strict\",\"coloraxis\":{\"colorbar\":{\"outlinewidth\":0,\"ticks\":\"\"}},\"colorscale\":{\"diverging\":[[0,\"#8e0152\"],[0.1,\"#c51b7d\"],[0.2,\"#de77ae\"],[0.3,\"#f1b6da\"],[0.4,\"#fde0ef\"],[0.5,\"#f7f7f7\"],[0.6,\"#e6f5d0\"],[0.7,\"#b8e186\"],[0.8,\"#7fbc41\"],[0.9,\"#4d9221\"],[1,\"#276419\"]],\"sequential\":[[0.0,\"#0d0887\"],[0.1111111111111111,\"#46039f\"],[0.2222222222222222,\"#7201a8\"],[0.3333333333333333,\"#9c179e\"],[0.4444444444444444,\"#bd3786\"],[0.5555555555555556,\"#d8576b\"],[0.6666666666666666,\"#ed7953\"],[0.7777777777777778,\"#fb9f3a\"],[0.8888888888888888,\"#fdca26\"],[1.0,\"#f0f921\"]],\"sequentialminus\":[[0.0,\"#0d0887\"],[0.1111111111111111,\"#46039f\"],[0.2222222222222222,\"#7201a8\"],[0.3333333333333333,\"#9c179e\"],[0.4444444444444444,\"#bd3786\"],[0.5555555555555556,\"#d8576b\"],[0.6666666666666666,\"#ed7953\"],[0.7777777777777778,\"#fb9f3a\"],[0.8888888888888888,\"#fdca26\"],[1.0,\"#f0f921\"]]},\"colorway\":[\"#636efa\",\"#EF553B\",\"#00cc96\",\"#ab63fa\",\"#FFA15A\",\"#19d3f3\",\"#FF6692\",\"#B6E880\",\"#FF97FF\",\"#FECB52\"],\"font\":{\"color\":\"#2a3f5f\"},\"geo\":{\"bgcolor\":\"white\",\"lakecolor\":\"white\",\"landcolor\":\"#E5ECF6\",\"showlakes\":true,\"showland\":true,\"subunitcolor\":\"white\"},\"hoverlabel\":{\"align\":\"left\"},\"hovermode\":\"closest\",\"mapbox\":{\"style\":\"light\"},\"paper_bgcolor\":\"white\",\"plot_bgcolor\":\"#E5ECF6\",\"polar\":{\"angularaxis\":{\"gridcolor\":\"white\",\"linecolor\":\"white\",\"ticks\":\"\"},\"bgcolor\":\"#E5ECF6\",\"radialaxis\":{\"gridcolor\":\"white\",\"linecolor\":\"white\",\"ticks\":\"\"}},\"scene\":{\"xaxis\":{\"backgroundcolor\":\"#E5ECF6\",\"gridcolor\":\"white\",\"gridwidth\":2,\"linecolor\":\"white\",\"showbackground\":true,\"ticks\":\"\",\"zerolinecolor\":\"white\"},\"yaxis\":{\"backgroundcolor\":\"#E5ECF6\",\"gridcolor\":\"white\",\"gridwidth\":2,\"linecolor\":\"white\",\"showbackground\":true,\"ticks\":\"\",\"zerolinecolor\":\"white\"},\"zaxis\":{\"backgroundcolor\":\"#E5ECF6\",\"gridcolor\":\"white\",\"gridwidth\":2,\"linecolor\":\"white\",\"showbackground\":true,\"ticks\":\"\",\"zerolinecolor\":\"white\"}},\"shapedefaults\":{\"line\":{\"color\":\"#2a3f5f\"}},\"ternary\":{\"aaxis\":{\"gridcolor\":\"white\",\"linecolor\":\"white\",\"ticks\":\"\"},\"baxis\":{\"gridcolor\":\"white\",\"linecolor\":\"white\",\"ticks\":\"\"},\"bgcolor\":\"#E5ECF6\",\"caxis\":{\"gridcolor\":\"white\",\"linecolor\":\"white\",\"ticks\":\"\"}},\"title\":{\"x\":0.05},\"xaxis\":{\"automargin\":true,\"gridcolor\":\"white\",\"linecolor\":\"white\",\"ticks\":\"\",\"title\":{\"standoff\":15},\"zerolinecolor\":\"white\",\"zerolinewidth\":2},\"yaxis\":{\"automargin\":true,\"gridcolor\":\"white\",\"linecolor\":\"white\",\"ticks\":\"\",\"title\":{\"standoff\":15},\"zerolinecolor\":\"white\",\"zerolinewidth\":2}}},\"xaxis\":{\"anchor\":\"y\",\"domain\":[0.0,1.0],\"title\":{\"text\":\"x\"}},\"yaxis\":{\"anchor\":\"x\",\"domain\":[0.0,1.0],\"title\":{\"text\":\"y\"}},\"legend\":{\"tracegroupgap\":0},\"margin\":{\"t\":60},\"width\":500,\"height\":380},                        {\"responsive\": true}                    ).then(function(){\n",
              "                            \n",
              "var gd = document.getElementById('64e733ea-0832-48b8-9ba4-ebfeef55216f');\n",
              "var x = new MutationObserver(function (mutations, observer) {{\n",
              "        var display = window.getComputedStyle(gd).display;\n",
              "        if (!display || display === 'none') {{\n",
              "            console.log([gd, 'removed!']);\n",
              "            Plotly.purge(gd);\n",
              "            observer.disconnect();\n",
              "        }}\n",
              "}});\n",
              "\n",
              "// Listen for the removal of the full notebook cells\n",
              "var notebookContainer = gd.closest('#notebook-container');\n",
              "if (notebookContainer) {{\n",
              "    x.observe(notebookContainer, {childList: true});\n",
              "}}\n",
              "\n",
              "// Listen for the clearing of the current output cell\n",
              "var outputEl = gd.closest('.output');\n",
              "if (outputEl) {{\n",
              "    x.observe(outputEl, {childList: true});\n",
              "}}\n",
              "\n",
              "                        })                };                            </script>        </div>\n",
              "</body>\n",
              "</html>"
            ]
          },
          "metadata": {}
        }
      ]
    },
    {
      "cell_type": "code",
      "source": [
        "from sklearn.preprocessing import PolynomialFeatures\n",
        "fg = PolynomialFeatures(degree = 3, include_bias = True)\n",
        "x1 = fg.fit_transform(X[ : , np.newaxis])  # 3차까지 생성\n",
        "x1"
      ],
      "metadata": {
        "colab": {
          "base_uri": "https://localhost:8080/"
        },
        "id": "8FPgZXU2abmo",
        "outputId": "3cd9badd-41d2-44a9-c2ef-c47ecfc05c1f"
      },
      "execution_count": 9,
      "outputs": [
        {
          "output_type": "execute_result",
          "data": {
            "text/plain": [
              "array([[  1.,   1.,   1.,   1.],\n",
              "       [  1.,   2.,   4.,   8.],\n",
              "       [  1.,   3.,   9.,  27.],\n",
              "       [  1.,   4.,  16.,  64.],\n",
              "       [  1.,   5.,  25., 125.]])"
            ]
          },
          "metadata": {},
          "execution_count": 9
        }
      ]
    },
    {
      "cell_type": "code",
      "source": [
        "from sklearn.linear_model import LinearRegression\n",
        "import plotly.graph_objects as go\n",
        "reg = LinearRegression()\n",
        "reg.fit(x1, Y)\n",
        "yfit = reg.predict(x1)\n",
        "fig = go.Figure()\n",
        "fig.add_trace(go.Scatter(x = X, y = Y, mode = \"lines\", name = \"origin\"))\n",
        "fig.add_trace(go.Scatter(x = X, y = yfit, mode = \"lines + markers\", name = \"fitted\"))\n",
        "fig.show()"
      ],
      "metadata": {
        "colab": {
          "base_uri": "https://localhost:8080/",
          "height": 542
        },
        "id": "X1bgp_-Fapn3",
        "outputId": "a901e0b8-0242-454a-c4d0-edd89b7ddb80"
      },
      "execution_count": 10,
      "outputs": [
        {
          "output_type": "display_data",
          "data": {
            "text/html": [
              "<html>\n",
              "<head><meta charset=\"utf-8\" /></head>\n",
              "<body>\n",
              "    <div>            <script src=\"https://cdnjs.cloudflare.com/ajax/libs/mathjax/2.7.5/MathJax.js?config=TeX-AMS-MML_SVG\"></script><script type=\"text/javascript\">if (window.MathJax) {MathJax.Hub.Config({SVG: {font: \"STIX-Web\"}});}</script>                <script type=\"text/javascript\">window.PlotlyConfig = {MathJaxConfig: 'local'};</script>\n",
              "        <script src=\"https://cdn.plot.ly/plotly-2.8.3.min.js\"></script>                <div id=\"0464dbac-1e18-421b-a9ff-8b80d9f98723\" class=\"plotly-graph-div\" style=\"height:525px; width:100%;\"></div>            <script type=\"text/javascript\">                                    window.PLOTLYENV=window.PLOTLYENV || {};                                    if (document.getElementById(\"0464dbac-1e18-421b-a9ff-8b80d9f98723\")) {                    Plotly.newPlot(                        \"0464dbac-1e18-421b-a9ff-8b80d9f98723\",                        [{\"mode\":\"lines\",\"name\":\"origin\",\"x\":[1,2,3,4,5],\"y\":[5,3,1,5,8],\"type\":\"scatter\"},{\"mode\":\"lines+markers\",\"name\":\"fitted\",\"x\":[1,2,3,4,5],\"y\":[5.185714285714103,2.25714285714292,2.1142857142857636,4.257142857142846,8.185714285714369],\"type\":\"scatter\"}],                        {\"template\":{\"data\":{\"bar\":[{\"error_x\":{\"color\":\"#2a3f5f\"},\"error_y\":{\"color\":\"#2a3f5f\"},\"marker\":{\"line\":{\"color\":\"#E5ECF6\",\"width\":0.5},\"pattern\":{\"fillmode\":\"overlay\",\"size\":10,\"solidity\":0.2}},\"type\":\"bar\"}],\"barpolar\":[{\"marker\":{\"line\":{\"color\":\"#E5ECF6\",\"width\":0.5},\"pattern\":{\"fillmode\":\"overlay\",\"size\":10,\"solidity\":0.2}},\"type\":\"barpolar\"}],\"carpet\":[{\"aaxis\":{\"endlinecolor\":\"#2a3f5f\",\"gridcolor\":\"white\",\"linecolor\":\"white\",\"minorgridcolor\":\"white\",\"startlinecolor\":\"#2a3f5f\"},\"baxis\":{\"endlinecolor\":\"#2a3f5f\",\"gridcolor\":\"white\",\"linecolor\":\"white\",\"minorgridcolor\":\"white\",\"startlinecolor\":\"#2a3f5f\"},\"type\":\"carpet\"}],\"choropleth\":[{\"colorbar\":{\"outlinewidth\":0,\"ticks\":\"\"},\"type\":\"choropleth\"}],\"contour\":[{\"colorbar\":{\"outlinewidth\":0,\"ticks\":\"\"},\"colorscale\":[[0.0,\"#0d0887\"],[0.1111111111111111,\"#46039f\"],[0.2222222222222222,\"#7201a8\"],[0.3333333333333333,\"#9c179e\"],[0.4444444444444444,\"#bd3786\"],[0.5555555555555556,\"#d8576b\"],[0.6666666666666666,\"#ed7953\"],[0.7777777777777778,\"#fb9f3a\"],[0.8888888888888888,\"#fdca26\"],[1.0,\"#f0f921\"]],\"type\":\"contour\"}],\"contourcarpet\":[{\"colorbar\":{\"outlinewidth\":0,\"ticks\":\"\"},\"type\":\"contourcarpet\"}],\"heatmap\":[{\"colorbar\":{\"outlinewidth\":0,\"ticks\":\"\"},\"colorscale\":[[0.0,\"#0d0887\"],[0.1111111111111111,\"#46039f\"],[0.2222222222222222,\"#7201a8\"],[0.3333333333333333,\"#9c179e\"],[0.4444444444444444,\"#bd3786\"],[0.5555555555555556,\"#d8576b\"],[0.6666666666666666,\"#ed7953\"],[0.7777777777777778,\"#fb9f3a\"],[0.8888888888888888,\"#fdca26\"],[1.0,\"#f0f921\"]],\"type\":\"heatmap\"}],\"heatmapgl\":[{\"colorbar\":{\"outlinewidth\":0,\"ticks\":\"\"},\"colorscale\":[[0.0,\"#0d0887\"],[0.1111111111111111,\"#46039f\"],[0.2222222222222222,\"#7201a8\"],[0.3333333333333333,\"#9c179e\"],[0.4444444444444444,\"#bd3786\"],[0.5555555555555556,\"#d8576b\"],[0.6666666666666666,\"#ed7953\"],[0.7777777777777778,\"#fb9f3a\"],[0.8888888888888888,\"#fdca26\"],[1.0,\"#f0f921\"]],\"type\":\"heatmapgl\"}],\"histogram\":[{\"marker\":{\"pattern\":{\"fillmode\":\"overlay\",\"size\":10,\"solidity\":0.2}},\"type\":\"histogram\"}],\"histogram2d\":[{\"colorbar\":{\"outlinewidth\":0,\"ticks\":\"\"},\"colorscale\":[[0.0,\"#0d0887\"],[0.1111111111111111,\"#46039f\"],[0.2222222222222222,\"#7201a8\"],[0.3333333333333333,\"#9c179e\"],[0.4444444444444444,\"#bd3786\"],[0.5555555555555556,\"#d8576b\"],[0.6666666666666666,\"#ed7953\"],[0.7777777777777778,\"#fb9f3a\"],[0.8888888888888888,\"#fdca26\"],[1.0,\"#f0f921\"]],\"type\":\"histogram2d\"}],\"histogram2dcontour\":[{\"colorbar\":{\"outlinewidth\":0,\"ticks\":\"\"},\"colorscale\":[[0.0,\"#0d0887\"],[0.1111111111111111,\"#46039f\"],[0.2222222222222222,\"#7201a8\"],[0.3333333333333333,\"#9c179e\"],[0.4444444444444444,\"#bd3786\"],[0.5555555555555556,\"#d8576b\"],[0.6666666666666666,\"#ed7953\"],[0.7777777777777778,\"#fb9f3a\"],[0.8888888888888888,\"#fdca26\"],[1.0,\"#f0f921\"]],\"type\":\"histogram2dcontour\"}],\"mesh3d\":[{\"colorbar\":{\"outlinewidth\":0,\"ticks\":\"\"},\"type\":\"mesh3d\"}],\"parcoords\":[{\"line\":{\"colorbar\":{\"outlinewidth\":0,\"ticks\":\"\"}},\"type\":\"parcoords\"}],\"pie\":[{\"automargin\":true,\"type\":\"pie\"}],\"scatter\":[{\"marker\":{\"colorbar\":{\"outlinewidth\":0,\"ticks\":\"\"}},\"type\":\"scatter\"}],\"scatter3d\":[{\"line\":{\"colorbar\":{\"outlinewidth\":0,\"ticks\":\"\"}},\"marker\":{\"colorbar\":{\"outlinewidth\":0,\"ticks\":\"\"}},\"type\":\"scatter3d\"}],\"scattercarpet\":[{\"marker\":{\"colorbar\":{\"outlinewidth\":0,\"ticks\":\"\"}},\"type\":\"scattercarpet\"}],\"scattergeo\":[{\"marker\":{\"colorbar\":{\"outlinewidth\":0,\"ticks\":\"\"}},\"type\":\"scattergeo\"}],\"scattergl\":[{\"marker\":{\"colorbar\":{\"outlinewidth\":0,\"ticks\":\"\"}},\"type\":\"scattergl\"}],\"scattermapbox\":[{\"marker\":{\"colorbar\":{\"outlinewidth\":0,\"ticks\":\"\"}},\"type\":\"scattermapbox\"}],\"scatterpolar\":[{\"marker\":{\"colorbar\":{\"outlinewidth\":0,\"ticks\":\"\"}},\"type\":\"scatterpolar\"}],\"scatterpolargl\":[{\"marker\":{\"colorbar\":{\"outlinewidth\":0,\"ticks\":\"\"}},\"type\":\"scatterpolargl\"}],\"scatterternary\":[{\"marker\":{\"colorbar\":{\"outlinewidth\":0,\"ticks\":\"\"}},\"type\":\"scatterternary\"}],\"surface\":[{\"colorbar\":{\"outlinewidth\":0,\"ticks\":\"\"},\"colorscale\":[[0.0,\"#0d0887\"],[0.1111111111111111,\"#46039f\"],[0.2222222222222222,\"#7201a8\"],[0.3333333333333333,\"#9c179e\"],[0.4444444444444444,\"#bd3786\"],[0.5555555555555556,\"#d8576b\"],[0.6666666666666666,\"#ed7953\"],[0.7777777777777778,\"#fb9f3a\"],[0.8888888888888888,\"#fdca26\"],[1.0,\"#f0f921\"]],\"type\":\"surface\"}],\"table\":[{\"cells\":{\"fill\":{\"color\":\"#EBF0F8\"},\"line\":{\"color\":\"white\"}},\"header\":{\"fill\":{\"color\":\"#C8D4E3\"},\"line\":{\"color\":\"white\"}},\"type\":\"table\"}]},\"layout\":{\"annotationdefaults\":{\"arrowcolor\":\"#2a3f5f\",\"arrowhead\":0,\"arrowwidth\":1},\"autotypenumbers\":\"strict\",\"coloraxis\":{\"colorbar\":{\"outlinewidth\":0,\"ticks\":\"\"}},\"colorscale\":{\"diverging\":[[0,\"#8e0152\"],[0.1,\"#c51b7d\"],[0.2,\"#de77ae\"],[0.3,\"#f1b6da\"],[0.4,\"#fde0ef\"],[0.5,\"#f7f7f7\"],[0.6,\"#e6f5d0\"],[0.7,\"#b8e186\"],[0.8,\"#7fbc41\"],[0.9,\"#4d9221\"],[1,\"#276419\"]],\"sequential\":[[0.0,\"#0d0887\"],[0.1111111111111111,\"#46039f\"],[0.2222222222222222,\"#7201a8\"],[0.3333333333333333,\"#9c179e\"],[0.4444444444444444,\"#bd3786\"],[0.5555555555555556,\"#d8576b\"],[0.6666666666666666,\"#ed7953\"],[0.7777777777777778,\"#fb9f3a\"],[0.8888888888888888,\"#fdca26\"],[1.0,\"#f0f921\"]],\"sequentialminus\":[[0.0,\"#0d0887\"],[0.1111111111111111,\"#46039f\"],[0.2222222222222222,\"#7201a8\"],[0.3333333333333333,\"#9c179e\"],[0.4444444444444444,\"#bd3786\"],[0.5555555555555556,\"#d8576b\"],[0.6666666666666666,\"#ed7953\"],[0.7777777777777778,\"#fb9f3a\"],[0.8888888888888888,\"#fdca26\"],[1.0,\"#f0f921\"]]},\"colorway\":[\"#636efa\",\"#EF553B\",\"#00cc96\",\"#ab63fa\",\"#FFA15A\",\"#19d3f3\",\"#FF6692\",\"#B6E880\",\"#FF97FF\",\"#FECB52\"],\"font\":{\"color\":\"#2a3f5f\"},\"geo\":{\"bgcolor\":\"white\",\"lakecolor\":\"white\",\"landcolor\":\"#E5ECF6\",\"showlakes\":true,\"showland\":true,\"subunitcolor\":\"white\"},\"hoverlabel\":{\"align\":\"left\"},\"hovermode\":\"closest\",\"mapbox\":{\"style\":\"light\"},\"paper_bgcolor\":\"white\",\"plot_bgcolor\":\"#E5ECF6\",\"polar\":{\"angularaxis\":{\"gridcolor\":\"white\",\"linecolor\":\"white\",\"ticks\":\"\"},\"bgcolor\":\"#E5ECF6\",\"radialaxis\":{\"gridcolor\":\"white\",\"linecolor\":\"white\",\"ticks\":\"\"}},\"scene\":{\"xaxis\":{\"backgroundcolor\":\"#E5ECF6\",\"gridcolor\":\"white\",\"gridwidth\":2,\"linecolor\":\"white\",\"showbackground\":true,\"ticks\":\"\",\"zerolinecolor\":\"white\"},\"yaxis\":{\"backgroundcolor\":\"#E5ECF6\",\"gridcolor\":\"white\",\"gridwidth\":2,\"linecolor\":\"white\",\"showbackground\":true,\"ticks\":\"\",\"zerolinecolor\":\"white\"},\"zaxis\":{\"backgroundcolor\":\"#E5ECF6\",\"gridcolor\":\"white\",\"gridwidth\":2,\"linecolor\":\"white\",\"showbackground\":true,\"ticks\":\"\",\"zerolinecolor\":\"white\"}},\"shapedefaults\":{\"line\":{\"color\":\"#2a3f5f\"}},\"ternary\":{\"aaxis\":{\"gridcolor\":\"white\",\"linecolor\":\"white\",\"ticks\":\"\"},\"baxis\":{\"gridcolor\":\"white\",\"linecolor\":\"white\",\"ticks\":\"\"},\"bgcolor\":\"#E5ECF6\",\"caxis\":{\"gridcolor\":\"white\",\"linecolor\":\"white\",\"ticks\":\"\"}},\"title\":{\"x\":0.05},\"xaxis\":{\"automargin\":true,\"gridcolor\":\"white\",\"linecolor\":\"white\",\"ticks\":\"\",\"title\":{\"standoff\":15},\"zerolinecolor\":\"white\",\"zerolinewidth\":2},\"yaxis\":{\"automargin\":true,\"gridcolor\":\"white\",\"linecolor\":\"white\",\"ticks\":\"\",\"title\":{\"standoff\":15},\"zerolinecolor\":\"white\",\"zerolinewidth\":2}}}},                        {\"responsive\": true}                    ).then(function(){\n",
              "                            \n",
              "var gd = document.getElementById('0464dbac-1e18-421b-a9ff-8b80d9f98723');\n",
              "var x = new MutationObserver(function (mutations, observer) {{\n",
              "        var display = window.getComputedStyle(gd).display;\n",
              "        if (!display || display === 'none') {{\n",
              "            console.log([gd, 'removed!']);\n",
              "            Plotly.purge(gd);\n",
              "            observer.disconnect();\n",
              "        }}\n",
              "}});\n",
              "\n",
              "// Listen for the removal of the full notebook cells\n",
              "var notebookContainer = gd.closest('#notebook-container');\n",
              "if (notebookContainer) {{\n",
              "    x.observe(notebookContainer, {childList: true});\n",
              "}}\n",
              "\n",
              "// Listen for the clearing of the current output cell\n",
              "var outputEl = gd.closest('.output');\n",
              "if (outputEl) {{\n",
              "    x.observe(outputEl, {childList: true});\n",
              "}}\n",
              "\n",
              "                        })                };                            </script>        </div>\n",
              "</body>\n",
              "</html>"
            ]
          },
          "metadata": {}
        }
      ]
    },
    {
      "cell_type": "markdown",
      "source": [
        "#### 결측자료 대체\n",
        "+ 결측치 : np.nan, np.NaN, None"
      ],
      "metadata": {
        "id": "-LzcjoLUg14H"
      }
    },
    {
      "cell_type": "code",
      "source": [
        "x_miss = np.array([[1, 2, 3, None], [5, np.NaN, 7, 8], [None, 10, 11, 12], [13, np.nan, 15, 16]])\n",
        "x_miss"
      ],
      "metadata": {
        "colab": {
          "base_uri": "https://localhost:8080/"
        },
        "id": "EpKmUfKnhhQ_",
        "outputId": "e88df6bd-f181-4459-9312-8754e5e50a69"
      },
      "execution_count": 11,
      "outputs": [
        {
          "output_type": "execute_result",
          "data": {
            "text/plain": [
              "array([[1, 2, 3, None],\n",
              "       [5, nan, 7, 8],\n",
              "       [None, 10, 11, 12],\n",
              "       [13, nan, 15, 16]], dtype=object)"
            ]
          },
          "metadata": {},
          "execution_count": 11
        }
      ]
    },
    {
      "cell_type": "code",
      "source": [
        "from sklearn.impute import SimpleImputer\n",
        "im = SimpleImputer(strategy = \"mean\")  # 열의 평균값으로 대체\n",
        "im.fit_transform(x_miss)"
      ],
      "metadata": {
        "colab": {
          "base_uri": "https://localhost:8080/"
        },
        "id": "b4YpzbsThtCn",
        "outputId": "6f922fd1-5fcd-4216-b352-e2db520f52b4"
      },
      "execution_count": 12,
      "outputs": [
        {
          "output_type": "execute_result",
          "data": {
            "text/plain": [
              "array([[ 1.        ,  2.        ,  3.        , 12.        ],\n",
              "       [ 5.        ,  6.        ,  7.        ,  8.        ],\n",
              "       [ 6.33333333, 10.        , 11.        , 12.        ],\n",
              "       [13.        ,  6.        , 15.        , 16.        ]])"
            ]
          },
          "metadata": {},
          "execution_count": 12
        }
      ]
    },
    {
      "cell_type": "markdown",
      "source": [
        "#### pipeline library를 이용한 결측자료 대체 및 특성변수 생성"
      ],
      "metadata": {
        "id": "Wh5jB0QuiMIh"
      }
    },
    {
      "cell_type": "code",
      "source": [
        "import pandas as pd\n",
        "from sklearn.pipeline import make_pipeline\n",
        "from sklearn.linear_model import LinearRegression\n",
        "from sklearn.preprocessing import PolynomialFeatures\n",
        "from sklearn.impute import SimpleImputer\n",
        "\n",
        "y = pd.Series([2, 5, 1, 6])\n",
        "model = make_pipeline(SimpleImputer(strategy = \"mean\"), PolynomialFeatures(degree = 2), LinearRegression())\n",
        "model.fit(x_miss, y)\n",
        "model.predict(x_miss)"
      ],
      "metadata": {
        "colab": {
          "base_uri": "https://localhost:8080/"
        },
        "id": "QeYjVJUJifLV",
        "outputId": "2092b75c-9024-4d3b-a0ef-f16b1b241137"
      },
      "execution_count": 13,
      "outputs": [
        {
          "output_type": "execute_result",
          "data": {
            "text/plain": [
              "array([2., 5., 1., 6.])"
            ]
          },
          "metadata": {},
          "execution_count": 13
        }
      ]
    },
    {
      "cell_type": "markdown",
      "source": [
        "### 2.3 사례분석"
      ],
      "metadata": {
        "id": "wm10SHWaj148"
      }
    },
    {
      "cell_type": "code",
      "source": [
        "from google.colab import drive\n",
        "drive.mount('/content/drive', force_remount = True)"
      ],
      "metadata": {
        "id": "EwgFTDQikMol",
        "colab": {
          "base_uri": "https://localhost:8080/"
        },
        "outputId": "4fcc75c0-bbc2-486d-8559-7a096b8ab994"
      },
      "execution_count": 14,
      "outputs": [
        {
          "output_type": "stream",
          "name": "stdout",
          "text": [
            "Mounted at /content/drive\n"
          ]
        }
      ]
    },
    {
      "cell_type": "code",
      "source": [
        "import pandas as pd\n",
        "df1 = pd.read_csv(\"/content/drive/MyDrive/22-1 기계학습 실습/22-1 기계학습 Python/수업교재/파이썬을 이용한 통계적 머신러닝 제 2판/Data/rossmann-stores-sales_train.csv\")\n",
        "df1.shape"
      ],
      "metadata": {
        "colab": {
          "base_uri": "https://localhost:8080/"
        },
        "id": "YFcr2iDEKA3X",
        "outputId": "5beead0f-263c-4187-fffb-8aa6746a8a51"
      },
      "execution_count": 17,
      "outputs": [
        {
          "output_type": "stream",
          "name": "stderr",
          "text": [
            "/usr/local/lib/python3.7/dist-packages/IPython/core/interactiveshell.py:2882: DtypeWarning:\n",
            "\n",
            "Columns (7) have mixed types.Specify dtype option on import or set low_memory=False.\n",
            "\n"
          ]
        },
        {
          "output_type": "execute_result",
          "data": {
            "text/plain": [
              "(1017209, 9)"
            ]
          },
          "metadata": {},
          "execution_count": 17
        }
      ]
    },
    {
      "cell_type": "code",
      "source": [
        "df1.head()"
      ],
      "metadata": {
        "colab": {
          "base_uri": "https://localhost:8080/",
          "height": 206
        },
        "id": "atg-b0e4KA7Z",
        "outputId": "9d3f2a38-d679-4eef-a290-fc225f510819"
      },
      "execution_count": 18,
      "outputs": [
        {
          "output_type": "execute_result",
          "data": {
            "text/plain": [
              "   Store  DayOfWeek        Date  Sales  Customers  Open  Promo StateHoliday  \\\n",
              "0      1          5  2015-07-31   5263        555     1      1            0   \n",
              "1      2          5  2015-07-31   6064        625     1      1            0   \n",
              "2      3          5  2015-07-31   8314        821     1      1            0   \n",
              "3      4          5  2015-07-31  13995       1498     1      1            0   \n",
              "4      5          5  2015-07-31   4822        559     1      1            0   \n",
              "\n",
              "   SchoolHoliday  \n",
              "0              1  \n",
              "1              1  \n",
              "2              1  \n",
              "3              1  \n",
              "4              1  "
            ],
            "text/html": [
              "\n",
              "  <div id=\"df-9446b582-6535-45b5-9443-194db21ab1de\">\n",
              "    <div class=\"colab-df-container\">\n",
              "      <div>\n",
              "<style scoped>\n",
              "    .dataframe tbody tr th:only-of-type {\n",
              "        vertical-align: middle;\n",
              "    }\n",
              "\n",
              "    .dataframe tbody tr th {\n",
              "        vertical-align: top;\n",
              "    }\n",
              "\n",
              "    .dataframe thead th {\n",
              "        text-align: right;\n",
              "    }\n",
              "</style>\n",
              "<table border=\"1\" class=\"dataframe\">\n",
              "  <thead>\n",
              "    <tr style=\"text-align: right;\">\n",
              "      <th></th>\n",
              "      <th>Store</th>\n",
              "      <th>DayOfWeek</th>\n",
              "      <th>Date</th>\n",
              "      <th>Sales</th>\n",
              "      <th>Customers</th>\n",
              "      <th>Open</th>\n",
              "      <th>Promo</th>\n",
              "      <th>StateHoliday</th>\n",
              "      <th>SchoolHoliday</th>\n",
              "    </tr>\n",
              "  </thead>\n",
              "  <tbody>\n",
              "    <tr>\n",
              "      <th>0</th>\n",
              "      <td>1</td>\n",
              "      <td>5</td>\n",
              "      <td>2015-07-31</td>\n",
              "      <td>5263</td>\n",
              "      <td>555</td>\n",
              "      <td>1</td>\n",
              "      <td>1</td>\n",
              "      <td>0</td>\n",
              "      <td>1</td>\n",
              "    </tr>\n",
              "    <tr>\n",
              "      <th>1</th>\n",
              "      <td>2</td>\n",
              "      <td>5</td>\n",
              "      <td>2015-07-31</td>\n",
              "      <td>6064</td>\n",
              "      <td>625</td>\n",
              "      <td>1</td>\n",
              "      <td>1</td>\n",
              "      <td>0</td>\n",
              "      <td>1</td>\n",
              "    </tr>\n",
              "    <tr>\n",
              "      <th>2</th>\n",
              "      <td>3</td>\n",
              "      <td>5</td>\n",
              "      <td>2015-07-31</td>\n",
              "      <td>8314</td>\n",
              "      <td>821</td>\n",
              "      <td>1</td>\n",
              "      <td>1</td>\n",
              "      <td>0</td>\n",
              "      <td>1</td>\n",
              "    </tr>\n",
              "    <tr>\n",
              "      <th>3</th>\n",
              "      <td>4</td>\n",
              "      <td>5</td>\n",
              "      <td>2015-07-31</td>\n",
              "      <td>13995</td>\n",
              "      <td>1498</td>\n",
              "      <td>1</td>\n",
              "      <td>1</td>\n",
              "      <td>0</td>\n",
              "      <td>1</td>\n",
              "    </tr>\n",
              "    <tr>\n",
              "      <th>4</th>\n",
              "      <td>5</td>\n",
              "      <td>5</td>\n",
              "      <td>2015-07-31</td>\n",
              "      <td>4822</td>\n",
              "      <td>559</td>\n",
              "      <td>1</td>\n",
              "      <td>1</td>\n",
              "      <td>0</td>\n",
              "      <td>1</td>\n",
              "    </tr>\n",
              "  </tbody>\n",
              "</table>\n",
              "</div>\n",
              "      <button class=\"colab-df-convert\" onclick=\"convertToInteractive('df-9446b582-6535-45b5-9443-194db21ab1de')\"\n",
              "              title=\"Convert this dataframe to an interactive table.\"\n",
              "              style=\"display:none;\">\n",
              "        \n",
              "  <svg xmlns=\"http://www.w3.org/2000/svg\" height=\"24px\"viewBox=\"0 0 24 24\"\n",
              "       width=\"24px\">\n",
              "    <path d=\"M0 0h24v24H0V0z\" fill=\"none\"/>\n",
              "    <path d=\"M18.56 5.44l.94 2.06.94-2.06 2.06-.94-2.06-.94-.94-2.06-.94 2.06-2.06.94zm-11 1L8.5 8.5l.94-2.06 2.06-.94-2.06-.94L8.5 2.5l-.94 2.06-2.06.94zm10 10l.94 2.06.94-2.06 2.06-.94-2.06-.94-.94-2.06-.94 2.06-2.06.94z\"/><path d=\"M17.41 7.96l-1.37-1.37c-.4-.4-.92-.59-1.43-.59-.52 0-1.04.2-1.43.59L10.3 9.45l-7.72 7.72c-.78.78-.78 2.05 0 2.83L4 21.41c.39.39.9.59 1.41.59.51 0 1.02-.2 1.41-.59l7.78-7.78 2.81-2.81c.8-.78.8-2.07 0-2.86zM5.41 20L4 18.59l7.72-7.72 1.47 1.35L5.41 20z\"/>\n",
              "  </svg>\n",
              "      </button>\n",
              "      \n",
              "  <style>\n",
              "    .colab-df-container {\n",
              "      display:flex;\n",
              "      flex-wrap:wrap;\n",
              "      gap: 12px;\n",
              "    }\n",
              "\n",
              "    .colab-df-convert {\n",
              "      background-color: #E8F0FE;\n",
              "      border: none;\n",
              "      border-radius: 50%;\n",
              "      cursor: pointer;\n",
              "      display: none;\n",
              "      fill: #1967D2;\n",
              "      height: 32px;\n",
              "      padding: 0 0 0 0;\n",
              "      width: 32px;\n",
              "    }\n",
              "\n",
              "    .colab-df-convert:hover {\n",
              "      background-color: #E2EBFA;\n",
              "      box-shadow: 0px 1px 2px rgba(60, 64, 67, 0.3), 0px 1px 3px 1px rgba(60, 64, 67, 0.15);\n",
              "      fill: #174EA6;\n",
              "    }\n",
              "\n",
              "    [theme=dark] .colab-df-convert {\n",
              "      background-color: #3B4455;\n",
              "      fill: #D2E3FC;\n",
              "    }\n",
              "\n",
              "    [theme=dark] .colab-df-convert:hover {\n",
              "      background-color: #434B5C;\n",
              "      box-shadow: 0px 1px 3px 1px rgba(0, 0, 0, 0.15);\n",
              "      filter: drop-shadow(0px 1px 2px rgba(0, 0, 0, 0.3));\n",
              "      fill: #FFFFFF;\n",
              "    }\n",
              "  </style>\n",
              "\n",
              "      <script>\n",
              "        const buttonEl =\n",
              "          document.querySelector('#df-9446b582-6535-45b5-9443-194db21ab1de button.colab-df-convert');\n",
              "        buttonEl.style.display =\n",
              "          google.colab.kernel.accessAllowed ? 'block' : 'none';\n",
              "\n",
              "        async function convertToInteractive(key) {\n",
              "          const element = document.querySelector('#df-9446b582-6535-45b5-9443-194db21ab1de');\n",
              "          const dataTable =\n",
              "            await google.colab.kernel.invokeFunction('convertToInteractive',\n",
              "                                                     [key], {});\n",
              "          if (!dataTable) return;\n",
              "\n",
              "          const docLinkHtml = 'Like what you see? Visit the ' +\n",
              "            '<a target=\"_blank\" href=https://colab.research.google.com/notebooks/data_table.ipynb>data table notebook</a>'\n",
              "            + ' to learn more about interactive tables.';\n",
              "          element.innerHTML = '';\n",
              "          dataTable['output_type'] = 'display_data';\n",
              "          await google.colab.output.renderOutput(dataTable, element);\n",
              "          const docLink = document.createElement('div');\n",
              "          docLink.innerHTML = docLinkHtml;\n",
              "          element.appendChild(docLink);\n",
              "        }\n",
              "      </script>\n",
              "    </div>\n",
              "  </div>\n",
              "  "
            ]
          },
          "metadata": {},
          "execution_count": 18
        }
      ]
    },
    {
      "cell_type": "code",
      "source": [
        "df2 = pd.read_csv(\"/content/drive/MyDrive/22-1 기계학습 실습/22-1 기계학습 Python/수업교재/파이썬을 이용한 통계적 머신러닝 제 2판/Data/rossmann-stores-sales_store.csv\")\n",
        "df2.shape"
      ],
      "metadata": {
        "colab": {
          "base_uri": "https://localhost:8080/"
        },
        "id": "diH6fkHYKBBI",
        "outputId": "1f401913-9878-4a37-b206-005c30af41a3"
      },
      "execution_count": 20,
      "outputs": [
        {
          "output_type": "execute_result",
          "data": {
            "text/plain": [
              "(1115, 10)"
            ]
          },
          "metadata": {},
          "execution_count": 20
        }
      ]
    },
    {
      "cell_type": "code",
      "source": [
        "df2.head()"
      ],
      "metadata": {
        "colab": {
          "base_uri": "https://localhost:8080/",
          "height": 206
        },
        "id": "MifT6WRXKBGZ",
        "outputId": "8afd1f67-e223-4d57-dc27-a54464534d5e"
      },
      "execution_count": 21,
      "outputs": [
        {
          "output_type": "execute_result",
          "data": {
            "text/plain": [
              "   Store StoreType Assortment  CompetitionDistance  CompetitionOpenSinceMonth  \\\n",
              "0      1         c          a               1270.0                        9.0   \n",
              "1      2         a          a                570.0                       11.0   \n",
              "2      3         a          a              14130.0                       12.0   \n",
              "3      4         c          c                620.0                        9.0   \n",
              "4      5         a          a              29910.0                        4.0   \n",
              "\n",
              "   CompetitionOpenSinceYear  Promo2  Promo2SinceWeek  Promo2SinceYear  \\\n",
              "0                    2008.0       0              NaN              NaN   \n",
              "1                    2007.0       1             13.0           2010.0   \n",
              "2                    2006.0       1             14.0           2011.0   \n",
              "3                    2009.0       0              NaN              NaN   \n",
              "4                    2015.0       0              NaN              NaN   \n",
              "\n",
              "     PromoInterval  \n",
              "0              NaN  \n",
              "1  Jan,Apr,Jul,Oct  \n",
              "2  Jan,Apr,Jul,Oct  \n",
              "3              NaN  \n",
              "4              NaN  "
            ],
            "text/html": [
              "\n",
              "  <div id=\"df-fe157c2d-9ff4-4e09-80ca-0a075101bc7b\">\n",
              "    <div class=\"colab-df-container\">\n",
              "      <div>\n",
              "<style scoped>\n",
              "    .dataframe tbody tr th:only-of-type {\n",
              "        vertical-align: middle;\n",
              "    }\n",
              "\n",
              "    .dataframe tbody tr th {\n",
              "        vertical-align: top;\n",
              "    }\n",
              "\n",
              "    .dataframe thead th {\n",
              "        text-align: right;\n",
              "    }\n",
              "</style>\n",
              "<table border=\"1\" class=\"dataframe\">\n",
              "  <thead>\n",
              "    <tr style=\"text-align: right;\">\n",
              "      <th></th>\n",
              "      <th>Store</th>\n",
              "      <th>StoreType</th>\n",
              "      <th>Assortment</th>\n",
              "      <th>CompetitionDistance</th>\n",
              "      <th>CompetitionOpenSinceMonth</th>\n",
              "      <th>CompetitionOpenSinceYear</th>\n",
              "      <th>Promo2</th>\n",
              "      <th>Promo2SinceWeek</th>\n",
              "      <th>Promo2SinceYear</th>\n",
              "      <th>PromoInterval</th>\n",
              "    </tr>\n",
              "  </thead>\n",
              "  <tbody>\n",
              "    <tr>\n",
              "      <th>0</th>\n",
              "      <td>1</td>\n",
              "      <td>c</td>\n",
              "      <td>a</td>\n",
              "      <td>1270.0</td>\n",
              "      <td>9.0</td>\n",
              "      <td>2008.0</td>\n",
              "      <td>0</td>\n",
              "      <td>NaN</td>\n",
              "      <td>NaN</td>\n",
              "      <td>NaN</td>\n",
              "    </tr>\n",
              "    <tr>\n",
              "      <th>1</th>\n",
              "      <td>2</td>\n",
              "      <td>a</td>\n",
              "      <td>a</td>\n",
              "      <td>570.0</td>\n",
              "      <td>11.0</td>\n",
              "      <td>2007.0</td>\n",
              "      <td>1</td>\n",
              "      <td>13.0</td>\n",
              "      <td>2010.0</td>\n",
              "      <td>Jan,Apr,Jul,Oct</td>\n",
              "    </tr>\n",
              "    <tr>\n",
              "      <th>2</th>\n",
              "      <td>3</td>\n",
              "      <td>a</td>\n",
              "      <td>a</td>\n",
              "      <td>14130.0</td>\n",
              "      <td>12.0</td>\n",
              "      <td>2006.0</td>\n",
              "      <td>1</td>\n",
              "      <td>14.0</td>\n",
              "      <td>2011.0</td>\n",
              "      <td>Jan,Apr,Jul,Oct</td>\n",
              "    </tr>\n",
              "    <tr>\n",
              "      <th>3</th>\n",
              "      <td>4</td>\n",
              "      <td>c</td>\n",
              "      <td>c</td>\n",
              "      <td>620.0</td>\n",
              "      <td>9.0</td>\n",
              "      <td>2009.0</td>\n",
              "      <td>0</td>\n",
              "      <td>NaN</td>\n",
              "      <td>NaN</td>\n",
              "      <td>NaN</td>\n",
              "    </tr>\n",
              "    <tr>\n",
              "      <th>4</th>\n",
              "      <td>5</td>\n",
              "      <td>a</td>\n",
              "      <td>a</td>\n",
              "      <td>29910.0</td>\n",
              "      <td>4.0</td>\n",
              "      <td>2015.0</td>\n",
              "      <td>0</td>\n",
              "      <td>NaN</td>\n",
              "      <td>NaN</td>\n",
              "      <td>NaN</td>\n",
              "    </tr>\n",
              "  </tbody>\n",
              "</table>\n",
              "</div>\n",
              "      <button class=\"colab-df-convert\" onclick=\"convertToInteractive('df-fe157c2d-9ff4-4e09-80ca-0a075101bc7b')\"\n",
              "              title=\"Convert this dataframe to an interactive table.\"\n",
              "              style=\"display:none;\">\n",
              "        \n",
              "  <svg xmlns=\"http://www.w3.org/2000/svg\" height=\"24px\"viewBox=\"0 0 24 24\"\n",
              "       width=\"24px\">\n",
              "    <path d=\"M0 0h24v24H0V0z\" fill=\"none\"/>\n",
              "    <path d=\"M18.56 5.44l.94 2.06.94-2.06 2.06-.94-2.06-.94-.94-2.06-.94 2.06-2.06.94zm-11 1L8.5 8.5l.94-2.06 2.06-.94-2.06-.94L8.5 2.5l-.94 2.06-2.06.94zm10 10l.94 2.06.94-2.06 2.06-.94-2.06-.94-.94-2.06-.94 2.06-2.06.94z\"/><path d=\"M17.41 7.96l-1.37-1.37c-.4-.4-.92-.59-1.43-.59-.52 0-1.04.2-1.43.59L10.3 9.45l-7.72 7.72c-.78.78-.78 2.05 0 2.83L4 21.41c.39.39.9.59 1.41.59.51 0 1.02-.2 1.41-.59l7.78-7.78 2.81-2.81c.8-.78.8-2.07 0-2.86zM5.41 20L4 18.59l7.72-7.72 1.47 1.35L5.41 20z\"/>\n",
              "  </svg>\n",
              "      </button>\n",
              "      \n",
              "  <style>\n",
              "    .colab-df-container {\n",
              "      display:flex;\n",
              "      flex-wrap:wrap;\n",
              "      gap: 12px;\n",
              "    }\n",
              "\n",
              "    .colab-df-convert {\n",
              "      background-color: #E8F0FE;\n",
              "      border: none;\n",
              "      border-radius: 50%;\n",
              "      cursor: pointer;\n",
              "      display: none;\n",
              "      fill: #1967D2;\n",
              "      height: 32px;\n",
              "      padding: 0 0 0 0;\n",
              "      width: 32px;\n",
              "    }\n",
              "\n",
              "    .colab-df-convert:hover {\n",
              "      background-color: #E2EBFA;\n",
              "      box-shadow: 0px 1px 2px rgba(60, 64, 67, 0.3), 0px 1px 3px 1px rgba(60, 64, 67, 0.15);\n",
              "      fill: #174EA6;\n",
              "    }\n",
              "\n",
              "    [theme=dark] .colab-df-convert {\n",
              "      background-color: #3B4455;\n",
              "      fill: #D2E3FC;\n",
              "    }\n",
              "\n",
              "    [theme=dark] .colab-df-convert:hover {\n",
              "      background-color: #434B5C;\n",
              "      box-shadow: 0px 1px 3px 1px rgba(0, 0, 0, 0.15);\n",
              "      filter: drop-shadow(0px 1px 2px rgba(0, 0, 0, 0.3));\n",
              "      fill: #FFFFFF;\n",
              "    }\n",
              "  </style>\n",
              "\n",
              "      <script>\n",
              "        const buttonEl =\n",
              "          document.querySelector('#df-fe157c2d-9ff4-4e09-80ca-0a075101bc7b button.colab-df-convert');\n",
              "        buttonEl.style.display =\n",
              "          google.colab.kernel.accessAllowed ? 'block' : 'none';\n",
              "\n",
              "        async function convertToInteractive(key) {\n",
              "          const element = document.querySelector('#df-fe157c2d-9ff4-4e09-80ca-0a075101bc7b');\n",
              "          const dataTable =\n",
              "            await google.colab.kernel.invokeFunction('convertToInteractive',\n",
              "                                                     [key], {});\n",
              "          if (!dataTable) return;\n",
              "\n",
              "          const docLinkHtml = 'Like what you see? Visit the ' +\n",
              "            '<a target=\"_blank\" href=https://colab.research.google.com/notebooks/data_table.ipynb>data table notebook</a>'\n",
              "            + ' to learn more about interactive tables.';\n",
              "          element.innerHTML = '';\n",
              "          dataTable['output_type'] = 'display_data';\n",
              "          await google.colab.output.renderOutput(dataTable, element);\n",
              "          const docLink = document.createElement('div');\n",
              "          docLink.innerHTML = docLinkHtml;\n",
              "          element.appendChild(docLink);\n",
              "        }\n",
              "      </script>\n",
              "    </div>\n",
              "  </div>\n",
              "  "
            ]
          },
          "metadata": {},
          "execution_count": 21
        }
      ]
    },
    {
      "cell_type": "code",
      "source": [
        "df = pd.merge(df1, df2, on = \"Store\")\n",
        "df.shape"
      ],
      "metadata": {
        "colab": {
          "base_uri": "https://localhost:8080/"
        },
        "id": "xEOj6zgqLGCQ",
        "outputId": "76630e57-fd83-4930-92ea-93ecab858e9d"
      },
      "execution_count": 22,
      "outputs": [
        {
          "output_type": "execute_result",
          "data": {
            "text/plain": [
              "(1017209, 18)"
            ]
          },
          "metadata": {},
          "execution_count": 22
        }
      ]
    },
    {
      "cell_type": "code",
      "source": [
        "df.dtypes"
      ],
      "metadata": {
        "colab": {
          "base_uri": "https://localhost:8080/"
        },
        "id": "ZTFcuUe1LlRO",
        "outputId": "4371fe41-1cf8-4d18-fb55-beab0505d124"
      },
      "execution_count": 23,
      "outputs": [
        {
          "output_type": "execute_result",
          "data": {
            "text/plain": [
              "Store                          int64\n",
              "DayOfWeek                      int64\n",
              "Date                          object\n",
              "Sales                          int64\n",
              "Customers                      int64\n",
              "Open                           int64\n",
              "Promo                          int64\n",
              "StateHoliday                  object\n",
              "SchoolHoliday                  int64\n",
              "StoreType                     object\n",
              "Assortment                    object\n",
              "CompetitionDistance          float64\n",
              "CompetitionOpenSinceMonth    float64\n",
              "CompetitionOpenSinceYear     float64\n",
              "Promo2                         int64\n",
              "Promo2SinceWeek              float64\n",
              "Promo2SinceYear              float64\n",
              "PromoInterval                 object\n",
              "dtype: object"
            ]
          },
          "metadata": {},
          "execution_count": 23
        }
      ]
    },
    {
      "cell_type": "code",
      "source": [
        "print(len(df[\"Store\"].unique()))\n",
        "print(len(df[\"Date\"].unique()))\n",
        "print(df[\"DayOfWeek\"].value_counts())"
      ],
      "metadata": {
        "colab": {
          "base_uri": "https://localhost:8080/"
        },
        "id": "yghr5diJLxay",
        "outputId": "b9f0817a-aa86-4699-8224-2808ce28a3f2"
      },
      "execution_count": 24,
      "outputs": [
        {
          "output_type": "stream",
          "name": "stdout",
          "text": [
            "1115\n",
            "942\n",
            "5    145845\n",
            "4    145845\n",
            "3    145665\n",
            "2    145664\n",
            "1    144730\n",
            "7    144730\n",
            "6    144730\n",
            "Name: DayOfWeek, dtype: int64\n"
          ]
        }
      ]
    },
    {
      "cell_type": "markdown",
      "source": [
        "#### 시간자료 분류"
      ],
      "metadata": {
        "id": "aN5XDbDhNb8h"
      }
    },
    {
      "cell_type": "code",
      "source": [
        "import numpy as np\n",
        "df[\"Date\"] = pd.to_datetime(df[\"Date\"], infer_datetime_format = True)\n",
        "df[\"Month\"] = df[\"Date\"].dt.month\n",
        "df[\"Quarter\"] = df[\"Date\"].dt.quarter\n",
        "df[\"Year\"] = df[\"Date\"].dt.year\n",
        "df[\"Day\"] = df[\"Date\"].dt.day\n",
        "df[\"Week\"] = df[\"Date\"].dt.week\n",
        "df[\"Season\"] = np.where(df[\"Month\"].isin([3, 4, 5]), \"Spring\",\n",
        "                        np.where(df[\"Month\"].isin([6, 7, 8]), \"Summer\",\n",
        "                                 np.where(df[\"Month\"].isin([9, 10, 11]), \"Fall\",\n",
        "                                          np.where(df[\"Month\"].isin([12, 1, 2]), \"Winter\", \"None\"))))\n",
        "print(df[[\"Date\", \"Year\", \"Month\", \"Day\", \"Week\", \"Quarter\", \"Season\"]].head())"
      ],
      "metadata": {
        "colab": {
          "base_uri": "https://localhost:8080/"
        },
        "id": "OVezQBnWMBO0",
        "outputId": "440a2615-db0f-445a-f096-d24fb9eadd61"
      },
      "execution_count": 25,
      "outputs": [
        {
          "output_type": "stream",
          "name": "stderr",
          "text": [
            "/usr/local/lib/python3.7/dist-packages/ipykernel_launcher.py:7: FutureWarning:\n",
            "\n",
            "Series.dt.weekofyear and Series.dt.week have been deprecated.  Please use Series.dt.isocalendar().week instead.\n",
            "\n"
          ]
        },
        {
          "output_type": "stream",
          "name": "stdout",
          "text": [
            "        Date  Year  Month  Day  Week  Quarter  Season\n",
            "0 2015-07-31  2015      7   31    31        3  Summer\n",
            "1 2015-07-30  2015      7   30    31        3  Summer\n",
            "2 2015-07-29  2015      7   29    31        3  Summer\n",
            "3 2015-07-28  2015      7   28    31        3  Summer\n",
            "4 2015-07-27  2015      7   27    31        3  Summer\n"
          ]
        }
      ]
    },
    {
      "cell_type": "code",
      "source": [
        "df.hist(figsize = (20, 10))"
      ],
      "metadata": {
        "colab": {
          "base_uri": "https://localhost:8080/",
          "height": 982
        },
        "id": "dHK7uHHvNQju",
        "outputId": "77f26719-46cd-4bf3-db48-f42d58c9d70b"
      },
      "execution_count": 26,
      "outputs": [
        {
          "output_type": "execute_result",
          "data": {
            "text/plain": [
              "array([[<matplotlib.axes._subplots.AxesSubplot object at 0x7f52c79b8490>,\n",
              "        <matplotlib.axes._subplots.AxesSubplot object at 0x7f52c39b97d0>,\n",
              "        <matplotlib.axes._subplots.AxesSubplot object at 0x7f52c3972d90>,\n",
              "        <matplotlib.axes._subplots.AxesSubplot object at 0x7f52c39333d0>],\n",
              "       [<matplotlib.axes._subplots.AxesSubplot object at 0x7f52c38eb9d0>,\n",
              "        <matplotlib.axes._subplots.AxesSubplot object at 0x7f52c3915b10>,\n",
              "        <matplotlib.axes._subplots.AxesSubplot object at 0x7f52c3865690>,\n",
              "        <matplotlib.axes._subplots.AxesSubplot object at 0x7f52c3899bd0>],\n",
              "       [<matplotlib.axes._subplots.AxesSubplot object at 0x7f52c3899c10>,\n",
              "        <matplotlib.axes._subplots.AxesSubplot object at 0x7f52c385d350>,\n",
              "        <matplotlib.axes._subplots.AxesSubplot object at 0x7f52c37c7e50>,\n",
              "        <matplotlib.axes._subplots.AxesSubplot object at 0x7f52c378c490>],\n",
              "       [<matplotlib.axes._subplots.AxesSubplot object at 0x7f52c3743a10>,\n",
              "        <matplotlib.axes._subplots.AxesSubplot object at 0x7f52c36f0b10>,\n",
              "        <matplotlib.axes._subplots.AxesSubplot object at 0x7f52c36bd650>,\n",
              "        <matplotlib.axes._subplots.AxesSubplot object at 0x7f52c3673c50>],\n",
              "       [<matplotlib.axes._subplots.AxesSubplot object at 0x7f52c3638290>,\n",
              "        <matplotlib.axes._subplots.AxesSubplot object at 0x7f52c35eb890>,\n",
              "        <matplotlib.axes._subplots.AxesSubplot object at 0x7f52c35a4e90>,\n",
              "        <matplotlib.axes._subplots.AxesSubplot object at 0x7f52c35674d0>]],\n",
              "      dtype=object)"
            ]
          },
          "metadata": {},
          "execution_count": 26
        },
        {
          "output_type": "display_data",
          "data": {
            "text/plain": [
              "<Figure size 1440x720 with 20 Axes>"
            ],
            "image/png": "[encoded data removed]"
          },
          "metadata": {
            "needs_background": "light"
          }
        }
      ]
    },
    {
      "cell_type": "markdown",
      "source": [
        "#### 결측치 정도 확인 및 처리"
      ],
      "metadata": {
        "id": "RUzDg4yeUvnC"
      }
    },
    {
      "cell_type": "code",
      "source": [
        "df.isnull().sum() / df.shape[0] * 100 "
      ],
      "metadata": {
        "colab": {
          "base_uri": "https://localhost:8080/"
        },
        "id": "2gPyRV80PFFw",
        "outputId": "cb40f8a3-0646-4bc8-bbee-119ea6c22648"
      },
      "execution_count": 27,
      "outputs": [
        {
          "output_type": "execute_result",
          "data": {
            "text/plain": [
              "Store                         0.000000\n",
              "DayOfWeek                     0.000000\n",
              "Date                          0.000000\n",
              "Sales                         0.000000\n",
              "Customers                     0.000000\n",
              "Open                          0.000000\n",
              "Promo                         0.000000\n",
              "StateHoliday                  0.000000\n",
              "SchoolHoliday                 0.000000\n",
              "StoreType                     0.000000\n",
              "Assortment                    0.000000\n",
              "CompetitionDistance           0.259730\n",
              "CompetitionOpenSinceMonth    31.787764\n",
              "CompetitionOpenSinceYear     31.787764\n",
              "Promo2                        0.000000\n",
              "Promo2SinceWeek              49.943620\n",
              "Promo2SinceYear              49.943620\n",
              "PromoInterval                49.943620\n",
              "Month                         0.000000\n",
              "Quarter                       0.000000\n",
              "Year                          0.000000\n",
              "Day                           0.000000\n",
              "Week                          0.000000\n",
              "Season                        0.000000\n",
              "dtype: float64"
            ]
          },
          "metadata": {},
          "execution_count": 27
        }
      ]
    },
    {
      "cell_type": "markdown",
      "source": [
        "+ 결측자료 처리 : 10% 이하이면 대체, 30% 이상이면 변수 제거\n",
        "+ 범주형 자료 : one-hot 벡터로 자료 변환"
      ],
      "metadata": {
        "id": "GVrmOhRWPJmT"
      }
    },
    {
      "cell_type": "code",
      "source": [
        "df['CompetitionDistance']=df['CompetitionDistance'].fillna(df['CompetitionDistance'].mode())\n",
        "df['CompetitionDistance'].isnull().sum()"
      ],
      "metadata": {
        "colab": {
          "base_uri": "https://localhost:8080/"
        },
        "id": "47k_7iaKP4Zv",
        "outputId": "1cbaa516-4eec-4dc5-ee22-7622075f17c9"
      },
      "execution_count": 28,
      "outputs": [
        {
          "output_type": "execute_result",
          "data": {
            "text/plain": [
              "2642"
            ]
          },
          "metadata": {},
          "execution_count": 28
        }
      ]
    },
    {
      "cell_type": "code",
      "source": [
        "from sklearn.preprocessing import LabelEncoder,OneHotEncoder\n",
        "n_columns = ['Customers','Open','Promo','Promo2','StateHoliday','SchoolHoliday','CompetitionDistance']\n",
        "categ_columns = ['DayOfWeek','Quarter','Month','Year','StoreType','Assortment','Season']"
      ],
      "metadata": {
        "id": "agh4YFxhQf6U"
      },
      "execution_count": 29,
      "outputs": []
    },
    {
      "cell_type": "code",
      "source": [
        "def dummy(data, col):\n",
        "  lab = LabelEncoder()\n",
        "  aa = lab.fit_transform(data[col]).reshape(-1, 1)\n",
        "  ohe = OneHotEncoder(sparse = False)\n",
        "  column_names = [col +'_' + str(i) for i in lab.classes_]\n",
        "  return(pd.DataFrame(ohe.fit_transform(aa), columns = column_names))"
      ],
      "metadata": {
        "id": "2iFhMr7yR9Db"
      },
      "execution_count": 30,
      "outputs": []
    },
    {
      "cell_type": "code",
      "source": [
        "fdata = df[n_columns]\n",
        "for column in categ_columns:\n",
        "  temp_df = dummy(df, column)\n",
        "  fdata = pd.concat([fdata, temp_df], axis = 1)\n",
        "fdata.head()"
      ],
      "metadata": {
        "colab": {
          "base_uri": "https://localhost:8080/",
          "height": 299
        },
        "id": "yVq3e72LTjrE",
        "outputId": "49a091d0-37d9-43d9-ddbc-e435da120f35"
      },
      "execution_count": 31,
      "outputs": [
        {
          "output_type": "execute_result",
          "data": {
            "text/plain": [
              "   Customers  Open  Promo  Promo2 StateHoliday  SchoolHoliday  \\\n",
              "0        555     1      1       0            0              1   \n",
              "1        546     1      1       0            0              1   \n",
              "2        523     1      1       0            0              1   \n",
              "3        560     1      1       0            0              1   \n",
              "4        612     1      1       0            0              1   \n",
              "\n",
              "   CompetitionDistance  DayOfWeek_1  DayOfWeek_2  DayOfWeek_3  ...  \\\n",
              "0               1270.0          0.0          0.0          0.0  ...   \n",
              "1               1270.0          0.0          0.0          0.0  ...   \n",
              "2               1270.0          0.0          0.0          1.0  ...   \n",
              "3               1270.0          0.0          1.0          0.0  ...   \n",
              "4               1270.0          1.0          0.0          0.0  ...   \n",
              "\n",
              "   StoreType_b  StoreType_c  StoreType_d  Assortment_a  Assortment_b  \\\n",
              "0          0.0          1.0          0.0           1.0           0.0   \n",
              "1          0.0          1.0          0.0           1.0           0.0   \n",
              "2          0.0          1.0          0.0           1.0           0.0   \n",
              "3          0.0          1.0          0.0           1.0           0.0   \n",
              "4          0.0          1.0          0.0           1.0           0.0   \n",
              "\n",
              "   Assortment_c  Season_Fall  Season_Spring  Season_Summer  Season_Winter  \n",
              "0           0.0          0.0            0.0            1.0            0.0  \n",
              "1           0.0          0.0            0.0            1.0            0.0  \n",
              "2           0.0          0.0            0.0            1.0            0.0  \n",
              "3           0.0          0.0            0.0            1.0            0.0  \n",
              "4           0.0          0.0            0.0            1.0            0.0  \n",
              "\n",
              "[5 rows x 44 columns]"
            ],
            "text/html": [
              "\n",
              "  <div id=\"df-d3d3b69f-e81b-4143-af66-3c553513579b\">\n",
              "    <div class=\"colab-df-container\">\n",
              "      <div>\n",
              "<style scoped>\n",
              "    .dataframe tbody tr th:only-of-type {\n",
              "        vertical-align: middle;\n",
              "    }\n",
              "\n",
              "    .dataframe tbody tr th {\n",
              "        vertical-align: top;\n",
              "    }\n",
              "\n",
              "    .dataframe thead th {\n",
              "        text-align: right;\n",
              "    }\n",
              "</style>\n",
              "<table border=\"1\" class=\"dataframe\">\n",
              "  <thead>\n",
              "    <tr style=\"text-align: right;\">\n",
              "      <th></th>\n",
              "      <th>Customers</th>\n",
              "      <th>Open</th>\n",
              "      <th>Promo</th>\n",
              "      <th>Promo2</th>\n",
              "      <th>StateHoliday</th>\n",
              "      <th>SchoolHoliday</th>\n",
              "      <th>CompetitionDistance</th>\n",
              "      <th>DayOfWeek_1</th>\n",
              "      <th>DayOfWeek_2</th>\n",
              "      <th>DayOfWeek_3</th>\n",
              "      <th>...</th>\n",
              "      <th>StoreType_b</th>\n",
              "      <th>StoreType_c</th>\n",
              "      <th>StoreType_d</th>\n",
              "      <th>Assortment_a</th>\n",
              "      <th>Assortment_b</th>\n",
              "      <th>Assortment_c</th>\n",
              "      <th>Season_Fall</th>\n",
              "      <th>Season_Spring</th>\n",
              "      <th>Season_Summer</th>\n",
              "      <th>Season_Winter</th>\n",
              "    </tr>\n",
              "  </thead>\n",
              "  <tbody>\n",
              "    <tr>\n",
              "      <th>0</th>\n",
              "      <td>555</td>\n",
              "      <td>1</td>\n",
              "      <td>1</td>\n",
              "      <td>0</td>\n",
              "      <td>0</td>\n",
              "      <td>1</td>\n",
              "      <td>1270.0</td>\n",
              "      <td>0.0</td>\n",
              "      <td>0.0</td>\n",
              "      <td>0.0</td>\n",
              "      <td>...</td>\n",
              "      <td>0.0</td>\n",
              "      <td>1.0</td>\n",
              "      <td>0.0</td>\n",
              "      <td>1.0</td>\n",
              "      <td>0.0</td>\n",
              "      <td>0.0</td>\n",
              "      <td>0.0</td>\n",
              "      <td>0.0</td>\n",
              "      <td>1.0</td>\n",
              "      <td>0.0</td>\n",
              "    </tr>\n",
              "    <tr>\n",
              "      <th>1</th>\n",
              "      <td>546</td>\n",
              "      <td>1</td>\n",
              "      <td>1</td>\n",
              "      <td>0</td>\n",
              "      <td>0</td>\n",
              "      <td>1</td>\n",
              "      <td>1270.0</td>\n",
              "      <td>0.0</td>\n",
              "      <td>0.0</td>\n",
              "      <td>0.0</td>\n",
              "      <td>...</td>\n",
              "      <td>0.0</td>\n",
              "      <td>1.0</td>\n",
              "      <td>0.0</td>\n",
              "      <td>1.0</td>\n",
              "      <td>0.0</td>\n",
              "      <td>0.0</td>\n",
              "      <td>0.0</td>\n",
              "      <td>0.0</td>\n",
              "      <td>1.0</td>\n",
              "      <td>0.0</td>\n",
              "    </tr>\n",
              "    <tr>\n",
              "      <th>2</th>\n",
              "      <td>523</td>\n",
              "      <td>1</td>\n",
              "      <td>1</td>\n",
              "      <td>0</td>\n",
              "      <td>0</td>\n",
              "      <td>1</td>\n",
              "      <td>1270.0</td>\n",
              "      <td>0.0</td>\n",
              "      <td>0.0</td>\n",
              "      <td>1.0</td>\n",
              "      <td>...</td>\n",
              "      <td>0.0</td>\n",
              "      <td>1.0</td>\n",
              "      <td>0.0</td>\n",
              "      <td>1.0</td>\n",
              "      <td>0.0</td>\n",
              "      <td>0.0</td>\n",
              "      <td>0.0</td>\n",
              "      <td>0.0</td>\n",
              "      <td>1.0</td>\n",
              "      <td>0.0</td>\n",
              "    </tr>\n",
              "    <tr>\n",
              "      <th>3</th>\n",
              "      <td>560</td>\n",
              "      <td>1</td>\n",
              "      <td>1</td>\n",
              "      <td>0</td>\n",
              "      <td>0</td>\n",
              "      <td>1</td>\n",
              "      <td>1270.0</td>\n",
              "      <td>0.0</td>\n",
              "      <td>1.0</td>\n",
              "      <td>0.0</td>\n",
              "      <td>...</td>\n",
              "      <td>0.0</td>\n",
              "      <td>1.0</td>\n",
              "      <td>0.0</td>\n",
              "      <td>1.0</td>\n",
              "      <td>0.0</td>\n",
              "      <td>0.0</td>\n",
              "      <td>0.0</td>\n",
              "      <td>0.0</td>\n",
              "      <td>1.0</td>\n",
              "      <td>0.0</td>\n",
              "    </tr>\n",
              "    <tr>\n",
              "      <th>4</th>\n",
              "      <td>612</td>\n",
              "      <td>1</td>\n",
              "      <td>1</td>\n",
              "      <td>0</td>\n",
              "      <td>0</td>\n",
              "      <td>1</td>\n",
              "      <td>1270.0</td>\n",
              "      <td>1.0</td>\n",
              "      <td>0.0</td>\n",
              "      <td>0.0</td>\n",
              "      <td>...</td>\n",
              "      <td>0.0</td>\n",
              "      <td>1.0</td>\n",
              "      <td>0.0</td>\n",
              "      <td>1.0</td>\n",
              "      <td>0.0</td>\n",
              "      <td>0.0</td>\n",
              "      <td>0.0</td>\n",
              "      <td>0.0</td>\n",
              "      <td>1.0</td>\n",
              "      <td>0.0</td>\n",
              "    </tr>\n",
              "  </tbody>\n",
              "</table>\n",
              "<p>5 rows × 44 columns</p>\n",
              "</div>\n",
              "      <button class=\"colab-df-convert\" onclick=\"convertToInteractive('df-d3d3b69f-e81b-4143-af66-3c553513579b')\"\n",
              "              title=\"Convert this dataframe to an interactive table.\"\n",
              "              style=\"display:none;\">\n",
              "        \n",
              "  <svg xmlns=\"http://www.w3.org/2000/svg\" height=\"24px\"viewBox=\"0 0 24 24\"\n",
              "       width=\"24px\">\n",
              "    <path d=\"M0 0h24v24H0V0z\" fill=\"none\"/>\n",
              "    <path d=\"M18.56 5.44l.94 2.06.94-2.06 2.06-.94-2.06-.94-.94-2.06-.94 2.06-2.06.94zm-11 1L8.5 8.5l.94-2.06 2.06-.94-2.06-.94L8.5 2.5l-.94 2.06-2.06.94zm10 10l.94 2.06.94-2.06 2.06-.94-2.06-.94-.94-2.06-.94 2.06-2.06.94z\"/><path d=\"M17.41 7.96l-1.37-1.37c-.4-.4-.92-.59-1.43-.59-.52 0-1.04.2-1.43.59L10.3 9.45l-7.72 7.72c-.78.78-.78 2.05 0 2.83L4 21.41c.39.39.9.59 1.41.59.51 0 1.02-.2 1.41-.59l7.78-7.78 2.81-2.81c.8-.78.8-2.07 0-2.86zM5.41 20L4 18.59l7.72-7.72 1.47 1.35L5.41 20z\"/>\n",
              "  </svg>\n",
              "      </button>\n",
              "      \n",
              "  <style>\n",
              "    .colab-df-container {\n",
              "      display:flex;\n",
              "      flex-wrap:wrap;\n",
              "      gap: 12px;\n",
              "    }\n",
              "\n",
              "    .colab-df-convert {\n",
              "      background-color: #E8F0FE;\n",
              "      border: none;\n",
              "      border-radius: 50%;\n",
              "      cursor: pointer;\n",
              "      display: none;\n",
              "      fill: #1967D2;\n",
              "      height: 32px;\n",
              "      padding: 0 0 0 0;\n",
              "      width: 32px;\n",
              "    }\n",
              "\n",
              "    .colab-df-convert:hover {\n",
              "      background-color: #E2EBFA;\n",
              "      box-shadow: 0px 1px 2px rgba(60, 64, 67, 0.3), 0px 1px 3px 1px rgba(60, 64, 67, 0.15);\n",
              "      fill: #174EA6;\n",
              "    }\n",
              "\n",
              "    [theme=dark] .colab-df-convert {\n",
              "      background-color: #3B4455;\n",
              "      fill: #D2E3FC;\n",
              "    }\n",
              "\n",
              "    [theme=dark] .colab-df-convert:hover {\n",
              "      background-color: #434B5C;\n",
              "      box-shadow: 0px 1px 3px 1px rgba(0, 0, 0, 0.15);\n",
              "      filter: drop-shadow(0px 1px 2px rgba(0, 0, 0, 0.3));\n",
              "      fill: #FFFFFF;\n",
              "    }\n",
              "  </style>\n",
              "\n",
              "      <script>\n",
              "        const buttonEl =\n",
              "          document.querySelector('#df-d3d3b69f-e81b-4143-af66-3c553513579b button.colab-df-convert');\n",
              "        buttonEl.style.display =\n",
              "          google.colab.kernel.accessAllowed ? 'block' : 'none';\n",
              "\n",
              "        async function convertToInteractive(key) {\n",
              "          const element = document.querySelector('#df-d3d3b69f-e81b-4143-af66-3c553513579b');\n",
              "          const dataTable =\n",
              "            await google.colab.kernel.invokeFunction('convertToInteractive',\n",
              "                                                     [key], {});\n",
              "          if (!dataTable) return;\n",
              "\n",
              "          const docLinkHtml = 'Like what you see? Visit the ' +\n",
              "            '<a target=\"_blank\" href=https://colab.research.google.com/notebooks/data_table.ipynb>data table notebook</a>'\n",
              "            + ' to learn more about interactive tables.';\n",
              "          element.innerHTML = '';\n",
              "          dataTable['output_type'] = 'display_data';\n",
              "          await google.colab.output.renderOutput(dataTable, element);\n",
              "          const docLink = document.createElement('div');\n",
              "          docLink.innerHTML = docLinkHtml;\n",
              "          element.appendChild(docLink);\n",
              "        }\n",
              "      </script>\n",
              "    </div>\n",
              "  </div>\n",
              "  "
            ]
          },
          "metadata": {},
          "execution_count": 31
        }
      ]
    },
    {
      "cell_type": "code",
      "source": [
        "fdata.shape"
      ],
      "metadata": {
        "colab": {
          "base_uri": "https://localhost:8080/"
        },
        "id": "XT3XNI_HTvxg",
        "outputId": "f4984671-6381-46db-a030-243f3bb906dc"
      },
      "execution_count": 32,
      "outputs": [
        {
          "output_type": "execute_result",
          "data": {
            "text/plain": [
              "(1017209, 44)"
            ]
          },
          "metadata": {},
          "execution_count": 32
        }
      ]
    },
    {
      "cell_type": "code",
      "source": [
        "fdata.dtypes.unique()"
      ],
      "metadata": {
        "colab": {
          "base_uri": "https://localhost:8080/"
        },
        "id": "Mgu0SYkXUIst",
        "outputId": "3f681523-448d-4d51-b10c-cf050004b616"
      },
      "execution_count": 33,
      "outputs": [
        {
          "output_type": "execute_result",
          "data": {
            "text/plain": [
              "array([dtype('int64'), dtype('O'), dtype('float64')], dtype=object)"
            ]
          },
          "metadata": {},
          "execution_count": 33
        }
      ]
    },
    {
      "cell_type": "code",
      "source": [
        "fdata[\"StateHoliday\"].unique()"
      ],
      "metadata": {
        "colab": {
          "base_uri": "https://localhost:8080/"
        },
        "id": "31GzTcXKUOCB",
        "outputId": "67b8f5a7-7571-4b87-ee4d-19df175b5baf"
      },
      "execution_count": 34,
      "outputs": [
        {
          "output_type": "execute_result",
          "data": {
            "text/plain": [
              "array(['0', 'a', 'b', 'c', 0], dtype=object)"
            ]
          },
          "metadata": {},
          "execution_count": 34
        }
      ]
    },
    {
      "cell_type": "code",
      "source": [
        "fdata[\"StateHoliday\"] = np.where(fdata[\"StateHoliday\"] == \"o\",0,1)"
      ],
      "metadata": {
        "id": "YmXsSi7BUSKz"
      },
      "execution_count": 35,
      "outputs": []
    },
    {
      "cell_type": "markdown",
      "source": [
        "### 2.4 불균형자료(Imbalanced data)의 처리"
      ],
      "metadata": {
        "id": "t_QP0nmpUb5S"
      }
    },
    {
      "cell_type": "code",
      "source": [
        "from collections import Counter\n",
        "from sklearn.datasets import make_classification\n",
        "from imblearn.over_sampling import SMOTE, ADASYN\n",
        "X, y = make_classification(n_classes = 3, weights = [0.03, 0.07, 0.9], n_features= 10,\n",
        "                           n_clusters_per_class = 1, n_samples = 2000, random_state = 10)\n",
        "print(\"Original dataset shape %s\" % Counter(y))"
      ],
      "metadata": {
        "colab": {
          "base_uri": "https://localhost:8080/"
        },
        "id": "T0z1LH-xUr9w",
        "outputId": "8e50f8f3-c444-4095-d192-c745a1b6de90"
      },
      "execution_count": 36,
      "outputs": [
        {
          "output_type": "stream",
          "name": "stdout",
          "text": [
            "Original dataset shape Counter({2: 1795, 1: 141, 0: 64})\n"
          ]
        }
      ]
    },
    {
      "cell_type": "code",
      "source": [
        "sm = SMOTE(random_state = 42)\n",
        "X_res, y_res = sm.fit_resample(X, y)\n",
        "print(\"Resampled dataset shape %s\" % Counter(y_res))"
      ],
      "metadata": {
        "colab": {
          "base_uri": "https://localhost:8080/"
        },
        "id": "6lsAqiQJXt27",
        "outputId": "428e5ca1-7552-46a8-8ba8-d6cfff24ef67"
      },
      "execution_count": 37,
      "outputs": [
        {
          "output_type": "stream",
          "name": "stdout",
          "text": [
            "Resampled dataset shape Counter({2: 1795, 1: 1795, 0: 1795})\n"
          ]
        }
      ]
    },
    {
      "cell_type": "code",
      "source": [
        "ada = ADASYN(random_state = 0)\n",
        "X_syn, y_syn = ada.fit_resample(X, y)\n",
        "print(\"Resampled dataset shape from ADASYN %s\" % Counter(y_syn))"
      ],
      "metadata": {
        "colab": {
          "base_uri": "https://localhost:8080/"
        },
        "id": "nCtUacd-X-aA",
        "outputId": "295d92bb-59fb-4889-ed65-1679d786739e"
      },
      "execution_count": 38,
      "outputs": [
        {
          "output_type": "stream",
          "name": "stdout",
          "text": [
            "Resampled dataset shape from ADASYN Counter({1: 1805, 2: 1795, 0: 1795})\n"
          ]
        }
      ]
    },
    {
      "cell_type": "markdown",
      "source": [
        "### 2.5 특성변수의 선택\n",
        "+ 불필요한 특성변수를 제거하여 일반화가 가능한 모형을 구축하는데 중요한 역할을 함\n",
        "+ 특성변수가 너무 많아 차원을 줄이는데 기여하는 통계적 기법"
      ],
      "metadata": {
        "id": "MseW6dsDYQ9C"
      }
    },
    {
      "cell_type": "code",
      "source": [
        "from sklearn.datasets import load_digits\n",
        "from sklearn.feature_selection import SelectKBest, chi2, f_classif, mutual_info_classif\n",
        "x, y = load_digits(return_X_y = True)\n",
        "x.shape"
      ],
      "metadata": {
        "colab": {
          "base_uri": "https://localhost:8080/"
        },
        "id": "8mifwFqJYQ34",
        "outputId": "125678a1-45db-42a3-f3ce-52afab6b628b"
      },
      "execution_count": 39,
      "outputs": [
        {
          "output_type": "execute_result",
          "data": {
            "text/plain": [
              "(1797, 64)"
            ]
          },
          "metadata": {},
          "execution_count": 39
        }
      ]
    },
    {
      "cell_type": "code",
      "source": [
        "import numpy as np\n",
        "print(x[:2])\n",
        "print(np.unique(y))"
      ],
      "metadata": {
        "colab": {
          "base_uri": "https://localhost:8080/"
        },
        "id": "jKCiRVKXYQzm",
        "outputId": "60ea987d-07b9-4af5-e313-3458da0ffb0d"
      },
      "execution_count": 40,
      "outputs": [
        {
          "output_type": "stream",
          "name": "stdout",
          "text": [
            "[[ 0.  0.  5. 13.  9.  1.  0.  0.  0.  0. 13. 15. 10. 15.  5.  0.  0.  3.\n",
            "  15.  2.  0. 11.  8.  0.  0.  4. 12.  0.  0.  8.  8.  0.  0.  5.  8.  0.\n",
            "   0.  9.  8.  0.  0.  4. 11.  0.  1. 12.  7.  0.  0.  2. 14.  5. 10. 12.\n",
            "   0.  0.  0.  0.  6. 13. 10.  0.  0.  0.]\n",
            " [ 0.  0.  0. 12. 13.  5.  0.  0.  0.  0.  0. 11. 16.  9.  0.  0.  0.  0.\n",
            "   3. 15. 16.  6.  0.  0.  0.  7. 15. 16. 16.  2.  0.  0.  0.  0.  1. 16.\n",
            "  16.  3.  0.  0.  0.  0.  1. 16. 16.  6.  0.  0.  0.  0.  1. 16. 16.  6.\n",
            "   0.  0.  0.  0.  0. 11. 16. 10.  0.  0.]]\n",
            "[0 1 2 3 4 5 6 7 8 9]\n"
          ]
        }
      ]
    },
    {
      "cell_type": "code",
      "source": [
        "sb = SelectKBest(score_func = chi2, k = 20)\n",
        "x_new = sb.fit_transform(x, y)\n",
        "x_new.shape"
      ],
      "metadata": {
        "colab": {
          "base_uri": "https://localhost:8080/"
        },
        "id": "U2MtlG7vYQtN",
        "outputId": "91fbda92-a57e-4643-d648-61cdd4a63eb9"
      },
      "execution_count": 41,
      "outputs": [
        {
          "output_type": "execute_result",
          "data": {
            "text/plain": [
              "(1797, 20)"
            ]
          },
          "metadata": {},
          "execution_count": 41
        }
      ]
    },
    {
      "cell_type": "code",
      "source": [
        "sb.get_support()"
      ],
      "metadata": {
        "colab": {
          "base_uri": "https://localhost:8080/"
        },
        "id": "doByfyPmYQo8",
        "outputId": "ff67c705-0334-451e-924d-ce3185a2c8b1"
      },
      "execution_count": 42,
      "outputs": [
        {
          "output_type": "execute_result",
          "data": {
            "text/plain": [
              "array([False, False, False, False, False,  True,  True, False, False,\n",
              "       False, False, False, False,  True, False, False, False, False,\n",
              "       False,  True,  True,  True, False, False, False, False,  True,\n",
              "       False,  True, False,  True, False, False,  True,  True, False,\n",
              "       False, False, False, False, False,  True,  True,  True,  True,\n",
              "       False,  True, False, False, False, False, False, False, False,\n",
              "        True, False, False, False,  True, False, False,  True,  True,\n",
              "       False])"
            ]
          },
          "metadata": {},
          "execution_count": 42
        }
      ]
    },
    {
      "cell_type": "code",
      "source": [
        "sb.scores_"
      ],
      "metadata": {
        "colab": {
          "base_uri": "https://localhost:8080/"
        },
        "id": "klZ979zrYQfX",
        "outputId": "161590fe-79dd-442d-af5e-1a29c65d9186"
      },
      "execution_count": 43,
      "outputs": [
        {
          "output_type": "execute_result",
          "data": {
            "text/plain": [
              "array([          nan,  811.90700411, 3501.28249552,  698.9252572 ,\n",
              "        438.52969882, 3879.81925999, 3969.45823205, 1193.5608181 ,\n",
              "         24.79521396, 2953.83108764, 2583.65198939,  388.24205944,\n",
              "        824.69094853, 3676.48924765, 1983.5796061 ,  597.24198237,\n",
              "          8.95886124, 1924.21690377, 2409.27140681, 3556.31594594,\n",
              "       4871.94194551, 4782.19921618, 2155.17378998,  376.76583333,\n",
              "          7.90090158, 2471.82418401, 4515.48149826, 2986.64314847,\n",
              "       3724.09567634, 3208.64686641, 5138.07412439,   35.71270718,\n",
              "                 nan, 5688.25079535, 5262.46646904, 3165.0605867 ,\n",
              "       3231.63943369, 2532.99695611, 3288.81403655,           nan,\n",
              "        142.85082873, 3863.85787901, 6416.0867248 , 5448.25154235,\n",
              "       4079.73153383, 2134.02540236, 4486.34097862,  313.53898127,\n",
              "         70.39927392,  449.72327313, 2801.97224468, 1527.54519627,\n",
              "       1653.15892311, 3073.99803898, 5251.21748723,  683.88227339,\n",
              "          9.15254237,  851.06791492, 3800.2473108 ,  730.92975659,\n",
              "       1859.53966338, 4379.2250408 , 5059.00551511, 2281.32864013])"
            ]
          },
          "metadata": {},
          "execution_count": 43
        }
      ]
    },
    {
      "cell_type": "code",
      "source": [
        "sb.pvalues_"
      ],
      "metadata": {
        "colab": {
          "base_uri": "https://localhost:8080/"
        },
        "id": "76Q1FAmQaJtl",
        "outputId": "1fc30554-7f56-4c86-edcf-e47d74ee55f5"
      },
      "execution_count": 44,
      "outputs": [
        {
          "output_type": "execute_result",
          "data": {
            "text/plain": [
              "array([            nan, 5.81310493e-169, 0.00000000e+000, 1.17740541e-144,\n",
              "       8.11314242e-089, 0.00000000e+000, 0.00000000e+000, 2.97727113e-251,\n",
              "       3.20626273e-003, 0.00000000e+000, 0.00000000e+000, 4.41344943e-078,\n",
              "       1.02825052e-171, 0.00000000e+000, 0.00000000e+000, 8.18335060e-123,\n",
              "       4.41080315e-001, 0.00000000e+000, 0.00000000e+000, 0.00000000e+000,\n",
              "       0.00000000e+000, 0.00000000e+000, 0.00000000e+000, 1.23435651e-075,\n",
              "       5.44163062e-001, 0.00000000e+000, 0.00000000e+000, 0.00000000e+000,\n",
              "       0.00000000e+000, 0.00000000e+000, 0.00000000e+000, 4.45801029e-005,\n",
              "                   nan, 0.00000000e+000, 0.00000000e+000, 0.00000000e+000,\n",
              "       0.00000000e+000, 0.00000000e+000, 0.00000000e+000,             nan,\n",
              "       2.65875300e-026, 0.00000000e+000, 0.00000000e+000, 0.00000000e+000,\n",
              "       0.00000000e+000, 0.00000000e+000, 0.00000000e+000, 3.49452723e-062,\n",
              "       1.27145348e-011, 3.28604761e-091, 0.00000000e+000, 0.00000000e+000,\n",
              "       0.00000000e+000, 0.00000000e+000, 0.00000000e+000, 2.01600539e-141,\n",
              "       4.23314114e-001, 2.14859356e-177, 0.00000000e+000, 1.54562173e-151,\n",
              "       0.00000000e+000, 0.00000000e+000, 0.00000000e+000, 0.00000000e+000])"
            ]
          },
          "metadata": {},
          "execution_count": 44
        }
      ]
    },
    {
      "cell_type": "code",
      "source": [
        "# !pip install plotly"
      ],
      "metadata": {
        "id": "KgWkGhouaMSq"
      },
      "execution_count": 45,
      "outputs": []
    },
    {
      "cell_type": "code",
      "source": [
        "from sklearn.pipeline import make_pipeline\n",
        "from sklearn.decomposition import PCA\n",
        "import pandas as pd\n",
        "import plotly.express as px\n",
        "md1 = make_pipeline(SelectKBest(k = 30), PCA(n_components = 3))\n",
        "x_new = md1.fit_transform(x, y)"
      ],
      "metadata": {
        "colab": {
          "base_uri": "https://localhost:8080/"
        },
        "id": "Zymn96zYaUO1",
        "outputId": "c3a70725-2a68-4df1-cdb4-3af3368004de"
      },
      "execution_count": 46,
      "outputs": [
        {
          "output_type": "stream",
          "name": "stderr",
          "text": [
            "/usr/local/lib/python3.7/dist-packages/sklearn/feature_selection/_univariate_selection.py:112: UserWarning:\n",
            "\n",
            "Features [ 0 32 39] are constant.\n",
            "\n",
            "/usr/local/lib/python3.7/dist-packages/sklearn/feature_selection/_univariate_selection.py:113: RuntimeWarning:\n",
            "\n",
            "invalid value encountered in true_divide\n",
            "\n"
          ]
        }
      ]
    },
    {
      "cell_type": "code",
      "source": [
        "df1 = pd.DataFrame({\"X\" : x_new[:, 0], \"Y\" : x_new[:, 1], \"Z\" : x_new[:, 2], \"C\" : y})\n",
        "df1.head()"
      ],
      "metadata": {
        "colab": {
          "base_uri": "https://localhost:8080/",
          "height": 206
        },
        "id": "RvbuG8_iaqBj",
        "outputId": "a9fd9134-84bf-49a9-87d6-d858b1ee2b23"
      },
      "execution_count": 47,
      "outputs": [
        {
          "output_type": "execute_result",
          "data": {
            "text/plain": [
              "           X          Y          Z  C\n",
              "0   0.276804  21.055844 -12.080075  0\n",
              "1   3.802508 -20.682673   8.282906  1\n",
              "2   2.109102  -6.277950   2.485254  2\n",
              "3 -12.256676   4.399914  14.435489  3\n",
              "4  21.242481  -0.851893  -1.784786  4"
            ],
            "text/html": [
              "\n",
              "  <div id=\"df-81e05581-eac4-462f-a425-141ed56e6028\">\n",
              "    <div class=\"colab-df-container\">\n",
              "      <div>\n",
              "<style scoped>\n",
              "    .dataframe tbody tr th:only-of-type {\n",
              "        vertical-align: middle;\n",
              "    }\n",
              "\n",
              "    .dataframe tbody tr th {\n",
              "        vertical-align: top;\n",
              "    }\n",
              "\n",
              "    .dataframe thead th {\n",
              "        text-align: right;\n",
              "    }\n",
              "</style>\n",
              "<table border=\"1\" class=\"dataframe\">\n",
              "  <thead>\n",
              "    <tr style=\"text-align: right;\">\n",
              "      <th></th>\n",
              "      <th>X</th>\n",
              "      <th>Y</th>\n",
              "      <th>Z</th>\n",
              "      <th>C</th>\n",
              "    </tr>\n",
              "  </thead>\n",
              "  <tbody>\n",
              "    <tr>\n",
              "      <th>0</th>\n",
              "      <td>0.276804</td>\n",
              "      <td>21.055844</td>\n",
              "      <td>-12.080075</td>\n",
              "      <td>0</td>\n",
              "    </tr>\n",
              "    <tr>\n",
              "      <th>1</th>\n",
              "      <td>3.802508</td>\n",
              "      <td>-20.682673</td>\n",
              "      <td>8.282906</td>\n",
              "      <td>1</td>\n",
              "    </tr>\n",
              "    <tr>\n",
              "      <th>2</th>\n",
              "      <td>2.109102</td>\n",
              "      <td>-6.277950</td>\n",
              "      <td>2.485254</td>\n",
              "      <td>2</td>\n",
              "    </tr>\n",
              "    <tr>\n",
              "      <th>3</th>\n",
              "      <td>-12.256676</td>\n",
              "      <td>4.399914</td>\n",
              "      <td>14.435489</td>\n",
              "      <td>3</td>\n",
              "    </tr>\n",
              "    <tr>\n",
              "      <th>4</th>\n",
              "      <td>21.242481</td>\n",
              "      <td>-0.851893</td>\n",
              "      <td>-1.784786</td>\n",
              "      <td>4</td>\n",
              "    </tr>\n",
              "  </tbody>\n",
              "</table>\n",
              "</div>\n",
              "      <button class=\"colab-df-convert\" onclick=\"convertToInteractive('df-81e05581-eac4-462f-a425-141ed56e6028')\"\n",
              "              title=\"Convert this dataframe to an interactive table.\"\n",
              "              style=\"display:none;\">\n",
              "        \n",
              "  <svg xmlns=\"http://www.w3.org/2000/svg\" height=\"24px\"viewBox=\"0 0 24 24\"\n",
              "       width=\"24px\">\n",
              "    <path d=\"M0 0h24v24H0V0z\" fill=\"none\"/>\n",
              "    <path d=\"M18.56 5.44l.94 2.06.94-2.06 2.06-.94-2.06-.94-.94-2.06-.94 2.06-2.06.94zm-11 1L8.5 8.5l.94-2.06 2.06-.94-2.06-.94L8.5 2.5l-.94 2.06-2.06.94zm10 10l.94 2.06.94-2.06 2.06-.94-2.06-.94-.94-2.06-.94 2.06-2.06.94z\"/><path d=\"M17.41 7.96l-1.37-1.37c-.4-.4-.92-.59-1.43-.59-.52 0-1.04.2-1.43.59L10.3 9.45l-7.72 7.72c-.78.78-.78 2.05 0 2.83L4 21.41c.39.39.9.59 1.41.59.51 0 1.02-.2 1.41-.59l7.78-7.78 2.81-2.81c.8-.78.8-2.07 0-2.86zM5.41 20L4 18.59l7.72-7.72 1.47 1.35L5.41 20z\"/>\n",
              "  </svg>\n",
              "      </button>\n",
              "      \n",
              "  <style>\n",
              "    .colab-df-container {\n",
              "      display:flex;\n",
              "      flex-wrap:wrap;\n",
              "      gap: 12px;\n",
              "    }\n",
              "\n",
              "    .colab-df-convert {\n",
              "      background-color: #E8F0FE;\n",
              "      border: none;\n",
              "      border-radius: 50%;\n",
              "      cursor: pointer;\n",
              "      display: none;\n",
              "      fill: #1967D2;\n",
              "      height: 32px;\n",
              "      padding: 0 0 0 0;\n",
              "      width: 32px;\n",
              "    }\n",
              "\n",
              "    .colab-df-convert:hover {\n",
              "      background-color: #E2EBFA;\n",
              "      box-shadow: 0px 1px 2px rgba(60, 64, 67, 0.3), 0px 1px 3px 1px rgba(60, 64, 67, 0.15);\n",
              "      fill: #174EA6;\n",
              "    }\n",
              "\n",
              "    [theme=dark] .colab-df-convert {\n",
              "      background-color: #3B4455;\n",
              "      fill: #D2E3FC;\n",
              "    }\n",
              "\n",
              "    [theme=dark] .colab-df-convert:hover {\n",
              "      background-color: #434B5C;\n",
              "      box-shadow: 0px 1px 3px 1px rgba(0, 0, 0, 0.15);\n",
              "      filter: drop-shadow(0px 1px 2px rgba(0, 0, 0, 0.3));\n",
              "      fill: #FFFFFF;\n",
              "    }\n",
              "  </style>\n",
              "\n",
              "      <script>\n",
              "        const buttonEl =\n",
              "          document.querySelector('#df-81e05581-eac4-462f-a425-141ed56e6028 button.colab-df-convert');\n",
              "        buttonEl.style.display =\n",
              "          google.colab.kernel.accessAllowed ? 'block' : 'none';\n",
              "\n",
              "        async function convertToInteractive(key) {\n",
              "          const element = document.querySelector('#df-81e05581-eac4-462f-a425-141ed56e6028');\n",
              "          const dataTable =\n",
              "            await google.colab.kernel.invokeFunction('convertToInteractive',\n",
              "                                                     [key], {});\n",
              "          if (!dataTable) return;\n",
              "\n",
              "          const docLinkHtml = 'Like what you see? Visit the ' +\n",
              "            '<a target=\"_blank\" href=https://colab.research.google.com/notebooks/data_table.ipynb>data table notebook</a>'\n",
              "            + ' to learn more about interactive tables.';\n",
              "          element.innerHTML = '';\n",
              "          dataTable['output_type'] = 'display_data';\n",
              "          await google.colab.output.renderOutput(dataTable, element);\n",
              "          const docLink = document.createElement('div');\n",
              "          docLink.innerHTML = docLinkHtml;\n",
              "          element.appendChild(docLink);\n",
              "        }\n",
              "      </script>\n",
              "    </div>\n",
              "  </div>\n",
              "  "
            ]
          },
          "metadata": {},
          "execution_count": 47
        }
      ]
    },
    {
      "cell_type": "code",
      "source": [
        "fig = px.scatter_3d(df1, x = \"X\", y = \"Y\", z = \"Z\", color = \"C\")\n",
        "fig.show()"
      ],
      "metadata": {
        "colab": {
          "base_uri": "https://localhost:8080/",
          "height": 542
        },
        "id": "EsvU6peVa5MR",
        "outputId": "2e7a7803-fd33-490b-e316-60264497721f"
      },
      "execution_count": 48,
      "outputs": [
        {
          "output_type": "display_data",
          "data": {
            "text/html": [
              "<html>\n",
              "<head><meta charset=\"utf-8\" /></head>\n",
              "<body>\n",
              "    <div>            <script src=\"https://cdnjs.cloudflare.com/ajax/libs/mathjax/2.7.5/MathJax.js?config=TeX-AMS-MML_SVG\"></script><script type=\"text/javascript\">if (window.MathJax) {MathJax.Hub.Config({SVG: {font: \"STIX-Web\"}});}</script>                <script type=\"text/javascript\">window.PlotlyConfig = {MathJaxConfig: 'local'};</script>\n",
              "        <script src=\"https://cdn.plot.ly/plotly-2.8.3.min.js\"></script>                <div id=\"86f6e125-ea40-460e-820a-42462342c245\" class=\"plotly-graph-div\" style=\"height:525px; width:100%;\"></div>            <script type=\"text/javascript\">                                    window.PLOTLYENV=window.PLOTLYENV || {};                                    if (document.getElementById(\"86f6e125-ea40-460e-820a-42462342c245\")) {                    Plotly.newPlot(                        \"86f6e125-ea40-460e-820a-42462342c245\",                        [{\"hovertemplate\":\"X=%{x}<br>Y=%{y}<br>Z=%{z}<br>C=%{marker.color}<extra></extra>\",\"legendgroup\":\"\",\"marker\":{\"color\":[0,1,2,3,4,5,6,7,8,9,0,1,2,3,4,5,6,7,8,9,0,1,2,3,4,5,6,7,8,9,0,9,5,5,6,5,0,9,8,9,8,4,1,7,7,3,5,1,0,0,2,2,7,8,2,0,1,2,6,3,3,7,3,3,4,6,6,6,4,9,1,5,0,9,5,2,8,2,0,0,1,7,6,3,2,1,7,4,6,3,1,3,9,1,7,6,8,4,3,1,4,0,5,3,6,9,6,1,7,5,4,4,7,2,8,2,2,5,7,9,5,4,8,8,4,9,0,8,9,8,0,1,2,3,4,5,6,7,8,9,0,1,2,3,4,5,6,7,8,9,0,1,2,3,4,5,6,7,8,9,0,9,5,5,6,5,0,9,8,9,8,4,1,7,7,3,5,1,0,0,2,2,7,8,2,0,1,2,6,3,3,7,3,3,4,6,6,6,4,9,1,5,0,9,5,2,8,2,0,0,1,7,6,3,2,1,7,3,1,3,9,1,7,6,8,4,3,1,4,0,5,3,6,9,6,1,7,5,4,4,7,2,8,2,2,5,5,4,8,8,4,9,0,8,9,8,0,1,2,3,4,5,6,7,8,9,0,1,2,3,4,5,6,7,8,9,0,1,2,3,4,5,6,7,8,9,0,9,5,5,6,5,0,9,8,9,8,4,1,7,7,3,5,1,0,0,2,2,7,8,2,0,1,2,6,3,3,7,3,3,4,6,6,6,4,9,1,5,0,9,5,2,8,2,0,0,1,7,6,3,2,1,7,4,6,3,1,3,9,1,7,6,8,4,3,1,4,0,5,3,6,9,6,1,7,5,4,4,7,2,8,2,2,5,7,9,5,4,8,8,4,9,0,8,9,3,0,1,2,3,4,5,6,7,8,9,0,1,2,3,4,5,6,7,8,9,0,1,2,3,4,5,6,7,8,9,0,9,5,5,6,5,0,9,8,9,8,4,1,7,7,3,5,1,0,0,2,2,7,8,2,0,1,2,6,3,3,7,3,3,4,6,6,6,4,9,1,5,0,9,5,2,8,2,0,0,1,7,6,3,2,1,7,4,6,3,1,3,9,1,7,6,8,4,3,1,4,0,5,3,6,9,6,1,7,5,4,4,7,2,8,2,2,5,7,9,5,4,8,8,4,9,0,8,9,8,0,1,2,3,4,5,6,7,8,9,0,1,2,3,4,5,6,7,8,9,0,1,2,3,4,5,6,7,8,9,0,9,5,5,6,5,0,9,8,9,8,4,1,7,7,3,5,1,0,0,2,2,7,8,2,0,1,2,6,3,3,7,3,3,4,6,6,6,4,9,1,5,0,9,5,2,8,2,0,0,1,7,6,3,2,1,7,4,6,3,1,3,9,1,7,6,8,4,3,1,4,0,5,3,6,9,6,1,7,5,4,4,7,2,8,2,2,5,7,9,5,4,8,8,4,9,0,8,9,8,0,1,2,3,4,5,6,7,8,9,0,1,2,3,4,5,6,7,8,9,0,1,2,3,4,5,6,7,8,9,0,9,5,5,6,5,0,9,8,9,8,4,1,7,7,3,5,1,0,0,2,2,7,8,2,0,1,2,6,3,3,7,3,3,4,6,6,6,4,9,1,5,0,9,5,2,8,2,0,0,1,7,6,3,2,1,7,4,6,3,1,3,9,1,7,6,8,4,3,1,4,0,5,3,6,9,6,1,7,5,4,4,7,2,8,2,2,5,7,9,5,4,8,8,4,9,0,8,9,8,0,1,2,3,4,5,6,7,8,9,0,1,2,3,4,5,6,7,8,9,0,1,2,3,4,5,6,7,8,9,0,9,5,5,6,5,0,9,8,9,8,4,1,7,7,3,5,1,0,0,2,2,7,8,2,0,1,2,6,3,3,7,3,3,4,6,6,6,4,9,1,5,0,9,5,2,8,2,0,0,1,7,6,3,2,1,7,4,6,3,1,3,9,1,7,6,8,4,3,1,4,0,5,3,6,9,6,1,7,5,4,4,7,2,8,2,2,5,7,9,5,4,8,8,4,9,0,8,9,8,1,2,3,4,5,6,7,8,9,0,1,2,3,4,5,6,7,8,9,0,1,2,3,4,5,6,7,8,9,0,9,5,5,6,5,0,9,8,9,8,4,1,7,7,3,5,1,2,7,8,2,0,1,2,6,3,3,7,3,3,4,6,6,6,4,9,1,5,0,9,5,2,8,2,0,0,1,7,6,3,2,1,4,6,3,1,3,9,1,7,6,8,4,3,1,4,0,5,3,6,9,6,1,7,5,4,4,7,2,8,2,2,5,7,9,5,4,4,9,0,8,9,8,0,1,2,3,4,5,6,7,8,9,0,1,2,3,4,5,6,7,8,9,0,1,2,3,4,5,6,7,8,9,0,9,5,5,6,5,0,9,8,9,8,4,1,7,7,3,5,1,0,0,7,8,2,0,1,2,6,3,3,7,3,3,4,6,6,6,4,9,1,5,0,9,5,2,8,2,0,0,1,7,6,3,2,1,7,4,6,3,1,3,9,1,7,6,8,4,3,1,4,0,5,3,6,9,6,1,7,5,4,4,7,2,8,2,2,5,7,9,5,4,8,8,4,9,0,8,9,8,0,1,2,3,4,5,6,7,8,9,0,1,2,3,4,5,6,7,8,9,0,1,2,3,4,5,6,7,8,9,0,9,5,5,6,5,0,9,8,9,8,4,1,7,7,3,5,1,0,0,2,2,7,8,2,0,1,2,6,3,3,7,3,3,4,6,6,6,4,9,1,5,0,9,5,2,8,2,0,0,1,7,6,3,2,1,7,4,6,3,1,3,9,1,7,6,8,4,3,1,4,0,5,3,6,9,6,1,7,5,4,4,7,2,8,2,2,5,7,9,5,4,8,8,4,9,0,8,9,8,0,1,2,3,4,5,6,7,8,9,0,1,2,3,4,5,6,7,8,9,0,1,2,3,4,5,6,7,8,9,0,9,5,5,6,5,0,9,8,9,8,4,1,7,7,3,5,1,0,0,2,2,7,8,2,0,1,2,6,3,3,7,3,3,4,6,6,6,4,9,1,5,0,9,5,2,8,2,0,0,1,7,6,3,2,1,7,4,6,3,1,3,9,1,7,6,8,4,3,1,4,0,5,3,6,9,6,1,7,5,4,4,7,2,8,2,2,5,7,9,5,4,8,8,4,9,0,8,0,1,2,3,4,5,6,7,8,9,0,1,2,3,4,5,6,7,8,9,0,1,2,3,4,5,6,7,8,9,0,9,5,5,6,5,0,9,8,9,8,4,1,7,7,3,5,1,0,0,2,2,7,8,2,0,1,2,6,3,3,7,3,3,4,6,6,6,4,9,1,5,0,9,5,2,8,2,0,0,1,7,6,3,2,1,7,4,6,3,1,3,9,1,7,6,8,4,3,1,4,0,5,3,6,9,6,1,7,5,4,4,7,2,8,2,2,5,7,9,5,4,8,8,4,9,0,8,9,8,0,1,2,3,4,5,6,7,8,9,0,1,2,3,4,5,6,9,0,1,2,3,4,5,6,7,8,9,0,9,5,5,6,5,0,9,8,9,8,4,1,7,7,3,5,1,0,0,2,2,7,8,2,0,1,2,6,3,3,7,3,3,4,6,6,6,4,9,1,5,0,9,5,2,8,0,1,7,6,3,2,1,7,4,6,3,1,3,9,1,7,6,8,4,3,1,4,0,5,3,6,9,6,1,7,5,4,4,7,2,2,5,7,9,5,4,4,9,0,8,9,8,0,1,2,3,4,5,6,7,8,9,0,1,2,3,4,5,6,7,8,9,0,1,2,3,4,5,6,7,8,9,0,9,5,5,6,5,0,9,8,9,8,4,1,7,7,3,5,1,0,0,2,2,7,8,2,0,1,2,6,3,3,7,3,3,4,6,6,6,4,9,1,5,0,9,5,2,8,2,0,0,1,7,6,3,2,1,7,4,6,3,1,3,9,1,7,6,8,4,3,1,4,0,5,3,6,9,6,1,7,5,4,4,7,2,8,2,2,5,7,9,5,4,8,8,4,9,0,8,9,8],\"coloraxis\":\"coloraxis\",\"symbol\":\"circle\"},\"mode\":\"markers\",\"name\":\"\",\"scene\":\"scene\",\"showlegend\":false,\"x\":[0.27680397277110774,3.8025083432550044,2.1091015899135654,-12.25667631434592,21.242481432227585,-15.276765453479182,21.676703874317788,-6.447181695763293,-3.5019681078931284,-5.133945736208936,11.139326888182472,-2.8158461640665315,-4.084593204973729,-23.920811094831063,22.17669920854762,-1.5503049346114297,17.29504217634734,2.5634267670451174,-3.9983856341184505,-12.125695032406142,7.051547236518489,-5.6353655740928295,-6.8122449222747985,-20.807382941244896,15.661362777072526,5.558087658367989,22.9118616073778,1.1258053601446523,-1.472262697795825,-14.736158126929297,3.8203646268016582,-13.074345050175866,-5.274651140850622,-8.4991580402785,17.37836843039869,-5.371391929247336,7.214361964911057,-11.513739628781817,-0.6033585593578409,-17.067015837173802,-5.614872339209813,22.339614412676454,-1.6017515604584545,2.2477615226843657,-5.5697112879129325,-19.970951545889776,-0.09139698411223134,-4.726208304560713,7.992069183939296,5.483840401388409,-2.4532296047508755,1.3783476835006871,3.546603943943252,-0.785650970752096,6.094919213097313,9.59285290815341,-2.98282503568633,0.9372162306943651,24.25792051655837,-19.54041018017778,-22.829827921991786,2.6542416644692612,-24.867819339294012,-22.84781035343095,26.973143775030486,22.875028044767973,21.798442546035364,18.851877902023364,15.754048755059854,-8.194620521569934,1.7876166163071567,-6.872854406882947,7.98378246177327,-16.87106364791358,-0.269836092510094,-1.6051550797859953,3.925889049802806,1.1885776805423538,0.600574272783947,1.7800722858454103,-5.154864534886721,-2.1174403493690965,22.530260948138228,-21.806001496055323,-1.006441935027988,1.5778722553993343,3.865201490564022,15.960361184142073,22.056689854249647,-25.229483251975672,-2.31229389205822,-22.01855150773043,-19.34958598653484,8.68079808708036,-2.18699761420926,19.600650278509992,4.97707289232035,19.280864905005064,-26.2676698780171,18.42301688352757,20.81594358183845,9.963455715446345,0.7544132010337221,-14.964529850861052,24.447349988273054,-16.636585855046235,16.997548803932222,-6.0318162417804615,1.6680263573811238,1.3427362465619932,15.203232967707272,17.170927183589598,0.31779480697732365,-2.6654464341340622,1.1170489207071717,-0.012345617430432275,-6.00192439739338,-3.3033071261041016,-2.220152733545257,-11.977714319753145,-4.909095772037946,13.045482462130932,-2.6622736984902615,-4.623796234931132,22.060636123454604,-15.066499527004506,8.755471768192146,1.2769177404288357,-17.38532342974024,3.269499515511735,4.529318369825249,-8.939358808624435,-4.924961913707922,-21.32407776913575,13.38808942890872,1.6106641751469464,19.154222494937237,-1.5119206685931554,1.636973668610281,-16.93191053706665,3.6093910304250176,-2.3880081756923293,-9.112178057867004,-27.359400218446943,19.181886693481427,-4.971420597463988,18.967202748779954,1.7942187051612695,4.882831721168136,-18.19807547539584,10.074177506629233,-6.702020798835515,-12.81199018231305,-18.029923615418745,15.870921059114076,9.53112109415298,21.767160443303585,2.286296884743954,6.332537210910289,-17.120383044173565,6.530387205937177,-14.234646550853107,1.8058220542749754,7.478590740051236,20.991320497735025,5.064414714824846,6.657985014435426,-14.520708301282376,3.0054006396541024,-15.256188452452406,2.5767283933214755,22.690524677652082,-8.637406050792308,-2.692185692316255,-6.286788472286157,-21.674545298955596,-0.9962784249632506,-5.647653167783698,5.629888650753541,9.371503846808611,-7.264123080918458,-8.687551584581874,-1.6927975281312366,-3.7352357800485185,2.0541338974701966,11.566229061128427,-4.191648862521124,-1.978924955890466,19.36147384573322,-26.068887200271156,-20.591093536098253,6.260005520313681,-22.180189063440263,-21.864551667891355,16.958203313733147,24.135667708402778,21.470076831643855,22.30280064194782,18.2788042928177,-10.198809192258988,2.481708593489853,1.977463638332508,8.150967162545845,-15.534476351151087,7.117745817197173,-11.222287765475201,-1.4230237600241686,-6.005151784609581,14.209596604702817,11.992844825136363,-4.4062166898218225,-1.5834652636526467,20.624207220365616,-22.94697970642917,-3.127443777038785,-3.3914637149568585,3.594644933151807,-21.618631691464923,-5.714118378914759,-21.956817438036367,-13.396480153239464,2.3534103657111833,-4.293884727821354,19.57186955933099,0.6727240471510734,23.482444744267866,-21.097045030198007,-0.8888774397092102,20.897441108999622,2.690075936973735,0.7560903683874988,-16.638073181921783,18.848354061913263,-14.517658383891131,13.814154879082134,3.201054394749833,-1.9590152216799526,9.235638962754658,17.396083674535376,17.7397646970432,3.859499396022436,4.76024323952192,2.1395257654943185,2.0036371788343565,-3.8792234094482465,5.465402314306343,3.3864785593629407,13.398695562312998,-0.3583615376181919,-1.3501014068069357,18.660870901101315,-6.783417130138495,9.502629321827769,-3.276266881588401,-4.968371121675933,5.123721615566056,6.105034382391223,8.097754672935029,-7.11593266945852,-16.012521452770173,18.283386606349488,-11.256514816365964,17.919033522307906,-8.590792362280549,-5.691456111886724,-9.60049560059661,4.635737768928698,4.275694882766874,-6.670907142585981,-15.207177011274077,24.1641189852306,-4.933846774982758,21.18985464216913,-0.8281760416371705,1.319127267500108,-6.045767160414428,2.74531208665983,8.232388273294518,-8.57953533780561,-19.665753750170516,22.08688005519223,-9.072043881860749,17.24499657866682,5.069579712707633,6.814304820570755,-20.836273785310713,7.56494832899786,-17.725067602193093,-8.769991755047972,-3.6092722611642243,19.108995174169344,-4.836992081623581,-0.7287769359321167,-14.397837242794882,-1.2616877559761575,-13.592009948374146,0.5179379436948418,24.89660081410341,12.578517793611727,-5.070858219118149,-1.7943482293855135,-21.00398946223035,-7.300800436062742,5.581065845897887,7.217643969372881,2.8201884974807423,-5.552139922445253,-6.688394333899677,-9.963559787400529,-6.175861036661581,-9.908405184439376,3.17780066697315,1.1606866444828274,-6.33568868473468,8.252322093752577,-13.268453702976549,-22.51207900268647,-0.03564831730653551,-23.053196081420396,-19.083443051930537,27.663596933921106,18.317549813581046,18.777365254990503,21.27647228221797,26.40638256759559,-7.1933605943182135,9.581116984390597,6.483113566874205,3.4963311147393084,-8.380380649471071,-6.491310668684952,-12.556289365796426,-2.29396221422948,-9.504354044207766,4.802738205355678,1.9201625332498216,2.85530465812526,0.16719693587465514,21.038509625879,-19.877025377323633,-13.060868307169727,3.097825618061908,-0.9707224044672906,25.390849692478145,16.999022158769833,-24.65717830606839,7.167771647187132,-12.690447886291343,-9.44766499891832,7.80597706863636,-2.4581681874619634,19.73190440542393,1.8078415199996467,28.577858720579638,-5.350906775195045,-0.6836465841976734,18.22075383587207,3.175643785677905,-9.167154117853244,-20.89569209178672,20.568466415633786,-9.767966601481625,17.319977808464145,16.619116216855506,4.493889361444524,-7.219105371786882,28.480945442748414,25.865029368394094,-2.655896263155468,-9.943019813416496,-4.572227648301435,-7.502502723150731,-8.523659263576517,-10.392694516820237,1.601934488227699,-4.011876405361644,0.1375318013851642,28.622188015151572,-2.159706202964828,-4.246065118151885,24.27694458197626,-2.680755490767818,4.342534333781749,3.281291233131919,-3.668180732558648,-21.537690171525117,-1.6358237806817322,-12.033199149576987,-7.961018613637423,-22.801357263327983,13.975675763248175,-11.7095151916883,21.26161049565257,-0.8130653742089553,-2.9556873172652662,-20.140156682665484,1.504436293080094,-3.589518494637544,-8.654457724895408,-13.87621270934283,18.707012932257044,-3.017922668420365,13.10359904461294,-0.07529665111814832,-4.975559849147908,-13.36019442373461,6.230246235027896,-2.4830506649389026,-6.373651039268812,-9.312903559126198,18.53853847558182,-2.495891380311619,16.26468966569983,4.207472551361619,4.309366710268275,-14.780895156701801,7.015889110251797,-8.502638062307852,-14.44557193672961,-2.422326976416693,8.972473464795176,-13.945089773840271,0.2089735962003302,-9.866952736997352,-4.311172168722322,-18.752302825222152,-5.144309951049025,15.476284291929337,-7.764598130469379,3.8801637097706454,-6.585353497429357,-17.817802459344914,-4.289630176326611,-3.9293443507128964,6.444850704572881,6.337185800343098,-10.613749921899512,-11.756521803285393,0.18533046044101123,-9.045467818257501,-12.090268312349545,-0.8937760223395609,-1.0791687205851994,-11.60732768718322,11.703124493684339,-15.087758864586881,-8.59788039143276,3.9623834988504174,-12.133228432464483,-11.420713232290536,18.94512304931655,20.107151494310948,17.87440109672273,18.2900788941601,16.826710693931307,-17.682908691181954,-6.57440620037837,-6.675571710546494,3.7269232412043576,-11.174129671254253,-5.4805608671400226,-7.156928601101886,-8.065296054555926,-8.514189862311076,1.7104821909965884,3.3885156144839432,1.1983343442410974,7.071485669921976,22.49891392724376,-10.090927047324056,-5.988470367452281,8.166782293999074,-7.143590671883238,14.434979408546956,14.391570536095156,-10.662752110538538,-5.757186798507085,-14.579024037174417,-12.059288749824017,-4.160592311010912,-5.753497426693593,12.88400312635841,-0.4066892664679148,17.53519445288646,-12.369068089683218,-3.62327851670189,16.728638133823615,3.570212493931046,-7.12187592318242,-11.126373960018567,21.05171335781185,-5.4365580517594685,18.964865439446143,-4.108236863292096,2.2975464039324596,-5.0457730203006985,10.541184708449471,17.89767908008303,0.10193404662099227,-5.118298322584405,0.8834536586624804,-10.740192554415058,-1.9296831988204193,1.1232422950910101,-4.016979892337887,-10.055703837648954,7.112916368602814,16.263637208739464,-3.353630960677344,-0.22928519687205698,15.438153323669889,-14.79460493849403,1.7647876273555072,-4.492773986402789,-12.947098604403037,-8.319824307134136,-1.6114741830226826,-1.7322088169203562,-4.1763368624289825,-13.258136148281078,17.6318414132981,-1.3054293344854837,16.78897417185858,-6.346096117753557,-0.341671387501036,-6.537155475767224,0.9692607368429084,-0.5005333106272627,-5.149732239281098,-18.264565639828657,10.719370718887037,-6.639095459758244,15.82586653941812,-9.576911443335566,2.527431555605673,-8.924874084820484,-4.491792254223588,1.1271692304009227,-8.789877414976043,-10.156256356444732,20.321705377815555,-10.787552644941838,17.266232949457475,-5.7184435431969485,-3.3589639356464587,-9.407799402230221,2.0265011724644104,-8.051137557757835,-11.274636391010173,-9.168545293486385,17.4628716792679,-9.3216294717595,-3.0810125241930884,-18.628191608868708,2.706569650932815,-8.625581637947251,-1.8479835267621008,16.8437958657544,8.018913729700612,0.4991778700182048,-7.9115456851850645,-16.70525304943382,-10.558807856491796,11.710500537464304,0.7878304169185958,-0.4889965874145139,-8.587158594857327,-3.083550974812868,-6.4113363685509235,1.1134896569615638,-10.135164157147804,3.4273274691756366,10.061399197089703,-4.41467363517927,14.189792529738497,-13.913805622809738,-17.957922115091634,-5.312281039330961,-12.465214833517795,-12.542256676377113,22.4225537065383,14.947847504580958,19.936069307557027,14.794716644754327,13.813729310101914,-14.77357376636272,13.167695515053074,-5.9214054068115525,2.1922123892873415,-15.878891785876345,-3.138347112647908,-9.24492977495753,-1.5593706471974553,-7.196062796603281,-5.681781016361819,-0.6200897910423645,7.61539970792886,-7.528731223082716,15.125237928676817,-13.418974461272539,0.8075555351972163,5.250931455527565,-5.516763504904308,15.410442894544074,18.970752111813812,-11.323433110121934,9.216619996977885,-10.053800569927908,-7.9423169296748,-0.9508489719584846,1.1608323061965833,18.3275264087697,-0.19989657757604415,16.597987013688343,-17.53580606754224,6.5588873243512635,18.317128901722743,-5.845692140355575,-8.402999292815773,-16.475627279564236,20.586254170608242,-7.7710647637846675,15.46038591793375,-1.1122883862974329,-7.0159484735197,-8.14606886574248,13.499233110911339,21.483454576102478,-1.7690068352607002,-5.4336796654867525,4.387269483732074,-15.729462648841976,-5.311705632580567,-2.850911034451399,-10.67998747903279,-18.39107530408284,-8.12167665127462,12.123843850357025,-1.3256563964689487,-0.6666776114840509,14.248183029428626,-15.004826105285622,-0.09032135786918567,-0.24972002403001586,-14.081882496099352,2.058720222199827,4.759853007064953,5.349921647090159,-9.131297444384318,-17.427012239688704,19.10083334609588,4.679758430962084,19.560783841047414,-3.9857293401174996,-3.1868807398619294,-2.775394854396563,-0.816436047035472,12.725035061671925,-8.408908995694857,-18.30171808832715,23.32293624040066,4.907186389204257,21.38437074991309,-0.6544163351696378,3.3381075299729646,3.583250902618471,8.75919286097081,17.963337093061842,-11.277320039251823,-14.497694402077503,13.12429258322473,3.097734428644896,19.777964503494875,-1.851423718289408,-0.45881193975561907,-2.775073185541666,6.596986489294374,6.3696523292036495,18.547730117110106,6.483288184405581,23.836935973377006,8.957633187765847,1.4458593716916188,-5.085443734700215,-0.8091142424549546,3.7311403419434668,-1.5727684662355754,12.978482422508547,6.448554451036861,10.69508511917638,2.852899787691004,-13.401619348880667,4.78888504568671,6.120196836872829,7.3983241989401805,-0.16059024258577764,-14.712108890953663,-10.411910168935961,0.3771973993574691,0.6427528131840083,-12.081476582530426,11.556156691284553,-5.225332009038982,-10.946220908201038,14.958080492885346,-25.014154821220355,-21.72455627519138,-4.26138603383676,-22.798338097491197,-24.05040494871837,10.879355325703443,19.162108633914357,18.98339337255138,19.491561610411747,18.045931769231917,0.3938957416579096,12.025364506318837,11.348678494678998,7.3333797363735655,0.001362160074507934,12.250657949008037,-14.536101681462403,-1.9437491252402936,-5.072419067286436,6.0135555407441705,5.491025217542499,-6.182981032126293,-1.1531209717124697,21.32280066660379,-21.98906738923725,-5.211380599257394,7.736171304618942,5.332993456894993,20.737645847469516,20.234328414472404,-21.088840955461894,9.76613793549657,-3.6835341655160794,-3.661210127758991,10.414132352076972,2.9483706928217472,19.274996497337973,0.778288174712928,17.075029923128838,-7.290706461084259,10.649180340635764,5.275259688413149,5.121999784055384,-0.9550499484293654,-16.41927742730358,23.896679600245548,5.465723999771342,19.189883062010594,7.1475528260561,1.7384507372817213,2.6118110531136005,12.184611634850597,13.341130213211184,8.762695323670352,-12.778167633140963,7.620996706476485,-12.674645561518048,-10.102738072473427,8.883472114742071,-5.02729060672805,4.1972999691395785,8.092009610523228,19.79005001736661,-1.2781584816227567,8.376380948762431,10.466657627729703,-3.374731693365383,2.627775508882156,1.9435725700763504,1.767003329650638,4.542746804827611,-0.38592240739485006,-0.4308116486533249,-6.628069819565398,-1.2347388472997562,27.642647589012654,-2.927634309968281,11.368516796394202,-5.387553324271378,6.557709321692968,-17.646187172944536,0.849008668934436,-6.309506453011524,-9.736244356869415,-17.74402143878944,27.842354561838874,1.467310412620117,9.61184476474072,-4.622449436253773,5.114370170988679,-10.389712983202482,7.0217047206068814,-0.34983850704186714,-6.1449470268479285,-19.305052880674772,24.436594504203676,1.655247005881527,15.100322370408556,-8.62014298631347,7.939767799167045,-10.993605000998063,5.951159122443349,-15.71283547541841,-9.573666545728859,8.622842415919715,13.631772027128505,-4.396113358165914,4.870590715297977,-9.61876260752771,-5.299656594244452,-16.694773211059633,-6.710173849312318,25.549854293343515,10.030383577849591,-7.232708564129484,-6.350081136322204,-17.9747002051679,-0.8106191810534582,5.530886728325325,2.732936336089982,6.664220700658779,-11.023877546534317,3.276416847636089,1.8904245860996385,-1.6618486640838899,-6.283963246110402,6.278012658970884,0.774638794712586,-6.081385684284116,21.705860122408318,-13.054380744849587,-11.89086494310609,-9.56932831351074,-20.31733122331413,-17.785301289576577,24.2853739767627,20.42386342197038,15.810890577119393,11.897977108676933,26.82867587441496,-17.25989898180433,-4.414053041746528,-3.2834275959431096,8.105998823639489,-12.482398125528043,-2.8402078184452284,-0.476641608542507,-8.963841808008864,-0.8964173120593758,10.326304121955044,-3.1451624086353394,11.555525674589635,-6.72814777725053,22.2817571529201,-20.324613389093052,-13.552119807116252,7.869274347230868,-1.2020603332792612,22.05468417622504,13.002694960969523,-17.048101422660167,8.092111522723258,-20.100167410251466,-14.926939883604279,6.4357743378084376,-2.761549509214908,15.821358113611316,2.8678950222352126,22.828011953934432,-11.605633139190672,2.941031834899944,23.083883291909945,0.05662798967129931,-3.9415632611085,-18.340017503817656,18.191430292953584,-16.778707778399948,21.115288343737983,-0.5396576736341724,-2.300268308784613,3.825435675459103,25.310661627876016,26.396330296012714,-3.9737641767154095,-1.1307555827745828,-6.031942686682582,-9.76996620282161,-9.679115059989169,-9.81446970557437,-10.358803155870547,-16.033681027832344,-0.25726830762975345,28.576480981823156,-5.818380196325929,1.3492998378642507,24.81417428247705,-11.916456466549265,9.0453774134076,-2.4152572740330953,-20.00297093855764,10.31626921644663,3.295202080033444,-8.473652828062127,-16.84435296137728,25.70284695742403,-7.706578036149941,16.65263298662604,3.0452124708542923,-4.8564404809151345,-15.656626892575588,1.0691819519407786,-2.143594265898471,-3.7031844229695934,-14.159427403164841,26.047650209494623,-9.757313774700052,19.198554943028284,-4.80631332306438,-6.056434679502464,-15.50639358027477,-0.5075678888053705,6.860662423295634,-12.096926732812452,-17.06213693813967,17.46903410739074,-9.759805809155223,14.750060596043985,-2.5043088220226153,-1.8562136244622292,-16.884000990036157,4.394913135267644,-21.360201176755996,-9.947694191534865,-11.855257114222587,18.972157207484162,-10.961346952270203,-1.9450607289435506,-14.531960003171115,-5.9971557048266595,-17.33537967612395,-5.572031663986052,20.24091355579435,-8.688117649191238,2.203001166381988,-0.25993471125788026,-11.400107002924107,-10.349966820115698,-5.809962459398665,-11.247741344581355,1.241459640457482,-6.995257218841131,-13.509380429746022,-1.607967879153629,-1.2324211036834818,-10.708287925841724,14.20585612622737,-17.3235178270911,-16.356416645214804,-2.143070798033289,-12.914901517891538,-14.115555040800661,14.039068936028446,19.388520297262346,17.73908875691992,16.80760148025151,16.468100003571383,-16.41712990525677,-6.041143619990222,-12.149325608784883,-4.718601118665211,-16.538348070563558,-12.091363169007073,-14.598976118241021,-6.129073642165651,-12.518843250568208,-4.536297121619445,-3.1774175064532906,-4.312208093731798,-4.764601276289187,15.146980723779814,-7.617310080089181,-9.771172682150535,3.5533933145618977,20.11667172002214,20.690669792984554,-18.28309153353128,-3.1636273785204403,-12.5805901485732,-11.841788607045563,-4.630402683085704,2.648244897607786,17.393274329918068,-6.972693957092283,11.549263343988063,-14.58997289511706,-5.967518515726607,20.690871081544277,1.1591448156436601,-10.472869267975142,-13.351224522379871,19.76567102381194,-15.87616799353219,18.291195738442628,-0.9301977355282238,1.4388890636472627,-9.61287809043655,25.43507073424853,17.423301451833698,-2.440151593590521,-10.59304484055797,-1.3017707122157558,-12.314124835985488,-11.465332072112375,-8.350065107385833,-0.9258503635133357,-15.08506069973451,-12.104964370616408,9.646564784530645,21.346139054901073,-6.627228422564271,-7.507163608851221,-8.551358180955814,-16.04455872256685,-7.1465531586084285,3.540424548003738,2.1364931400171328,-6.885743481767871,-20.308118670058853,13.098902030607844,2.295136234311427,18.15189860986935,-7.924985443236759,2.5043950370302066,-14.767714639891803,6.728955750238884,4.545822584173814,-9.274459385411848,-20.412276703418286,10.401858465288967,-4.745761480986473,14.550589222273977,-1.4460850347768042,-9.726809719716861,-8.078810668960632,5.234197810644326,5.37926107882044,-13.722658576967076,-22.243536977733562,18.615554454113003,-4.6792094283799965,20.07693028480121,-1.273958309231865,-5.676543088384197,-9.786192958683012,2.6075180927845873,-8.51618872403602,3.9546633322446305,0.7591911112413436,18.85681792912924,8.516898634172811,9.051438526391971,-9.533890186882196,-1.4756423201218782,-8.907384858985091,-4.061782557492519,12.904021408484091,6.971083177590354,-5.564498753986236,-3.7889183480925155,-22.888644321481415,-5.868329929922544,9.975547788095742,5.7631891937045125,3.8175263746103343,-5.446420214558167,-7.18710865179228,-16.06295010848468,-1.6850426452406522,17.05178439980329,-13.698540742254647,18.638179490020114,-26.828177946017256,-26.56949365673424,-2.698738061547957,-25.249607490008415,-25.667219761988527,15.887572413425529,18.247680413621474,19.030042799217732,23.58279353609234,3.500545106820162,-8.16776372287645,3.796302166302976,1.7878057227150272,0.884662353619471,-8.995002863699208,2.9865741374003085,-13.175317383463602,-6.766078855871605,-18.88549787876332,3.716477824181034,4.080713440121139,11.6774843703002,-6.710010619233176,24.969670867025954,-19.98387544732549,-14.100097667124068,1.9747550887860548,1.4361749915924538,14.025522763724254,20.438920950336062,-24.012730464315926,-2.134814514902185,-4.414606695995977,-5.068925626350502,4.20648882003522,0.3177201329515377,17.652092419856736,-3.597761276849119,16.414034840754297,-23.350111383225993,13.277973186229875,20.975981441002027,2.5211575819164382,4.84007448744265,-22.86345258143303,21.98150497743353,-18.221820715946446,18.643502433194453,10.171686378333233,-8.792479999657838,4.933732486448846,24.524971464549214,11.482771812897438,-2.4518877055073456,-12.620605975941912,-3.0440993031076844,-8.162325450107561,-10.16720728738765,3.4747078425301465,-8.888640060333488,-16.199766808828578,9.809522162758116,21.695811032917785,-5.659891280290071,-8.439463828302245,14.368528462524369,-1.6723205678406552,2.5356934024016806,-2.568322105612824,-16.418853422524244,-4.442462829531697,3.483802369218723,-0.5463267663457838,-7.172388630530412,-21.96378694295666,24.53921086742538,3.1485236526911526,11.220675740625506,-8.809430800533502,-6.293081358171544,-9.939743589461282,3.690294660551337,-0.5532453449094089,-14.322751864545003,-24.137109482679225,24.88621567717749,-1.832484144716932,21.588502194677137,-3.161831946048163,2.969610851975219,-15.31374778484929,3.27634016334159,5.543007317095032,-17.326088380949276,-22.379336567877353,18.43426457476144,-1.230793335501167,19.910467393348735,-3.4697785833758807,-3.4531740616093067,-3.6812156464484196,0.04034698348232284,-13.322375747321024,-4.879506435972307,-9.517451831285245,21.8329712006866,-4.172047769922884,4.769220146880103,-14.051451801966993,-1.252417523478808,-13.600094601864098,-1.9811973006994101,25.957406226074614,2.0422228226752126,-6.150149613761317,-7.797622931976536,-11.755986336582957,9.426340846089165,-0.9234005720740573,2.87033009373882,1.5281874383972562,-16.9898646631776,-12.784521361699783,-3.503708865627235,-2.304553842894855,-8.163049137851061,2.7886643704990903,4.472466684996648,-14.564899345243646,16.429516614144852,-23.123404078084846,-21.670300643068348,-7.075764316632705,-22.696353673459097,-26.762429486630612,24.518688090785634,17.69082387677336,22.56062504665759,23.770635501265996,24.239380835158848,-16.345247040933312,9.65358843264833,8.984465806069053,2.3052156876757803,-14.256676441407446,-2.755574570798709,-15.619628043143207,-6.750130970738792,-16.080431123419146,-3.6598093084152334,-2.1627556713180542,2.5692974368010066,-8.424823368881198,15.259114784198102,-24.568252325173095,-15.047620275521071,-3.057152743111857,-2.1195447606433664,26.69992910076241,17.353228652780007,-23.25295371923473,8.964090283124238,-16.94133645504169,-15.790012637877169,10.792515202591407,-2.102794459222424,19.506399793208967,-10.777643092295795,25.317252191313262,-20.114361088332476,16.748341501574597,27.665917949142294,4.700098995410316,0.34751037421014797,-23.419089814134015,18.25466756412655,-20.228964028882764,19.676531549111974,15.677781655161214,-10.09355359917339,0.803821473439204,20.843480392085677,28.20171951442186,-4.187880113227397,-3.737033867114338,3.090281725927132,-10.157653539658437,-18.00438873597675,7.4705228745460595,-9.56706004951483,-16.912863014931123,-0.9368760227104302,26.598026563994022,0.7207160233385705,-3.8437838245486757,15.621054942291334,-21.06471624843932,-2.6694891177669193,-6.736553886928113,-9.632745219583958,-3.93308375980731,7.084107728608824,-7.504192939831886,-13.203036528097162,-26.289477099445847,21.271194761495487,-6.464903982052046,9.548680474766817,-4.417091463915966,3.0209699080520203,-16.76128673027403,9.771672533504729,2.7648181523423365,-8.726927540460906,-24.59325795001656,18.461650067747758,-8.42502566803481,12.220261321760116,-11.704394798810519,3.634521184555807,-17.55579537542166,8.433981090616287,-5.784809635971778,-11.62288991438578,-15.160722640929567,15.723950307495851,1.9722735878291786,13.243693511511538,-14.873799103614843,1.1228652688979128,-16.10767908151265,2.140276365158508,-16.63889356996865,-2.64912568011005,2.7374011559399327,14.942254575772035,-7.645363238040294,9.305933915021349,-12.66248967612128,-4.187988373710889,-9.113774159731298,0.8903590630377012,21.52501796999561,8.025929732640055,-11.752880631174081,-13.482303409123498,-24.03884529963827,-1.407199179203385,2.9459812608353526,8.627220575706914,7.701776248786595,-18.14731754930447,-14.84713578728799,-10.922717026011837,-0.6948046478695857,-14.307068216611688,3.160327825286822,-3.901445060507013,-15.31939379932514,19.278118399478785,-18.36007918874041,-24.45910699643847,-8.054318509027997,-23.20349494018129,-25.800062360460398,21.40722177441109,15.205115064432853,15.573858131144664,17.05158257706346,26.612458777008435,-15.027285264589112,2.064443362161804,2.181110689200564,6.510381127127127,-15.97273202905176,10.514823304081467,-15.986703624649572,3.2481696519753522,-13.465443106582473,1.825977784749352,2.4091760268413838,-1.3115902281632896,-9.684833504221677,14.5866513539132,-23.048423120272105,-9.304427331487949,-1.357568916288896,0.07547089255822391,22.399807407797955,18.920478179354426,-20.665787071789996,-0.45031270973856763,-19.051550870773077,-16.523471446558453,5.3665040942219315,-1.9176316695690945,13.179816105063454,-6.933572918164553,18.14181922215817,-21.89102903243121,9.601317847198104,26.02004939623653,8.108582847538319,11.950480277151346,-22.108264591442552,12.67832984566478,-15.99559550581936,12.831672783438403,10.220736594757236,-1.2753824777410723,-2.624382123132361,24.433635240739918,25.592671742129422,-1.715730247441983,-11.15716111715852,-8.444320307584917,-14.321316457403743,-12.549499721717696,1.8828906502002674,-8.70739800779983,-15.887616951606427,-10.934385662225319,24.056381070723226,3.1488895485541777,4.687239107453055,25.60857582478005,-8.516194894311287,10.31507363809408,-4.392393519641854,-3.8292341376448897,-10.509426554776526,-7.69806789686599,-15.06297306950035,17.57739442000292,-10.857536490905874,14.634700746838622,3.5328621084006997,-10.89054258291358,-18.49448846394248,-2.62833152461644,-10.615739166025822,-4.197802948859332,-19.145340981440874,24.137393982538168,-11.515640009246946,13.175873296195583,-2.150552347497679,-8.288002506653207,-21.617185703370517,-0.7425386019647373,-8.49404394420077,-10.940553342432331,-16.2875416486966,22.298612477836663,-3.1502967046349055,15.533634431271434,0.13337108941730938,-8.045920762837044,-17.860463883828086,1.6843812307634334,-20.27391671915041,-10.484103127404978,-10.340919550027065,15.21782198440139,-7.338426530319746,0.1445937834393888,-19.586409066817772,-3.811619058874366,-18.03293742789472,-6.987007461069554,23.337647804681755,-9.198878488888635,-5.664262926110928,2.696144270599438,-18.669415197259806,-14.065548295513763,-10.021872408162242,-0.5372316775644392,-2.142049236073798,-14.837774419665168,-11.897193147719143,2.3063083024729703,0.46425212142635897,-11.812786172623635,-0.6836189548883931,-11.25503053508814,-10.5695842280176,13.502117654879047,-14.744281396933278,-17.106867732269702,-4.141620276776722,-21.04561506913969,-25.186300144735803,21.947160455565637,19.65688064890417,15.7074278831243,21.041366406999423,22.80168729683412,-17.642030470276627,-11.320902180420497,-4.261793526260597,-2.048938521053139,-19.878054185394003,-0.1896355862308204,-10.04805853315893,-9.294777522081052,-11.935834459207095,-3.2087232760094313,0.6619241686795313,-10.733925399383033,-7.4065863381643275,17.23905646548005,-17.32935601210858,-3.924384221259584,-14.573895606069884,-4.683325235361041,24.32957847891844,17.30736990651423,-19.73460396061763,-8.14414504287475,-18.52780653640245,-17.35553200103397,-11.248069028025142,-4.538345382641639,18.407243645779186,-6.194060422469828,22.068668970709894,-17.251884675059024,-8.01446899633215,22.29320959702689,-0.24339793907631535,-11.695674465860451,-18.056007308550228,18.99690503173307,-19.113695668049626,19.965476037567953,-12.600884847209306,-0.9433593302689972,-12.090018308318353,23.9704627177124,16.410239582279267,-3.7844104595828556,-13.840014326278189,-2.7271072619272876,-17.617308755696463,-10.54077315304178,-3.1024674517909387,-0.7601528340034358,-20.68797880661084,-6.527459022016036,25.20381500191198,-1.5132006887770186,-5.945313291098126,24.46100388274446,-17.06810857053132,-2.0014235628056833,-0.7913508516599356,-19.077207922397626,-1.4947734113552433,7.935011574792023,6.054175567552636,-5.108072240017978,-18.627211611331717,19.708776123790933,5.125266058002563,4.187182720054954,-6.0497750306569165,6.730879056809551,-4.13326815520391,8.844381154825413,8.849732954637789,-6.694902889746908,-21.16681062972206,22.641540901001825,13.657019208424837,13.634616734368668,-13.272006461671628,9.521493821626352,17.651157338881525,-6.2364905433382996,-21.841739077352013,19.349007237801334,-0.40693015266845683,15.396438182596153,-10.224262940935223,4.308824605204944,-10.289335665384177,18.635304804591613,-9.520225439826588,-3.963459682104099,3.9795017168351103,18.4735794492345,7.841359604294324,7.783689604360882,-3.2290112477351207,12.232633395401104,-8.476201353468378,2.557450149959255,25.63138570744021,2.172886786690191,-1.8083809019467787,-1.3490332213404388,-18.76966378305031,5.531542318884902,7.370456547062461,16.1320131972644,2.643687066372001,-7.284027709058012,-12.743192758566204,7.13422743637337,3.2375649730474265,-5.813568491675003,11.520948413180173,14.9491889137078,-5.692658704981182,14.48744876375216,-11.866809030956048,-15.703645420011533,-4.186511902250509,-9.58054049354993,-15.262159918955533,14.40946526219771,20.846026152311616,20.992434986790176,17.522889559214914,-8.730302331542424,-6.104839395790506,11.564923971403816,2.843460434920379,15.684783312482864,-17.16903762440744,6.562634301119491,-11.32732309785576,-0.6672655087194828,6.190060424479937,7.593859641539852,-1.3571986580782427,14.570679688034815,-23.696875178739152,-6.853410741275231,2.1628643510878405,4.137177315358798,-2.887047785228006,12.817300123028355,-18.500498159909714,2.4231009690365726,-15.055517565569206,-3.9131895910987504,5.273401421499536,-8.670232506074893,19.23325946237191,5.417164192203112,27.68955611956279,-22.320487270324715,2.1571015813179626,24.288219133843043,10.058944631297424,5.767655572022954,-20.185179317573805,16.224572341339616,-17.853621312365032,20.657574218861203,0.8186153785979834,5.400423642737896,-1.7679088911862368,21.588145588237015,14.480186129735154,2.966108142126747,-2.526447437027273,-15.592591479809492,10.145617139615013,-1.3863508996863607,-12.705017051618645,8.316457477321777,-7.711257245781264,25.454635983603687,-0.5238838793306881,3.0753286216588407,6.864315412475918,-1.8819396222005051,7.996443613708659,-0.6436187163093233,10.081024216977491,-10.920125949021267,-4.122365667276451,12.325429032880361,-3.704813968579155,22.07333956295063,-5.086783238196877,-10.49996530029278,-18.442669826746933,2.470735923623872,11.717417203103741,-1.5659460647372352,-8.789291839231057,26.19394269811087,0.9011792486154495,18.31205041326803,6.20373375256327,0.9414711231304109,-16.28722189110453,3.3004088400509253,10.205145622700128,-10.373758717738303,-2.5841372622977863,25.08012854981713,7.766609434656886,22.195345342741323,-3.5666017496824938,-4.959254122012544,-15.861385516463624,1.937050095911994,-16.152154450159706,2.69252574350259,-1.9293867822686728,19.328328593091964,-3.7354475971014613,10.885529541644544,-21.453252137297245,2.603498472573632,-20.619597809824274,2.162611155038057,24.422551203874367,6.889818735813525,2.4486114154449625,0.27676921944549365,-5.623955305975474,1.606659176160509,6.112752409644742,1.5772282035665703,3.97473794776452,-3.282061793650323,-9.149444132696775,2.8992607519559215,-5.821483390902687,-5.849500659029087,9.156980010981155,8.632831639321843,-4.167966314423113,21.206856011106613,-10.000595859675839,-6.79389897913728,1.7572520134050107,-0.2875920961069478,-8.742606509792205,26.43655886871985,22.64042757384165,20.757842907912238,16.607822602279043,23.054720516182364,-14.683060251492586,8.442711553574458,-4.2568712306543635,2.186223350400937,-17.70391923040066,7.465023829746277,-11.442395033823962,0.9215722983887035,-13.149949927690292,6.069759573998078,-0.20587151767142378,9.783007358198361,10.34080093672259,24.121318240626636,-17.683235037962902,-10.276525845973532,-4.279703669533969,11.642659697241617,21.89981012712191,25.44786372453156,-20.286390590772232,0.8114539845601885,-9.890876869287256,-17.978451392760935,14.33894184207743,-4.219500257980638,21.698942065601074,-0.7871681135119181,25.309559630184978,-0.8873014881327667,9.323521205866777,21.735729759926365,12.711279348930015,-6.126000562095713,-17.58801001332862,22.84831603375103,-18.17427270977636,18.888064858121655,7.108570904695928,-5.86581847409804,0.7081888798824668,18.90905193516437,23.202252169120396,0.8353235316479548,-9.966627231909008,1.1535059982528857,-6.349040125534737,-9.225820063056542,1.9420978198026644,3.448594016206387,-17.84065718221417,-3.0600048921415453,25.509447240529358,1.7145512006119992,-4.779767153407696,28.012649291562738,-15.14398633790105,7.3775995789982955,7.7365461125321255,-5.962255779497521,0.5344251553889398],\"y\":[21.055843932807928,-20.68267297301573,-6.277950064625431,4.399914095097837,-0.8518930677373547,7.2482373192025245,2.8198338040358752,-18.72205347537067,-0.6182272677301927,6.883913372457768,16.481463617020243,-14.900926907535819,-1.421730157444864,-0.29278539109221485,-3.3161281800496205,-14.321577959899537,-3.544226986708044,-13.96553353253753,-11.932571322258129,10.050986853079904,19.210543204967532,-12.38888587244866,-4.115447204569314,-2.601535090097157,-1.2934885043512228,-4.181708891594429,6.708113489648519,-8.527199835473919,-7.739911331267884,11.465358902053143,23.967646164225428,8.011352940180187,-4.55242708306636,-9.963130385808485,1.6369125681500114,-8.48659679741777,15.73204523253166,9.154447090949247,-9.170379682512849,14.322356521539318,-10.130068693958385,-3.9559062756341135,-11.096161813790046,-12.129021815660016,-17.170046958897366,5.494431752736668,-10.270327120754434,-12.115627772188205,22.67188617944805,22.781238504560275,-2.5352918107445968,-4.021131431497524,-14.61195337911382,-9.573281425250066,-7.326963409301129,14.299431581991845,-11.237234078055964,-8.413735719805251,7.256514955707091,-7.187937032326727,4.337578837302574,-12.4102527347246,2.633013358461438,-6.417291007439813,1.9379127709431045,8.886394455884242,5.863951401238878,13.89185002910666,-7.2000576630288355,-16.407087559025165,-12.038143589476745,-5.850482967376706,19.218485597991556,12.14250012763385,-0.7103268450207403,-5.8072929938043325,-8.23124185305736,-11.545879307626084,24.607779750669838,26.241747771601684,-15.072456083585507,-18.812115989838645,5.717374703189274,-4.187148168561886,1.5933959645092868,-20.633870378097,-6.983677645170295,-15.259748946212499,-0.6572790480173003,-0.3487747258549511,-15.659307056669803,-11.8110676877745,12.804728768444162,-20.557238489027327,-17.698831485548034,-3.5294928241602914,-7.843792892155155,-4.30388927736066,-2.0562745295494165,-17.964508588438118,-0.34162604966544635,23.187716419869226,-4.548335168458344,-18.073136479986815,0.610832826116761,14.238361227452966,-1.443389346106806,-12.046149587556796,-11.914510768327343,-6.469171769960366,-5.266826045863723,-1.700007959155652,-16.938530829001888,-5.738775149590048,-8.64052789365754,-4.580965330546504,-0.47793607040122216,-12.707304964763372,-14.287123161313573,13.204159551703126,-4.258092665841843,-13.798565530951551,-16.32377256528494,-12.690130074128637,-3.244541325436585,0.566296908537757,20.906537387477233,-8.368435741208394,15.171517883642695,-11.897175902668385,24.968347636139743,0.354149727978602,-3.1586993348213057,-11.058335307198274,-16.55578321042421,-9.591177530358877,12.931009118715828,-16.44640170148408,-6.608525772675212,13.308333966352011,21.443776572242772,-10.087424508243426,-6.976461824895078,2.9693465040600056,-14.520583188406572,-14.472811683088596,9.931802963229746,-19.961792505015325,-1.3754110561127761,10.68581326917724,23.45964583967814,-6.234683298818722,-9.568542070921504,-8.6894946284525,-15.892065792179437,0.7269459419911279,3.3067600197630163,-17.864813022973237,-11.721602783605764,11.863654874706182,20.49684312353753,7.021379475397727,-13.186274492011469,-8.082099497944215,11.296597815321652,-7.063987525871595,22.05319735351805,11.972366209926271,-6.948396355870535,13.459979778570892,-11.500215466442642,-16.876283987857988,-6.010267737319881,-18.201488423959475,-17.468765766486353,-8.615222212475437,-8.732529193344327,-0.03751260695048284,26.1033047025382,16.738159178806065,-4.458408043296755,-7.120891793288722,-20.92341594020397,-1.9000412697501992,-1.5192602425339956,21.002086611808444,-11.703252452425199,-4.921244808023392,11.136566382890763,4.2667005476123645,-1.7122403161834,-20.867854721351907,2.3835958171528553,-2.186474382727909,-14.076841369059006,2.7009321866438682,9.601077364587267,12.835268564199097,-16.182339512300945,8.8597683051268,-13.07376020739736,-10.584545535581183,25.394364414865652,3.7947808290136824,-0.2509976084050892,-7.735297219325426,-12.444524090836598,-7.424472388967847,14.903257655023298,20.807858867724658,-9.416773187879233,-22.35998303126103,12.258023528738542,-5.562261853637569,-4.004261461794859,-14.178949252345665,-19.825948643426887,-7.988203969362672,-4.694345255689477,-7.852567918044051,4.539097991725032,-13.260608943164497,-19.30442532906503,-0.34043952109735715,0.8492715278976911,-14.88921252188487,-8.306914548267752,-13.482523538927333,-17.42973690746415,26.6172731554037,-6.91429320336677,-7.234013335539208,12.13501510306204,8.506694426645682,20.099157924938364,-12.689649675444892,-18.685619955486647,-5.374938353831768,-16.02334305074745,-19.161605870477175,-20.004780566415977,5.473689548871557,-14.01371474878822,4.177547503925334,-7.683271708455999,-8.35127993314748,-10.172820530550894,-12.778135348713604,-7.716349689587428,-8.961321919479657,-15.6505074757974,11.148425197696085,23.940172871180266,-4.318986359610974,6.348055999084642,-4.470011045750131,18.589383472689704,-18.616326057189358,-0.6483771373696565,5.528688259656351,-6.1245080235791685,11.515517937758478,14.505338860838204,-18.97705733109742,-0.42677602676282417,-7.975476766269468,21.32618846810407,-19.01175784314728,-2.4901782478564645,-1.076531204504929,-8.185714811423559,-12.110549585272661,13.245570118338444,-16.530441197963388,-8.691384064872402,-16.524486611723994,21.079496312474326,-17.720052723463322,-0.08669600396249187,1.9938924400616134,-3.9645683126839866,0.9911839672671858,12.510584586217425,-13.711496294593875,-5.7896009694396025,9.261501767709495,17.901846875384333,12.505913511771833,4.412288672200928,10.68924454074712,8.787199882706474,13.87099794735582,18.779979703778537,5.609027885653317,-3.2616753390608486,14.859298623892457,-2.469106322518587,0.33830089286775766,-16.15992131875094,-16.01579078591435,-14.144262623249064,1.8650477593302348,1.6795970455463152,-16.906683285201574,22.09434327401981,26.258267101127405,2.473981179446697,-0.030599818376007185,-18.284562226449385,2.3320721149568406,-3.9064059760263112,22.692502195555377,-15.101834970608339,0.8616883078918532,12.631814596846812,-2.155007261533147,-0.7834045333428475,-15.552651855465998,3.1800771669001335,0.13563931997296605,-1.6193756598644566,15.846335971079036,13.020514126156185,9.515611752930823,-0.029996470077655043,-10.546692121295656,-18.542151282346452,-0.12767165037838632,20.88015719732471,-13.207171985889607,2.8131399683438096,-1.6593880025078647,1.6704520593814725,1.4447480325543747,24.909650917169483,18.225020490961,-22.626079078072785,-15.656759574701892,3.0117023485537646,0.3361195698690071,0.018321618568141955,-20.106865681209687,-15.182585903065172,-8.408690152011866,14.770206554267121,-2.405780102557959,-20.888844991164778,-2.8275632765815377,-6.857937437460428,-18.736062543876876,-14.840083021115719,10.759793891463165,-5.682612559401632,3.5110054190365436,0.06948680343096772,-23.165070725062265,-9.409046976798226,21.542462199687886,9.876994238260297,4.848583838872221,15.317032925901609,-11.634183344672017,15.243439013269196,-10.439256108789799,-18.472650306567328,-2.3930357978605303,6.54401823501514,-4.078217230280122,-16.67244894937007,-1.7593383386310169,-0.498564163762139,-0.7926838510774005,-6.294081043831435,9.361345366439735,-11.716897429411553,-2.016522910176099,-9.506032945448244,-2.062792898661683,6.122402904759128,-0.060420382849564865,-5.378318825316604,4.76211543914755,26.099396900358197,-10.182832999397647,-8.623850640041155,-2.2464032070649442,25.75943807417573,0.6004107241057575,-6.496829136536652,2.4998752710953296,-6.6199324441217495,-0.23709046618634969,8.988546762594515,-6.349469652085891,-2.8465722442365116,11.554752405234066,25.19101456732088,-11.824441829857907,1.6567489999940057,9.883505726234297,-14.938050135000537,-5.705195894251084,6.040547194345612,-3.0637219211991105,-7.638285947401601,13.436069811922426,25.414333045264307,-11.147145880090044,-2.0081739544392736,15.025608442310993,-12.55107938803079,-4.151503487962401,8.249880266447374,-2.5528184860532854,4.364590885740743,13.26718564386062,16.033591176594022,10.511375784725763,3.1682092801649357,1.5258335123492899,10.093515754316304,7.405196247473048,21.856603363622405,11.297468223884136,0.5939353825229212,13.900210695321816,-2.71999593255316,-10.454512288978657,-6.18586751792413,-0.9973620183148545,-12.807220884610711,7.954454326054316,-2.186253111196484,-9.00652329726049,27.409355970833765,21.609682125987216,-3.332058193673383,-3.674786513571274,-4.442112974568549,1.0864709003379995,-1.4814711654690216,26.839052933238484,-4.2701680657688454,1.7187178030494854,5.765525767091023,5.022294130327917,10.519686555898199,0.3945894121725736,10.247393677191232,9.92925464412422,-9.938129909124374,10.403708768941128,5.062709737556501,10.743040204538461,-11.089279466811307,11.502232626721971,-9.770734532306939,5.29815415376446,17.836673764208566,8.778519617452279,0.20460086293137103,-5.355794203713643,-5.148322330415423,-3.926496032947063,24.017322307476043,28.99256118338648,-13.381671008941677,1.7363019190649216,6.355294212613943,9.601085425024483,1.2071311390240598,-14.166737610768191,-10.852735907162348,-4.495820279766796,9.591195469030467,8.955635659341397,-11.61519991752256,3.620120860346803,10.404325668516995,-12.440649922380977,-0.7227666624271387,12.260743673207784,6.325970936923424,-8.2894436563418,3.763116955630907,-8.302710651179307,-10.676402501935335,22.88288448665096,-2.3469698860231736,7.568240166675863,8.292351751693088,12.78041561159991,-3.8562848635158224,-7.148438990426167,-3.78423273618654,-1.0954102464070723,-8.127882198735707,-9.084472747023844,0.03416598021787967,-0.07249568224861447,7.637170717129185,-1.4995858808934721,-5.271002601134359,-7.055134518700473,-7.858118324560571,15.282531415169,-0.4457987935566832,-7.124728721242348,-4.695254953423831,-8.378819863215703,-12.880746436085015,10.402716085205366,22.72510186923177,7.200333176420839,13.544866847657524,-3.5252251214470536,23.759027470359104,-7.117829364100316,-1.4240213058126434,14.691823762133442,-9.8491753491478,4.781468523069217,9.068531954459992,-15.445689048727465,-7.562500672105577,9.28626790925572,21.908157917168474,-2.4747579258591252,-3.669417058454485,6.240579817365104,-9.471186210386536,14.52076377526753,12.699749891493163,-19.612157829394494,-3.7694174570220245,14.137820197245501,17.55990934348075,-5.168311480780595,0.04844846693808584,1.8242307981437837,-5.931588817959289,10.237981369183004,13.901247206935714,-14.736506612536832,-3.3775842741630595,9.049532060385923,21.656041737732632,-3.429802637221986,2.4748997768966885,14.682101340529314,8.163071853569923,10.59277370951256,24.616194190065556,12.958610152250865,-1.9800397650005344,5.76400474951457,-6.844373416302056,-5.3941458977282535,-3.7550477005449543,-15.4586397087269,-18.64948876039731,6.7689219015983575,10.051044407740871,-3.458702490700373,23.736086452918425,30.12966652543399,-5.285014653326927,-2.622437583895934,-14.742675535182553,-2.0476949991607167,-1.288482660992645,20.647235854183865,-2.13023004296878,-3.4127517632203803,8.222656605816976,9.427584880973942,11.26359022068273,-16.884366124276113,7.820151552858339,5.628422061138673,-4.973504478462422,11.935876739921767,8.732090540334095,14.279928668142247,-11.117353305689422,13.797457178939599,-2.5747610484860024,4.962583661049069,16.827554570337096,9.076028651949844,11.566537531973152,-0.47548262296854205,-2.809972705760682,0.35476849128600046,17.9239614298897,18.338039038435827,-3.6007639314889515,-19.149765755534926,8.990292035951509,5.323807757263943,1.867023082626055,-5.835562105377353,-19.98811940887711,-9.866322724303508,5.104004917195137,0.32175938989826675,0.4848287482909752,3.8399332192686764,13.216832383534536,-9.843784720100308,-18.520739590256447,11.023286944878468,-8.037815574823334,-5.04681035598657,4.863283762360893,-10.70640828660652,-6.998956031822274,16.76479786755736,15.620977152587807,8.463730029391785,9.383447120450642,9.39830681059587,10.820852724374108,-8.267734195848375,-18.80945037720107,4.307924270853591,-2.707935673870434,-2.806512555504593,-14.886101394546456,-5.327156284764117,-2.1682507003578064,-3.3979335819695167,-2.461479797835917,1.778996728852563,-20.305600310910695,12.12452731073026,12.22915341636365,-9.934887570013274,-2.907507739770601,-11.957894936914666,-6.785881136200788,15.224768081396574,24.334243371880405,-9.411316204919588,12.927268102520681,-6.799694743491185,23.390071215374398,-24.21924142044017,-0.9418016292913611,-0.45918079347835145,-14.446985557842195,0.7664603359739683,10.355121931301436,-15.928467761978915,-0.6239102617834932,0.11690012937561507,12.09945164545862,-14.649791027270508,0.26340803161649157,10.20251486076684,-13.049409240824732,-0.15919203133951468,11.86803777090011,-17.195553989994423,3.427470446284629,-1.7762219774922412,19.55301674697143,-8.678940912680646,1.5665296881685822,-2.9240823355562138,-9.596262481530188,-1.476264748981318,11.170594857343369,-13.44313713586212,1.3203281567788594,4.885421866996765,18.294467892191523,-0.957605320652945,-1.1902154602578092,-13.14576490068468,13.762731207646961,-8.148654328241642,26.01621615746849,-6.05757201641001,-3.7954533028521884,-1.8444323399758236,-2.0180207194681175,-13.063629461324469,-20.875470937823767,-9.673718879641498,-10.207749913235782,5.908139075805422,-8.313816160100714,-16.637561069691838,23.134219672114437,14.480849886838733,-1.3515887076045356,-4.729934526547273,-16.380583421790927,-6.163061307692766,-4.395836215548457,7.949503486689088,-23.02554244882199,0.7269030208564334,14.987774362635312,8.203773506720829,1.6716762824278295,-16.107176025373462,8.462260691451178,-3.262304475179879,-8.154848874027493,12.021087478947383,6.313917335447785,11.768087315478427,-11.583184551710435,-2.6763804349356257,-12.306601506668404,1.7596624524027331,19.625263547106734,-5.484616885084538,-2.200637272017138,-5.587620544407353,0.02194241228387245,-1.5067726445993515,18.149549176752775,23.877388011115876,-25.012748804098806,-14.720076611265204,12.973989623063735,4.546404459224533,6.974996755282451,-12.979096918556912,-11.232948314469024,-9.938186308223335,5.174518791793806,8.445192991408693,-14.020686679503969,-4.25909481905209,-0.9316888177187046,-17.036986662049465,-14.895089873683322,13.73590990963249,-7.847248792725042,-10.37490619499343,-0.38461907505512244,-15.868405862305915,-13.225408150660208,23.121012010954562,5.449382618258312,-8.444992346473203,7.999403657638501,-7.698588346040392,6.217695070470507,-20.280891361320716,-13.065975387608967,-7.455547389797178,-3.843415379724092,-11.166965675870395,-10.848845034672436,-4.971276715630612,-6.054410685801486,-1.916561579179421,-3.5423103756630407,-7.670845113136721,-19.24241235736645,-2.629376935258511,2.5228679522618007,-0.21180571348493213,3.3774502248485345,-1.9176498005161133,-13.029909710975481,0.44177294965257163,17.908244797239966,3.06110890726015,-11.5208663349136,-3.8277138505110004,18.90289557879009,-24.36934349674604,-3.6060685239583155,1.0475339685872234,-0.2707626549232998,-16.007203052169572,18.454083026884643,-17.462299501630927,-0.9256528451904039,16.03170236616917,26.954098626668962,-18.004437539709052,-4.155342141151389,-2.3136897368179006,-9.216065306909668,-4.643024078278276,15.295425740834625,-19.101060643531408,-6.847661109282161,13.178120303737668,18.710327047340552,-25.081679642420145,0.029383360619275125,1.5820042233143377,-2.6831244947407615,-7.454453976218187,8.204643182552156,-21.58951455097904,-6.318838718991503,15.639344991722652,25.023800862829646,14.774141837011236,-16.78172699294858,-10.035547445386356,14.840016449244667,-17.58296261049012,23.693136331281266,9.880135895161516,0.42247900826038853,14.162520067369698,1.5927061090329915,-1.4110581663675177,-9.232213922022632,-15.453762583816523,-17.39151297560569,-0.8830437322442976,-12.991341720517758,-16.07336483844932,17.47905868136247,17.15077907512032,-6.162103045866964,10.456563431664804,-16.88187282300115,2.0390751806520555,-1.3248232553122974,20.58766474250808,-1.192932434572911,-4.436874896079429,3.353561691408889,-6.770857475002811,-6.1322970491829665,-19.826738812382267,-1.0681549124703242,-7.538194325834082,-5.7033292010375565,10.150135548471786,11.339210931097185,14.40836490996207,-6.531330964316851,17.71004948552483,-20.392025627638088,-10.380379540526977,21.2630303844098,9.63502986993044,-14.01854072239966,0.4356825573771319,-5.690549850704263,2.415362253296363,12.235340332211413,21.246785557311348,-9.294488806028923,-18.6947313311766,14.098801144384575,-0.5554788129995936,-6.668140539311611,-17.72176746643765,-16.452237634177575,9.619543283432083,15.03288907306835,-1.288447044970163,-23.553585863312293,0.6974976453140217,8.496745930382898,-19.741547618182498,-20.708851786148315,14.328503031362555,-4.735394825384828,-0.5025852406244078,1.5007301497461396,-23.89472028284502,2.6382449796033645,22.455577627105217,-9.991856835909394,-1.9940205077385074,-0.056675611048014315,13.399513454055576,12.142599541298843,-24.75411722658356,-19.166042650246574,-8.93928652065595,-5.3974589528754375,-6.381449894730288,-19.921340342612787,0.6431111866346303,-6.465091860558368,-3.1884273222570685,-0.6212427583231417,-11.392322490873282,-17.37420189465472,14.03482025985453,-9.301132013199155,-0.420451707595152,-4.583460484288447,7.3251920809811395,5.682046307336884,15.450302744610573,19.47335522667645,-6.350101311217144,13.629742954788789,-8.93744878597553,-4.332239856281374,-6.6198950652739414,10.634317640596493,3.1148887909801384,2.7582502609042225,14.775027697012852,-10.565873846519438,3.649927175428104,12.607051190587116,25.837503031483514,-5.350216778634691,3.7875035189991877,7.9359821238329,1.3912352512123556,14.15252170320527,13.366753637922207,-14.710184904089974,-0.46327540783382926,15.182982383635077,23.65418913533123,-5.84246469508318,-5.759902353631555,6.748632211155308,-0.28826237889988465,15.495275939133585,13.4623063137819,-13.119332858808178,1.8712773037374528,10.80953583010294,23.679722632092965,14.022501473529644,17.439399752547846,12.077492947683531,15.150214621655666,15.723090620561218,22.11183074785102,15.072221464677366,3.3726168599840505,15.968529128246942,-2.616964709238945,-3.1782641847024524,-0.6897240687076924,-15.602761097322487,-14.634364715978453,6.705008405240766,19.813954808370465,1.5409806284326106,-8.459777939078789,-14.733692679238272,2.3509939224297782,-1.3077931669254135,23.4202604164094,-1.0593528047419702,-5.474161525230887,13.633154307663188,5.707402601963145,8.022764670550048,-14.034631685558393,12.648129037066477,15.10720414098467,0.6083425544991606,14.363187117626035,14.22921625010521,12.5097393808936,-6.055371140723215,13.541761091500009,-5.000885941423712,11.010094008424405,24.653639880719787,10.840076781580251,15.145363994670284,1.4419171306582694,4.716215931546455,-5.047646061996389,19.13126659789131,25.665592048692233,-2.587403476318779,-17.412313818517095,14.39317780866034,15.261843173182543,-6.390334029022367,-3.252089582667868,12.02367266031066,6.902840466381123,9.236592663380312,-5.328092958074036,12.044203816640545,15.25785374130994,-6.345829139561685,-14.94678755487634,11.189471795835548,2.458188321237204,1.344240685168128,3.6430784949234436,-1.8596961424794682,-7.296610417490988,23.01276442963161,3.3128084356766063,14.384755828421387,13.433063360847024,15.1140641926476,14.589508797014314,-1.085792242648327,-12.003026595092877,15.645766179475723,-2.431622690615517,-1.29042880265572,-14.556288692286781,-1.728801590674453,6.022723869784407,-3.371486277258479,-5.207211712807687,17.985162647672606,-14.82800490017468,16.116453228635187,12.301800577466459,-7.419382938817059,-7.74647721297202,4.814360583510665,21.608243053797178,0.037986285196219466,11.452747368270742,2.8226293799698587,20.906454228596655,-16.30280198035161,0.4962799681698338,5.800154417644729,-6.156209080755167,-11.737370847040621,13.086339922939292,-15.927913284154297,-2.5403985960240147,1.6354174746167782,26.138100382431656,-16.82933644482227,-2.030713074445204,8.23647384119131,-2.8338325423431665,-10.460436415116165,16.362632050076765,-15.539584495611908,-12.811422041631383,4.495103218973708,25.886510141591383,-23.093095276054818,1.9055080615275706,3.0331407733440394,-4.113284734639629,4.511897954350178,10.929327514462585,-13.498321155564259,-0.319807489316573,6.494539304533495,25.583189009112616,-1.780240893138879,-5.953844010674088,-8.917248052041547,4.050288692501817,-11.347331110551604,25.304243380149416,4.850459263063364,-3.6533338340416646,2.9360083900920504,-7.181923508922904,1.4752108398214516,-17.404104991419217,-13.994344960306483,-14.22817943386284,3.4337250674869915,-1.9263354884388832,-20.878509243004398,19.25279563285466,22.235559360331305,-14.392244037165913,-14.524601538898327,-2.274759608630679,29.017939950877256,-9.92867307671081,0.796726311540298,4.856790629186461,9.737990844097261,4.383972629854474,-17.773250904373263,12.011269347396611,5.965911137755253,-4.149454715617966,9.192662620187141,7.540542349605608,8.174480157373006,-9.61525555926185,6.6333665932982235,-23.337953538647813,-2.5461206429542234,22.722593337602728,-3.7061901869081697,-11.7499462257027,0.9732771205616542,-4.079210180719979,2.845727324994175,29.673591497237815,31.5830344931945,-16.972306923535914,-13.49861315668277,5.174159219949407,5.282986531911422,-1.0953415970754168,-22.585010555545914,-15.595364029334108,-5.977826154593223,9.120575985139688,5.624186573430429,-20.191674227469502,-12.766909575819984,2.956116781248724,-21.491293811108058,-17.34003622862568,11.350854036351677,-3.4116306126301716,-9.305072386435087,6.542355897237616,-13.80584386946339,-1.552430825368231,20.898970027355976,-4.400795215274175,4.431061419823231,8.065413177552774,7.433244921177139,14.600446659108652,-19.56277236034605,-15.870114187621812,6.781781452221954,2.5901493090234933,-1.7131767104292583,-13.895274807910006,-0.5638468736606244,-9.040775261909644,-3.632668529170994,-0.18948226387851905,-9.390069487413147,-14.760730243821254,-0.4902971591742315,-1.0926858684928302,-1.8290483464123422,-6.374524035660129,-6.5554974875365115,-9.706851323975911,-1.397365876407977,27.088889323493863,-11.626653208845834,-1.54872404781977,-7.026588899332384,21.557237425844427,-14.074612592409569,-1.5772655510175526,7.767399815649437,-3.532631142257119,9.64255412424854,16.686671417512642,-17.599831348712975,-0.35757354475419634,14.73069844019167,16.781098908373725,-12.179481155567677,-7.218347468352096,2.371252624735834,3.50926069730446,9.031218854494156,9.379218677290798,-15.954362294176077,-5.697307604160844,11.168270935910634,16.09237488552111,-13.968043881225137,-7.022678770603943,11.886676466507478,-4.026577735734833,-6.956494710989192,11.010081113188098,-15.067812428686837,-12.618643147897137,9.318544983483655,10.973346213800781,12.671964173280632,0.8807623080482923,-8.074259875082172,10.528658633654343,-14.614931499212217,21.585234390224272,11.575034234932115,-7.961009064683463,10.68326394755167,-8.257687497430883,4.059659824827435,-20.785376989169038,-15.106081968279268,-17.895945865277273,-22.42875635052189,4.452141650006741,-16.269882915431662,20.528098236026203,17.751352625528842,-5.436791184226207,-5.664166233085786,-19.3927645964776,-11.786906387459272,-1.7635201142170878,15.37751973318117,-25.120176058195202,-4.076556382355584,13.820322433156662,14.031586910506597,-6.147029548714478,-18.101050861441625,-1.6481809959112004,7.83483451503055,8.939269486598727,9.85968879083857,10.249962997982754,7.432249246232892,-1.6968623413171298,10.029985697105456,-14.99928898335389,-5.931734753368858,12.740275455775015,6.552104766442059,4.160827709353994,-7.389548764660353,-14.093892378274807,-4.285027036505822,11.445373282949207,15.894171637522163,-24.454368264033786,-15.260756278010577,12.590827826432934,-8.528062025126577,-3.3782155521176835,-18.466401775626263,-15.109869662866151,-3.306528140211649,11.101200446808523,-0.7595783162352853,-20.612651313561642,-1.1307297332468853,9.276438741016065,-17.525583843345053,-16.943563403997672,8.775001441173059,-12.629440013403686,0.7982995661565486,0.19323149571989448,-6.162270924495515,2.830933141543148,17.499666500319684,-5.5419445568349,-10.589312228893146,11.901143891153893,10.008889105547466,11.01954962773305,-3.282728777151815,-15.087468051180206,-4.345676510155661,3.4716169436646833,2.436519799773471,-17.98366003943017,4.207753188721782,-4.9776907159197705,-1.7592680410631647,-5.586757961820164,1.4382763307433533,-18.76156890891204,6.925903350169984,-6.7858327358800405,3.685147228476278,-13.43391936182133,-12.191712114530194,-2.2319821855674564,15.022893471612637,8.199326001733425,-15.764156373131673,6.85204145386028,-10.82035878645766,25.57131434845044,0.40044173071413147,-0.537011945906127,0.2682002170274521,8.93500400619879,14.385964178348285,0.9453635276210592,-16.25296662308583,-8.719769477548043,14.444693671358262,21.34814183023402,-15.779262978924088,2.2708892628638857,6.470275366123387,16.570099591701027,4.20760382333439,2.58035476467148,-15.626469496693046,-11.134351587036155,11.995618937300677,27.229806154694256,2.7565480602214403,-1.8918628740280061,8.203998027461457,6.6041156072885885,1.0933577076063037,8.601088960623617,-15.800618023887198,-11.589294548845379,12.475722569333499,30.37835633504361,13.945359366021343,2.678547161914136,1.9296592856061927,9.823048677856043,-4.388425708303306,12.593429271446084,11.903150697938262,-13.837691543810742,8.98322217850235,-13.121559940247623,10.4599506285369,-21.66617685934574,-12.689375495746374,-13.669555708056512,6.448793553638131,4.716373587936235,-24.51690169412379,24.7933738959931,24.937372944351768,2.9143587623983778,9.89969736721875,-17.61917006547679,-11.684932570277793,3.7464416700897423,23.28605222101425,-1.4026764449271216,4.480284303511793,10.568555296527547,-2.380615713849618,6.872767990384437,-17.303522742356293,12.39171137166879,15.935487479632602,8.197864322900793,9.140462638925573,9.53793254629168,9.123877024880203,2.96705414693913,11.652696849308843,-21.762111735346654,9.936899347341145,17.852043698279125,12.256415290680584,4.919361214180661,-2.0737726011041886,-6.494331376707149,12.073797418104977,21.35593592361431,21.950312726490523,-8.734108729940214,-18.545350568362352,3.4879087142842367,3.151100437687646,-0.17765610978876945,-18.868693328419376,-16.071972829218737,6.890270396833224,3.946370366085174,-8.584403443407325,-22.817880367819164,5.140389817389772,16.438653909438823,-20.726439925028142,-14.07070518874186,1.808850401137334,-13.61997176052648,11.936627701781301,12.011649685921103,-19.792877775740973,-2.5999200216236567,25.276466863842106,-6.134406740957293,1.685983218455457,6.910730147143963,10.378071074589338,13.744330179910278,-15.888057530960637,-15.904664096955772,-6.815157144663805,5.420240556203644,5.116425313701471,-14.249431531175528,7.672566925866687,-12.209684855276292,2.31440624246441,0.9737132499532509,10.258079019641201,-17.241093580806975,7.291878220647795,-2.8415434199336365,2.7613249535978723,-15.278525701512791,-8.418366995257998,6.496601377421346,11.973712289695724,15.457761619962321,-9.916711191188844,22.17825990946596,-2.412784451784101,-0.24541180122087622,7.008691925403003,-7.374792444904967,6.3678696237650705,15.918715740991592,-12.018604589069316,3.2906872016832933,11.637701557549686,21.751107307501613,2.2292040800631776,-1.3989870487659344,9.776313648068001,-5.112046814534573,12.893481948854193,17.39139113011808,-10.190186593789795,-0.5653867882332485,13.367246742794787,20.505789460058345,-4.165869141152344,-2.427966333476713,1.8202421071136117,-8.311976669868143,13.918733811353324,16.76597731638267,-12.98984943911533,0.9591638865909469,12.825424451669468,22.365749764497227,15.090411561870004,14.082729445240142,12.473714526838513,13.488281267802506,12.387920170619724,22.919642303037687,13.617033388071558,2.7338355884948236,16.108416509594882,1.6977080085832479,-4.528708956863889,6.878512608744902,-14.405287934597224,-11.469982548990568,2.5408949296004364,14.487740129793213,7.41727260625866,24.643122510962797,23.63839060819756,-6.980545821039697,-3.012413612542371,-11.29926746033534,1.9716613006107127,-4.82483148982139,30.654546911487117,7.429559140324113,-7.627919006397248,23.783886738791065,5.717255894460227,9.553688987541115,-16.421442818605076,7.922440654898728,7.399133574244782,-5.780256666883416,12.413447122027094,16.355264282539892,12.989678017547853,-6.757474723868446,15.364102355868999,8.063808810819113,11.121106947232784,25.439102367755513,13.946706435022215,8.263305776992595,-5.846864685980607,0.31091694556228056,-4.974174290071787,28.979868202399523,22.124370319357,11.808871234921538,-10.286580503058584,17.721255744794043,4.350648523319829,3.9533584723055317,-1.3631508389706914,-15.131665824323967,-2.771884520327932,15.454141320313177,1.1396860118311292,-3.216308274874819,7.032287219180483,14.635304773370821,3.531437923171967,-11.817091910137547,16.08602175410673,-2.637251379209267,-8.775499782645936,9.588988104641583,11.212563302745485,-8.158437532148861,25.12369974070009,11.897378369924581,0.638005392580237,14.910681544409492,13.335021243568498,12.044414698620987,2.678055113975942,-8.603449908324881,14.054828846116228,-4.240779976506932,-10.572863275731178,-12.457870665162906,-4.5762697317531025,0.5704831141282592,-2.0431860661857932,-6.840324397448815,11.676849856428156,-10.780615835110623,15.114739825586165,2.7759636713982876,-7.206247315061633,-3.0554791289764376,-9.569559828674059,-9.72471311964973,5.3650667644221794,20.40590600284353,-8.356351167209528,11.593432884841793,-6.288770800349907,23.126298431192218,-22.87432596669636,-1.854866363127234,-5.327003857998752,-7.297914924450796,-7.1798948369648565,-2.7575154995682962,-15.432127644982776,-3.5349260541699508,0.36096258412027404,21.868612171325793,-17.20515028325121,5.841242725189701,-2.9421842523933517,-5.5306282585990685,-6.959446898013232,2.6231054261242495,-3.957073412461718,18.47396263949584,-13.978796148086962,-4.232385578959861,-7.189096975880441,-6.131164401218264,-11.402908159130194,-5.990013892527719,-18.69607363204378,-3.565450302632002,-1.7476941125268133,2.2530039407252933,1.5005327171471867,-18.35417769881038,-3.8010280061132797,4.572286590276837,-9.701146140245115,24.727947324176892,-12.113947494937388,-6.171196962189104,-18.046267935468915,-1.5372971175760435,-2.4404355454077717,-23.628927323594677,-17.212314598443577,-13.071028779590975,-22.347452536432773,2.868250091093858,-21.199425057767137,11.919622468850546,12.629153527095767,13.074962150617285,-5.719840448559417,-8.373991749073761,-8.56510578363532,3.9054442983496975,19.59823047986796,-20.27160837807844,-0.048154034915465035,0.5546949910641346,-18.11961965895945,-23.844103096260742,-14.405381254378453,-20.284782024982817,-16.953881261221312,-10.670256806510768,4.597333838914749,-1.506667531945305,6.2511011362333635,-16.701864615558815,-2.691360733701339,-21.216289805207136,-11.398569404673164,13.478995174591772,13.490715672189983,-7.64852916448764,1.2725004057280298,-10.061075713788005,28.034288666396687,-20.940106635607766,-15.932187446670811,6.105344670002158,-7.143568676607743,-2.802203190072987,-21.198691585817425,-13.995235700514884,-16.455985997074958,-1.0487966257857222,-1.9627187339290015,-24.651680586968183,-4.257902872941381,-14.072071970172274,-23.76627571703892,-13.168342742974563,6.658680688327786,-2.1425022344406437,0.06417374353839526,-3.607321036773546,-25.664541320272498,-7.831909309075887,19.72548115539506,-10.4749592996113,0.6956425271987049,-4.274409438082974,13.779704021893215,-4.234691431667502,-22.458555452921363,-18.36942465291483,-12.93296280850838,-5.8339978551680804,-12.737162668109649,-17.14471667057448,-2.8277644211267736,2.023178068915158,-6.365957871925375,-11.455629663909798,0.8827251686161613,-10.979448536192164,-13.533380284818387,-3.768717570644315,-13.015199359248903,19.857730948546823,-9.501215010966652,-15.082292075564148,-11.587960868775674,23.82777748329757,-6.938508904513847,-2.8634311562356656,0.9109351952586668,-8.554245298417895,6.4572661893407695,8.42809439771633,-19.754106679542797,-4.788600521987622,13.822340653338522,25.26503536466199,-16.177064817144963,-6.983188534125787,-13.69952761525571,1.6159380209367005,0.4744923849009146,12.629626168960577,-14.88733474586597,-10.300749889396675,10.75329971131963,22.558581420627128,-8.393792171317468,-5.019562816242369,-5.255175964070285,-0.007927380317048306,4.755643155357276,8.43839698179045,-21.160267269742405,-2.5939457229587264,14.07116683146435,24.393862493114703,11.809695787101509,-0.9908421213460793,-1.6116778439207147,12.217441988882708,-4.851482868632469,19.14889705572384,9.576547497491951,1.512194091008166,12.22749794229657,-8.196033757330374,-2.410655927610933,-10.460777797321963,-15.854080737730246,-16.92484101221482,-19.795963216623555,2.286696579002614,-17.91477803911365,20.533896994345557,22.407803066142367,6.8741307535956295,-3.8370836843613594,-17.06895981356212,-11.0623056085717,2.469314228606722,10.601182478262428,-15.626482209052108,-1.0074009462920668,10.384502844797291,-11.988724173361856,-11.273356456664535,-18.70542174820879,5.813414415100844,-14.488182146580048,-5.933696921942006,6.104823302259221,7.601369238512087,18.25117688878283,-4.735082737703071,16.21734508727867,-16.25369943405235,3.4418308098260337,17.7288283399819,11.050727805862604,8.056831759419513,-10.241859210066243,-4.121913619034529,-3.5548011654908547,19.944541112163716,20.456801331467485,-11.706444447189218,-15.741903075157039,8.692270450591717,-15.477040868015028,-2.907481861526619,-19.601447841235245,-20.217952730491064,0.7719478730208715,3.448672767179088,-7.987940672891015,-20.575541810626806,-1.5808945175323867,14.389650879823519,-13.466392262528283,-19.92054256632099,11.831831907259637,-12.521628379193963,7.842128954041259,-4.909199411442625,-13.640326333413903,-2.7110702375446913,19.463802417450648,10.362365222222584,-4.6830702567447915,-1.6793490572516157,5.116229250825164,14.239868355550263,-14.11168717022699,-21.727177797400106,8.376823928234725,-3.1051674019051974,-0.7152218421996243,-19.45015293276045,-4.803567857642422,-1.6441186673963992,-7.476224369850072,-4.1047311422272355,6.579848533218475,-17.39469722589726,8.214011657423013,12.499534425405166,2.4517514202668433,-15.743988528145199,-18.20438344655765,-2.480595402786831,12.795062377105648,20.38596731046136,-8.344291355041737,9.871434184514088,4.462974482433629],\"z\":[-12.080074711529047,8.282905775098897,2.4852543993540843,14.435488640149629,-1.7847857617511524,4.20933360911951,14.416868859320632,-9.85707702457549,7.974829944884226,-6.2038377519547225,-11.985604862900782,-3.7375318956677015,11.408735810760648,3.7327493246589003,-12.219979965180801,1.8730424092242393,16.781300405304204,-14.428826617702363,0.9974885458866677,11.180264137869381,-15.368798344724423,-5.739938327276504,16.507131391926034,-7.907345646947364,-7.003741582918062,0.06123446528087578,16.912625771138757,-21.852809444690315,0.5356312066661052,7.748703508327657,-11.556292667893555,0.9771705445709328,-3.7915986416906113,-4.11554373858111,15.643619965181287,-2.0539000171708492,-12.063712071873013,15.599979001181376,-0.34281310875824145,-1.347866960500357,7.4001417302506,-11.669439524893914,-3.7727562242426416,-21.22306051194339,-16.04242992136291,4.988779412284824,1.884764485703509,-4.196291524512772,-4.2164469486023215,-2.9453919575315495,0.9013028801717479,-5.40572662080794,-23.05845280818928,-3.6252324622883294,-6.900762213688301,-12.684940930126654,-8.071357986200667,1.363399203759185,14.637712034903798,6.8087818155426945,4.40892989033814,-17.343762894917624,0.5140702551557133,5.260523481531485,-5.751368547361778,13.33857599304143,14.86529607407154,12.474821376594123,-6.552698400213908,-1.488018484782667,0.3545102824294211,-7.20609032829329,-7.894080191446143,4.969340865675724,6.280998791351565,-6.309142474294534,4.206047936232332,-8.348893774456933,-2.174028054449548,-5.598771674443703,-7.02268936313959,-18.96542715803703,17.013426001955228,-8.19103941163384,28.38469886088333,-1.6296853309088428,-19.593953387034684,-2.086445225146531,15.446869806019949,-1.519150356520103,-9.186942318950708,-0.5186009673679807,-4.6892176239324,6.323454310093,-12.763067374003015,14.179803072061928,3.187521960344335,-5.4830428748620825,-3.0099219349986908,10.263697968209819,-6.904950333116425,-1.2113625185931767,2.890531135894021,2.402387811321485,8.134166492244706,0.9864717451297228,16.143836309214176,-9.577927540643723,-19.144173025107364,4.483542067544305,-8.726038898766387,-11.19655977903617,-17.54517870018429,15.09567896504448,1.9581738958237147,-3.8302007663513664,0.7613030163759501,2.4345681971685047,-16.781591325881646,0.4735150084437688,-2.4826427043477755,-9.19180174577392,6.444310324258014,17.01510096904247,-12.123618775606749,-1.6791255047005575,-6.618568390785806,0.7947974001463866,-5.647373693866889,9.777265144688759,-7.189641620283366,-15.774415727742511,26.363591477700414,-6.641507717083048,-5.888596727131991,2.298528927967519,14.740611144672592,-13.292578725432401,7.0742568413782925,-1.0376733012945345,-12.306312510310413,-13.676421049761192,18.410779073188614,-1.1146298348454005,1.6693475216893632,9.02219986683072,12.016722260465025,-5.7193645440841,7.031099934737746,-5.2269048169900705,-1.0417856043788938,-15.335170334829023,2.517208280078673,-9.120278420137922,-5.9025383909734375,-2.578352664693946,17.660638277554618,-2.5710796673487164,4.889013460424865,-3.5433650995152997,-14.822364988088486,-1.973555413822824,5.70519251270342,-0.6131982460352551,12.087395650553685,1.3735659071849873,-13.665476549892,-4.914477630507814,2.815671204099416,-0.8876602121131341,9.537100650238605,7.644893522473528,-10.538712284365278,-20.691616059884595,-17.18326614804971,-0.5867499852626704,3.227297577450321,-14.362009543959179,-4.7924315837646905,-9.301572498018322,20.449622749790425,20.09025301468035,-10.087898411179241,11.604556576366647,23.286511651520055,-8.346156585047083,-11.170857706905641,23.224596921312084,17.443203572556683,-7.446238683014336,0.9509347946704485,3.153662624948429,-15.978946163606523,0.910040819149958,0.7439469830784706,14.62369287954113,14.337609527460424,12.079401226790951,11.1413593874225,-1.1624057479366383,-5.310696356104199,2.4540780932635005,-9.175304335823917,-7.523611648421617,-0.5364624964383181,-2.0447093786003783,11.26284665752289,17.319959604443817,-10.551198903715585,-4.157445832660496,-11.749593489000011,-0.9944959493273886,13.84481519431232,-6.940608974090093,24.449839789314325,-7.9985895910996625,2.0760199397334342,-4.9580116922910555,-14.227487219875833,-0.7213936532993276,-9.973986678690634,-3.884521916217365,-17.836177345480767,17.739669811424434,4.852782127807758,3.284786626584565,-14.450784750968193,-10.323358815656327,1.554367749230683,-8.904339742946762,1.8973797827135315,-12.655877644303978,10.992554906896965,-1.9721743087946786,10.963163761959077,-9.207531585727832,-7.008156071758945,2.7703083547967498,10.561865794773112,1.4682276615851395,-0.9373862923675228,25.33163456827809,8.379133866747624,25.194180768348236,16.312678070227232,0.5219363258864166,0.5492215831815946,-0.6562375717189776,5.551354507416505,11.078052772537992,-1.716431993520013,-9.23783978274034,-8.50816538886505,5.7709568984099,-7.617277925760343,1.2946896082139223,-7.625738575075629,9.751930066233104,15.919556424544226,14.203975381654509,-13.888683092132977,-2.8643965327369276,9.814423967829583,-16.223491994263156,5.263436380438799,-13.832306277378803,-5.672427038166071,4.443208326526368,20.74787686969559,7.395837410403152,-9.180028141050961,6.621550787268828,7.97448734786335,-11.105680310679173,-0.6924836636782348,-15.728897408322723,-6.9346381199767695,2.5693618429502068,15.591241020262489,7.032269914759334,-11.91034549206835,-0.9810682287342714,11.731600703376326,-18.528667077034658,-2.102975517807814,-0.8829097382873123,-10.725222529158646,-2.20308921128384,-6.228351595077731,4.9601016367295845,12.302796520664483,7.620900721137577,-6.943497220529398,-11.68187290117333,7.190662377832915,-7.1743323738386,2.9905862695464287,-10.749315828062727,18.245150244959927,-6.773167301428635,-19.9932010117095,3.98633087655831,0.1070365934542221,12.369441528274184,-1.5205943644660194,-4.782587997530349,24.73072648022032,18.27207658015471,-20.433047513169925,-1.035887336270641,16.332797852072307,-6.692973263179145,-5.421989740373753,24.90520175291556,11.91975940443166,18.899300397244506,-2.8704617166318647,-16.61469118876763,4.029164857356899,7.749935975291806,-11.108603266268757,10.441677553842458,11.710313723366122,10.353382414751412,-7.763959099194832,-19.758879697663065,10.587299317224447,2.7793416745888693,-5.560196886796268,-15.812743519833722,-4.390327384510695,19.47205780314228,2.559754320656102,20.342295426973628,-8.98391636324109,-7.548319928342655,7.136078800302111,-13.582731882026023,12.711010366534497,7.071716707112284,16.01711467895649,7.722961286097363,-14.01300492811102,-8.23598976026727,11.018344070709075,1.3915562517347322,8.449835491664519,18.554464397562878,-23.725508232408856,16.398538663681062,-2.202258656016769,9.583501649486504,1.9530725632217776,-9.323123710468229,20.552854270451128,4.2808630453545025,-14.024951127651685,-0.8755547629884307,-4.12186396896231,2.5567310702838393,9.905558542076236,-16.77559807446823,6.580951273340508,12.481287462131588,2.8372897551925655,0.9935533197220998,-3.582921191752736,-9.362312497364417,-15.932488259148531,13.919997586103092,4.298640853192559,19.772590064854025,24.57583674636203,3.7857485106078124,-21.247202228651634,-20.013147255965166,4.808313129296905,-11.392800532728751,11.839888597361325,5.081213452796209,-10.23639150688327,-17.780208093562848,-2.8062281628412475,-2.1042854319862445,-19.67727258366271,3.0748769385475425,-3.569579844727278,-12.008630971831446,18.9095651681885,-4.013976870509751,1.9606438842971192,0.15610498305374942,5.845154631977515,-18.901181091890837,-4.568750379624528,-3.780126220263657,-11.810190250772571,-2.7897776751125503,10.191793077522535,14.339709791834876,-1.9504711813061177,-1.5458079508202434,-0.7362935804865544,-20.163380614485774,-1.9826753187151356,0.38426241207605577,-11.87102703846233,-9.574555603865416,19.658860160897063,-1.3947142561491794,-4.294475855962959,-1.5661125590154679,7.915875583189098,-16.70622513715659,-10.102203481024354,-2.5007344632977135,-16.447914628674045,-3.1123216187289593,3.750439206654965,2.352612310855988,-2.687096489126099,-8.667662743729709,-9.75486927751812,1.2495971825372572,-0.8274012189621754,-3.1894383841913343,2.7700817022070754,-14.194639284519438,-8.107170411849312,-22.821956542787255,-12.010712746428814,9.752176513510108,-6.136291865949668,2.138715686257475,-7.678308474449778,-10.609773994316342,15.964132769209485,13.554519008459819,-19.12892255832217,-6.9132044088700395,8.275659085496452,-7.502206668710336,15.838544604003522,4.607535380286422,9.51908577635474,3.1126861081796626,11.246155000416811,-18.33935831827965,5.070795625273992,11.795389794276746,-8.217622852428553,10.450972646049804,7.9977592061191425,7.672445589156997,1.757802650463571,-3.0464910102178786,-3.894742407468716,-11.945236088139927,-15.565496826838798,-4.181373264334242,-0.6919786294628075,19.936990831762984,-2.897082585829582,20.965863320212367,-11.837621713071936,-2.2184805603806725,4.423492204173282,-20.863437941078693,11.296803903134053,14.743827307653627,21.934346105434972,3.6223865112343447,-11.973601875376493,-11.811747101640027,12.591584888603236,14.339670820250923,-1.3420088539700923,16.8112182007297,-1.2338443215725754,-3.4944940275578733,-22.643747648666398,4.754558004533127,-5.017790030908348,-7.7589986169642176,15.966091706613529,1.651324293271762,-7.068238009455211,-6.845469636301075,-1.232554734022278,4.657518705346621,10.752771983834766,-1.3115169446961528,-4.349033187672377,-9.492333631767856,-20.29865613518479,3.1232637998011024,-9.178169571819403,-3.159629863157641,-18.73503709050694,20.305226436083927,-2.2936601516788917,20.85023286891106,-3.603302166481015,-0.5082656590977446,-14.234226957839114,-2.6399173696282423,-3.5331477718505084,-10.817313528425185,-3.665110877717849,-3.314800736206811,5.513640053040304,-11.744372497045127,-11.31376176876071,-1.2883567925424735,-5.124656649549562,-4.383731479480054,-13.163112966758261,21.526851569808024,-2.8743370829831565,-1.6529917230972488,-9.94812549435954,-11.226049713044292,12.557783794690305,2.30584653592331,-0.5480557884215003,-11.718379418241522,-8.76521184199548,17.964503425977732,11.012029294645902,4.937983133729905,-10.988697756333647,-2.9386798891217434,6.288371179398734,-13.224574207033335,8.99327783149113,-10.17514585985506,-14.296482673321776,23.89799355949748,3.772631013493769,9.531469665015239,-5.547899788132496,-5.886819204903275,9.735097496176307,-21.450337077519784,7.571830109302242,-1.8171843913848813,-16.22237096959635,-6.700787932854731,-6.824439869239451,-2.1557692241263022,11.614423810334188,-8.31308197367317,-8.33213435439286,-7.131133601382203,0.45599823835716846,-6.862876687345035,8.990941987274939,-13.789671150037472,18.281567319959084,-18.482908278677392,-17.944073795777832,6.556467827732678,-6.34959706460662,20.853921332066335,-8.272411324604048,-6.837111133025929,7.499661821207024,12.858685438215378,-8.10480894630492,-0.1683290680773046,5.735601303763365,-15.166711201342125,19.539744647220807,12.26773722604568,7.153117649969734,3.5253221463898754,0.25406776491587585,-17.848313319788094,-2.874801812780132,1.493980082559911,-15.860762541251297,7.240450216132733,9.297032779748069,2.160508378881138,-5.416493633899412,-9.96397446526188,17.699412164230992,-1.6179348885301388,-9.95910934274862,-2.704892604954921,-6.683443917644717,6.441289637786495,4.382105688323535,19.28230261896456,-13.016015590261913,-14.190170024096894,22.572574014493405,-10.73005494129855,4.796167722430916,4.538677271113728,24.108078040396062,20.168270725862477,-17.789887415701692,-5.747233420005049,6.906823539279845,4.712321846282564,21.522719815978288,2.9977720882208514,-7.8100521097880335,22.266719737038546,-12.063639913348641,11.131122815141353,9.293118399380736,-16.032493197175597,7.53552648769137,11.343967499644396,-18.72804576333024,-17.51864199353562,-2.4475767161976756,7.417612661431683,13.385098685447673,-4.937632495000036,7.085572931271913,16.166017451832296,-14.928460968940032,-4.0526536577391985,-13.073499051521011,-15.121017540291609,2.4961378540858083,15.874341705951322,-0.15854385302936444,15.396979928235835,10.607813556559405,-14.464248386155276,-16.640678157084615,-6.110475940629248,-5.054916454786571,-6.26452234420969,0.9972770584112953,5.169760460623899,-13.71450703341186,-9.812429880179401,-13.977453375664226,6.208576314600296,-4.0650279836057,3.4483160268728374,-9.216698739774904,1.2958166539309717,21.00702217891467,-1.9418098044133043,-5.567146447861101,-8.201203150288437,10.491175180786291,-17.686841743090547,5.841469778148426,-16.289498043124233,-14.848829343632383,12.159013339799245,19.548425196577657,-2.2937846902576142,-3.981976691830475,1.207503361521697,7.931097358982987,-18.515147196896816,6.080370929795243,-14.753437318923366,-10.287145932937232,13.786270709730463,13.435379404685227,5.757212361351987,-15.812698205925171,1.8223867711130133,11.318257031826056,-14.317389762082543,2.707304537623241,-12.859528126382443,-9.89633250804712,-15.199134893521038,-10.85492128837487,-2.529448956023527,12.814119843691351,-1.5783965691582347,-10.756459408799065,-13.388737484679082,7.526531241218143,-13.810785560094327,1.9748869569940886,-15.948575594072377,-4.903249667112326,-14.666356595128647,-13.845274979724016,-11.476921726746369,-1.330877210041051,-3.1724224461348367,-10.492113926250173,-9.780818479457732,1.5967022445111447,8.80200101535219,-23.584719304006533,1.6352981421550878,0.3414882151057799,-16.515747436276115,1.865584458321125,-3.0196307984137443,10.672376384298078,-7.076469229978567,0.39211486169321796,-22.56133006481943,-5.444756943953535,1.971017871876059,-21.760537971422053,10.764199068681844,12.385856426571374,12.343375037748048,-4.521630823204365,-12.70111299375241,3.5764325846311316,-2.4444166665946683,-13.810765935687442,-14.179122699134918,-7.6935221988161,0.45384754654128007,-0.2727172289181555,16.915167596524828,-12.195538749531503,-6.335436279955303,-5.6148060111067535,-21.66240396850604,6.427108941699328,-7.731404930321716,22.751119268233552,2.1271028684894824,-17.56508878561863,-8.673039930572063,13.50729323160367,-1.6251955971595486,5.708234724789073,6.2485290574268575,-17.63873899410856,3.111663039214185,-21.88189641495528,11.94656701300925,5.181975629932927,-17.363225216687262,9.600785158413874,-0.08081625908881064,-18.972503141535462,-6.0251350179689585,5.3169743247872665,7.368507277196826,11.268261555231799,-15.045514036510882,14.605650183515266,-2.169169232871539,-22.746637772089294,0.08959288337773051,-10.543374657246646,-15.422947854525153,-22.5260232790915,12.458105476142162,-1.1167998832047508,11.548033822677871,17.430614914660445,-3.2190772223133237,-17.10261169021153,-15.038558647417728,-1.8826650986745224,-13.887377319842033,-1.6848633666868087,5.8789132772853785,-19.507691274285598,-18.867730778167136,-11.947953441138885,5.368902482270261,-16.03207699988856,-1.0477147088473981,-4.314074203863692,11.428565477770007,25.120149335893302,10.569328450217586,3.535076851413006,5.043516271837012,4.137334590181661,-15.666971224330021,17.917560056971016,-0.5456739418539684,-9.671966874862026,4.545849626787748,28.77874709483344,12.088855946306063,-3.1441239711558238,3.224785920925952,-0.991162098152645,-8.656008176648632,1.758548663051565,-9.134445730821339,-4.58027682403221,4.374754909744126,26.82458429254418,6.809066077739546,-11.37357082128844,0.9452868108849986,6.092993130268778,-7.746513707084603,-3.3714011993189,0.2413988802229627,-7.4572946894419765,-10.440450484897154,5.062532364000685,-2.2002696781055153,10.697158135604983,4.23173480062819,-10.856591941902042,4.650118258019733,6.029041450890436,-9.653329958409012,-10.638607146213241,-10.264978634888672,5.653815235035277,-0.11489806768058337,-20.096773788469722,5.183692428666192,1.9215317024280603,9.530763121527238,-6.880500984307906,-10.493604577002017,20.07288933567722,23.954181360974847,6.74895175312695,-10.428561473734227,23.77524263140347,-11.573457190729071,21.107373684376356,24.444844259575916,16.14030533699642,10.962245084688604,7.674269725633484,-12.044171089501251,-9.032446382175145,-2.989822367352205,-12.142471085685449,10.93319987817676,13.708050634819642,-0.016276155380312664,-4.125290415514452,-7.517322940822003,0.11442893213641815,1.7369098913215577,-13.056105394995175,-7.246616173468967,1.0003794111651516,26.007299731611738,0.38487901739323693,27.245519806035233,-16.20646246783512,-8.348706249773134,21.16967617580877,-6.537015474191289,9.813239436823348,4.172361477061257,-1.0470463290750642,6.770739525920328,-19.85602501986425,-8.320683286727972,10.452155565119641,14.023044920878302,10.005489892274234,6.686728062027934,-11.131399881991255,11.294115464813228,0.9419402379992707,10.517928836157642,15.069240055843,-1.4738805779064283,12.691486851644267,9.93476497806718,1.1637261247636692,-7.698832820742924,5.221396612154468,6.285107652648941,12.9082292860481,-4.005982431058178,7.964817021707313,-5.928121944148355,-7.652245762300814,0.8931956506856851,-7.071825726897968,-1.5026312940934123,-10.248824786382986,26.627454078404476,-5.966383959332,-12.14650648999975,14.555910563133057,2.3667292819080368,-7.0968978766699475,-8.367175090677016,3.9416678521222686,0.579106159172307,-8.783984519434814,7.700892966568595,-3.161775669125272,-8.562708379087596,-10.111779416263921,-2.715314474651323,-2.740118815027105,13.519839571964916,18.006422494532437,22.081754623240368,6.389002811975524,-8.995896165855594,2.951009842895826,8.311995288738972,-17.71215929334989,4.067857838722907,0.030624906358396518,-3.6850210229541576,22.318971060641832,29.64994983033432,9.304535060487838,-10.972489120537913,4.604034555345876,7.725746646262673,-6.393636779530313,12.890109079316108,-1.5308186092119243,-6.322548093830655,16.319199153305792,18.045237691036387,11.434039686791172,-9.342927183346424,8.516548496188523,9.211380738213593,-18.855341190807913,13.499354804148798,-1.2995748969359098,-8.404017354911788,-5.54818577951992,5.5336330565403244,1.1160314406945064,11.343511458077584,7.449513102929486,-6.6700167221902875,-4.87832253578001,8.184914471861118,1.7794868473841894,4.347724278112632,-10.725749399695937,14.412728832123758,-10.985204223483901,-17.334632130580005,14.09144943064959,11.920462149459983,18.05886369766059,19.326299896801785,-11.48803073994658,10.097732609466375,9.033617408158857,-6.611120806630056,17.230290696910966,16.702102405314466,11.16890180780303,12.675019363024113,5.8472893807978155,-15.263101628292034,-1.2966171526146797,10.832341994335643,-2.95135533639073,10.78608580214539,8.94466272828115,11.36343157374315,-8.991300506304183,-2.3436129163730657,16.529122335021608,2.2174415868814448,-3.894865502888094,2.356548954668373,2.47878086699527,9.112945065355078,-1.5616427576684448,12.097703531198782,-2.148683002027827,0.14572109973298408,17.7783799260065,-15.798197534241098,10.840662878350656,-4.9185260643616004,23.619430722464866,18.837745722427616,-0.7069381913525407,12.553822969257174,6.15825920360796,18.51189494302803,-1.6316329519559551,-0.7853354235499811,15.27725423407416,-15.841734637947038,5.52253952823809,-2.323551775593494,-4.073744601629703,6.767330594499534,16.186993145223,0.2541567970794718,-7.138031364255247,0.9580275447898314,12.11882605949524,10.208132750631249,4.764268682501077,5.123468348372528,18.237783256222805,-15.942814533642863,3.6057532306064553,-8.476394450599324,-12.05211824323134,-14.115585922464035,12.210974974855505,14.25595069823753,7.799483037274836,23.020505193197845,4.384966012590433,-15.0201176985978,-0.910143631916579,8.32267707338206,-11.388855203289083,-11.80507279947139,-7.018179495184037,-1.0286453749608886,2.4415455411498606,1.966936943605148,5.728597181078672,-8.793205835428903,-2.229611948200132,26.99713755402132,2.013195213987453,-14.213892645401174,-3.871498503171494,13.235021136096977,-12.308727610431806,-8.1328644085645,-0.6238132381310859,-8.328268231973398,7.673229086333048,9.800840577399619,3.2068934970681764,-13.68661245647871,-2.3988234570208427,9.883837259712509,-14.91900908342814,9.053279137253945,0.2478700212507744,-0.9796937738561338,13.999178204049878,7.3389742004954615,-0.4589046818410854,-11.29894667043421,-9.395561920033655,8.429172866313923,-9.091823435248687,10.143370827104745,4.493639582837233,-4.054001215009116,-7.341961169902624,-2.222654615740758,1.4365439393199313,14.453837713467045,-4.950121907479075,-5.100924073975878,7.327184893715139,9.698348438353406,-11.032152637266158,4.922455547568637,-13.024268928143574,4.373695696924502,-5.537554597559518,-11.30887620125521,-4.272278125284582,-1.6369394481907065,10.17319910139931,-0.3612653431617712,1.6780365479537125,-4.114030283338964,8.694822077474209,-1.6074690293877674,-5.618917767729114,7.192312955167062,7.8796087842826035,12.738741027896447,0.7708993846083275,-2.798202146458279,2.4101772363738707,5.107715384059209,1.8417192742499668,-13.776622931581636,12.634732328390808,12.10737857853722,13.533400541530508,-13.329207644554055,0.7696964018019629,11.061091634493717,-4.723980262517741,-7.899734096746917,-4.17638147139438,-1.4900171793713535,8.359195091122087,9.360783505705026,-8.422616472160785,-7.280538102514502,-3.964267916918989,12.689106380458885,-8.490362156628569,13.33706866002101,4.798046464747311,22.363469257715312,11.742170304930372,3.042726393720306,-12.42988634151385,10.327481570316063,0.7561989629101443,3.3087046199680494,-9.670355906499447,7.345902748357711,8.09650902691448,-8.45715978678112,10.704392748903345,9.17678561417931,-12.562862811023063,-1.5815604732284578,12.070192457140223,-13.931496316280947,-9.645912921863118,4.262484812265116,5.707360683451839,15.141614063503967,-0.4221327567182766,10.114458836313268,13.977163487461182,-12.943534955126248,-0.5352099780058093,-8.984604031737291,-13.037419105758932,-5.287687245257015,22.409172543265537,3.0200631695568663,13.730465722974706,0.6468813757451185,-1.3578793837617806,-4.379594595533659,-0.7408930931279216,-2.193952162365076,-13.334146888292699,12.311506922801826,-1.6085393015652967,-14.829095587173933,-1.128286979148539,-3.610389994959387,8.41648973189815,-0.5527728700845502,12.199479564746301,-9.117813100367822,-3.162261800982568,26.26985059262613,8.90889189880917,-13.837810752820651,2.4513824861841873,10.035190354969139,-11.16019458172032,12.330751282634377,-7.201113189286962,-12.334494578080884,-4.450471068069995,15.758751884312865,-2.219926244428497,-9.281931749224773,3.5399353402861116,10.824320348237361,-18.016243730527222,4.652389617363603,-1.1756950503624453,-7.836106452556122,9.04988532400903,10.671461162696332,-5.856244615225431,-14.976797346073653,2.1900264849689153,9.336842212242745,-19.105493043621582,2.438892485011213,-8.4712655855082,-11.297854397605843,-6.809914524148566,-4.385326987639573,2.9137035739096198,13.509256760868391,3.7898831382466116,-13.687809376220251,-10.636111419837693,1.4891062766440093,-2.663317234416233,-0.8131993962327115,-7.53950813201809,6.993853314588852,-6.5992723755330625,-11.149547533879778,0.6661259519687703,-2.861088960134187,2.3330622068020204,-18.287305680325463,-15.551128026334936,9.415725169099252,18.04581366230042,-12.820793756972558,-3.4332717983357424,25.383939785212377,-16.314811098454683,11.628341506047843,18.10831677805536,15.10464805122833,-8.785448253615016,1.852292273030958,-11.318112712129148,-3.538362230723345,-3.8554558975758453,-4.32579753768314,11.855589332619397,16.758155289426544,15.819956541880739,-14.183346584230248,-2.0315270752635644,13.60348537896874,-0.8823312884514725,-12.019650260887635,-12.881015865519846,2.32126562418494,11.205332445332644,-0.07082315463069438,3.692750027395818,-13.499132125590462,-15.183689028149836,9.688773148321767,-7.772613557409464,7.862016401177269,-2.687237948633792,14.395591876305131,0.5292665541412973,-1.9151795362625958,-8.93580611964632,9.92295861540452,-3.8466581739834615,10.633246329978169,13.988345390126721,-8.908282878640355,12.467998445333142,-7.275954269215328,10.976155588143758,3.915532009416634,-13.325224799902328,6.54932876148671,12.18124732437792,-12.270845488570416,-5.485152563035873,4.842315099588901,-2.200104599408811,14.28583332188246,-9.508562912404393,12.074494665464956,8.441861520144256,-5.663628613265246,2.445255940170791,-13.135746670445013,-12.272779374984891,-19.556647756301594,26.44575312732026,16.417090030265793,20.719261034320834,11.075021746895631,-0.6270383643385163,-12.617590100515853,-9.462327042959936,2.229692873661005,-8.031768373425603,7.6486821863482595,7.555410938461407,-15.31137158981703,-2.8242033879798827,-12.989041303576736,1.2368842591073943,-12.951517366248229,10.378678725844075,-4.006868429195019,-16.260916610623468,-4.793769947882668,5.8358270010858835,-0.12324828352321827,0.1731407532803466,16.598913141095593,-2.11940817320666,1.7370604391312205,1.3442584239719324,-9.34155775253152,6.585061364011385,2.9148125169894668,-7.570619813008586,-0.17779943586873054,1.1181435109954836,19.003062733834188,-19.544158454447988,6.872509012598894,-6.221798464838965,-5.694946623605491,-15.754675331104112,-7.060587442472645,12.372408657923042,1.0931669985678494,-1.3358916510325465,11.171986202624808,-13.092112666139778,-3.1719275721110796,-8.30609034172247,-4.644275434884316,-8.170717646567393,5.8633866243012225,5.456441409647533,12.325886551340874,-2.6535189918780957,-11.430907906695703,-3.2362238032704447,0.2994824571426162,-8.772910694673664,2.3049092396684943,-6.871238386183013,12.906971625402331,-20.98811621804266,-12.92962636142207,5.271986753406125,3.607166077355392,13.653974923090955,-7.955371504641849,-10.240519981573302,-11.302915797515487,-11.35752132239185,-13.205097669898194,3.1811149956096836,-9.308546989646418,-13.277765712887266,-9.806442216452298,-9.713529400469282,13.448495952544206,3.888847853355582,-4.087865899229958,-12.649065988783446,-3.4827404835106535,0.7664710129091381,0.737518559253669,11.67714789160455,10.44117121861891,14.316828246230523,-9.165745984723696,-3.561887408079527,11.983610014351372,4.671909370013598,-12.259325973854526,-6.07096779673714,3.894214045712831,8.176751011664837,8.16807431284988,-9.61702443125972,-10.836888500780253,-2.923675239742579,-3.8399524431204113,-13.79696159472651,9.539125872117342,8.542695165503611,7.1778659226386035,11.92305113802392,4.782876704684476,-10.359205897128206,12.258613812355268,4.452562897818481,7.859149273887493,10.040117783932132,0.7905719697296595,16.519749054857634,-18.157251856018533,15.000184129755484,7.595370227733299,-3.5723753826510505,0.8975935282193749,13.770659223079685,-12.183702251211248,-9.753182007246227,2.7995481316928497,7.755371985979923,7.461324408073646,-10.584155930311772,8.08781391105222,12.954920628542983,-7.637772586311785,2.5551140585787513,-1.7407165778045033,-3.205835848278521,-20.21145271156268,-6.414697016344531,6.007908173622581,4.417594604858201,-0.20055173331911494,3.5956928341205106,-14.379771911949437,-9.03291131243143,-4.407621781562486,-4.025610873412072,1.9031117650009215,3.8000231515893135,-9.707448886296248,-3.2289241016036483,-7.824727921943025,0.19606166339722086,-6.048289835981704,-10.041753311802642,24.714617885875597,10.135307267632603,-7.157770459340777,-2.7487617886255618,8.510544622538927,-19.17544966698021,-2.6219607285701256,-6.730351547020781,-6.7243815583422055,-14.168201318661165,25.853776515883006,10.59755533813031,-7.114381506245486,0.5175431806037051,8.547429618699756,-23.18024019066256,-0.3553430847554883,-5.31755966981405,-4.83319659318807,-10.456295558425296,27.46860889064959,12.291064331406561,-11.912616556694285,5.899157872904764,9.1769352614916,-19.717245708401723,3.016976931216486,-1.484056508186433,-4.504194883074168,-1.226740769782499,2.1188895822190443,0.4854412643514717,7.04040952387703,-2.541045622350741,-4.716817509155693,-4.297225627592908,-2.7766505557022056,0.8537351928656292,-1.2133037107814362,-14.4690845176897,-12.712671437013375,-20.041224009062194,-17.88443089540733,7.786520081888391,0.309123531593891,-14.300163565449237,-6.9206647264329355,-4.631155194498013,17.568783645485805,21.791814255812923,-16.778454864063946,-10.358666878439397,20.740552807732996,-4.529442299418722,-13.313078818344495,23.622653585447644,3.731335743701,17.92318870959604,12.803054148685831,-17.27578484625579,11.193444518808462,5.043698757546531,-4.717700584317071,10.264715095367926,9.871123716147624,13.597942478814558,-10.997107953181155,0.1134147038416116,-13.261448132637971,-0.5295023510923259,-8.619456671618503,1.7943650700395684,3.3211484908294175,22.73822297791827,-6.750048671188006,23.531470425381496,-4.4643509266575885,-9.776628086614272,-14.95647789495381,-21.761669299087412,4.256939242760544,11.893285574800135,24.32954531712348,-12.910873693094793,-16.90242204981736,-9.734513290529764,9.683956681975367,8.101878755594818,-7.628752317049131,3.7916909976364463,-7.639709492852694,-12.179967063348734,-21.067545727107735,11.015184976288209,-7.9232297664720805,-15.277685980395395,1.6704079350998342,-16.63617853073057,-9.810499966963345,-4.874457196863377,0.2926137326516715,13.547553774114105,11.259212243075089,2.83471796690644,10.844902509544427,-14.799561707288268,-20.73889001378756,4.077323815833427,-10.291393665957024,-11.708451757609218,-21.755271422548223,23.135804606924378,-8.684873233742566,7.1714924364071315,20.5286567811537,2.654494352748449,-20.776525303660506,-4.087507542256049,-1.5309487158635287,-7.442237282211309,-6.925708305607105,-4.768309385672955,-8.158578681095173,-11.486018378276748,-8.63021355048596,-11.772817342747047,-8.899101192341789,-5.314956800033815,-11.044937320364712,3.253924750704834,12.092467798052132,1.9126268307133205,-11.831197042743856,1.729006614557314,12.283153251203036,10.208511953769907,2.1258686527069215,-14.250525408128729,-7.532406779140882,9.134728274424576,-4.581403092434517,-11.118749833681843,-10.544965379557048,-1.0100331840474186,10.458498364333067,-19.673984314306463,-8.735798132115479,8.697079807199858,-0.4663781971004588,4.496797112755156,-12.3996723584654,-1.4718757885478484,14.724328367006523,0.4035732418379762,-2.153064378166756,-17.17813909541191,-12.3536907922477,-18.354872416362422,3.9441282053973343,4.486427167762661,15.977438144947829,-1.3868266666028866,-6.1332372932490475,-6.664761186148249,-12.768784817065255,-6.1258346604516545,0.6242355134748465,-13.103778631615024,10.41869043348362,-10.112804027231208,2.322086830175493,2.857772327711198,0.4769326274527703,11.573572455057306,-3.664365621843704,-7.387042535021999,-5.256850402618614,16.139706204448675,4.350128246058943,-0.1451028415497968,-8.540200141472388,-3.081807192495134,5.4671154213270095,25.035229804145608,12.328761757148682,4.9151110374422835,-0.18466795469613634,2.109466993261293,-4.561157782736498,5.206294344272236,-12.227879610294817,10.32458836567369,10.762643775742855,9.88043662215786,1.9326265058935277,-19.923046720085544,12.581955313696605,2.7489682956596337,-6.697541993475415,-1.2245965918579444,4.413431153578282,-3.966482285242872,-2.217266937453055,-8.227047722548598,12.790192458465404,-5.506232653517091,9.897287133511131,0.11794813791315065,25.22339379661136,10.771969850048409,8.42490385821362,-3.0414860791204847,11.855273566030922,-1.8246649050474724,11.908280662640145,-0.3275071224507668,-15.802959341880507,10.479814745970929,-2.2949529767256225,10.343491888249792,-4.485895290321206,-10.626490710951982,2.8746830701632056,8.078355656571372,-11.8323339942884,-14.450194519860336,4.9475834570948924,3.6009011249703025,13.214644520273254,-1.2197662121788517,10.284508116223062,8.231174825535279,-14.702231182421821,6.182081142025862,-11.192906779003355,-10.45363527938255,-5.295847253597295,27.52759644801197,-5.779671048539518,-0.36986221242072964,-0.7996558546308332,4.490487902817212,2.633010228385092,0.4994982340358021,-12.798822038404635,-0.5565976217185482,-15.549266988173796,-5.947126811638279,-7.483133905256868,-8.982447712243552,-4.88196834417428,12.53617356837662,17.458687900015402,10.335029572439883,-3.949924339579416,-9.743141682739013,13.835893086058833,-16.32647456970121,8.259426451851963,-3.845762340513727,-5.567107624442548,1.2285553520303172,17.290444873506555,7.633691600154734,-11.560252216629435,-8.421893700893737,7.989294173197553,-22.918920242221976,10.66278650596669,-8.619799807661343,-3.6384450549421836,16.439265109080036,6.457061613437569,11.398840271956038,-11.512464646822052,-11.239292053804226,12.824613103599281,-17.355851458330932,12.298240510941024,-1.2760903834767532,-6.339347804884738,-6.408062421188773,-3.969089133131502,-9.686968867340077,16.750203729863657,-6.752712326603923,-10.382555124921906,-8.872385418153534,9.9349403483859,-11.504939682126096,6.280145004175688,-14.887176311011658,12.028031252438417,-16.34209374500494,-23.321009209344187,-1.4211695569810188,-8.538790098008471,7.438772016853368,-9.660877800353342,-9.520231101901338,23.326593709270288,26.780338192383773,-12.284898252359921,1.3433926146013742,24.334610007592342,-9.394602069441138,12.463542899911085,26.269210536401992,10.336885777398054,1.579886258519516,-1.529369667090109,-7.672126922356224,8.000355038615083,-1.0941246125578517,-7.815317279870539,13.013500229964286,13.865428852797345,9.82116761049338,-1.5030114292763808,-1.8842760226032995,3.0071932180525245,-13.33646607086405,-8.227333435023748,-0.9907695556705629,-8.716017311966562,9.370629276014569,10.255304157389643,12.431479603800655,-8.121126035593182,-4.809439400758997,0.1953394125182489,0.6786697829421885,15.446530324930027,-0.10507282716965831,8.453889952820656,-2.37720345248675,-4.337384500851066,-5.491750334275242,14.63425358596468,1.905302561370188,0.9081746720803995,9.094807330813463,-8.342914902264486,11.428084500199212,-16.8825270972398,14.897525990264512,8.717603532296476,-10.694474755776467,5.824339028569821,2.212439391155859,-1.7586814153704233,3.304376402089178,-1.7317123758773052,5.71127849731785,15.26382045147781,-9.352344421365387,12.203182108499727,2.3958299462242314,-6.524670076860897,1.3846711439825283,-6.09713595119204,-5.0129762492877985,-19.9882679700264,18.74875185143454,13.937080096381399,23.365542808313865,22.857203554808333,-6.609815720799528,-5.6364372406943835,-7.846564863518308,0.24117176348380484,-6.268202729860102,11.0471796790173,6.899151241338386,-7.856886788262271,-10.637665075139513,-14.044008698948176,8.583151205535362,-8.349035404620729,11.820829229946126],\"type\":\"scatter3d\"}],                        {\"template\":{\"data\":{\"bar\":[{\"error_x\":{\"color\":\"#2a3f5f\"},\"error_y\":{\"color\":\"#2a3f5f\"},\"marker\":{\"line\":{\"color\":\"#E5ECF6\",\"width\":0.5},\"pattern\":{\"fillmode\":\"overlay\",\"size\":10,\"solidity\":0.2}},\"type\":\"bar\"}],\"barpolar\":[{\"marker\":{\"line\":{\"color\":\"#E5ECF6\",\"width\":0.5},\"pattern\":{\"fillmode\":\"overlay\",\"size\":10,\"solidity\":0.2}},\"type\":\"barpolar\"}],\"carpet\":[{\"aaxis\":{\"endlinecolor\":\"#2a3f5f\",\"gridcolor\":\"white\",\"linecolor\":\"white\",\"minorgridcolor\":\"white\",\"startlinecolor\":\"#2a3f5f\"},\"baxis\":{\"endlinecolor\":\"#2a3f5f\",\"gridcolor\":\"white\",\"linecolor\":\"white\",\"minorgridcolor\":\"white\",\"startlinecolor\":\"#2a3f5f\"},\"type\":\"carpet\"}],\"choropleth\":[{\"colorbar\":{\"outlinewidth\":0,\"ticks\":\"\"},\"type\":\"choropleth\"}],\"contour\":[{\"colorbar\":{\"outlinewidth\":0,\"ticks\":\"\"},\"colorscale\":[[0.0,\"#0d0887\"],[0.1111111111111111,\"#46039f\"],[0.2222222222222222,\"#7201a8\"],[0.3333333333333333,\"#9c179e\"],[0.4444444444444444,\"#bd3786\"],[0.5555555555555556,\"#d8576b\"],[0.6666666666666666,\"#ed7953\"],[0.7777777777777778,\"#fb9f3a\"],[0.8888888888888888,\"#fdca26\"],[1.0,\"#f0f921\"]],\"type\":\"contour\"}],\"contourcarpet\":[{\"colorbar\":{\"outlinewidth\":0,\"ticks\":\"\"},\"type\":\"contourcarpet\"}],\"heatmap\":[{\"colorbar\":{\"outlinewidth\":0,\"ticks\":\"\"},\"colorscale\":[[0.0,\"#0d0887\"],[0.1111111111111111,\"#46039f\"],[0.2222222222222222,\"#7201a8\"],[0.3333333333333333,\"#9c179e\"],[0.4444444444444444,\"#bd3786\"],[0.5555555555555556,\"#d8576b\"],[0.6666666666666666,\"#ed7953\"],[0.7777777777777778,\"#fb9f3a\"],[0.8888888888888888,\"#fdca26\"],[1.0,\"#f0f921\"]],\"type\":\"heatmap\"}],\"heatmapgl\":[{\"colorbar\":{\"outlinewidth\":0,\"ticks\":\"\"},\"colorscale\":[[0.0,\"#0d0887\"],[0.1111111111111111,\"#46039f\"],[0.2222222222222222,\"#7201a8\"],[0.3333333333333333,\"#9c179e\"],[0.4444444444444444,\"#bd3786\"],[0.5555555555555556,\"#d8576b\"],[0.6666666666666666,\"#ed7953\"],[0.7777777777777778,\"#fb9f3a\"],[0.8888888888888888,\"#fdca26\"],[1.0,\"#f0f921\"]],\"type\":\"heatmapgl\"}],\"histogram\":[{\"marker\":{\"pattern\":{\"fillmode\":\"overlay\",\"size\":10,\"solidity\":0.2}},\"type\":\"histogram\"}],\"histogram2d\":[{\"colorbar\":{\"outlinewidth\":0,\"ticks\":\"\"},\"colorscale\":[[0.0,\"#0d0887\"],[0.1111111111111111,\"#46039f\"],[0.2222222222222222,\"#7201a8\"],[0.3333333333333333,\"#9c179e\"],[0.4444444444444444,\"#bd3786\"],[0.5555555555555556,\"#d8576b\"],[0.6666666666666666,\"#ed7953\"],[0.7777777777777778,\"#fb9f3a\"],[0.8888888888888888,\"#fdca26\"],[1.0,\"#f0f921\"]],\"type\":\"histogram2d\"}],\"histogram2dcontour\":[{\"colorbar\":{\"outlinewidth\":0,\"ticks\":\"\"},\"colorscale\":[[0.0,\"#0d0887\"],[0.1111111111111111,\"#46039f\"],[0.2222222222222222,\"#7201a8\"],[0.3333333333333333,\"#9c179e\"],[0.4444444444444444,\"#bd3786\"],[0.5555555555555556,\"#d8576b\"],[0.6666666666666666,\"#ed7953\"],[0.7777777777777778,\"#fb9f3a\"],[0.8888888888888888,\"#fdca26\"],[1.0,\"#f0f921\"]],\"type\":\"histogram2dcontour\"}],\"mesh3d\":[{\"colorbar\":{\"outlinewidth\":0,\"ticks\":\"\"},\"type\":\"mesh3d\"}],\"parcoords\":[{\"line\":{\"colorbar\":{\"outlinewidth\":0,\"ticks\":\"\"}},\"type\":\"parcoords\"}],\"pie\":[{\"automargin\":true,\"type\":\"pie\"}],\"scatter\":[{\"marker\":{\"colorbar\":{\"outlinewidth\":0,\"ticks\":\"\"}},\"type\":\"scatter\"}],\"scatter3d\":[{\"line\":{\"colorbar\":{\"outlinewidth\":0,\"ticks\":\"\"}},\"marker\":{\"colorbar\":{\"outlinewidth\":0,\"ticks\":\"\"}},\"type\":\"scatter3d\"}],\"scattercarpet\":[{\"marker\":{\"colorbar\":{\"outlinewidth\":0,\"ticks\":\"\"}},\"type\":\"scattercarpet\"}],\"scattergeo\":[{\"marker\":{\"colorbar\":{\"outlinewidth\":0,\"ticks\":\"\"}},\"type\":\"scattergeo\"}],\"scattergl\":[{\"marker\":{\"colorbar\":{\"outlinewidth\":0,\"ticks\":\"\"}},\"type\":\"scattergl\"}],\"scattermapbox\":[{\"marker\":{\"colorbar\":{\"outlinewidth\":0,\"ticks\":\"\"}},\"type\":\"scattermapbox\"}],\"scatterpolar\":[{\"marker\":{\"colorbar\":{\"outlinewidth\":0,\"ticks\":\"\"}},\"type\":\"scatterpolar\"}],\"scatterpolargl\":[{\"marker\":{\"colorbar\":{\"outlinewidth\":0,\"ticks\":\"\"}},\"type\":\"scatterpolargl\"}],\"scatterternary\":[{\"marker\":{\"colorbar\":{\"outlinewidth\":0,\"ticks\":\"\"}},\"type\":\"scatterternary\"}],\"surface\":[{\"colorbar\":{\"outlinewidth\":0,\"ticks\":\"\"},\"colorscale\":[[0.0,\"#0d0887\"],[0.1111111111111111,\"#46039f\"],[0.2222222222222222,\"#7201a8\"],[0.3333333333333333,\"#9c179e\"],[0.4444444444444444,\"#bd3786\"],[0.5555555555555556,\"#d8576b\"],[0.6666666666666666,\"#ed7953\"],[0.7777777777777778,\"#fb9f3a\"],[0.8888888888888888,\"#fdca26\"],[1.0,\"#f0f921\"]],\"type\":\"surface\"}],\"table\":[{\"cells\":{\"fill\":{\"color\":\"#EBF0F8\"},\"line\":{\"color\":\"white\"}},\"header\":{\"fill\":{\"color\":\"#C8D4E3\"},\"line\":{\"color\":\"white\"}},\"type\":\"table\"}]},\"layout\":{\"annotationdefaults\":{\"arrowcolor\":\"#2a3f5f\",\"arrowhead\":0,\"arrowwidth\":1},\"autotypenumbers\":\"strict\",\"coloraxis\":{\"colorbar\":{\"outlinewidth\":0,\"ticks\":\"\"}},\"colorscale\":{\"diverging\":[[0,\"#8e0152\"],[0.1,\"#c51b7d\"],[0.2,\"#de77ae\"],[0.3,\"#f1b6da\"],[0.4,\"#fde0ef\"],[0.5,\"#f7f7f7\"],[0.6,\"#e6f5d0\"],[0.7,\"#b8e186\"],[0.8,\"#7fbc41\"],[0.9,\"#4d9221\"],[1,\"#276419\"]],\"sequential\":[[0.0,\"#0d0887\"],[0.1111111111111111,\"#46039f\"],[0.2222222222222222,\"#7201a8\"],[0.3333333333333333,\"#9c179e\"],[0.4444444444444444,\"#bd3786\"],[0.5555555555555556,\"#d8576b\"],[0.6666666666666666,\"#ed7953\"],[0.7777777777777778,\"#fb9f3a\"],[0.8888888888888888,\"#fdca26\"],[1.0,\"#f0f921\"]],\"sequentialminus\":[[0.0,\"#0d0887\"],[0.1111111111111111,\"#46039f\"],[0.2222222222222222,\"#7201a8\"],[0.3333333333333333,\"#9c179e\"],[0.4444444444444444,\"#bd3786\"],[0.5555555555555556,\"#d8576b\"],[0.6666666666666666,\"#ed7953\"],[0.7777777777777778,\"#fb9f3a\"],[0.8888888888888888,\"#fdca26\"],[1.0,\"#f0f921\"]]},\"colorway\":[\"#636efa\",\"#EF553B\",\"#00cc96\",\"#ab63fa\",\"#FFA15A\",\"#19d3f3\",\"#FF6692\",\"#B6E880\",\"#FF97FF\",\"#FECB52\"],\"font\":{\"color\":\"#2a3f5f\"},\"geo\":{\"bgcolor\":\"white\",\"lakecolor\":\"white\",\"landcolor\":\"#E5ECF6\",\"showlakes\":true,\"showland\":true,\"subunitcolor\":\"white\"},\"hoverlabel\":{\"align\":\"left\"},\"hovermode\":\"closest\",\"mapbox\":{\"style\":\"light\"},\"paper_bgcolor\":\"white\",\"plot_bgcolor\":\"#E5ECF6\",\"polar\":{\"angularaxis\":{\"gridcolor\":\"white\",\"linecolor\":\"white\",\"ticks\":\"\"},\"bgcolor\":\"#E5ECF6\",\"radialaxis\":{\"gridcolor\":\"white\",\"linecolor\":\"white\",\"ticks\":\"\"}},\"scene\":{\"xaxis\":{\"backgroundcolor\":\"#E5ECF6\",\"gridcolor\":\"white\",\"gridwidth\":2,\"linecolor\":\"white\",\"showbackground\":true,\"ticks\":\"\",\"zerolinecolor\":\"white\"},\"yaxis\":{\"backgroundcolor\":\"#E5ECF6\",\"gridcolor\":\"white\",\"gridwidth\":2,\"linecolor\":\"white\",\"showbackground\":true,\"ticks\":\"\",\"zerolinecolor\":\"white\"},\"zaxis\":{\"backgroundcolor\":\"#E5ECF6\",\"gridcolor\":\"white\",\"gridwidth\":2,\"linecolor\":\"white\",\"showbackground\":true,\"ticks\":\"\",\"zerolinecolor\":\"white\"}},\"shapedefaults\":{\"line\":{\"color\":\"#2a3f5f\"}},\"ternary\":{\"aaxis\":{\"gridcolor\":\"white\",\"linecolor\":\"white\",\"ticks\":\"\"},\"baxis\":{\"gridcolor\":\"white\",\"linecolor\":\"white\",\"ticks\":\"\"},\"bgcolor\":\"#E5ECF6\",\"caxis\":{\"gridcolor\":\"white\",\"linecolor\":\"white\",\"ticks\":\"\"}},\"title\":{\"x\":0.05},\"xaxis\":{\"automargin\":true,\"gridcolor\":\"white\",\"linecolor\":\"white\",\"ticks\":\"\",\"title\":{\"standoff\":15},\"zerolinecolor\":\"white\",\"zerolinewidth\":2},\"yaxis\":{\"automargin\":true,\"gridcolor\":\"white\",\"linecolor\":\"white\",\"ticks\":\"\",\"title\":{\"standoff\":15},\"zerolinecolor\":\"white\",\"zerolinewidth\":2}}},\"scene\":{\"domain\":{\"x\":[0.0,1.0],\"y\":[0.0,1.0]},\"xaxis\":{\"title\":{\"text\":\"X\"}},\"yaxis\":{\"title\":{\"text\":\"Y\"}},\"zaxis\":{\"title\":{\"text\":\"Z\"}}},\"coloraxis\":{\"colorbar\":{\"title\":{\"text\":\"C\"}},\"colorscale\":[[0.0,\"#0d0887\"],[0.1111111111111111,\"#46039f\"],[0.2222222222222222,\"#7201a8\"],[0.3333333333333333,\"#9c179e\"],[0.4444444444444444,\"#bd3786\"],[0.5555555555555556,\"#d8576b\"],[0.6666666666666666,\"#ed7953\"],[0.7777777777777778,\"#fb9f3a\"],[0.8888888888888888,\"#fdca26\"],[1.0,\"#f0f921\"]]},\"legend\":{\"tracegroupgap\":0},\"margin\":{\"t\":60}},                        {\"responsive\": true}                    ).then(function(){\n",
              "                            \n",
              "var gd = document.getElementById('86f6e125-ea40-460e-820a-42462342c245');\n",
              "var x = new MutationObserver(function (mutations, observer) {{\n",
              "        var display = window.getComputedStyle(gd).display;\n",
              "        if (!display || display === 'none') {{\n",
              "            console.log([gd, 'removed!']);\n",
              "            Plotly.purge(gd);\n",
              "            observer.disconnect();\n",
              "        }}\n",
              "}});\n",
              "\n",
              "// Listen for the removal of the full notebook cells\n",
              "var notebookContainer = gd.closest('#notebook-container');\n",
              "if (notebookContainer) {{\n",
              "    x.observe(notebookContainer, {childList: true});\n",
              "}}\n",
              "\n",
              "// Listen for the clearing of the current output cell\n",
              "var outputEl = gd.closest('.output');\n",
              "if (outputEl) {{\n",
              "    x.observe(outputEl, {childList: true});\n",
              "}}\n",
              "\n",
              "                        })                };                            </script>        </div>\n",
              "</body>\n",
              "</html>"
            ]
          },
          "metadata": {}
        }
      ]
    },
    {
      "cell_type": "code",
      "source": [
        "from sklearn.pipeline import make_pipeline\n",
        "from sklearn.decomposition import KernelPCA\n",
        "import pandas as pd\n",
        "import plotly.express as px\n",
        "md2 = make_pipeline(SelectKBest(k = 30), KernelPCA(kernel = \"rbf\", n_components = 6))\n",
        "x_new2 = md2.fit_transform(x, y)"
      ],
      "metadata": {
        "colab": {
          "base_uri": "https://localhost:8080/"
        },
        "id": "Xkw1-PF7bBYD",
        "outputId": "6776dd8a-6d87-4f8e-a23b-0a44f91e840a"
      },
      "execution_count": 49,
      "outputs": [
        {
          "output_type": "stream",
          "name": "stderr",
          "text": [
            "/usr/local/lib/python3.7/dist-packages/sklearn/feature_selection/_univariate_selection.py:112: UserWarning:\n",
            "\n",
            "Features [ 0 32 39] are constant.\n",
            "\n",
            "/usr/local/lib/python3.7/dist-packages/sklearn/feature_selection/_univariate_selection.py:113: RuntimeWarning:\n",
            "\n",
            "invalid value encountered in true_divide\n",
            "\n"
          ]
        }
      ]
    },
    {
      "cell_type": "code",
      "source": [
        "df2 = pd.DataFrame({\"X\" : x_new2[:, 0], \"Y\" : x_new2[:, 1], \"Z\" : x_new2[:, 2], \"C\" : y})\n",
        "df2.head()"
      ],
      "metadata": {
        "colab": {
          "base_uri": "https://localhost:8080/",
          "height": 206
        },
        "id": "8SoTboMfboUt",
        "outputId": "974584b6-6112-4ba5-b270-e1fcca8c3dcf"
      },
      "execution_count": 50,
      "outputs": [
        {
          "output_type": "execute_result",
          "data": {
            "text/plain": [
              "          X         Y         Z  C\n",
              "0 -0.004879 -0.004892 -0.013003  0\n",
              "1 -0.001904 -0.000930 -0.002036  1\n",
              "2 -0.001876 -0.000907 -0.001985  2\n",
              "3 -0.001904 -0.000926 -0.002028  3\n",
              "4 -0.001874 -0.000906 -0.001983  4"
            ],
            "text/html": [
              "\n",
              "  <div id=\"df-da304f34-8424-436b-9f28-3aaaf8e207b0\">\n",
              "    <div class=\"colab-df-container\">\n",
              "      <div>\n",
              "<style scoped>\n",
              "    .dataframe tbody tr th:only-of-type {\n",
              "        vertical-align: middle;\n",
              "    }\n",
              "\n",
              "    .dataframe tbody tr th {\n",
              "        vertical-align: top;\n",
              "    }\n",
              "\n",
              "    .dataframe thead th {\n",
              "        text-align: right;\n",
              "    }\n",
              "</style>\n",
              "<table border=\"1\" class=\"dataframe\">\n",
              "  <thead>\n",
              "    <tr style=\"text-align: right;\">\n",
              "      <th></th>\n",
              "      <th>X</th>\n",
              "      <th>Y</th>\n",
              "      <th>Z</th>\n",
              "      <th>C</th>\n",
              "    </tr>\n",
              "  </thead>\n",
              "  <tbody>\n",
              "    <tr>\n",
              "      <th>0</th>\n",
              "      <td>-0.004879</td>\n",
              "      <td>-0.004892</td>\n",
              "      <td>-0.013003</td>\n",
              "      <td>0</td>\n",
              "    </tr>\n",
              "    <tr>\n",
              "      <th>1</th>\n",
              "      <td>-0.001904</td>\n",
              "      <td>-0.000930</td>\n",
              "      <td>-0.002036</td>\n",
              "      <td>1</td>\n",
              "    </tr>\n",
              "    <tr>\n",
              "      <th>2</th>\n",
              "      <td>-0.001876</td>\n",
              "      <td>-0.000907</td>\n",
              "      <td>-0.001985</td>\n",
              "      <td>2</td>\n",
              "    </tr>\n",
              "    <tr>\n",
              "      <th>3</th>\n",
              "      <td>-0.001904</td>\n",
              "      <td>-0.000926</td>\n",
              "      <td>-0.002028</td>\n",
              "      <td>3</td>\n",
              "    </tr>\n",
              "    <tr>\n",
              "      <th>4</th>\n",
              "      <td>-0.001874</td>\n",
              "      <td>-0.000906</td>\n",
              "      <td>-0.001983</td>\n",
              "      <td>4</td>\n",
              "    </tr>\n",
              "  </tbody>\n",
              "</table>\n",
              "</div>\n",
              "      <button class=\"colab-df-convert\" onclick=\"convertToInteractive('df-da304f34-8424-436b-9f28-3aaaf8e207b0')\"\n",
              "              title=\"Convert this dataframe to an interactive table.\"\n",
              "              style=\"display:none;\">\n",
              "        \n",
              "  <svg xmlns=\"http://www.w3.org/2000/svg\" height=\"24px\"viewBox=\"0 0 24 24\"\n",
              "       width=\"24px\">\n",
              "    <path d=\"M0 0h24v24H0V0z\" fill=\"none\"/>\n",
              "    <path d=\"M18.56 5.44l.94 2.06.94-2.06 2.06-.94-2.06-.94-.94-2.06-.94 2.06-2.06.94zm-11 1L8.5 8.5l.94-2.06 2.06-.94-2.06-.94L8.5 2.5l-.94 2.06-2.06.94zm10 10l.94 2.06.94-2.06 2.06-.94-2.06-.94-.94-2.06-.94 2.06-2.06.94z\"/><path d=\"M17.41 7.96l-1.37-1.37c-.4-.4-.92-.59-1.43-.59-.52 0-1.04.2-1.43.59L10.3 9.45l-7.72 7.72c-.78.78-.78 2.05 0 2.83L4 21.41c.39.39.9.59 1.41.59.51 0 1.02-.2 1.41-.59l7.78-7.78 2.81-2.81c.8-.78.8-2.07 0-2.86zM5.41 20L4 18.59l7.72-7.72 1.47 1.35L5.41 20z\"/>\n",
              "  </svg>\n",
              "      </button>\n",
              "      \n",
              "  <style>\n",
              "    .colab-df-container {\n",
              "      display:flex;\n",
              "      flex-wrap:wrap;\n",
              "      gap: 12px;\n",
              "    }\n",
              "\n",
              "    .colab-df-convert {\n",
              "      background-color: #E8F0FE;\n",
              "      border: none;\n",
              "      border-radius: 50%;\n",
              "      cursor: pointer;\n",
              "      display: none;\n",
              "      fill: #1967D2;\n",
              "      height: 32px;\n",
              "      padding: 0 0 0 0;\n",
              "      width: 32px;\n",
              "    }\n",
              "\n",
              "    .colab-df-convert:hover {\n",
              "      background-color: #E2EBFA;\n",
              "      box-shadow: 0px 1px 2px rgba(60, 64, 67, 0.3), 0px 1px 3px 1px rgba(60, 64, 67, 0.15);\n",
              "      fill: #174EA6;\n",
              "    }\n",
              "\n",
              "    [theme=dark] .colab-df-convert {\n",
              "      background-color: #3B4455;\n",
              "      fill: #D2E3FC;\n",
              "    }\n",
              "\n",
              "    [theme=dark] .colab-df-convert:hover {\n",
              "      background-color: #434B5C;\n",
              "      box-shadow: 0px 1px 3px 1px rgba(0, 0, 0, 0.15);\n",
              "      filter: drop-shadow(0px 1px 2px rgba(0, 0, 0, 0.3));\n",
              "      fill: #FFFFFF;\n",
              "    }\n",
              "  </style>\n",
              "\n",
              "      <script>\n",
              "        const buttonEl =\n",
              "          document.querySelector('#df-da304f34-8424-436b-9f28-3aaaf8e207b0 button.colab-df-convert');\n",
              "        buttonEl.style.display =\n",
              "          google.colab.kernel.accessAllowed ? 'block' : 'none';\n",
              "\n",
              "        async function convertToInteractive(key) {\n",
              "          const element = document.querySelector('#df-da304f34-8424-436b-9f28-3aaaf8e207b0');\n",
              "          const dataTable =\n",
              "            await google.colab.kernel.invokeFunction('convertToInteractive',\n",
              "                                                     [key], {});\n",
              "          if (!dataTable) return;\n",
              "\n",
              "          const docLinkHtml = 'Like what you see? Visit the ' +\n",
              "            '<a target=\"_blank\" href=https://colab.research.google.com/notebooks/data_table.ipynb>data table notebook</a>'\n",
              "            + ' to learn more about interactive tables.';\n",
              "          element.innerHTML = '';\n",
              "          dataTable['output_type'] = 'display_data';\n",
              "          await google.colab.output.renderOutput(dataTable, element);\n",
              "          const docLink = document.createElement('div');\n",
              "          docLink.innerHTML = docLinkHtml;\n",
              "          element.appendChild(docLink);\n",
              "        }\n",
              "      </script>\n",
              "    </div>\n",
              "  </div>\n",
              "  "
            ]
          },
          "metadata": {},
          "execution_count": 50
        }
      ]
    },
    {
      "cell_type": "code",
      "source": [
        "fig = px.scatter_3d(df2, x = \"X\", y = \"Y\", z = \"Z\", color = \"C\")\n",
        "fig.show()"
      ],
      "metadata": {
        "colab": {
          "base_uri": "https://localhost:8080/",
          "height": 542
        },
        "id": "lG4k1Krwb3Tb",
        "outputId": "c8c91a35-1c0e-4393-df97-f1576a7582ca"
      },
      "execution_count": 51,
      "outputs": [
        {
          "output_type": "display_data",
          "data": {
            "text/html": [
              "<html>\n",
              "<head><meta charset=\"utf-8\" /></head>\n",
              "<body>\n",
              "    <div>            <script src=\"https://cdnjs.cloudflare.com/ajax/libs/mathjax/2.7.5/MathJax.js?config=TeX-AMS-MML_SVG\"></script><script type=\"text/javascript\">if (window.MathJax) {MathJax.Hub.Config({SVG: {font: \"STIX-Web\"}});}</script>                <script type=\"text/javascript\">window.PlotlyConfig = {MathJaxConfig: 'local'};</script>\n",
              "        <script src=\"https://cdn.plot.ly/plotly-2.8.3.min.js\"></script>                <div id=\"16847681-da8c-4c4f-be90-c46ae717b40d\" class=\"plotly-graph-div\" style=\"height:525px; width:100%;\"></div>            <script type=\"text/javascript\">                                    window.PLOTLYENV=window.PLOTLYENV || {};                                    if (document.getElementById(\"16847681-da8c-4c4f-be90-c46ae717b40d\")) {                    Plotly.newPlot(                        \"16847681-da8c-4c4f-be90-c46ae717b40d\",                        [{\"hovertemplate\":\"X=%{x}<br>Y=%{y}<br>Z=%{z}<br>C=%{marker.color}<extra></extra>\",\"legendgroup\":\"\",\"marker\":{\"color\":[0,1,2,3,4,5,6,7,8,9,0,1,2,3,4,5,6,7,8,9,0,1,2,3,4,5,6,7,8,9,0,9,5,5,6,5,0,9,8,9,8,4,1,7,7,3,5,1,0,0,2,2,7,8,2,0,1,2,6,3,3,7,3,3,4,6,6,6,4,9,1,5,0,9,5,2,8,2,0,0,1,7,6,3,2,1,7,4,6,3,1,3,9,1,7,6,8,4,3,1,4,0,5,3,6,9,6,1,7,5,4,4,7,2,8,2,2,5,7,9,5,4,8,8,4,9,0,8,9,8,0,1,2,3,4,5,6,7,8,9,0,1,2,3,4,5,6,7,8,9,0,1,2,3,4,5,6,7,8,9,0,9,5,5,6,5,0,9,8,9,8,4,1,7,7,3,5,1,0,0,2,2,7,8,2,0,1,2,6,3,3,7,3,3,4,6,6,6,4,9,1,5,0,9,5,2,8,2,0,0,1,7,6,3,2,1,7,3,1,3,9,1,7,6,8,4,3,1,4,0,5,3,6,9,6,1,7,5,4,4,7,2,8,2,2,5,5,4,8,8,4,9,0,8,9,8,0,1,2,3,4,5,6,7,8,9,0,1,2,3,4,5,6,7,8,9,0,1,2,3,4,5,6,7,8,9,0,9,5,5,6,5,0,9,8,9,8,4,1,7,7,3,5,1,0,0,2,2,7,8,2,0,1,2,6,3,3,7,3,3,4,6,6,6,4,9,1,5,0,9,5,2,8,2,0,0,1,7,6,3,2,1,7,4,6,3,1,3,9,1,7,6,8,4,3,1,4,0,5,3,6,9,6,1,7,5,4,4,7,2,8,2,2,5,7,9,5,4,8,8,4,9,0,8,9,3,0,1,2,3,4,5,6,7,8,9,0,1,2,3,4,5,6,7,8,9,0,1,2,3,4,5,6,7,8,9,0,9,5,5,6,5,0,9,8,9,8,4,1,7,7,3,5,1,0,0,2,2,7,8,2,0,1,2,6,3,3,7,3,3,4,6,6,6,4,9,1,5,0,9,5,2,8,2,0,0,1,7,6,3,2,1,7,4,6,3,1,3,9,1,7,6,8,4,3,1,4,0,5,3,6,9,6,1,7,5,4,4,7,2,8,2,2,5,7,9,5,4,8,8,4,9,0,8,9,8,0,1,2,3,4,5,6,7,8,9,0,1,2,3,4,5,6,7,8,9,0,1,2,3,4,5,6,7,8,9,0,9,5,5,6,5,0,9,8,9,8,4,1,7,7,3,5,1,0,0,2,2,7,8,2,0,1,2,6,3,3,7,3,3,4,6,6,6,4,9,1,5,0,9,5,2,8,2,0,0,1,7,6,3,2,1,7,4,6,3,1,3,9,1,7,6,8,4,3,1,4,0,5,3,6,9,6,1,7,5,4,4,7,2,8,2,2,5,7,9,5,4,8,8,4,9,0,8,9,8,0,1,2,3,4,5,6,7,8,9,0,1,2,3,4,5,6,7,8,9,0,1,2,3,4,5,6,7,8,9,0,9,5,5,6,5,0,9,8,9,8,4,1,7,7,3,5,1,0,0,2,2,7,8,2,0,1,2,6,3,3,7,3,3,4,6,6,6,4,9,1,5,0,9,5,2,8,2,0,0,1,7,6,3,2,1,7,4,6,3,1,3,9,1,7,6,8,4,3,1,4,0,5,3,6,9,6,1,7,5,4,4,7,2,8,2,2,5,7,9,5,4,8,8,4,9,0,8,9,8,0,1,2,3,4,5,6,7,8,9,0,1,2,3,4,5,6,7,8,9,0,1,2,3,4,5,6,7,8,9,0,9,5,5,6,5,0,9,8,9,8,4,1,7,7,3,5,1,0,0,2,2,7,8,2,0,1,2,6,3,3,7,3,3,4,6,6,6,4,9,1,5,0,9,5,2,8,2,0,0,1,7,6,3,2,1,7,4,6,3,1,3,9,1,7,6,8,4,3,1,4,0,5,3,6,9,6,1,7,5,4,4,7,2,8,2,2,5,7,9,5,4,8,8,4,9,0,8,9,8,1,2,3,4,5,6,7,8,9,0,1,2,3,4,5,6,7,8,9,0,1,2,3,4,5,6,7,8,9,0,9,5,5,6,5,0,9,8,9,8,4,1,7,7,3,5,1,2,7,8,2,0,1,2,6,3,3,7,3,3,4,6,6,6,4,9,1,5,0,9,5,2,8,2,0,0,1,7,6,3,2,1,4,6,3,1,3,9,1,7,6,8,4,3,1,4,0,5,3,6,9,6,1,7,5,4,4,7,2,8,2,2,5,7,9,5,4,4,9,0,8,9,8,0,1,2,3,4,5,6,7,8,9,0,1,2,3,4,5,6,7,8,9,0,1,2,3,4,5,6,7,8,9,0,9,5,5,6,5,0,9,8,9,8,4,1,7,7,3,5,1,0,0,7,8,2,0,1,2,6,3,3,7,3,3,4,6,6,6,4,9,1,5,0,9,5,2,8,2,0,0,1,7,6,3,2,1,7,4,6,3,1,3,9,1,7,6,8,4,3,1,4,0,5,3,6,9,6,1,7,5,4,4,7,2,8,2,2,5,7,9,5,4,8,8,4,9,0,8,9,8,0,1,2,3,4,5,6,7,8,9,0,1,2,3,4,5,6,7,8,9,0,1,2,3,4,5,6,7,8,9,0,9,5,5,6,5,0,9,8,9,8,4,1,7,7,3,5,1,0,0,2,2,7,8,2,0,1,2,6,3,3,7,3,3,4,6,6,6,4,9,1,5,0,9,5,2,8,2,0,0,1,7,6,3,2,1,7,4,6,3,1,3,9,1,7,6,8,4,3,1,4,0,5,3,6,9,6,1,7,5,4,4,7,2,8,2,2,5,7,9,5,4,8,8,4,9,0,8,9,8,0,1,2,3,4,5,6,7,8,9,0,1,2,3,4,5,6,7,8,9,0,1,2,3,4,5,6,7,8,9,0,9,5,5,6,5,0,9,8,9,8,4,1,7,7,3,5,1,0,0,2,2,7,8,2,0,1,2,6,3,3,7,3,3,4,6,6,6,4,9,1,5,0,9,5,2,8,2,0,0,1,7,6,3,2,1,7,4,6,3,1,3,9,1,7,6,8,4,3,1,4,0,5,3,6,9,6,1,7,5,4,4,7,2,8,2,2,5,7,9,5,4,8,8,4,9,0,8,0,1,2,3,4,5,6,7,8,9,0,1,2,3,4,5,6,7,8,9,0,1,2,3,4,5,6,7,8,9,0,9,5,5,6,5,0,9,8,9,8,4,1,7,7,3,5,1,0,0,2,2,7,8,2,0,1,2,6,3,3,7,3,3,4,6,6,6,4,9,1,5,0,9,5,2,8,2,0,0,1,7,6,3,2,1,7,4,6,3,1,3,9,1,7,6,8,4,3,1,4,0,5,3,6,9,6,1,7,5,4,4,7,2,8,2,2,5,7,9,5,4,8,8,4,9,0,8,9,8,0,1,2,3,4,5,6,7,8,9,0,1,2,3,4,5,6,9,0,1,2,3,4,5,6,7,8,9,0,9,5,5,6,5,0,9,8,9,8,4,1,7,7,3,5,1,0,0,2,2,7,8,2,0,1,2,6,3,3,7,3,3,4,6,6,6,4,9,1,5,0,9,5,2,8,0,1,7,6,3,2,1,7,4,6,3,1,3,9,1,7,6,8,4,3,1,4,0,5,3,6,9,6,1,7,5,4,4,7,2,2,5,7,9,5,4,4,9,0,8,9,8,0,1,2,3,4,5,6,7,8,9,0,1,2,3,4,5,6,7,8,9,0,1,2,3,4,5,6,7,8,9,0,9,5,5,6,5,0,9,8,9,8,4,1,7,7,3,5,1,0,0,2,2,7,8,2,0,1,2,6,3,3,7,3,3,4,6,6,6,4,9,1,5,0,9,5,2,8,2,0,0,1,7,6,3,2,1,7,4,6,3,1,3,9,1,7,6,8,4,3,1,4,0,5,3,6,9,6,1,7,5,4,4,7,2,8,2,2,5,7,9,5,4,8,8,4,9,0,8,9,8],\"coloraxis\":\"coloraxis\",\"symbol\":\"circle\"},\"mode\":\"markers\",\"name\":\"\",\"scene\":\"scene\",\"showlegend\":false,\"x\":[-0.0048787952797341785,-0.0019035645037650552,-0.0018755150458836128,-0.001904025031845862,-0.0018738707607970089,-0.0018718118867093046,-0.0019539365755166906,-0.001941900510459824,-0.001871780700493401,-0.0018717012378115213,-0.0018980792256748506,-0.0018964661268478936,-0.0018811795936787205,-0.0019051037275998781,-0.001962204339766565,-0.0019550710850796444,-0.0018730862510012722,-0.0018787867588776768,-0.0018724956181659948,-0.001873878503668072,-0.0018844072533187304,-0.0020979238944253396,-0.0019789091780116974,-0.0018788376199262954,-0.0018727993629507416,-0.001896657061861048,-0.0021001945995291643,-0.0018743317606216162,-0.0018717296546379824,-0.0018880632060839805,-0.0019130104888802257,-0.0018719280615919637,-0.0019193901474479436,-0.0019512488649751983,-0.0019848007751113858,-0.0019552164933500206,-0.001905013075387885,-0.001871712184852847,-0.0018717713050880407,-0.0018810459956526847,-0.0018781368281015865,-0.00225190004930671,-0.0018921416259559969,-0.0018810296322923645,-0.001919106981670157,-0.0018734309825127707,-0.0018717186453388916,-0.0019159794473090764,-0.002187418225001327,-0.0019310717042571514,-0.0018793441856463319,-0.001880555271134875,-0.001898442390677653,-0.001871695688556238,-0.0018717215281865431,-0.001881459587996007,-0.0019895195524827474,-0.0018755025074279324,-0.0021474563423082766,-0.0018787052843703112,-0.0019092100297432614,-0.00187457629197458,-0.0020739969472360377,-0.0018817205904991712,-0.0018743453387997486,-0.002162216942817434,-0.0021050947819883344,-0.0020884488641625403,-0.001875993074711751,-0.0018750865250092862,-0.0019472175203132268,-0.0019083538895949062,-0.0019486769706558713,-0.0018859855878324472,-0.001872520178440926,-0.0018774535534853945,-0.0018950729943415956,-0.0018717535623271175,-0.0019072727508143673,-0.005596580388202188,-0.0019003116102496546,-0.001952478046896494,-0.0022289097611748005,-0.0019683787539764206,-0.0019043978111245902,-0.0018791743885509483,-0.001872018897174404,-0.0018717061084308527,-0.002084105529545045,-0.001928517025904677,-0.001890681033135686,-0.0019053451693984173,-0.0018723391246421976,-0.001910462002632311,-0.001953608791521608,-0.0018725986234541245,-0.0018720064126469449,-0.0018897976677878312,-0.0018739775720111398,-0.0018860394909078647,-0.0018889274963007502,-0.0018733566508550123,-0.001928052040971826,-0.0018718738566700997,-0.0018729289111639536,-0.0018732899084281497,-0.0018743815257391803,-0.0019048571300546372,-0.0018726180500619849,-0.0018760891224085011,-0.001890688523277954,-0.001967068521327543,-0.0019080714891987394,-0.0018717054959403,-0.001879795936207176,-0.001874989057199598,-0.0018793414809162045,-0.0020042751563930775,-0.0018793450499544364,-0.0018821818436829446,-0.0018717310356072855,-0.0018719313806914901,-0.0018718487727309664,-0.0018718852272470899,-0.0023179764946584846,-0.0018716978568162545,-0.001975217886835542,-0.0018717988879625943,-0.001903206210528411,-0.0018717377970699019,-0.002693822947303249,-0.0018783096485017476,-0.002485679117388446,-0.0018717960032563988,-0.0018717778605352123,-0.002033197739398298,-0.0022346056396558953,-0.0018741133212056692,-0.0018894519569357953,-0.0019648157747049763,-0.0019148127553650872,-0.0019086649907068508,-0.00190562069827948,-0.0021100401048725205,-0.0019576984328493895,-0.0019177107082255706,-0.002697356042172225,-0.0018745780415795707,-0.0018746174458870468,-0.001877010966855094,-0.0018898415171550028,-0.0019203764191814418,-0.0018722158784603437,-0.0018819877100546196,-0.001880028398889468,-0.0018993576329586303,-0.0021685056664951514,-0.0018799564981856704,-0.0018717395414282467,-0.0019499235564120606,-0.0020782996485057713,-0.0018717700204587567,-0.0019133037765657506,-0.0022032984468973796,-0.0023300827078846097,-0.0026909785044662263,-0.0022332005762907827,-0.0019541824287227874,-0.0018897759614347786,-0.001957547089158418,-0.0018717438463064166,-0.0018865605664592621,-0.001874196886296046,-0.001963323959351583,-0.0021776090834189094,-0.001991778440615368,-0.0019074440445585577,-0.0018747878902760139,-0.0022155668029098185,-0.001877694353796886,-0.001890747952582239,-0.001932503130082485,-0.0018892799450969588,-0.0018769802860182782,-0.0018874898752682353,-0.0019075171344003804,-0.0023956748967710164,-0.0018783341482411415,-0.002026338879016507,-0.0019335926167095665,-0.0018797911005897082,-0.0018717049972395657,-0.0018722657018070345,-0.0018965635914445411,-0.0018732260985817278,-0.0022088974016344497,-0.002173780103396065,-0.002392277148740264,-0.001965784265040995,-0.00187467110883447,-0.0018867668389280607,-0.0019529941320074362,-0.002794479255914008,-0.0018718137675205412,-0.0019697132880924805,-0.0018721237585655746,-0.0018725701817164583,-0.0018776534232692302,-0.0018755428165007544,-0.0018745400892584121,-0.002076240089018335,-0.0018733080778551763,-0.0021588645855445485,-0.0019988151813337884,-0.0024775878812671273,-0.0018738411378359833,-0.0018743953846333975,-0.0018956645429944107,-0.0018967334657534684,-0.0019055648779121726,-0.001888152663718223,-0.001905996713402592,-0.001881785838439725,-0.0019102731576104426,-0.001871968021957418,-0.002002604454013176,-0.0018862706418197317,-0.001893937744658167,-0.0019994265704734076,-0.005440276678447974,-0.002321799426964389,-0.001874220540952317,-0.0021062734546407236,-0.0018833293927003965,-0.001957999818248576,-0.0019075220054120547,-0.001894284653608595,-0.0018884412568498977,-0.0019669138740517128,-0.0018773506988472072,-0.0018727915736621104,-0.00191933210243987,-0.001874192847303455,-0.001910523535547204,-0.0018739050177415143,-0.0021085899585161676,-0.001943309856871261,-0.0018719519192544596,-0.0018731351939002571,-0.0018747531075430158,-0.001970478511276732,-0.0018749159461991841,-0.0023145667853332083,-0.0018719517418374564,-0.0018718111909847832,-0.0018926131585852981,-0.0019464411675205722,-0.0019596235348374636,-0.001991213694151575,-0.002114554802387832,-0.0020285774650027617,-0.0021038009954793624,-0.005438362566375184,-0.0018820765092619407,-0.0018734124217288494,-0.0018726077044699094,-0.0020427011426375633,-0.0018743824643387597,-0.002058354342186106,-0.0018820075287689195,-0.0020234160042441724,-0.001880661894989178,-0.002674838580724853,-0.0019400790438948018,-0.0018775519689229094,-0.0018885177022381137,-0.0023498576990152718,-0.001875384516439434,-0.0018948408932260086,-0.001955849646935096,-0.0020060325250927913,-0.0019404299675920048,-0.002067865387016746,-0.001878385869311061,-0.0018717869630153429,-0.0018905295326344215,-0.0018869637717686173,-0.0019900649262313704,-0.0019430443405159515,-0.0018747445809321028,-0.0023479985973630635,-0.001912809496737756,-0.0018836568341662424,-0.0018728055185374003,-0.0018756533677460456,-0.0018718010477866932,-0.0018725427876259667,-0.0020201956422485593,-0.001904151013447737,-0.0018985032864652488,-0.0019950509164096287,-0.002051869636353269,-0.0018768710455064552,-0.001871727536180327,-0.0020987758728427406,-0.003953677231386758,-0.001948429698590836,-0.0018736632336854929,-0.0019926156361705256,-0.001913694362324216,-0.002140092578197106,-0.0032626890310227977,-0.001875867215104246,-0.002004308976191229,-0.001872980658343551,-0.0021119393065865844,-0.001934063933253382,-0.0018746024990879617,-0.0018981025119715574,-0.0019975758534533134,-0.0022487062659457906,-0.002151869336443278,-0.00236316665571334,-0.0023642653613920985,-0.0018725705622148446,-0.0019819313479560274,-0.0020625721544462227,-0.0018717830654506461,-0.002388939610831403,-0.0019522633563357488,-0.0019458449721598866,-0.001976870290020756,-0.0018893890196140725,-0.0021825210234107306,-0.002217196218127338,-0.002294274530860024,-0.0019017991989546327,-0.0019506933718062165,-0.0018851048329802322,-0.002050635754613316,-0.001899035079875655,-0.0018955267791395684,-0.002064857103630167,-0.0019520741664445045,-0.0062023799973001375,-0.0019431575227837736,-0.001837264719768095,-0.00212262111269588,-0.0018839708977411028,-0.0005166795394710034,-0.0018735235881313988,-0.0029028851297803883,-0.0018736839141520211,-0.0020285105473139037,-0.001873139272958235,0.007752426151117392,-0.001958792938407763,-0.0018747191172418633,-0.0018738450962070819,-0.0018932414031409199,-0.003167290377389964,-0.0020232199586643937,-0.0019671012491760207,-0.001871878152639324,-0.0018720084221232412,-0.001900126734949734,-0.0018800871034855393,-0.002055840416491735,-0.0020976720349359717,-0.0019231667191885577,-0.0018738280557262224,-0.002123860642186583,-0.002007760521854968,-0.0018727050894621405,-0.001880058525119079,-0.0018771124413544276,-0.0021872347539858544,-0.00229852682728298,-0.001871702018977873,-0.0018721604244446252,-0.002153583696765035,-0.001881747107308345,-0.0021724721671858237,-0.001877337472033446,-0.0018949517434179418,-0.001929601506796942,-0.002090379964974903,-0.0019069579936025107,-0.001891431938764447,-0.001871987095751557,-0.001959929474077729,-0.0018766649630500914,-0.0021022137508048704,-0.0020663217213779217,-0.001876319686289764,-0.0019008873709004468,-0.003492777729428815,-0.0018995810051683926,-0.0019001517657949519,-0.001872689738170287,-0.0018963744920968712,-0.0018919318251405621,-0.0018718550580244073,-0.0033337319261090227,-0.0018790170147059547,-0.002004082924319702,-0.0025947266062185774,-0.00217594481526842,-0.0018840861833419053,-0.0018716986449896838,-0.001889420473626207,-0.0018977681009307718,-0.001918317990028551,-0.0026650175367082395,-0.0018716980624729365,-0.002018761607495685,-0.001900272985924519,-0.002026194669193409,-0.001875005707012771,-0.0018864141748100687,-0.001871892591467749,-0.0018716961007022705,-0.002011335550640053,-0.001978046479499645,-0.0018738531765314754,-0.002156466303479827,-0.0018726417207496722,-0.0018727963340886156,-0.0018895922156184528,-0.0019486789130692649,-0.0018717821965270858,-0.0019027619681088127,-0.0018719311046949897,-0.0019053134500471118,-0.003962420037064695,-0.0021810859463899396,-0.001875037862323793,-0.0019415626973423154,-0.0034067219262763964,-0.0018718605568404491,-0.001887503793956844,-0.006168139397891494,-0.0023766056574145342,-0.0019513081348604868,-0.0018717551442177108,-0.0018850521428306502,-0.0018810023857729335,-0.0019559878228689784,-0.001883554961952214,-0.0018837232242185282,-0.001965235692289647,-0.002302543872261927,-0.0018763133445135818,-0.00207507418412626,-0.0018811704889895554,-0.0021042225312147434,-0.0021320208817545753,-0.0018716976713522375,-0.0021251187474063374,-0.0019221007505038305,-0.0019648200480649708,-0.0018742074957208592,-0.0018719450193892288,-0.002025828572381879,-0.005286911150895903,-0.0018821288761086345,-0.0018954712983868987,-0.001927561156155497,-0.002037386414858709,-0.001884870523656894,-0.002061087770725685,-0.001871756310768534,-0.0019022071373329314,-0.0018757507951059798,-0.0019010002610396876,-0.0018844156160429842,-0.0018971848529537633,-0.0018773290867838224,-0.001889292791073684,-0.0019927786459528244,-0.0018720384582397438,-0.0018746456087975836,-0.0018717075074449398,-0.0019207070261576665,-0.001893362633978825,-0.001893661824482389,-0.0018997426820090604,-0.0018962981443955461,-0.0018789219168384524,-0.0018717072326704088,-0.0022234984753129613,-0.0020723379529706204,-0.001871696210592653,-0.0022501305641476343,-0.0022391300278666888,-0.001955753646339344,-0.0018719421022964865,-0.001874888009352994,-0.002505521226340246,-0.001950888795752393,-0.0018719363929961723,-0.002020756536786346,-0.0018716978733177368,-0.0018858083062221255,-0.0019074448135203803,-0.0018948950632307591,-0.0018719441994931845,-0.0018773035222855615,-0.001873069357600739,-0.0018757918362826158,-0.0019604783935588174,-0.0018825665747703925,-0.002797681400753658,-0.0018844287097655374,-0.0019264491025952424,-0.0018724526707782543,-0.0023570711839458417,-0.002466507544099853,-0.0018805326792226118,-0.001872708605296014,-0.00194820609086877,-0.001871811397733577,-0.002808221794563383,-0.001876045188740422,-0.001871772206650702,-0.0018719205260461238,-0.0019886364683937455,-0.001944818671905539,-0.0018794130170316295,-0.0018767881506399856,-0.001872329376726651,-0.0018937438996158677,-0.002003308251038015,-0.0019964815873594896,-0.0018762114416632464,-0.0018719896647528076,-0.0019117558741403578,-0.0019020232342149344,-0.0018894827013063587,-0.0018735752657114896,-0.001886118233331614,-0.001905078060201284,-0.0025541855772692654,-0.001978003801343897,-0.001906499268261516,-0.0018722438964561714,-0.0022188013289044764,-0.0018717008131545006,-0.0018769774094843019,-0.001909859723154886,-0.0019621932278946546,-0.0018987589502437942,-0.0023928804448473877,-0.0018824593548916818,-0.0018869082075604168,-0.0019056654023705383,-0.0025223399426119895,-0.0018845438570051624,-0.00197384421254549,-0.0019252381474448817,-0.001957406245980806,-0.0018906188436723418,-0.001922328070522784,-0.0018960457418684185,-0.0019119323903416955,-0.0023629025762129077,-0.0019251043520052329,-0.0022147112090640008,-0.0018983737515826003,-0.00187169848766764,-0.001882315286510876,-0.0019752225350642572,-0.001972759606452201,-0.0022855117429052985,-0.001872795773845608,-0.0019097054798323859,-0.001871699551738687,-0.002130773779601192,-0.001871817931150628,-0.0019011592715624632,-0.0019353774425950121,-0.002002239893525655,-0.002397558590038674,-0.0018749547894221967,-0.0018729182017231695,-0.0018844666672131834,-0.001885050103450006,-0.001912499460001749,-0.0018727147877738574,-0.0018806632673440131,-0.001872826897844847,-0.0018945246267065355,-0.0018720505988380997,-0.0019216331467769505,-0.001898182203448462,-0.0018990437272101547,-0.001904675683803003,-0.0019211086715698932,-0.0020054919174070855,-0.001914471163527296,-0.0018748034491650216,-0.001877177269688608,-0.0021764573893920057,-0.0018953078101322518,-0.0018859268747090957,-0.001871829080001852,-0.0018728752507044296,-0.0018751968411326644,-0.001891760400318371,-0.002461375438289006,-0.001887042823650273,-0.0027502688111488674,-0.0024576330658204132,-0.0019230158262764207,-0.0019048829714763233,-0.0018785902506022979,-0.0019159390420569646,-0.0018793244765725095,-0.0018941259137168962,-0.0018999899655249182,-0.0022007517746251066,-0.0019253435004622321,-0.0018853041795108179,-0.0018811707139609376,-0.002103982771576922,-0.0018997739314618306,-0.001892681779630465,-0.001924427635416551,-0.0019059701368518897,-0.0018827580718623709,-0.0018717413722134652,-0.002002250051898707,-0.0022254620044333986,-0.0018717681489966952,-0.0020220268942505583,-0.0019005113360306542,-0.0018992338412526506,-0.0018894437689728543,-0.0018717759187140896,-0.0018800852349357767,-0.001943235251801887,-0.001887569550537882,-0.0034064864130836253,-0.002046035317572257,-0.0018809392520995809,-0.0018881829364387815,-0.0020002087312625963,-0.0018759610480552327,-0.0020045864216475407,-0.0018920679062177006,-0.0018861386694712272,-0.0018718793545272395,-0.0021686138691917886,-0.001918597814973717,-0.0019476780656102306,-0.0019378505298894536,-0.0020701439981948783,-0.0018986317561682543,-0.0019026581996600346,-0.0018791059960732539,-0.0018792182467765076,-0.0018888910554324366,-0.0020485405189995657,-0.0019801436082629233,-0.00187169645926426,-0.0019509740605315282,-0.0019538898862861602,-0.0018762729829435857,-0.0018749450253032953,-0.0018862180556518085,-0.0018716962083077553,-0.0018953120528506606,-0.0025240697640429616,-0.0018718640417512882,-0.0019002246325832504,-0.001873025230474321,-0.002225150591441661,-0.0018802452159641756,-0.0018716958598467993,-0.0019275188171579392,-0.0020002031650387846,-0.0018728249865531967,-0.004641199145730784,-0.0019123375921695723,-0.001899833073599672,-0.002253648004717323,-0.0019015137503145436,-0.001872014078096424,-0.0019393740330745516,-0.0018724443355128502,-0.0018723646314128936,-0.00187171499891808,-0.0019167938490459847,-0.0019466962314041115,-0.002499093308225447,-0.001980612987892148,-0.0018772563557588454,-0.001872914278019632,-0.0023523792420293075,-0.0018746044719878544,-0.0018722175671336426,-0.0018717051019628717,-0.001926020342059386,-0.0018733886822564323,-0.0019265694070410664,-0.0020853711284463928,-0.0019658307769469933,-0.0019541729606245787,-0.0020985871683115087,-0.0019267727906593546,-0.0018717983087000263,-0.006757183030642722,-0.0024066215174296346,-0.00202217640482415,-0.0019181010006415057,-0.0019014476149729386,-0.0019130020897851823,-0.0018793930293615267,-0.001959031099376035,-0.0018775040267497442,-0.001885489252359576,-0.0018763954492441424,-0.001871821930135987,-0.0018762615164073977,-0.0019666545469689575,-0.00247804634498193,-0.0019077660791264924,-0.0021125284681952562,-0.0022031005902214637,-0.0020167751813037513,-0.0018804046871763185,-0.001874662752567076,-0.0018793532106982907,-0.0019294149849991282,-0.0018879073694496981,-0.0019281681039788033,-0.001872087192155871,-0.0019088045139206357,-0.0018772744656250235,-0.001875774467161604,-0.0019569570072494585,-0.010626032035933899,-0.00187212414589761,-0.0019200281861331118,-0.0019088539550536363,-0.0019141818550204998,-0.0018788803623155908,-0.002086549460243974,-0.00189523987494489,-0.0018860498954109157,-0.001884928891922397,-0.001874103530176392,-0.0018877794103170828,-0.0018789162623994698,-0.00225672890930554,-0.0019207259449246742,-0.0018914492639213912,-0.0019366224768100192,-0.0018777286693055836,-0.0020168443100802855,-0.0018900169815990286,-0.001986705950520009,-0.002039021722702807,-0.0019041376408363171,-0.0020464837239873484,-0.00221899337468697,-0.0018812041298781695,-0.0018745390644520753,-0.0018886003685490704,-0.0018717027158796646,-0.0019427907717279856,-0.0019289186981500844,-0.002087956807830055,-0.0018738439471466567,-0.0018720054298274364,-0.001888442562099288,-0.001990896900657898,0.09084731118183631,-0.0029346002626758055,-0.0018717038442713921,-0.0018744128897067646,-0.002594712360321102,-0.0018719590911946379,-0.0019588720226358003,-0.0018717037790963351,-0.0019694688018041468,-0.0024422781967882922,-0.0018593331559135175,-0.001980381613730836,-0.0019086944721174676,-0.001883523991175924,-0.0019352722804020345,-0.0018717174443952087,-0.0018902564444798781,-0.0018717142935862378,-0.001875720579967458,-0.0018799913987571873,-0.0007538343850784283,-0.0027584802458228666,-0.0018932908119581192,-0.001883009558179593,-0.0023745846987552697,-0.0019217787911947949,-0.0018740524015131894,-0.0018718876816727645,-0.0018728168138316297,-0.004349600498026137,-0.0019247518972507417,-0.0018724999444730817,-0.001950783518798419,-0.0019209156475096818,-0.001939651240997899,-0.004296542804629138,-0.0018719251913055807,-0.001879583009899138,-0.001936134960400439,-0.001979321828699238,-0.0018857315147897625,-0.00194744004737283,-0.0018741142562191378,-0.0022569695671558108,-0.0018885657537875086,-0.002023811763970833,-0.0019043418973130066,-0.0018724904131663122,-0.001874217076597819,-0.0020524614122424674,-0.0018971659987499364,-0.0018804736754136396,-0.001986125842692415,-0.0025687881596037454,-0.002073685874906317,-0.0023798762285371987,-0.002033345043857049,-0.002087174151383105,-0.0018724209181213433,-0.0018722617827323675,-0.001900178216413984,-0.001873042152729674,-0.0018717925305309835,-0.002262722060989416,-0.0020508068900735306,-0.0019049400368336261,-0.001871867650920797,-0.0019131209558675016,-0.0018980535537103705,-0.0018806284073428134,-0.001873549430849017,-0.0019393167168022664,-0.0018924758978212692,-0.0019062983083694182,-0.0028822304903480724,-0.0018716971538684077,-0.004193877720631845,-0.0019128103440882625,-0.004216221985766992,-0.0018725253013257605,-0.0018844424696176127,-0.001902957331378941,-0.002065803125722685,-0.001873506099933543,-0.0019405652178554487,-0.0018858492684609212,-0.0018867567686241238,-0.0018958696096293354,-0.0019149325865300314,-0.0018758753403225348,-0.0018898470634520102,-0.0018879379259953905,-0.0017818108048898809,-0.0018836027111247757,-0.0020115676283882847,-0.001873405106136504,-0.001874444914603565,-0.001872338337761299,0.003602414568197369,-0.0018719420726768829,-0.0033713248202102866,-0.0019549001138990073,-0.0018922630566024824,-0.001945439742319471,-0.0019529757279864298,-0.0022078947578558143,-0.0018769598544612612,-0.0018738403459761506,-0.0024645579765864402,-0.0019352708753308774,-0.001882481461282683,-0.0019454372104880369,-0.004571579273490695,-0.0019130335084428405,-0.0018716970051594454,-0.0019318632558614028,-0.0019232431378112815,-0.0018718829660193355,-0.0018910800201192245,-0.002329198262266787,-0.0018750784510768756,-0.0019124779761645423,-0.0018717024290117914,-0.0018760166574684216,-0.0018884916268935602,-0.0018747941815710177,-0.001872652356190031,-0.00188759368125417,-0.001871698128122844,-0.002214292414697967,-0.0019564715519810186,-0.0018989740152947187,-0.0019454731296768106,-0.0018816452471263868,-0.002334650918271722,-0.0019606206181122924,-0.0018720237504391275,-0.002241558655639463,-0.002549712705605689,-0.00213246339564774,-0.0018752537671123078,-0.0018797915417466085,-0.0019591418033096455,-0.0018733819204468625,-0.002012627566884459,-0.0018737463638506576,-0.0019340585113406985,-0.0020793007303298535,-0.005382395939859289,-0.0022011786254330667,-0.0021070347298366133,-0.00187969847682143,-0.001886546622700744,-0.0018851870045141427,-0.0028869645580015015,-0.0019904369831691316,-0.00187335831321033,-0.0019256203389522294,-0.003015784647234354,-0.0019055234240939513,-0.0019006361260663508,-0.002021044753934007,-0.009530637601184338,-0.0018929614556511035,-0.005270687794161593,-0.00188622842056831,-0.002088536635955261,-0.0019390703427812105,-0.0018735507445957738,-0.0018807601790920775,-0.0018740870180750265,-0.0019532475554506004,-0.001898314088696483,-0.0018722756210799835,-0.0018717876761533243,-0.0019756601766591567,-0.001964513655600271,-0.0019338962852602794,-0.0019285289452776013,-0.0019153264229848652,-0.006359630167884791,-0.0025271271109519795,-0.0019347500814806138,-0.0022010947490921904,-0.0019673541647462047,-0.0018801818926970253,-0.0018954491568385027,-0.001872050428277532,-0.0018729183642213188,-0.001909649721443521,-0.004542145946952753,-0.0022736103566902972,-0.0023347055950319437,-0.001884765481858761,-0.0019160280058868116,-0.0018988741846353843,-0.001996641877655432,-0.0035243223621754024,-0.002261536036667871,-0.00189576460547241,-0.001913188128235202,-0.001885356813189636,-0.0019152401892083724,-0.0019383345130518296,-0.002047201901310394,-0.002119557880534159,-0.0020981118864135473,-0.0049832991899963755,-0.0018716977229445086,-0.002031525096889939,-0.0023244707533585473,-0.0018760184637813036,-0.0023312416646692723,-0.0019001458774524891,-0.00228881445806096,-0.001871714056025027,-0.0019109974691989893,-0.0021936469273694044,-0.001898546090687283,-0.0018770078986906477,-0.0019112800609090296,-0.0019089503669745536,-0.0018791917976854397,-0.0021798683626417146,-0.0018781858260474564,-0.004999197153106592,-0.001910737221511854,-0.0018729345302268183,-0.01016422067429379,-0.0018764837710250767,-0.002167550773212813,-0.0021645698762020457,-0.0020506014892424838,-0.0018962333858636605,-0.0019013816911583234,-0.0019054245044225634,-0.002001060118691351,-0.001912590747630933,-0.0018718381007620266,-0.0018968996988779276,-0.002071220424438655,-0.0018926028438139067,-0.001957285431500233,-0.001873337960783266,-0.0018730147373849108,-0.0020818179975383294,-0.0021058273138145904,-0.001871695713538395,-0.0018748321213571835,-0.002002615680964672,-0.001970187655903918,-0.002056781672026699,-0.00336876437381082,-0.0018755466240169584,-0.0019376744523857258,-0.0018926040120519569,-0.0020312938783291798,-0.0021242345020871666,-0.002776175616628261,-0.0019265025292266942,-0.0018716958937135201,-0.001871696810491614,-0.003109750374371849,-0.0018928537677873716,-0.0018812500984200118,-0.0018889731790044755,-0.0021424642394161303,-0.0018717762810931272,-0.002126645242689051,-0.0020468182204511757,-0.0018730212642470575,-0.0018719401684310988,-0.0018915833119195254,0.018863197114570473,-0.0019350760362233153,-0.0018749355089213238,-0.0020190888028755877,-0.0018774799622481128,-0.0031712632138677687,-0.0018990247933235898,-0.0018727928512239722,-0.0018717663611834746,-0.002306133750695254,-0.0018719828520775618,-0.0019194010660353185,-0.0018720008464484202,-0.0019801900676017386,-0.0019097239875177665,-0.0020297440232587257,-0.0018727635415290288,-0.0018717102316419588,-0.0018719842206549122,-0.0018749875308740522,-0.0018879866896693797,-0.0018877152153145165,-0.0018717809360189693,-0.0018729731838151196,-0.0019033156023877144,-0.0019509549699593606,-0.0012690161644724536,-0.0018726547070434228,-0.001872627602218858,-0.0019026430328414798,-0.001879591419047113,-0.001875057080024863,-0.002264883815333057,-0.0018734015580645523,-0.00197083754792683,-0.0018718064348530027,-0.0019017731555333653,-0.0019288610333493847,-0.0018719133222215643,-0.0018771702019614667,-0.0019379646113232884,-0.0019984695031599465,-0.0020668446930533486,-0.002220193274325669,-0.002256488778219776,-0.001871713462244138,-0.0018719552074080619,0.020159134531927633,-0.0018720228973860187,-0.0033191187657414137,-0.0018716962435253528,-0.0019273187506707427,-0.0019820498991228964,-0.0018789722047216665,-0.0021351438858275046,-0.002126265265919531,-0.0020144128346422817,-0.0022768546961761784,-0.0018725296539488748,-0.0019348689915874115,-0.0019240821615089966,-0.002020852456106393,0.008789976947047234,-0.001871925620662032,-0.00222118929698197,-0.0021143625711728224,-0.0018804962305086187,-0.0018731684892519056,-0.0018716969459623583,-0.0018725455549910767,-0.0016404875985155292,-0.0018971259634308628,-0.0023900029246718317,-0.0018730613983321772,-0.0019225915944386142,-0.001891510128598005,-0.0018820688222258093,-0.002123454892133483,-0.0021390012375810618,-0.0019264186867764496,-0.0018726402615017554,-0.0019163519664612686,-0.001871736878401043,-0.0021927774266073618,-0.0025718571408089507,-0.0018753806743809164,-0.001871827110809376,-0.0019065362051269752,-0.002074865999083085,-0.0018725942672413293,-0.002095607690404779,-0.001871828694873505,-0.00188028261010458,-0.0019150574373477261,-0.0020823817065527073,-0.0018765185702439332,-0.0018716971369838091,-0.0018719057215697739,-0.002159510328468481,-0.0018716956161132243,-0.001871697184226785,-0.0018973847579978297,-0.0018716956444027985,-0.0029658468146107476,-0.0018717685727834114,-0.0018716972143214008,-0.0018798996855260003,-0.0025641281875067477,-0.0022654796801587903,-0.002750322702003291,-0.0018855341342668278,-0.002209652176027464,-0.0018808500705631743,-0.0022703061354850205,-0.0020517071689324954,-0.0018718399343112951,-0.0018732093066334782,-0.0022135656845231402,-0.002341985677028072,-0.0020306172688585784,-0.0018734858817149086,-0.002101883570016351,-0.0018952348304821605,-0.001890799478727822,-0.001953455726971215,-0.0018758017969870556,-0.0018760014766414435,-0.0018982216844289658,-0.0018722342694550446,-0.0018732731714786383,-0.0018842599908145128,-0.0018780131875242973,-0.0021162137657316903,-0.00199608009753865,-0.001935018642160697,-0.001876536523852263,-0.0018737790916601403,-0.0019400225232378933,-0.001914485807159639,-0.0018829974934040077,-0.0019273738493726415,-0.002324677611515815,-0.002542220989547264,-0.0019141345728218699,-0.0018867607447631888,-0.0018717005345398933,-0.0019120306904427506,-0.001871696140617646,-0.0019393911346120723,-0.0018740420430075734,-0.0018821691452762424,-0.0020760002348614486,-0.0018861865128877817,-0.0018851929897474294,-0.0018873298155883986,-0.001934981126945525,-0.0019308733309456253,-0.0018735639640892153,-0.0019305296961111495,-0.0019581344402249848,-0.0018716979059582885,-0.002030861666590836,-0.0019415097079985774,0.17836563702953467,-0.001920245825293182,-0.0019350214094103226,-0.0018822556613830716,-0.001977316088637179,-0.0018762366065318483,-0.0018754466611006575,-0.0018980155096782574,-0.0018724234812579137,-0.002680414649227784,-0.0023475315789946005,-0.002475282524090238,-0.0020647438596615116,-0.0018730582331864456,-0.0024284833839429264,-0.0018892417582555495,-0.001885803373254077,-0.0018880920669061055,-0.0018791814971640443,-0.0019077970871818149,-0.0018782392903028582,-0.0018735410449317055,-0.0020874801155148174,-0.002036806534403914,0.04416385696114207,-0.001938521925488579,-0.0020603763252817924,-0.0022828295035086784,-0.0019215104020234904,-0.0018727063394862824,-0.0018806091703554501,-0.0020785173450674856,-0.0024042812471802406,-0.0018868294931392042,-0.002976561166502961,-0.0018721524754858675,-0.0019001553164877888,-0.003088215984459038,-0.0018785065035476977,-0.002409491901004608,-0.0018787583180013892,-0.0020318190948774785,-0.002058387889425233,-0.001871813107824963,-0.0020225917328612667,-0.0018745122807418161,-0.0019901101611762666,-0.0022841086248599736,-0.002204625263083454,-0.0018820151757207146,-0.0023053135172363655,-0.0018716977345534604,-0.0018770612662277507,-0.0022719505532323436,-0.0019036348052268713,-0.0019480978074892575,-0.0019964512954548166,-0.001899792388028169,-0.0018722436585054663,-0.0019073596225368291,-0.0019061958674070868,-0.0018732369072277334,-0.0018717236644412896,-0.0019113953275785788,-0.0018983167483757823,-0.001876473827562045,-0.001872213682199748,-0.0018718376218820239,-0.001873162497796639,-0.001923973909607136,-0.0018991390348793524,-0.0018726189827479314,-0.0018718302676573569,-0.0018767990768619328,-0.0018875164964211317,-0.0018720800624500323,-0.0018717337521105897,-0.0019174574607184972,-0.0019384975201419549,-0.0019377115275587197,-0.0018815983755328194,-0.0018755462935053976,-0.0019187666255989254,-0.0018718072883164673,-0.0018828774396307231,-0.0018867009265958348,-0.0018718625701665006,-0.001904041865339819,-0.001882943996886526,-0.0018741099286848772,-0.0018845172344281263,-0.0019332251541301746,-0.0019279311012027538,-0.0018772895098842744,-0.00215805591064895,-0.001876101327716008,-0.00187265109675553,-0.0018810357471974743,-0.001887305215721614,-0.0018763947482116552,-0.0019120986312990986,-0.0018853029940545335,-0.001891707418714346,-0.0018729582277048882,-0.002022688721851516,-0.001901347534451246,-0.0018826088021667482,-0.0018749715752197631,-0.0019669687820362716,-0.001910781556717859,-0.0019050079537793433,-0.0018798707745891806,-0.0018732370545729894,-0.0018728415353612296,-0.0018907916322568037,-0.001907194407135902,0.08339625567076217,-0.0019141178801568104,-0.0018718756202812444,-0.00195607995320178,-0.0018883883448897383,0.2131568396559352,-0.0025443338083917157,-0.002852952473451483,-0.002107994667309734,-0.00187299267716874,-0.0019136258916996772,-0.001886049767358727,-0.0018767489871008237,-0.0020190302535066556,-0.0018896396371318245,-0.0018972521129306836,-0.0024607229199276174,-0.0018863972631688714,-0.0019506842000513774,-0.0018718022069277957,-0.0019103243847888823,-0.0019003773525936311,-0.0019652870883103447,-0.0020709217510825016,-0.0019545609056310464,-0.002331156241987159,-0.002097417244149582,-0.002023586807089803,0.01869290071532955,-0.0018847604518849284,-0.002267664828921921,-0.001889161114450411,-0.0018719067494973006,-0.0019275753537892019,-0.0018768397134049475,-0.0018759138390454667,-0.004522883573682894,-0.0018887244487450167,-0.001964783461538352,-0.001980800542956228,-0.0018756078821602117,-0.0020348335062780037,-0.0019130525517392903,-0.0016949275260651376,-0.0018853100990308097,-0.0018846980585456828,-0.001928759341244952,-0.0018828874768264837,0.3105000628914638,-0.0018721196204704042,-0.0018736874913844704,0.004101428343703514,-0.0019421079563927805,-0.0018752628749113024,-0.0018796286757325348,-0.001929798260653465,-0.0018963559156405935,0.0008817772554033886,-0.0022508911509708566,-0.002025482275617674,-0.0018716977161496937,-0.0020330868629449667,-0.001871716435513086,-0.0018771596741109348,-0.00187246652559916,0.006177475096410633,-0.0018838172158658093,-0.001877796045762704,-0.0023043685066784485,-0.002306369056035904,-0.0019160084772468662,-0.0018717829019261327,-0.0018745868248848517,-0.0019057599233384607,-0.0019136093457642767,-0.0018722165355750569,-0.0018750280743879569,-0.0018721525668983555,-0.001900066502209156,-0.001873701602062547,-0.001878388794404327,-0.0019195431438997327,-0.0021033343304471385,-0.0018717679741223423,-0.0018821027793707514,-0.0018794417168318523,-0.005368325729487124,-0.0018963375111320255,-0.002430505514423451,-0.0018844278676234272,-0.0019033806902641296,-0.001901415645548504,-0.002742334041873358,-0.002411462190250904,-0.0018808275554769154,-0.0018889833844472016,-0.002548610091027711,-0.003466327701494255,-0.0019124408718912082,-0.0019073813070611578,-0.002355559294749284,-0.0024410902895924402,-0.0025742202819206664,-0.002029232307336268,-0.001990274015507119,-0.0018863184806593568,-0.0019272534438344615,-0.002063642400333839,-0.002430541344644817,-0.001921770113799852,-0.0026609550723339687,-0.0019129132754217544,-0.0025560857170036913,-0.0027239887343230955,-0.0019354152732372189,-0.001921502001169357,-0.0024618126332289756,-0.0018862293094789539,-0.0023529581304277333,-0.002180524682975608,-0.002171244342842196,-0.0019954154032235855,-0.002770310847057861,-0.0020810661546373345,-0.001872897187825301,-0.0018789306469661547,-0.0018772186938652762,-0.0019056976797284285,-0.0018839794673805375,-0.0027796988222278433,-0.0019334597600768483,-0.0019120456040333897,-0.0020943580610160144,-0.00208815125521492,-0.009122692515237835,-0.006680340846694672,-0.0019080826918292135,-0.0020301033153735846,-0.0018772196250828011,-0.0018815606700128557,-0.002600258399192854,-0.0022599036373506373,-0.00909676727201953,-0.0028709988863726194,-0.0018836019956403858,-0.0019081916268541776,-0.0018820797243402478,-0.002268796974558951,-0.0018813184638651222,-0.0018865210512084751,-0.0019807572183589248,-0.003946596914885221,-0.001893774419890803,-0.0025761046379652133,-0.0030320372238617295,-0.001974020978927821,-0.008895570480303556,-0.0018806247334195944,-0.0022016169782786816,-0.0018835766221355814,-0.0018739638845234085,-0.0025050595325289676,-0.0018735228664140961,-0.0026273725437103877,-0.0021643726770439087,-0.0059156861130322085,-0.002293837565283607,-0.0019372418259738032,-0.002005913831577923,-0.0021927280634056615,-0.0019035269256091364,-0.001897142977274805,-0.002022469113030558,-0.0021481777622289083,-0.002317067079592728,-0.001990501209804019,-0.0020505589577053955,-0.0018905925721193948,-0.0020500702387574233,-0.003568006588013684,-0.002926956291836481,-0.002387672460479549,-0.001876565701265796,-0.0022257598899243906,-0.0018750202760655804,-0.0020659753324338732,-0.003143324632465843,-0.0032925890159208908,-0.0022344200862140584,-0.0019607559165020845,-0.002620675413014267,-0.001970050267530821,-0.0024554632999561426,-0.0023258939820251104,-0.0018937664966455054,-0.0018760709679379673,-0.002461943032784065,-0.0018737187139147272,-0.0019535558317635947,-0.0019956019712219194,-0.0018772705621629855,-0.0018890785388976095,-0.002691702740425961,-0.0018796590493967158,-0.00222846971911801,-0.0019079590046183433,-0.0019279211181989274,-0.0024319239289775185,-0.0018751643818897873,-0.0018728848988513987,-0.0019463050644308235,-0.001871763784319633,-0.006696433741926398,-0.0018759466644963601,-0.001876966394396774,-0.0018730380958973478,-0.0024433987869729883,-0.0016655554958840174,-0.001895560214054435,-0.0018833932516549535,-0.0021991784920684667,-0.002005340148657136,-0.001871879401151599,-0.001871817356939654,-0.0018716957168979384,-0.0018740672300779028,-0.0019859310076883454,-0.0018882500541061381,-0.0018720121273702395,-0.0018717409146007415,-0.0019720420296355633,-0.0019190344830474705,-0.0018722023629521726,-0.0018717185452108817,-0.0019437773811129735,-0.00187395231988358,-0.0018720208747290308,-0.0019684230967230236,-0.0018882933392549495,-0.002100197938967049,-0.00187410588857655,-0.0018760238195961742,-0.0018716971092177848,-0.0018717153924229788,-0.001871697150260376,-0.001871702857940236,-0.0018717245395759971,-0.0018723936415610853,-0.0020042951758389234,-0.0018788992866577237,-0.0023433145599902044,-0.0018736466163340676,-0.0018716956082283703,-0.001871727865494101,-0.001871859824567857,-0.002255132928486209,0.7492202220734194,-0.0018747634605237522,-0.0019394189484243075,-0.001872150857696543,-0.0019585794517106166,0.010113403124794975,-0.0019000709505363777,-0.0018717310086236304,-0.0018717063765579316,-0.001998288843992233,-0.0018716957190537645,-0.0018898356127271588,-0.001871699974626839,-0.0018739981065572493,-0.0018724184793766844,-0.0019783390608093675,-0.0019281848256541348,-0.0018724101753835902,-0.0018782556485882485,-0.0019635017751073844,-0.0018717010141096715,-0.0018717541111247995,-0.0019245915384234022,-0.0018927529843180049,-0.0018799943871975456,-0.0019436095231147178,-0.0018740102568732939,-0.001873925356696289,0.0003640706807953195,-0.002083825680681386,-0.001901479082282656,-0.0019192237961828157,-0.0018717135465665437,-0.001873016321140675,-0.0018719164526786777,-0.002538144938084859,0.047190899090101955,-0.0018757913474068833,-0.0019682004298453132,-0.001958982319906806,-0.002905521259086788,0.08802079046670588,-0.0018762986481284662,-0.0018775098508163766,-0.0018747073814701005,-0.0018834722127439702,0.5984231305349443,-0.0018717125536652972,-0.0018725678724134357,0.08570386132081402,-0.0018730361215196277,-0.0019219384220355014,-0.001871713450343071,-0.001952126773499275,-0.0019161340670519585,0.36815326151326755,-0.0020461728749758224,-0.001908807670182356,-0.0018773578630159895,-0.0018764926940088263,-0.0018722413043051696,-0.001872180722114466,-0.001871867544876765,0.7061115980312984,-0.001871955955010981,-0.0018907293650541315,-0.001888503947752903,-0.0018726513110595665,-0.001883738764224827,-0.0018733659451875037,-0.0018839497349874843,-0.0018746579188249268,-0.0018717377898345331,-0.001871721412460146,-0.001877385359242033,-0.0018729017192928735,-0.002067668054158615,-0.001871698133344741,-0.002361307562622209,-0.0018716996566555315,-0.0018737867766997229,-0.0018717007704472132,-0.0021653534064083844,-0.0018721185064293632,-0.0019436787592844802,-0.0018717166310634633,-0.001871696734436662,-0.0018849534433108218,-0.002171571514621626,-0.0020233985113695197,-0.0018717610133139125,-0.002138696560009565,-0.0033709527379859267,-0.0018861109540058985,-0.0018781733347667797,-0.001871746802080661,-0.0020976020693168843,-0.0018951248687400948,-0.002265365787803511,-0.0018888844174434728,-0.0018717375086805034,-0.0018986867468959597,-0.0021233985385836415,-0.0018743652167782776,-0.0019903403360052503,-0.0018718897877544418,-0.0023605999650062126,-0.001874978235876117,-0.0020892592190472127,-0.0022560009068178836,-0.00187189647118895,-0.001984800502095699,-0.004526293781244241,-0.0019088313178383222,-0.0018717171353373552,-0.001872195447213627,-0.0020096921978171997,-0.0019047798687732282,-0.001984590636547193,-0.0018869466796830436,-0.0018727205251780528,-0.0018919004489822459,-0.0018717153222202734,-0.0023897181684971666,-0.0018780530709949853,-0.0018724953518076003,-0.0022314742040828073,-0.0018809607750505592,-0.0019067500398594484,-0.0019006961257891366,-0.0022433503035968485,-0.003097780910609455,-0.0019285516308306012,-0.002451701013246101,-0.0018791166009467536,-0.0018742893879939643,-0.001923645887887186,-0.0018719027549656266,-0.0019412571040584505,-0.0018972896244158503,-0.001998462100776731,-0.0018718161767332102,-0.0018717402836374822,-0.0018716974217247264,-0.0018716962799063938,-0.0018733702469124086,-0.0018909703029539968,-0.0018886309802391508,-0.002035073756422523,-0.001872245900061336,-0.0018784797818351723,-0.0019140220168149837,-0.0018776765038171083,-0.0018721514303466284,-0.0023113892492763657,-0.0019073942161592031,-0.0018736317753076902,-0.0018718050410541206,-0.0018725775713072073,-0.0018793123081368105,-0.0019968152977959375,-0.0022117720375750076,-0.0018746212937491042,-0.0018734829592150682,-0.0022352257609562992,-0.0018728752137648723,-0.0019882344981899122,-0.001872368394103471,-0.0018717582906893032,-0.0018755544504907098,-0.0019156341967443815,-0.0019149778555791932,-0.0018827302629708012,-0.001871707766488923,-0.0019230209334541969,-0.0019118566437451206,-0.0019778428443296375,-0.002093388635467892,-0.001872261380803469,-0.001909133579529016,-0.0018718902820191797,-0.0019625376679058126,-0.0018739059123204628,-0.0018737690065397537,-0.001873211481271965,-0.0018735251178623646,-0.0018823053339641098,-0.0018734138590097852,-0.002620981344829177,-0.0018812138167301317,-0.0018750148608238856,-0.001872298979703176,-0.0018753746994778092,-0.0018875730820523534,-0.0018985618366298316,-0.0019248683569128519,-0.001871872056145554,-0.0019294098852907495,-0.001982199218330662,-0.001872239406667145,-0.0018759366740210884,-0.0018753413767355997,-0.001871979691871613,-0.0020978299965998663,-0.001873465750924815,-0.0018734849875301895,-0.0018922884976677458,-0.0019021822393689883,-0.0019057004640692077,-0.0018722285561464827,-0.0018720947917939385,-0.0018726946408966815],\"y\":[-0.004891625463669414,-0.0009296578473780203,-0.0009070620240571124,-0.0009260534235355183,-0.0009060133873571571,-0.0009047028297701676,-0.0009596207455659688,-0.0009507059243842955,-0.0009046837680984425,-0.0009046323831840102,-0.0009256805919406315,-0.000920522172412295,-0.0009107218671798213,-0.0009261293516745235,-0.0009656983239687875,-0.000960325795288041,-0.0009055287112149501,-0.0009091981585330179,-0.0009051383168447521,-0.0009060208606932943,-0.0009130029880414543,-0.0010555159100197422,-0.000974471057619845,-0.0009091864046507117,-0.0009053340519014473,-0.0009205899794482535,-0.0010576745278970243,-0.0009063173638647408,-0.0009046504760663155,-0.0009150654891705942,-0.0009390521053046527,-0.0009047767982234396,-0.0009352910912857496,-0.0009559570826956956,-0.0009777921005621325,-0.0009585298405482193,-0.0009266259416494388,-0.0009046393704277901,-0.0009046769512794523,-0.0009105973036887424,-0.0009087286523677506,-0.0011596473980137246,-0.0009176878187652899,-0.0009108034370285951,-0.0009357070241700127,-0.0009057433850021616,-0.0009046436379742919,-0.0009334192671541736,-0.001171768444592183,-0.0009585354391404063,-0.0009095001292651169,-0.0009102688299259767,-0.0009218895989801186,-0.0009046288511232133,-0.0009046453013491862,-0.0009109034341994645,-0.0009848773558069114,-0.0009070518539812889,-0.0010892191706285907,-0.0009091427455051594,-0.000929285215333176,-0.0009064843671671779,-0.0010373555917139172,-0.0009110562517074148,-0.0009063421818334194,-0.0011362703086432646,-0.0010609378662479467,-0.001049773029872501,-0.0009074481855841695,-0.0009067876717641615,-0.0009540431797189466,-0.0009280856851351735,-0.0009549918094936396,-0.0009137435908681175,-0.0009051541757805569,-0.000908296660196976,-0.0009196260142095847,-0.0009046656987632124,-0.0009336861351453681,-0.005675416686301202,-0.0009236957586396581,-0.0009581308703108507,-0.0011411674946875472,-0.0009673513862515338,-0.0009267132206205267,-0.0009095967825089925,-0.0009048348217469352,-0.0009046355142456642,-0.0010468189327779947,-0.0009419606530439975,-0.0009167484710469573,-0.0009274071582810791,-0.0009050400517820776,-0.0009329297632281602,-0.0009580654287623991,-0.0009052062155824478,-0.0009048265183706361,-0.0009161965339954381,-0.0009061042579958862,-0.0009188079689474372,-0.0009156319829654589,-0.0009057202791975575,-0.0009408008969256598,-0.0009047423176510375,-0.0009054244412082063,-0.0009056501915059226,-0.0009063409592935646,-0.0009258559047864553,-0.0009052180629994063,-0.0009074473129211333,-0.0009169261793054388,-0.0009667880499132867,-0.0009280658465438075,-0.0009046352518804133,-0.0009098098729000647,-0.0009067267723634671,-0.0009094984176193943,-0.0009910345339390336,-0.0009095372531153235,-0.0009113382917883778,-0.000904651561143059,-0.0009047821241975004,-0.0009050201461871105,-0.0009047506555161215,-0.0012050391590229042,-0.0009046302304829718,-0.0009731746884853894,-0.0009046945013144338,-0.0009247651723506548,-0.0009046628354137231,-0.0017180410054318262,-0.0008986420382377379,-0.001338641577550259,-0.0009046933391650266,-0.0009046816101509693,-0.001014804677988449,-0.0016426351004082207,-0.0009061959268496252,-0.0009159548845289122,-0.0009645768349269123,-0.000935026635896029,-0.0009283446752341218,-0.0009265180793952908,-0.0010601023199575041,-0.0009602583382069125,-0.000936515456764642,-0.0014758082603726263,-0.0009064655676804371,-0.0009064946887934805,-0.0009080197124570039,-0.0009176345846859156,-0.0009357515947542101,-0.0009049628790007125,-0.0009112894703211154,-0.0009099643253019841,-0.0009224483514253617,-0.001106203734632648,-0.0009098908248243759,-0.0009046569419739298,-0.0009550057970092259,-0.0010461013593455514,-0.0009046766122132184,-0.00093206275302702,-0.0011411192413886579,-0.0013128127949446132,-0.0014680947989620986,-0.001241958601600738,-0.0009582343142768287,-0.0009161619640308593,-0.0009602369778622067,-0.0009046619523465151,-0.0009142916333177199,-0.0009062848864001738,-0.0009646439485501448,-0.0011100301166118956,-0.0009830549306506658,-0.0009276960792058042,-0.0009066070327860354,-0.0012592360539516747,-0.000908629202213849,-0.0009172072044256171,-0.0009443728000834023,-0.0009159116771296235,-0.0009079982473935553,-0.0009153591330118264,-0.000929573016166939,-0.0012564101203901437,-0.0009088942965072568,-0.001010698040108679,-0.0009453713401906228,-0.0009098023408930626,-0.0009046347769774322,-0.0009049926003553253,-0.0009205200823206416,-0.0009056094681256555,-0.001133685351484593,-0.0011162598243136968,-0.001515242978070214,-0.0009654619782735916,-0.000906528738206948,-0.0009142502875847219,-0.0009590357251544801,-0.001792639959951524,-0.0009047041813883177,-0.0009678329750347422,-0.0009049014563970075,-0.0009051856017151792,-0.0009085169187860133,-0.0009071109046234316,-0.0009064831793104351,-0.001044247274599323,-0.0009056550427464194,-0.001095190228107967,-0.000986526566381781,-0.001333443286340994,-0.000905994478195151,-0.0009063482866470483,-0.0009201665640324977,-0.0009206771589272709,-0.000926391113487655,-0.0009151646178927727,-0.0009266238489236703,-0.0009111776585663416,-0.0009297991299968207,-0.0009048022381648353,-0.0009895414416959103,-0.0009140774399945832,-0.0009188359269154057,-0.0009875882125051222,-0.005640922423888384,-0.0012140565433746366,-0.0009062370226529308,-0.001080226722703724,-0.0009121062540932933,-0.001151596584215784,-0.0009276821297157657,-0.0009190239667089119,-0.0009163984143771019,-0.0009661719810291448,-0.0009082810182083332,-0.0009053269109238752,-0.0009352677538778544,-0.0009062273874925115,-0.0009295342202897159,-0.0009060424527022851,-0.0010660494154924184,-0.0009522252018779338,-0.0009047919987299655,-0.0009055452318905943,-0.0009065800149837878,-0.0009684462313940298,-0.0009066809200485937,-0.0012689166157028506,-0.0009047920173936506,-0.0009047024915888479,-0.0009180234664219305,-0.0009604352657448849,-0.0009648641309862782,-0.000983272825145356,-0.001065176633590533,-0.0010071793566060147,-0.0010590141186397036,-0.01975659867533089,-0.0009113313177070048,-0.000905730408486034,-0.0009052126399037357,-0.0010647987570825395,-0.0009064798333767724,-0.0010271641061958374,-0.0009113740485457309,-0.0010049642690054368,-0.0009104383908630784,-0.003157775986229426,-0.000948704246283448,-0.0009083577038911726,-0.0009154835453239254,-0.0013483835774814289,-0.0009069841902020361,-0.0009195877656487445,-0.0009594275615829744,-0.000993567624915074,-0.0009487354501461498,-0.001129566034654243,-0.0009089144832458067,-0.0009046869751511657,-0.0009167385052294445,-0.0009166387028307086,-0.0009816267789935192,-0.0009505704346748837,-0.0009065732542117384,-0.0017018869604715934,-0.0009309634136218964,-0.0009128543013663722,-0.000905336886437785,-0.000907164729229238,-0.0009046973468569518,-0.0009051696010538807,-0.0010050614779779116,-0.000927081437836936,-0.0009218861241102022,-0.000987958772323768,-0.0010223365826939979,-0.0009079674511493163,-0.0009046506850037726,-0.0011075838301996869,-0.003466862452775193,-0.000958671492882629,-0.0009059512375692424,-0.0009833775989487503,-0.0009315520285878522,-0.0010797711346821537,-0.002487284771435442,-0.0009072860515212243,-0.0009922203362254544,-0.0009096778121678878,-0.0010639414055636542,-0.0009448844557941408,-0.0009065374694041743,-0.0009217043378196903,-0.0009859771899720206,-0.0011604816452501809,-0.001328737203903629,-0.0019346796131562466,-0.0014740131428717656,-0.0009052168874920226,-0.0009762632664447518,-0.0012994067367471632,-0.0009046844791976865,-0.0013405801097092793,-0.000956939373801013,-0.000952299710169396,-0.0009727879913509643,-0.0009159299385332234,-0.0011137824418095417,-0.0012598660544075996,-0.001290141793684964,-0.0009373157772689184,-0.0009562766833299025,-0.0009141635497863554,-0.001021497024178238,-0.000922593821335632,-0.0009200888687248609,-0.001032111901307426,-0.0009576831988136633,-0.02588744559935601,-0.0009506284948525494,-0.0009412160018175582,-0.00107057950699114,-0.0009125260689318928,-0.001134627529905125,-0.0009057924686388123,-0.004360275458836131,-0.0009058968432864651,-0.0010074063917481456,-0.0009055866981313068,-0.00093201890570407,-0.0009612260533201611,-0.0009067694198453782,-0.0009060254150375275,-0.0009184289300056556,-0.0052572733078911135,-0.0010026392157932757,-0.0009768080716382637,-0.0009047472653851824,-0.0009048280296751668,-0.0009229341756937315,-0.0009100750093421836,-0.0010266170766817973,-0.0010530263234508534,-0.0009378998253704468,-0.0009060023964297418,-0.0010744704813756075,-0.0009934705872334238,-0.0009053156138099541,-0.0009100176906273364,-0.00090810202599379,-0.001119920979509461,-0.0011927269269491076,-0.0009046328814142854,-0.0009049247429748137,-0.0010931255559235398,-0.0009111577681781277,-0.001212491858121296,-0.00090822385609302,-0.0009196155816664186,-0.0009418306679743449,-0.0011157176647410135,0.0014910570409891874,-0.0009173708575926169,-0.000904814674401365,-0.0009616012061348753,-0.0009077953502033966,-0.001112297381654917,-0.0010618402017545903,-0.0009075727954800815,-0.0009233921243213058,-0.002866614463805332,-0.0009226026296218599,-0.0009229630238118244,-0.0009052640063934521,-0.0009205809344015778,-0.0009176088879880236,-0.0009047306191359157,-0.002057298093047417,-0.0009092913764512115,-0.0009908560600278304,-0.001561338059090934,-0.0011121394277032108,-0.0009127223515321034,-0.0009046307322293807,-0.0009159959920697952,-0.0009213621112547832,-0.0009363928826072227,-0.0015246849250524375,-0.0009046303618998426,-0.0010001295729615634,-0.0009239394257769491,-0.0010057203280890124,-0.0009067360453843443,-0.0009141211379173146,-0.0009047542108332341,-0.0009046291132920104,-0.001026257385267484,-0.000974265220977939,-0.0009060123556027062,-0.001092418100689984,-0.0009052338724145947,-0.0009053313291694757,-0.0009166075915991253,-0.0009634641890928651,-0.0009046842241771202,-0.0009244819393208267,-0.0009047797309053835,-0.0009261193498266052,-0.0034426163647197122,-0.0011832594258422496,-0.0009067724257094813,-0.0009497614948621397,-0.0021075971885243954,-0.0009047341594526621,-0.0009147874759698413,-0.007065839892410901,-0.0012549372099224074,-0.0009560424368552371,-0.0009046717804994635,-0.0009131567963106934,-0.0009105620554947214,-0.0009623802522915456,-0.0009121999768551949,-0.0009123017260634613,-0.0009653886353141452,-0.0011986288307617664,-0.0009077009222321538,-0.0010441795782914032,-0.000910677367118055,-0.0010579725898566962,-0.0010764696698021216,-0.0009046301163171925,-0.001121209507047286,-0.000937543632835364,-0.0009646001631577784,-0.0009062611897944417,-0.0009047875592125522,-0.0010050751384927197,-0.005569883421646507,-0.0009153852473129512,-0.0009198785396336884,-0.0009414529853981979,-0.001028409736535627,-0.0009130339496668706,-0.0010352313411199476,-0.0009046678846743959,-0.0009241740260872778,-0.0009072111654649329,-0.0009244312175959532,-0.0009127579568025941,-0.0009212469262419817,-0.0009082536268763811,-0.0009159887623036426,-0.0009846214097225484,-0.0009048820876546859,-0.0009065284617699582,-0.0009046363906676011,-0.0009362999632460916,-0.000918512317644412,-0.0009188877204864184,-0.000922597065158413,-0.0009235064376680494,-0.0009092556434403464,-0.0009046362072228591,-0.0011493768309968845,-0.0010351750017851536,-0.000904629183972377,-0.001161373581369663,-0.001186760441170684,-0.0009588632970917284,-0.0009047858611287433,-0.0009066640506576471,-0.0014025711164914008,-0.0009560193821250204,-0.0009047824056492491,-0.0010066511031789505,-0.0009046302423282693,-0.0009136816636752083,-0.000928121425933884,-0.0009196040483051163,-0.0009047872076235167,-0.0009082187555910697,-0.0009055033800427586,-0.0009072471232976534,-0.0009619536142166348,-0.0009116060411607394,-0.0020772245246897425,-0.0009127469209741629,-0.0009401749500322876,-0.0009051113374205451,-0.0013813253682352887,-0.0013240346004812918,-0.0009102909329268795,-0.0009052767375026619,-0.0009549738910531004,-0.0009047025026648314,-0.001589080515178305,-0.0009073974123400231,-0.0009046776202027596,-0.0009047727847689861,-0.0010596888849864004,-0.0009552634838543635,-0.0009095463902365198,-0.0009078798608477502,-0.000905033929068111,-0.000918719437755265,-0.001350378409017638,-0.0009863262609417847,-0.0009076246154750071,-0.0009048173248737277,-0.0009475291581148434,-0.0009248145048058241,-0.0009159865372852757,-0.0009058355743910061,-0.0009143296358306351,-0.0009260471889278892,-0.0033269669718501396,-0.0009743111260604173,-0.0009288911466046323,-0.0009049805888749136,-0.0012057286312498808,-0.0009046321123808131,-0.0009080086920677179,-0.0009290451497943725,-0.000967761231508644,-0.000921958090384789,-0.001604053263431667,-0.0009115101203310841,-0.0009143350234155398,-0.0009264297862504509,-0.001357726344579324,-0.0009129551683196851,-0.0009708084805725599,-0.0009390313289965953,-0.0009606724622692651,-0.0009167357145906322,-0.0009370447341985422,-0.0009201851638736794,-0.0009512033645226776,-0.0012696627659222414,-0.0009407339093680706,-0.0011369274962016041,-0.000922039673688084,-0.0009046306527086616,-0.0009114349911209362,-0.000984213687216406,-0.0009700478238471455,-0.0011840614012347125,-0.0009053325846240547,-0.0009289543112612895,-0.0009046313116905847,-0.001073842808112752,-0.0009047065243376058,-0.0009234868741579598,-0.0009470318462770688,-0.0009896194408418992,-0.0012945169819901768,-0.000907814292462553,-0.0009054099745675503,-0.000912791170740544,-0.0009131528967316047,-0.0009308108642167143,-0.0009052863694453775,-0.0009103614978749858,-0.0009053516731337896,-0.0009192122233104866,-0.0009048662084779496,-0.0009370153116925741,-0.0009318517166961293,-0.0009242638073842451,-0.0009257553090177261,-0.0009369442519359625,-0.0009916969559780114,-0.000931990946099883,-0.0009067229951656532,-0.0009081381899829791,-0.001109851169881664,-0.0009197587171931821,-0.0009138625348797466,-0.0009047137449595674,-0.0009053836017841636,-0.0009068586038674177,-0.0009175055149467395,-0.0013208705808004004,-0.0009145229871394275,-0.0015523668800710628,-0.001317348111001794,-0.0009384818590461709,-0.0009258322387352487,-0.0009090225028769104,-0.0009330750068820233,-0.0009097421234788854,-0.0009191837287674798,-0.0009227178053054315,-0.001138948333374281,-0.000938920575638808,-0.0009143959086451099,-0.0009111247398594936,-0.0010559465719520592,-0.0009226299046668227,-0.0009180200275077147,-0.0009390387655116308,-0.0009266905819727821,-0.0009117510890133516,-0.0009046579408902366,-0.000990511134517821,-0.0011447170854296863,-0.0009046749436042569,-0.0010026155935973868,-0.0009235975389352109,-0.0009222210371589708,-0.000915983202208125,-0.0009046802973345975,-0.0009104625089203493,-0.0009506532353779616,-0.0009148011705353665,-0.002634069267743033,-0.0010278467777318574,-0.0009106583448302373,-0.0009151583388035584,-0.0010250047247466725,-0.0009075832949678458,-0.0009908731342379567,-0.0009178673356009292,-0.0009138739008091132,-0.0009047463048027935,-0.0011723170359615566,-0.0009353904727308677,-0.0009542167802483745,-0.0009472485199421737,-0.001035806666581061,-0.0009220265625465738,-0.0009247559190624254,-0.0009094816545006709,-0.000909512103190015,-0.0009156103401228027,-0.0010671133043808295,-0.0009764882947906351,-0.0009046293424190535,-0.0009579196148357405,-0.0009601805027569894,-0.0009076382918590775,-0.0009067146299894705,-0.0009139064294774145,-0.0009046291817452338,-0.0009197035380985359,-0.0021255128505098426,-0.0009047361444818099,-0.0009230717230789362,-0.0009054954814253935,-0.0011668492001915443,-0.0009101784676232557,-0.0009046289604187873,-0.0009404824602756771,-0.0010367872872671048,-0.000905350585858467,-0.004323229305939448,-0.0009319766469141197,-0.0009226127117375031,-0.0011607134184244909,-0.0009236838205188611,-0.0009048315444446824,-0.0009482175333416567,-0.0009051052979344603,-0.000905054558719226,-0.0009046413937130799,-0.0009335080270781879,-0.0009528386859069904,-0.0015675815484359683,-0.001040136963590547,-0.0009081682139455808,-0.00090541078154552,-0.0012288853146234186,-0.000906485897837266,-0.0009049609281199762,-0.0009046348643468658,-0.0009649055409370665,-0.0009057064755689015,-0.00094177169278006,-0.0010443814206635281,-0.0009655987319654294,-0.0009588124705374936,-0.001052775522012719,-0.0009403584094956535,-0.0009046942865633892,-0.028437451828967075,-0.0014489735278788924,-0.0013626051402668689,-0.0009344030392670637,-0.0009244187775151328,-0.0009310817913814516,-0.0009095361358597174,-0.0009777837872384067,-0.0009083810613373747,-0.0009134199556515965,-0.0009076209983648473,-0.0009047100065868342,-0.0009075473617319844,-0.0009960752053072774,-0.0014178613047870746,-0.000930970241633922,-0.0010666058610517657,-0.0015030025445578303,-0.000999449128115504,-0.0009110563057586295,-0.0009065289733957508,-0.0009097341475540011,-0.000942723551637246,-0.0009150573119205953,-0.0009417971726185484,-0.0009048780429941779,-0.0009283818150793423,-0.0009081964435141942,-0.0009072431966867029,-0.0009617516813031205,-0.04877523432877542,-0.0009049019738360823,-0.0009357085195054317,-0.0009284136117252427,-0.0009318220106375879,-0.0009092538823033776,-0.0010674496432560613,-0.0009196637604490868,-0.0009137962418633514,-0.0009131809702272507,-0.0009062068379426653,-0.0009149382003770171,-0.0009092547578041754,-0.0011668835444381795,-0.0009365309374437612,-0.0009172377445556789,-0.0009464256722963159,-0.0009086392966461799,-0.0009988379483252144,-0.0009163157037317038,-0.0009795808541619478,-0.001012578863254817,-0.0009255430360306236,-0.00101916001112124,-0.0011392384344440511,-0.0009107056267882597,-0.0009064577147300197,-0.0009154227509158767,-0.0009046333518796534,-0.0009503103564318787,-0.0009414361624671224,-0.0011249152968485828,-0.0009060054656945323,-0.000904828502162904,-0.0009153154383988777,-0.001011609709907325,-0.0015600758655331998,-0.0017155517981152692,-0.0009046340433811684,-0.0009063581908764375,-0.0014175117584456069,-0.0009047970861234908,-0.0009625941899237334,-0.0009046340001245244,-0.0009682255237950235,-0.0015470339407175654,-0.0009047839150700164,-0.0009761094273387367,-0.0009288757668010721,-0.0009122099664406672,-0.000947903256303132,-0.000904642689951859,-0.000916574835296105,-0.0009046407447822653,-0.0009072114039457092,-0.0009115009837323456,-0.0010362891558849101,-0.0015870341146941617,-0.0009185125506053043,-0.0009119192917043806,-0.0012447752208075492,-0.0009385180894300349,-0.0009061383579972109,-0.0009047515331948472,-0.0009053443069838757,-0.0038631779955195854,-0.000938633655636182,-0.0009051446573519608,-0.0009566414006455166,-0.0009372225990109009,-0.0009529054704115757,-0.0036980159985359304,-0.0009047758161975417,-0.0009097155930485283,-0.0009458972916641144,-0.0009743925572215144,-0.0009138783514745103,-0.0009535326372289535,-0.0009061703513615614,-0.0011608754000680135,-0.000915441255498863,-0.0010033279255772058,-0.0009256309266072811,-0.000905138011920227,-0.0009063442662938551,-0.00102299078129012,-0.0009231293008913801,-0.0009102224825007598,-0.0009786597611069346,-0.0014361968994806846,-0.001042381286381034,-0.0012483344030420336,-0.0010171756186821445,-0.0010502238474221425,-0.0009050915329805851,-0.0009049894850365089,-0.0009230210918158013,-0.0009054917501523874,-0.000904691259151643,-0.001188185653587789,-0.0010369589391082627,-0.0009260360937860834,-0.0009047384038294705,-0.0009314838911523062,-0.0009215350928031247,-0.0009103439607408455,-0.0009058183840942027,-0.0009527740797380299,-0.0009180843577022622,-0.0009271039828443615,-0.0019366772486650154,-0.0009046297855399262,-0.0032928435926142525,-0.0009309559180916426,-0.004439146679305842,-0.000905161072187025,-0.0009128405923398076,-0.0009667591195680663,-0.0010319999315168155,-0.0009057809452796607,-0.0009496586603245311,-0.0009137298364877418,-0.0009145553257808014,-0.0009202604789144185,-0.0009328254873170612,-0.0009282342678428965,-0.000916424788486701,-0.0009150270137046469,-0.0011188430570966718,-0.0009122153158320278,-0.001008694396024684,-0.0009057183000530507,-0.000906399966306922,-0.0009050450555005115,-0.0012518811199855899,-0.0009047856884681132,-0.0028089062638537994,-0.0009587594029242764,-0.0009178067614081109,-0.0009524705291143941,-0.0009573282485161405,-0.0017210582787743171,-0.0009080296943244282,-0.0009059972682017289,-0.0013188574973238376,-0.0009460683646182085,-0.0009115067184136245,-0.000952230570189738,-0.003590536269998142,-0.0009311025727382116,-0.0009046296888226068,-0.0009439043878480601,-0.0009377493341438424,-0.0009047481335351368,-0.000916999948625774,-0.001214068357090922,-0.0009067824396581453,-0.0009307537904609229,-0.0009046331385577766,-0.0009073892818188789,-0.0009153489665899434,-0.0009067974526720373,-0.0009052414520688971,-0.0009148159415768699,-0.0009046304049165989,-0.0011394254970640797,-0.0009611592488573948,-0.0009220653765693708,-0.0009521906823735083,-0.0009110103397555198,-0.00180607586509316,-0.0009628401814797554,-0.0009048397156553353,-0.0011550602229075046,-0.0018707256656546177,-0.0010843744375034457,-0.0009069163630475905,-0.0009098187172709596,-0.0009609918241241546,-0.0009057124881913548,-0.0010541944286168797,-0.0009059468467116812,-0.000944814104876427,-0.0010410445509884073,-0.006044920898073815,-0.0011300485493215423,-0.001058050524585249,-0.0009097368490631154,-0.0009140955596283342,-0.0009132414950696046,-0.005839933583486603,-0.0009847115098376405,-0.0009057038554886712,-0.0009407924809453324,-0.0019975393232751033,-0.0009264127593676488,-0.0009231354344905628,-0.001003084209803893,-0.04404533880283668,-0.000918191897049004,-0.0062067461022599565,-0.0009140280070886589,-0.0010464203275669264,-0.0009482544906775972,-0.000905817365712783,-0.0009105415494127009,-0.0009061684727133693,-0.0009571476425622307,-0.0009221405630677778,-0.0009049991780047374,-0.0009046874480827887,-0.0009760148606447645,-0.0009647876693791536,-0.0009447231370316015,-0.0009411928377582829,-0.0009325750600364565,-0.007991316834069135,-0.0013533095150937864,-0.0009451466137514041,-0.0012993495581737008,-0.0009683239411260133,-0.0009100457421329743,-0.0009198532690832061,-0.0009048554936825033,-0.0009054067336861624,-0.0009289225513467363,-0.015049900651141446,-0.003165215424809318,-0.0030859368811852884,-0.0009129634002260382,-0.0009346028549865797,-0.0009227952984937661,-0.0009869281511016357,-0.0034182707790656386,-0.0011674366684089074,-0.0009201720812798889,-0.0009312948690218002,-0.0009133415852261808,-0.0009325533875212757,-0.0009542326386224837,-0.0011422353632369849,-0.0010742406226334164,-0.0010536295896860328,-0.018577515809530275,-0.0009046301451239524,-0.0010126155512517974,-0.0012124824638217286,-0.0009073993500750573,-0.0013396811310430255,-0.0009228098235163431,-0.0011886855550951741,-0.0009046405369841727,-0.0009302167363641785,-0.0011202677130476729,-0.0009218394811917503,-0.0009191002488920719,-0.0009299852218094856,-0.0009284780243568024,-0.0009094460882453163,-0.0011116388288777283,-0.0009087618658765158,-0.005243453073563325,-0.0009297023965924862,-0.00090541703001491,-0.04735433970377886,-0.000907724353733984,-0.0014788187105401452,-0.0011084281367812782,-0.0010228945773690574,-0.0009203081304927649,-0.0009238928064388011,-0.000926488376539844,-0.0009885439474964937,-0.0009309169772877729,-0.0009047212214437627,-0.0009207868365380505,-0.0010446486797647263,-0.0009179811946098761,-0.0009621776509131031,-0.0009056826505700168,-0.0009055394835217897,-0.0010446328152463194,-0.0010609923439813432,-0.000904628866928028,-0.000908720549045234,-0.0009893301240850843,-0.0009696010175316362,-0.001026419609456579,-0.0028861960687728214,-0.0009071083472574934,-0.0009492467573164544,-0.0009179821892277955,-0.0010107617861413603,-0.0010708386064342678,-0.006123919410815122,-0.0009401357620530427,-0.0009046289819583946,-0.0009046295657397904,-0.002197032584938656,-0.0009187392322467069,-0.0009107426496950255,-0.0009156650396166067,-0.001083455409314656,-0.000904680510480327,-0.0011211241653032024,-0.0010183918205123527,-0.0009054728440638355,-0.0009047843738588113,-0.0009190408974694688,-0.0016152950825460127,-0.0009455004954197729,-0.0009067155154159679,-0.001002073646990955,-0.0009083396142062524,-0.008023581011104052,-0.0009221046958383247,-0.0009053276875265882,-0.0009046740449632654,-0.0013843294153155683,-0.0009048115273805868,-0.0009356395256319439,-0.0009048237696384539,-0.0009808410630713705,-0.0009292516639262076,-0.00102916175060517,-0.0009053082003903173,-0.0009046381093495862,-0.0009048123928464893,-0.0009067245632923645,-0.0009151966983472278,-0.0009148709719715521,-0.0009046841275559356,-0.000905460290580459,-0.0009249988636059801,-0.0009553742119495182,-0.0017549813261265356,-0.0009052403416754331,-0.0009052260719014272,-0.0009243964215562356,-0.0009096573802444884,-0.0009067879003136336,-0.0012573686926892432,-0.0009057215008286812,-0.0009682319456868767,-0.0009047092890281253,-0.0009239190893831996,-0.0009414551987637778,-0.0009047672898052615,-0.0009081254719081072,-0.0009474757028496627,-0.0009882894914724522,-0.0010367406784242456,-0.00117112678700556,-0.001279657412950067,-0.0009046402750560508,-0.0009047939415873856,-0.001409391775813691,-0.0009048377570142216,-0.002744298059159395,-0.0009046292042053339,-0.0009403642428921861,-0.0009756269388396045,-0.00090926289506422,-0.0010784857958772928,-0.0010963313308164273,-0.0010077292042564249,-0.0012850273424289676,-0.0009051603695949382,-0.0009455023342171443,-0.0009383728596633411,-0.0010032642391468506,-0.001274934786696649,-0.0009047751096416649,-0.0011346008335491064,-0.001073760882079812,-0.0009102720446603857,-0.0009055676357432159,-0.0009046296705658013,-0.0009051695246710613,-0.0009921040506500273,-0.0009211133370153409,-0.001577508335728591,-0.0009054987383264984,-0.0009377309984047952,-0.0009172897747216122,-0.0009358260425073571,-0.0010710712426381453,-0.0012626060260590164,-0.0009397678287194626,-0.0009052338025985081,-0.0009339117625933304,-0.0009046550859214762,-0.0017608433566457902,-0.001947642595770038,-0.0009070175154070685,-0.0009047125389929585,-0.0009273790032923392,-0.0010405180006704362,-0.0009052047782055112,-0.0010536687233871139,-0.0009047138887408907,-0.0009101027521913463,-0.0009323747092453991,-0.001044200166316002,-0.0009077150040505123,-0.0009046297796646197,-0.0009047625025754301,-0.0010947478797053423,-0.0009046288051541909,-0.000904629802864049,-0.000921133226191605,-0.0009046288229401981,-0.002448069099163621,-0.0009046752612429128,-0.0009046298215444001,-0.0009098522964174189,-0.0016503666871945184,-0.0011741093698940653,-0.0015757453876252953,-0.0009134885793443077,-0.0011323371186484348,-0.0009104641608491784,-0.0027879779175005075,-0.001021506331248466,-0.0009047208643284008,-0.0009055923847090877,-0.0013254289386421417,-0.0012217768398314372,-0.0010091807088229879,-0.0009057855952447937,-0.0010560384186755127,-0.0009196602968570846,-0.0009177140396289434,-0.0009581448384696603,-0.0009072608949922625,-0.0009073757250992878,-0.0009257609728146644,-0.0009060876533613074,-0.000905636605846395,-0.0009126393090760381,-0.0009092756848954285,-0.0010727833027792569,-0.001024321622126848,-0.0009462617401882312,-0.0009077175851848928,-0.0009059546836816944,-0.0009497277297132877,-0.0009321916373300455,-0.0009119069302061148,-0.0009404049371562008,-0.0016313241734945986,-0.001385693534528497,-0.0009362960922296024,-0.0009142817269844315,-0.0009046319342353321,-0.0009304713299250845,-0.0009046291387530293,-0.0009489155632692391,-0.0009315230362671093,-0.000911407309541101,-0.0010368102534230265,-0.0009138581585573922,-0.0009132316747695431,-0.0009146316663629553,-0.0009470064668660543,-0.0009433176485931502,-0.0009058281278562783,-0.0009429971418213162,-0.0009611813444931394,-0.0009046302621831459,-0.0010161878186600918,-0.0009549319698857343,-0.0010109414043814157,-0.0009360823494235808,-0.0009478311914140673,-0.0009113611162353402,-0.0009731082930081519,-0.0009075960496511105,-0.0009070197747780864,-0.0009218002569413746,-0.0009050941784049701,-0.0015151005440558849,-0.0012437176557458468,-0.001325173272327888,-0.0010333409081675292,-0.0009054985241078356,-0.0013833892105719972,-0.0009158487306068347,-0.0009137727366724847,-0.0009151257089467071,-0.0009093999537109661,-0.000927822445532261,-0.0009087960415227033,-0.0009058031536482819,-0.0010464537818180093,-0.00104755684356418,-0.0020107552566921622,-0.000948275399614513,-0.0010680238429190741,-0.0011845520620010078,-0.0009365417712399099,-0.0009052739703553434,-0.0009103323893045947,-0.001043033667473446,-0.0012835850502863982,-0.000914385284173294,-0.001924039359306229,-0.0009049271254725558,-0.0009228368849717685,-0.0019437256260204214,-0.0009090037151827016,-0.0012880031867514529,-0.0009091261893663434,-0.001012536570095751,-0.0010273601979215864,-0.0009047059530390326,-0.001003173477467937,-0.0009065271143114538,-0.000985687774735543,-0.0011852398552266547,-0.0011522840991991447,-0.0009112315822409778,-0.0012153462349396248,-0.0009046302478962399,-0.000908111332006139,-0.001180219765735275,-0.0009255450208091402,-0.0009559943880685303,-0.0009865871333178487,-0.0009260505937474176,-0.0009049775267615979,-0.0009282084895183679,-0.0009267347310270421,-0.0009056107754745485,-0.000904647315165552,-0.0009299530828821557,-0.0009217602815503474,-0.0009077737209009687,-0.000904958450956762,-0.0009047191959869297,-0.0009055725224036141,-0.0009383051252417824,-0.0009227170573711477,-0.00090521635134471,-0.0009047145445052555,-0.000907878354428398,-0.0009151085723329485,-0.000898058449449277,-0.0009046530793111967,-0.0009342394799971049,-0.0009475189123263287,-0.000949948215238178,-0.0009109785963997821,-0.0009070979751407915,-0.0009346647317190533,-0.0009047012264522809,-0.0009120544576301544,-0.0009146525327432878,-0.0009047354723946026,-0.0009254593267214897,-0.0009118446504862353,-0.0009061837163696889,-0.0009129219851627324,-0.0009457341409022479,-0.0009406317149673092,-0.0009082328424507363,-0.0011192134731206125,-0.0009074536733956884,-0.0009052413992754443,-0.0009105927427625127,-0.0009146635471264587,-0.0009076227929641655,-0.0009309712645774663,-0.0009133456317050966,-0.0009173898900397932,-0.0009054359462323535,-0.0010175699293267079,-0.0009236271824941157,-0.0009115935425562001,-0.0009067190673157421,-0.0009690961446202144,-0.0009296283243046324,-0.0009259602188073866,-0.0009098992159279035,-0.0009056103103938512,-0.0009053613042613993,-0.0009168351894063101,-0.0009275054523267785,-0.0023034043991259066,-0.0009330215600163892,-0.0009047440066895934,-0.0009596999574169576,-0.0009153123944757334,-0.00024375149562017438,-0.0014104513676723187,-0.0016433904657645346,-0.0010616713969186038,-0.0009054685048561677,-0.0009319259863127679,-0.0009138342569709607,-0.0009078451767122923,-0.0010494111449520767,-0.0009148626411027228,-0.0009215851861575661,-0.001313778539149143,-0.0009140485397427434,-0.0009564286939227383,-0.0009046975727548418,-0.0009294220843288086,-0.0009229857529911584,-0.0009647438424293074,-0.001041030971840886,-0.0009593029017643455,-0.0012279049259602505,-0.0010534188706295157,-0.0010029843634146646,-0.0012087500732208681,-0.000912950664904967,-0.001196126393380815,-0.0009158083438584727,-0.0009047681938863502,-0.0009407111832808485,-0.0009079216798745015,-0.0009073141270875348,-0.004457309581478738,-0.0009166127156283968,-0.0009651188721337424,-0.0009761831277669795,-0.0009072882240635535,-0.0010106524966253087,-0.0009311138708737349,-0.0009040285846074326,-0.00091330173547515,-0.0009130734046821061,-0.0009416115084886895,-0.0009118529001212218,0.001656021019526732,-0.0009049015638530661,-0.0009059146019152122,-0.0010503254513075807,-0.0009510077098959126,-0.0009069999072049499,-0.0009096813493920077,-0.0009421093374652657,-0.0009205387499551795,-0.0013073452805621973,-0.0011561973844264528,-0.0010174620809498928,-0.0009046301454094353,-0.001009653293623704,-0.0009046422515921051,-0.0009081218183804367,-0.0009051320386657609,-0.001487241144176907,-0.0009123661124675411,-0.0009087670166062043,-0.0012015782707526159,-0.0012027905897973585,-0.0009334558883430279,-0.0009046845903139464,-0.0009064694509266645,-0.0009265551079802441,-0.0009315110025499072,-0.0009049609246687725,-0.0009068009038451581,-0.0009049203180515527,-0.000922795414476852,-0.0009060022649148247,-0.0009089018311269722,-0.0009352869231532145,-0.0010568582785920513,-0.0009046749976908497,-0.000911471330861273,-0.0009095616830306277,-0.006328946205324018,-0.0003482079609285063,-0.0012875346994071588,-0.0009130125058237346,-0.0009265317494609618,-0.0009238432280362936,-0.0018838981245948442,-0.0012937246837249174,-0.0009105405840294673,-0.0009158349024746416,-0.0017245686596970816,0.15891938535881364,-0.0009311819672571989,-0.0009274676214200883,-0.0012408419597997279,-0.0012924143178216904,-0.0015537793914274368,-0.0010159261421641408,-0.000981474174207276,-0.0009141162580939212,-0.0009673036564012145,-0.0010078287585501742,-0.0012945136825063296,-0.0009371634519921508,-0.0014912592558274677,-0.000931029146729085,-0.004189928748142226,-0.0015097621838635617,-0.0009459481924481714,-0.0009367303779341491,-0.0015575399079422935,-0.0009139644230493828,-0.0012353278223075652,-0.0011180736642264122,-0.0013224904424532378,-0.000989534213096168,-0.002021788632800366,-0.0010410652862573892,-0.0009053939515817337,-0.0009092475560790229,-0.000908145105683329,-0.0009279836591558771,-0.0008481785609207401,-0.0015863944839894218,-0.0009459470466581091,-0.0009304083965131775,-0.0010542149817386664,0.0008401042298943882,-0.011716969016006629,-0.00831293227188576,-0.0009283724856625002,-0.0010151007311976555,-0.0009082089792727925,-0.0009110259827461195,-0.0014303752696143133,-0.0011851579095500868,0.8754280089292518,-0.001628414753995569,-0.0009142460192552378,-0.000927978839038104,-0.0009112873826011579,-0.0011706884010247076,-0.0009107864570307068,-0.0009141361083728556,-0.0009804267780161163,-0.01232615030161941,-0.0009403368213010184,-0.003591331190113515,-0.001787415114636789,-0.0009707463749780438,0.8637298083288575,-0.0009105051663953282,-0.0013308925011099354,-0.0009122487975307801,-0.0009060750710087216,-0.0013598143431909344,-0.0009057924541242836,-0.0014472745697467519,-0.00113253161668261,-0.007060014088694076,0.05213845176427027,-0.0009529094628646809,-0.0010180475849629867,-0.001114893921149396,-0.0009251148073546736,-0.0004548587238960807,-0.0010068612633274087,-0.0010994393440561152,-0.001278727997452382,-0.000981661200296696,-0.0010173021398619513,-0.0009167229327752461,-0.0010216832927384888,0.1778351672371031,-0.0016829275448120831,-0.0017876735812899565,-0.0009077344977005339,-0.0011641345696157487,-0.0009067520948560378,8.023767293025501e-05,-0.0018644368703264246,-0.0027587449682177495,-0.0011444146769542076,-0.0009632989730106616,-0.0017288772078335058,-0.0009681909311123645,-0.0017132039583065742,0.04445858330427475,-0.000919450016503205,-0.0009074316057748801,-0.0013236951761329704,-0.000906013907685308,-0.0009590508157060752,-0.0009920603181427586,-0.0009081969476319746,-0.0009158209555271978,-0.0015069142148248541,-0.0009099482338840863,-0.0011618262559591427,-0.0009280135010421803,-0.000940731894062174,-0.0013068376149319944,-0.0009068443007066658,-0.0009053857220281576,-0.0009582146526478714,-0.0009046722141176245,-0.00799524029095922,-0.0009073388578966141,-0.0009080862333739917,-0.0009054831461801423,-0.001348726790841841,-0.0009123763085423194,-0.0009201055838830706,-0.0009120913011698775,-0.0011209030895272486,-0.0009958866660812855,-0.0009047459451187426,-0.0009047062978287385,-0.0009046288695422413,-0.0009061472556535509,-0.0009865093523113413,-0.0009170847201749514,-0.0009048301791963002,-0.0009046576893294082,-0.0009711248280565621,-0.000935121670447858,-0.0009049574793771032,-0.0009046433889172539,-0.0009590333346580348,-0.0009061661821096087,-0.0009048385251405214,-0.0009669374991633558,-0.0009154169935011999,-0.0010546769994033455,-0.0009061651937056679,-0.0009073838226686438,-0.0009046297549368075,-0.0009046413849013434,-0.0009046298115433081,-0.0009046306662225631,-0.0009046473718117757,-0.0009050897707937034,-0.0009978389685782784,-0.0009092724380133042,-0.001324149188710127,-0.0009058702206101436,-0.0009046287999298757,-0.0009046493309257603,-0.0009047332702486376,-0.0011637365779397291,0.005818559889452458,-0.0009065865523396892,-0.00094836565309921,-0.0009049186481856703,-0.0009607807971717008,-0.00169680574589746,-0.0009227690907012959,-0.0009046556237161373,-0.0009046356542290184,-0.00098690404723605,-0.0009046288712559983,-0.0009162058414370094,-0.00090463157939198,-0.0009061255557958939,-0.0009050936556970017,-0.0009740087484030683,-0.0009411271680627608,-0.000905084127458469,-0.0009088112218317875,-0.000963614979459366,-0.0009046322921174965,-0.0009046660307316606,-0.0009388243726598773,-0.0009192670031527871,-0.0009100223310066794,-0.0009531491464572756,-0.0009061023538165878,-0.0009060485631847372,-0.0011400384327451044,-0.0010491512228818646,-0.0009236773207458374,-0.0009352901802622997,-0.0009046402139307307,-0.0009054694270344498,-0.0009047696776961639,-0.001584764619506391,-0.0026848008311076343,-0.0009072461582167497,-0.0009668308932626748,-0.0009610638959996593,-0.0016952483688612184,-0.00097955518230064,-0.000907562069383306,-0.0009083287852599594,-0.0009065629559690299,-0.0009121385679154581,0.0036030436619660915,-0.0009046397070574288,-0.0009051905825552528,-0.0014384115994059126,-0.000905484146133366,-0.0009377633037690232,-0.0009046401509154861,-0.0009579610692347024,-0.0009330606904597087,0.0020166620291773405,-0.0010218224044181332,-0.000929869398819819,-0.0009082431663036587,-0.0009077048905575428,-0.0009049789627267996,-0.0009049375906106561,-0.0009047419060435761,0.005570460353088055,-0.0009047965360843933,-0.0009174216111884609,-0.0009157694156764967,-0.0009052401022118462,-0.0009123162308235783,-0.000905695832713296,-0.0009127676650584531,-0.000906531175428199,-0.0009046556673453238,-0.0009046452534232347,-0.0009082567129294162,-0.0009053966396148051,-0.0010356533881212624,-0.0009046304115938703,-0.0013447856362336344,-0.0009046313751889445,-0.0009059594575937084,-0.0009046320836569251,-0.0012599935047437334,-0.000904898273925189,-0.0009516082763227594,-0.000904642254085547,-0.000904629517083509,-0.0009131075254194563,-0.0011067211836459396,-0.0010054434434259916,-0.0009046704227307832,-0.0010799826742114984,-0.0023839786201534543,-0.0009138888522999558,-0.0009088443488684613,-0.0009046613731396521,-0.0010579583271178123,-0.0009196169474902992,-0.0013592425958497234,-0.0009156446782900051,-0.0009046554937006821,-0.0009218944015696231,-0.0010811869611878336,-0.0009063539007861669,-0.0009815819858039357,-0.0009047523165957125,-0.001238662078030285,-0.0009067218204971582,-0.0010592315210986123,-0.0011600606915750167,-0.0009047565880233345,-0.0009776220167571914,-0.004529975776130687,-0.0009284907690615526,-0.0009046425734772367,-0.000904947505011748,-0.0010081132219240305,-0.0009258061208414863,-0.0009837133957300039,-0.0009144192509115365,-0.0009052808511723282,-0.0009178630161862996,-0.000904641343656277,-0.0012587675380797713,-0.0009086779155459672,-0.0009051530106723302,-0.0011457401489840778,-0.0009105343040976556,-0.000926999733971951,-0.000924462434980724,-0.0012119090628576823,-0.0023049967626563666,-0.0009411117730473764,-0.0013054800857892224,-0.0009093781639438929,-0.0009062820796942911,-0.0009402262490076284,-0.0009047691423536942,-0.0009496538785063711,-0.0009211446252752069,-0.0010094184573209955,-0.0009047055086561195,-0.0009046572175455528,-0.0009046299548326854,-0.0009046292271784124,-0.0009056955848545056,-0.0009172579342223528,-0.0009155631794605843,-0.0010925079638104112,-0.0009049932481583241,-0.0009089487735939699,-0.0009323090215523119,-0.000908445876913081,-0.0009049190216419092,-0.001287069421773986,-0.0009275665954797801,-0.0009058610587686201,-0.0009046998075440913,-0.0009051910861661283,-0.0009095879411731521,-0.0010423016850915577,-0.0011504903209874412,-0.000906516303252145,-0.0009057672305280971,-0.0011476639768841317,-0.0009053874731262951,-0.0009802633753984665,-0.0009050631078731697,-0.000904668679658629,-0.0009071544898854494,-0.0009330597093191915,-0.000932566328648524,-0.0009116909133766553,-0.00090463670634184,-0.0009379694185269341,-0.0009305495390278715,-0.000974853130068902,-0.0010530877277408542,-0.0009049892531288374,-0.0009292952898041747,-0.0009047526306583302,-0.0009630459017855071,-0.0009060383441820532,-0.0009059692027851287,-0.0009055968272632208,-0.0009058007301801469,-0.0009116732271093797,-0.0009057337457557537,-0.0021623780044825788,-0.0009107641383917613,-0.0009067516304371842,-0.0009050148587017698,-0.0009069751681179465,-0.0009151162067721598,-0.0009221907658119986,-0.0009396032809962535,-0.0009047410453777211,-0.000944157421588656,-0.0009845849424316014,-0.0009049753203097116,-0.0009073310718380489,-0.0009068356024321088,-0.0009048096567867824,-0.001053389324422682,-0.0009057560151815318,-0.0009058806862888002,-0.0009180935182605458,-0.0009241941316845005,-0.0009274609088842494,-0.0009049679815498899,-0.0009048828854180862,-0.0009052643671732338],\"z\":[-0.013002756499919114,-0.0020363290892767534,-0.001984939766841191,-0.002028322010794406,-0.0019825603306592456,-0.0019795875365509696,-0.00210482058321424,-0.002084428105919378,-0.001979544582365234,-0.001979427734539056,-0.0020306808231883478,-0.0020155166113939244,-0.0019932607968988552,-0.0020282729343144524,-0.0021192159286436683,-0.0021067320139229787,-0.001981416328462059,-0.001989804352528811,-0.001980575460749261,-0.0019825781612981485,-0.001998607894442876,-0.0023242218496598937,-0.0021384145638165624,-0.001989761980760178,-0.0019810203207032365,-0.002015650366624259,-0.0023284665957819823,-0.0019832537277471155,-0.0019794687768905444,-0.0020030998515930027,-0.002064848317446141,-0.0019797553286653503,-0.002049077533881239,-0.002096091779535163,-0.0021453344537609538,-0.0021019447838802143,-0.0020297796028911066,-0.001979443590575986,-0.001979528818932748,-0.0019929640428669798,-0.0019887193855803675,-0.002562672715359874,-0.0020090575972566546,-0.0019935113582415526,-0.002050236695522357,-0.0019819514201291056,-0.001979453327712539,-0.0020449447332957834,-0.002641837657276249,-0.002116507327060019,-0.001990470375930105,-0.0019922132899597013,-0.0020186575783582906,-0.0019794197227084548,-0.0019794570382119336,-0.001993684959315148,-0.0021634217181159825,-0.0019849158545938578,-0.002396762643244237,-0.0019896770267432396,-0.002035626578112986,-0.001983636538389187,-0.00228189602755783,-0.0019940156610894185,-0.001983315890980851,-0.0019525175104856227,-0.002333544517627974,-0.0022910792209250423,-0.001985845093915757,-0.001984316807323905,-0.0020919974525194897,-0.0020326704497395857,-0.0020943340503030367,-0.002000101516791353,-0.0019806115135786646,-0.0019877404948222413,-0.002013478957047855,-0.001979503308714634,-0.0020509464610898843,-0.015040103781423415,-0.002022985706273587,-0.002101537588970356,-0.002516991986947432,-0.002122109376244262,-0.002030067077228264,-0.0019907007224872933,-0.0019798870206477917,-0.0019794348464426998,-0.0023009570240725913,-0.0020645150848224076,-0.002006923227555164,-0.002031595618678153,-0.001980353037978475,-0.0020437549931332246,-0.0021010963174937247,-0.001980730280961956,-0.0019798680575808304,-0.00200567523929925,-0.001982774610019152,-0.0020127398732956705,-0.002004390706377315,-0.001981916244738542,-0.0020615746259621905,-0.0019796771226553867,-0.0019812187789766127,-0.0019817387784375013,-0.001983304215630147,-0.002027611238696994,-0.00198075701275772,-0.001985820721035975,-0.0020073881460461714,-0.0021209376403329865,-0.0020326832631759593,-0.0019794342978794125,-0.001991180687004498,-0.0019841790616383155,-0.001990466496818889,-0.002176146573067528,-0.0019905675413506895,-0.001994651182024664,-0.0019794713106283395,-0.001979768572162407,-0.00198031384310125,-0.001979696398850673,-0.0026668432543968112,-0.0019794228512847317,-0.002136439470458677,-0.0019795686257821307,-0.0020251232629628474,-0.0019794974989911784,-0.00407752779113076,-0.0019883337190318563,-0.0029808339919719,-0.0019795662267332835,-0.0019795395617549613,-0.00223212509649126,0.004994396191174612,-0.0019829844747183464,-0.002005119151344839,-0.002115638427714651,-0.002050744519810944,-0.0020332806296842203,-0.002029183694373374,-0.0023334309682837896,-0.002105917599097105,-0.0020527654812843603,-0.0032486648648417603,-0.001983586736221822,-0.0019836541877221777,-0.001987114359073599,-0.0020099196103159746,-0.002050065587127356,-0.001980178445909759,-0.001994566805731328,-0.0019915334595094368,-0.0020199150202349467,-0.0024191585582803874,-0.001991356932197447,-0.0019794834633560126,-0.0020938956527027023,-0.0023073595921573767,-0.0019795282173672725,-0.002042012005015197,-0.0025255067965340764,-0.0011718536286941445,-0.003273607251147426,-0.002838255496874857,-0.0021014030110746234,-0.0020055891680673273,-0.0021058952102776625,-0.001979494859787799,-0.002001409021666628,-0.0019832016270137807,-0.0021161696142030814,-0.0024493339677871956,-0.002158039986525376,-0.002031856808758156,-0.001983914009079156,-0.002904458489215178,-0.0019886207005907746,-0.002008120546246539,-0.002069978230300748,-0.0020050445866697515,-0.001987064802773925,-0.0020040518838829705,-0.002037457865490561,-0.0027842236519221297,-0.001989110274276214,-0.0021756139513954913,-0.002072315016222949,-0.0019911620738150646,-0.0019794331647466756,-0.0019802451537179007,-0.0020154881009308823,-0.001981646364664322,-0.0024821433150496205,-0.0022677655966025665,0.0011569502006150395,-0.002117738586120756,-0.001983731389981755,-0.002001254183682052,-0.002103845088496347,-0.004252564489437637,-0.001979590656528008,-0.0021230747688597298,-0.001980038129428443,-0.001980682657302857,-0.0019882735858801986,-0.0019850664143834617,-0.001983653329447876,-0.0022996540095208354,-0.001981747421120285,-0.002403233840866458,-0.002165538204232632,-0.002968996328925901,-0.001982517417544328,-0.0019833203243113016,-0.002014762953030477,-0.002015861264774988,-0.002028855988475253,-0.0020033392973453977,-0.0020293694825164158,-0.0019943198888465736,-0.0020364784353265088,-0.0019798130420150798,-0.0021725904966961094,-0.0020009122938134797,-0.002011663406565032,-0.0021681836511224916,-0.015030175743798837,-0.0026899855138864726,-0.001983067957859376,-0.002072930295196441,-0.001996406629048982,0.000796612833840621,-0.0020318027115059038,-0.0020120784217055403,-0.0020065387590467243,-0.0021193481617608648,-0.001987722648736959,-0.001981003329103223,-0.002049074444393882,-0.0019830466306714803,-0.002035989584900629,-0.0019826289768486885,-0.002349598654835877,-0.0020881400685016593,-0.0019797898141039787,-0.0019814984137007502,-0.0019838475655127395,-0.0021245098056689913,-0.001984075322259238,-0.0028700666300660762,-0.0019797899128642504,-0.0019795868064488324,-0.0020098309230876074,-0.0021125041428871057,-0.0021168856432094586,-0.0021587239961027905,-0.0023457268242809636,-0.002213007249618275,-0.002332017002311936,0.2457813209053644,-0.001994657444151912,-0.0019819215227183246,-0.0019807451010099954,-0.002388786971546528,-0.001983627184776413,-0.0022587046948843096,-0.001994784641049872,-0.0022083846579850092,-0.0019926362077225795,0.022997685642248415,-0.0020795919460369666,-0.0019878784126547435,-0.0020040937613097125,-0.0031079927353840024,-0.00198476485482179,-0.0020134319554453934,-0.0021041605566042825,-0.0021824131528589085,-0.002079592385496563,-0.0008431427919405961,-0.0019891507057254324,-0.001979551576204719,-0.0020069314818596373,-0.002008578628310466,-0.002154659505096574,-0.0020838153458911206,-0.0019838316380133623,0.0045019919869655,-0.002039212555637474,-0.001998602928267529,-0.0019810263406088565,-0.0019851783957709856,-0.001979575605376413,-0.001980646868986987,-0.002209437925491006,-0.002030878862276646,-0.002018633078167621,-0.0021702183999143345,-0.002247494877103597,-0.001987008429001285,-0.00197946930431168,-0.0024915436339611207,-0.008953490256472735,-0.0021042787981279646,-0.0019824464487472504,-0.0021586853131141215,-0.0020405567605074697,-0.0023782403097353712,-0.006205929149854824,-0.0019854478034670472,-0.0021794231046277646,-0.0019166744049957131,-0.0023431026862893107,-0.0020709298202524623,-0.001983770483220716,-0.0020182465295076157,-0.00216437675493927,-0.0025656466002017386,0.0012251980779397083,0.008011998709203518,0.0008391809938198383,-0.0019807651140921027,-0.0021424268278771004,-0.0029070273497546536,-0.0019795459099099582,-0.003058221466873996,-0.002098439047371499,-0.0020877187203106272,-0.0021344613368029,-0.0020050680400131447,-0.00245846186634256,-0.0029047393709860487,-0.002957712434424797,-0.0020538829097582157,-0.002097057920890609,-0.001991286604903507,-0.002245571484520546,-0.0020203810096780014,-0.002014534357552522,-0.0022702170768085983,-0.002100453616956388,0.33103084595179716,-0.0020839431821360927,-0.0020637844558220844,-0.0023581070076112874,-0.00199736279819053,-0.002521882060479532,-0.001982059236872791,0.03880691760676423,-0.0019822967949423257,-0.002213626685285654,-0.0019816065256393744,-0.0020760416708534087,-0.002108217663840928,-0.0019844342614522294,-0.00198259784708763,-0.002010753144582286,0.04945987930484042,-0.0022022921119829093,-0.0019846527324058638,-0.0019796891018342842,-0.0019798715659604072,-0.0020210148029579287,-0.00199181101826982,-0.0022578771887450753,-0.0023176725112375174,-0.002055070628936707,-0.001982541189487959,-0.002368306412332794,-0.0021817754909467728,-0.001980994175523466,-0.001991667238742038,-0.001987307344355222,-0.002473144275998158,-0.0026390088860372388,-0.0019794288622076496,-0.0019800909328980833,-0.0024103129967621953,-0.0019942771994334928,-0.0027840192291228717,-0.0019875757293106077,-0.002013479726647879,-0.0020639268856968607,-0.0025228328365109113,-0.0018216542937141537,-0.0020083875845976307,-0.001979841349584147,-0.0021089362877458467,-0.001986603594597557,-0.00153076545464057,-0.002350767261268466,-0.001986097793537955,-0.0020220455300261576,-0.00727483930405815,-0.002020271332121663,-0.002021085259833168,-0.001980861308961653,-0.0020156919690686365,-0.002008897780265938,-0.0019796473436606912,-0.00469213052973052,-0.0019899966820935964,-0.002175704879409427,-0.003632289223435721,-0.0024552535849459173,-0.0019978557999620335,-0.001979423989441143,-0.002005234435536011,-0.0020174248876889574,-0.002051630650256873,-0.003436748444921728,-0.0019794231495589595,-0.0021967174153338293,-0.002024094972861567,-0.0022097041053891994,-0.0019841996391947903,-0.002000994686552081,-0.001979704077253031,-0.001979420317337988,-0.0022842685223247745,-0.0021380671782438476,-0.0019825616187937587,-0.0024077325588320146,-0.001980793125354757,-0.00198101384008116,-0.002006857994991222,-0.002117214701537846,-0.001979545440003343,-0.002024480539691751,-0.001979762327897232,-0.002028204719059446,-0.008835299529969398,-0.0026810853246813943,-0.0019842879591985088,-0.0020820290733879246,-0.0048080875202783455,-0.0019796587248001856,-0.0020024967022324505,-0.019236680151769558,-0.002784937099611875,-0.002096301131025785,-0.00197942956247584,-0.0019987730445758314,-0.0019928814132849897,-0.0021122024097414973,-0.001996601330882787,-0.0019968303629867208,-0.0021177294361609082,-0.0026459229078167504,-0.0019854640724511962,-0.0022953752772500707,-0.00199314590970311,-0.0023291721760521273,-0.0023717012318837903,-0.0019794225936765808,-0.0025188361312564705,-0.002054377013405146,-0.0021156985582955284,-0.001983135181587884,-0.0019797797265039873,-0.002208113644615907,-0.014921836884268739,-0.0020074894042882417,-0.0020140523481440575,-0.0020634841213825034,-0.0021100724966506487,-0.001998491938238113,-0.002279479010134203,-0.0019795084096525376,-0.002023801060217333,-0.001985277679944357,-0.002024480184495751,-0.001997870866998211,-0.002017258863366506,-0.0019876558151506693,-0.0020052446399625185,-0.0021619421976165603,-0.001980009625878885,-0.001983735215752415,-0.0019794368306325283,-0.002051430281222292,-0.00201094439261493,-0.002011864554557911,-0.0020202203212856935,-0.0020248525442923514,-0.001989924267519722,-0.0019794364115647348,-0.002530838891956818,-0.002276551985465126,-0.0019794204778978636,-0.002567902182769293,-0.0026406869152063948,-0.0021026969515158048,-0.001979775929710885,-0.0019840373954614176,-0.0031506697064971893,-0.0020963446881481105,-0.001979768153519846,-0.0022136542176671332,-0.001979422878616991,-0.001999979008554822,-0.002033027148685569,-0.002013462935006849,-0.001979778988437233,-0.0019875703565271413,-0.0019814034989319965,-0.0019853626372849107,-0.002109736715400799,-0.0019952663673455415,-0.00519419714399753,-0.0019978387740387208,-0.0020602994594026633,-0.0019805143941159045,-0.003206889111739321,-0.002946659131184701,-0.0019922761119111434,-0.0019808904365588294,-0.002094282115420952,-0.001979586788943033,-0.0033669302546792505,-0.0019856997386828406,-0.0019795303693344152,-0.0019797464974529995,-0.0024096700534851426,-0.002095826517588989,-0.001990576207596796,-0.001986797402676971,-0.001980339180173727,-0.002011401438062849,0.0033256820141489146,-0.0021655460044331925,-0.001986261991382657,-0.001979847721885724,-0.002093230499998514,-0.002025546079885927,-0.002005195159412428,-0.001982160805616304,-0.002001628770930724,-0.0020280633670976583,0.02707451042523558,-0.0021382102252926654,-0.002035266920013474,-0.001980218549810936,-0.0027306623354583586,-0.001979427120096917,-0.0019870925763300117,-0.0020348474817396003,-0.0021136590321860884,-0.0020187639886022307,-0.003921728526071546,-0.0019950391361913734,-0.002001444674035626,-0.0020289334085829406,-0.0030222895194744696,-0.001998363941242997,-0.0021299484919681277,-0.0020575706703624013,-0.0021070757232470386,-0.0020069035880963576,-0.002053015692834725,-0.0020147264154182117,-0.0021044241393639407,-0.00284949775491436,-0.002062100546348767,-0.0025115280683602184,-0.002019065234886048,-0.0019794238169499948,-0.0019948747002938015,-0.0021706931180391236,-0.0021281966776660506,-0.0026192209837585614,-0.001981015079735353,-0.002034643579866066,-0.0019794253046397543,-0.0023647998789023913,-0.001979596105574181,-0.0020222320339818045,-0.0020763545901695472,-0.0021721552072815945,-0.002557704857458602,-0.0019680293325054898,-0.0019811927331563985,-0.0019979461874368096,-0.00199876332072263,-0.0020388825397708674,-0.0019809163503491595,-0.001992431859387507,-0.001981060287801274,-0.0020125178422232227,-0.0019799625602253063,-0.002053097779649832,-0.002050870838768086,-0.0020255923277477062,-0.002027390239300384,-0.00205302783465999,-0.0021768833299710103,-0.002041532802658463,-0.0019842154948765127,-0.001987387524134779,-0.002449016343654974,-0.002013775511759144,-0.0020003002548831085,-0.001979612285653355,-0.001981133121006753,-0.001984477957140299,-0.002008664719915292,-0.002939512932142189,-0.002001907544905513,-0.0032567622696364137,-0.002930901441116463,-0.0020566890012354544,-0.002027543462522245,-0.0019893877166960814,-0.002044049916283373,-0.0019912294097464683,-0.002012535275962486,-0.0020204788840037765,-0.0023832683856691594,-0.0020572548631235133,-0.0020005015727050093,-0.0019943347867651365,-0.002323894450609748,-0.0020202970828661223,-0.002009806819071305,-0.00205778999710868,-0.0020295487079935526,-0.0019956050383845483,-0.0019794857121312875,-0.0021752200443541096,-0.002529544283655823,-0.00197952426528854,-0.002202509736926448,-0.0020226713603789647,-0.0020193467383364614,-0.0020051955002719796,-0.001979536564439106,-0.0019928435279883486,-0.0020839972072838314,-0.0020025178818172404,-0.006586882224514725,-0.00226363816315604,-0.001993148871816384,-0.002003316921996601,-0.002287383999989742,-0.001986153292850854,-0.0021756370763642233,-0.002009545160456352,-0.0020004087681197214,-0.0019796863357936347,-0.0013532944773018093,-0.0020495196866990493,-0.002092338049513864,-0.002076277524822224,-0.0022794036870873073,-0.0020189676924078437,-0.002025222167518702,-0.0019904758820412597,-0.0019905338717363472,-0.0020043419559030475,-0.001580880943843393,-0.0021434521066246858,-0.0019794208373818786,-0.002101341443174641,-0.0021073938914416565,-0.0019862813422801963,-0.0019841573650438565,-0.0020004762163403286,-0.001979420472598206,-0.0020136288395157095,0.008949381024927852,-0.0019796631488119857,-0.0020213554533369455,-0.0019813930003500417,-0.002602193675489102,-0.0019920477579212746,-0.0019794199706640154,-0.0020608599684792447,-0.0015018187008780162,-0.00198105788169175,-0.011255125841502964,-0.0020422887501154404,-0.00202023868629724,-0.0025650949673887333,-0.0020226688229841847,-0.001979879509985729,-0.002078471455430299,-0.0019805004372324365,-0.0019803853406305666,-0.0019794482872003845,-0.0020449890188945236,-0.002088940317950978,-0.0037229597585719406,-0.0023508596786052287,-0.001987448126190265,-0.001981195611941185,-0.002721722794251736,-0.0019836340427027764,-0.001980172945218034,-0.001979433373480922,-0.0021170602053544045,-0.0019818641314382577,-0.0020459283071341686,-0.00229775791631545,-0.0021180929633006595,-0.002102931159916273,-0.00231679362119267,-0.002060703186109161,-0.0019795681929509284,0.3637719460296373,-0.0001294776797975289,0.003276485583049113,-0.0020470440839539684,-0.0020246229839372036,-0.002039479664078462,-0.001990553749489014,-0.002160400796384867,-0.0019879512351658624,-0.00199936473214156,-0.001986207127542648,-0.0019796040954107226,-0.001986044249956623,-0.0022149541648536233,-0.003248362821106827,-0.0020393895595877797,-0.0023500261387731074,0.003232080743757145,-0.0021953829917510954,-0.0019944667463022386,-0.001983733835113672,-0.001991086281382447,-0.002066380872264193,-0.0020030377008358234,-0.0020641647340171473,-0.0019799849698185785,-0.0020333453461921277,-0.001987518262299594,-0.001985356133388203,-0.002110049897502762,0.6310155441883175,-0.0019800393945504213,-0.0020500311206195047,-0.0020334175904121996,-0.002041154936641794,-0.001989928928638227,-0.002365929271759407,-0.002013540699463915,-0.0020002251572689184,-0.0019980360977560696,-0.0019830158587314695,-0.002002638233735689,-0.001989923140072872,-0.002580644994444126,-0.002052043321615237,-0.0020080331005014,-0.0020743927775687776,-0.0019885799689585825,-0.002193761472515474,-0.0020059380255812963,-0.002150052583188476,-0.002224797978980387,-0.0020269578265065293,-0.002240391251971314,-0.002516568886933091,-0.0019932124437624676,-0.0019835753977476846,-0.002003915677188469,-0.001979429941567692,-0.0020831903126047684,-0.0020630454966815838,-0.002556176891780042,-0.0019825456155098905,-0.001979873522689254,-0.0020036697388935354,-0.002251834530667462,-0.003871137070229109,-0.003876996526164712,-0.0019794315008594137,-0.0019833423606839553,-0.003163643392743831,-0.00197980014977449,-0.0021118048827262472,-0.0019794313983388383,-0.002124164243596633,-0.003693069169526513,-0.001979801202579255,-0.0021424479487724525,-0.0020346700064607167,-0.001996636409535575,-0.0020786259340010555,-0.001979451110538434,-0.002006563652748858,-0.0019794467200115124,-0.0019852850548186056,-0.0019964240525381705,-0.002289983754386318,-0.003586928201525468,-0.002010961236918441,-0.0019959892078948156,-0.0027585399733683334,-0.002056860046019732,-0.00198284709960415,-0.0019796981708833147,-0.001981043267541693,-0.009968924029479983,-0.0020566351328515863,-0.0019805912562288314,-0.0020980322754836477,-0.0020436539494358514,-0.002090902330066956,-0.009461480294230312,-0.0019797533957218753,-0.001990981530756822,-0.0020731179746736944,-0.002138109603127528,-0.0020005185730226772,-0.0020905912391021636,-0.001982917057259601,-0.0025647184811570024,-0.0020039716971478887,-0.002203974290405994,-0.0020271287794483,-0.001980577361445951,-0.0019833848152614442,-0.002249096319560042,-0.0020227398981799436,-0.0019921100910093447,-0.0021477675147865438,-0.003227955980385231,-0.0022982317450659507,-0.0027666540974664324,-0.002238437965219028,-0.002307497948575469,-0.0019804696144466636,-0.001980237865799222,-0.002021232567532516,-0.0019813791203369953,-0.0019795615581705483,-0.002636951158752311,-0.002133700627967523,-0.0020273216301280217,-0.0019796682580435223,-0.0020405203000116003,-0.0020178142579824095,-0.0019923868017058463,-0.0019821214355855753,-0.002092371120796664,-0.002010023163439689,-0.0020305633712686794,-0.004552615597088239,-0.0019794218428747213,-0.007941084979710009,-0.0020391989053953922,-0.011994470198229957,-0.0019806284747674887,-0.0019980811997619584,-0.0013953072109689029,-0.002269708066158144,-0.001982032960073652,-0.0020819047310010616,-0.0020000967115146595,-0.0020020581792303547,-0.0020149578214759952,-0.002043621895197172,-0.002035013145882819,-0.002006263302691605,-0.0020030269591719096,-0.0024837862780491228,-0.001996630889461134,-0.002081035950681081,-0.0019818914518785155,-0.001983444975110275,-0.0019803663775826734,-0.002822554838787652,-0.0019797754847714825,-0.00720176072062483,-0.002102622764840281,-0.0020093416294166087,-0.0020882181676461714,-0.0020993000283282127,0.006595174744606459,-0.0019871370235903397,-0.0019825248998599485,-0.002932989170169998,-0.002073792262142307,-0.0019950254492720884,-0.0020876342393436657,-0.008653549211070576,-0.002039527115420757,-0.001979421622770815,-0.0020688533634060677,-0.002054657136218209,-0.001979690322052652,-0.0020074928028000335,-0.0026881603364429275,-0.0019843049215586147,-0.002038737571759252,-0.0019794294469894806,-0.0019856848812201846,-0.002003746612071868,-0.0019844707248683293,-0.0019808105784937836,-0.0020025512798172614,-0.001979423247174529,-0.002518251583249703,-0.002108609650251271,-0.0020189970315676637,-0.002087516864768929,-0.0019939119208645744,0.006445888456512608,-0.00211205282498868,-0.0019798987627988353,-0.0025530265741649264,-0.0046894795860058045,-0.002392260172187163,-0.001984617041908993,-0.0019912051533766697,-0.002107517470841653,-0.001981881479919446,-0.0013336309472849976,-0.001982413828285347,-0.002070745894796889,-0.00229038903416675,-0.01646601257703967,-0.0024966111864702153,-0.0023287289172524493,-0.001991011297117333,-0.002000898130963982,-0.001998964755758135,0.061935090148431515,-0.00216284599525004,-0.001981864106590954,-0.002062126053796639,-0.004768834158753774,-0.0020289217385231362,-0.002021429357071021,-0.0022039774966555016,0.5711318023953307,-0.0020101945481025363,-0.01708903142655578,-0.0020007930320265327,-0.0023024000730543803,-0.002078639649693639,-0.001982118416334861,-0.001992883294401725,-0.0019829185340711386,-0.0020987645011380862,-0.0020193577125609537,-0.001980260171146713,-0.0019795526558239107,-0.0021433078370506264,-0.0021162628402155996,-0.0020705430715481045,-0.0020624952456218476,-0.0020428718084510686,-0.02221586548860121,-0.0030091242942128973,-0.002071462935004343,0.00019244614411981367,-0.0021249044999797602,-0.0019917124432423192,-0.0020139913329898914,-0.001979934115792309,-0.00198118408743243,-0.0020345728887354317,0.18390952562680873,0.028039945205244148,0.026107055847899126,-0.001998330560351423,-0.00204805995380145,-0.0020209474646204263,-0.002167103525960242,-0.009124185287153981,-0.0025809917734064412,-0.0020147575073487943,-0.0020399960811278905,-0.001999189069932697,-0.0020428342409255992,-0.0020987083466063898,-0.0026408047555792694,-0.0023686076643144897,-0.002319183042204009,0.23316666330573455,-0.0019794226576110023,-0.00222672567998141,-0.002685084062935315,-0.0019857107548727788,-0.0008534547270775912,-0.002020685169351512,-0.002630760915010104,-0.0019794462282377253,-0.002037665397335373,-0.002472500658926589,-0.002018501719360101,-0.001819828579850384,-0.0020369921391739897,-0.0020335647517018183,-0.0019903632623866803,-0.0024529669838801904,-0.001988795425212242,-0.01406316744150113,-0.0020363727497119217,-0.001981207445109382,0.6144833119514808,-0.001986458430636328,0.0033539963090230265,-0.002448257791215248,-0.0022493918756300688,-0.0020150066615809534,-0.002023249368372555,-0.002029145228454286,-0.002170331265467318,-0.0020391400967475996,-0.001979629859534089,-0.0020161115706255513,-0.0023022099236146153,-0.0020097227010204195,-0.002111173774076126,-0.001981813085031234,-0.0019815120219469173,-0.002299251596612272,-0.002336762847905651,-0.001979419758528075,-0.0019907776535573437,-0.0021720327576813287,-0.002127616235154934,-0.002257100511901607,-0.00745330673964095,-0.001985053917000546,-0.0020816341032987504,-0.002009725167820694,-0.0022218020785444398,-0.0023584063533537854,0.06757542263558046,-0.002060182806995994,-0.0019794200195759203,-0.0019794213438751452,-0.0053582607206026,-0.0020114915334129737,-0.001993299271483863,-0.0020044669338300145,-0.002387407658148744,-0.0019795370310156167,-0.0018147346352475097,-0.002238290777918106,-0.0019813342592239834,-0.0019797724672479954,-0.0020137442756446204,-0.0037386022928209742,-0.0020723145148676095,-0.0019841616070379424,-0.002201764277353942,-0.0019878470857298677,0.09213352782448142,-0.002019088593248691,-0.0019810050766829916,-0.001979522311045034,-0.003253217070980585,-0.0019798340550647485,-0.002049993353128197,-0.00197986212520409,-0.0020855429902588087,-0.002035421608787312,-0.002280841205834189,-0.0019809605872005576,-0.0019794407238611536,-0.0019798360162680564,-0.001984173625596338,-0.002003462520991751,-0.0020026678759032814,-0.001979545471519244,-0.0019813122030024263,-0.0020257116149191333,-0.002094630276847682,-0.003981765199656975,-0.00198080776799622,-0.001980778374817037,-0.0020242830701710773,-0.0019908270322399253,-0.001984323991554522,-0.002870656502806264,-0.001981900573910278,-0.002123866803479771,-0.0019795006174103025,-0.0020232276365589274,-0.0020631098267328007,-0.0019797337164042363,-0.001987355399696821,-0.0020768458615552043,-0.0021702601496338975,-0.0022313432435716834,-0.0022211003460692194,-0.0008629462225554316,-0.0019794456750968576,-0.001979794168330579,-0.0032651977813818985,-0.0019798938105384935,-0.007023964962791142,-0.0019794205235600638,-0.0020605950975302193,-0.002140732182044936,-0.0019899320905573457,-0.002376022303633096,-0.0024369089155469115,-0.0022216572349663104,-0.0028719477398946973,-0.001980625627660306,-0.002071907018944642,-0.002056103828827745,-0.002204519298774176,-0.002896519630943436,-0.0019797514514743927,-0.0025038019216015177,-0.00221406034943419,-0.0019922349319261884,-0.001981549615207166,-0.001979421588339099,-0.0019806460507483547,-0.0021830346993535464,-0.0020169169882535308,0.002058657258971959,-0.0019813931176109892,-0.002054761440517973,-0.0020081558579177674,-0.0020529395064347203,-0.002359202996947463,-0.0029702803140457925,-0.002059233519344171,-0.0019807932657861667,-0.0020461025844569713,-0.001979479237802456,0.007336182940740553,-0.0044222390376181435,-0.0019848533221153582,-0.0019796095666607463,-0.0020312336481480243,-0.0022900231606687283,-0.00198072751393943,-0.0023199952733035023,-0.001979612746491395,-0.0019918392067331384,-0.0020424071342013384,-0.002297975715673862,-0.0019864258208515478,-0.0019794218312594275,-0.0019797228751109244,-0.0024131807207368717,-0.001979419618495117,-0.0019794218814752173,-0.0020169115799311267,-0.0019794196587554044,-0.006302054244720616,-0.0019795250023364923,-0.0019794219236842587,-0.001991268716589497,-0.003952279203718997,-0.002597664551836544,-0.0035510002147548392,-0.001999534598939302,-0.002500584236894247,-0.0019926586700924785,0.02230373972013707,-0.002245353979586552,-0.001979628508968065,-0.001981605366698681,-0.003125706972227842,-0.0027054781498728002,-0.002217786207977172,-0.0019820497182323257,-0.0023246213109348293,-0.0020135327579742924,-0.0020038408270094932,-0.0021013434221101323,-0.001985396480984601,-0.001985652724694127,-0.0020311336073411458,-0.001982777963688984,-0.0019817069310826465,-0.0019975946368244483,-0.001990222696258595,-0.002365538023603492,-0.0016442354070331936,-0.002074332139669665,-0.001986428568326401,-0.0019824270466056713,-0.0020825636883574014,-0.0020420575764183192,-0.0019959581178181133,-0.002060691920041403,0.0037550057161009555,-0.003091964099123301,-0.0020553268549533665,-0.00200133798003578,-0.001979426715725233,-0.002038098304073415,-0.0019794203751108603,-0.0020803048813284224,-0.0020411417548384997,-0.0019948351084775233,-0.002280012978141511,-0.0020003567790739733,-0.0019989377092716073,-0.0020021267822453717,-0.0020771925346596684,-0.0020678891835885383,-0.0019821436727066578,-0.0020667767434016803,-0.002108243421116838,-0.0019794229233462647,-0.0022370120720276547,-0.0020985987768104082,-0.002916955751553086,-0.0020509615598612585,-0.0020774021961961985,-0.0019946944114287006,-0.0021352004314519894,-0.0019861775063374715,-0.0019848443352055677,-0.002018518851144754,-0.001980475982070333,-0.0024513483136193804,-0.0025613691835245775,-0.002761463033112917,-0.0022734931671275715,-0.001981393273287643,-0.0031040303974155517,-0.00200488824156077,-0.0020002518845726423,-0.0020032509175264292,-0.0019902443369835257,-0.0020321059620685865,-0.0019888729960690775,-0.00198208332389927,-0.0023033173958985076,-0.0023382584154213984,-0.00478343790248873,-0.0020788165230102187,-0.001780721909701578,-0.0026211788078855246,-0.002051880817054366,-0.0019808835094720497,-0.0019923677131103977,-0.0022958258786645908,-0.0027175898910533317,-0.0020015952209899686,-0.0043760802282937486,-0.0019800989734684517,-0.0020207539834123348,-0.0044201666505607595,-0.001989357401379235,-0.0027464376591469055,-0.001989621803090586,-0.002226371213235327,-0.002259210273988091,-0.0019795951717242956,-0.0022038508894731694,-0.001983791926601852,-0.002165412553343521,-0.0026226975172816075,-0.002388330267346499,-0.0019944087738665204,-0.0025709085999633245,-0.001979422894751335,-0.001987342917643579,-0.0026124169577484177,-0.002027075087654332,-0.0020969454482712073,-0.0021662512394305194,-0.0020297493196377208,-0.0019802105905753894,-0.002033254416785621,-0.0020296140478036967,-0.0019816473671170677,-0.001979461845282661,-0.002036882473030184,-0.0020183477118725043,-0.0019865919392475684,-0.0019801673247572303,-0.0019796246551709563,-0.0019815638729134156,-0.002055950420523093,-0.0020206831839436907,-0.0019807522996532897,-0.0019796141145350383,-0.0019867910479278864,-0.0020035679178209147,-0.001979388203053156,-0.0019794746804205794,-0.00204675648028219,-0.0020768376006791408,-0.0020834608401682337,-0.001993832913068637,-0.001985026957630625,-0.0020475768685585148,-0.001979584376209198,-0.0019964671566921315,-0.002002168141880655,-0.0019796617136147734,-0.002026755675179114,-0.0019958071000412973,-0.0019829531707145783,-0.001997811291848667,-0.0020733689488680223,-0.0020611585674760614,-0.001987610200305027,-0.0024890696269228817,-0.0019858346734309435,-0.001980810758869471,-0.0019929543323602248,-0.00200221624613325,-0.001986211975096137,-0.0020388422110719016,-0.0019992120196586378,-0.0020083740023669997,-0.001981251693586827,-0.0022485735256865063,-0.0020225584526034133,-0.0019952243168951268,-0.0019841627824147877,-0.002120588897362791,-0.002036168813010234,-0.002027852247459898,-0.001991398547209773,-0.0019816461167879162,-0.001981082246335063,-0.002007125454802973,-0.002031409776486717,-0.005731676058085214,-0.0020443532026220043,-0.0019796811566962194,-0.0021048207255584253,-0.0020036739594124606,-0.0011331995619796394,-0.003172523958391542,-0.003733140446038357,-0.0023380360391244857,-0.0019813294435276707,-0.0020415569582907067,-0.002000324497919128,-0.001986715343186851,-0.00235393460106694,-0.002006087333651708,-0.0020181308434165162,-0.002911238606822378,-0.002000808238408479,-0.002097460979796137,-0.0019795759342399544,-0.0020357314468209603,-0.002021094336603473,-0.002115970218000411,-0.002290600009674354,-0.002103965247918011,-0.0027040400861543155,-0.0023187598242156173,-0.0022031150890869885,-0.0027752219653347336,-0.001998297970282643,-0.002670217459020316,-0.0020048004522225907,-0.001979660351230466,-0.0020614462244195144,-0.0019868953720838505,-0.0019855109314385264,-0.011812815721091892,-0.0020072500325024716,-0.0021170835811636225,-0.0021424781371315424,-0.001984555239902098,-0.0022206898667852656,-0.00203955265445956,-0.0019785197455006957,-0.001999095121827783,-0.0019986352098132934,-0.0020630099025674272,-0.0019958417354019853,0.00312871470347532,-0.0019800393416001543,-0.0019823426500592866,-0.00234097595734815,-0.0020852004901963186,-0.0019844987362827244,-0.0019908814887841944,-0.002064611394295747,-0.002015584259411601,-0.002953518627709629,-0.002553809275926006,-0.0022446498991933743,-0.001979422659861159,-0.002218463319921725,-0.001979450181856903,-0.0019873481881448407,-0.0019805074074566178,-0.0034360860557435882,-0.001996977913993661,-0.0019889064183145682,-0.0026611188980556004,-0.002663848908037146,-0.0020450368711721198,-0.00197954623838051,-0.0019835949172035683,-0.002029240780148222,-0.0020404681304450997,-0.0019801731630756975,-0.001984364789806239,-0.0019800810943260577,-0.002020665033213182,-0.001982571483226278,-0.0019891165885440034,-0.002049032702591743,-0.0023264487495219333,-0.0019795244775165613,-0.0019950555567889387,-0.0019906098182575415,-0.01743912778555946,-0.0019658741326461335,-0.0028583831985978646,-0.001998537244988456,-0.0020298171677397042,-0.0020231126860589662,0.0023728093524001976,-0.0028800914639568144,-0.001992864417147815,-0.002004910679767047,-0.004211997658712922,0.00962420320662152,-0.0020398883201837386,-0.002031269259022862,-0.002753365449687677,-0.0028686162140607162,-0.0007016326210323286,-0.0022363501205275977,-0.0021542120018257496,-0.00200100407363913,-0.002147293324854736,-0.00226404850970692,-0.0028769206802051715,-0.002053456081259353,-0.003345376333829014,-0.002039361549117226,0.04045781484350495,-0.003377341391498385,-0.0020734135618821936,-0.0020523774420876774,-0.003719740920504889,-0.002000625863807497,-0.0027386962102430544,-0.0024699138409476754,0.0008313770790885172,-0.0021743240166695026,-0.005030624733743211,-0.002290034756429718,-0.0019811553405072683,-0.001989901223640012,-0.001987396011527468,-0.002033094124876903,-0.001992117914316277,-0.003568446425382032,-0.002073930892874982,-0.0020379298858705193,-0.0023215706980282045,-0.002138917902776803,-0.032558323340754425,-0.023045908952797806,-0.0020335027472080996,-0.0022337962284542357,-0.0019875645707899867,-0.0019939720359286933,-0.003196827920248077,-0.0026409990373199937,0.0638763633039688,-0.0036564746399894775,-0.0019679064847170856,-0.0020324275274760813,-0.0019945410565572847,-0.0025878484277779613,-0.001993398676162813,-0.002001010198031579,-0.0021538519107831607,0.14908528487204437,-0.0016883348531566715,0.030933587128468113,-0.0040422210316755,-0.0021297427654360965,0.06313209308861133,-0.0019928218637623716,-0.0031493986704361834,-0.0019967245469410403,-0.001982701085343647,-0.0030327049440671532,-0.001982059356732338,-0.0032350036551143987,-0.002530904057841493,-0.01943374017714193,0.0020288037909592833,-0.002091630125110563,-0.0018701238881044927,-0.0024585056830513834,-0.0020259777121933546,-0.0019761999221760873,-0.002213726997784766,-0.0024288085982832803,-0.0016758302473548932,-0.0021546520683638085,-0.0022470437271925364,-0.0020068759378459693,-0.0022461863477720575,0.01111888883886619,-0.0037887652011932187,0.005249755829237744,-0.0019864663930901686,-0.0025822618904467534,-0.001984238408749589,-0.0021739610526363548,-0.004219688639422659,-0.00708590834260732,-0.002526582455895412,-0.0021132117888291646,0.001578805782451669,-0.002123936050328038,0.0033997057217943286,0.0013114235621366007,-0.0020133430880163047,-0.001985783597791213,-0.00294772064028408,-0.001982601982024036,-0.0021037768044004303,-0.0021811211112750238,-0.001987520247607922,-0.002004851859806675,-0.0033778015608556377,-0.0019915802646702577,-0.0025747726260929907,-0.002032571498516857,-0.0020614234259905247,-0.0029103517418289627,-0.001984447754013382,-0.00198113652704429,-0.0021034945338601002,-0.001979518091330761,-0.0219894610882727,-0.001985568382906609,-0.001987298669511061,-0.001981357486098756,-0.0030467434596585688,-0.0019985314996143993,-0.0020146279088744754,-0.0019963528229966186,-0.0024728566663071512,-0.002188754395455494,-0.0019796853843304235,-0.0019795953981912927,-0.0019794197645912363,-0.001982867155904458,-0.0021706807587566863,-0.0020082620720427735,-0.0019798763696860745,-0.0019794851581625647,-0.002131213655606827,-0.002048718205467578,-0.0019801642198193224,-0.001979452697075085,-0.002109460569876966,-0.001982941247178721,-0.001979896276324636,-0.002121016707325093,-0.0020039715346359004,-0.002321440110019009,-0.001982905294816227,-0.0019856689169886646,-0.001979421772697921,-0.0019794481506519254,-0.001979421912407747,-0.001979429828278419,-0.001979461794753362,-0.0019804715111150953,-0.002190956250632951,-0.0019899741227031773,-0.003031736213224464,-0.0019822354078517374,-0.0019794196065657274,-0.001979466177233645,-0.0019796565605855513,-0.0025727486376079384,0.011666466243696053,-0.0019838622039859573,-0.002078849122565062,-0.001980077104028445,-0.002107088674936626,-0.003957819954744274,-0.0020205952232443406,-0.0019794843375901174,-0.0019794351543920966,-0.002166649728685188,-0.0019794197686321736,-0.002005690740196397,-0.00197942591135859,-0.0019828320938654214,-0.001980474968432889,-0.0021373298300822133,-0.0020623114224853824,-0.0019804526093193495,-0.001988909077705826,-0.0021134127712680636,-0.0019794275467128883,-0.001979504055687876,-0.002057173437154986,-0.0020002432376219725,-0.0019916382023180577,-0.002074549990938661,-0.001982762193370912,-0.0019826402742432513,-0.0025510566962095695,-0.002310795324082237,-0.00202266155502874,-0.002049113060486806,-0.001979445495895934,-0.001981326414648218,-0.0019797392843533754,-0.0037525169244665784,-0.006500007886439559,-0.0019853602454944076,-0.0021204780349080815,-0.0021077423806076575,-0.003830299375536102,-0.002513007508186051,-0.001986074385032555,-0.001987812084282763,-0.0019837682048489042,-0.0019964590453950158,0.006827726496578627,-0.001979444397654235,-0.0019806962379940343,-0.0035724967790617926,-0.001981360554527833,-0.002046944779732712,-0.0019794453523174923,-0.002101175719801975,-0.0020439636643040603,0.0037907586533728454,-0.002247494879228422,-0.002037661574318473,-0.001987622132595842,-0.001986405200430867,-0.0019802147550397626,-0.0019801201521715485,-0.0019796734951666975,0.011219342926180154,-0.001979800815154696,-0.0020087026310031276,-0.002004851648714149,-0.00198080729300538,-0.001996864748675681,-0.0019818413985090437,-0.001998003451386067,-0.001983740832156783,-0.0019794805569794335,-0.001979456938448778,-0.0019876511519295384,-0.001981161363609747,-0.0022789421136127025,-0.0019794232639882576,-0.0030901265492434475,-0.0019794254475341898,-0.0019824378352148704,-0.0019794270544081683,-0.002945124391056468,-0.0019800309643003017,-0.0020864011062819675,-0.0019794501514058182,-0.001979421233410261,-0.0019986659629725617,-0.002438647774951506,-0.0022096457936438183,-0.0019795140177529666,-0.0023791196071048307,-0.005796200024205057,-0.002000453933506237,-0.001989014470721677,-0.001979493488974661,-0.0023307864057316463,-0.002013443639201337,0.00038310242228289487,-0.0020044335327331765,-0.0019794801649160956,-0.002018613631466147,-0.0023908461458449874,-0.001983340588912757,-0.0021544813782493582,-0.001979699754626391,-0.0027456641473520465,-0.0019841685114014972,-0.002213558168825877,-0.0025627879860712966,-0.0019797094496104327,-0.002145344627524277,-0.012049240076205664,-0.0020336250199973517,-0.001979450874461767,-0.001980142728105308,-0.0020249369300556056,-0.0020274979832012575,-0.0021634697529147257,-0.002001656854931148,-0.0019808985604172252,-0.0020095719333537115,-0.0019794480582813667,-0.0027918436361503316,-0.001988605191680844,-0.0019806141481431803,-0.0025308041814229897,-0.0019928180167411626,-0.0020301844629550168,-0.0020246231122556446,-0.0027373103915861972,-0.005718701248034719,-0.0020622882631321517,-0.0029007845359901247,-0.0019902018009152838,-0.00198317058290814,-0.0020612543651940714,-0.001979744372722388,-0.0020817753268377493,-0.002016967058391878,-0.0018884216918286995,-0.0019795935950255496,-0.001979484060469183,-0.001979422226484387,-0.001979420575606413,-0.0019818397188444913,-0.0020081977463886564,-0.0020042429195249543,-0.0010316587217476666,-0.001980180176036795,-0.0019892193256373807,-0.0020424725455835146,-0.0019880815165626226,-0.001980077954243985,-0.0029387149303882476,-0.0020315263305975676,-0.0019822147247025744,-0.001979581152976565,-0.001980695368713321,-0.0019907105058405627,-0.002344988605067302,-0.0025601438993793054,-0.001983709920776644,-0.001982002200626488,-0.00253222267380823,-0.001981143303117069,-0.0021514976865788815,-0.001980405970897064,-0.0019795100604244283,-0.0019851735787497896,-0.002043891102771797,-0.00204292763593823,-0.0019954452761958793,-0.0019794376007652745,-0.0020552877548515244,-0.002038331316941439,-0.0021396692733342717,-0.002308791104150622,-0.001980237346700056,-0.002035671313150768,-0.0019797004668264963,-0.0021121375878437117,-0.0019826178339211117,-0.001982472327039859,-0.001981616539273396,-0.001982080550047787,-0.001995460511074303,-0.0019819300062258456,0.008282432028312485,-0.0019933633990668995,-0.001984238487537732,-0.001980296040919066,-0.0019847435703965956,-0.0020033452811262934,-0.0020194234307538772,-0.0020591874183806275,-0.0019796741930705832,-0.002070188081975599,-0.002164629659690523,-0.0019802057652958858,-0.0019855502022971786,-0.0019846785331425454,-0.0019798298624123475,-0.0023185879358751716,-0.0019819766702915452,-0.001982262295576455,-0.0020100914917758135,-0.002023856185963363,-0.0020319763495912223,-0.0019801889652403806,-0.0019799959556806154,-0.0019808611662927903],\"type\":\"scatter3d\"}],                        {\"template\":{\"data\":{\"bar\":[{\"error_x\":{\"color\":\"#2a3f5f\"},\"error_y\":{\"color\":\"#2a3f5f\"},\"marker\":{\"line\":{\"color\":\"#E5ECF6\",\"width\":0.5},\"pattern\":{\"fillmode\":\"overlay\",\"size\":10,\"solidity\":0.2}},\"type\":\"bar\"}],\"barpolar\":[{\"marker\":{\"line\":{\"color\":\"#E5ECF6\",\"width\":0.5},\"pattern\":{\"fillmode\":\"overlay\",\"size\":10,\"solidity\":0.2}},\"type\":\"barpolar\"}],\"carpet\":[{\"aaxis\":{\"endlinecolor\":\"#2a3f5f\",\"gridcolor\":\"white\",\"linecolor\":\"white\",\"minorgridcolor\":\"white\",\"startlinecolor\":\"#2a3f5f\"},\"baxis\":{\"endlinecolor\":\"#2a3f5f\",\"gridcolor\":\"white\",\"linecolor\":\"white\",\"minorgridcolor\":\"white\",\"startlinecolor\":\"#2a3f5f\"},\"type\":\"carpet\"}],\"choropleth\":[{\"colorbar\":{\"outlinewidth\":0,\"ticks\":\"\"},\"type\":\"choropleth\"}],\"contour\":[{\"colorbar\":{\"outlinewidth\":0,\"ticks\":\"\"},\"colorscale\":[[0.0,\"#0d0887\"],[0.1111111111111111,\"#46039f\"],[0.2222222222222222,\"#7201a8\"],[0.3333333333333333,\"#9c179e\"],[0.4444444444444444,\"#bd3786\"],[0.5555555555555556,\"#d8576b\"],[0.6666666666666666,\"#ed7953\"],[0.7777777777777778,\"#fb9f3a\"],[0.8888888888888888,\"#fdca26\"],[1.0,\"#f0f921\"]],\"type\":\"contour\"}],\"contourcarpet\":[{\"colorbar\":{\"outlinewidth\":0,\"ticks\":\"\"},\"type\":\"contourcarpet\"}],\"heatmap\":[{\"colorbar\":{\"outlinewidth\":0,\"ticks\":\"\"},\"colorscale\":[[0.0,\"#0d0887\"],[0.1111111111111111,\"#46039f\"],[0.2222222222222222,\"#7201a8\"],[0.3333333333333333,\"#9c179e\"],[0.4444444444444444,\"#bd3786\"],[0.5555555555555556,\"#d8576b\"],[0.6666666666666666,\"#ed7953\"],[0.7777777777777778,\"#fb9f3a\"],[0.8888888888888888,\"#fdca26\"],[1.0,\"#f0f921\"]],\"type\":\"heatmap\"}],\"heatmapgl\":[{\"colorbar\":{\"outlinewidth\":0,\"ticks\":\"\"},\"colorscale\":[[0.0,\"#0d0887\"],[0.1111111111111111,\"#46039f\"],[0.2222222222222222,\"#7201a8\"],[0.3333333333333333,\"#9c179e\"],[0.4444444444444444,\"#bd3786\"],[0.5555555555555556,\"#d8576b\"],[0.6666666666666666,\"#ed7953\"],[0.7777777777777778,\"#fb9f3a\"],[0.8888888888888888,\"#fdca26\"],[1.0,\"#f0f921\"]],\"type\":\"heatmapgl\"}],\"histogram\":[{\"marker\":{\"pattern\":{\"fillmode\":\"overlay\",\"size\":10,\"solidity\":0.2}},\"type\":\"histogram\"}],\"histogram2d\":[{\"colorbar\":{\"outlinewidth\":0,\"ticks\":\"\"},\"colorscale\":[[0.0,\"#0d0887\"],[0.1111111111111111,\"#46039f\"],[0.2222222222222222,\"#7201a8\"],[0.3333333333333333,\"#9c179e\"],[0.4444444444444444,\"#bd3786\"],[0.5555555555555556,\"#d8576b\"],[0.6666666666666666,\"#ed7953\"],[0.7777777777777778,\"#fb9f3a\"],[0.8888888888888888,\"#fdca26\"],[1.0,\"#f0f921\"]],\"type\":\"histogram2d\"}],\"histogram2dcontour\":[{\"colorbar\":{\"outlinewidth\":0,\"ticks\":\"\"},\"colorscale\":[[0.0,\"#0d0887\"],[0.1111111111111111,\"#46039f\"],[0.2222222222222222,\"#7201a8\"],[0.3333333333333333,\"#9c179e\"],[0.4444444444444444,\"#bd3786\"],[0.5555555555555556,\"#d8576b\"],[0.6666666666666666,\"#ed7953\"],[0.7777777777777778,\"#fb9f3a\"],[0.8888888888888888,\"#fdca26\"],[1.0,\"#f0f921\"]],\"type\":\"histogram2dcontour\"}],\"mesh3d\":[{\"colorbar\":{\"outlinewidth\":0,\"ticks\":\"\"},\"type\":\"mesh3d\"}],\"parcoords\":[{\"line\":{\"colorbar\":{\"outlinewidth\":0,\"ticks\":\"\"}},\"type\":\"parcoords\"}],\"pie\":[{\"automargin\":true,\"type\":\"pie\"}],\"scatter\":[{\"marker\":{\"colorbar\":{\"outlinewidth\":0,\"ticks\":\"\"}},\"type\":\"scatter\"}],\"scatter3d\":[{\"line\":{\"colorbar\":{\"outlinewidth\":0,\"ticks\":\"\"}},\"marker\":{\"colorbar\":{\"outlinewidth\":0,\"ticks\":\"\"}},\"type\":\"scatter3d\"}],\"scattercarpet\":[{\"marker\":{\"colorbar\":{\"outlinewidth\":0,\"ticks\":\"\"}},\"type\":\"scattercarpet\"}],\"scattergeo\":[{\"marker\":{\"colorbar\":{\"outlinewidth\":0,\"ticks\":\"\"}},\"type\":\"scattergeo\"}],\"scattergl\":[{\"marker\":{\"colorbar\":{\"outlinewidth\":0,\"ticks\":\"\"}},\"type\":\"scattergl\"}],\"scattermapbox\":[{\"marker\":{\"colorbar\":{\"outlinewidth\":0,\"ticks\":\"\"}},\"type\":\"scattermapbox\"}],\"scatterpolar\":[{\"marker\":{\"colorbar\":{\"outlinewidth\":0,\"ticks\":\"\"}},\"type\":\"scatterpolar\"}],\"scatterpolargl\":[{\"marker\":{\"colorbar\":{\"outlinewidth\":0,\"ticks\":\"\"}},\"type\":\"scatterpolargl\"}],\"scatterternary\":[{\"marker\":{\"colorbar\":{\"outlinewidth\":0,\"ticks\":\"\"}},\"type\":\"scatterternary\"}],\"surface\":[{\"colorbar\":{\"outlinewidth\":0,\"ticks\":\"\"},\"colorscale\":[[0.0,\"#0d0887\"],[0.1111111111111111,\"#46039f\"],[0.2222222222222222,\"#7201a8\"],[0.3333333333333333,\"#9c179e\"],[0.4444444444444444,\"#bd3786\"],[0.5555555555555556,\"#d8576b\"],[0.6666666666666666,\"#ed7953\"],[0.7777777777777778,\"#fb9f3a\"],[0.8888888888888888,\"#fdca26\"],[1.0,\"#f0f921\"]],\"type\":\"surface\"}],\"table\":[{\"cells\":{\"fill\":{\"color\":\"#EBF0F8\"},\"line\":{\"color\":\"white\"}},\"header\":{\"fill\":{\"color\":\"#C8D4E3\"},\"line\":{\"color\":\"white\"}},\"type\":\"table\"}]},\"layout\":{\"annotationdefaults\":{\"arrowcolor\":\"#2a3f5f\",\"arrowhead\":0,\"arrowwidth\":1},\"autotypenumbers\":\"strict\",\"coloraxis\":{\"colorbar\":{\"outlinewidth\":0,\"ticks\":\"\"}},\"colorscale\":{\"diverging\":[[0,\"#8e0152\"],[0.1,\"#c51b7d\"],[0.2,\"#de77ae\"],[0.3,\"#f1b6da\"],[0.4,\"#fde0ef\"],[0.5,\"#f7f7f7\"],[0.6,\"#e6f5d0\"],[0.7,\"#b8e186\"],[0.8,\"#7fbc41\"],[0.9,\"#4d9221\"],[1,\"#276419\"]],\"sequential\":[[0.0,\"#0d0887\"],[0.1111111111111111,\"#46039f\"],[0.2222222222222222,\"#7201a8\"],[0.3333333333333333,\"#9c179e\"],[0.4444444444444444,\"#bd3786\"],[0.5555555555555556,\"#d8576b\"],[0.6666666666666666,\"#ed7953\"],[0.7777777777777778,\"#fb9f3a\"],[0.8888888888888888,\"#fdca26\"],[1.0,\"#f0f921\"]],\"sequentialminus\":[[0.0,\"#0d0887\"],[0.1111111111111111,\"#46039f\"],[0.2222222222222222,\"#7201a8\"],[0.3333333333333333,\"#9c179e\"],[0.4444444444444444,\"#bd3786\"],[0.5555555555555556,\"#d8576b\"],[0.6666666666666666,\"#ed7953\"],[0.7777777777777778,\"#fb9f3a\"],[0.8888888888888888,\"#fdca26\"],[1.0,\"#f0f921\"]]},\"colorway\":[\"#636efa\",\"#EF553B\",\"#00cc96\",\"#ab63fa\",\"#FFA15A\",\"#19d3f3\",\"#FF6692\",\"#B6E880\",\"#FF97FF\",\"#FECB52\"],\"font\":{\"color\":\"#2a3f5f\"},\"geo\":{\"bgcolor\":\"white\",\"lakecolor\":\"white\",\"landcolor\":\"#E5ECF6\",\"showlakes\":true,\"showland\":true,\"subunitcolor\":\"white\"},\"hoverlabel\":{\"align\":\"left\"},\"hovermode\":\"closest\",\"mapbox\":{\"style\":\"light\"},\"paper_bgcolor\":\"white\",\"plot_bgcolor\":\"#E5ECF6\",\"polar\":{\"angularaxis\":{\"gridcolor\":\"white\",\"linecolor\":\"white\",\"ticks\":\"\"},\"bgcolor\":\"#E5ECF6\",\"radialaxis\":{\"gridcolor\":\"white\",\"linecolor\":\"white\",\"ticks\":\"\"}},\"scene\":{\"xaxis\":{\"backgroundcolor\":\"#E5ECF6\",\"gridcolor\":\"white\",\"gridwidth\":2,\"linecolor\":\"white\",\"showbackground\":true,\"ticks\":\"\",\"zerolinecolor\":\"white\"},\"yaxis\":{\"backgroundcolor\":\"#E5ECF6\",\"gridcolor\":\"white\",\"gridwidth\":2,\"linecolor\":\"white\",\"showbackground\":true,\"ticks\":\"\",\"zerolinecolor\":\"white\"},\"zaxis\":{\"backgroundcolor\":\"#E5ECF6\",\"gridcolor\":\"white\",\"gridwidth\":2,\"linecolor\":\"white\",\"showbackground\":true,\"ticks\":\"\",\"zerolinecolor\":\"white\"}},\"shapedefaults\":{\"line\":{\"color\":\"#2a3f5f\"}},\"ternary\":{\"aaxis\":{\"gridcolor\":\"white\",\"linecolor\":\"white\",\"ticks\":\"\"},\"baxis\":{\"gridcolor\":\"white\",\"linecolor\":\"white\",\"ticks\":\"\"},\"bgcolor\":\"#E5ECF6\",\"caxis\":{\"gridcolor\":\"white\",\"linecolor\":\"white\",\"ticks\":\"\"}},\"title\":{\"x\":0.05},\"xaxis\":{\"automargin\":true,\"gridcolor\":\"white\",\"linecolor\":\"white\",\"ticks\":\"\",\"title\":{\"standoff\":15},\"zerolinecolor\":\"white\",\"zerolinewidth\":2},\"yaxis\":{\"automargin\":true,\"gridcolor\":\"white\",\"linecolor\":\"white\",\"ticks\":\"\",\"title\":{\"standoff\":15},\"zerolinecolor\":\"white\",\"zerolinewidth\":2}}},\"scene\":{\"domain\":{\"x\":[0.0,1.0],\"y\":[0.0,1.0]},\"xaxis\":{\"title\":{\"text\":\"X\"}},\"yaxis\":{\"title\":{\"text\":\"Y\"}},\"zaxis\":{\"title\":{\"text\":\"Z\"}}},\"coloraxis\":{\"colorbar\":{\"title\":{\"text\":\"C\"}},\"colorscale\":[[0.0,\"#0d0887\"],[0.1111111111111111,\"#46039f\"],[0.2222222222222222,\"#7201a8\"],[0.3333333333333333,\"#9c179e\"],[0.4444444444444444,\"#bd3786\"],[0.5555555555555556,\"#d8576b\"],[0.6666666666666666,\"#ed7953\"],[0.7777777777777778,\"#fb9f3a\"],[0.8888888888888888,\"#fdca26\"],[1.0,\"#f0f921\"]]},\"legend\":{\"tracegroupgap\":0},\"margin\":{\"t\":60}},                        {\"responsive\": true}                    ).then(function(){\n",
              "                            \n",
              "var gd = document.getElementById('16847681-da8c-4c4f-be90-c46ae717b40d');\n",
              "var x = new MutationObserver(function (mutations, observer) {{\n",
              "        var display = window.getComputedStyle(gd).display;\n",
              "        if (!display || display === 'none') {{\n",
              "            console.log([gd, 'removed!']);\n",
              "            Plotly.purge(gd);\n",
              "            observer.disconnect();\n",
              "        }}\n",
              "}});\n",
              "\n",
              "// Listen for the removal of the full notebook cells\n",
              "var notebookContainer = gd.closest('#notebook-container');\n",
              "if (notebookContainer) {{\n",
              "    x.observe(notebookContainer, {childList: true});\n",
              "}}\n",
              "\n",
              "// Listen for the clearing of the current output cell\n",
              "var outputEl = gd.closest('.output');\n",
              "if (outputEl) {{\n",
              "    x.observe(outputEl, {childList: true});\n",
              "}}\n",
              "\n",
              "                        })                };                            </script>        </div>\n",
              "</body>\n",
              "</html>"
            ]
          },
          "metadata": {}
        }
      ]
    },
    {
      "cell_type": "code",
      "source": [
        "df3 = pd.DataFrame({\"X\" : x_new2[:, 3], \"Y\" : x_new2[:, 4], \"Z\" : x_new2[:, 5], \"C\" : y})\n",
        "fig = px.scatter_3d(df3, x = \"X\", y = \"Y\", z = \"Z\", color = \"C\")\n",
        "fig.show()"
      ],
      "metadata": {
        "colab": {
          "base_uri": "https://localhost:8080/",
          "height": 542
        },
        "id": "7AZo576Ob8Kr",
        "outputId": "7148ceb2-e1a4-429f-e50c-fd99fb3ef3d4"
      },
      "execution_count": 52,
      "outputs": [
        {
          "output_type": "display_data",
          "data": {
            "text/html": [
              "<html>\n",
              "<head><meta charset=\"utf-8\" /></head>\n",
              "<body>\n",
              "    <div>            <script src=\"https://cdnjs.cloudflare.com/ajax/libs/mathjax/2.7.5/MathJax.js?config=TeX-AMS-MML_SVG\"></script><script type=\"text/javascript\">if (window.MathJax) {MathJax.Hub.Config({SVG: {font: \"STIX-Web\"}});}</script>                <script type=\"text/javascript\">window.PlotlyConfig = {MathJaxConfig: 'local'};</script>\n",
              "        <script src=\"https://cdn.plot.ly/plotly-2.8.3.min.js\"></script>                <div id=\"fa73378f-17a9-4263-8569-a8019cc7bfca\" class=\"plotly-graph-div\" style=\"height:525px; width:100%;\"></div>            <script type=\"text/javascript\">                                    window.PLOTLYENV=window.PLOTLYENV || {};                                    if (document.getElementById(\"fa73378f-17a9-4263-8569-a8019cc7bfca\")) {                    Plotly.newPlot(                        \"fa73378f-17a9-4263-8569-a8019cc7bfca\",                        [{\"hovertemplate\":\"X=%{x}<br>Y=%{y}<br>Z=%{z}<br>C=%{marker.color}<extra></extra>\",\"legendgroup\":\"\",\"marker\":{\"color\":[0,1,2,3,4,5,6,7,8,9,0,1,2,3,4,5,6,7,8,9,0,1,2,3,4,5,6,7,8,9,0,9,5,5,6,5,0,9,8,9,8,4,1,7,7,3,5,1,0,0,2,2,7,8,2,0,1,2,6,3,3,7,3,3,4,6,6,6,4,9,1,5,0,9,5,2,8,2,0,0,1,7,6,3,2,1,7,4,6,3,1,3,9,1,7,6,8,4,3,1,4,0,5,3,6,9,6,1,7,5,4,4,7,2,8,2,2,5,7,9,5,4,8,8,4,9,0,8,9,8,0,1,2,3,4,5,6,7,8,9,0,1,2,3,4,5,6,7,8,9,0,1,2,3,4,5,6,7,8,9,0,9,5,5,6,5,0,9,8,9,8,4,1,7,7,3,5,1,0,0,2,2,7,8,2,0,1,2,6,3,3,7,3,3,4,6,6,6,4,9,1,5,0,9,5,2,8,2,0,0,1,7,6,3,2,1,7,3,1,3,9,1,7,6,8,4,3,1,4,0,5,3,6,9,6,1,7,5,4,4,7,2,8,2,2,5,5,4,8,8,4,9,0,8,9,8,0,1,2,3,4,5,6,7,8,9,0,1,2,3,4,5,6,7,8,9,0,1,2,3,4,5,6,7,8,9,0,9,5,5,6,5,0,9,8,9,8,4,1,7,7,3,5,1,0,0,2,2,7,8,2,0,1,2,6,3,3,7,3,3,4,6,6,6,4,9,1,5,0,9,5,2,8,2,0,0,1,7,6,3,2,1,7,4,6,3,1,3,9,1,7,6,8,4,3,1,4,0,5,3,6,9,6,1,7,5,4,4,7,2,8,2,2,5,7,9,5,4,8,8,4,9,0,8,9,3,0,1,2,3,4,5,6,7,8,9,0,1,2,3,4,5,6,7,8,9,0,1,2,3,4,5,6,7,8,9,0,9,5,5,6,5,0,9,8,9,8,4,1,7,7,3,5,1,0,0,2,2,7,8,2,0,1,2,6,3,3,7,3,3,4,6,6,6,4,9,1,5,0,9,5,2,8,2,0,0,1,7,6,3,2,1,7,4,6,3,1,3,9,1,7,6,8,4,3,1,4,0,5,3,6,9,6,1,7,5,4,4,7,2,8,2,2,5,7,9,5,4,8,8,4,9,0,8,9,8,0,1,2,3,4,5,6,7,8,9,0,1,2,3,4,5,6,7,8,9,0,1,2,3,4,5,6,7,8,9,0,9,5,5,6,5,0,9,8,9,8,4,1,7,7,3,5,1,0,0,2,2,7,8,2,0,1,2,6,3,3,7,3,3,4,6,6,6,4,9,1,5,0,9,5,2,8,2,0,0,1,7,6,3,2,1,7,4,6,3,1,3,9,1,7,6,8,4,3,1,4,0,5,3,6,9,6,1,7,5,4,4,7,2,8,2,2,5,7,9,5,4,8,8,4,9,0,8,9,8,0,1,2,3,4,5,6,7,8,9,0,1,2,3,4,5,6,7,8,9,0,1,2,3,4,5,6,7,8,9,0,9,5,5,6,5,0,9,8,9,8,4,1,7,7,3,5,1,0,0,2,2,7,8,2,0,1,2,6,3,3,7,3,3,4,6,6,6,4,9,1,5,0,9,5,2,8,2,0,0,1,7,6,3,2,1,7,4,6,3,1,3,9,1,7,6,8,4,3,1,4,0,5,3,6,9,6,1,7,5,4,4,7,2,8,2,2,5,7,9,5,4,8,8,4,9,0,8,9,8,0,1,2,3,4,5,6,7,8,9,0,1,2,3,4,5,6,7,8,9,0,1,2,3,4,5,6,7,8,9,0,9,5,5,6,5,0,9,8,9,8,4,1,7,7,3,5,1,0,0,2,2,7,8,2,0,1,2,6,3,3,7,3,3,4,6,6,6,4,9,1,5,0,9,5,2,8,2,0,0,1,7,6,3,2,1,7,4,6,3,1,3,9,1,7,6,8,4,3,1,4,0,5,3,6,9,6,1,7,5,4,4,7,2,8,2,2,5,7,9,5,4,8,8,4,9,0,8,9,8,1,2,3,4,5,6,7,8,9,0,1,2,3,4,5,6,7,8,9,0,1,2,3,4,5,6,7,8,9,0,9,5,5,6,5,0,9,8,9,8,4,1,7,7,3,5,1,2,7,8,2,0,1,2,6,3,3,7,3,3,4,6,6,6,4,9,1,5,0,9,5,2,8,2,0,0,1,7,6,3,2,1,4,6,3,1,3,9,1,7,6,8,4,3,1,4,0,5,3,6,9,6,1,7,5,4,4,7,2,8,2,2,5,7,9,5,4,4,9,0,8,9,8,0,1,2,3,4,5,6,7,8,9,0,1,2,3,4,5,6,7,8,9,0,1,2,3,4,5,6,7,8,9,0,9,5,5,6,5,0,9,8,9,8,4,1,7,7,3,5,1,0,0,7,8,2,0,1,2,6,3,3,7,3,3,4,6,6,6,4,9,1,5,0,9,5,2,8,2,0,0,1,7,6,3,2,1,7,4,6,3,1,3,9,1,7,6,8,4,3,1,4,0,5,3,6,9,6,1,7,5,4,4,7,2,8,2,2,5,7,9,5,4,8,8,4,9,0,8,9,8,0,1,2,3,4,5,6,7,8,9,0,1,2,3,4,5,6,7,8,9,0,1,2,3,4,5,6,7,8,9,0,9,5,5,6,5,0,9,8,9,8,4,1,7,7,3,5,1,0,0,2,2,7,8,2,0,1,2,6,3,3,7,3,3,4,6,6,6,4,9,1,5,0,9,5,2,8,2,0,0,1,7,6,3,2,1,7,4,6,3,1,3,9,1,7,6,8,4,3,1,4,0,5,3,6,9,6,1,7,5,4,4,7,2,8,2,2,5,7,9,5,4,8,8,4,9,0,8,9,8,0,1,2,3,4,5,6,7,8,9,0,1,2,3,4,5,6,7,8,9,0,1,2,3,4,5,6,7,8,9,0,9,5,5,6,5,0,9,8,9,8,4,1,7,7,3,5,1,0,0,2,2,7,8,2,0,1,2,6,3,3,7,3,3,4,6,6,6,4,9,1,5,0,9,5,2,8,2,0,0,1,7,6,3,2,1,7,4,6,3,1,3,9,1,7,6,8,4,3,1,4,0,5,3,6,9,6,1,7,5,4,4,7,2,8,2,2,5,7,9,5,4,8,8,4,9,0,8,0,1,2,3,4,5,6,7,8,9,0,1,2,3,4,5,6,7,8,9,0,1,2,3,4,5,6,7,8,9,0,9,5,5,6,5,0,9,8,9,8,4,1,7,7,3,5,1,0,0,2,2,7,8,2,0,1,2,6,3,3,7,3,3,4,6,6,6,4,9,1,5,0,9,5,2,8,2,0,0,1,7,6,3,2,1,7,4,6,3,1,3,9,1,7,6,8,4,3,1,4,0,5,3,6,9,6,1,7,5,4,4,7,2,8,2,2,5,7,9,5,4,8,8,4,9,0,8,9,8,0,1,2,3,4,5,6,7,8,9,0,1,2,3,4,5,6,9,0,1,2,3,4,5,6,7,8,9,0,9,5,5,6,5,0,9,8,9,8,4,1,7,7,3,5,1,0,0,2,2,7,8,2,0,1,2,6,3,3,7,3,3,4,6,6,6,4,9,1,5,0,9,5,2,8,0,1,7,6,3,2,1,7,4,6,3,1,3,9,1,7,6,8,4,3,1,4,0,5,3,6,9,6,1,7,5,4,4,7,2,2,5,7,9,5,4,4,9,0,8,9,8,0,1,2,3,4,5,6,7,8,9,0,1,2,3,4,5,6,7,8,9,0,1,2,3,4,5,6,7,8,9,0,9,5,5,6,5,0,9,8,9,8,4,1,7,7,3,5,1,0,0,2,2,7,8,2,0,1,2,6,3,3,7,3,3,4,6,6,6,4,9,1,5,0,9,5,2,8,2,0,0,1,7,6,3,2,1,7,4,6,3,1,3,9,1,7,6,8,4,3,1,4,0,5,3,6,9,6,1,7,5,4,4,7,2,8,2,2,5,7,9,5,4,8,8,4,9,0,8,9,8],\"coloraxis\":\"coloraxis\",\"symbol\":\"circle\"},\"mode\":\"markers\",\"name\":\"\",\"scene\":\"scene\",\"showlegend\":false,\"x\":[0.16748992404585128,-0.0035513476899383047,-0.0034458800932475244,-0.0035366409832902025,-0.0034410569989934245,-0.003435041210468147,-0.003698373353699416,-0.003651929004518877,-0.0034349570797708394,-0.00343471778554462,-0.0032391500603198634,-0.0035081930522086902,-0.00346290596613388,-0.0035343593183300723,-0.003730263129733023,-0.0037021360728432544,-0.0034388683523360313,-0.0034559103825360466,-0.0034370412379380755,-0.0034411014273775993,-0.0034604185638702537,-0.004157462402110853,-0.003761985448273761,-0.0034556716375073074,-0.003437950010622458,-0.003508262356811343,-0.004169627513311721,-0.003442498871333247,-0.0034348008533061055,-0.0034826806047124513,-0.002927770982700992,-0.0034353808173342728,-0.003576668761250955,-0.0036731298582073127,-0.0037753006126973634,-0.0036851428448756974,-0.0035111544599029753,-0.0034347499345486776,-0.0034349222330347213,-0.0034621660408639078,-0.0034535195684347493,-0.004662752631824963,-0.0034948287953899797,-0.0034640708421083393,-0.003581139813765806,-0.00343985938962588,-0.003434770206216877,-0.0035694585285858875,0.00021265647595674586,-0.002307738476427675,-0.003457072546250553,-0.00346059227301372,-0.003514933158821791,-0.0034347015736331758,-0.0034347770926976768,-0.0034621119220013268,-0.003826659212456321,-0.0034458229392218503,-0.004318938066048594,-0.003455633891928259,-0.0035511531725224547,-0.0034433120002903906,-0.004060474510408885,-0.003464397427254063,-0.003442682596061436,-0.0043722625605552914,-0.004183859624590834,-0.004120056378540697,-0.003447999788935785,-0.003444612670517798,-0.003667370390571638,-0.0035428674231054503,-0.003644712126071939,-0.0034766147337634713,-0.0034371149593545426,-0.0034515483246793516,-0.0035040114480803844,-0.003434870746738585,-0.0030744237934398288,0.18293946381140186,-0.003526021772595196,-0.0036893144676503485,-0.004559190209341839,-0.003727423585935244,-0.0035443758787015466,-0.0034576516183501584,-0.003435648058007371,-0.003434732274017538,-0.00411648000936786,-0.0036109306605221457,-0.003490473497235412,-0.0035454079347581715,-0.0034365957075693826,-0.003566441069975112,-0.003685472824892822,-0.003437363171573103,-0.0034356084262836756,-0.0034879889434587513,-0.0034415700700181065,-0.003515901569569302,-0.003485350070401835,-0.0034386086261219005,-0.003601950248957222,-0.0034352226307127445,-0.003438395041599182,-0.003439416662922381,-0.003442571479647791,-0.0035326175386752676,-0.0034374151753932465,-0.003447730212595833,-0.0034920173400328543,-0.003726159769461922,-0.003543463041668521,-0.003434731613861756,-0.003458583503595336,-0.0034443376832198475,-0.0034570647297751628,-0.0038400090144294387,-0.0034573947835811773,-0.003465641115165063,-0.0034348066780595277,-0.0034354190759542675,-0.003436591148743017,-0.0034352654543980954,-0.0048854694023767525,-0.003434707901942389,-0.003675131508763329,-0.00343500276142011,-0.0035274510237763785,-0.0034348678751415763,0.015021561250224559,-0.0034543568666763995,-0.005640254453338778,-0.003435000191889012,-0.0034349456961779473,-0.003974618677160718,-0.0038738022853129733,-0.003442013905500771,-0.0034867842940553696,-0.0037126260066323857,-0.0033836637810057473,-0.0035443293966854485,-0.003536607903376019,-0.0041642057834356235,-0.003693680984171111,-0.0035938507171112337,-0.006244919485282565,-0.003443140952149177,-0.003443290701696821,-0.0034502981482012907,-0.00342984983705169,-0.0035781219026197442,-0.0034362469819888197,-0.003465725148988335,-0.003459321871171762,-0.0035173684887998993,-0.004403608808296136,-0.003458869696376046,-0.003434830814026814,-0.0036683136789531826,-0.0035903449456238428,-0.0034349226228084485,-0.0035651234423465347,-0.004638773236336358,-0.004780413404655305,-0.006219272605892568,0.0031968992166208905,-0.003685293187761408,-0.0034877381773428294,-0.003693884815902713,-0.003434854253780007,-0.0034798840375038767,-0.003442595494892709,-0.003717524718501777,-0.004426261771608891,-0.003803322280719659,-0.0035419256848637387,-0.0034438345468022235,0.005646154726242403,-0.0034445614718561163,-0.0034944965814834713,-0.0036224013508138137,-0.003486860434167803,-0.0034501944620651996,-0.003488333613009251,-0.0034559259241494877,-0.005131747198312424,-0.0034544658891420546,-0.003927289603584473,-0.0036273258177137026,-0.003458531390108144,-0.003434728776682043,-0.00343637505462882,-0.0035078975142736855,-0.003439229278827487,-0.004538404417333506,-0.0043746543869662155,-0.0047557372547670914,-0.003717772039377214,-0.003443446641297676,-0.00347897914342905,-0.0036968956285439707,0.014663251757384817,-0.0034350480402057285,-0.003728171288256753,-0.003435953433638709,-0.0034372575772945034,-0.003452955897118966,-0.0034455621539009095,-0.003441696201807101,-0.00411760973587408,-0.003439411397333401,-0.004336512644987081,-0.0038146809574557895,-0.00561547422707087,-0.0034409699449796226,-0.0034425980224406733,-0.003507168371244251,-0.0035088121636745865,-0.003535439917732935,-0.003483303920744214,-0.0035363428117042347,-0.0034652967342745345,-0.003552720760760948,-0.003435497720693308,-0.0038310212552093797,-0.003478770170555612,-0.0035001150087431675,-0.0038223271506311273,0.19011208409864777,-0.004961457133545295,-0.003442087567565116,-0.004174441501488946,-0.003469319220113001,-0.003414886024074946,-0.003541596936692061,-0.0035008437889730163,-0.0034939083176389668,-0.0037210194789034272,-0.0034516829779285864,-0.00343790777436287,-0.0035781698001672683,-0.0034420508068768994,-0.00355012800919094,-0.0034412235308279118,-0.004224974043254318,-0.0036623988788875264,-0.003435450659076167,-0.0034389082737104728,-0.003443682052152189,-0.0037314947687209733,-0.003444130558721475,-0.00015558188182146796,-0.0034354514909142285,-0.00343504009243406,-0.00349650501502664,-0.003170519114753815,-0.0037224104491251596,-0.003806421545948856,-0.004196756250897486,-0.003916892889522246,-0.004171835824172334,0.011105805214752294,-0.003465874139145604,-0.003439794032984688,-0.003437394670224963,-1.3601887567635655e-06,-0.0034433146171194986,-0.004012936896232629,-0.0034664213341118015,-0.003911618216083841,-0.0034618387841077775,-0.0034180333224852915,-0.003639296384380406,-0.0034518222100625028,-0.0034851338863694805,0.0053134757999683535,-0.0034455413308263584,-0.003504311476673998,-0.0036913984460898463,-0.003857879864671264,-0.003638598707391583,-0.003920144989901539,-0.0034544882504536113,-0.0034349684722600467,-0.003490790654902947,-0.0033278442359237575,-0.0037949391522318753,-0.003647732057330282,-0.003443643018161014,-0.00430231625961406,-0.003556243826168895,-0.003426145564485669,-0.0034379580143950317,-0.0034464218918216264,-0.0034350220033149627,-0.0034371900464164654,-0.003922425481347245,-0.003544981894880186,-0.003514709250857178,-0.003838681411628992,-0.003987616294157354,-0.0034502090553226875,-0.0034348025226445273,0.0002718364480580264,0.09434403959508429,-0.0037174575050495083,-0.003441111254930789,-0.003803685869385881,-0.003559051711265774,-0.004256788354424263,0.04774742691473955,-0.0034469061430663114,-0.003855248318438498,-0.0034320451266666983,-0.00419336754701461,-0.0036217859109865316,-0.0034437186719374494,-0.0035141757191004485,-0.003813151364447054,-0.004679822024897848,-0.003965533319522645,-0.003932238962798457,-0.004711990820895299,-0.003437539830480927,-0.003769538629045209,-0.005696091953439741,-0.003434956966297586,0.002239870668352914,-0.0036790331562471207,-0.0036554424517811776,-0.0037526938522451214,-0.0034867348190121624,-0.004459505367733124,0.005553234033751965,0.00415354330127109,-0.003589019727819258,-0.0036774446019291105,-0.0034770120417328444,-0.003983541415672116,-0.003519801868260986,-0.003506220307883212,-0.004039023473658167,-0.0036864506142782524,0.017525571902154702,-0.0036479612654767876,-0.00362206532687076,-0.004223242634161341,-0.003471296186972505,-0.004779546778122066,-0.003440043231089865,-0.002486147833915043,-0.003440531557218814,-0.0039192336025452865,-0.0034392654417495032,-0.003912805850984773,-0.003699423771335541,-0.0034328667559168154,-0.003441233590517605,-0.003498399245524927,-0.0022079473671416184,-0.0038910430793214303,-0.0037208744487116276,-0.0034352557991255655,-0.003435616288507165,-0.0035195654479259694,-0.0034601441379203887,-0.0040155654368436615,-0.0041352301911029244,-0.003589554416454457,-0.0034410747976141316,-0.004262225091302071,-0.0038527294462832574,-0.003438057028452215,-0.003459721100257724,-0.0034507556885041172,-0.0044879560783897075,-0.004830632685699869,-0.003434720075477732,-0.003436060110339752,-0.0043396788714540405,-0.003465239927141334,0.004914840164849675,-0.0034512185346971007,-0.0035042560481053503,-0.0036068767747902734,0.0014001228480910693,-0.0034162347351978104,-0.00349395919707907,-0.0034355558983781677,-0.003699523904712449,-0.003449250094461503,-0.0041033703791980595,-0.004362006759359928,-0.0034482172263177735,-0.0035215822715713497,0.06387767250857158,-0.0035181620610899404,-0.00351975975868421,-0.00343762678436936,-0.003508967335227518,-0.0034946907557848266,-0.0034351681922724455,-0.010093073462625668,-0.0034561123503436984,-0.003838607611862372,0.007017742375269824,-0.004448825463449827,-0.0034727960280966598,-0.0034347102037811253,-0.0034872357097105807,-0.0035120771552389794,-0.0035898112835206185,-0.006989649542139138,-0.003434708507205655,-0.003880919243847459,-0.00345450870666846,-0.003910160145938028,-0.003444374989083747,-0.0034787758916518512,-0.0034352771227623515,-0.0034347027763631703,-0.0014295194648096493,-0.003762421993384974,-0.003441094990455631,-0.00432439122234086,-0.003437490593230791,-0.003437933775205098,-0.003492469405740704,-0.003765173892334389,-0.0034349570996416033,-0.003526147423411852,-0.003435398300296915,-0.003533743031049616,0.08455537986303244,0.0012526685989243697,-0.003444611465160742,-0.0036445978333178113,-0.01035117548605452,-0.0034351864352008253,-0.0034817250309373492,0.28225028368590227,-0.00517593725831238,-0.0036736977194021794,-0.003434868567716333,-0.0034739511481225206,-0.0034619727625961926,-0.0037244172596215624,-0.0034695438622140244,-0.0034699911320726813,-0.0037198454433643342,-0.004871444168468621,-0.003448826551136494,-0.00411897783532251,-0.003462536433301088,-0.004161250048349853,-0.004251169640483306,-0.003434707393673072,-0.00021555621487413706,-0.003589257246155514,-0.00371281684198737,-0.003442352233850227,-0.0034354300753730556,-0.003905878333573686,0.19834595674522834,-0.0031586051157924126,-0.0035051851220207807,-0.003610981595238446,-0.003994981992640073,-0.003473359437027546,-0.004080997374767742,-0.003434882479680227,-0.0035249901079696003,-0.0034465595499214726,-0.003530776801595315,-0.0034721520961630246,-0.0035126933115313995,-0.003451503182134096,-0.0034875153997537497,-0.0038145449932052537,-0.003436079702729525,-0.0034435185404875896,-0.0034347362464610355,-0.0035820932041207222,-0.003498805797617094,-0.0035013397524632853,-0.0035176973007703936,-0.003308378459774741,-0.003456048471301034,-0.0034347353711076355,-0.004648177782576765,-0.004045807149044305,-0.0034347031037755675,-0.004684572685617975,-0.005026571677766457,-0.003686614753815149,-0.003435422916827635,-0.003444057320157423,-0.006302545473685029,-0.0036747990115047766,-0.0034354077727020323,-0.003938606866863764,-0.0034347079616506657,-0.003476540516840997,-0.0035469123311617054,-0.003504317679575973,-0.003435429152265073,-0.003451270481875048,-0.003438716387180481,-0.003446763676029162,-0.003701153842227594,-0.003466960088976997,0.04417173032153986,-0.003472017245396663,-0.003600810105165675,-0.0034369189781131965,0.00706523035898749,-0.005558706405573855,-0.0034608405423433037,-0.003437688092095755,-0.003674381178103919,-0.0034350396442010757,-0.006898269454979217,-0.003447409573285358,-0.003434925686498948,-0.0034353655535072644,0.003508416021430237,-0.0036861412118412876,-0.0034572956299963055,-0.003449662351626885,-0.0034365680179840722,-0.0034996055711781293,-0.0032901097535349257,-0.003819232007460351,-0.003449035599642307,-0.0034355722833527705,-0.002063247095561897,-0.003531555500261485,-0.0034869783642170636,-0.0034402869109682903,-0.0034818223566006725,-0.003533711565461295,-0.0026067992601357197,-0.0037631945640245893,-0.0035561562919571867,-0.003436327299023944,0.0009811116392532092,-0.003434716540574681,-0.003450288008672182,-0.0035472814862078732,-0.0037450250806953097,-0.0035146594497459833,0.027802024066510323,-0.0034664078702373066,-0.0034793491562454828,-0.00353548637847599,-0.0057025993425088494,-0.003473642707268812,-0.003743299290435206,-0.0035939638118261245,-0.0036981928508346877,-0.0034905219291114244,-0.0035842651444753268,-0.003506337460995592,-0.0018623171226398436,-0.001661989544387303,-0.003609884387229643,-0.004563534121192061,-0.003516398309455829,-0.0034347099379837013,-0.003466134028891639,-0.0029457491438766776,-0.0037394862110536682,-0.004789353914261318,-0.003437946802820849,-0.0035468862308190782,-0.0034347128742628595,-0.00422970700664511,-0.0034350583712908747,-0.0035216791830945233,-0.0036390187817451776,-0.0038322876925173783,-0.005297239235528769,-0.0034430520567997683,-0.0034383017941941696,-0.0034723022657720177,-0.0034739232991078143,-0.00355573234931398,-0.0034374514347905905,-0.003461114865769974,-0.003438030560175828,-0.0035018516894381,-0.003435846288663966,-0.0035858975023269905,-0.0026473648688578183,-0.003407058610615704,-0.003532256590385269,-0.003586621939382005,-0.003841898915988695,-0.003560837954712697,-0.003444891366510343,-0.003450899958694801,-0.004425381304578213,-0.003504582460691229,-0.0034778437769835955,-0.003435091194409752,-0.003438181917817362,-0.0034449412082198866,-0.00349422837902041,-0.005544506741095932,-0.0034806418323856743,-0.006712814389004958,-0.0055190227268781256,-0.003596306809653429,-0.0035323447378629432,-0.0034548891457994316,-0.003566546072155802,-0.003440654066968272,-0.0035027001639483823,-0.003518048760548626,-0.00454766340886591,-0.003592685943366746,-0.003484163033303811,-0.0034667678370096195,-0.004143821470458846,-0.0035178514864030214,-0.0034963011057415564,-0.0035965280860615176,-0.0035369617612208983,-0.003467750637999806,-0.003434835150083468,-0.0038405612602930013,-0.004603449421403657,-0.003434913022516724,-0.003894195346890835,-0.0035244160128511705,-0.003515707622710828,-0.003487058913681474,-0.0034349395065047454,-0.0034638600403544646,-0.0036481213643673152,-0.0034816727372729956,0.050694424459340394,-0.00405891658659263,-0.0034629945946781844,-0.0034831873641395805,-0.0007982813089158594,-0.0034487036138835373,-0.0038374638597052646,-0.0034965951322944973,-0.0034773501279529912,-0.003435242883759733,-0.004269571824578566,-0.003579685554960883,-0.0036674521728755085,-0.003632477409984089,-0.003946508474025116,-0.003515624851117185,-0.0035288110089288427,-0.003457545048880335,-0.003457590453701636,-0.00348525314705504,-0.003939955259793567,-0.0037768603100588986,-0.0034347038316443366,-0.003691815494774136,-0.0035827004555616707,-0.0034489947449197,-0.0034443524137278705,-0.0034774250398388338,-0.0034347030904082407,-0.0035040665897798137,-0.004376485791355151,-0.0034351946551819936,-0.0035205471978307186,-0.0034387691192442386,-0.00250394004304198,-0.00346065191077121,-0.003434702076610607,-0.0036005803129879875,-0.003796638298767368,-0.003438026393409115,0.1200682021489152,-0.0035678586540713836,-0.0035175454639887953,-0.004667865116537372,-0.0035224681924642272,-0.0034356320993374173,-0.0036368470446032112,-0.0034368882631515556,-0.003436655317405622,-0.0034347602799085926,-0.003567987775584577,-0.003657905132864742,0.015462561206141492,0.002157998454054376,-0.0034509471040200254,-0.0034383165599491,-0.005004964866492977,-0.003443247839560242,-0.0034362254016032127,-0.0034347287898628064,-0.0037239677334235883,-0.003439647964651853,-0.0036039777406913606,-0.004091849202597966,-0.0037189415158415517,-0.0036905641299040805,-0.004130332539056638,-0.003601472812062499,-0.0034350024099601465,0.019234954935145123,-0.004983203310041627,-0.0033592993605869137,-0.003572415855623567,-0.003529299480838252,-0.003556775902807229,-0.0034572574641945353,-0.0024708357710697616,-0.0034521679105334255,-0.003475098332733546,-0.0034484384230602503,-0.003435077440975562,-0.003448149424182378,-0.0012922106096825879,0.0029492547994072666,-0.0035584364453637735,-0.004216470822401782,-0.003950882422874712,-0.003880262430536202,-0.00347308396359533,-0.003443469699956165,-0.00345917727276026,-0.00361670862247297,-0.0034829853366330765,-0.003610417806790212,-0.0034358453653901507,-0.0035442630248422036,-0.003451149187701021,-0.003446776219511214,-0.00370965574695844,0.034944086420341136,-0.003435956844333971,-0.003578690045624306,-0.0035444103928615215,-0.0035601249012497892,-0.003456141106848816,-0.0031143611290878875,-0.003503907749142159,-0.003476906174106522,-0.00347403278408626,-0.003442146222165625,-0.003482215911864223,-0.003456056585940128,-0.0047149353461917055,-0.00358428656465223,-0.0034927189486019254,-0.0036284576592792582,-0.0034538740658463254,-0.0038746781251773827,-0.00348844539090227,-0.0037859547706070276,-0.0039362051311254915,-0.003531882131362549,-0.003974334294228478,-0.004571333940893061,-0.0034626945471937795,-0.0034431853426428287,-0.003484384198439017,-0.003434722344418769,-0.003646125873556517,-0.003605218496627991,0.0027943551434348687,-0.003441058877366672,-0.0034356291052192642,-0.003483861481835011,-0.0010638922764258534,-0.011058290705215003,-0.007970505204609917,-0.0034347254115454904,-0.003442638545123078,-0.006052691333418581,-0.0034354754674806986,-0.0037115151749881796,-0.0034347252029829803,-0.0037323420351321143,0.01727775212751895,-0.0034356220241383868,-0.0037741602441649755,-0.003548956813762584,-0.0034697538802987288,-0.0036460139843399165,-0.0034347650584467377,-0.003490078301211071,-0.003434756387509254,-0.0034466391808817796,-0.0033392351733645526,-0.004202218046229849,-0.0076386161750929705,-0.003498998245274884,-0.0034685532497526475,-0.005088349973176331,-0.0035995222693153348,-0.0034416690894763556,-0.0034352666002388406,-0.0034379932805363865,0.10191621392466022,-0.0035917283298559023,-0.003437088186091861,-0.003681164408409617,-0.0035840540770112395,-0.003681226889863209,0.08930331462693686,-0.003435379726826113,-0.0034583235717237583,-0.00362514634762315,-0.0037600896049817165,-0.003478595476408398,-0.0036619807350347037,-0.0034417853095975903,-0.004659547537649836,-0.003484631346325723,-0.0038956958624018225,-0.003531981399918505,-0.0034368211140891384,-0.0034377918626217682,-0.003992177189298715,-0.003548108030552447,-0.0034604018202343987,-0.003779431578466541,-0.006615777028369356,-0.003629962785979196,-0.005104847595209282,-0.003997683351623841,-0.004137966470004996,-0.0034368297486258932,-0.0034363581520017407,-0.003520217135203676,-0.003438686363255688,-0.003434991254228622,-0.004924831831383436,-0.004037307755838473,-0.0035335876696930718,-0.0034352048218368094,-0.003560249646745295,-0.003512831540779157,-0.003460976437346365,-0.003440202738329533,-0.0033836639059441247,-0.0034974306210815154,-0.0035397997950517963,-0.013077734339754952,-0.0034347058696529396,-0.02591793459127243,-0.0035553658450711034,0.1758156567069052,-0.0034371637596102536,-0.0034727971886057366,-0.003471323049554811,-0.004035503416519968,-0.0034399887261262942,-0.003645742766011465,-0.003476865058539687,-0.0034817054198546357,-0.003507530553571798,-0.003566999667954211,-0.0035722048788394056,-0.003489864669962346,-0.0034826707195131676,-0.004676716450845703,-0.003469553661493145,-0.003898716547524927,-0.0034397082112485764,-0.003442925087505241,-0.003436642313393076,-0.00579640607379369,-0.0034354215089050107,0.07387319864209015,-0.0036880806140035744,-0.003495537491931225,-0.003658020522690427,-0.0036805836396185724,-0.003586210977080277,-0.003450350966934917,-0.0034409961691835205,-0.005507361763511821,-0.0036295836196695358,-0.00346632407472738,-0.003656012030278666,-0.028101065312705144,-0.003556870145752053,-0.0034347054174080657,-0.0036189881022044793,-0.0035880059415476866,-0.0034352494148535053,-0.003491616946504689,-0.004938161199325627,-0.0034445885810348055,-0.0035552877205563974,-0.003434721241438162,-0.003447414519781287,-0.0034840248565901452,-0.003436099353609319,-0.003437528228631902,-0.0034817400639227895,-0.0034347087054852616,-0.00458806658112347,-0.00370588696576409,-0.0035150322776893754,-0.0036554764663751203,-0.0034641888839369935,-0.003967937535953847,-0.0037090191163228264,-0.003435678046100364,-0.00465104855702467,0.0425120511275246,-0.004321737895530349,-0.0034453072514901294,-0.003458677814100824,-0.003696312081105855,-0.0034397194860734553,-0.003793849323299915,-0.0034408031879536337,-0.0036211730074909828,-0.004078985529157787,0.24798816733024812,-0.0045406276841346415,-0.0041542415896179685,-0.003458205482594384,-0.0034782099998511367,-0.0034743350231292913,3.291001767602374e-05,-0.0038247648226418973,-0.0034397052861879895,-0.003608798703800022,0.01811454705216929,-0.003535731198172316,-0.0035200099523147016,-0.0039012247922449233,0.03210488913010956,-0.003497065428754002,0.27496483049160647,-0.0034784661664136796,-0.004101474954383724,-0.0036380261750485173,-0.003440189276111311,-0.0034624537407399424,-0.003441846021719659,-0.003678277456656321,-0.003517740504054947,-0.0034364064139592826,-0.003434970724267988,-0.003786319209124427,-0.0037153338852199433,-0.003620791023089241,-0.0036041210653688705,-0.0035636833263714596,0.37323673308335936,-0.005640834527737418,-0.0036222717032012987,-0.004220464237992087,-0.003738892954841108,-0.0034596292962629878,-0.003505028536558184,-0.0034357452715429505,-0.0034382706278479245,-0.003546756480093593,0.0074500619531210534,-0.0015779155650712405,-0.001958987885826062,-0.0034730195022736427,-0.0035801136165493036,-0.0035219478305739,-0.0038243640404591714,0.12742743068810383,-0.004706664107870907,-0.003507004229731341,-0.003558133571906704,-0.0034747633470538935,-0.003563718470933716,-0.003014025186530944,0.007378622379376264,-0.004267571074004434,-0.004139918553960057,0.011272154747969191,-0.003434707509540938,-0.003959216555576623,-0.004937106221650154,-0.003447495342490787,-0.004793816389736005,-0.003518443379817054,-0.004824299999942161,-0.0034347551913462963,-0.0035545521247120422,-0.004471848027375789,-0.003514201141229606,-0.0034346659358445494,-0.0035517363752781785,-0.0035447181849943376,-0.0034570076039057013,-0.0044326223013137775,-0.0034536801012193937,0.19061659008637638,-0.003550697321568706,-0.003438317914434238,0.03459507145831317,-0.0034491115877179437,-0.003792919691698032,-0.004450303590393661,-0.003998995809481421,-0.0035069166505374487,-0.0035246961469912732,-0.0035367091621554166,-0.0038265669719101314,-0.003556415910821867,-0.003435132762246915,-0.003509334840962187,-0.004143375485529552,-0.003496168774944228,-0.003714322647471734,-0.003439573727868799,-0.0034392067986396928,-0.004104086635719334,-0.00418406609170061,-0.0034347016458211943,-0.003247631507484318,-0.003829125352017231,-0.0037425954801323124,-0.004010429423976653,0.0807940452522841,-0.003446197432779867,-0.0036521033456766157,-0.0034961767019293546,-0.003941266716569257,-0.004220925270902333,0.000934111587897969,-0.0036002949490921035,-0.0034347021752286874,-0.003434704855951595,0.030244293246584644,-0.003500325952916627,-0.0034628985949949733,-0.0034855150880162247,-0.004283495590904123,-0.003434940194172777,-0.004276439495236347,-0.003966533563320323,-0.0034385765207408624,-0.0034354150636313036,-0.0033476631256764097,-0.008623726614326697,-0.0036244448621862734,-0.0034443806121984295,-0.003897482784564503,-0.003451851977377511,0.002255050315126681,-0.003515239771372556,-0.003437911165599666,-0.0034349098792567138,0.011372961276477356,-0.0034355396393217735,-0.0035797720207330695,-0.0034355995487679453,-0.0037760452860255535,-0.0035494822007202482,-0.0025123544510456553,-0.0034378184246596014,-0.003434744074793151,-0.0034355435892785263,-0.0034443226614704267,-0.0034840550853607924,-0.0034818966532598524,-0.003434959588892926,-0.003438594354229512,-0.0035292074489103606,-0.0036688282721426403,-0.008360211599347193,-0.0034374175253435867,-0.00343705701319584,-0.003525713940659666,-0.0034577938715418272,-0.0034446914106283093,0.0031572113077483,-0.003439744640783717,-0.0037286725472516894,-0.0034350534066592067,-0.003523844858808749,-0.003605563722519732,-0.0034353366628685714,-0.0034507999953911897,-0.0036341265156473314,-0.003831405753755628,-0.004045686554336147,-0.0046381324078823205,-0.004549641264342409,-0.003434754468681672,-0.0034354589609644852,-0.007580375570963237,-0.003435663027442101,0.07098871955732099,-0.003434703193674187,-0.0036000765885569022,-0.0037636805708304265,-0.003455981771766051,-0.004259342482626246,-0.0025475757694004464,-0.003340068205080474,-0.005591943540540593,-0.003437144195849422,-0.0036248862001909245,-0.00359124965924086,-0.0039038999539836154,-0.006145151980152675,-0.0034353725231147164,-0.004522799648726252,-0.00418471698779057,-0.003460774391306407,-0.003439015548951546,-0.003434705416279579,-0.0034371821825646773,-0.003909188163337225,-0.0035115943269332485,-0.004699910628642199,-0.003438696790676264,-0.003589672008544541,-0.0034930134565753185,-0.003618398848193528,-0.004225237065273385,0.011935884580540724,-0.003597233791337658,-0.003437493730465515,-0.003572821059797749,-0.0034348220625794027,-0.0034893888537917434,-0.009298333260899553,-0.003445845646620145,-0.003435085851002317,-0.0035416233459980243,-0.004086399562386687,-0.0034373614759123897,-0.004149957948114157,-0.0034350934097785867,-0.0034598607544629265,-0.0035626448409728797,-0.004098536873821243,-0.003448933252597946,-0.003434705862635266,-0.003435314894891891,-0.004337197179422538,-0.0034347013633861303,-0.0034347059411038374,-0.003511099537899875,-0.0034347014439847713,0.06920479366716462,-0.003434914671146918,-0.0034347060249566496,-0.0034586833661277507,0.01926972880488241,-0.004755854249094255,-0.007230330481408626,-0.003475579854132741,-0.004535854081534635,-0.0034615192863003234,-0.0021450359020244955,-0.003980788319195034,-0.0034351247426601403,-0.0034391246623705785,0.012781370208227574,-0.004971344205990516,-0.003928804782717661,-0.00344008286120266,-0.004150412224033223,-0.003503890889887539,-0.003495620595840597,-0.003686653043566215,-0.0034468571940703178,-0.003447335623431966,-0.003190387049901892,-0.0034421745918058726,-0.003439342303898836,-0.003471523143106245,-0.0034595173887956646,-0.004263636069124545,-0.003799081983951444,-0.0036314113799812615,-0.003448908888525635,-0.003440786088181368,-0.0036053594343348283,-0.003562587112644908,-0.0034684479989214954,-0.003600339115777432,-0.00427684678774836,-0.005911964248026286,-0.0032189704854747366,-0.0034792693381308017,-0.0034347157196417803,-0.0035540131009212787,-0.003434702893458328,-0.00364303111226686,-0.0035684590295205457,-0.003466279012112825,-0.00405039268810639,-0.003477087318796671,-0.0034742352565185143,-0.0034808224311389997,-0.0034976881655134394,-0.003561616492068734,-0.003440248640526093,-0.003614623726325301,-0.003700664230788373,-0.0034347080493216144,-0.004015653730849186,-0.0032167494597846054,-0.011802065481547155,-0.0035813607213864766,-0.003645865050166429,-0.003465645929652555,-0.0037542960827838725,-0.0034486398307391843,-0.0034456904601698427,-0.003515266114546389,-0.0034368462498196063,-0.006115317615168279,-0.005037837062389007,-0.005421415881078903,-0.004050608449210786,-0.0034387033370493693,-0.006168722903185979,-0.0034864137058440102,-0.003472253033457776,-0.003483123888132957,-0.003456626674438418,-0.0035420438295843196,-0.0034538375321873254,-0.003440090524793127,-0.004010102114830892,-0.0008878121446086173,-0.012312190440514926,-0.003639626359035503,-0.004034860485705763,-0.004802080512265725,-0.0035820263783827924,-0.0034376678658460218,-0.0034610032331393384,-0.004099313812584832,-0.0052810010142999965,-0.00348001572786753,-0.009287818691604204,-0.003436101925453666,-0.0035186544317244934,-0.009369488994986639,-0.003454947094976948,-0.005317143589620937,-0.003455352049825457,-0.003956052807738983,-0.0040145066626461855,-0.003435063461341628,-0.0038976893648804216,-0.0034395628576740704,-0.003832588436857204,-0.004804775097997526,-0.004646086677198014,-0.003465146178270572,-0.004947969664091711,-0.003434708049220309,-0.003450964896327259,-0.004795999937976467,-0.0035331983609702042,-0.0036826776039469203,-0.0038218736660578295,-0.0035634451653594103,-0.00343630152689598,-0.003547607667523807,-0.0035367601195006766,-0.0034392123523910756,-0.0034347891944902847,-0.0035511627038571922,-0.0035141548621443262,-0.0034496053865001,-0.0034362140151507218,-0.003435116270178837,-0.003439075556753976,-0.0035909402196993142,-0.003518312380594124,-0.003437397473560756,-0.003435095035790088,-0.0034496214639325356,-0.0034475673897197863,-0.0034354878431650335,-0.0034348127867437194,-0.0035726034838481713,-0.0036330694271440585,-0.003657880888651801,-0.003464036191843854,-0.003446110739802901,-0.003572868424418846,-0.0034350394928166473,-0.0034559532899605216,-0.0034808483370242444,-0.0034351925821356133,-0.003531317731240096,-0.003468049781282387,-0.0034419153316705407,-0.0034730803579634656,-0.0036318632278937134,-0.00360080343409948,-0.0034514254973257276,-0.0028363564724733312,-0.0034477509236850164,-0.0034375315002950404,-0.003462152121721344,-0.0034811622451061163,-0.003448455660383879,-0.0035581204264744097,-0.0034749448492090323,-0.003493368662276596,-0.0034384203154274253,-0.002939865462161229,-0.0035224254752168603,-0.0034667440781322016,-0.0034443162518479494,-0.003744655982561735,-0.003549938835140281,-0.003532919912183324,-0.003459174891152396,-0.0034392079521748595,-0.0034380759838645056,-0.0034909346225088884,-0.0035408510049583656,-0.017958562092257654,-0.003571574120970927,-0.0034352327754628496,-0.0036931252331563785,-0.0034839776384097635,-0.00651825314241454,-0.0034970045192402326,-0.0017536953331615938,-0.0041838953440417465,-0.003438616408117187,-0.003562580884031711,-0.003477231444748517,-0.0034494640154132156,5.5309242899948394e-05,-0.00349008530483242,-0.0035154792484900907,-0.005467056248675355,-0.0034781886692945066,-0.0036788400252616925,-0.003435020872537997,-0.0035493521744721116,-0.0035193690479538224,-0.0037128420967979937,-0.004104563008898044,-0.003694408808449189,-0.005050572818342568,-0.0041393463772571165,-0.003893100632696339,-0.006114501418526724,-0.0034729225960432775,-0.0025261248743867,-0.003486272450773835,-0.003435317706256904,-0.0036024139422634388,-0.0034498901750367075,-0.0034470285696909203,0.14931551001492047,-0.0034613362758760774,-0.0037177583442095864,-0.0037719525497630886,-0.00344711526499291,-0.003930421554335372,-0.0035569229426357226,-0.003435670911686209,-0.003474538977275917,-0.0034741775388068418,-0.0036070858648902956,-0.003468276308478218,0.003566453727537191,-0.0034359652497265476,-0.0034406790286530525,-0.0044783548274586246,-0.003654589696057621,-0.003445849520025749,-0.0034579048914018112,-0.0036087548056012984,-0.0035086163764110894,-0.006245944089695408,-0.00463441560200801,-0.003439500438702466,-0.0034347075294098557,-0.003926304132686441,-0.003434763923468611,-0.003450795806608436,-0.003437033747780581,-0.008281975532393699,-0.003470303418552401,-0.003454954061427856,-0.0048969451024831225,-0.0049022876450937666,-0.0035697549491856325,-0.0034349583732602583,-0.0034431513201903696,-0.0035363322772336636,-0.0035589138025185784,-0.0034362279959486296,-0.0034448846988547758,-0.0034360420695377755,-0.0035185224175454752,-0.0034414505689456193,-0.0034543654985365433,-0.003576239736752045,-0.0041538320141712255,-0.0034349088943188746,-0.0034619073729348724,-0.0034573529864909457,0.2827688707912329,-0.0034788177165042894,-0.005320892226792181,-0.003474374604083722,-0.003544620103372375,-0.003524194709930983,-0.005868953980081436,-0.005451057791704835,-0.003462244804207898,-0.0034869831708864963,0.02859891732076186,7.617356403242667e-05,-0.003559529392950069,-0.0035400428420304638,-0.005123268033738855,-0.005331697075827255,-0.005661261644898602,-0.004003448927727559,-0.0037930501501652453,-0.0034789974543502733,-0.0012897425211670433,-0.0040261220581571285,-0.005386921402400539,-0.0035868384173443884,-0.006595809821090974,-0.0035565442788796156,-0.0011685169836239593,-0.006537977698354362,-0.0036274884401741115,-0.0035836975139173096,0.017924354398144934,-0.0034779039921173814,-0.005064029170467286,-0.004491577315468142,-0.004101683326028588,-0.003852590165112646,0.04060572593384463,-0.004074292495141183,-0.0034382148529405886,-0.0034559572950151923,-0.003450844551477212,-0.003550998697789291,-0.0034691175167854468,-0.007119162031669358,-0.003634333555393883,-0.003553423407167773,-0.004155044214837427,-0.004005152389886663,0.537894890724847,0.3802486316940495,-0.0035464889008898497,-0.003989626640552376,-0.0034514270894772064,-0.0034645492805694036,-0.006165858543393422,-0.002790468519679742,0.020632248586892575,-0.007209324592918335,-0.00346785290544041,-0.0035423757089948233,-0.0034654728810881406,-0.004715378745719647,-0.0034630995842799173,-0.003478631140923801,-0.0038142083791143622,0.005705925974661774,-0.0034709127634532265,-0.0022487534888742705,-0.008287619886799578,-0.0037422298354315726,0.02058162881399695,-0.0034625631065806624,0.013619229250370037,-0.0034699145698805483,-0.0034413498028948433,-0.005789254980353583,-0.003440044908630981,-0.006241270192789258,-0.001568210542397805,0.3087512716585678,-0.0019305441922437645,-0.003691494876694923,-0.003859459383548717,-0.00442513562467769,-0.003529994895389508,-0.003486516171396185,-0.003934008205184323,-0.004424888293979538,-0.004862102515711324,-0.003794100442822402,-0.003989916503034512,-0.003490478625030675,-0.00398664273013707,0.0007454979626100213,-0.007581202572867426,-0.0043998248042727926,-0.0034489805695737275,-0.004813520238196351,-0.003444476084264783,-0.003980087817541408,-0.008679005842408898,0.07344712051712265,-0.0045741388700078255,-0.003712361173253787,-0.005499033790406381,-0.003730380011619551,-0.004749493422647379,-0.0024441502478215653,-0.0035065806230213828,-0.0034476403140832846,-0.00558944884496601,-0.0034415943959820983,-0.0036960242862695536,-0.00387877963786849,-0.003451160094614994,-0.0034865952622414615,-0.00661152413093381,-0.0034602714443897897,-0.004767402565799384,-0.0035433048495260135,-0.0036016980388432736,-0.005523038453178465,-0.0034449017236274212,-0.0034381753533836443,-0.0037139233925039825,-0.003434900698771217,0.34741143212255626,-0.0034471579066299362,-0.003450998872451053,-0.003438622177749763,-0.0010525416629583585,-0.003490501263408973,-0.003506937124095068,-0.0034690219442017386,-0.004461532111182808,-0.0038820806531746797,-0.003435239686575999,-0.0034350570699070515,-0.003434701659607144,-0.0034417089611638836,-0.0035230117095457654,-0.0035000104699846658,-0.0034356253231563683,-0.0034348341652681936,-0.0037513997727249,-0.003576223845248263,-0.0034362356523473686,-0.0034347682653651495,-0.003167392260288863,-0.0034422329557022833,-0.0034356749906466416,-0.0037237423262824615,-0.0034851791562542345,-0.004143150915432161,-0.0034417631847079707,-0.0034473472431104588,-0.003434705720397337,-0.0034347590724597967,-0.0034347061162701992,-0.00343472235291269,-0.0034347873503411436,-0.0034368938132130593,-0.0039018866455118504,-0.003456269258560199,0.003166121206948728,-0.003440397832177399,-0.0034347013384268296,-0.003434795573402847,-0.003435180649523094,-0.004691599143840074,0.01732233966385211,-0.00344370829665764,-0.0036380101709886374,-0.003436032073196869,-0.003695911708507292,-0.009949457088551526,-0.00351827524968135,-0.003434469607000674,-0.003434732800307606,-0.0038194282263123514,-0.003434701669027006,-0.003487963159720596,-0.0034347140970370964,-0.003440817542055076,-0.0034368479687780103,-0.0037594632037332076,-0.0036044227779700884,-0.003436793287997221,-0.0034539262109159674,-0.003707701532777447,-0.0034347175918548237,-0.0034348722016138713,-0.0035938577576860365,-0.0034998848699763383,-0.0034599145595858066,-0.0036604681658713614,-0.0034414660033474653,-0.00344122029004631,-0.00510302037870239,-0.00414125217110876,-0.003522257023906437,-0.0035771077564640563,-0.0034347537140301753,-0.0034385597558468876,-0.0034353495071179677,0.014256741204877554,-0.018887690859735486,-0.00344675708372622,-0.0037233693073912685,-0.003697363690913105,-0.007872477681454538,-0.00801340280484452,-0.0034481786281666195,-0.003451681020253994,-0.003443626126914497,-0.0034692277030219094,0.006876178153875073,-0.0034347519248765263,-0.003437307149282838,-0.01030784017354832,-0.00343863614579649,-0.003587203113056188,-0.003434753417060558,-0.003688847803652058,-0.003565801374095599,0.0038872414492082093,-0.0039994362124069855,-0.0034974194260918236,-0.003451340859698828,-0.0034489145206491076,-0.0034363202926007536,-0.0034361191093779655,-0.0034352349569398174,0.01716619809061233,-0.003435479882647513,-0.0034967463557579403,-0.003487769398536112,-0.0034375195593883017,-0.0034700739862302712,-0.0034396161080051074,-0.0034735082883173307,-0.0034435043690913742,-0.003434824734550815,-0.0034347769762993526,-0.0034513802118166363,-0.003438226287133283,-0.004063971254802459,-0.0034347087560448945,0.004452194861617145,-0.003434713152541928,-0.0034408075409695722,-0.0034347164025690224,0.010090071516982529,-0.003435939440592223,-0.0036552682330020193,-0.0034347634079519105,-0.0034347046314171337,-0.0034737789491768823,-0.004409510195956318,-0.003915862907289914,-0.0034348923554239,-0.004262510548093981,0.030472719525924005,-0.0034775483399341485,-0.0034544326195609042,-0.0034348508018887474,-0.004181802128474633,-0.0035037981693411325,-0.0043854627997697414,-0.003485571361217145,-0.0034348239583696033,-0.003514301011549748,-0.003523478138546292,-0.0034427182206253765,-0.0037938474499926824,-0.0034352679622381348,-0.005071839957996113,-0.003444322919754952,-0.004147378031615915,-0.004654646099982404,-0.003435287637396841,-0.0037738600521025787,0.15621560298754494,-0.0035451439864470275,-0.0034347648506361204,-0.003436166481653885,-0.0038657293049425413,-0.003532384395503656,-0.0035188661155274806,-0.0034799828184699294,-0.00343769300261018,-0.0034970061865056364,-0.003434758896858096,-0.005170991160588992,-0.003453297046044992,-0.0034371721342115634,-0.004595152278761546,-0.0034618401507441514,-0.0035376196510721607,-0.0035286627089027196,0.0004818384773351438,0.04149231423636963,-0.003603630004809574,-0.005424194791461941,-0.0034566072173929383,-0.0034422991876221303,-0.003613449210417116,-0.0034348485018332086,-0.003644319418773148,-0.003511536841230357,-0.0038250294621990865,-0.0034350532973108786,-0.0034348317013693517,-0.003434706642189993,-0.0034347032983905535,-0.003439601345407176,-0.0034942335066710235,-0.0034855384535558516,-0.003843412855054748,-0.003436394030330893,-0.0034545372518130597,-0.003564887364104526,-0.0034522628829372097,-0.003436033822522617,0.0031422041432084893,-0.0035408817921229567,-0.0034403569231245996,-0.003435032858447655,-0.003437285877726521,-0.003457980057720001,0.0008458201504711215,-0.002736242700396134,-0.0034434678137312677,-0.0034399298076052865,-0.004599911225608255,-0.0034382162529125156,-0.0037878783980348427,-0.003436709480783676,-0.003434884314707683,-0.0034465879284157905,-0.0035670605219918854,-0.00356453055018221,-0.0034671962069419172,-0.003434738334772509,-0.0035905790364741752,-0.003555108741216659,-0.003768386662927441,-0.004142093544945768,-0.0034363571717320168,-0.003551465208138934,-0.003435269401464623,-0.003705272197277847,-0.0034411818541291005,-0.0034402425112271817,-0.0034391579989799612,-0.003440111237913222,-0.003468287147955647,-0.003439820475144357,-0.004791251362192372,-0.0034631747266584273,-0.0034444877805198688,-0.003436482031550282,-0.003445490539691868,-0.003484455385115921,-0.0035173081233799723,-0.0036006434040445293,-0.0034352162872997014,-0.003630153484061152,-0.0038508035682707073,-0.0034362935009568138,-0.00344711598423244,-0.00344536393816383,-0.0034355316489752485,-0.004137967690215192,-0.003439877327401196,-0.003440488887739889,-0.0034980467731232498,-0.003525158067838664,-0.003491484702696232,-0.0034362580172230726,-0.003435867608705381,-0.003437617304076423],\"y\":[0.0032160443047401133,-0.0011426591592935522,-0.0011016792649485264,-0.0011371106169679585,-0.0010998678153820653,-0.0010976138759328832,-0.00120087814741031,-0.00118108613252887,-0.0010975837015413305,-0.0010974926762787052,-0.001120588724310274,-0.0011252367236079383,-0.0011081472151796797,-0.001135197123740014,-0.0012145167860353225,-0.0012026883513293362,-0.001099070741161239,-0.0011055260626728894,-0.0010983636065676416,-0.0010998882406686669,-0.0011116743460533637,-0.0013806193166545457,-0.0012227066313263185,-0.001105363832468279,-0.0010987082633988952,-0.00112516126066654,-0.001386137512174202,-0.001100427316953524,-0.0010975238053857524,-0.0011154900674285736,-0.0011219130025391152,-0.001097741143959966,-0.0011511385683068917,-0.0011878990213775957,-0.0012271005956390497,-0.0011924819119111972,-0.0011355527851160977,-0.0010975047499365335,-0.0010975692271160023,-0.0011078026806454221,-0.0011045366814185097,-0.0015813596512748809,-0.001120085947087042,-0.0011089140318693942,-0.0011538443945968112,-0.0010994355469821915,-0.0010975126279515433,-0.001149033227785446,-0.0013192819226098143,-0.0011126877610606154,-0.001105872243714619,-0.0011071876829864165,-0.0011279462287784026,-0.0010974866026153423,-0.0010975149003085692,-0.0011083454610157392,-0.001254242015498352,-0.0011016531233686072,-0.0014446507715864386,-0.0011054106933660163,-0.001142407583760002,-0.0011007499319337821,-0.001338415411899262,-0.0011086881874830972,-0.0011005243384236338,-0.001484290252087048,-0.0013915272297259178,-0.0013649473267642665,-0.0011026112773290632,-0.0011012005540324136,-0.001187054294903843,-0.0011381994868035357,-0.0011865890718326826,-0.0011132179671420011,-0.001098391583086961,-0.001103802490423579,-0.0011236321796195179,-0.0010975499987602075,-0.0011232446876336634,0.0021832644329614127,-0.0011332878920350777,-0.0011965494099411144,-0.0015350124133251064,-0.0012089995521581227,-0.000927122876705964,-0.0011061688010329466,-0.0010978416434618231,-0.0010974981562961227,-0.0013656860306170149,-0.0011654224677768077,-0.0011184359349735384,-0.0011415733621678264,-0.001098198800808021,-0.0011482967175620172,-0.0011936298397733783,-0.001098488472405334,-0.0010978261881460295,-0.0011175261754142237,-0.0011000978345397164,-0.0011392459219422997,-0.0011165176995224216,-0.0010993831703368347,-0.001160608929373726,-0.001097681907485379,-0.0010988893232020114,-0.001099263536202117,-0.0011004397535391759,-0.0011343542390673306,-0.0010985069261519864,-0.0011024039441344564,-0.0011193012918365563,-0.0012091173142233336,-0.0011386992506780054,-0.001097498088990193,-0.0011064719745960457,-0.0011010992293035843,-0.0011058693303882055,-0.001252879130376159,-0.001106052112743183,-0.0011091330266169588,-0.0010975263118019915,-0.0010977610438868543,-0.0010982974672888118,-0.0010977000784411555,-0.0016706228567429258,-0.0010974889723989027,-0.0012176658697442434,-0.0010975993871833874,-0.001132358283205242,-0.001097559762918888,-0.0014000575376328286,-0.0011050660456375847,-0.001926524571640301,-0.0010975994875879037,-0.0010975788544235665,-0.001314688570970027,-0.0013813364387324212,-0.0011002735041085818,-0.0011170353705328459,-0.0012026681353738795,-0.0011424306412410527,-0.0011388616732193805,-0.0011233165322192312,-0.001377059821850591,-0.0011959106415689548,-0.0011630945771782823,-0.0022407882710361753,-0.0011006519184627583,-0.0011007140282631848,-0.001103341982185655,-0.0011191868285260354,-0.0011514362642528486,-0.0010980703641258035,-0.001109283683193629,-0.0011067611461810039,-0.0011287960457468213,-0.0014823471589657533,-0.0011065470025898503,-0.0010975352551018502,-0.0011859188263199298,-0.0013281785385439054,-0.0010975701148281869,-0.0011483777008573675,-0.0016006334190923725,-0.0016529615420954294,-0.002228505879215785,-0.0012849131068116961,-0.0011931244652494714,-0.001117394009398923,-0.001196101350720787,-0.0010975445520671073,-0.001114735852739347,-0.0011005653551080241,-0.0012064416567607568,-0.0014901865469650701,-0.0012391140337493116,-0.001138202755020512,-0.0011009261315276127,-0.0011755874814012284,-0.0011042224045534244,-0.0011207060454027425,-0.001135847840419481,-0.0011171705406441798,-0.0011033033162149973,-0.0009985878909079063,-0.0011395153653396938,-0.0017678990395921393,-0.0011049714444845368,-0.0012914564056060922,-0.0011718505046366772,-0.0011064459627892448,-0.0010974967954568027,-0.0010981150731689208,-0.0011250067676271723,-0.0010991931786601598,-0.0015368329732755328,-0.0014667058868705388,-0.0016804123337403438,-0.0012050234674268704,-0.0011007723480952198,-0.0011141186802207405,-0.001201202181556494,-0.001623127642464423,-0.001097616672072036,-0.0012087351440133666,-0.0010979558581456776,-0.0010984444010972412,-0.0011044801492745054,-0.0011018149750929155,-0.0011006934534121256,-0.0013708101006074378,-0.0010992509854457278,-0.001448032547267324,-0.0012414180751192717,-0.0019456481163881883,-0.0010998350855023237,-0.00110044657415868,-0.0011250757372740666,-0.001125421299767293,-0.0011355596903591181,-0.0011157866183578104,-0.0011358374906098154,-0.001109162289727888,-0.0011427431846152808,-0.0010977850449860164,-0.0012485127673154376,-0.0011142642948279318,-0.001122071138695613,-0.001245355080043836,0.002705086907576428,-0.0017159495584219426,-0.0011002554871497182,-0.0013960876698063394,-0.0011105688892747649,-0.001128785137242541,-0.0011379739901665146,-0.0011222924526509061,-0.001121943961636172,-0.0012062315810263816,-0.0011039330560785744,-0.001098688595276258,-0.000996304509187764,-0.0011002481154682741,-0.0011072204815626625,-0.0010999424376416805,-0.0014151075123868507,-0.0011867756376542098,-0.00109776734107254,-0.0010990628294030946,-0.0011008623557989272,-0.0012101708107388712,-0.001101023107097983,-0.0015619497010592477,-0.0010977680359438697,-0.0010976136261807293,-0.0011207620566760603,-0.001171937609964287,-0.0012127253275673793,-0.0012408197771110426,-0.0013929152694031142,-0.0012827253061015508,-0.001385106575813517,0.0012676904372145718,-0.0011093297451557848,-0.0010994084546785646,-0.0010985007693887572,-0.0011507212075482645,-0.0011008060353583163,-0.001316490067729542,-0.0011096675266897657,-0.0012828377900161866,-0.0011078580107098841,-0.001459308178727083,-0.0011750314904514433,-0.001103902765516258,-0.0011166168086333425,-0.001308474765076143,-0.0011015589270062167,-0.001123462437056365,-0.001195687915155783,-0.0012621326976160246,-0.0011744272293977914,-0.001307927187454389,-0.0011049455732530947,-0.0010975866365937727,-0.0011186971010673193,-0.0011106199357789422,-0.0012350798768627773,-0.0011781259311353662,-0.001100843415450401,-0.0015518160360904537,-0.0011432741065719944,-0.0011092041406574765,-0.0010987091078294739,-0.0011019140854272406,-0.001097609029556867,-0.0010984213813853803,-0.001291552022838882,-0.001143551817037251,-0.0011277680684482606,-0.0012579188602946324,-0.0013095760519985114,-0.0011033673251144881,-0.0010975250439485078,-0.001201710132148156,0.0008159219809178684,-0.00017957104452682313,-0.0010997486572290429,-0.0012387062138459264,-0.0011443675931413363,-0.001412240076609824,-0.0006058058768027608,-0.0011020620321889505,-0.0009473451160017108,-0.0010972698475636682,-0.0013927274254674196,-0.001168474528150226,-0.0011009707898640164,-0.001127683739898579,-0.0012412308030410263,-0.0015935154993465556,-0.0013551041168233904,-0.0014402033304513108,-0.0016616857814927433,-0.0010986082270052638,-0.001225257459658291,-0.0022856410507904952,-0.001097582311503716,-0.0014811488099990312,-0.0011906521325267204,-0.0011809240299152648,-0.001215901174036871,-0.001117042969989588,-0.0001924684075060769,-0.0011644084645510728,-0.001261007806343551,-0.0011593088792091826,-0.0011906463267543615,-0.0011143107503259982,-0.0013079645162973196,-0.0011135161427057968,-0.0011245582436719308,-0.0013314882763258036,-0.0011951567762520196,0.002649422746950622,-0.0011782046856619202,-0.0011882812659797107,-0.001403713502114582,-0.0011113305569908814,-0.0019082378299598456,-0.0010994881086504877,-0.0013059524805738756,-0.0010996745069606077,-0.0012841863925713462,-0.001099263634364155,-0.0015386920641190984,-0.001198639312771696,-0.0011008075046068236,-0.0010999826864401799,-0.0011214882590142865,-0.0013439383809930865,-0.0012709627171087726,-0.0012106220595313054,-0.0010977013292949916,-0.0010978294797318662,-0.0011295995836530625,-0.0011071950141548987,-0.0013237041865975653,-0.0013676471603071279,-0.0011558894752362733,-0.0010999014352346564,-0.0008029793052013071,-0.0012392738199970001,-0.001098831265067987,-0.001106976202809732,-0.001103547714217475,-0.0015196183399271942,-0.0016513339437883062,-0.0010974935359990582,-0.0010979957459226878,-0.0014528666399275358,-0.0011091605703606097,-0.0010910514089526595,-0.0011036805976434414,-0.0011238442045703354,-0.0011625398899651272,-0.0011633723590206864,-0.0011033517378386127,-0.0011200012420214173,-0.001097807209110727,-0.0011979746587714453,-0.0011029426003185193,-0.001372953377522055,-0.0015743297930409176,-0.0011025513065536208,-0.0011303305996165618,-0.0005656735827640033,-0.0011291400402660392,-0.0011296991674954343,-0.0010985862597166411,-0.001125742514079497,-0.0011201203032744898,-0.001097661728260657,-0.004451300792057853,-0.0011055117524308021,-0.001251960124800162,-0.0016775309586408065,-0.0015031048919977078,-0.001112171216643492,-0.0010974898353069455,-0.0011173132659225019,-0.0011266959229692419,-0.001159763791572826,-0.0028746992473910058,-0.0010974891999323863,-0.0012677251444927528,-0.0011280345559506494,-0.0012800784542915367,-0.0011011112471579379,-0.0011141916931943208,-0.0010977023041437764,-0.0010974870529820225,-0.0011794936361230605,-0.0012234207920104455,-0.0010998988732637451,-0.0014418345568851297,-0.0010985361866485488,-0.0010987005747780361,-0.0011202520595059214,-0.0012591815448601048,-0.0010975829124378479,-0.0011318679669992556,-0.0010977492177672615,-0.0011347445155451027,-0.00029059818721567166,-0.0012975375330436993,-0.0011012287832784958,-0.0011771849857589154,-0.004566484966878411,-0.0010976688241836723,-0.0011152553946632833,0.0067839055171769755,-0.001807598408537311,-0.001188172473755707,-0.0010975502796540296,-0.001112231392472761,-0.0011077178799450281,-0.001221213566606172,-0.0011105743786036055,-0.001110735163328581,-0.0012074660089714197,-0.0016752436319803269,-0.0011029411488320596,-0.0013734536775135463,-0.001107942568680665,-0.0013787208715922066,-0.001414554024043307,-0.0010974887879717412,-0.001264159111996125,-0.0011567514210891396,-0.001202771377126593,-0.0011004243052625817,-0.0010977595463732414,-0.0012780387031260867,0.003680176385799547,-0.0011000399898605392,-0.0011240859367664014,-0.0011678326826740665,-0.0013297292485263156,-0.001111999695658956,-0.0013598914492312921,-0.0010975551005372238,-0.0011315853561733157,-0.0011019312179373832,-0.0011358011447127256,-0.0011115716780774924,-0.0011274046658766084,-0.0011038456613664744,-0.001117538664391698,-0.0012449263385063737,-0.0010981383977951105,-0.00110083152512049,-0.0010974996183316774,-0.0011535334736008382,-0.0011216491147904397,-0.0011229292142015785,-0.001128809657866245,-0.001121217903263193,-0.0011055257491063243,-0.0010974992771844235,-0.0015935103290465084,-0.001331107425461771,-0.0010974871768028988,-0.001595335996928577,-0.0018802350206250506,-0.001193001752631552,-0.0010977571034941,-0.001100997665250718,-0.002537813470688192,-0.0011883620319370566,-0.0010977516995566386,-0.0013032117796638574,-0.0010974889967620008,-0.0011132715993529012,-0.0011421998546053758,-0.0011239157574555894,-0.0010977594631867561,-0.0011037321253629874,-0.0010989910161328907,-0.0011020222543414112,-0.0011985902115856774,-0.0011096604265621686,2.2954434259363804e-05,-0.0011114870039652734,-0.001160892193677393,-0.001098318449032607,-0.0013247431860734392,-0.001984847032595612,-0.0011073361169419383,-0.0010986102986174846,-0.0011916970692774614,-0.001097613264421387,-0.0025841829916342972,-0.0011022477325888106,-0.0010975706661398787,-0.0010977366204325044,-0.0008936333928939565,-0.0011999903801787819,-0.001105960246156846,-0.001103106171778541,-0.0010981886453463622,-0.0011218888161422112,-0.0011135001248317056,-0.0012453074573408295,-0.0011031209829087654,-0.0010978149974847369,-0.0010796129806706148,-0.0011356654403672727,-0.001117126550441723,-0.0010995986707359102,-0.0011164004125733952,-0.0011348504296167282,-0.0011875651866752098,-0.0012240369994061227,-0.001147544656051484,-0.0010980999163968546,-0.0013574249302351854,-0.001097492209124685,-0.0011033537755309498,-0.0011398595677061074,-0.001225340569521761,-0.0011276002964118628,-0.0002155148595829567,-0.0011094110711518637,-0.0011142512311465016,-0.0011355159555954347,-0.0020327142838980445,-0.0011124233677989002,-0.0012149891913689765,-0.0011576884764273314,-0.001198664010421891,-0.0011184937598368657,-0.0011538199599067192,-0.0011244133636163821,-0.0010804465482192188,-0.0015739269786103935,-0.0011670933181608125,-0.0015466823002089308,-0.00112878538496219,-0.0010974897790914737,-0.0011093370598647741,-0.001200092364447345,-0.0012134226236632942,-0.0016353337471718568,-0.0010987095178259451,-0.0011397165118612275,-0.0010974908388864805,-0.0014026306802454411,-0.0010976202181728909,-0.0011302306842680327,-0.00117893584294728,-0.0012494609340878706,-0.001886398174965661,-0.001100901993381075,-0.0010988426983750516,-0.0011116251290299746,-0.0011122174098369922,-0.001143156918412381,-0.0010986211098440184,-0.0011074205486023047,-0.0010987380270631618,-0.001122724663961214,-0.0010979405720416603,-0.0011547496651657249,-0.0010919538585017928,-0.001128244176889842,-0.001134276197308423,-0.001155804282772048,-0.0012531070429039678,-0.0011449487823723256,-0.0011007849388055173,-0.0011035936465151777,-0.0014884273453295122,-0.0011238488479753633,-0.001114018283514695,-0.001097632557465862,-0.0010987966218907056,-0.0011013247866976405,-0.0011199474497780144,-0.001979618999397283,-0.0011149049939850912,-0.002510883661766508,-0.001964030323004984,-0.001161230762509417,-0.0011341889240691523,-0.0011050579675719598,-0.0011474391361374996,-0.0011055144925553454,-0.0011234410699629137,-0.001128832449965008,-0.0015550334472549127,-0.0011568972216733028,-0.0011184950862707093,-0.001110528926188599,-0.0013688983831421407,-0.0011288389646168652,-0.0011206152153512292,-0.0011598217096508636,-0.0011361771667558515,-0.0011100169132036456,-0.001097536670340233,-0.0012540986377614933,-0.001563356002488368,-0.0010975657781619897,-0.0012734946920496646,-0.0011321448393258149,-0.001127932880198074,-0.0011171983332580015,-0.0010975765454761136,-0.0011094930384402523,-0.0011783786256305303,-0.0011151918532131357,-0.0008449124535548238,-0.001357838865083064,-0.0011083313250918405,-0.0011157166885664533,-0.0011305826830265513,-0.001103052406687311,-0.0012471964000971437,-0.0011211146799462012,-0.001113548020801124,-0.0010976902283311195,-0.0014385896488292502,-0.0011532854158621986,-0.0011867082227348554,-0.001172432012754778,-0.001328836200684911,-0.0011283711381494138,-0.0011333919080179547,-0.001106267729286562,-0.0011062945479270632,-0.0011164807752275141,-0.0013064176554358512,-0.0012307061453454026,-0.0010974874496953576,-0.0011989959689367767,-0.0011939195476789082,-0.0011031453540654144,-0.001101134158512052,-0.001113546410515167,-0.001097487170578506,-0.0011235391810016856,-0.001641383244347911,-0.0010976715869026002,-0.0011301175262273678,-0.0010990475319221232,-0.0014697181815064078,-0.0011074070289205922,-0.0010974867916791584,-0.0011601334031497437,-0.001252612019843947,-0.001098736908942943,0.00039826911204437267,-0.0011503569139802148,-0.001128636043966787,-0.0015835378261478137,-0.0011304830627590515,-0.0010978352920891414,-0.0011740088838904214,-0.001098305799562974,-0.0010982184975260917,-0.001097509024762725,-0.0011477114320299115,-0.001181842353086989,-0.001042801415538307,-0.0009517116923072337,-0.0011035728928033694,-0.0010988509098006818,-0.0017201177794193892,-0.001100696878745487,-0.0010980573493263048,-0.0010974969747154825,-0.0012178460076626685,-0.0010993397887460034,-0.0011631781606345909,-0.001349832630124022,-0.001205690102456074,-0.00119619644622827,-0.0013642423942832169,-0.0011610379476442777,-0.001097599500494234,0.0028871106658244095,-0.0017659341343687841,-0.0011413716222203204,-0.0011495344886479767,-0.0011344836047049904,-0.0011434781002153732,-0.0011059488909284114,-0.0011605206063998545,-0.0011041311853230574,-0.0011126382262467056,-0.0011026341672153057,-0.0010976287415258455,-0.001102545131399019,-0.0011164891813806887,-0.0015831314116514226,-0.0011459054382666918,-0.001406203022890186,-0.0013850620550659501,-0.0012684555746616847,-0.0006104096563043398,-0.001100789142208342,-0.0011070959079793532,-0.0011693778814651223,-0.0011157516595674763,-0.0011653202973436953,-0.0010979151288712436,-0.0011387356752373657,-0.0011036780700703695,-0.0011020432559902217,-0.0012058420595188384,0.005461312402754124,-0.0010979575046619196,-0.001151970282764103,-0.0011387914633663346,-0.001144706070718354,-0.0011055989612510915,-0.0013671144729028842,-0.0011234881926827974,-0.0011133469192185065,-0.0011123778127462747,-0.001100359624938194,-0.001115393336687739,-0.0011055367206748094,-0.001609040215525559,-0.0011548792177908335,-0.0011192761924875866,-0.0011708028012514357,-0.001104990673680069,-0.001265250546401028,-0.001117659628698085,-0.0012318782253681524,-0.0012875044230304384,-0.0011343951208431294,-0.0013052136280963177,-0.0015480395946702043,-0.0011080126570417218,-0.001100705610006023,-0.0011161531416146878,-0.0010974944268453543,-0.0011773622798213839,-0.0011619729394884714,-0.0010593061527685898,-0.0010998835199730838,-0.0010978387338226067,-0.0011159449735283244,-0.001108649509427615,-0.008267152153369156,0.0035116992674825466,-0.0010974955358712254,-0.001100459908529099,-0.002203432736510607,-0.0010977774465339312,-0.0012055840752264494,-0.001097495454257733,-0.0012112545411989064,-0.000895585729785796,-0.001097837463167094,-0.0011631288238351054,-0.001141471011427998,-0.001110740602321358,-0.001182038871510006,-0.0010975103738051558,-0.0011184441666040607,-0.0010975072284599217,-0.0011019906244471584,-0.0011026217139770982,-0.001564475246536137,0.04993087571494404,-0.0011217958151755819,-0.0011103316341223885,-0.001756996343672902,-0.0011633362902554979,-0.001100111985416588,-0.001097699009868144,-0.001098722879422479,0.0005164661214886367,-0.0011566736830381592,-0.001098389608200461,-0.0011931787986140076,-0.0011549470706453643,-0.0012015977542190904,-6.588543763929728e-05,-0.0010977420323630656,-0.0011064422965038974,-0.0011692247136788842,-0.00122138385097212,-0.00111455666084822,-0.0011837066419277949,-0.0011001435956977691,-0.001576648438965255,-0.0011163066222974359,-0.001273384632489967,-0.0011344024707512527,-0.0010983538797880081,-0.001100357982970403,-0.001310255602114258,0.0007876406506913923,-0.0011071246683040977,-0.0012285417819561189,0.031042863483075445,-0.0013235348678449627,-0.0017628159402257673,-0.0013292186525535763,-0.0013766562959964504,-0.0010982856666337925,-0.0010981077193632147,-0.001129953358622329,-0.0010989887629454843,-0.001097596406685667,-0.0017558698764127713,-0.0013464833040532566,-0.001134899377372112,-0.0010976753167323652,-0.0011455647077950268,-0.0011269611213841552,-0.001107357693083745,-0.001099564286060201,-0.0011724482359520634,-0.0011213716742866902,-0.0011376495959952103,0.32911477266383327,-0.0010974882147772444,0.7763630618613097,-0.0011431869968193014,0.004913547213659077,-0.0010984195638617895,-0.0011119146147687714,-0.0011205292359401727,-0.0013289803047371502,-0.0010994670654858336,-0.0011789270816295965,-0.0011134379437905916,-0.0011156684886162167,-0.001125225321103307,-0.0011481964028001981,-0.0011732100500168358,-0.0011185550141252884,-0.0011155495235584904,-0.0017728310578398344,-0.0011105551614150582,-0.0012879783593345133,-0.0010993648096325386,-0.001100607748070532,-0.0010982257554080362,-0.0028439698987097867,-0.0010977563448570584,0.00069391783945084,-0.0011943630052143525,-0.0011204107203039875,-0.0011826128056149309,-0.0011911538769673877,-0.0012785514590404924,-0.0011033777892409285,-0.0010998500375591176,-0.0019489478264937475,-0.001172680871538057,-0.0011093549871322719,-0.0011815224847115957,0.8330869706470326,-0.0011435045564511836,-0.0010974880422046742,-0.0011680378336191128,-0.0011554209105191094,-0.001097691982526519,-0.0011188595172953162,-0.0016963237533455789,-0.0011011916485685156,-0.0011429183724838176,-0.001097493966812952,-0.0011022662965638628,-0.0011160099689201857,-0.0011010748735968822,-0.0010985512026202519,-0.0011152174584087718,-0.0010974892754212295,-0.0015616960638476349,-0.001202513452875191,-0.0011276946116242964,-0.0011811466221708677,-0.0011086083963312552,-0.0014243267131101973,-0.0012032837590853567,-0.001097855816756562,-0.0015811089994756777,0.0003176957604209774,-0.0014560454137481935,-0.001100957558854356,-0.0011065302144093775,-0.0011966230634400344,-0.0010993841218378052,-0.0012490672654948815,-0.0010997924944287415,-0.0011681276765222982,-0.0013460735791845945,0.006870528820047006,-0.0015421423054347697,-0.001373083777992281,-0.0011063146916604916,-0.001113808121109499,-0.0011123732629067832,-0.0005993064184182402,-0.0012544644686871122,-0.0010993882365804768,-0.0011660594218919085,-0.0017332789420831456,-0.0011357400816549036,-0.0011295918495630502,-0.0012781604695037301,0.005155942501994425,-0.0011208923199520107,0.008632918456356954,-0.0011141265375268733,-0.0013536041429844964,-0.0011748636863256347,-0.001099555270299523,-0.0011081297191349745,-0.001100195450429422,-0.0011897145989947344,-0.0011297884200267255,-0.0010981273050612982,-0.0010975875127670898,-0.0012395702965395275,-0.0012043862656933337,-0.0011679937318232793,-0.0011615686465241972,-0.0011460783790737982,0.012238963740873379,-0.0019880850498212276,-0.0011683815226870016,-0.0014415617579095288,-0.0012161224930631973,-0.0011068508399288243,-0.001124014788520202,-0.0010978789057718961,-0.0010988232056224794,-0.0011396743183605253,0.000658239432988342,-0.0007723744652671412,-0.0008968868804420608,-0.001111865785139887,-0.0011552367252421374,-0.0011317885508716947,-0.0012482660222527665,0.0035278386489412516,-0.0016015517518623095,-0.0011249614723379722,-0.00114412273796479,-0.0011125223952306467,-0.0011461428671210425,-0.001143470376460567,-0.0007800506228073157,-0.0014329633195820867,-0.0013704471053325388,0.0015251502271713337,-0.001097488825157002,-0.0013061791765626425,-0.001698445994755484,-0.0011023091071225434,-0.0016729821332845817,-0.0011289703097794777,-0.001655337393852677,-0.0010975066827534396,-0.0011433331691959694,-0.001505660300670536,-0.0011274694639341514,-0.0010997337860081124,-0.0011415792768836631,-0.0011389113156263639,-0.001105920907367334,-0.0014910331229084253,-0.0011045998504094158,0.0039931472221350845,-0.0011412904948721703,-0.0010988409313992097,0.005542198634273306,-0.0011029648844230063,-0.0013160932498573947,-0.001512723879670051,-0.0013190114785628882,-0.0011246360032886999,-0.001131832027105854,-0.0011363732904902735,-0.001246997214058109,-0.001143488567904725,-0.0010976509713598401,-0.001125625713496193,-0.0013948818856752234,-0.0011205829359894309,-0.0012098006448541623,-0.0010993256453971471,-0.001099314394473333,-0.0013589932540283602,-0.0013910388008460265,-0.0010974866295260515,-0.0010914617411096105,-0.0012474354106570909,-0.001216677482160178,-0.0013197486120006922,0.0009782484361004155,-0.001101837303604153,-0.0011592806498648559,-0.001120588044366937,-0.0012950363201775924,-0.0014013554235015617,-0.000320262136787116,-0.0011605641720186463,-0.001097486828409635,-0.001097487833241699,-0.001356407294557467,-0.001122687577896188,-0.0011081026861053567,-0.0011165834187489626,-0.0014267846564298664,-0.001097576589140866,-0.001455039948113675,-0.0013005508150773252,-0.0010989387223074235,-0.0010977537753694474,-0.0011135050523521039,-0.0051381722039803715,-0.0011693861702247778,-0.001101152038932479,-0.0012770787207902897,-0.0011039569183992019,-0.00013251325845387558,-0.0011277821303345402,-0.001098689789849536,-0.0010975649780699934,-0.0010049145988878336,-0.0010978004253760609,-0.0011529189816073106,-0.0010978245384322828,-0.00123271329277953,-0.0011411854138578697,-0.001256312231012554,-0.001098653819466751,-0.0010975025277731704,-0.00109780189677273,-0.0011010917962483184,-0.0011163153635948269,-0.0011152403809437676,-0.0010975849687040414,-0.0010989750696869134,-0.0011332832718405873,-0.0011856612440566316,-0.003766671167272647,-0.0010985331922392086,-0.0010984901123583597,-0.0011316895316082721,-0.0011061423156064935,-0.001101259894440442,-0.001266760709408056,-0.0010993871871069168,-0.001208398592220709,-0.001097627426423069,-0.0011311162627095275,-0.0011622116727180332,-0.001097724408430165,-0.0011035364573403219,-0.0011732701186837494,-0.001251201872975516,-0.0013357465634344671,-0.001600428400825264,-0.0015707928803824983,-0.0010975065979209808,-0.0010977702144850095,-0.0047006390786978715,-0.0010978477876132631,0.0005809398986299878,-0.0010974872093314808,-0.0011599602397139926,-0.00122192551569438,-0.0011054628842343494,-0.0014171907911693612,-0.0013576133695518673,-0.0012616048095445993,-0.002193631490566967,-0.0010984028981892784,-0.0011698439514805394,-0.0011567853212901312,-0.0012802567401882302,-0.0032021609921238595,-0.0010977378310554088,-0.0015182977486028148,-0.0013908234575629441,-0.0011073202975349,-0.0010991047682172028,-0.0010974880749467517,-0.0010984155511855115,-0.0013508067409155537,-0.0011267701020428501,-0.001681400936995556,-0.0010989843201605525,-0.0011567642665890755,-0.0011194083708833753,-0.0012054262059529846,-0.0014043320010451847,-0.0007231540408166921,-0.0011588510875305668,-0.0010985386648831549,-0.0011507544598656284,-0.0010975317710192178,-0.0012560205543664224,-0.004105508249404096,-0.001101732136570077,-0.0010976306284354196,-0.0011385636607844651,-0.0013528022104005828,-0.0010984894732692652,-0.0013797000162682604,-0.001097633971218668,-0.0011069255015813916,-0.001145643858100385,-0.0013554136327950561,-0.0011028436333522984,-0.0010974882198087614,-0.00109771633131587,-0.0014476536934070405,-0.0010974865241941453,-0.001097488238493538,-0.0011263621043326338,-0.001097486553933269,0.001095216331149434,-0.0010975664670694702,-0.0010974882692029984,-0.0011064736266496124,-0.0009083695466921468,-0.0016278252534548112,0.00793062258224641,-0.0011128834981225728,-0.0015333383531839872,-0.0011075464224071356,-0.0009175180291891368,-0.0013058473601734789,-0.0010976450035200666,-0.0010991438936403138,-0.0007689513904400665,-0.0017075978635688511,-0.001288149767154097,-0.0010995306746096345,-0.0013738557077527793,-0.001123481535822856,-0.0011215485054830298,-0.0011944161770320624,-0.0011020688704476752,-0.0011022300503816132,-0.0011154456444769677,-0.0011013452089262004,-0.0010992310676795419,-0.0011113020957359634,-0.0011086740636775448,-0.0014325529955238059,-0.0012521781443119422,-0.001173410599353955,-0.001102820596702558,-0.0010997657562326257,-0.0011763830973413188,-0.0011459388750199105,-0.0011102581187547869,-0.0011601141811291387,-0.001525092783715638,-0.002152349116929004,-0.001133405555927471,-0.0011142840319499252,-0.0010974919003389394,-0.0011424540910338454,-0.0010974870969411173,-0.0011775333377786528,-0.0011586901929552405,-0.001109497299470787,-0.001331680450016649,-0.0011133750225296355,-0.0011123153040680574,-0.0011148506377038666,-0.0011650788919141863,-0.001162424842496795,-0.0010995813746624112,-0.0011663367095987554,-0.0011996215053121943,-0.0010974890284076767,0.0004385239335802499,-0.0011606578477543338,-0.012675805064144105,-0.0011531481928749678,-0.0011824350319725742,-0.0011090961185576936,-0.0012193096946725972,-0.0011028324563589844,-0.0011016094065517317,-0.0011283535056736097,-0.0010982936021833411,-0.0022012556317081043,-0.0017501527264370462,-0.0018954876602204187,-0.0013383681756664267,-0.001098989721083402,-0.0024846959774355933,-0.0011169429632568984,-0.0011132869977525186,-0.001115718596024742,-0.0011057105940654698,-0.0011380390464178374,-0.0011046590372350321,-0.0010995051522329938,-0.001347407076342564,-0.0011640003092578245,-0.008526828999278953,-0.001176036381118459,-0.0013503567545263024,-0.001644801496970065,-0.001152796123156281,-0.0010985999339615017,-0.0011073871876941196,-0.0013584221154724712,-0.001859103492497208,-0.0011146782722551505,-0.004097167879926883,-0.0010980234110128922,-0.0011290829833654652,-0.004109081154196324,-0.0011051356423016356,-0.0018765471020006543,-0.0011052261258825216,-0.0013034436443267606,-0.0013212195575412135,-0.0010976287520522913,-0.00127521680454962,-0.0011007466688845746,-0.001257584483324926,-0.0016456515376945,-0.0016150664108887383,-0.001108944727303436,-0.0017234185526389617,-0.0010974891371358015,-0.001103687871609383,-0.0016493865664595048,-0.0011353793426308613,-0.0011954962114020422,-0.0012469750991308214,0.0002574645935235203,-0.0010980858527780946,-0.001078892296200138,-0.001135943086787184,-0.0010991779706773697,-0.0010975206022872134,-0.0011412029205019117,-0.0011275932176966312,-0.0011032695089965826,-0.0010980530778842814,-0.0010976419726486596,-0.0010991422304675773,-0.0011566687492952493,-0.0011304040578716317,-0.0010984963428822068,-0.0010976340653291432,-0.0011030780574194836,-0.0011134696451393044,-0.0010978183221076892,-0.00109752827187333,-0.0011499189342836218,-0.001172376202181105,-0.0011876377715975236,-0.0011085514067162294,-0.001101790645765428,-0.0011493647364774215,-0.0010976154829986404,-0.0011101035323853757,-0.0011148604428199195,-0.0010976711703539845,-0.0011340741932704254,-0.0011100669462913032,-0.001100219844174399,-0.0011120693200523956,-0.0011748472052770429,-0.001160047608238511,-0.001103823242186648,-0.0014307390023742053,-0.0011024068291756203,-0.0010985539154972333,-0.0011077997926422917,-0.0011150453825560737,-0.0011026440168339364,-0.0011448895094608477,-0.001112655365861826,-0.0011195013658468083,-0.0010988852343360928,-0.0012532153964045294,-0.0011305564975152955,-0.0011095195429164457,-0.0011010965182721832,-0.0012208746036779107,-0.001140845634867555,-0.0011345446436912422,-0.0011067671190159315,-0.0010991754642893543,-0.0010987555789374504,-0.0011186317549828578,-0.0011376926014031276,-0.017693564317269837,-0.0011517239941143157,-0.001097686655750378,-0.001196500713541163,-0.0011160388678800543,-0.006360753064478178,-0.002027210361730212,-0.0022940603366714213,-0.0013895307525279915,-0.0010989778112955111,-0.00114642849335663,-0.0011135248408823207,-0.001103017136321246,-0.001133621361404554,-0.0011188521622243275,-0.0011289306135623092,-0.001928254017095244,-0.0011138739897490365,-0.0011914524928187172,-0.0010976077457667422,-0.0011407688965288888,-0.0011293628668823635,-0.0012025355635216447,-0.0013680140445698724,-0.0011986078240493452,-0.0017643284712982102,-0.0013701006936924093,-0.0012719212712489732,-0.0034048170538973064,-0.001111815064251227,-0.001517817991324371,-0.0011169063740775645,-0.0010977193870800159,-0.0011611192893980907,-0.0011032049528742324,-0.0011021054686717936,0.0026979356617168404,-0.001119489128555577,-0.0012057487612333474,-0.0012272938736776358,-0.0011023800274759415,-0.0012867336098855273,-0.0011435264020474773,-0.0010991966912668593,-0.0011124223972341259,-0.0011125607650433978,-0.0011632654000219877,-0.001110227385933947,0.001499360401991178,-0.001097964665332898,-0.0010997560543321745,-0.0018716692169093738,-0.0011828608176373788,-0.0011018329178322773,-0.0011061842858923132,-0.0011634620601549976,-0.0011255248614243133,-0.0035574939079304397,-0.0015655351653948693,-0.00129634040317598,-0.0010974888396174587,-0.0012853740005511168,-0.0010975103081901905,-0.0011035397647647762,-0.0010983792797692991,-0.006278959030913218,-0.0011108578843743908,-0.0011056626214398409,-0.0016882208259545914,-0.0016901458644291954,-0.001149215006240341,-0.0010975831891843054,-0.0011006528091046942,-0.0011359380756532963,-0.001144334141120843,-0.0010980593008436596,-0.0011013854316636528,-0.0010979898347188498,-0.001129054648624333,-0.0011002074973817642,-0.0011048736182253628,-0.0011508228800681804,-0.001375038062203994,-0.0010975659218123714,-0.0011096172424270687,-0.0011059765284182886,0.009078147713616182,-0.001117214300030498,-0.0018587937722333054,-0.0011128253962147548,-0.0011436323452169866,-0.0011315494340199434,-0.0021838695969894216,-0.0019651707770292205,-0.001107963036929529,-0.0011174047854243278,-0.0003676033904158257,-0.0006159755316460429,-0.0011455766512165192,-0.001137149151752333,-0.0018030327355245894,-0.0018588360168294393,-0.0020549711631129407,-0.0013398623023344175,-0.0012339086198880163,-0.0011143738576038557,-0.0010630917979985656,-0.0013252588463973276,-0.0019011595123202508,-0.0011555952332132902,-0.0025354378398806175,-0.001143386206572053,-0.0007827569556176885,-0.002422662515720475,-0.0011709200848365753,-0.001153946162249778,-0.0008269457223799226,-0.0011138093031011435,-0.0017557574562728905,-0.0015265847162014188,-0.001413083581611165,-0.0012661525308443014,-0.0001432725268843229,-0.0013423647351902663,-0.001098803436609244,-0.0011054715057156478,-0.001103535812455842,-0.001145780916165558,-0.0011110567887355895,-0.002763907630156566,-0.001177073015575874,-0.0011421159394342983,-0.0013809383832241661,-0.0013274626813360483,0.016652005619617345,0.012047159044089538,-0.0011406583625397707,-0.001327915629865447,-0.0011038812116091993,-0.001108855649192532,-0.002276105895012661,-0.0015104183121685134,0.003438127543801715,-0.00273377486716722,-0.0011105338269494912,-0.0011380197915811174,-0.0011090980517242713,-0.001602473272987026,-0.0011081778894394257,-0.001114056966389326,-0.0012548888840813869,0.00044759275606493193,-0.0011157517306666159,-0.001090509928714008,-0.003348934679082823,-0.0012142579404144527,0.0034759410273026096,-0.0011083092034526244,-0.0007680207414957861,-0.0011107707448089804,-0.0010999811596346019,-0.0021083075558465977,-0.0010994893765209706,-0.002303100454798973,-0.0013553105449216835,0.009200483649937115,-0.0008043598229166395,-0.0012118698835140642,-0.0012750231000936846,-0.0014786634034886983,-0.0011013644693664947,-0.0011195402731585201,-0.0012984223146621232,-0.001516237797845825,-0.0016951986974874354,-0.0012343830501110088,-0.0013117614441757967,-0.001118483181410128,-0.0013099956766568866,-0.00046270383156043365,-0.0029479622867928505,-0.0016135169931129293,-0.0011028454694386105,-0.0017147848901450911,-0.0011011595364549681,-0.0013140817241395655,-0.003517358962359128,0.0006470514138900811,-0.00154018444873931,-0.0012048164785206927,-0.0020060234653203122,-0.001209770243838185,-0.0017179577603595134,-0.0009632232718125119,-0.001126257410646631,-0.001102362927855188,-0.0020250197183666516,-0.0011003563878968909,-0.0012009221420417725,-0.0012841740752300452,-0.001103683982141629,-0.0011171282167696155,-0.0024894513584294542,-0.001107564434280147,-0.0016707694875134685,-0.0011386717234718694,-0.0011605419293302243,-0.002005455428090325,-0.001101320082947593,-0.0010987879545150377,-0.0012197981631264397,-0.0010975612416218932,0.010301440894163433,-0.0011021600408111197,-0.0011037603330096668,-0.0010989552217027753,-0.00173209614104644,-0.0011402434288674177,-0.0011250165571262138,-0.0011103701366519429,-0.0014961136477904128,-0.0012774394782317968,-0.001097688454847464,-0.001097619794226345,-0.0010974866358416534,-0.001100127056209567,-0.0012439368101657394,-0.0011274563788357672,-0.0010978325536181081,-0.0010975363633854824,-0.0012208446983024133,-0.0011511436372914608,-0.0010980727393681258,-0.0010975115736700021,-0.0011721702695934296,-0.0011006254369362025,-0.0010978555136310407,-0.001206947280301805,-0.0011167846920801614,-0.001370825864724754,-0.001100136320255724,-0.0011022243977209187,-0.0010974881555408404,-0.0010975081327364651,-0.001097488361450409,-0.0010974943970238804,-0.0010975190940501465,-0.0010983410212925964,-0.00129038970236616,-0.0011056706138275383,-0.0014328016743758514,-0.0010996200815773733,-0.001097486514408491,-0.0010975218189899737,-0.0010976660135416894,-0.0015968450965987905,0.008526597644586782,-0.0011008690490576613,-0.0011746277928524063,-0.0010979852010352183,-0.001196678843656332,-0.007921667096479587,-0.001128920156034978,-0.0010975134040123974,-0.00109749830182325,-0.00124439099417686,-0.0010974866394990622,-0.0011174871344592399,-0.0010974912947137008,-0.001100098028712497,-0.0010983003230000963,-0.0012155458596054736,-0.0011619395046953023,-0.0010982710044258718,-0.0011046993673968042,-0.0012006288880769204,-0.0010974926960347323,-0.0010975505189354878,-0.0011579747857639968,-0.0011230611587822307,-0.0011071301350294182,-0.0011859016824091874,-0.001100021269565903,-0.001099929762578324,-0.002574623750930935,-0.0013806643428270979,-0.0011305089144990697,-0.0011514777822501175,-0.001097506131697841,-0.0010989320367192088,-0.0010977300746146587,-0.001168541190656393,-0.017608349208957385,-0.0011020191401721325,-0.0012069674427515708,-0.0011973000410256751,0.004305522567517216,-0.007587083309081432,-0.001102540828835354,-0.0011038466913484242,-0.0011008556129430199,-0.0011104433086200336,0.0007462417495981744,-0.0010975056621158052,-0.001098473324545667,-0.008107530231627823,-0.0010989641035034276,-0.0011560436321800137,-0.0010975060171731468,-0.0011965420857458606,-0.0011468313919530838,0.000914525034463787,-0.0013200422523529432,-0.0011415863686484306,-0.001103743167071532,-0.0011028478572603548,-0.001098097708071104,-0.001098017775549668,-0.0010976933668851022,0.008981574078902215,-0.0010977816488076846,-0.0011222801812894355,-0.0011181613626968228,-0.001098547134752509,-0.001110771492201647,-0.0010993335442859608,-0.0011126060597570354,-0.0011008128496868457,-0.0010975327726265274,-0.001097514895809441,-0.00110374580660454,-0.0010988073369876095,-0.0013448255815768418,-0.0010974893020621558,-0.0013513667112629558,-0.0010974909381877573,-0.0010997736249832941,-0.0010974921551087874,-0.0008256890010228579,-0.0010979508495180248,-0.0011820591039833916,-0.0010975098956960624,-0.0010974877485877938,-0.0011121870418688532,-0.001482566403234826,-0.0012852273169814282,-0.0010975580664663058,-0.0014167328581177968,-0.0016043531773887447,-0.0011136701866961008,-0.0011049622887213582,-0.0010975424927846238,-0.0013958296327222662,-0.001123486569911704,-0.0015094455956433266,-0.001116662757556281,-0.0010975324895154445,-0.001127443025578347,-0.0013869008892427167,-0.0011005407792819219,-0.001234335749473268,-0.0010976986798093477,-0.0017551533281309599,-0.0011010967716205786,-0.001386406135774898,-0.0015740416093540921,-0.0010977060769809814,-0.0012261398838495725,0.003052228526324312,-0.001139213553142561,-0.0010975104207714523,-0.0010980363112372722,-0.0012711314665836916,-0.0011342642122720774,-0.0012323989890706043,-0.0011145841347540326,-0.0010986068666789946,-0.0011214387298273763,-0.0010975080720841827,-0.0017951232052922528,-0.0011044572624009704,-0.0010984379851262144,-0.0015545998565327092,-0.00110766617136903,-0.0011361335636639618,-0.0011347547221663005,-0.0013585849130370476,-0.0007233603420947393,-0.0011496019786022126,-0.001906909042699218,-0.00110573450703891,-0.0011003365187592813,-0.0009956409747125111,-0.0010977086984516073,-0.001177786908661453,-0.001126717021383205,-0.0012580093568275638,-0.001097618324995982,-0.0010975353269051392,-0.0010974885026199337,-0.00109748724829124,-0.0010993235877601176,-0.0011204263000348764,-0.0011168002511354343,-0.0012762933906074686,-0.0010981393411043064,-0.001104920707722619,-0.001147504287489386,-0.0011040815675284943,-0.001097985868566307,-0.0013035631692453714,-0.0011376160464811097,-0.0010996051864097624,-0.001097612886348919,-0.0010984561735894898,-0.001106437265010946,-0.0010632968169433583,-0.0014485707431231214,-0.0011008100616960001,-0.0010994464963264387,-0.0015549241005782916,-0.0010988160820460222,-0.0012321294651081545,-0.001098246180000096,-0.0010975550392732275,-0.0011020559728417874,-0.0011478438593009244,-0.0011467422952334935,-0.0011097037904359086,-0.0010975006534525197,-0.0011570134161563782,-0.0011433158830001682,-0.0012270541376143223,-0.0013745439101572805,-0.0010981073954131361,-0.0011426379768794202,-0.0010976992180714341,-0.0011997890790229812,-0.0010999184497501335,-0.0010998079106385563,-0.0010991615454211455,-0.001099525231680286,-0.001110591871143607,-0.0010994230932266354,-0.0018123059007102975,-0.001108273070330769,-0.0011011698282266781,-0.0010981571839417295,-0.0011015363036288837,-0.001116768579912089,-0.0011292458930806687,-0.0011621305686742324,-0.0010976793382082865,-0.0011774099505139901,-0.0012772702923246415,-0.0010980836584296662,-0.001102141835140167,-0.0011014849324531256,-0.0010977976682208786,-0.0013690827963477486,-0.0010994265271314233,-0.0010996955992315627,-0.0011218437739517002,-0.0011316243736276112,-0.0011360881200122048,-0.0010980696627346665,-0.00109792346381519,-0.0010985784914194893],\"z\":[0.0020585871867936666,-0.0018029758450849307,-0.0017861353925436292,-0.0018507633020629001,-0.0017829135321424348,-0.0017789121444710349,-0.0019679082520384656,-0.0019297144135455371,-0.0017788602197158188,-0.0017786969549109855,-0.0018295767431192934,-0.0018282132702567766,-0.0017977245981351858,-0.001846071552231642,-0.001994331250265199,-0.001971943443985633,-0.0017815274842400335,-0.0017930718118621496,-0.00178024355383753,-0.0017829541325283167,-0.0018046701309732127,-0.0022966910328829234,-0.0020042099472841806,-0.001792695887320574,-0.0017808605572154526,-0.0018279509289347556,-0.002307546847518047,-0.0017839310188366131,-0.0017787522246780045,-0.0018106787865284878,-0.0018418894299697544,-0.001779138112886171,-0.0018744688681244172,-0.0019404626676400383,-0.002011263324244224,-0.0019486990885602253,-0.001848208258046346,-0.0017787184217608286,-0.0017788327968821275,-0.0017970306202053667,-0.0017912014674911268,-0.0026674835732331008,-0.0018188900581277909,-0.0017995039531900029,-0.0018805341443654557,-0.0017821658747291416,-0.001778732764592301,-0.0018715057846317063,-0.0023185313692070542,-0.0018365364116673937,-0.001793577499944209,-0.0017959089782545996,-0.0018332469465514574,-0.0017786861729468622,-0.0017787364126228577,-0.0017981296714199202,-0.00206958476034167,-0.0017860825443421866,-0.0024147667323479805,-0.001792849237680273,-0.0018599843623254946,-0.0017845251029852173,-0.0022141418355785666,-0.0017986626542112582,-0.0017841378623229811,-0.002506552002244028,-0.002317175758026103,-0.0022664296519442533,-0.0017879567733735619,-0.0017852801042774838,-0.001940678134978199,-0.001851179355667696,-0.0019405370158474663,-0.0018066457223513746,-0.001780293643729686,-0.0017899031174238589,-0.0018253045778103677,-0.0017787987325572237,-0.0018411198381393407,-0.0014950428066389987,-0.0018442528398939532,-0.0019590796977521923,-0.0025755671890910787,-0.0019788080629305283,-0.0018497299056099757,-0.0017921958474406668,-0.0017793169966467172,-0.0017787065370486418,-0.0022710287921156886,-0.0019015758116029534,-0.0018159360682200492,-0.001860300970276757,-0.0017799534770759086,-0.001820897117847287,-0.0019520418464423332,-0.0017804703446247835,-0.0017792888184175791,-0.001814351725859113,-0.0017833673889808236,-0.0016888829636832856,-0.0018125364569420944,-0.00178216343848868,-0.00189128100746363,-0.0017790329859192567,-0.0017812004915409923,-0.0017818528886650571,-0.0017839345391593153,-0.0018443480025527783,-0.001780501991150421,-0.00178745926786941,-0.0018178208368713814,-0.001979800636451394,-0.00185240626185194,-0.0017787069164275518,-0.0017946810442701737,-0.0017851021863682268,-0.0017935723457438134,-0.002058959528892607,-0.001793967309249916,-0.0017994256896246117,-0.0017787570554389232,-0.0017791802639259384,-0.0017755120375619734,-0.0017790651875604988,-0.002833138181910002,-0.0017786903785878944,-0.0020000195754281288,-0.0017788863219169982,-0.0018407347781920697,-0.0017783732489778884,-0.003021745356819558,-0.0017923612603884848,-0.0035558993650691376,-0.0017788877565612883,-0.0017788508631530712,-0.0021839416028603276,-0.0023560467961893355,-0.0017836907788044744,-0.0018134309420206446,-0.0019666461535834904,-0.0018673161788664875,-0.0018525002054125036,-0.0018474821510425846,-0.002282525344492314,-0.0019550537133840255,-0.0019036075138985223,-0.003928534209364273,-0.0017843095462143578,-0.00178442669905583,-0.0017890949322020547,-0.001822089916494361,-0.0018747150739410862,-0.001779728198119681,-0.0017998343116352683,-0.0017952108024673875,-0.0018346680233050675,-0.0024897037758832095,-0.001794777035626334,-0.0017787676731983453,-0.001936737508249922,-0.002214862932223409,-0.001778835239638217,-0.0018718091054633064,-0.002740854384228317,-0.002814272138286575,-0.0039034897510350367,-0.00239982275053556,-0.0019505366462614152,-0.0018140690663518992,-0.001955525645514231,-0.0017787598254018471,-0.0018096684117975762,-0.0017843053775931101,-0.001975817489114152,-0.002504154827390002,-0.0020344820025524073,-0.001851640576875387,-0.0017848130909607555,-0.002276194811077265,-0.0017912050109678297,-0.0018211924906259946,-0.001909114010062581,-0.001813797770287081,-0.0017890288333796411,-0.001812356814966073,-0.0018604399146436503,-0.0030128598454649772,-0.0017920848293573456,-0.002134344286191901,-0.0019133246944585882,-0.0017946275734917602,-0.0017787042689091927,-0.00177980362646887,-0.0018276544093595011,-0.0017817278478512485,-0.002591922646988447,-0.0024537661682243095,-0.002883981345691236,-0.0019708057341307583,-0.0017845301355861164,-0.0018082622498257293,-0.0019700800228745685,-0.0035920244219553943,-0.0017789173846649417,-0.001977716509982261,-0.0017795195123918865,-0.0017803865515685605,-0.0017913159007722798,-0.001786461395845501,-0.001784525413575348,-0.0022859610258976594,-0.001781818159585765,-0.002416523123123123,-0.002036054631020777,-0.0035392272011347432,-0.001782855278716418,-0.0017839425634741575,-0.0018281782963268536,-0.0018284723975672173,-0.0018466703509282456,-0.0018112778131585754,-0.0018470957887955397,-0.0017996718786385223,-0.001860305639777642,-0.0017792162314425963,-0.0020498053548999693,-0.00180878361212855,-0.0018224198047837813,-0.0020443124540002935,-0.0006536332391096288,-0.00293783222611575,-0.0017836035894995017,-0.0023345267704374525,-0.0018020420214415432,-0.001852754595408064,-0.0018511035188485182,-0.0018227515877827255,-0.0018251188427508738,-0.0019733234458191172,-0.0017902297867839225,-0.001780820885178204,-0.0018671986539347046,-0.0017833991262272452,-0.0018545058714366453,-0.0017830683723999308,-0.00237096011221378,-0.0019423972577392351,-0.0017791846582427791,-0.0017814844569270531,-0.0017846936773573572,-0.001980482550143415,-0.00178496898106145,-0.002866165607134644,-0.0017791864621233859,-0.00177891190252696,-0.0018201445074339266,-0.0019295915316394933,-0.0018716597009118697,-0.0020384125097217673,-0.0023150945737017,-0.0021131063232216,-0.0023032872351107783,0.0011965024820085213,-0.0017999118906972548,-0.0017821143354380868,-0.001780492673325227,-0.0019848710433237955,-0.0017814719963993692,-0.0021818243160703424,-0.001800665040303928,-0.0021159932688405896,-0.0017973668260894847,-0.002611777890907825,-0.0019174114002770714,-0.0017900784461630402,-0.001812925502757203,-0.002450782644541165,-0.0017859148836973195,-0.0018260532710220267,-0.001955449131377242,-0.002078542835396838,-0.001915915357460723,-0.002173222862634077,-0.001791983121041136,-0.0017788638015012199,-0.0018165735372348507,-0.001807214472266512,-0.00202605103152444,-0.00192281106026165,-0.0017846539818624921,-0.0026743117453573344,-0.001860261004896763,-0.001800618929825896,-0.0017808592700399818,-0.001786595648191016,-0.0017789063679993114,-0.0017803485291284734,-0.0021377472289753553,-0.00180453672355765,-0.0018328039167971003,-0.002075230544354778,-0.0021610901914669365,-0.0017892095952188795,-0.0017787309320263745,-0.0020833972287207106,-0.0007140777128738815,-0.0019461948462480524,-0.001783421358125399,-0.0020329827828118145,-0.0018622517470207687,-0.002346864055587034,-0.002308361798238292,-0.0017868119984677411,-0.002065007309899345,-0.001778601713301537,-0.0023162515294553403,-0.0019057698245494301,-0.0017850047595338076,-0.0018327899978110203,-0.0020361813830373906,-0.002696638575806908,-0.0022719543642426335,-0.002471684472971737,-0.0028527873536404857,-0.0017807512909653188,-0.0020082500056319767,0.00322438741731493,-0.001778856111243858,-0.002696670102685105,-0.0019459928683435413,-0.0019276680351284338,-0.001996077250717709,-0.001813476357007802,-0.0024603819806162624,-0.002198759654401114,-0.0023062797527253947,-0.0017256311926121583,-0.0019467119995263537,-0.0018097326622799055,-0.0021581294972466657,-0.001837522174611524,-0.0018226892819208176,-0.0022032595891969854,-0.0019562241601922097,0.0032689232706895354,-0.0019229494992469354,-0.0010428264644884628,-0.0023355305476989007,-0.0018034204274264029,0.01046799465356767,-0.0017822395937776522,-0.0024167213157424605,-0.001782574444604001,-0.002116486969478462,-0.0017819230668871138,0.008731388960571834,-0.001960660849543367,-0.0017851256817327439,-0.0017831770147141847,-0.0018214569348052284,-0.0025466893408404743,-0.00208961531908768,-0.0019854771535941403,-0.0017789910372175372,-0.0017792950598192255,-0.0018360642340765861,-0.001796133989106275,-0.002190995062921497,-0.002267619690479564,-0.0018841494318774183,-0.0017830056976727133,-0.002350525136464262,-0.002069142274073813,-0.00178118720892085,-0.0017956770952959613,-0.0017895042583375527,-0.002563384291279592,-0.0028010840283000716,-0.0017786984834527047,-0.001779590232554878,-0.0024299172042825195,-0.0017996988245273617,-0.002009180221721167,-0.0017896886669465757,-0.001825836329464211,-0.0018948181343393033,-0.002079525267572229,-0.0017950436948920088,-0.0018190491163764633,-0.0017792559463260748,-0.001958568485309853,-0.0017883780350104316,-0.002290777495605426,-0.0028813206014071035,-0.0017876783339319633,-0.00183734100724214,-0.00332406239250505,-0.0018353487742979744,-0.0018362752395636535,-0.0017806426399084446,-0.0018294074995731052,-0.0018190538966792813,-0.0017789974231435294,-0.009431461699539095,-0.0017929366823969683,-0.0020566471106300147,-0.003409719517555327,-0.002531191747496968,-0.0018053082210659174,-0.0017786919105641952,-0.0018140654486668319,-0.0018308005747036658,-0.001894732911497041,-0.005814140558502995,-0.0017786907833991044,-0.0020845407811674317,-0.0018358201650994664,-0.0021081408060286064,-0.0017851212744830476,-0.0018085668358591878,-0.0017790691914438598,-0.001778686972220775,-0.002010067730330619,-0.002006004834894015,-0.0017829888804238164,-0.002403335359083226,-0.0017805550027533818,-0.0017808448744187813,-0.0018205168511710537,-0.0021405395498945486,-0.001778857909985836,-0.0018398615599608589,-0.0017791542179980866,-0.0018450080789353285,-0.00345896592979994,-0.0023410057212175832,-0.001785367124627036,-0.0019214277440541296,-0.009673932196088884,-0.001779010318717924,-0.0018104075210065935,0.005628860601454998,-0.0031149387738328574,-0.0019410126937391893,-0.001778799828253305,-0.001804907562915942,-0.0017968652089134609,-0.0020279866266335535,-0.001801959263405376,-0.001802237516433294,-0.0019788322861640823,-0.002856500083372882,-0.001788572238678335,-0.002294224308538391,-0.0017972795190321239,-0.0022888892846630064,-0.002355464619796941,-0.0017786900581927233,-0.0022149163465354773,-0.001885520078233675,-0.0019668662131068233,-0.001783999932470438,-0.0017791707197367473,-0.0021045434341226943,0.0015286513011478515,-0.0017947514231375877,-0.001826128745123776,-0.0019117550760858462,-0.0022200820538372606,-0.0018044851519777212,-0.0022727032914659057,-0.0017788073361889865,-0.0018396471628029931,-0.001786578789599548,-0.0018497747749099476,-0.0018037554196628993,-0.0018326630314093595,-0.0017900520362346898,-0.0018146028106272463,-0.0020467593948943754,-0.0017801110215152,-0.001784677775445519,-0.0017787093079465225,-0.0018792412660934284,-0.001821751964084864,-0.0018244354228248824,-0.0018346075788140787,-0.0018297270854382346,-0.0017930056333485996,-0.0017787086873844468,-0.002714026386280261,-0.0021990081541833945,-0.0017786871934051918,-0.002699868639562703,-0.003536475425658639,-0.0019495754684985044,-0.0017791666594963998,-0.0017849268977959858,-0.005059050986825349,-0.0019434533215118544,-0.0017791573784098835,-0.0021683822275162237,-0.0017786904241283911,-0.0018068377780026765,-0.0018632524508410463,-0.0018260224321705433,-0.0017791708784004752,-0.0017898212461594178,-0.0017813571363096486,-0.0017867570779052531,-0.0019596628528043706,-0.0018003997718406516,-0.0008186537448175094,-0.0018035630885639645,-0.001892665660954192,-0.0017801641980199716,-0.002664668617624218,-0.0034809986098941555,-0.0017962367330112013,-0.0017806865393498795,-0.0019529228747223347,-0.0017789110299387307,-0.004688414351711605,-0.0017871382897565965,-0.0017788355206417442,-0.0017791314709391913,-0.0015443218632455985,-0.00197158153273362,-0.0017937392613494145,-0.0017886789099895214,-0.0017799358077142389,-0.0018221049741010506,-0.0018380296226038599,-0.002045618683681486,-0.0017890487965039603,-0.0017792717396901759,-0.0017799220447920038,-0.001849039041107026,-0.0018136142821704652,-0.0017824603931581211,-0.0018141563526611441,-0.0018453339014132266,-0.002129671214034749,-0.002007607831161162,-0.0018737534418769726,-0.0017797798418283204,-0.002473036199857205,-0.0017786961247888886,-0.0017891340178624933,-0.0018541365323517416,-0.0020220464482265167,-0.001832327475686806,-0.0008418502542301184,-0.0017999076681967045,-0.001808491895492598,-0.0018465092535508761,-0.003555999093141931,-0.0018057240327455115,-0.001989532431119594,-0.0018862023381043176,-0.001961255947491406,-0.0018160873372567955,-0.0018790451342962139,-0.0018265904956373178,-0.0017972713715854966,-0.0027448437331616914,-0.0019073095329371942,-0.002609526641137165,-0.0018350687815231735,-0.0017786918700464813,-0.0017998113864067923,-0.0019934991883791093,-0.001986572591474406,-0.002772114424233009,-0.001780866741011525,-0.0018538849829062628,-0.0017786936961896413,-0.002329249253169539,-0.0017789233016649835,-0.0018369969189759683,-0.0019309084358369092,-0.002052067151479722,-0.003306205031136187,-0.0017849421295200987,-0.0017811046293532142,-0.0018038450525281829,-0.0018048788506310226,-0.0018601425206850083,-0.0017807234933622225,-0.0017963657300250652,-0.001780912600626843,-0.0018235824700417323,-0.0017795264143283236,-0.0018822458242878483,-0.0017890277446506453,-0.001840328476297629,-0.0018442996482105022,-0.0018838830044100284,-0.002058615963521811,-0.0018631796438026923,-0.0017862690439891238,-0.0017895771549332035,-0.0024971254666650003,-0.0018257226993709597,-0.0018085434944426818,-0.0017789452552998339,-0.001781018899164639,-0.001785502002494769,-0.0018187431551455263,-0.0034717949989439756,-0.001809856574297504,-0.004552156568952949,-0.0034335604276098976,-0.0018969144728280395,-0.0018439800859650485,-0.0017921236065101141,-0.0018681277813947887,-0.0017936032463368053,-0.0018253470277932833,-0.001834470389786506,-0.002646576797662637,-0.0018844110583022323,-0.0018195342048579592,-0.0018032574274893455,-0.002267406446896778,-0.001834577960712482,-0.0018198028026848712,-0.001891655909177748,-0.001847812113864395,-0.0018011173637690352,-0.0017787750848284203,-0.0020622260546284315,-0.0026412866141996287,-0.0017788266762613794,-0.0020958049233982825,-0.0018414742377788288,-0.0018328480113351923,-0.0018137984000657689,-0.0017788469232330913,-0.0018014803770787517,-0.001923554836934935,-0.0018102432500156343,-0.0032541370229988817,-0.002276959748792397,-0.001798233635725707,-0.0018111315661473594,-0.0019161677063161385,-0.0017825944582748538,-0.0020542449762194306,-0.0018211545836950638,-0.0018072990007953766,-0.0017790486034618641,-0.0024087423956499748,-0.001879509992054635,-0.0019395004665300143,-0.0019127541926194883,-0.002199066647987807,-0.0018296618008382345,-0.0018432500962239598,-0.0017945410328224548,-0.0017946763109999851,-0.0018124685689307452,-0.002167552602747143,-0.0020214235817210963,-0.0017786876780305771,-0.0019653981287615727,-0.0019584793623425084,-0.0017863556437027204,-0.001785202969569377,-0.0018072587388408019,-0.0017786871809099582,-0.001825010645628048,-0.0028610913932498147,-0.0017790148774883758,-0.0018371757662196933,-0.0017815035545462998,-0.002522877624033958,-0.0017965463335784747,-0.0017786865095134816,-0.0018904840977238889,-0.002071801404956788,-0.0017809112836239844,-0.00327688474521294,-0.0018763257741496297,-0.0018341126764378681,-0.002671865707897137,-0.0018373950249658618,-0.001779305263712072,-0.0019154456129320129,-0.0017801404089711054,-0.001779985385930898,-0.001778726488839624,-0.0018681973256985333,-0.0019292910530838727,-0.002235013480727229,-0.001627449909510605,-0.001789490533326595,-0.0017811200549258711,-0.002927541633789248,-0.0017843948322350928,-0.0017796991924900693,-0.0017787046371893875,-0.0015075246192107444,-0.001781975999672706,-0.0018979528941414638,-0.0022340093714118313,-0.001972814309617638,-0.0019573819953181714,-0.002259589319361138,-0.0018927689045271855,-0.001778886817198638,0.0035376257093092086,-0.0030516978379311263,-0.0018898759027478915,-0.0018716982545097776,-0.0018463166828621464,-0.00186042401980625,-0.0017937220599473995,-0.0019319350379454546,-0.001790608327960847,-0.0018056031263566274,-0.0017878254274922832,-0.001778940082904811,-0.0017876911013967197,-0.0018787314486132362,-0.002927263203764856,-0.0017997433053461816,-0.0023465791680514917,-0.002348821484429918,-0.0020870169504842552,-0.0017822133406054244,-0.0017845691856697582,-0.0017963049524122444,-0.001912204128501523,-0.001811321604755227,-0.0019014987751907522,-0.001779446806093655,-0.0018521462580132835,-0.00178971371212114,-0.001786694045365704,-0.0019778177074058463,0.006802321543569167,-0.0017795228344389031,-0.0018760866069718865,-0.0018522460044905831,-0.0018627634891827498,-0.0017931807115230914,-0.0023268593863402048,-0.0018249295184601193,-0.0018068985381736395,-0.0018053084111101048,-0.0017838921253191065,-0.001810601163656363,-0.0017929470089856337,-0.0027271660373662616,-0.0018823252308635605,-0.0018174290035865089,-0.0019096846610919145,-0.0017924156599098576,-0.0020800045041900277,-0.0018145414248536113,-0.0020205779995294206,-0.0021191594737590856,-0.0018448487303845457,-0.0021541983402452946,-0.0026095264591134274,-0.001797417405437808,-0.0017844579487913358,-0.0018118854458673375,-0.0017787001118535369,-0.0019212610095905916,-0.0018938714408482712,-0.001863667508700918,-0.001782959405586917,-0.0017793171241442351,-0.0018115006304441962,-0.0018482313742297085,0.1920480695440055,-0.005835513805397207,-0.0017787020346090928,-0.0017839641097313313,-0.003920454008982676,-0.0017792036080370689,-0.0019760530098595023,-0.0017787018840648388,-0.001983362602531901,-0.0019985349676616593,-0.0017813555493651977,-0.0020163735511714636,-0.0018581978623366645,-0.001802395802838843,-0.0019357132595406485,-0.001778728356564145,-0.0018161399703560128,-0.0017787228992576574,-0.0017867184876698171,-0.0017911293138498398,0.005765169080454053,-0.002517422309485893,-0.0018221011973685321,-0.0018017006250555306,-0.0030017430746964954,-0.0019010164617927795,-0.001783364554862452,-0.0017790640743819534,-0.001780884471814334,-0.0016006434828102554,-0.001884170684071005,-0.0017803016644955705,-0.001952967016349766,-0.0018825837139812437,-0.001980200892906178,-0.002459337186255784,-0.0017791412015870588,-0.0017947093768715646,-0.0019064889687073563,-0.0020009767871547795,-0.001809825523798483,-0.0019329936411824071,-0.0017834064448575017,-0.002655101502912067,-0.001812228147631132,-0.002094851541116288,-0.0018406813860729315,-0.0017802360852271588,-0.0017840573308064841,-0.00216664121939882,-0.00176075059634309,-0.0017958067109538813,-0.0020135845142048863,-0.002677211199112434,-0.0022024151807342783,-0.003010995976722101,-0.002219892609807944,-0.0022944552911793254,-0.0017801067701948183,-0.001779789350818963,-0.0018368351200288412,-0.0017813637452471125,-0.0017788826410555611,-0.0031095932457043925,-0.0022512862597915254,-0.0018455496379081277,-0.0017790213882693236,-0.0018655188782276384,-0.0018312486610868356,-0.0017955010699462369,-0.0017823952156527517,-0.0019256444157586836,-0.0018215509522902418,-0.0018509675816841102,0.007997427722239119,-0.0017786890380190104,0.021426706170732304,-0.0018601287358103286,0.00570982375296911,-0.0017802793226612478,-0.0018044827087764523,-0.0018247648173579196,-0.0021973690542897465,-0.0017822015007579117,-0.0019021694766527437,-0.001807190993892533,-0.0018116546851187985,-0.0018285066904278765,-0.001870094548276645,-0.0012725565577866894,-0.0018165698736064759,-0.0018108577729769356,0.0024897635378891623,-0.0018018986017989307,-0.0021378807228169573,-0.0017820234471040883,-0.0017842805106859881,-0.001780012917832112,0.035736701528612885,-0.001779165045754732,-0.000323510098968348,-0.0019530295691058415,-0.0018195346385774939,-0.0019315497741805474,-0.0019468011762595642,-0.002161479020816505,-0.001788264877917065,-0.0017828878305023341,-0.0033892460264012604,-0.0019153352212533455,-0.0017997809168585888,-0.0019292337591539364,0.022783400173479264,-0.0018606657783787571,-0.0017786887280263049,-0.0019058029677323405,-0.0018821300598994806,-0.0017790509248954629,-0.001816685071249909,-0.0028877934479116627,-0.0017852646387177555,-0.0018596325538094633,-0.001778699241046395,-0.0017871914272769697,-0.0018116204936524571,-0.001785552236399801,-0.0017805825598118904,-0.0018102897763158916,-0.0017786908746956574,-0.0026440026072601344,-0.0019745835225815607,-0.0018324420695137685,-0.0019283149624313618,-0.001798516333937244,-0.00242265852539047,-0.0019704736027709377,-0.0017793456610953138,-0.0026725517751641963,-0.00013067773078513672,-0.0024488312128237936,-0.0017858420622190166,-0.0017948137946015785,-0.001956006713039679,-0.0017820760485693509,-0.0020602007912908023,-0.0017828030451877304,-0.0019050104078685132,-0.0022287110195500746,0.007597809758254577,-0.002607080499142886,-0.0022753537663572866,-0.001794384295116311,-0.0018076848069992861,-0.0018051570629857632,-0.0012157125538452603,-0.0020733387011170113,-0.0017820941003062955,-0.0019046143585382941,-0.0038226732090842655,-0.001847071275548296,-0.0018358560205070915,-0.0021066473340972123,0.006571287134133021,-0.0018202839552138982,0.010743027218716698,-0.0018085168103420671,-0.0022409619979407835,-0.0019174796770517143,-0.0017823737409611612,-0.0017978801429193586,-0.0017835354874436403,-0.0019435651290302743,-0.001837668257485391,-0.0017798259459690898,-0.001778865396369592,-0.0020444405451803234,-0.001970572953345603,-0.001904780437656633,-0.001893160632686428,-0.0018652601579381611,0.015513308855560886,-0.003444087491654317,-0.001905287152149332,-0.0024234663931344295,-0.001994918060649836,-0.001795339697312968,-0.0018260041734963549,-0.0017793840793405619,-0.0017810583056492627,-0.0018538178815682832,0.0004071359430348282,-0.0013465064802388816,-0.0015637433921569873,-0.001804239357194527,-0.0018853460722936602,-0.0018416303091477024,-0.0020522215944488186,0.004310419376995343,-0.0027084373088366656,-0.0018279352397205155,-0.0018619321298382115,-0.0018054090545225625,-0.0018654348571003673,-0.001870784630815011,-0.001425869168481384,-0.002404819437023518,-0.00227424074467145,0.0017613353283130611,-0.0017786901169349364,-0.00216654244745225,-0.0028946064679959997,-0.001787281358443678,-0.0028671248837835368,-0.001834704039201852,-0.0028178293992708273,-0.0017787218106818296,-0.0018612078140329193,-0.002527902460881075,-0.0018321533117772832,-0.0017837772588760175,-0.001857245730059972,-0.0018524639864436292,-0.0017937524642703516,-0.002501931855194632,-0.0017913171067423486,0.002766373448354956,-0.001856852443571489,-0.0017810897841438918,0.007032706232772638,-0.0017885071586195046,-0.002213079571056301,-0.0025613337539512667,-0.0021865604073402216,-0.0018269922008463152,-0.001840423511995044,-0.001848534849823419,-0.002047454763428145,-0.0018608205804064217,-0.001778981342795837,-0.0018288464753213624,-0.002353268405548849,-0.0018197654615306894,-0.0019893542418792007,-0.0017819671611546332,-0.0017821127533899387,-0.0022559981292588245,-0.002315566156553452,-0.0017786862206115863,-0.0017708604894702356,-0.0020474499194069514,-0.0019949200733754297,-0.0021811270115898473,-2.0624571016822046e-07,-0.00178645835454106,-0.0019394890561151908,-0.0018197778770995328,-0.002138842100855863,-0.0023294408891605216,-0.0007364569279875616,-0.0018919290324075921,-0.0017786865743071255,-0.0017786883587463701,-0.0035589931792162706,-0.001807328387168445,-0.0017975953018912342,-0.0018126564085668231,-0.0023771277379828503,-0.0017788466222829933,-0.002463775791480013,-0.002143775911949421,-0.0017812644243411606,-0.0017791603052979869,-0.0018105147376677362,0.09254053194131488,-0.0019072690059472994,-0.0017852395327133523,-0.0021050787744629523,-0.0017902248629613946,-0.000525617433108969,-0.0018326083673621905,-0.0017808229092121355,-0.0017788257008206744,-0.002076940991787118,-0.001779243093562741,-0.0018783976332659626,-0.001779288177369014,-0.002027757263049567,-0.0018571007683450646,-0.0021288511056950037,-0.001780757652366284,-0.0017787144460346496,-0.0017792456958655328,-0.0017850869320902218,-0.0018125234148888341,-0.001810208751933556,-0.0017788628475059202,-0.0017813647217082276,-0.0018426952149263507,-0.0019357518705416124,0.01514792362491873,-0.0017805463765378164,-0.0017804745357115443,-0.0018395256172773545,-0.0017940567334015652,-0.0017854205679143189,-0.0022944316124460635,-0.0017820495815043056,-0.0019764870962687853,-0.0017789468850896136,-0.0018386606819774996,-0.0018944337428276976,-0.0017791081795338727,-0.001789447662956123,-0.0019144859606263199,-0.002057776477552757,-0.002212727868607141,-0.002736980703299759,-0.0026725194765631417,-0.0017787218806694235,-0.0017791894802173204,0.09532807332048858,-0.001779328492251858,-0.0005397357159276186,-0.0017786872497783117,-0.0018901956793867137,-0.002000985967250008,-0.0017928499891691717,-0.0023594238661391086,-0.0023068899285140997,-0.002099746383015525,0.0006162145854597596,-0.001780314207562609,-0.0019084862977889346,-0.001884726340697268,-0.002112264174648044,0.0464658841705252,-0.001779131993242039,-0.00254188253395139,-0.0023134008918077606,-0.0017962202697097093,-0.001781555664281646,-0.0017786888269539572,-0.0017803347828063048,0.0009634934286406842,-0.0018312352370292544,-0.0029059831191283543,-0.0017813460005145741,-0.0018854070540044695,-0.0018176897892011013,-0.0005671220314322323,-0.002336459957193911,-0.0014849871787643804,-0.001888170724391555,-0.001780560907980229,-0.001875132803607476,-0.0017787663888535405,-0.0021321387636166547,0.009423584017431496,-0.0017863070386005939,-0.0017789419157145916,-0.0018528697421664594,-0.002245495003054563,-0.0017804740014915848,-0.002299565804696688,-0.0017789484382633195,-0.0017954576596761252,-0.0018644355292784895,-0.0022477364136615323,-0.0017882253803812238,-0.0017786890559651214,-0.0017790939323530722,-0.002415100708027472,-0.0017786860342986293,-0.0017786890765745865,-0.0018302508628908743,-0.0017786860864465249,0.0006939276447657516,-0.0017788279810479726,-0.0017786891302794697,-0.0017946426589526077,-0.0020344376821886424,-0.0027651797802483273,-0.004834580857650564,-0.0018061157718296758,-0.0025818404841279003,-0.0017965589715768825,-0.0015800614154797595,-0.0021530846593567176,-0.0017789685305109207,-0.0017816284457797258,-0.0015830985071163199,-0.0029059575738832766,-0.002123861193707662,-0.0017823481546033668,-0.0022792520302241893,-0.001824917330507631,-0.0018229567878776374,-0.0019538673485684217,-0.0017868533506515529,-0.001787118908627209,-0.0018189575511848538,-0.001728664563977341,-0.0017817899505775067,-0.0018032353436045392,-0.0018016566032884194,-0.0024053569625814095,-0.002071330886095732,-0.0019161632516945632,-0.0017881681009597823,-0.0017827316908342083,-0.0019219686846175667,-0.0018653483134466685,-0.0018015074005204913,-0.0018905696334943368,-0.0026133170443655503,-0.003831310189936234,-0.001852561082817978,-0.001808622922181821,-0.001778695575210439,-0.0018588289163782013,-0.0017786870503661827,-0.0019231923471109177,-0.001403991199086907,-0.0018002217311093632,-0.002198657356516841,-0.0018069014532156702,-0.001805030361425803,-0.0018095788698896682,-0.001904028181376007,-0.0018960759494051674,-0.0017824248751064752,-0.0019027662196129881,-0.0019629706789728186,-0.001778690479044351,-0.0021522691492993906,-0.0019027234883034335,0.4525700545553401,-0.0018788575877519604,-0.0019372277186264731,-0.0017993143271489958,-0.0019974741949393333,-0.001788323484549483,-0.0017860121824155963,-0.0018342981588299846,-0.0017801230031011515,-0.0038619464987449466,-0.0030038672988157767,-0.003263841216905862,-0.002218745791965168,-0.0017813591142180187,-0.0003120216002087451,-0.001813323552261856,-0.0018070677242616505,-0.0018111563636594571,-0.0017932969363666426,-0.001851084056722216,-0.001791422406609462,-0.0017822690526285987,-0.0022312882345594184,-0.0019707466024841687,0.18428564151981283,-0.0019202309940228393,-0.002259266103037496,-0.002795267438235653,-0.0018776165178606738,-0.0017806604670617795,-0.0017963164532527373,-0.002256689407601827,-0.003223351219071345,-0.0018094692352891649,0.0024900723353774353,-0.001779653594961463,-0.0018349438603910886,0.0010351000250376256,-0.0017923410083066876,-0.003259568703611972,-0.0017924287330671682,-0.0021575033287807785,-0.002183707824184866,-0.0017787722905592696,-0.0020994135313623795,-0.00178475016596939,-0.002077170189762326,-0.0027966053103658786,-0.0027863426865294637,-0.0017990871902021463,-0.0029674669999301727,-0.0017786841153617106,-0.0017898233038614107,-0.0028134807956113226,-0.0018471556263821938,-0.0019591435356877125,-0.002049513422920085,-0.0018118919733402013,-0.001779749484190449,-0.0018560823498574364,-0.001847224737568377,-0.001781690346501074,-0.001778747983228436,-0.0018563899126001484,-0.0018325610032568387,-0.0017892083415397314,-0.0017796915984802522,-0.0017789619926240508,-0.0017816458501623551,-0.00188451742820842,-0.001838344367544292,-0.001780478355895885,-0.001778948010444451,-0.0017886141507138975,-0.0018077609824512146,-0.0017792931754607672,-0.0017787601501136421,-0.0018726714002807693,-0.0019122977337713161,-0.0019472382511990741,-0.0017984176491110473,-0.001786362065429836,-0.0018709121823742767,-0.0017789177312753297,-0.0018018991339130244,-0.001807321582132353,-0.0017790145315609274,-0.0018441011914189257,-0.0018011197527482848,-0.0017835755512829083,-0.0018048311451537799,-0.0019204103281904358,-0.0018898921268468204,-0.0017900199875294565,-0.002459458495940614,-0.0017874568762299239,-0.0017805892790651045,-0.0017970278714550326,-0.0018100341960524719,-0.0017878468389397936,-0.0018643491631671562,-0.0018057241471556027,-0.0018178076915674381,-0.0017811753772558393,-0.002097905933397232,-0.0018376366959981698,-0.0018000800912191146,-0.0017851035955005674,-0.002007358296923321,-0.0018558735226184273,-0.0018447091317542676,-0.0017952956754883616,-0.0017816847878246117,-0.0017809443632328201,-0.0018163024277989713,-0.0018505720695765697,0.6178992081364247,-0.0018790745390019638,-0.0017790425623516026,-0.0019570677060507234,-0.0018117269417051776,0.1805584054202752,-0.003650743606373764,-0.004223457704208469,-0.0023109814859335006,-0.0017813634456934043,-0.0018668276260887131,-0.0018072757822133899,-0.0017885038208609698,-0.0019760289194750767,-0.0018173763998321662,-0.001835946318132574,-0.0033454747021043887,-0.001807887833726108,-0.001948487244914685,-0.0017789030481327192,-0.0018559104425849133,-0.0018354551288910271,-0.001966157468640305,-0.002284902130294524,-0.0019632099063839935,-0.0030440788934202427,-0.002273075668641422,-0.002091543517080157,0.057524998050327666,-0.0018041326409778246,-0.0026153685506725595,-0.0018132768175258228,-0.0017791011369083752,-0.001892584005306176,-0.0017888696007046215,-0.0017868862930089783,0.0014351881648152305,-0.001821090710243736,-0.0019736381488767805,-0.0020132631864962173,-0.0017876835810304852,-0.0021188300526006334,-0.0018607087411737573,-0.0017390946290443514,-0.0018052127621787132,-0.001805790994063765,-0.0018969891052534648,-0.0018014969549943916,-0.03830505824401857,-0.0017795403297755845,-0.0017827511354859542,0.01595968848355005,-0.0019341721421925408,-0.0017866233178021047,-0.001794131524231951,-0.0018967004026128147,-0.0018288723810089397,0.0737383921182489,-0.002632824128973451,-0.002175936828103435,-0.001778690150546956,-0.002116634578362727,-0.0017787286892812224,-0.0017894593240580436,-0.0017802951308497916,0.1880314703422768,-0.001802461400113149,-0.0017940309211833393,-0.002883407251155009,-0.0028867421097051164,-0.0018719346539502596,-0.001778858088219428,-0.0017843066418447673,-0.0018473835255971784,-0.0018622126956180235,-0.0017797037874476577,-0.0017857078016793094,-0.0017795806973955803,-0.0018349171177602485,-0.0017837676267715445,-0.0017917956410161966,-0.0018737186923788163,-0.0022812712553641826,-0.0017788272129577974,-0.0018008669077823982,-0.0017937617284518503,0.011575785628930468,-0.0018153317453568738,-0.003212473974809184,-0.0018064928065122537,-0.0018686376992973312,-0.0018398249654162848,-0.003876210124293764,-0.00348559021365564,-0.0017974697692969394,-0.001814440657111811,-0.0011616262258497142,-0.0012999518949974157,-0.0018659122663919963,-0.0018493272945688012,-0.00314381212649714,-0.0031963642376139547,-0.003616990642010759,-0.0022538811354609117,-0.0020234190989056834,-0.001809012463511031,-0.0017656563688477646,-0.002190456872659839,-0.003307554077289355,-0.0018831830648375085,-0.004748520105506908,-0.001860459479908877,-0.0014369247853956491,-0.004376905520678337,-0.0019104685958469616,-0.0018796699153841136,-0.0018432417774934227,-0.0018078254104248,-0.003009402171603412,-0.002583474394265587,-0.0023892752361101984,-0.002093830371443939,-0.0011122632767817354,-0.0022197097796332215,-0.0017810245525645405,-0.0017928863782033146,-0.0017894262762866502,-0.0018719381862564509,-0.0018033398123980162,-0.005182262491018145,-0.0019270118514717396,-0.0018580888839996547,-0.002298505941322335,-0.0021992033714832047,0.019774464590209786,0.014799731990031935,-0.0018571403106225277,-0.002220344139439499,-0.001790212001296431,-0.0017990886313610525,-0.0041000606160607805,-0.00259564595148003,0.004319989444491401,-0.00501194366122053,-0.00180235062124083,-0.001850870775208286,-0.0017993995830052657,-0.0027078187735825854,-0.00179772704143721,-0.0018082344837355643,-0.0020807870823300483,0.00021549425336524338,-0.001813620214777065,-0.0019613611521363,-0.006487760709975131,-0.0019878122016178134,0.0044104724904621695,-0.0017984000391972448,-0.0016811207819009562,-0.0018023766546283267,-0.0017831189635507396,-0.003762393721546912,-0.001782242566184646,-0.004145933405519853,-0.002337270700581825,0.010689932965021813,-0.0013755204534842288,-0.0020100942349722943,-0.0021148280780951445,-0.002467646534025595,-0.00184147696612605,-0.001819203398445991,-0.0021550386168267916,-0.002595409213431707,-0.0029123093995728068,-0.002024364282981886,-0.0021666134092293873,-0.0018160749712722963,-0.0021627662969808657,-0.0010708611869458958,-0.005526941457379596,-0.0028090727421625343,-0.0017882102139102245,-0.0030392082705585507,-0.0017852191337017682,-0.0021736324909788817,-0.006823902959402314,-0.0005999897596198943,-0.002584108716557348,-0.001973204374039507,-0.0035181550970928162,-0.0019797869401040574,-0.0029788613102533727,-0.0016472337496559813,-0.0018324468582858128,-0.0017873770735172113,-0.0036167693764647298,-0.0017842506780979665,-0.0019704276462479083,-0.0021394744270480906,-0.0017897246876102959,-0.0018137885379603562,-0.004547477668942689,-0.0017972257747133646,-0.00290593478991129,-0.0018523935983891997,-0.0018911977012779696,-0.0035901198184415963,-0.0017855055564098847,-0.001780996243459301,-0.0020245428727138576,-0.001778818719600826,0.012023195133349608,-0.0017869904122202046,-0.0017900239550705463,-0.0017812930202014922,-0.003139513636287285,-0.0008069739486810471,-0.001828119625938762,-0.0018015866109989157,-0.0025035919042231632,-0.0021143084877283127,-0.001779044795558962,-0.0017789226222830435,-0.001778686216108048,-0.0017833920098605097,-0.002066653889428287,-0.0017651182924272714,-0.001779300159085588,-0.001778774611068052,-0.0020035377397164393,-0.0018747316390117432,-0.0017797413661676995,-0.0017787304847253684,-0.0019343840734577615,-0.0017808338080156545,-0.0017793460256411622,-0.0019743843351015945,-0.0018134192876183587,-0.0022736092929213324,-0.0017833948656968952,-0.001787096884659303,-0.001778688929014642,-0.001778724380010802,-0.0017786893677396417,-0.0017787000106494668,-0.001778744349698194,-0.0017802461935835315,-0.0021448828220784247,-0.0017933440310631827,-0.0026850975200327252,-0.0017824728379484756,-0.0017786860163074643,-0.0017787486894515014,-0.0017790045848123253,-0.0027014518970830048,-0.18622738078755918,-0.00178470034068413,-0.0019167617913939123,-0.0017795714452645364,-0.001956335450454074,0.24357897626939265,-0.00183462712038818,-0.0017787429208532765,-0.0017787069417187205,-0.002042790622186244,-0.0017786862398159033,-0.0018142445448731993,-0.001778694502709577,-0.0017834129745338935,-0.001779960263113629,-0.002001637834655115,-0.001894139153586795,-0.001780079504257247,-0.001791502177514386,-0.0019627986297216307,-0.0017786971059814427,-0.0017787996169990195,-0.0018870956541806676,-0.001825470130660067,-0.00179605341906228,-0.0019405036685446867,-0.00178318617895369,-0.001783024540362405,0.04411693235400627,-0.0023053169230494884,-0.001837487449788695,-0.0018752808911676143,-0.0017787208340615502,-0.00178125208954385,-0.0017791192932500705,-0.0024771613163926056,0.597694314971868,-0.0017867509770333847,-0.0019746912731210754,-0.001957550261787359,-0.0057024639845153656,0.25909594524306767,-0.0017876643213757466,-0.0017899752454164626,-0.0017846977013296927,-0.0018017122838827205,0.03579819336155702,-0.001778720237697075,-0.0017804503088047687,0.21222879147309787,-0.0017813131248765493,-0.0018843944890442504,-0.00177872062815013,-0.0019593256133129977,-0.0018665514499244568,-0.0074569405989838855,-0.0021874243574412943,-0.00186171598572183,-0.0017898243944385664,-0.0017882467023109018,-0.0017797751047736706,-0.0017796292343691148,-0.0017790623137131684,-0.2089159586328554,-0.0017792141543818561,-0.001824877160443806,-0.0018163786626736189,-0.001780574512255688,-0.0018023072719448396,-0.0017819766383651895,-0.0018062346299053578,-0.0017846254555463265,-0.0017787681668841031,-0.0017787364499878139,-0.001789810401477477,-0.0017810309897978557,-0.002232376232241375,-0.0017786909763642979,-0.002513150284055051,-0.001778693866332066,-0.0017827454689631087,-0.0017786960262288006,-0.0016189485233273138,-0.0017795103744373897,-0.0019312838480267497,-0.00177872767883242,-0.0017786882077705766,-0.0018048520139525032,-0.00248703182681132,-0.002121188293682765,-0.0017788130224766108,-0.002356442153581894,-0.003946447113263078,-0.0018075547290248486,-0.0017922419749293894,-0.0017787853691892048,-0.002332052546996272,-0.0018249720530962978,-0.0025498905758935663,-0.0018128666678586829,-0.001778767672990944,-0.001832023635792605,-0.002333076513847745,-0.0017837480831740021,-0.002024340550007257,-0.001779062517304969,-0.0030033040077861103,-0.0017851014549404719,-0.002320879661820657,-0.0026489508020874977,-0.001779075678667681,-0.0020089470560133655,0.002008389220198824,-0.0018531700020574017,-0.001778728586144891,-0.0017796630677348077,-0.002101618669954688,-0.0018441840086162204,-0.002038153374238875,-0.0018091955601217651,-0.00178067433735999,-0.0018219346089583636,-0.0017787242782528363,-0.003077793026337903,-0.0017910638839148082,-0.001780406397786458,-0.0026183395061695766,-0.0017967710165575637,-0.001847395660042216,-0.001805986569984511,-0.0023996895456844026,-0.002404527315066762,-0.0018923737047161387,-0.0033106044443984473,-0.0017933764059060392,-0.0017837493879109558,-0.0019126433423203404,-0.001779099455069757,-0.001904057014145445,-0.0018311746573322788,-0.0020795165512462205,-0.001778919950271123,-0.0017787726367996548,-0.0017786895472806275,-0.0017786873186279965,-0.0017819486984764021,-0.0018201958955497467,-0.0018133014314242178,-0.0021168009315488735,-0.0017798673270393952,-0.001791886392913475,-0.0018689828526241205,-0.0017904091448288123,-0.0017795726425068764,-0.0023513751331274034,-0.0018503405777747306,-0.0017824468955390657,-0.001778912925522435,-0.0017804089407444058,-0.0017948903036316772,-0.001838177948129812,-0.0024779801438679834,-0.0017846317745851073,-0.0017821667128895041,-0.002616833664980763,-0.0017810614484144649,-0.002020457305251463,-0.001779930860774184,-0.0017788076314864429,-0.0017869379087479481,-0.0018690160210478866,-0.0018668526484122575,-0.0017995899262316063,-0.0017787114511772823,-0.0018857217392501057,-0.0018558865239144135,-0.0020142742490910524,-0.002285293994976178,-0.0017797883757143679,-0.0018605401887548721,-0.00177906347167454,-0.0019613867850480815,-0.0017830078608610245,-0.001782870482136835,-0.0017816660835586553,-0.001782319288067205,-0.0018026049468456212,-0.0017821463603457995,-0.003193890733397925,-0.0017979651822213748,-0.0017852449593019988,-0.0017798809945303471,-0.0017858844407392285,-0.0018136921836176849,-0.0018360676332149742,-0.0018969306389072253,-0.0017790282145823196,-0.001930309190335059,-0.002132963851002771,-0.0017797468482720095,-0.0017869550237150534,-0.0017857879553441825,-0.0017792384855543715,-0.002270647870635122,-0.0017821293874608268,-0.0017808902744344292,-0.0018226972503982333,-0.0018395783366499429,-0.0018500775589874643,-0.0017797210968652486,-0.0017794617052587717,-0.001780623946953957],\"type\":\"scatter3d\"}],                        {\"template\":{\"data\":{\"bar\":[{\"error_x\":{\"color\":\"#2a3f5f\"},\"error_y\":{\"color\":\"#2a3f5f\"},\"marker\":{\"line\":{\"color\":\"#E5ECF6\",\"width\":0.5},\"pattern\":{\"fillmode\":\"overlay\",\"size\":10,\"solidity\":0.2}},\"type\":\"bar\"}],\"barpolar\":[{\"marker\":{\"line\":{\"color\":\"#E5ECF6\",\"width\":0.5},\"pattern\":{\"fillmode\":\"overlay\",\"size\":10,\"solidity\":0.2}},\"type\":\"barpolar\"}],\"carpet\":[{\"aaxis\":{\"endlinecolor\":\"#2a3f5f\",\"gridcolor\":\"white\",\"linecolor\":\"white\",\"minorgridcolor\":\"white\",\"startlinecolor\":\"#2a3f5f\"},\"baxis\":{\"endlinecolor\":\"#2a3f5f\",\"gridcolor\":\"white\",\"linecolor\":\"white\",\"minorgridcolor\":\"white\",\"startlinecolor\":\"#2a3f5f\"},\"type\":\"carpet\"}],\"choropleth\":[{\"colorbar\":{\"outlinewidth\":0,\"ticks\":\"\"},\"type\":\"choropleth\"}],\"contour\":[{\"colorbar\":{\"outlinewidth\":0,\"ticks\":\"\"},\"colorscale\":[[0.0,\"#0d0887\"],[0.1111111111111111,\"#46039f\"],[0.2222222222222222,\"#7201a8\"],[0.3333333333333333,\"#9c179e\"],[0.4444444444444444,\"#bd3786\"],[0.5555555555555556,\"#d8576b\"],[0.6666666666666666,\"#ed7953\"],[0.7777777777777778,\"#fb9f3a\"],[0.8888888888888888,\"#fdca26\"],[1.0,\"#f0f921\"]],\"type\":\"contour\"}],\"contourcarpet\":[{\"colorbar\":{\"outlinewidth\":0,\"ticks\":\"\"},\"type\":\"contourcarpet\"}],\"heatmap\":[{\"colorbar\":{\"outlinewidth\":0,\"ticks\":\"\"},\"colorscale\":[[0.0,\"#0d0887\"],[0.1111111111111111,\"#46039f\"],[0.2222222222222222,\"#7201a8\"],[0.3333333333333333,\"#9c179e\"],[0.4444444444444444,\"#bd3786\"],[0.5555555555555556,\"#d8576b\"],[0.6666666666666666,\"#ed7953\"],[0.7777777777777778,\"#fb9f3a\"],[0.8888888888888888,\"#fdca26\"],[1.0,\"#f0f921\"]],\"type\":\"heatmap\"}],\"heatmapgl\":[{\"colorbar\":{\"outlinewidth\":0,\"ticks\":\"\"},\"colorscale\":[[0.0,\"#0d0887\"],[0.1111111111111111,\"#46039f\"],[0.2222222222222222,\"#7201a8\"],[0.3333333333333333,\"#9c179e\"],[0.4444444444444444,\"#bd3786\"],[0.5555555555555556,\"#d8576b\"],[0.6666666666666666,\"#ed7953\"],[0.7777777777777778,\"#fb9f3a\"],[0.8888888888888888,\"#fdca26\"],[1.0,\"#f0f921\"]],\"type\":\"heatmapgl\"}],\"histogram\":[{\"marker\":{\"pattern\":{\"fillmode\":\"overlay\",\"size\":10,\"solidity\":0.2}},\"type\":\"histogram\"}],\"histogram2d\":[{\"colorbar\":{\"outlinewidth\":0,\"ticks\":\"\"},\"colorscale\":[[0.0,\"#0d0887\"],[0.1111111111111111,\"#46039f\"],[0.2222222222222222,\"#7201a8\"],[0.3333333333333333,\"#9c179e\"],[0.4444444444444444,\"#bd3786\"],[0.5555555555555556,\"#d8576b\"],[0.6666666666666666,\"#ed7953\"],[0.7777777777777778,\"#fb9f3a\"],[0.8888888888888888,\"#fdca26\"],[1.0,\"#f0f921\"]],\"type\":\"histogram2d\"}],\"histogram2dcontour\":[{\"colorbar\":{\"outlinewidth\":0,\"ticks\":\"\"},\"colorscale\":[[0.0,\"#0d0887\"],[0.1111111111111111,\"#46039f\"],[0.2222222222222222,\"#7201a8\"],[0.3333333333333333,\"#9c179e\"],[0.4444444444444444,\"#bd3786\"],[0.5555555555555556,\"#d8576b\"],[0.6666666666666666,\"#ed7953\"],[0.7777777777777778,\"#fb9f3a\"],[0.8888888888888888,\"#fdca26\"],[1.0,\"#f0f921\"]],\"type\":\"histogram2dcontour\"}],\"mesh3d\":[{\"colorbar\":{\"outlinewidth\":0,\"ticks\":\"\"},\"type\":\"mesh3d\"}],\"parcoords\":[{\"line\":{\"colorbar\":{\"outlinewidth\":0,\"ticks\":\"\"}},\"type\":\"parcoords\"}],\"pie\":[{\"automargin\":true,\"type\":\"pie\"}],\"scatter\":[{\"marker\":{\"colorbar\":{\"outlinewidth\":0,\"ticks\":\"\"}},\"type\":\"scatter\"}],\"scatter3d\":[{\"line\":{\"colorbar\":{\"outlinewidth\":0,\"ticks\":\"\"}},\"marker\":{\"colorbar\":{\"outlinewidth\":0,\"ticks\":\"\"}},\"type\":\"scatter3d\"}],\"scattercarpet\":[{\"marker\":{\"colorbar\":{\"outlinewidth\":0,\"ticks\":\"\"}},\"type\":\"scattercarpet\"}],\"scattergeo\":[{\"marker\":{\"colorbar\":{\"outlinewidth\":0,\"ticks\":\"\"}},\"type\":\"scattergeo\"}],\"scattergl\":[{\"marker\":{\"colorbar\":{\"outlinewidth\":0,\"ticks\":\"\"}},\"type\":\"scattergl\"}],\"scattermapbox\":[{\"marker\":{\"colorbar\":{\"outlinewidth\":0,\"ticks\":\"\"}},\"type\":\"scattermapbox\"}],\"scatterpolar\":[{\"marker\":{\"colorbar\":{\"outlinewidth\":0,\"ticks\":\"\"}},\"type\":\"scatterpolar\"}],\"scatterpolargl\":[{\"marker\":{\"colorbar\":{\"outlinewidth\":0,\"ticks\":\"\"}},\"type\":\"scatterpolargl\"}],\"scatterternary\":[{\"marker\":{\"colorbar\":{\"outlinewidth\":0,\"ticks\":\"\"}},\"type\":\"scatterternary\"}],\"surface\":[{\"colorbar\":{\"outlinewidth\":0,\"ticks\":\"\"},\"colorscale\":[[0.0,\"#0d0887\"],[0.1111111111111111,\"#46039f\"],[0.2222222222222222,\"#7201a8\"],[0.3333333333333333,\"#9c179e\"],[0.4444444444444444,\"#bd3786\"],[0.5555555555555556,\"#d8576b\"],[0.6666666666666666,\"#ed7953\"],[0.7777777777777778,\"#fb9f3a\"],[0.8888888888888888,\"#fdca26\"],[1.0,\"#f0f921\"]],\"type\":\"surface\"}],\"table\":[{\"cells\":{\"fill\":{\"color\":\"#EBF0F8\"},\"line\":{\"color\":\"white\"}},\"header\":{\"fill\":{\"color\":\"#C8D4E3\"},\"line\":{\"color\":\"white\"}},\"type\":\"table\"}]},\"layout\":{\"annotationdefaults\":{\"arrowcolor\":\"#2a3f5f\",\"arrowhead\":0,\"arrowwidth\":1},\"autotypenumbers\":\"strict\",\"coloraxis\":{\"colorbar\":{\"outlinewidth\":0,\"ticks\":\"\"}},\"colorscale\":{\"diverging\":[[0,\"#8e0152\"],[0.1,\"#c51b7d\"],[0.2,\"#de77ae\"],[0.3,\"#f1b6da\"],[0.4,\"#fde0ef\"],[0.5,\"#f7f7f7\"],[0.6,\"#e6f5d0\"],[0.7,\"#b8e186\"],[0.8,\"#7fbc41\"],[0.9,\"#4d9221\"],[1,\"#276419\"]],\"sequential\":[[0.0,\"#0d0887\"],[0.1111111111111111,\"#46039f\"],[0.2222222222222222,\"#7201a8\"],[0.3333333333333333,\"#9c179e\"],[0.4444444444444444,\"#bd3786\"],[0.5555555555555556,\"#d8576b\"],[0.6666666666666666,\"#ed7953\"],[0.7777777777777778,\"#fb9f3a\"],[0.8888888888888888,\"#fdca26\"],[1.0,\"#f0f921\"]],\"sequentialminus\":[[0.0,\"#0d0887\"],[0.1111111111111111,\"#46039f\"],[0.2222222222222222,\"#7201a8\"],[0.3333333333333333,\"#9c179e\"],[0.4444444444444444,\"#bd3786\"],[0.5555555555555556,\"#d8576b\"],[0.6666666666666666,\"#ed7953\"],[0.7777777777777778,\"#fb9f3a\"],[0.8888888888888888,\"#fdca26\"],[1.0,\"#f0f921\"]]},\"colorway\":[\"#636efa\",\"#EF553B\",\"#00cc96\",\"#ab63fa\",\"#FFA15A\",\"#19d3f3\",\"#FF6692\",\"#B6E880\",\"#FF97FF\",\"#FECB52\"],\"font\":{\"color\":\"#2a3f5f\"},\"geo\":{\"bgcolor\":\"white\",\"lakecolor\":\"white\",\"landcolor\":\"#E5ECF6\",\"showlakes\":true,\"showland\":true,\"subunitcolor\":\"white\"},\"hoverlabel\":{\"align\":\"left\"},\"hovermode\":\"closest\",\"mapbox\":{\"style\":\"light\"},\"paper_bgcolor\":\"white\",\"plot_bgcolor\":\"#E5ECF6\",\"polar\":{\"angularaxis\":{\"gridcolor\":\"white\",\"linecolor\":\"white\",\"ticks\":\"\"},\"bgcolor\":\"#E5ECF6\",\"radialaxis\":{\"gridcolor\":\"white\",\"linecolor\":\"white\",\"ticks\":\"\"}},\"scene\":{\"xaxis\":{\"backgroundcolor\":\"#E5ECF6\",\"gridcolor\":\"white\",\"gridwidth\":2,\"linecolor\":\"white\",\"showbackground\":true,\"ticks\":\"\",\"zerolinecolor\":\"white\"},\"yaxis\":{\"backgroundcolor\":\"#E5ECF6\",\"gridcolor\":\"white\",\"gridwidth\":2,\"linecolor\":\"white\",\"showbackground\":true,\"ticks\":\"\",\"zerolinecolor\":\"white\"},\"zaxis\":{\"backgroundcolor\":\"#E5ECF6\",\"gridcolor\":\"white\",\"gridwidth\":2,\"linecolor\":\"white\",\"showbackground\":true,\"ticks\":\"\",\"zerolinecolor\":\"white\"}},\"shapedefaults\":{\"line\":{\"color\":\"#2a3f5f\"}},\"ternary\":{\"aaxis\":{\"gridcolor\":\"white\",\"linecolor\":\"white\",\"ticks\":\"\"},\"baxis\":{\"gridcolor\":\"white\",\"linecolor\":\"white\",\"ticks\":\"\"},\"bgcolor\":\"#E5ECF6\",\"caxis\":{\"gridcolor\":\"white\",\"linecolor\":\"white\",\"ticks\":\"\"}},\"title\":{\"x\":0.05},\"xaxis\":{\"automargin\":true,\"gridcolor\":\"white\",\"linecolor\":\"white\",\"ticks\":\"\",\"title\":{\"standoff\":15},\"zerolinecolor\":\"white\",\"zerolinewidth\":2},\"yaxis\":{\"automargin\":true,\"gridcolor\":\"white\",\"linecolor\":\"white\",\"ticks\":\"\",\"title\":{\"standoff\":15},\"zerolinecolor\":\"white\",\"zerolinewidth\":2}}},\"scene\":{\"domain\":{\"x\":[0.0,1.0],\"y\":[0.0,1.0]},\"xaxis\":{\"title\":{\"text\":\"X\"}},\"yaxis\":{\"title\":{\"text\":\"Y\"}},\"zaxis\":{\"title\":{\"text\":\"Z\"}}},\"coloraxis\":{\"colorbar\":{\"title\":{\"text\":\"C\"}},\"colorscale\":[[0.0,\"#0d0887\"],[0.1111111111111111,\"#46039f\"],[0.2222222222222222,\"#7201a8\"],[0.3333333333333333,\"#9c179e\"],[0.4444444444444444,\"#bd3786\"],[0.5555555555555556,\"#d8576b\"],[0.6666666666666666,\"#ed7953\"],[0.7777777777777778,\"#fb9f3a\"],[0.8888888888888888,\"#fdca26\"],[1.0,\"#f0f921\"]]},\"legend\":{\"tracegroupgap\":0},\"margin\":{\"t\":60}},                        {\"responsive\": true}                    ).then(function(){\n",
              "                            \n",
              "var gd = document.getElementById('fa73378f-17a9-4263-8569-a8019cc7bfca');\n",
              "var x = new MutationObserver(function (mutations, observer) {{\n",
              "        var display = window.getComputedStyle(gd).display;\n",
              "        if (!display || display === 'none') {{\n",
              "            console.log([gd, 'removed!']);\n",
              "            Plotly.purge(gd);\n",
              "            observer.disconnect();\n",
              "        }}\n",
              "}});\n",
              "\n",
              "// Listen for the removal of the full notebook cells\n",
              "var notebookContainer = gd.closest('#notebook-container');\n",
              "if (notebookContainer) {{\n",
              "    x.observe(notebookContainer, {childList: true});\n",
              "}}\n",
              "\n",
              "// Listen for the clearing of the current output cell\n",
              "var outputEl = gd.closest('.output');\n",
              "if (outputEl) {{\n",
              "    x.observe(outputEl, {childList: true});\n",
              "}}\n",
              "\n",
              "                        })                };                            </script>        </div>\n",
              "</body>\n",
              "</html>"
            ]
          },
          "metadata": {}
        }
      ]
    }
  ]
}