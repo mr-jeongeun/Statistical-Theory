{
  "nbformat": 4,
  "nbformat_minor": 0,
  "metadata": {
    "colab": {
      "name": "220329_실습 HW1.ipynb",
      "provenance": [],
      "collapsed_sections": []
    },
    "kernelspec": {
      "name": "python3",
      "display_name": "Python 3"
    },
    "language_info": {
      "name": "python"
    }
  },
  "cells": [
    {
      "cell_type": "markdown",
      "source": [
        "## 1번\n",
        "['Harry', 'Ron', 'Hermione'] 리스트를 반환하는 good() 함수를 정의하고 호출하시오."
      ],
      "metadata": {
        "id": "unb1kGpRdanF"
      }
    },
    {
      "cell_type": "code",
      "source": [
        "def good():\n",
        "  return ['Harry', 'Ron', 'Hermione']"
      ],
      "metadata": {
        "id": "n4_qzOEddetg"
      },
      "execution_count": 1,
      "outputs": []
    },
    {
      "cell_type": "code",
      "source": [
        "good()"
      ],
      "metadata": {
        "colab": {
          "base_uri": "https://localhost:8080/"
        },
        "id": "7GkHZovCdfXs",
        "outputId": "9d7172af-10a0-4259-fb92-306c5bcdab62"
      },
      "execution_count": 2,
      "outputs": [
        {
          "output_type": "execute_result",
          "data": {
            "text/plain": [
              "['Harry', 'Ron', 'Hermione']"
            ]
          },
          "metadata": {},
          "execution_count": 2
        }
      ]
    },
    {
      "cell_type": "markdown",
      "source": [
        "## 2번\n",
        "영어-프랑스어 사전을 의미하는 e2f 딕셔너리를 만들었다. 영어 dog은 프랑스어 chien이고, cat은 chat, walrus는 morse이다. 다음 물음에 답하시오.\n",
        "\n",
        "(a) e2f 딕셔너리에서 영어 walrus를 프랑스어로 출력해보자.\n",
        "\n",
        "(b) e2f 딕셔너리의 영어 단어 키를 출력해보자."
      ],
      "metadata": {
        "id": "iP72sfZydfiO"
      }
    },
    {
      "cell_type": "code",
      "source": [
        "# 2-(a)\n",
        "e2f = {'dog' : 'chien', 'cat' : 'chat', 'walrus' : 'morse'}\n",
        "e2f['walrus']"
      ],
      "metadata": {
        "colab": {
          "base_uri": "https://localhost:8080/",
          "height": 36
        },
        "id": "dfvPgM6zdfqD",
        "outputId": "6261b18d-b7c8-4150-c43f-27505b9f3d27"
      },
      "execution_count": 3,
      "outputs": [
        {
          "output_type": "execute_result",
          "data": {
            "text/plain": [
              "'morse'"
            ],
            "application/vnd.google.colaboratory.intrinsic+json": {
              "type": "string"
            }
          },
          "metadata": {},
          "execution_count": 3
        }
      ]
    },
    {
      "cell_type": "code",
      "source": [
        "# 2-(b)\n",
        "list(e2f.keys())"
      ],
      "metadata": {
        "colab": {
          "base_uri": "https://localhost:8080/"
        },
        "id": "_uvASHjCdfxB",
        "outputId": "c06f19a0-2e5f-4372-845f-fda8bfa1cc1f"
      },
      "execution_count": 4,
      "outputs": [
        {
          "output_type": "execute_result",
          "data": {
            "text/plain": [
              "['dog', 'cat', 'walrus']"
            ]
          },
          "metadata": {},
          "execution_count": 4
        }
      ]
    },
    {
      "cell_type": "markdown",
      "source": [
        "## 3번\n",
        "다음을 python 코드로 작성하시오.\n",
        "\n",
        "\"guess_me 변수에 5를 할당하고, for 문을 사용하여 range(10)에서 number 변수를 사용한다. number가 guess_me보다 작으면 ‘too low’를 출력한다. \n",
        "\n",
        "number와 guess_me가 같으면 ‘found it!’을 출력하고 반복문을 종료한다. number가 guess_me보다 크면 ‘oops’를 출력하고 반복문을 종료한다.\""
      ],
      "metadata": {
        "id": "3tzp2ozvdgOL"
      }
    },
    {
      "cell_type": "code",
      "source": [
        "guess_me = 5\n",
        "for number in range(10):\n",
        "  if number < guess_me:\n",
        "    print('too low')\n",
        "  elif number == guess_me:\n",
        "    print('found it!')\n",
        "    break\n",
        "  elif number > guess_me:\n",
        "    print('oops')\n",
        "    break"
      ],
      "metadata": {
        "colab": {
          "base_uri": "https://localhost:8080/"
        },
        "id": "qmyRZ00edgZ4",
        "outputId": "404b2fa8-cf4d-4f29-83ac-7d879c0e9b72"
      },
      "execution_count": 5,
      "outputs": [
        {
          "output_type": "stream",
          "name": "stdout",
          "text": [
            "too low\n",
            "too low\n",
            "too low\n",
            "too low\n",
            "too low\n",
            "found it!\n"
          ]
        }
      ]
    },
    {
      "cell_type": "markdown",
      "source": [
        "## 4번\n",
        "https://programmers.co.kr/learn/courses/30/lessons/17681?language=python3\n",
        "\n",
        "이 주소는 프로그래머스 레벨 1인 비밀지도에 관한 문제이다. 솔루션 문제를 코딩하고 각 코드를 해석하시오.\n"
      ],
      "metadata": {
        "id": "5cdKOnpngnxi"
      }
    },
    {
      "cell_type": "code",
      "source": [
        "# solution(5, [9, 20, 28, 18, 11], [30, 1, 21, 17, 28])"
      ],
      "metadata": {
        "id": "nHaq9mSL1WJP"
      },
      "execution_count": 6,
      "outputs": []
    },
    {
      "cell_type": "code",
      "source": [
        "n = 5\n",
        "arr1 = [9, 20, 28, 18, 11]\n",
        "arr2 = [30, 1, 21, 17, 28]"
      ],
      "metadata": {
        "id": "ls9eEXt-sBnm"
      },
      "execution_count": 7,
      "outputs": []
    },
    {
      "cell_type": "code",
      "source": [
        "n =\t6\n",
        "arr1 = [46, 33, 33 ,22, 31, 50]\n",
        "arr2 = [27 ,56, 19, 14, 14, 10]"
      ],
      "metadata": {
        "id": "Ms1wwr0lJ6Ni"
      },
      "execution_count": 8,
      "outputs": []
    },
    {
      "cell_type": "code",
      "source": [
        "# 10진수 > 2진수 변환 + 조건 성립시키기(지도1 또는 지도2 == 벽 > print(벽), 지도1 그리고 지도2 == 공백 > print(공백))\n",
        "tmp = []\n",
        "for i in range(n):\n",
        "  temp = bin(int(bin(arr1[i]),2)| int(bin(arr2[i]),2))[2:]\n",
        "  if len(temp) != n:\n",
        "    temp = '0' * (n - len(temp)) + temp\n",
        "  tmp.append(temp)"
      ],
      "metadata": {
        "id": "_bvhPqQbsBqd"
      },
      "execution_count": 9,
      "outputs": []
    },
    {
      "cell_type": "code",
      "source": [
        "tmp"
      ],
      "metadata": {
        "colab": {
          "base_uri": "https://localhost:8080/"
        },
        "id": "2vXNklylFq_5",
        "outputId": "ebf3a75c-b45e-4ec8-859f-bb96d7bab8ba"
      },
      "execution_count": 10,
      "outputs": [
        {
          "output_type": "execute_result",
          "data": {
            "text/plain": [
              "['111111', '111001', '110011', '011110', '011111', '111010']"
            ]
          },
          "metadata": {},
          "execution_count": 10
        }
      ]
    },
    {
      "cell_type": "code",
      "source": [
        "# 문자열 변경하기 : 1을 #로, 0을 공백으로\n",
        "# ____.replace('1', '#')\n",
        "# ____.replace('0', '')\n",
        "\n",
        "for i in range(n):\n",
        "  tmp[i] = tmp[i].replace('1', '#').replace('0', ' ')"
      ],
      "metadata": {
        "id": "UsJAyaM_05U7"
      },
      "execution_count": 11,
      "outputs": []
    },
    {
      "cell_type": "code",
      "source": [
        "tmp"
      ],
      "metadata": {
        "colab": {
          "base_uri": "https://localhost:8080/"
        },
        "id": "drWzTk3DF9pI",
        "outputId": "36a2c4e6-4689-408f-972a-8f8a768ac746"
      },
      "execution_count": 12,
      "outputs": [
        {
          "output_type": "execute_result",
          "data": {
            "text/plain": [
              "['######', '###  #', '##  ##', ' #### ', ' #####', '### # ']"
            ]
          },
          "metadata": {},
          "execution_count": 12
        }
      ]
    },
    {
      "cell_type": "markdown",
      "source": [
        "### 완성 함수"
      ],
      "metadata": {
        "id": "nH7OexRZH6MS"
      }
    },
    {
      "cell_type": "code",
      "source": [
        "def solution(n, arr1, arr2):\n",
        "  answer = []\n",
        "  for i in range(n):\n",
        "    temp = bin(int(bin(arr1[i]),2)| int(bin(arr2[i]),2))[2:]\n",
        "    if len(temp) != n:\n",
        "      temp = '0' * (n - len(temp)) + temp\n",
        "    answer.append(temp)\n",
        "\n",
        "  for i in range(n):\n",
        "    answer[i] = answer[i].replace('1', '#').replace('0', ' ')\n",
        "\n",
        "  return answer"
      ],
      "metadata": {
        "id": "jdMKM_QIGmwc"
      },
      "execution_count": 13,
      "outputs": []
    },
    {
      "cell_type": "code",
      "source": [
        "n = 5\n",
        "arr1 = [9, 20, 28, 18, 11]\n",
        "arr2 = [30, 1, 21, 17, 28]"
      ],
      "metadata": {
        "id": "hhAKmYG7KbRE"
      },
      "execution_count": 14,
      "outputs": []
    },
    {
      "cell_type": "code",
      "source": [
        "solution(n, arr1, arr2)"
      ],
      "metadata": {
        "colab": {
          "base_uri": "https://localhost:8080/"
        },
        "id": "cNJKsj8bKgLC",
        "outputId": "e71de0b2-8f0f-4de4-c89b-bef48227675f"
      },
      "execution_count": 15,
      "outputs": [
        {
          "output_type": "execute_result",
          "data": {
            "text/plain": [
              "['#####', '# # #', '### #', '#  ##', '#####']"
            ]
          },
          "metadata": {},
          "execution_count": 15
        }
      ]
    },
    {
      "cell_type": "code",
      "source": [
        "n =\t6\n",
        "arr1 = [46, 33, 33 ,22, 31, 50]\n",
        "arr2 = [27 ,56, 19, 14, 14, 10]"
      ],
      "metadata": {
        "id": "6qsit0I5G-iw"
      },
      "execution_count": 16,
      "outputs": []
    },
    {
      "cell_type": "code",
      "source": [
        "solution(n, arr1, arr2)"
      ],
      "metadata": {
        "colab": {
          "base_uri": "https://localhost:8080/"
        },
        "id": "vZ8okTgGG2oC",
        "outputId": "0bcfc826-342c-434a-ee0b-b8afcc105d20"
      },
      "execution_count": 17,
      "outputs": [
        {
          "output_type": "execute_result",
          "data": {
            "text/plain": [
              "['######', '###  #', '##  ##', ' #### ', ' #####', '### # ']"
            ]
          },
          "metadata": {},
          "execution_count": 17
        }
      ]
    }
  ]
}