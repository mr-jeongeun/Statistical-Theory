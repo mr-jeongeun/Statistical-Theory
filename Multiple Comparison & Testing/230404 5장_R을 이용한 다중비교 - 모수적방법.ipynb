{
  "nbformat": 4,
  "nbformat_minor": 0,
  "metadata": {
    "colab": {
      "provenance": [],
      "collapsed_sections": [
        "cpAGvObhDDfq"
      ]
    },
    "kernelspec": {
      "name": "ir",
      "display_name": "R"
    },
    "language_info": {
      "name": "R"
    }
  },
  "cells": [
    {
      "cell_type": "markdown",
      "source": [
        "## 5.1 주요 R 패키지 이용"
      ],
      "metadata": {
        "id": "oG3ajQysC5RW"
      }
    },
    {
      "cell_type": "markdown",
      "source": [
        "## 1. \"mtcars\" data\n",
        "+ 모수적 방법의 경우, 정규성과 등분산성(필요시)에 대한 검토가 필요함"
      ],
      "metadata": {
        "id": "cpAGvObhDDfq"
      }
    },
    {
      "cell_type": "code",
      "source": [
        "data(mtcars)\n",
        "str(mtcars)"
      ],
      "metadata": {
        "colab": {
          "base_uri": "https://localhost:8080/"
        },
        "id": "OssD1DxlCy7U",
        "outputId": "4ca5ccb3-282d-4c63-860c-c6a9fcce3846"
      },
      "execution_count": 1,
      "outputs": [
        {
          "output_type": "stream",
          "name": "stdout",
          "text": [
            "'data.frame':\t32 obs. of  11 variables:\n",
            " $ mpg : num  21 21 22.8 21.4 18.7 18.1 14.3 24.4 22.8 19.2 ...\n",
            " $ cyl : num  6 6 4 6 8 6 8 4 4 6 ...\n",
            " $ disp: num  160 160 108 258 360 ...\n",
            " $ hp  : num  110 110 93 110 175 105 245 62 95 123 ...\n",
            " $ drat: num  3.9 3.9 3.85 3.08 3.15 2.76 3.21 3.69 3.92 3.92 ...\n",
            " $ wt  : num  2.62 2.88 2.32 3.21 3.44 ...\n",
            " $ qsec: num  16.5 17 18.6 19.4 17 ...\n",
            " $ vs  : num  0 0 1 1 0 1 0 1 1 1 ...\n",
            " $ am  : num  1 1 1 0 0 0 0 0 0 0 ...\n",
            " $ gear: num  4 4 4 3 3 3 3 4 4 4 ...\n",
            " $ carb: num  4 4 1 1 2 1 4 2 2 4 ...\n"
          ]
        }
      ]
    },
    {
      "cell_type": "code",
      "source": [
        "mtcars$cyl = as.factor(mtcars$cyl)\n",
        "av = aov(mpg ~ cyl, data = mtcars)\n",
        "shapiro.test(residuals(av))"
      ],
      "metadata": {
        "colab": {
          "base_uri": "https://localhost:8080/",
          "height": 106
        },
        "id": "u-YWVLVnCy99",
        "outputId": "ce99efc7-e1bc-437a-8bd5-55b39ec670b8"
      },
      "execution_count": 2,
      "outputs": [
        {
          "output_type": "display_data",
          "data": {
            "text/plain": [
              "\n",
              "\tShapiro-Wilk normality test\n",
              "\n",
              "data:  residuals(av)\n",
              "W = 0.97065, p-value = 0.5177\n"
            ]
          },
          "metadata": {}
        }
      ]
    },
    {
      "cell_type": "markdown",
      "source": [
        "+ shapiro.test : 잔차의 정규성 검정\n",
        "+ 위의 경우 av의 잔차 검정에 대한 p-value > 0.05 $\\rightarrow$ H0 기각 못함 $\\rightarrow$ \"잔차는 정규분포를 따른다\"고 할 수 있음 $\\rightarrow$ 정규성 만족"
      ],
      "metadata": {
        "id": "PIHCyF_qDYo0"
      }
    },
    {
      "cell_type": "code",
      "source": [
        "bartlett.test(mpg ~ cyl, data = mtcars)"
      ],
      "metadata": {
        "colab": {
          "base_uri": "https://localhost:8080/",
          "height": 106
        },
        "id": "yvdBePySDVF8",
        "outputId": "42e9976d-33b7-49fa-8ad3-acf480dedd90"
      },
      "execution_count": 3,
      "outputs": [
        {
          "output_type": "display_data",
          "data": {
            "text/plain": [
              "\n",
              "\tBartlett test of homogeneity of variances\n",
              "\n",
              "data:  mpg by cyl\n",
              "Bartlett's K-squared = 8.3934, df = 2, p-value = 0.01505\n"
            ]
          },
          "metadata": {}
        }
      ]
    },
    {
      "cell_type": "markdown",
      "source": [
        "+ bartlett.test : 등분산성 검정\n",
        "+ 위의 경우 검정에 대한 p-value < 0.05 $\\rightarrow$ H0 기각 $\\rightarrow$ \"자료는 등분산성을 만족한다\"고 할 수 없음 $\\rightarrow$ 등분산성 위배"
      ],
      "metadata": {
        "id": "hVhjF-_8DqLI"
      }
    },
    {
      "cell_type": "markdown",
      "source": [
        "### 예제 5.1 다중비교: 일원배치 분산분석"
      ],
      "metadata": {
        "id": "4CsDQ6wkDQ71"
      }
    },
    {
      "cell_type": "code",
      "source": [
        "data(mtcars)\n",
        "av = aov(mpg ~ as.factor(cyl), data = mtcars)\n",
        "summary(av)"
      ],
      "metadata": {
        "colab": {
          "base_uri": "https://localhost:8080/",
          "height": 106
        },
        "id": "Fav6U8nRDVBI",
        "outputId": "247e81cf-acad-4867-9147-5b1dfbf49ddd"
      },
      "execution_count": 4,
      "outputs": [
        {
          "output_type": "display_data",
          "data": {
            "text/plain": [
              "               Df Sum Sq Mean Sq F value   Pr(>F)    \n",
              "as.factor(cyl)  2  824.8   412.4    39.7 4.98e-09 ***\n",
              "Residuals      29  301.3    10.4                     \n",
              "---\n",
              "Signif. codes:  0 ‘***’ 0.001 ‘**’ 0.01 ‘*’ 0.05 ‘.’ 0.1 ‘ ’ 1"
            ]
          },
          "metadata": {}
        }
      ]
    },
    {
      "cell_type": "markdown",
      "source": [
        "+ cyl에 대한 p-value < 0.05 $\\rightarrow$ H0 기각 $\\rightarrow$ cyl 유의한 인자 $\\rightarrow$ 실린더에 따라 연비가 모두 동일하다고 할 수 없다."
      ],
      "metadata": {
        "id": "248ILYMGDU-h"
      }
    },
    {
      "cell_type": "code",
      "source": [
        "mc = TukeyHSD(av)\n",
        "mc"
      ],
      "metadata": {
        "colab": {
          "base_uri": "https://localhost:8080/",
          "height": 196
        },
        "id": "mU31496DCzAJ",
        "outputId": "0d712652-d2bd-459c-ead5-331bc0216e72"
      },
      "execution_count": 5,
      "outputs": [
        {
          "output_type": "display_data",
          "data": {
            "text/plain": [
              "  Tukey multiple comparisons of means\n",
              "    95% family-wise confidence level\n",
              "\n",
              "Fit: aov(formula = mpg ~ as.factor(cyl), data = mtcars)\n",
              "\n",
              "$`as.factor(cyl)`\n",
              "          diff        lwr        upr     p adj\n",
              "6-4  -6.920779 -10.769350 -3.0722086 0.0003424\n",
              "8-4 -11.563636 -14.770779 -8.3564942 0.0000000\n",
              "8-6  -4.642857  -8.327583 -0.9581313 0.0112287\n"
            ]
          },
          "metadata": {}
        }
      ]
    },
    {
      "cell_type": "markdown",
      "source": [
        "+ 모든 경우에 대하여 신뢰구간이 0을 포함하지 않음 $\\rightarrow$ 실험별 오류율 5%에 대하여 유의한 평균 차이가 있음\n",
        "+ 조정된 p-value인 p adj < 0.05 $\\rightarrow$ 실험별 오류율 5%에 대하여 유의한 평균 차이가 있음\n"
      ],
      "metadata": {
        "id": "MWv2D-QTD8h2"
      }
    },
    {
      "cell_type": "code",
      "source": [
        "plot(mc, las = \"2\")  # las = 2 : x축 label 90도 회전"
      ],
      "metadata": {
        "id": "1SSmczZBCzEg",
        "colab": {
          "base_uri": "https://localhost:8080/",
          "height": 437
        },
        "outputId": "59c0ad89-ed07-42d0-d44f-a740cae20c1c"
      },
      "execution_count": 6,
      "outputs": [
        {
          "output_type": "display_data",
          "data": {
            "text/plain": [
              "Plot with title “95% family-wise confidence level\n",
              "”"
            ],
            "image/png": "[encoded data removed]"
          },
          "metadata": {
            "image/png": {
              "width": 420,
              "height": 420
            }
          }
        }
      ]
    },
    {
      "cell_type": "markdown",
      "source": [
        "### 예제 5.3: Tukey의 모든 쌍별 다중비교(MCA)"
      ],
      "metadata": {
        "id": "USJgww8aPiPZ"
      }
    },
    {
      "cell_type": "code",
      "source": [
        "data(mtcars)\n",
        "mtcars$cyl = as.factor(mtcars$cyl)\n",
        "av = aov(mpg ~ cyl, data = mtcars)"
      ],
      "metadata": {
        "id": "wLQltg4DCzLc"
      },
      "execution_count": 7,
      "outputs": []
    },
    {
      "cell_type": "code",
      "source": [
        "install.packages(\"multcomp\")\n",
        "library(multcomp)"
      ],
      "metadata": {
        "id": "jwPgktyWCzPS",
        "colab": {
          "base_uri": "https://localhost:8080/"
        },
        "outputId": "cb3f0a2d-ef09-40bb-db66-ba09305d10b1"
      },
      "execution_count": 8,
      "outputs": [
        {
          "output_type": "stream",
          "name": "stderr",
          "text": [
            "Installing package into ‘/usr/local/lib/R/site-library’\n",
            "(as ‘lib’ is unspecified)\n",
            "\n",
            "also installing the dependencies ‘zoo’, ‘mvtnorm’, ‘TH.data’, ‘sandwich’\n",
            "\n",
            "\n",
            "Loading required package: mvtnorm\n",
            "\n",
            "Loading required package: survival\n",
            "\n",
            "Loading required package: TH.data\n",
            "\n",
            "Loading required package: MASS\n",
            "\n",
            "\n",
            "Attaching package: ‘TH.data’\n",
            "\n",
            "\n",
            "The following object is masked from ‘package:MASS’:\n",
            "\n",
            "    geyser\n",
            "\n",
            "\n"
          ]
        }
      ]
    },
    {
      "cell_type": "code",
      "source": [
        "?glht()"
      ],
      "metadata": {
        "id": "q8xvvzjyCzRR"
      },
      "execution_count": 9,
      "outputs": []
    },
    {
      "cell_type": "markdown",
      "source": [
        "+ linfct : 검정할 선형 가설, rhs : 가설의 오른쪽을 지정하는 선택적 숫자 벡터"
      ],
      "metadata": {
        "id": "b9izSdbmPzx1"
      }
    },
    {
      "cell_type": "code",
      "source": [
        "av.mc = glht(av, linfct = mcp(cyl = \"Tukey\"))\n",
        "summary(av.mc)"
      ],
      "metadata": {
        "id": "e3Nc4IimCzUH",
        "colab": {
          "base_uri": "https://localhost:8080/",
          "height": 303
        },
        "outputId": "9cdf73ad-9b33-40a5-f270-bef2af7fd00f"
      },
      "execution_count": 10,
      "outputs": [
        {
          "output_type": "display_data",
          "data": {
            "text/plain": [
              "\n",
              "\t Simultaneous Tests for General Linear Hypotheses\n",
              "\n",
              "Multiple Comparisons of Means: Tukey Contrasts\n",
              "\n",
              "\n",
              "Fit: aov(formula = mpg ~ cyl, data = mtcars)\n",
              "\n",
              "Linear Hypotheses:\n",
              "           Estimate Std. Error t value Pr(>|t|)    \n",
              "6 - 4 == 0   -6.921      1.558  -4.441   <0.001 ***\n",
              "8 - 4 == 0  -11.564      1.299  -8.905   <0.001 ***\n",
              "8 - 6 == 0   -4.643      1.492  -3.112   0.0112 *  \n",
              "---\n",
              "Signif. codes:  0 ‘***’ 0.001 ‘**’ 0.01 ‘*’ 0.05 ‘.’ 0.1 ‘ ’ 1\n",
              "(Adjusted p values reported -- single-step method)\n"
            ]
          },
          "metadata": {}
        }
      ]
    },
    {
      "cell_type": "markdown",
      "source": [
        "+ 모든 경우에 대하여 p-value < 0.05 --> 실험별 오류율 5%에 대하여 유의한 평균 차이가 있음\n"
      ],
      "metadata": {
        "id": "F83UM6-gP2bI"
      }
    },
    {
      "cell_type": "code",
      "source": [
        "summary(av.mc, test = Ftest())  # 전역 F test"
      ],
      "metadata": {
        "colab": {
          "base_uri": "https://localhost:8080/",
          "height": 285
        },
        "id": "go0vbV9MP3xL",
        "outputId": "0f4e623e-7006-43f9-d999-c301fdbd5b82"
      },
      "execution_count": 11,
      "outputs": [
        {
          "output_type": "display_data",
          "data": {
            "text/plain": [
              "\n",
              "\t General Linear Hypotheses\n",
              "\n",
              "Multiple Comparisons of Means: Tukey Contrasts\n",
              "\n",
              "\n",
              "Linear Hypotheses:\n",
              "           Estimate\n",
              "6 - 4 == 0   -6.921\n",
              "8 - 4 == 0  -11.564\n",
              "8 - 6 == 0   -4.643\n",
              "\n",
              "Global Test:\n",
              "     F DF1 DF2    Pr(>F)\n",
              "1 39.7   2  29 4.979e-09"
            ]
          },
          "metadata": {}
        }
      ]
    },
    {
      "cell_type": "code",
      "source": [
        "summary(av.mc, test = univariate())  # 단변량-t test"
      ],
      "metadata": {
        "colab": {
          "base_uri": "https://localhost:8080/",
          "height": 303
        },
        "id": "-g95mo1CP9dr",
        "outputId": "517efbf1-83e7-40e4-fdb2-10f475400e71"
      },
      "execution_count": 12,
      "outputs": [
        {
          "output_type": "display_data",
          "data": {
            "text/plain": [
              "\n",
              "\t Simultaneous Tests for General Linear Hypotheses\n",
              "\n",
              "Multiple Comparisons of Means: Tukey Contrasts\n",
              "\n",
              "\n",
              "Fit: aov(formula = mpg ~ cyl, data = mtcars)\n",
              "\n",
              "Linear Hypotheses:\n",
              "           Estimate Std. Error t value Pr(>|t|)    \n",
              "6 - 4 == 0   -6.921      1.558  -4.441 0.000119 ***\n",
              "8 - 4 == 0  -11.564      1.299  -8.905 8.57e-10 ***\n",
              "8 - 6 == 0   -4.643      1.492  -3.112 0.004152 ** \n",
              "---\n",
              "Signif. codes:  0 ‘***’ 0.001 ‘**’ 0.01 ‘*’ 0.05 ‘.’ 0.1 ‘ ’ 1\n",
              "(Univariate p values reported)\n"
            ]
          },
          "metadata": {}
        }
      ]
    },
    {
      "cell_type": "code",
      "source": [
        "summary(av.mc, test = adjusted(type = \"bonferroni\"))  # bonferroni 조정"
      ],
      "metadata": {
        "colab": {
          "base_uri": "https://localhost:8080/",
          "height": 303
        },
        "id": "ZX9IvBhDP-du",
        "outputId": "f64ac0f4-5a97-4c6b-8490-f66141a3b481"
      },
      "execution_count": 13,
      "outputs": [
        {
          "output_type": "display_data",
          "data": {
            "text/plain": [
              "\n",
              "\t Simultaneous Tests for General Linear Hypotheses\n",
              "\n",
              "Multiple Comparisons of Means: Tukey Contrasts\n",
              "\n",
              "\n",
              "Fit: aov(formula = mpg ~ cyl, data = mtcars)\n",
              "\n",
              "Linear Hypotheses:\n",
              "           Estimate Std. Error t value Pr(>|t|)    \n",
              "6 - 4 == 0   -6.921      1.558  -4.441 0.000358 ***\n",
              "8 - 4 == 0  -11.564      1.299  -8.905 2.57e-09 ***\n",
              "8 - 6 == 0   -4.643      1.492  -3.112 0.012457 *  \n",
              "---\n",
              "Signif. codes:  0 ‘***’ 0.001 ‘**’ 0.01 ‘*’ 0.05 ‘.’ 0.1 ‘ ’ 1\n",
              "(Adjusted p values reported -- bonferroni method)\n"
            ]
          },
          "metadata": {}
        }
      ]
    },
    {
      "cell_type": "code",
      "source": [
        "summary(av.mc, test = adjusted(type = \"single-step\"))  # single-step 조정"
      ],
      "metadata": {
        "colab": {
          "base_uri": "https://localhost:8080/",
          "height": 303
        },
        "id": "sG1jC-abP_w6",
        "outputId": "2721d2e2-b52f-4d99-9803-6462b06033f0"
      },
      "execution_count": 14,
      "outputs": [
        {
          "output_type": "display_data",
          "data": {
            "text/plain": [
              "\n",
              "\t Simultaneous Tests for General Linear Hypotheses\n",
              "\n",
              "Multiple Comparisons of Means: Tukey Contrasts\n",
              "\n",
              "\n",
              "Fit: aov(formula = mpg ~ cyl, data = mtcars)\n",
              "\n",
              "Linear Hypotheses:\n",
              "           Estimate Std. Error t value Pr(>|t|)    \n",
              "6 - 4 == 0   -6.921      1.558  -4.441   <0.001 ***\n",
              "8 - 4 == 0  -11.564      1.299  -8.905   <0.001 ***\n",
              "8 - 6 == 0   -4.643      1.492  -3.112   0.0112 *  \n",
              "---\n",
              "Signif. codes:  0 ‘***’ 0.001 ‘**’ 0.01 ‘*’ 0.05 ‘.’ 0.1 ‘ ’ 1\n",
              "(Adjusted p values reported -- single-step method)\n"
            ]
          },
          "metadata": {}
        }
      ]
    },
    {
      "cell_type": "code",
      "source": [
        "av.ci = confint(av.mc, level = 0.95)  # 동시신뢰구간\n",
        "plot(av.ci)"
      ],
      "metadata": {
        "colab": {
          "base_uri": "https://localhost:8080/",
          "height": 437
        },
        "id": "yu5CNbuXQBEg",
        "outputId": "3fc09215-f9ae-48ec-f01a-1fb6dbc1e289"
      },
      "execution_count": 15,
      "outputs": [
        {
          "output_type": "display_data",
          "data": {
            "text/plain": [
              "Plot with title “95% family-wise confidence level\n",
              "”"
            ],
            "image/png": "[encoded data removed]"
          },
          "metadata": {
            "image/png": {
              "width": 420,
              "height": 420
            }
          }
        }
      ]
    },
    {
      "cell_type": "markdown",
      "source": [
        "+ 모든 경우에 대하여 신뢰구간이 0을 포함하지 않음 $\\rightarrow$ 실험별 오류율 5%에 대하여 유의한 평균 차이가 있음\n"
      ],
      "metadata": {
        "id": "rXw28uhfQEG2"
      }
    },
    {
      "cell_type": "code",
      "source": [
        "par(mar = c(5.1, 4.1, 6.1, 2.1))\n",
        "?cld()\n",
        "plot(cld(av.mc))"
      ],
      "metadata": {
        "colab": {
          "base_uri": "https://localhost:8080/",
          "height": 437
        },
        "id": "PiWp4AD2QDEq",
        "outputId": "cda546fd-d8e9-40e3-e8e0-413bbd2b1e2a"
      },
      "execution_count": 16,
      "outputs": [
        {
          "output_type": "display_data",
          "data": {
            "text/plain": [
              "plot without title"
            ],
            "image/png": "[encoded data removed]"
          },
          "metadata": {
            "image/png": {
              "width": 420,
              "height": 420
            }
          }
        }
      ]
    },
    {
      "cell_type": "markdown",
      "source": [
        "+ 같은 그룹으로 묶인 경우라면 plot 위의 알파벳에 동일 글자가 찍혀야하는데 이번 경우에는 세가지 cyl에 대해 모두 차이가 있다고 할 수 있음"
      ],
      "metadata": {
        "id": "AOSM8TqFQLiH"
      }
    },
    {
      "cell_type": "code",
      "source": [
        "dev.off()"
      ],
      "metadata": {
        "colab": {
          "base_uri": "https://localhost:8080/",
          "height": 34
        },
        "id": "XyuBCTStQJGw",
        "outputId": "7b4e252a-c4d2-4b18-e266-022a3971d38c"
      },
      "execution_count": 17,
      "outputs": [
        {
          "output_type": "display_data",
          "data": {
            "text/html": [
              "<strong>null device:</strong> 1"
            ],
            "text/markdown": "**null device:** 1",
            "text/latex": "\\textbf{null device:} 1",
            "text/plain": [
              "null device \n",
              "          1 "
            ]
          },
          "metadata": {}
        }
      ]
    },
    {
      "cell_type": "markdown",
      "source": [
        "### 예제 5.4: Dunnett의 방법(MCC)"
      ],
      "metadata": {
        "id": "lbJOmgo_QRWi"
      }
    },
    {
      "cell_type": "code",
      "source": [
        "summary(glht(av, linfct = mcp(cyl = \"Dunnett\")))"
      ],
      "metadata": {
        "colab": {
          "base_uri": "https://localhost:8080/",
          "height": 285
        },
        "id": "NuAOIuG4QK9x",
        "outputId": "a1850754-2b31-4d14-efaa-1adc3ad611ae"
      },
      "execution_count": 18,
      "outputs": [
        {
          "output_type": "display_data",
          "data": {
            "text/plain": [
              "\n",
              "\t Simultaneous Tests for General Linear Hypotheses\n",
              "\n",
              "Multiple Comparisons of Means: Dunnett Contrasts\n",
              "\n",
              "\n",
              "Fit: aov(formula = mpg ~ cyl, data = mtcars)\n",
              "\n",
              "Linear Hypotheses:\n",
              "           Estimate Std. Error t value Pr(>|t|)    \n",
              "6 - 4 == 0   -6.921      1.558  -4.441 0.000235 ***\n",
              "8 - 4 == 0  -11.564      1.299  -8.905 1.71e-09 ***\n",
              "---\n",
              "Signif. codes:  0 ‘***’ 0.001 ‘**’ 0.01 ‘*’ 0.05 ‘.’ 0.1 ‘ ’ 1\n",
              "(Adjusted p values reported -- single-step method)\n"
            ]
          },
          "metadata": {}
        }
      ]
    },
    {
      "cell_type": "markdown",
      "source": [
        "+ 모든 경우에 대하여 p-value < 0.05 $\\rightarrow$ 실험별 오류율 5%에 대하여 유의한 평균 차이가 있음"
      ],
      "metadata": {
        "id": "w23oFJUbQc5U"
      }
    },
    {
      "cell_type": "code",
      "source": [
        "av.mcc = glht(av, linfct = mcp(cyl = \"Dunnett\"), alternative = \"less\")\n",
        "summary(av.mcc)"
      ],
      "metadata": {
        "colab": {
          "base_uri": "https://localhost:8080/",
          "height": 285
        },
        "id": "t3Pb407eQcdH",
        "outputId": "4d1d65ff-9210-4502-ed0a-39b1ada0b5b8"
      },
      "execution_count": 19,
      "outputs": [
        {
          "output_type": "display_data",
          "data": {
            "text/plain": [
              "\n",
              "\t Simultaneous Tests for General Linear Hypotheses\n",
              "\n",
              "Multiple Comparisons of Means: Dunnett Contrasts\n",
              "\n",
              "\n",
              "Fit: aov(formula = mpg ~ cyl, data = mtcars)\n",
              "\n",
              "Linear Hypotheses:\n",
              "           Estimate Std. Error t value   Pr(<t)    \n",
              "6 - 4 >= 0   -6.921      1.558  -4.441 0.000117 ***\n",
              "8 - 4 >= 0  -11.564      1.299  -8.905 8.54e-10 ***\n",
              "---\n",
              "Signif. codes:  0 ‘***’ 0.001 ‘**’ 0.01 ‘*’ 0.05 ‘.’ 0.1 ‘ ’ 1\n",
              "(Adjusted p values reported -- single-step method)\n"
            ]
          },
          "metadata": {}
        }
      ]
    },
    {
      "cell_type": "markdown",
      "source": [
        "+ 단측 검정에서도 모든 경우에 대하여 p-value < 0.05 $\\rightarrow$ 실험별 오류율 5%에 대하여 유의한 평균 차이가 있음"
      ],
      "metadata": {
        "id": "ytPEFbEIQiPJ"
      }
    },
    {
      "cell_type": "code",
      "source": [
        "summary(av.mcc, test = adjusted(type = \"bonferroni\"))  # bonferroni 조정"
      ],
      "metadata": {
        "colab": {
          "base_uri": "https://localhost:8080/",
          "height": 285
        },
        "id": "E8PkwtojQgji",
        "outputId": "e72bb907-4474-41cb-aeba-3041ee93a006"
      },
      "execution_count": 20,
      "outputs": [
        {
          "output_type": "display_data",
          "data": {
            "text/plain": [
              "\n",
              "\t Simultaneous Tests for General Linear Hypotheses\n",
              "\n",
              "Multiple Comparisons of Means: Dunnett Contrasts\n",
              "\n",
              "\n",
              "Fit: aov(formula = mpg ~ cyl, data = mtcars)\n",
              "\n",
              "Linear Hypotheses:\n",
              "           Estimate Std. Error t value   Pr(<t)    \n",
              "6 - 4 >= 0   -6.921      1.558  -4.441 0.000119 ***\n",
              "8 - 4 >= 0  -11.564      1.299  -8.905 8.57e-10 ***\n",
              "---\n",
              "Signif. codes:  0 ‘***’ 0.001 ‘**’ 0.01 ‘*’ 0.05 ‘.’ 0.1 ‘ ’ 1\n",
              "(Adjusted p values reported -- bonferroni method)\n"
            ]
          },
          "metadata": {}
        }
      ]
    },
    {
      "cell_type": "code",
      "source": [
        "summary(av.mcc, test = adjusted(type = \"free\"))  # step-down 조정"
      ],
      "metadata": {
        "colab": {
          "base_uri": "https://localhost:8080/",
          "height": 285
        },
        "id": "3i8It4u3QmW3",
        "outputId": "62dcbe13-1cdf-424f-f5fd-be85bed4aaee"
      },
      "execution_count": 21,
      "outputs": [
        {
          "output_type": "display_data",
          "data": {
            "text/plain": [
              "\n",
              "\t Simultaneous Tests for General Linear Hypotheses\n",
              "\n",
              "Multiple Comparisons of Means: Dunnett Contrasts\n",
              "\n",
              "\n",
              "Fit: aov(formula = mpg ~ cyl, data = mtcars)\n",
              "\n",
              "Linear Hypotheses:\n",
              "           Estimate Std. Error t value   Pr(<t)    \n",
              "6 - 4 >= 0   -6.921      1.558  -4.441 5.97e-05 ***\n",
              "8 - 4 >= 0  -11.564      1.299  -8.905 8.54e-10 ***\n",
              "---\n",
              "Signif. codes:  0 ‘***’ 0.001 ‘**’ 0.01 ‘*’ 0.05 ‘.’ 0.1 ‘ ’ 1\n",
              "(Adjusted p values reported -- free method)\n"
            ]
          },
          "metadata": {}
        }
      ]
    },
    {
      "cell_type": "code",
      "source": [
        "summary(av.mcc, test = adjusted(type = \"holm\"))  # holm 조정"
      ],
      "metadata": {
        "colab": {
          "base_uri": "https://localhost:8080/",
          "height": 285
        },
        "id": "anWdjNkIQnbM",
        "outputId": "f214fb46-1c99-4154-9ae5-cc210504e650"
      },
      "execution_count": 22,
      "outputs": [
        {
          "output_type": "display_data",
          "data": {
            "text/plain": [
              "\n",
              "\t Simultaneous Tests for General Linear Hypotheses\n",
              "\n",
              "Multiple Comparisons of Means: Dunnett Contrasts\n",
              "\n",
              "\n",
              "Fit: aov(formula = mpg ~ cyl, data = mtcars)\n",
              "\n",
              "Linear Hypotheses:\n",
              "           Estimate Std. Error t value   Pr(<t)    \n",
              "6 - 4 >= 0   -6.921      1.558  -4.441 5.97e-05 ***\n",
              "8 - 4 >= 0  -11.564      1.299  -8.905 8.57e-10 ***\n",
              "---\n",
              "Signif. codes:  0 ‘***’ 0.001 ‘**’ 0.01 ‘*’ 0.05 ‘.’ 0.1 ‘ ’ 1\n",
              "(Adjusted p values reported -- holm method)\n"
            ]
          },
          "metadata": {}
        }
      ]
    },
    {
      "cell_type": "markdown",
      "source": [
        "## 2. \"warpbreaks\" data"
      ],
      "metadata": {
        "id": "9xeR21aIQpwz"
      }
    },
    {
      "cell_type": "markdown",
      "source": [
        "### 예제 5.2 다중비교: 이원배치 분산분석"
      ],
      "metadata": {
        "id": "8EcMFx8PQ1Fi"
      }
    },
    {
      "cell_type": "code",
      "source": [
        "data(\"warpbreaks\")\n",
        "str(warpbreaks)"
      ],
      "metadata": {
        "colab": {
          "base_uri": "https://localhost:8080/"
        },
        "id": "GdFB-N_YQoRt",
        "outputId": "ab99d76c-a9bb-4675-f2d6-1b32932537fa"
      },
      "execution_count": 23,
      "outputs": [
        {
          "output_type": "stream",
          "name": "stdout",
          "text": [
            "'data.frame':\t54 obs. of  3 variables:\n",
            " $ breaks : num  26 30 54 25 70 52 51 26 67 18 ...\n",
            " $ wool   : Factor w/ 2 levels \"A\",\"B\": 1 1 1 1 1 1 1 1 1 1 ...\n",
            " $ tension: Factor w/ 3 levels \"L\",\"M\",\"H\": 1 1 1 1 1 1 1 1 1 2 ...\n"
          ]
        }
      ]
    },
    {
      "cell_type": "code",
      "source": [
        "fm1 = aov(breaks ~ wool + tension, data = warpbreaks)\n",
        "summary(fm1)"
      ],
      "metadata": {
        "colab": {
          "base_uri": "https://localhost:8080/",
          "height": 124
        },
        "id": "TRosDvRPQ2eu",
        "outputId": "1ca8e144-c8a4-40be-a865-57789d3dc176"
      },
      "execution_count": 24,
      "outputs": [
        {
          "output_type": "display_data",
          "data": {
            "text/plain": [
              "            Df Sum Sq Mean Sq F value  Pr(>F)   \n",
              "wool         1    451   450.7   3.339 0.07361 . \n",
              "tension      2   2034  1017.1   7.537 0.00138 **\n",
              "Residuals   50   6748   135.0                   \n",
              "---\n",
              "Signif. codes:  0 ‘***’ 0.001 ‘**’ 0.01 ‘*’ 0.05 ‘.’ 0.1 ‘ ’ 1"
            ]
          },
          "metadata": {}
        }
      ]
    },
    {
      "cell_type": "markdown",
      "source": [
        "+ tension에 대한 p-value < 0.05 $\\rightarrow$ H0 기각 $\\rightarrow$ tension 유의한 인자 - 강도에 따라 베틀에 꼬인 횟수가 모두 동일하다고 할 수 없다.\n"
      ],
      "metadata": {
        "id": "BAtmHHv8Q4Th"
      }
    },
    {
      "cell_type": "code",
      "source": [
        "boxplot(breaks ~ tension, data = warpbreaks)"
      ],
      "metadata": {
        "colab": {
          "base_uri": "https://localhost:8080/",
          "height": 437
        },
        "id": "8JurSdTDQ3R0",
        "outputId": "ec48c227-9018-498e-d622-ce59ca008a29"
      },
      "execution_count": 25,
      "outputs": [
        {
          "output_type": "display_data",
          "data": {
            "text/plain": [
              "plot without title"
            ],
            "image/png": "[encoded data removed]"
          },
          "metadata": {
            "image/png": {
              "width": 420,
              "height": 420
            }
          }
        }
      ]
    },
    {
      "cell_type": "code",
      "source": [
        "TukeyHSD(fm1, \"tension\", ordered = TRUE)  # which : 구간을 계산할 벡터, ordered = TRUE : 평균의 계산된 차이가 모두 양수가 됨\n"
      ],
      "metadata": {
        "colab": {
          "base_uri": "https://localhost:8080/",
          "height": 213
        },
        "id": "d4ef6P8JRAIs",
        "outputId": "d5d95ee4-4733-43f1-f7f2-570f1118aad3"
      },
      "execution_count": 26,
      "outputs": [
        {
          "output_type": "display_data",
          "data": {
            "text/plain": [
              "  Tukey multiple comparisons of means\n",
              "    95% family-wise confidence level\n",
              "    factor levels have been ordered\n",
              "\n",
              "Fit: aov(formula = breaks ~ wool + tension, data = warpbreaks)\n",
              "\n",
              "$tension\n",
              "         diff        lwr      upr     p adj\n",
              "M-H  4.722222 -4.6311985 14.07564 0.4474210\n",
              "L-H 14.722222  5.3688015 24.07564 0.0011218\n",
              "L-M 10.000000  0.6465793 19.35342 0.0336262\n"
            ]
          },
          "metadata": {}
        }
      ]
    },
    {
      "cell_type": "markdown",
      "source": [
        "+ L-H, L-M에 대하여 신뢰구간이 0을 포함하지 않음 $\\rightarrow$ 실험별 오류율 5%에 대하여 유의한 평균 차이가 있음\n",
        "+ M-H에 대하여 신뢰구간이 0을 포함함 $\\rightarrow$ 실험별 오류율 5%에 대하여 유의한 평균 차이가 없음\n",
        "\n",
        "$\\rightarrow$ 따라서 L과 M, H로 구분할 수 있음\n"
      ],
      "metadata": {
        "id": "7RtoG9BuRCvg"
      }
    },
    {
      "cell_type": "code",
      "source": [
        "plot(TukeyHSD(fm1, \"tension\"))"
      ],
      "metadata": {
        "colab": {
          "base_uri": "https://localhost:8080/",
          "height": 437
        },
        "id": "8XYgGb31RBRt",
        "outputId": "c338b425-d5a0-4c9b-9cb1-b5c3306c110a"
      },
      "execution_count": 27,
      "outputs": [
        {
          "output_type": "display_data",
          "data": {
            "text/plain": [
              "Plot with title “95% family-wise confidence level\n",
              "”"
            ],
            "image/png": "[encoded data removed]"
          },
          "metadata": {
            "image/png": {
              "width": 420,
              "height": 420
            }
          }
        }
      ]
    },
    {
      "cell_type": "markdown",
      "source": [
        "### 예제 5.5: 이원배치에서의 Tukey 방법"
      ],
      "metadata": {
        "id": "6-ONMhLZROJP"
      }
    },
    {
      "cell_type": "code",
      "source": [
        "install.packages(\"multcomp\")\n",
        "library(multcomp)"
      ],
      "metadata": {
        "colab": {
          "base_uri": "https://localhost:8080/"
        },
        "id": "snVFEriuRMaB",
        "outputId": "fb360172-c4f7-4a99-9272-334143104e25"
      },
      "execution_count": 28,
      "outputs": [
        {
          "output_type": "stream",
          "name": "stderr",
          "text": [
            "Installing package into ‘/usr/local/lib/R/site-library’\n",
            "(as ‘lib’ is unspecified)\n",
            "\n"
          ]
        }
      ]
    },
    {
      "cell_type": "code",
      "source": [
        "wb.aov = aov(breaks ~ wool + tension, data = warpbreaks)\n",
        "wb.mc = glht(wb.aov, linfct = mcp(tension = \"Tukey\"))\n",
        "summary(wb.mc)"
      ],
      "metadata": {
        "colab": {
          "base_uri": "https://localhost:8080/",
          "height": 303
        },
        "id": "8VAbU2aLRVM8",
        "outputId": "cc732fed-39aa-4c5a-ede9-838e10df66f3"
      },
      "execution_count": 29,
      "outputs": [
        {
          "output_type": "display_data",
          "data": {
            "text/plain": [
              "\n",
              "\t Simultaneous Tests for General Linear Hypotheses\n",
              "\n",
              "Multiple Comparisons of Means: Tukey Contrasts\n",
              "\n",
              "\n",
              "Fit: aov(formula = breaks ~ wool + tension, data = warpbreaks)\n",
              "\n",
              "Linear Hypotheses:\n",
              "           Estimate Std. Error t value Pr(>|t|)   \n",
              "M - L == 0  -10.000      3.872  -2.582  0.03352 * \n",
              "H - L == 0  -14.722      3.872  -3.802  0.00111 **\n",
              "H - M == 0   -4.722      3.872  -1.219  0.44742   \n",
              "---\n",
              "Signif. codes:  0 ‘***’ 0.001 ‘**’ 0.01 ‘*’ 0.05 ‘.’ 0.1 ‘ ’ 1\n",
              "(Adjusted p values reported -- single-step method)\n"
            ]
          },
          "metadata": {}
        }
      ]
    },
    {
      "cell_type": "markdown",
      "source": [
        "+ L-H, L-M에 대하여 p-value < 0.05 $\\rightarrow$ 실험별 오류율 5%에 대하여 유의한 평균 차이가 있음\n",
        "+ M-H에 대하여 p-value > 0.05 $\\rightarrow$ 실험별 오류율 5%에 대하여 유의한 평균 차이가 없음\n",
        "\n",
        "$\\rightarrow$ 따라서 L과 M, H로 구분할 수 있음\n",
        "\n",
        "#### (a) 대비 지정 방법"
      ],
      "metadata": {
        "id": "afLh9NYRRXug"
      }
    },
    {
      "cell_type": "code",
      "source": [
        "summary(glht(wb.aov, linfct = mcp(tension = c(\"M - L = 0\", \"H - L = 0\", \"H - M = 0\"))))  # 차이를 기호로 지정"
      ],
      "metadata": {
        "colab": {
          "base_uri": "https://localhost:8080/",
          "height": 303
        },
        "id": "-bk_XgdTRWfT",
        "outputId": "1ee39542-608c-4454-bc5a-aaabae64f8fe"
      },
      "execution_count": 30,
      "outputs": [
        {
          "output_type": "display_data",
          "data": {
            "text/plain": [
              "\n",
              "\t Simultaneous Tests for General Linear Hypotheses\n",
              "\n",
              "Multiple Comparisons of Means: User-defined Contrasts\n",
              "\n",
              "\n",
              "Fit: aov(formula = breaks ~ wool + tension, data = warpbreaks)\n",
              "\n",
              "Linear Hypotheses:\n",
              "           Estimate Std. Error t value Pr(>|t|)   \n",
              "M - L == 0  -10.000      3.872  -2.582  0.03364 * \n",
              "H - L == 0  -14.722      3.872  -3.802  0.00107 **\n",
              "H - M == 0   -4.722      3.872  -1.219  0.44740   \n",
              "---\n",
              "Signif. codes:  0 ‘***’ 0.001 ‘**’ 0.01 ‘*’ 0.05 ‘.’ 0.1 ‘ ’ 1\n",
              "(Adjusted p values reported -- single-step method)\n"
            ]
          },
          "metadata": {}
        }
      ]
    },
    {
      "cell_type": "code",
      "source": [
        "contr = rbind(\"M - L\" = c(-1, 1, 0), \"H - L\" = c(-1, 0, 1), \"H - M\" = c(0, -1, 1))  # 대비행렬 정의\n",
        "contr"
      ],
      "metadata": {
        "colab": {
          "base_uri": "https://localhost:8080/",
          "height": 146
        },
        "id": "NnhYzyDMRjX9",
        "outputId": "18ac8f39-0b6d-4f89-d365-6c16e6d129df"
      },
      "execution_count": 31,
      "outputs": [
        {
          "output_type": "display_data",
          "data": {
            "text/html": [
              "<table class=\"dataframe\">\n",
              "<caption>A matrix: 3 × 3 of type dbl</caption>\n",
              "<tbody>\n",
              "\t<tr><th scope=row>M - L</th><td>-1</td><td> 1</td><td>0</td></tr>\n",
              "\t<tr><th scope=row>H - L</th><td>-1</td><td> 0</td><td>1</td></tr>\n",
              "\t<tr><th scope=row>H - M</th><td> 0</td><td>-1</td><td>1</td></tr>\n",
              "</tbody>\n",
              "</table>\n"
            ],
            "text/markdown": "\nA matrix: 3 × 3 of type dbl\n\n| M - L | -1 |  1 | 0 |\n| H - L | -1 |  0 | 1 |\n| H - M |  0 | -1 | 1 |\n\n",
            "text/latex": "A matrix: 3 × 3 of type dbl\n\\begin{tabular}{r|lll}\n\tM - L & -1 &  1 & 0\\\\\n\tH - L & -1 &  0 & 1\\\\\n\tH - M &  0 & -1 & 1\\\\\n\\end{tabular}\n",
            "text/plain": [
              "      [,1] [,2] [,3]\n",
              "M - L -1    1   0   \n",
              "H - L -1    0   1   \n",
              "H - M  0   -1   1   "
            ]
          },
          "metadata": {}
        }
      ]
    },
    {
      "cell_type": "code",
      "source": [
        "summary(glht(wb.aov, linfct = mcp(tension = contr)))"
      ],
      "metadata": {
        "colab": {
          "base_uri": "https://localhost:8080/",
          "height": 303
        },
        "id": "Zv-Z5qjgRk6x",
        "outputId": "bd2c5566-604e-4563-86c1-d2b833ff6fb3"
      },
      "execution_count": 32,
      "outputs": [
        {
          "output_type": "display_data",
          "data": {
            "text/plain": [
              "\n",
              "\t Simultaneous Tests for General Linear Hypotheses\n",
              "\n",
              "Multiple Comparisons of Means: User-defined Contrasts\n",
              "\n",
              "\n",
              "Fit: aov(formula = breaks ~ wool + tension, data = warpbreaks)\n",
              "\n",
              "Linear Hypotheses:\n",
              "           Estimate Std. Error t value Pr(>|t|)   \n",
              "M - L == 0  -10.000      3.872  -2.582   0.0337 * \n",
              "H - L == 0  -14.722      3.872  -3.802   0.0011 **\n",
              "H - M == 0   -4.722      3.872  -1.219   0.4474   \n",
              "---\n",
              "Signif. codes:  0 ‘***’ 0.001 ‘**’ 0.01 ‘*’ 0.05 ‘.’ 0.1 ‘ ’ 1\n",
              "(Adjusted p values reported -- single-step method)\n"
            ]
          },
          "metadata": {}
        }
      ]
    },
    {
      "cell_type": "code",
      "source": [
        "# glht(wb.aov, linfct = cbind(0, contr %*% contr.treatment(3))) : ERROR\n",
        "contr.treatment(3)\n",
        "contr %*% contr.treatment(3)\n",
        "cbind(0, contr %*% contr.treatment(3))"
      ],
      "metadata": {
        "colab": {
          "base_uri": "https://localhost:8080/",
          "height": 518
        },
        "id": "11PxOhbVRls9",
        "outputId": "f002a055-686f-4470-b919-3621670afcf2"
      },
      "execution_count": 33,
      "outputs": [
        {
          "output_type": "display_data",
          "data": {
            "text/html": [
              "<table class=\"dataframe\">\n",
              "<caption>A matrix: 3 × 2 of type dbl</caption>\n",
              "<thead>\n",
              "\t<tr><th></th><th scope=col>2</th><th scope=col>3</th></tr>\n",
              "</thead>\n",
              "<tbody>\n",
              "\t<tr><th scope=row>1</th><td>0</td><td>0</td></tr>\n",
              "\t<tr><th scope=row>2</th><td>1</td><td>0</td></tr>\n",
              "\t<tr><th scope=row>3</th><td>0</td><td>1</td></tr>\n",
              "</tbody>\n",
              "</table>\n"
            ],
            "text/markdown": "\nA matrix: 3 × 2 of type dbl\n\n| <!--/--> | 2 | 3 |\n|---|---|---|\n| 1 | 0 | 0 |\n| 2 | 1 | 0 |\n| 3 | 0 | 1 |\n\n",
            "text/latex": "A matrix: 3 × 2 of type dbl\n\\begin{tabular}{r|ll}\n  & 2 & 3\\\\\n\\hline\n\t1 & 0 & 0\\\\\n\t2 & 1 & 0\\\\\n\t3 & 0 & 1\\\\\n\\end{tabular}\n",
            "text/plain": [
              "  2 3\n",
              "1 0 0\n",
              "2 1 0\n",
              "3 0 1"
            ]
          },
          "metadata": {}
        },
        {
          "output_type": "display_data",
          "data": {
            "text/html": [
              "<table class=\"dataframe\">\n",
              "<caption>A matrix: 3 × 2 of type dbl</caption>\n",
              "<thead>\n",
              "\t<tr><th></th><th scope=col>2</th><th scope=col>3</th></tr>\n",
              "</thead>\n",
              "<tbody>\n",
              "\t<tr><th scope=row>M - L</th><td> 1</td><td>0</td></tr>\n",
              "\t<tr><th scope=row>H - L</th><td> 0</td><td>1</td></tr>\n",
              "\t<tr><th scope=row>H - M</th><td>-1</td><td>1</td></tr>\n",
              "</tbody>\n",
              "</table>\n"
            ],
            "text/markdown": "\nA matrix: 3 × 2 of type dbl\n\n| <!--/--> | 2 | 3 |\n|---|---|---|\n| M - L |  1 | 0 |\n| H - L |  0 | 1 |\n| H - M | -1 | 1 |\n\n",
            "text/latex": "A matrix: 3 × 2 of type dbl\n\\begin{tabular}{r|ll}\n  & 2 & 3\\\\\n\\hline\n\tM - L &  1 & 0\\\\\n\tH - L &  0 & 1\\\\\n\tH - M & -1 & 1\\\\\n\\end{tabular}\n",
            "text/plain": [
              "      2  3\n",
              "M - L  1 0\n",
              "H - L  0 1\n",
              "H - M -1 1"
            ]
          },
          "metadata": {}
        },
        {
          "output_type": "display_data",
          "data": {
            "text/html": [
              "<table class=\"dataframe\">\n",
              "<caption>A matrix: 3 × 3 of type dbl</caption>\n",
              "<thead>\n",
              "\t<tr><th></th><th scope=col></th><th scope=col>2</th><th scope=col>3</th></tr>\n",
              "</thead>\n",
              "<tbody>\n",
              "\t<tr><th scope=row>M - L</th><td>0</td><td> 1</td><td>0</td></tr>\n",
              "\t<tr><th scope=row>H - L</th><td>0</td><td> 0</td><td>1</td></tr>\n",
              "\t<tr><th scope=row>H - M</th><td>0</td><td>-1</td><td>1</td></tr>\n",
              "</tbody>\n",
              "</table>\n"
            ],
            "text/markdown": "\nA matrix: 3 × 3 of type dbl\n\n| <!--/--> | <!----> | 2 | 3 |\n|---|---|---|---|\n| M - L | 0 |  1 | 0 |\n| H - L | 0 |  0 | 1 |\n| H - M | 0 | -1 | 1 |\n\n",
            "text/latex": "A matrix: 3 × 3 of type dbl\n\\begin{tabular}{r|lll}\n  &  & 2 & 3\\\\\n\\hline\n\tM - L & 0 &  1 & 0\\\\\n\tH - L & 0 &  0 & 1\\\\\n\tH - M & 0 & -1 & 1\\\\\n\\end{tabular}\n",
            "text/plain": [
              "        2  3\n",
              "M - L 0  1 0\n",
              "H - L 0  0 1\n",
              "H - M 0 -1 1"
            ]
          },
          "metadata": {}
        }
      ]
    },
    {
      "cell_type": "markdown",
      "source": [
        "#### (b) 혼합형 가설의 다중비교"
      ],
      "metadata": {
        "id": "eX3d_soIRqe_"
      }
    },
    {
      "cell_type": "code",
      "source": [
        "# vcov(warpbreaks.mc)  # 분산-공분산 행렬\n",
        "# cov2cor(vcov(warpbreaks.mc))  # 공분산행렬 --> 상관행렬\n",
        "# summary(warpbreaks.mc)\n",
        "# ERROR 해결 필요"
      ],
      "metadata": {
        "id": "erEK79ZQRntq"
      },
      "execution_count": 34,
      "outputs": []
    },
    {
      "cell_type": "markdown",
      "source": [
        "### 예제 5.6* : 다중선형회귀에서의 다중비교"
      ],
      "metadata": {
        "id": "4gAuTyk-Rua6"
      }
    },
    {
      "cell_type": "code",
      "source": [
        "lmod = lm(Fertility ~ ., data = swiss)\n",
        "summary(lmod)"
      ],
      "metadata": {
        "colab": {
          "base_uri": "https://localhost:8080/",
          "height": 410
        },
        "id": "RDxqwQdoRroD",
        "outputId": "5bf350b2-e83a-4161-f4ca-d06bcc64287f"
      },
      "execution_count": 35,
      "outputs": [
        {
          "output_type": "display_data",
          "data": {
            "text/plain": [
              "\n",
              "Call:\n",
              "lm(formula = Fertility ~ ., data = swiss)\n",
              "\n",
              "Residuals:\n",
              "     Min       1Q   Median       3Q      Max \n",
              "-15.2743  -5.2617   0.5032   4.1198  15.3213 \n",
              "\n",
              "Coefficients:\n",
              "                 Estimate Std. Error t value Pr(>|t|)    \n",
              "(Intercept)      66.91518   10.70604   6.250 1.91e-07 ***\n",
              "Agriculture      -0.17211    0.07030  -2.448  0.01873 *  \n",
              "Examination      -0.25801    0.25388  -1.016  0.31546    \n",
              "Education        -0.87094    0.18303  -4.758 2.43e-05 ***\n",
              "Catholic          0.10412    0.03526   2.953  0.00519 ** \n",
              "Infant.Mortality  1.07705    0.38172   2.822  0.00734 ** \n",
              "---\n",
              "Signif. codes:  0 ‘***’ 0.001 ‘**’ 0.01 ‘*’ 0.05 ‘.’ 0.1 ‘ ’ 1\n",
              "\n",
              "Residual standard error: 7.165 on 41 degrees of freedom\n",
              "Multiple R-squared:  0.7067,\tAdjusted R-squared:  0.671 \n",
              "F-statistic: 19.76 on 5 and 41 DF,  p-value: 5.594e-10\n"
            ]
          },
          "metadata": {}
        }
      ]
    },
    {
      "cell_type": "markdown",
      "source": [
        "+ Agriculture, Education, Catholic, Infant.Mortality에 대해서는 p-value < 0.05 $\\rightarrow$ H0 기각 $\\rightarrow$ 회귀계수가 0이라고 할 수 없다.\n"
      ],
      "metadata": {
        "id": "wEJl1drQR1z1"
      }
    },
    {
      "cell_type": "code",
      "source": [
        "k = diag(length(coef(lmod)))[-1, ]  # 대각행렬 생성\n",
        "rownames(k) = names(coef(lmod))[-1]\n",
        "k"
      ],
      "metadata": {
        "colab": {
          "base_uri": "https://localhost:8080/",
          "height": 191
        },
        "id": "qhrNcdhjR0kj",
        "outputId": "eaff0a0c-7650-41d3-954a-28b998331fee"
      },
      "execution_count": 36,
      "outputs": [
        {
          "output_type": "display_data",
          "data": {
            "text/html": [
              "<table class=\"dataframe\">\n",
              "<caption>A matrix: 5 × 6 of type dbl</caption>\n",
              "<tbody>\n",
              "\t<tr><th scope=row>Agriculture</th><td>0</td><td>1</td><td>0</td><td>0</td><td>0</td><td>0</td></tr>\n",
              "\t<tr><th scope=row>Examination</th><td>0</td><td>0</td><td>1</td><td>0</td><td>0</td><td>0</td></tr>\n",
              "\t<tr><th scope=row>Education</th><td>0</td><td>0</td><td>0</td><td>1</td><td>0</td><td>0</td></tr>\n",
              "\t<tr><th scope=row>Catholic</th><td>0</td><td>0</td><td>0</td><td>0</td><td>1</td><td>0</td></tr>\n",
              "\t<tr><th scope=row>Infant.Mortality</th><td>0</td><td>0</td><td>0</td><td>0</td><td>0</td><td>1</td></tr>\n",
              "</tbody>\n",
              "</table>\n"
            ],
            "text/markdown": "\nA matrix: 5 × 6 of type dbl\n\n| Agriculture | 0 | 1 | 0 | 0 | 0 | 0 |\n| Examination | 0 | 0 | 1 | 0 | 0 | 0 |\n| Education | 0 | 0 | 0 | 1 | 0 | 0 |\n| Catholic | 0 | 0 | 0 | 0 | 1 | 0 |\n| Infant.Mortality | 0 | 0 | 0 | 0 | 0 | 1 |\n\n",
            "text/latex": "A matrix: 5 × 6 of type dbl\n\\begin{tabular}{r|llllll}\n\tAgriculture & 0 & 1 & 0 & 0 & 0 & 0\\\\\n\tExamination & 0 & 0 & 1 & 0 & 0 & 0\\\\\n\tEducation & 0 & 0 & 0 & 1 & 0 & 0\\\\\n\tCatholic & 0 & 0 & 0 & 0 & 1 & 0\\\\\n\tInfant.Mortality & 0 & 0 & 0 & 0 & 0 & 1\\\\\n\\end{tabular}\n",
            "text/plain": [
              "                 [,1] [,2] [,3] [,4] [,5] [,6]\n",
              "Agriculture      0    1    0    0    0    0   \n",
              "Examination      0    0    1    0    0    0   \n",
              "Education        0    0    0    1    0    0   \n",
              "Catholic         0    0    0    0    1    0   \n",
              "Infant.Mortality 0    0    0    0    0    1   "
            ]
          },
          "metadata": {}
        }
      ]
    },
    {
      "cell_type": "code",
      "source": [
        "summary(glht(lmod, linfct = k))  # 행렬로 지정"
      ],
      "metadata": {
        "colab": {
          "base_uri": "https://localhost:8080/",
          "height": 285
        },
        "id": "kqYHTSF4R4M-",
        "outputId": "55b72f1d-213b-47ec-ea1b-abe24db10b67"
      },
      "execution_count": 37,
      "outputs": [
        {
          "output_type": "display_data",
          "data": {
            "text/plain": [
              "\n",
              "\t Simultaneous Tests for General Linear Hypotheses\n",
              "\n",
              "Fit: lm(formula = Fertility ~ ., data = swiss)\n",
              "\n",
              "Linear Hypotheses:\n",
              "                      Estimate Std. Error t value Pr(>|t|)    \n",
              "Agriculture == 0      -0.17211    0.07030  -2.448   0.0792 .  \n",
              "Examination == 0      -0.25801    0.25388  -1.016   0.7848    \n",
              "Education == 0        -0.87094    0.18303  -4.758   <0.001 ***\n",
              "Catholic == 0          0.10412    0.03526   2.953   0.0230 *  \n",
              "Infant.Mortality == 0  1.07705    0.38172   2.822   0.0328 *  \n",
              "---\n",
              "Signif. codes:  0 ‘***’ 0.001 ‘**’ 0.01 ‘*’ 0.05 ‘.’ 0.1 ‘ ’ 1\n",
              "(Adjusted p values reported -- single-step method)\n"
            ]
          },
          "metadata": {}
        }
      ]
    },
    {
      "cell_type": "markdown",
      "source": [
        "+ Education, Catholic, Infant.Mortality에 대해서는 p-value < 0.05 $\\rightarrow$ H0 기각 $\\rightarrow$ 회귀계수가 0이라고 할 수 없다.\n",
        "+ 다중검정으로는 Agriculture가 기각되지 않았기에 다중검정이 더 엄격한 방법(귀무가설을 기각시키기 어려움)이라고 할 수 있다.\n"
      ],
      "metadata": {
        "id": "FcAqTDddSGTE"
      }
    },
    {
      "cell_type": "code",
      "source": [
        "glht(lmod, linfct = c(\"Agriculture = 0\", \"Examination = 0\", \"Education = 0\", \"Catholic = 0\", \"Infant.Mortality = 0\"))  # 직접 지정"
      ],
      "metadata": {
        "colab": {
          "base_uri": "https://localhost:8080/",
          "height": 196
        },
        "id": "YkN-sZwYR5Ps",
        "outputId": "4adfb25c-d1ef-4a27-95b1-3ea2d9cce6d5"
      },
      "execution_count": 38,
      "outputs": [
        {
          "output_type": "display_data",
          "data": {
            "text/plain": [
              "\n",
              "\t General Linear Hypotheses\n",
              "\n",
              "Linear Hypotheses:\n",
              "                      Estimate\n",
              "Agriculture == 0       -0.1721\n",
              "Examination == 0       -0.2580\n",
              "Education == 0         -0.8709\n",
              "Catholic == 0           0.1041\n",
              "Infant.Mortality == 0   1.0770\n"
            ]
          },
          "metadata": {}
        }
      ]
    },
    {
      "cell_type": "code",
      "source": [
        "summary(glht(lmod, linfct = k), test = adjusted(type = \"bonferroni\"))  # bonferroni 조정"
      ],
      "metadata": {
        "colab": {
          "base_uri": "https://localhost:8080/",
          "height": 285
        },
        "id": "uE5geZ6USII_",
        "outputId": "ebef571f-b317-428a-d3ae-81211deec5e8"
      },
      "execution_count": 39,
      "outputs": [
        {
          "output_type": "display_data",
          "data": {
            "text/plain": [
              "\n",
              "\t Simultaneous Tests for General Linear Hypotheses\n",
              "\n",
              "Fit: lm(formula = Fertility ~ ., data = swiss)\n",
              "\n",
              "Linear Hypotheses:\n",
              "                      Estimate Std. Error t value Pr(>|t|)    \n",
              "Agriculture == 0      -0.17211    0.07030  -2.448 0.093636 .  \n",
              "Examination == 0      -0.25801    0.25388  -1.016 1.000000    \n",
              "Education == 0        -0.87094    0.18303  -4.758 0.000122 ***\n",
              "Catholic == 0          0.10412    0.03526   2.953 0.025950 *  \n",
              "Infant.Mortality == 0  1.07705    0.38172   2.822 0.036679 *  \n",
              "---\n",
              "Signif. codes:  0 ‘***’ 0.001 ‘**’ 0.01 ‘*’ 0.05 ‘.’ 0.1 ‘ ’ 1\n",
              "(Adjusted p values reported -- bonferroni method)\n"
            ]
          },
          "metadata": {}
        }
      ]
    },
    {
      "cell_type": "markdown",
      "source": [
        "+ 위의 디폴트 다중검정과 동일함. 또한, 조정된 p값은 다중선형회귀의 p값의 5배"
      ],
      "metadata": {
        "id": "rfBgG9s5SLFx"
      }
    },
    {
      "cell_type": "markdown",
      "source": [
        "## 5.2장 {agricolae} 패키지 이용\n",
        "### 예제 5.7: Fisher의 LSD 검정"
      ],
      "metadata": {
        "id": "FJsxQAtRSQ_o"
      }
    },
    {
      "cell_type": "code",
      "source": [
        "install.packages(\"agricolae\")\n",
        "library(agricolae)\n",
        "data(\"sweetpotato\")\n",
        "str(sweetpotato)"
      ],
      "metadata": {
        "colab": {
          "base_uri": "https://localhost:8080/"
        },
        "id": "CUrDsahRSKgT",
        "outputId": "255aa959-87e8-4987-e62b-72f7ae478690"
      },
      "execution_count": 40,
      "outputs": [
        {
          "output_type": "stream",
          "name": "stderr",
          "text": [
            "Installing package into ‘/usr/local/lib/R/site-library’\n",
            "(as ‘lib’ is unspecified)\n",
            "\n",
            "also installing the dependencies ‘Rcpp’, ‘R.methodsS3’, ‘R.oo’, ‘R.utils’, ‘proxy’, ‘httpuv’, ‘xtable’, ‘sourcetools’, ‘later’, ‘promises’, ‘R.cache’, ‘e1071’, ‘shiny’, ‘miniUI’, ‘styler’, ‘classInt’, ‘labelled’, ‘combinat’, ‘questionr’, ‘klaR’, ‘AlgDesign’\n",
            "\n",
            "\n"
          ]
        },
        {
          "output_type": "stream",
          "name": "stdout",
          "text": [
            "'data.frame':\t12 obs. of  2 variables:\n",
            " $ virus: Factor w/ 4 levels \"cc\",\"fc\",\"ff\",..: 1 1 1 2 2 2 3 3 3 4 ...\n",
            " $ yield: num  28.5 21.7 23 14.9 10.6 13.1 41.8 39.2 28 38.2 ...\n"
          ]
        }
      ]
    },
    {
      "cell_type": "code",
      "source": [
        "model = aov(yield ~ virus, data = sweetpotato)\n",
        "summary(model)"
      ],
      "metadata": {
        "colab": {
          "base_uri": "https://localhost:8080/",
          "height": 106
        },
        "id": "xTsKOcIpSVNQ",
        "outputId": "f2b5c324-d1eb-4f97-fef3-7e08f087fdf8"
      },
      "execution_count": 41,
      "outputs": [
        {
          "output_type": "display_data",
          "data": {
            "text/plain": [
              "            Df Sum Sq Mean Sq F value   Pr(>F)    \n",
              "virus        3 1170.2   390.1   17.34 0.000733 ***\n",
              "Residuals    8  179.9    22.5                     \n",
              "---\n",
              "Signif. codes:  0 ‘***’ 0.001 ‘**’ 0.01 ‘*’ 0.05 ‘.’ 0.1 ‘ ’ 1"
            ]
          },
          "metadata": {}
        }
      ]
    },
    {
      "cell_type": "markdown",
      "source": [
        "+ virus에 대한 p-value < 0.05 --> H0 기각 $\\rightarrow$ virus 유의한 인자 - virus에 따라 yield가 모두 동일하다고 할 수 없다."
      ],
      "metadata": {
        "id": "cUjv1YO7SXKS"
      }
    },
    {
      "cell_type": "code",
      "source": [
        "out_none = LSD.test(model, \"virus\", p.adj = \"none\")  # 실험별 오류율이 미조정(none)\n",
        "out_none"
      ],
      "metadata": {
        "colab": {
          "base_uri": "https://localhost:8080/",
          "height": 499
        },
        "id": "z8YXiJAUSWIm",
        "outputId": "65c026c6-58ac-4c91-fee9-dc7c4c024746"
      },
      "execution_count": 42,
      "outputs": [
        {
          "output_type": "display_data",
          "data": {
            "text/plain": [
              "$statistics\n",
              "   MSerror Df   Mean      CV  t.value      LSD\n",
              "  22.48917  8 27.625 17.1666 2.306004 8.928965\n",
              "\n",
              "$parameters\n",
              "        test p.ajusted name.t ntr alpha\n",
              "  Fisher-LSD      none  virus   4  0.05\n",
              "\n",
              "$means\n",
              "      yield      std r       se       LCL      UCL  Min  Max   Q25  Q50   Q75\n",
              "cc 24.40000 3.609709 3 2.737953 18.086268 30.71373 21.7 28.5 22.35 23.0 25.75\n",
              "fc 12.86667 2.159475 3 2.737953  6.552935 19.18040 10.6 14.9 11.85 13.1 14.00\n",
              "ff 36.33333 7.333030 3 2.737953 30.019601 42.64707 28.0 41.8 33.60 39.2 40.50\n",
              "oo 36.90000 4.300000 3 2.737953 30.586268 43.21373 32.1 40.4 35.15 38.2 39.30\n",
              "\n",
              "$comparison\n",
              "NULL\n",
              "\n",
              "$groups\n",
              "      yield groups\n",
              "oo 36.90000      a\n",
              "ff 36.33333      a\n",
              "cc 24.40000      b\n",
              "fc 12.86667      c\n",
              "\n",
              "attr(,\"class\")\n",
              "[1] \"group\""
            ]
          },
          "metadata": {}
        }
      ]
    },
    {
      "cell_type": "markdown",
      "source": [
        "+ oo, ff/cc/fc 이렇게 3개의 그룹으로 나뉨\n",
        "+ LSD 임계값 : 8.928965"
      ],
      "metadata": {
        "id": "dd8PGUNaSZm8"
      }
    },
    {
      "cell_type": "code",
      "source": [
        "out_bon = LSD.test(model, \"virus\", p.adj = \"bonferroni\")  # 실험별 오류율이 조정(bonferroni)\n",
        "out_bon"
      ],
      "metadata": {
        "colab": {
          "base_uri": "https://localhost:8080/",
          "height": 499
        },
        "id": "WNcqXSdmSYpX",
        "outputId": "7478b0e5-2739-4173-ae5b-24cfa3fd533c"
      },
      "execution_count": 43,
      "outputs": [
        {
          "output_type": "display_data",
          "data": {
            "text/plain": [
              "$statistics\n",
              "   MSerror Df   Mean      CV  t.value     MSD\n",
              "  22.48917  8 27.625 17.1666 3.478879 13.4704\n",
              "\n",
              "$parameters\n",
              "        test  p.ajusted name.t ntr alpha\n",
              "  Fisher-LSD bonferroni  virus   4  0.05\n",
              "\n",
              "$means\n",
              "      yield      std r       se       LCL      UCL  Min  Max   Q25  Q50   Q75\n",
              "cc 24.40000 3.609709 3 2.737953 18.086268 30.71373 21.7 28.5 22.35 23.0 25.75\n",
              "fc 12.86667 2.159475 3 2.737953  6.552935 19.18040 10.6 14.9 11.85 13.1 14.00\n",
              "ff 36.33333 7.333030 3 2.737953 30.019601 42.64707 28.0 41.8 33.60 39.2 40.50\n",
              "oo 36.90000 4.300000 3 2.737953 30.586268 43.21373 32.1 40.4 35.15 38.2 39.30\n",
              "\n",
              "$comparison\n",
              "NULL\n",
              "\n",
              "$groups\n",
              "      yield groups\n",
              "oo 36.90000      a\n",
              "ff 36.33333      a\n",
              "cc 24.40000     ab\n",
              "fc 12.86667      b\n",
              "\n",
              "attr(,\"class\")\n",
              "[1] \"group\""
            ]
          },
          "metadata": {}
        }
      ]
    },
    {
      "cell_type": "markdown",
      "source": [
        "+ oo,ff,cc/cc,fc 이렇게 2개의 그룹으로 나뉨\n",
        "+ MSD 임계값 : 13.4704"
      ],
      "metadata": {
        "id": "mDtU7lWpScBX"
      }
    },
    {
      "cell_type": "code",
      "source": [
        "par(mfrow = c(1, 2))\n",
        "plot(out_none)\n",
        "plot(out_bon)"
      ],
      "metadata": {
        "colab": {
          "base_uri": "https://localhost:8080/",
          "height": 437
        },
        "id": "A4HtCaLiSbGK",
        "outputId": "e195b446-7226-48b9-d9e0-b671d434339f"
      },
      "execution_count": 44,
      "outputs": [
        {
          "output_type": "display_data",
          "data": {
            "text/plain": [
              "Plot with title “Groups and Range”"
            ],
            "image/png": "[encoded data removed]"
          },
          "metadata": {
            "image/png": {
              "width": 420,
              "height": 420
            }
          }
        }
      ]
    },
    {
      "cell_type": "markdown",
      "source": [
        "+ 실험별 오류율 조정에 따라 자료의 그룹핑이 다른 결과를 가져옴"
      ],
      "metadata": {
        "id": "zPGFQ_mhSeIC"
      }
    },
    {
      "cell_type": "code",
      "source": [
        "LSD.test(model, \"virus\", group = FALSE, p.adj = \"none\", console = TRUE)"
      ],
      "metadata": {
        "colab": {
          "base_uri": "https://localhost:8080/"
        },
        "id": "_pgE7V1ySdKO",
        "outputId": "90857ed9-8ad6-4324-b1c8-7da7d0575418"
      },
      "execution_count": 45,
      "outputs": [
        {
          "output_type": "stream",
          "name": "stdout",
          "text": [
            "\n",
            "Study: model ~ \"virus\"\n",
            "\n",
            "LSD t Test for yield \n",
            "\n",
            "Mean Square Error:  22.48917 \n",
            "\n",
            "virus,  means and individual ( 95 %) CI\n",
            "\n",
            "      yield      std r       se       LCL      UCL  Min  Max   Q25  Q50   Q75\n",
            "cc 24.40000 3.609709 3 2.737953 18.086268 30.71373 21.7 28.5 22.35 23.0 25.75\n",
            "fc 12.86667 2.159475 3 2.737953  6.552935 19.18040 10.6 14.9 11.85 13.1 14.00\n",
            "ff 36.33333 7.333030 3 2.737953 30.019601 42.64707 28.0 41.8 33.60 39.2 40.50\n",
            "oo 36.90000 4.300000 3 2.737953 30.586268 43.21373 32.1 40.4 35.15 38.2 39.30\n",
            "\n",
            "Alpha: 0.05 ; DF Error: 8\n",
            "Critical Value of t: 2.306004 \n",
            "\n",
            "Comparison between treatments means\n",
            "\n",
            "         difference pvalue signif.        LCL        UCL\n",
            "cc - fc  11.5333333 0.0176       *   2.604368  20.462299\n",
            "cc - ff -11.9333333 0.0151       * -20.862299  -3.004368\n",
            "cc - oo -12.5000000 0.0121       * -21.428965  -3.571035\n",
            "fc - ff -23.4666667 0.0003     *** -32.395632 -14.537701\n",
            "fc - oo -24.0333333 0.0003     *** -32.962299 -15.104368\n",
            "ff - oo  -0.5666667 0.8873          -9.495632   8.362299\n"
          ]
        }
      ]
    },
    {
      "cell_type": "markdown",
      "source": [
        "+ group = FALSE : 쌍별 차이에 대한 통계량을 모두 서술함\n",
        "+ group = TRUE : 쌍별 차이에 대한 통계량은 서술하지 않으며 어떻게 자료가 그룹핑 되는지를 서술함"
      ],
      "metadata": {
        "id": "BpddmxXWSi_Q"
      }
    },
    {
      "cell_type": "code",
      "source": [
        "LSD.test(model, \"virus\", group = FALSE, p.adj = \"bonferroni\", console = TRUE)"
      ],
      "metadata": {
        "colab": {
          "base_uri": "https://localhost:8080/"
        },
        "id": "cNXKBseFSf18",
        "outputId": "4e966cae-d1c2-44df-957f-82132ba79eb8"
      },
      "execution_count": 46,
      "outputs": [
        {
          "output_type": "stream",
          "name": "stdout",
          "text": [
            "\n",
            "Study: model ~ \"virus\"\n",
            "\n",
            "LSD t Test for yield \n",
            "P value adjustment method: bonferroni \n",
            "\n",
            "Mean Square Error:  22.48917 \n",
            "\n",
            "virus,  means and individual ( 95 %) CI\n",
            "\n",
            "      yield      std r       se       LCL      UCL  Min  Max   Q25  Q50   Q75\n",
            "cc 24.40000 3.609709 3 2.737953 18.086268 30.71373 21.7 28.5 22.35 23.0 25.75\n",
            "fc 12.86667 2.159475 3 2.737953  6.552935 19.18040 10.6 14.9 11.85 13.1 14.00\n",
            "ff 36.33333 7.333030 3 2.737953 30.019601 42.64707 28.0 41.8 33.60 39.2 40.50\n",
            "oo 36.90000 4.300000 3 2.737953 30.586268 43.21373 32.1 40.4 35.15 38.2 39.30\n",
            "\n",
            "Alpha: 0.05 ; DF Error: 8\n",
            "Critical Value of t: 3.478879 \n",
            "\n",
            "Comparison between treatments means\n",
            "\n",
            "         difference pvalue signif.        LCL         UCL\n",
            "cc - fc  11.5333333 0.1058          -1.937064  25.0037305\n",
            "cc - ff -11.9333333 0.0904       . -25.403730   1.5370638\n",
            "cc - oo -12.5000000 0.0725       . -25.970397   0.9703971\n",
            "fc - ff -23.4666667 0.0018      ** -36.937064  -9.9962695\n",
            "fc - oo -24.0333333 0.0015      ** -37.503730 -10.5629362\n",
            "ff - oo  -0.5666667 1.0000         -14.037064  12.9037305\n"
          ]
        }
      ]
    },
    {
      "cell_type": "markdown",
      "source": [
        "+ 여기서의 쌍별 차이에 대한 p-value는 bonferroni 조정에 의한 조정된 p-value"
      ],
      "metadata": {
        "id": "gp0wAz1BSk-z"
      }
    },
    {
      "cell_type": "markdown",
      "source": [
        "### 예제 5.8 Tukey의 HSD방법 : 반복수가 같은 경우"
      ],
      "metadata": {
        "id": "tjQMCanQS_5z"
      }
    },
    {
      "cell_type": "code",
      "source": [
        "outHSD = HSD.test(model, \"virus\", console = TRUE)\n",
        "outHSD"
      ],
      "metadata": {
        "colab": {
          "base_uri": "https://localhost:8080/",
          "height": 981
        },
        "id": "JnmFnuCxSkJ5",
        "outputId": "b0df25b0-6b85-42eb-9926-118b59b5cc45"
      },
      "execution_count": 47,
      "outputs": [
        {
          "output_type": "stream",
          "name": "stdout",
          "text": [
            "\n",
            "Study: model ~ \"virus\"\n",
            "\n",
            "HSD Test for yield \n",
            "\n",
            "Mean Square Error:  22.48917 \n",
            "\n",
            "virus,  means\n",
            "\n",
            "      yield      std r       se  Min  Max   Q25  Q50   Q75\n",
            "cc 24.40000 3.609709 3 2.737953 21.7 28.5 22.35 23.0 25.75\n",
            "fc 12.86667 2.159475 3 2.737953 10.6 14.9 11.85 13.1 14.00\n",
            "ff 36.33333 7.333030 3 2.737953 28.0 41.8 33.60 39.2 40.50\n",
            "oo 36.90000 4.300000 3 2.737953 32.1 40.4 35.15 38.2 39.30\n",
            "\n",
            "Alpha: 0.05 ; DF Error: 8 \n",
            "Critical Value of Studentized Range: 4.52881 \n",
            "\n",
            "Minimun Significant Difference: 12.39967 \n",
            "\n",
            "Treatments with the same letter are not significantly different.\n",
            "\n",
            "      yield groups\n",
            "oo 36.90000      a\n",
            "ff 36.33333     ab\n",
            "cc 24.40000     bc\n",
            "fc 12.86667      c\n"
          ]
        },
        {
          "output_type": "display_data",
          "data": {
            "text/plain": [
              "$statistics\n",
              "   MSerror Df   Mean      CV      MSD\n",
              "  22.48917  8 27.625 17.1666 12.39967\n",
              "\n",
              "$parameters\n",
              "   test name.t ntr StudentizedRange alpha\n",
              "  Tukey  virus   4          4.52881  0.05\n",
              "\n",
              "$means\n",
              "      yield      std r       se  Min  Max   Q25  Q50   Q75\n",
              "cc 24.40000 3.609709 3 2.737953 21.7 28.5 22.35 23.0 25.75\n",
              "fc 12.86667 2.159475 3 2.737953 10.6 14.9 11.85 13.1 14.00\n",
              "ff 36.33333 7.333030 3 2.737953 28.0 41.8 33.60 39.2 40.50\n",
              "oo 36.90000 4.300000 3 2.737953 32.1 40.4 35.15 38.2 39.30\n",
              "\n",
              "$comparison\n",
              "NULL\n",
              "\n",
              "$groups\n",
              "      yield groups\n",
              "oo 36.90000      a\n",
              "ff 36.33333     ab\n",
              "cc 24.40000     bc\n",
              "fc 12.86667      c\n",
              "\n",
              "attr(,\"class\")\n",
              "[1] \"group\""
            ]
          },
          "metadata": {}
        }
      ]
    },
    {
      "cell_type": "markdown",
      "source": [
        "+ oo, ff/ff, cc/cc, fc 이렇게 3개의 그룹으로 나뉨\n",
        "\n",
        "### 예제 5.9 Tukey의 HSD방법 : 반복수가 다른 경우"
      ],
      "metadata": {
        "id": "tuXZDJI-TB1L"
      }
    },
    {
      "cell_type": "code",
      "source": [
        "A = sweetpotato[-c(4, 5, 7), ]\n",
        "modelUnbalanced = aov(yield ~ virus, data = A)\n",
        "outUn = HSD.test(modelUnbalanced, \"virus\", group = FALSE, unbalanced = TRUE)\n",
        "print(outUn$comparison)"
      ],
      "metadata": {
        "colab": {
          "base_uri": "https://localhost:8080/"
        },
        "id": "ZqSNbpiDTBDT",
        "outputId": "cf6a8369-1b62-4fd6-a6a1-fdc993b7fa5a"
      },
      "execution_count": 48,
      "outputs": [
        {
          "output_type": "stream",
          "name": "stdout",
          "text": [
            "        difference pvalue signif.        LCL       UCL\n",
            "cc - fc       11.3 0.2515          -7.961204 30.561204\n",
            "cc - ff       -9.2 0.3858         -28.461204 10.061204\n",
            "cc - oo      -12.5 0.1957         -31.761204  6.761204\n",
            "fc - ff      -20.5 0.0397       * -39.761204 -1.238796\n",
            "fc - oo      -23.8 0.0222       * -43.061204 -4.538796\n",
            "ff - oo       -3.3 0.9173         -22.561204 15.961204\n"
          ]
        }
      ]
    },
    {
      "cell_type": "code",
      "source": [
        "outUn = HSD.test(modelUnbalanced, \"virus\", group = TRUE, unbalanced = TRUE)\n",
        "print(outUn$groups)"
      ],
      "metadata": {
        "colab": {
          "base_uri": "https://localhost:8080/"
        },
        "id": "z-1_H4ytTFPq",
        "outputId": "522233b3-cda4-49a8-dfef-8bb670e81ee3"
      },
      "execution_count": 49,
      "outputs": [
        {
          "output_type": "stream",
          "name": "stdout",
          "text": [
            "   yield groups\n",
            "oo  36.9      a\n",
            "ff  33.6      a\n",
            "cc  24.4     ab\n",
            "fc  13.1      b\n"
          ]
        }
      ]
    },
    {
      "cell_type": "markdown",
      "source": [
        "+ oo, ff, cc/ cc, fc 이렇게 2개의 그룹으로 나뉨"
      ],
      "metadata": {
        "id": "HaMT_u7LTHQj"
      }
    },
    {
      "cell_type": "code",
      "source": [
        "outUn = HSD.test(modelUnbalanced, \"virus\", group = FALSE)\n",
        "print(outUn$comparison[, 1:2])"
      ],
      "metadata": {
        "colab": {
          "base_uri": "https://localhost:8080/"
        },
        "id": "RO1qji9STGPt",
        "outputId": "ae235b72-e429-43f1-911c-7f09bdc520f7"
      },
      "execution_count": 50,
      "outputs": [
        {
          "output_type": "stream",
          "name": "stdout",
          "text": [
            "        difference pvalue\n",
            "cc - fc       11.3 0.3165\n",
            "cc - ff       -9.2 0.2974\n",
            "cc - oo      -12.5 0.0961\n",
            "fc - ff      -20.5 0.0714\n",
            "fc - oo      -23.8 0.0334\n",
            "ff - oo       -3.3 0.8849\n"
          ]
        }
      ]
    },
    {
      "cell_type": "code",
      "source": [
        "outUn = HSD.test(modelUnbalanced, \"virus\", group = TRUE)\n",
        "print(outUn$groups)"
      ],
      "metadata": {
        "colab": {
          "base_uri": "https://localhost:8080/"
        },
        "id": "WchBaeaCTIsw",
        "outputId": "dcaca5bf-5067-4500-e0d9-e185567bbf26"
      },
      "execution_count": 51,
      "outputs": [
        {
          "output_type": "stream",
          "name": "stdout",
          "text": [
            "   yield groups\n",
            "oo  36.9      a\n",
            "ff  33.6     ab\n",
            "cc  24.4     ab\n",
            "fc  13.1      b\n"
          ]
        }
      ]
    },
    {
      "cell_type": "markdown",
      "source": [
        "+ oo, ff, cc/ ff, cc, fc 이렇게 2개의 그룹으로 나뉨\n",
        "\n",
        "### 예제 5.10 : Duncan의 방법"
      ],
      "metadata": {
        "id": "VLcaIEEXTK5v"
      }
    },
    {
      "cell_type": "code",
      "source": [
        "library(agricolae)\n",
        "data(\"sweetpotato\")"
      ],
      "metadata": {
        "id": "sEvjOhPRTJhg"
      },
      "execution_count": 52,
      "outputs": []
    },
    {
      "cell_type": "code",
      "source": [
        "model = aov(yield ~ virus, data = sweetpotato)\n",
        "out.d = duncan.test(model, \"virus\", group = TRUE)\n",
        "out.d"
      ],
      "metadata": {
        "colab": {
          "base_uri": "https://localhost:8080/",
          "height": 606
        },
        "id": "Y_ULs0QETRpK",
        "outputId": "8fbb0f70-ba19-4b8c-9911-d0d65ab160b0"
      },
      "execution_count": 53,
      "outputs": [
        {
          "output_type": "display_data",
          "data": {
            "text/plain": [
              "$statistics\n",
              "   MSerror Df   Mean      CV\n",
              "  22.48917  8 27.625 17.1666\n",
              "\n",
              "$parameters\n",
              "    test name.t ntr alpha\n",
              "  Duncan  virus   4  0.05\n",
              "\n",
              "$duncan\n",
              "     Table CriticalRange\n",
              "2 3.261182      8.928965\n",
              "3 3.398460      9.304825\n",
              "4 3.475191      9.514910\n",
              "\n",
              "$means\n",
              "      yield      std r       se  Min  Max   Q25  Q50   Q75\n",
              "cc 24.40000 3.609709 3 2.737953 21.7 28.5 22.35 23.0 25.75\n",
              "fc 12.86667 2.159475 3 2.737953 10.6 14.9 11.85 13.1 14.00\n",
              "ff 36.33333 7.333030 3 2.737953 28.0 41.8 33.60 39.2 40.50\n",
              "oo 36.90000 4.300000 3 2.737953 32.1 40.4 35.15 38.2 39.30\n",
              "\n",
              "$comparison\n",
              "NULL\n",
              "\n",
              "$groups\n",
              "      yield groups\n",
              "oo 36.90000      a\n",
              "ff 36.33333      a\n",
              "cc 24.40000      b\n",
              "fc 12.86667      c\n",
              "\n",
              "attr(,\"class\")\n",
              "[1] \"group\""
            ]
          },
          "metadata": {}
        }
      ]
    },
    {
      "cell_type": "markdown",
      "source": [
        "+ oo, ff/cc/fc 이렇게 3개의 그룹으로 나뉨"
      ],
      "metadata": {
        "id": "CvQIdI9wTThi"
      }
    },
    {
      "cell_type": "code",
      "source": [
        "par(mfrow = c(1, 2))\n",
        "plot(out.d)\n",
        "plot(out.d, variation = \"IQR\")  # 4분위 범위"
      ],
      "metadata": {
        "colab": {
          "base_uri": "https://localhost:8080/",
          "height": 437
        },
        "id": "AUcXMS0mTUiN",
        "outputId": "28330414-922c-4739-dfcf-c742f3320962"
      },
      "execution_count": 54,
      "outputs": [
        {
          "output_type": "display_data",
          "data": {
            "text/plain": [
              "Plot with title “Groups and Interquartile range”"
            ],
            "image/png": "[encoded data removed]"
          },
          "metadata": {
            "image/png": {
              "width": 420,
              "height": 420
            }
          }
        }
      ]
    },
    {
      "cell_type": "markdown",
      "source": [
        "### 예제 5.11 : Scheffe의 방법"
      ],
      "metadata": {
        "id": "iGbUbGqWTXMv"
      }
    },
    {
      "cell_type": "code",
      "source": [
        "data(\"sweetpotato\")\n",
        "model = aov(yield ~ virus, data = sweetpotato)\n",
        "out.s = scheffe.test(model, \"virus\", group = FALSE)\n",
        "out.s"
      ],
      "metadata": {
        "colab": {
          "base_uri": "https://localhost:8080/",
          "height": 535
        },
        "id": "zQ5ut0U7TWHY",
        "outputId": "11fcded5-8f3a-4c34-a6d2-0907702b4876"
      },
      "execution_count": 55,
      "outputs": [
        {
          "output_type": "display_data",
          "data": {
            "text/plain": [
              "$statistics\n",
              "   MSerror Df        F   Mean      CV  Scheffe CriticalDifference\n",
              "  22.48917  8 4.066181 27.625 17.1666 3.492641           13.52368\n",
              "\n",
              "$parameters\n",
              "     test name.t ntr alpha\n",
              "  Scheffe  virus   4  0.05\n",
              "\n",
              "$means\n",
              "      yield      std r       se  Min  Max   Q25  Q50   Q75\n",
              "cc 24.40000 3.609709 3 2.737953 21.7 28.5 22.35 23.0 25.75\n",
              "fc 12.86667 2.159475 3 2.737953 10.6 14.9 11.85 13.1 14.00\n",
              "ff 36.33333 7.333030 3 2.737953 28.0 41.8 33.60 39.2 40.50\n",
              "oo 36.90000 4.300000 3 2.737953 32.1 40.4 35.15 38.2 39.30\n",
              "\n",
              "$comparison\n",
              "         Difference pvalue sig       LCL        UCL\n",
              "cc - fc  11.5333333 0.0978   .  -1.99035  25.057017\n",
              "cc - ff -11.9333333 0.0855   . -25.45702   1.590350\n",
              "cc - oo -12.5000000 0.0706   . -26.02368   1.023684\n",
              "fc - ff -23.4666667 0.0023  ** -36.99035  -9.942983\n",
              "fc - oo -24.0333333 0.0020  ** -37.55702 -10.509650\n",
              "ff - oo  -0.5666667 0.9991     -14.09035  12.957017\n",
              "\n",
              "$groups\n",
              "NULL\n",
              "\n",
              "attr(,\"class\")\n",
              "[1] \"group\""
            ]
          },
          "metadata": {}
        }
      ]
    },
    {
      "cell_type": "code",
      "source": [
        "out.s = scheffe.test(model, \"virus\", group = TRUE)\n",
        "out.s"
      ],
      "metadata": {
        "colab": {
          "base_uri": "https://localhost:8080/",
          "height": 499
        },
        "id": "11IhPj5BTY-L",
        "outputId": "a1cce31f-0438-404f-a485-29d550e30e72"
      },
      "execution_count": 56,
      "outputs": [
        {
          "output_type": "display_data",
          "data": {
            "text/plain": [
              "$statistics\n",
              "   MSerror Df        F   Mean      CV  Scheffe CriticalDifference\n",
              "  22.48917  8 4.066181 27.625 17.1666 3.492641           13.52368\n",
              "\n",
              "$parameters\n",
              "     test name.t ntr alpha\n",
              "  Scheffe  virus   4  0.05\n",
              "\n",
              "$means\n",
              "      yield      std r       se  Min  Max   Q25  Q50   Q75\n",
              "cc 24.40000 3.609709 3 2.737953 21.7 28.5 22.35 23.0 25.75\n",
              "fc 12.86667 2.159475 3 2.737953 10.6 14.9 11.85 13.1 14.00\n",
              "ff 36.33333 7.333030 3 2.737953 28.0 41.8 33.60 39.2 40.50\n",
              "oo 36.90000 4.300000 3 2.737953 32.1 40.4 35.15 38.2 39.30\n",
              "\n",
              "$comparison\n",
              "NULL\n",
              "\n",
              "$groups\n",
              "      yield groups\n",
              "oo 36.90000      a\n",
              "ff 36.33333      a\n",
              "cc 24.40000     ab\n",
              "fc 12.86667      b\n",
              "\n",
              "attr(,\"class\")\n",
              "[1] \"group\""
            ]
          },
          "metadata": {}
        }
      ]
    },
    {
      "cell_type": "markdown",
      "source": [
        "+ 예제에서는 group = FALSE를 했으나 TRUE로 적용을 해보니 oo,ff,cc/cc,fc 이렇게 2개의 그룹으로 나뉨\n",
        "\n",
        "### 예제 5.12 : SNK 방법"
      ],
      "metadata": {
        "id": "6A1B18vqTa7Q"
      }
    },
    {
      "cell_type": "code",
      "source": [
        "SNK.test(model, \"virus\", group = FALSE, console = TRUE)"
      ],
      "metadata": {
        "colab": {
          "base_uri": "https://localhost:8080/"
        },
        "id": "KcmMqTSxTaEe",
        "outputId": "9f527c90-1e95-44ab-9ad4-aac9bbf2c994"
      },
      "execution_count": 57,
      "outputs": [
        {
          "output_type": "stream",
          "name": "stdout",
          "text": [
            "\n",
            "Study: model ~ \"virus\"\n",
            "\n",
            "Student Newman Keuls Test\n",
            "for yield \n",
            "\n",
            "Mean Square Error:  22.48917 \n",
            "\n",
            "virus,  means\n",
            "\n",
            "      yield      std r       se  Min  Max   Q25  Q50   Q75\n",
            "cc 24.40000 3.609709 3 2.737953 21.7 28.5 22.35 23.0 25.75\n",
            "fc 12.86667 2.159475 3 2.737953 10.6 14.9 11.85 13.1 14.00\n",
            "ff 36.33333 7.333030 3 2.737953 28.0 41.8 33.60 39.2 40.50\n",
            "oo 36.90000 4.300000 3 2.737953 32.1 40.4 35.15 38.2 39.30\n",
            "\n",
            "Comparison between treatments means\n",
            "\n",
            "         difference pvalue signif.        LCL        UCL\n",
            "cc - fc  11.5333333 0.0176       *   2.604368  20.462299\n",
            "cc - ff -11.9333333 0.0151       * -20.862299  -3.004368\n",
            "cc - oo -12.5000000 0.0291       * -23.564170  -1.435830\n",
            "fc - ff -23.4666667 0.0008     *** -34.530836 -12.402497\n",
            "fc - oo -24.0333333 0.0012      ** -36.433003 -11.633664\n",
            "ff - oo  -0.5666667 0.8873          -9.495632   8.362299\n"
          ]
        }
      ]
    },
    {
      "cell_type": "code",
      "source": [
        "SNK.test(model, \"virus\", group = TRUE, console = TRUE)"
      ],
      "metadata": {
        "colab": {
          "base_uri": "https://localhost:8080/"
        },
        "id": "L3U8LToqTe-9",
        "outputId": "a84fb457-b903-4c12-ef71-310838978a2e"
      },
      "execution_count": 58,
      "outputs": [
        {
          "output_type": "stream",
          "name": "stdout",
          "text": [
            "\n",
            "Study: model ~ \"virus\"\n",
            "\n",
            "Student Newman Keuls Test\n",
            "for yield \n",
            "\n",
            "Mean Square Error:  22.48917 \n",
            "\n",
            "virus,  means\n",
            "\n",
            "      yield      std r       se  Min  Max   Q25  Q50   Q75\n",
            "cc 24.40000 3.609709 3 2.737953 21.7 28.5 22.35 23.0 25.75\n",
            "fc 12.86667 2.159475 3 2.737953 10.6 14.9 11.85 13.1 14.00\n",
            "ff 36.33333 7.333030 3 2.737953 28.0 41.8 33.60 39.2 40.50\n",
            "oo 36.90000 4.300000 3 2.737953 32.1 40.4 35.15 38.2 39.30\n",
            "\n",
            "Alpha: 0.05 ; DF Error: 8 \n",
            "\n",
            "Critical Range\n",
            "        2         3         4 \n",
            " 8.928965 11.064170 12.399670 \n",
            "\n",
            "Means with the same letter are not significantly different.\n",
            "\n",
            "      yield groups\n",
            "oo 36.90000      a\n",
            "ff 36.33333      a\n",
            "cc 24.40000      b\n",
            "fc 12.86667      c\n"
          ]
        }
      ]
    },
    {
      "cell_type": "markdown",
      "source": [
        "+ 예제에서는 group = FALSE를 했으나 TRUE로 적용을 해보니 oo,ff/cc/fc 이렇게 3개의 그룹으로 나뉨\n",
        "\n",
        "### 예제 5.13 : REGW 방법"
      ],
      "metadata": {
        "id": "icXoDQt8TgCI"
      }
    },
    {
      "cell_type": "code",
      "source": [
        "REGW.test(model, \"virus\", group = FALSE, console = TRUE)"
      ],
      "metadata": {
        "colab": {
          "base_uri": "https://localhost:8080/"
        },
        "id": "uRgoD-VPTfQ8",
        "outputId": "a28caaf6-9852-40a4-9e69-c83c26d4a391"
      },
      "execution_count": 59,
      "outputs": [
        {
          "output_type": "stream",
          "name": "stdout",
          "text": [
            "\n",
            "Study: model ~ \"virus\"\n",
            "\n",
            "Ryan, Einot and Gabriel and Welsch multiple range test\n",
            "for yield \n",
            "\n",
            "Mean Square Error:  22.48917 \n",
            "\n",
            "virus,  means\n",
            "\n",
            "      yield      std r       se  Min  Max   Q25  Q50   Q75\n",
            "cc 24.40000 3.609709 3 2.737953 21.7 28.5 22.35 23.0 25.75\n",
            "fc 12.86667 2.159475 3 2.737953 10.6 14.9 11.85 13.1 14.00\n",
            "ff 36.33333 7.333030 3 2.737953 28.0 41.8 33.60 39.2 40.50\n",
            "oo 36.90000 4.300000 3 2.737953 32.1 40.4 35.15 38.2 39.30\n",
            "\n",
            "Comparison between treatments means\n",
            "\n",
            "         difference pvalue signif.         LCL         UCL\n",
            "cc - fc  11.5333333 0.0350       *   0.9112173  22.1554494\n",
            "cc - ff -11.9333333 0.0360       * -22.9975029  -0.8691637\n",
            "cc - oo -12.5000000 0.0482       * -24.8996698  -0.1003302\n",
            "fc - ff -23.4666667 0.0006     *** -34.0887827 -12.8445506\n",
            "fc - oo -24.0333333 0.0007     *** -35.0975029 -12.9691637\n",
            "ff - oo  -0.5666667 0.9873         -11.1887827  10.0554494\n"
          ]
        }
      ]
    },
    {
      "cell_type": "code",
      "source": [
        "REGW.test(model, \"virus\", group = TRUE, console = TRUE)"
      ],
      "metadata": {
        "colab": {
          "base_uri": "https://localhost:8080/"
        },
        "id": "EKcmJBjjTjhk",
        "outputId": "55522511-7093-495a-e1eb-3ba18b633dd6"
      },
      "execution_count": 60,
      "outputs": [
        {
          "output_type": "stream",
          "name": "stdout",
          "text": [
            "\n",
            "Study: model ~ \"virus\"\n",
            "\n",
            "Ryan, Einot and Gabriel and Welsch multiple range test\n",
            "for yield \n",
            "\n",
            "Mean Square Error:  22.48917 \n",
            "\n",
            "virus,  means\n",
            "\n",
            "      yield      std r       se  Min  Max   Q25  Q50   Q75\n",
            "cc 24.40000 3.609709 3 2.737953 21.7 28.5 22.35 23.0 25.75\n",
            "fc 12.86667 2.159475 3 2.737953 10.6 14.9 11.85 13.1 14.00\n",
            "ff 36.33333 7.333030 3 2.737953 28.0 41.8 33.60 39.2 40.50\n",
            "oo 36.90000 4.300000 3 2.737953 32.1 40.4 35.15 38.2 39.30\n",
            "\n",
            "Alpha: 0.05 ; DF Error: 8 \n",
            "\n",
            "Critical Range\n",
            "       2        3        4 \n",
            "10.62212 11.06417 12.39967 \n",
            "\n",
            "Means with the same letter are not significantly different.\n",
            "\n",
            "      yield groups\n",
            "oo 36.90000      a\n",
            "ff 36.33333      a\n",
            "cc 24.40000      b\n",
            "fc 12.86667      c\n"
          ]
        }
      ]
    },
    {
      "cell_type": "markdown",
      "source": [
        "+ 예제에서는 group = FALSE를 했으나 TRUE로 적용을 해보니 oo,ff/cc/fc 이렇게 3개의 그룹으로 나뉨\n",
        "\n",
        "### 예제 5.14 : Waller-Duncan의 방법"
      ],
      "metadata": {
        "id": "TljMfgXyTmJC"
      }
    },
    {
      "cell_type": "code",
      "source": [
        "library(agricolae)\n",
        "data(\"sweetpotato\")"
      ],
      "metadata": {
        "id": "34tQ90tITktU"
      },
      "execution_count": 61,
      "outputs": []
    },
    {
      "cell_type": "code",
      "source": [
        "model = aov(yield ~ virus, data = sweetpotato)\n",
        "summary(model)"
      ],
      "metadata": {
        "colab": {
          "base_uri": "https://localhost:8080/",
          "height": 106
        },
        "id": "JyMRsPuhTuoT",
        "outputId": "736ab669-8d9c-4151-f15e-5cba1a79f4c9"
      },
      "execution_count": 62,
      "outputs": [
        {
          "output_type": "display_data",
          "data": {
            "text/plain": [
              "            Df Sum Sq Mean Sq F value   Pr(>F)    \n",
              "virus        3 1170.2   390.1   17.34 0.000733 ***\n",
              "Residuals    8  179.9    22.5                     \n",
              "---\n",
              "Signif. codes:  0 ‘***’ 0.001 ‘**’ 0.01 ‘*’ 0.05 ‘.’ 0.1 ‘ ’ 1"
            ]
          },
          "metadata": {}
        }
      ]
    },
    {
      "cell_type": "markdown",
      "source": [
        "+ virus에 대한 p-value < 0.05 $\\rightarrow$ H0 기각 $\\rightarrow$ virus 유의한 인자 - virus에 따라 yield가 모두 동일하다고 할 수 없다."
      ],
      "metadata": {
        "id": "GshLb3vXT1vk"
      }
    },
    {
      "cell_type": "code",
      "source": [
        "out = waller.test(model, \"virus\", group = TRUE)\n",
        "out"
      ],
      "metadata": {
        "colab": {
          "base_uri": "https://localhost:8080/",
          "height": 499
        },
        "id": "saxhi1DfTvmM",
        "outputId": "8616725b-476d-46d2-ae8a-c3206871b284"
      },
      "execution_count": 63,
      "outputs": [
        {
          "output_type": "display_data",
          "data": {
            "text/plain": [
              "$statistics\n",
              "    Mean Df      CV  MSerror  F.Value Waller CriticalDifference\n",
              "  27.625  8 17.1666 22.48917 17.34478  2.236           8.657906\n",
              "\n",
              "$parameters\n",
              "           test name.t ntr   K\n",
              "  Waller-Duncan  virus   4 100\n",
              "\n",
              "$means\n",
              "      yield      std r       se  Min  Max   Q25  Q50   Q75\n",
              "cc 24.40000 3.609709 3 2.737953 21.7 28.5 22.35 23.0 25.75\n",
              "fc 12.86667 2.159475 3 2.737953 10.6 14.9 11.85 13.1 14.00\n",
              "ff 36.33333 7.333030 3 2.737953 28.0 41.8 33.60 39.2 40.50\n",
              "oo 36.90000 4.300000 3 2.737953 32.1 40.4 35.15 38.2 39.30\n",
              "\n",
              "$comparison\n",
              "NULL\n",
              "\n",
              "$groups\n",
              "      yield groups\n",
              "oo 36.90000      a\n",
              "ff 36.33333      a\n",
              "cc 24.40000      b\n",
              "fc 12.86667      c\n",
              "\n",
              "attr(,\"class\")\n",
              "[1] \"group\""
            ]
          },
          "metadata": {}
        }
      ]
    },
    {
      "cell_type": "markdown",
      "source": [
        "+ oo, ff/cc/fc 이렇게 3개의 그룹으로 나뉨"
      ],
      "metadata": {
        "id": "3iTE6sAZT_HP"
      }
    },
    {
      "cell_type": "code",
      "source": [
        "par(mfrow = c(2, 2))\n",
        "bar.err(out$means, variation = \"SD\", horiz = TRUE, xlim = c(0, 45), bar = FALSE, col = colors()[25],\n",
        "        space = 2, main = \"Standard deviation\", las = 1)\n",
        "bar.err(out$means, variation = \"SE\", horiz = FALSE, ylim = c(0, 45), bar = FALSE, col = colors()[15],\n",
        "        space = 2, main = \"SE\", las = 1)\n",
        "bar.err(out$means, variation = \"range\", ylim = c(0, 45), bar = FALSE, col = \"green\", space = 3,\n",
        "        main = \"Range = Max - Min\", las = 1)\n",
        "bar.group(out$groups, horiz = FALSE, ylim = c(0, 45), density = 8, col = \"red\", main = \"Groups\", las = 1)"
      ],
      "metadata": {
        "colab": {
          "base_uri": "https://localhost:8080/",
          "height": 437
        },
        "id": "_bdJtQYiT3Cv",
        "outputId": "61dbe83e-8081-4a6b-8b55-15c05f6dbd12"
      },
      "execution_count": 64,
      "outputs": [
        {
          "output_type": "display_data",
          "data": {
            "text/plain": [
              "Plot with title “Groups”"
            ],
            "image/png": "[encoded data removed]"
          },
          "metadata": {
            "image/png": {
              "width": 420,
              "height": 420
            }
          }
        }
      ]
    },
    {
      "cell_type": "markdown",
      "source": [
        "## 5.2.2 다중비교의 시각화\n",
        "### (a) bar.group()"
      ],
      "metadata": {
        "id": "V0-W6c4iUEWy"
      }
    },
    {
      "cell_type": "code",
      "source": [
        "data(\"sweetpotato\")\n",
        "model = aov(yield ~ virus, data = sweetpotato)\n",
        "comparison = LSD.test(model, \"virus\", alpha = 0.01, group = TRUE)\n",
        "print(comparison$groups)"
      ],
      "metadata": {
        "colab": {
          "base_uri": "https://localhost:8080/"
        },
        "id": "G-wZrIV2UCXv",
        "outputId": "1d970bf0-ca11-4e0b-d277-375f9993c56d"
      },
      "execution_count": 65,
      "outputs": [
        {
          "output_type": "stream",
          "name": "stdout",
          "text": [
            "      yield groups\n",
            "oo 36.90000      a\n",
            "ff 36.33333      a\n",
            "cc 24.40000     ab\n",
            "fc 12.86667      b\n"
          ]
        }
      ]
    },
    {
      "cell_type": "code",
      "source": [
        "oldpar = par(cex = 1.5)\n",
        "bar.group(comparison$groups, horiz = TRUE, density = 8, col = \"blue\", border = \"red\", xlim = c(0, 50), las = 1)"
      ],
      "metadata": {
        "colab": {
          "base_uri": "https://localhost:8080/",
          "height": 437
        },
        "id": "6uTgH4cuUF2o",
        "outputId": "71fec05e-1a69-4b56-c905-d634102afb87"
      },
      "execution_count": 66,
      "outputs": [
        {
          "output_type": "display_data",
          "data": {
            "text/plain": [
              "plot without title"
            ],
            "image/png": "[encoded data removed]"
          },
          "metadata": {
            "image/png": {
              "width": 420,
              "height": 420
            }
          }
        }
      ]
    },
    {
      "cell_type": "markdown",
      "source": [
        "### (b) bar.err()"
      ],
      "metadata": {
        "id": "SOL1UaUbUHwq"
      }
    },
    {
      "cell_type": "code",
      "source": [
        "str(bar.err)\n",
        "oldpar = par(mfrow = c(2, 2), mar = c(3, 3, 2, 1), cex = 0.7)\n",
        "c1 = colors()[480]\n",
        "c2 = colors()[65]\n",
        "bar.err(outHSD$means, variation = \"range\", ylim = c(0, 50), col = c1, las = 1)\n",
        "bar.err(outHSD$means, variation = \"IQR\", horiz = TRUE, xlim = c(0, 50), col = c2, las = 1)"
      ],
      "metadata": {
        "colab": {
          "base_uri": "https://localhost:8080/",
          "height": 473
        },
        "id": "-3I1c_L0UHBP",
        "outputId": "a610c49a-db87-4e8d-f133-bae08f0e818a"
      },
      "execution_count": 67,
      "outputs": [
        {
          "output_type": "stream",
          "name": "stdout",
          "text": [
            "function (x, variation = c(\"SE\", \"SD\", \"range\", \"IQR\"), horiz = FALSE, \n",
            "    bar = TRUE, ...)  \n"
          ]
        },
        {
          "output_type": "display_data",
          "data": {
            "text/plain": [
              "plot without title"
            ],
            "image/png": "[encoded data removed]"
          },
          "metadata": {
            "image/png": {
              "width": 420,
              "height": 420
            }
          }
        }
      ]
    },
    {
      "cell_type": "code",
      "source": [
        "plot(outHSD, variation = \"range\", las = 1)\n",
        "plot(outHSD, horiz = TRUE, variation = \"SD\", las = 1)"
      ],
      "metadata": {
        "colab": {
          "base_uri": "https://localhost:8080/",
          "height": 857
        },
        "id": "qeCP7levULdo",
        "outputId": "c3853eda-195b-40f9-8989-4843f191146b"
      },
      "execution_count": 68,
      "outputs": [
        {
          "output_type": "display_data",
          "data": {
            "text/plain": [
              "Plot with title “Groups and Range”"
            ],
            "image/png": "[encoded data removed]"
          },
          "metadata": {
            "image/png": {
              "width": 420,
              "height": 420
            }
          }
        },
        {
          "output_type": "display_data",
          "data": {
            "text/plain": [
              "Plot with title “Groups and Standard deviation”"
            ],
            "image/png": "[encoded data removed]"
          },
          "metadata": {
            "image/png": {
              "width": 420,
              "height": 420
            }
          }
        }
      ]
    },
    {
      "cell_type": "code",
      "source": [
        "par(oldpar)\n",
        "oldpar = par(mfrow = c(1, 2), mar = c(3, 3, 1, 1), cex = 0.8)\n",
        "x = duncan.test(model, \"virus\", group = TRUE)\n",
        "plot(x, las = 1)\n",
        "plot(x, variation = \"IQR\", horiz = TRUE, las = 1)\n",
        "par(oldpar)"
      ],
      "metadata": {
        "colab": {
          "base_uri": "https://localhost:8080/",
          "height": 437
        },
        "id": "GKXnIU4VUNoQ",
        "outputId": "4f5cb952-afdc-476f-d03d-96cc978f761e"
      },
      "execution_count": 69,
      "outputs": [
        {
          "output_type": "display_data",
          "data": {
            "text/plain": [
              "Plot with title “Groups and Interquartile range”"
            ],
            "image/png": "[encoded data removed]"
          },
          "metadata": {
            "image/png": {
              "width": 420,
              "height": 420
            }
          }
        }
      ]
    },
    {
      "cell_type": "code",
      "source": [
        "# b + 기타그래픽 : modelPBIB missing --> ERROR\n",
        "# oldpar = par(mfrow = c(2, 2), cex = 0.7, mar = c(3.5, 1.5, 3, 1))\n",
        "# C1 = bar.err(modelPBIB$means[1:7, ], ylim = c(0, 9), col = 0, main = \"C1\", variation = \"range\", border = 3, las = 2)\n",
        "# C2 = bar.err(modelPBIB$means[8:15, ], ylim = c(0, 9), col = 0, main = \"C2\", variation = \"range\", border = 4, las = 2)\n",
        "# C3 = bar.err(modelPBIB$means[16:22, ], ylim = c(0, 9), col = 0, main = \"C3\", variation = \"range\", border = 2, las = 2)\n",
        "# C4 = bar.err(modelPBIB$means[23:30, ], ylim = c(0, 9), col = 0, main = \"C4\", variation = \"range\", border = 6, las = 2)"
      ],
      "metadata": {
        "id": "i3d9J3vvUQK_"
      },
      "execution_count": 70,
      "outputs": []
    },
    {
      "cell_type": "code",
      "source": [
        "# b + Lattice 그래픽 : modelLatticee missing --> ERROR\n",
        "# par(oldpar)\n",
        "# oldpar = par(mar = c(2.5, 2.5, 1, 0), cex = 0.6)\n",
        "# bar.group(modelLattice$group, ylim = c(0, 55), density = 10, las = 1)\n",
        "# par(oldpar)"
      ],
      "metadata": {
        "id": "fQ2pD1-8USCh"
      },
      "execution_count": 71,
      "outputs": []
    },
    {
      "cell_type": "markdown",
      "source": [
        "### (c) plot.group()"
      ],
      "metadata": {
        "id": "-D0MyAlkUUeH"
      }
    },
    {
      "cell_type": "code",
      "source": [
        "str(plot.group)\n",
        "data(\"sweetpotato\")\n",
        "model = aov(yield ~ virus, data = sweetpotato)\n",
        "comparison = LSD.test(model, \"virus\", alpha = 0.01, group = TRUE)\n",
        "op = par(cex = 1.5)\n",
        "plot(comparison, horiz = TRUE, xlim = c(0, 50), las = 1)"
      ],
      "metadata": {
        "colab": {
          "base_uri": "https://localhost:8080/",
          "height": 491
        },
        "id": "HcKLoBPsUTjm",
        "outputId": "d28791dd-2fae-4143-8d2e-e97afd1acc8a"
      },
      "execution_count": 72,
      "outputs": [
        {
          "output_type": "stream",
          "name": "stdout",
          "text": [
            "function (x, variation = c(\"range\", \"IQR\", \"SE\", \"SD\"), decreasing = TRUE, \n",
            "    horiz = FALSE, col = NULL, xlim = NULL, ylim = NULL, main = NULL, cex = NULL, \n",
            "    hy = 0, ...)  \n"
          ]
        },
        {
          "output_type": "display_data",
          "data": {
            "text/plain": [
              "Plot with title “Groups and Range”"
            ],
            "image/png": "[encoded data removed]"
          },
          "metadata": {
            "image/png": {
              "width": 420,
              "height": 420
            }
          }
        }
      ]
    },
    {
      "cell_type": "markdown",
      "source": [
        "### (d) diffograph()"
      ],
      "metadata": {
        "id": "6aSVp7EHUdzd"
      }
    },
    {
      "cell_type": "code",
      "source": [
        "str(diffograph)\n",
        "x = HSD.test(model, \"virus\", group = FALSE)\n",
        "diffograph(x, cex.axis = 0.9, xlab = \"Yield\", ylab = \"Yield\", cex = 0.9)"
      ],
      "metadata": {
        "colab": {
          "base_uri": "https://localhost:8080/",
          "height": 491
        },
        "id": "nEsRQs-6UW7n",
        "outputId": "422ac297-9351-431d-9eaf-21fef01c1f74"
      },
      "execution_count": 73,
      "outputs": [
        {
          "output_type": "stream",
          "name": "stdout",
          "text": [
            "function (x, main = NULL, color1 = \"red\", color2 = \"blue\", color3 = \"black\", \n",
            "    cex.axis = 0.8, las = 1, pch = 20, bty = \"l\", cex = 0.8, lwd = 1, xlab = \"\", \n",
            "    ylab = \"\", ...)  \n"
          ]
        },
        {
          "output_type": "display_data",
          "data": {
            "text/plain": [
              "Plot with title “yield Comparisons for virus”"
            ],
            "image/png": "[encoded data removed]"
          },
          "metadata": {
            "image/png": {
              "width": 420,
              "height": 420
            }
          }
        }
      ]
    },
    {
      "cell_type": "markdown",
      "source": [
        "## 5.2.3 기타 모형별 다중비교"
      ],
      "metadata": {
        "id": "zIQM-FogUhpR"
      }
    },
    {
      "cell_type": "code",
      "source": [
        "yield = scan(text = \"6 7 9 13 16 20 8 8 9 7 8 8 12 17 18 10 9 12 9 9 9 14 18 21 11 12 11 8 10 10 15 16 22 9 9 9\")\n",
        "block = gl(4, 9)\n",
        "clone = rep(gl(3, 3, labels = c(\"c1\", \"c2\", \"c3\")), 4)\n",
        "nitrogen = rep(gl(3, 1, labels = c(\"n1\", \"n2\", \"n3\")), 12)\n",
        "A = data.frame(block, clone, nitrogen, yield)\n",
        "str(A)\n",
        "head(A)"
      ],
      "metadata": {
        "colab": {
          "base_uri": "https://localhost:8080/",
          "height": 376
        },
        "id": "yyRJksb7UfIA",
        "outputId": "c2645d44-2057-4e41-81b7-cb2120e2a740"
      },
      "execution_count": 74,
      "outputs": [
        {
          "output_type": "stream",
          "name": "stdout",
          "text": [
            "'data.frame':\t36 obs. of  4 variables:\n",
            " $ block   : Factor w/ 4 levels \"1\",\"2\",\"3\",\"4\": 1 1 1 1 1 1 1 1 1 2 ...\n",
            " $ clone   : Factor w/ 3 levels \"c1\",\"c2\",\"c3\": 1 1 1 2 2 2 3 3 3 1 ...\n",
            " $ nitrogen: Factor w/ 3 levels \"n1\",\"n2\",\"n3\": 1 2 3 1 2 3 1 2 3 1 ...\n",
            " $ yield   : num  6 7 9 13 16 20 8 8 9 7 ...\n"
          ]
        },
        {
          "output_type": "display_data",
          "data": {
            "text/html": [
              "<table class=\"dataframe\">\n",
              "<caption>A data.frame: 6 × 4</caption>\n",
              "<thead>\n",
              "\t<tr><th></th><th scope=col>block</th><th scope=col>clone</th><th scope=col>nitrogen</th><th scope=col>yield</th></tr>\n",
              "\t<tr><th></th><th scope=col>&lt;fct&gt;</th><th scope=col>&lt;fct&gt;</th><th scope=col>&lt;fct&gt;</th><th scope=col>&lt;dbl&gt;</th></tr>\n",
              "</thead>\n",
              "<tbody>\n",
              "\t<tr><th scope=row>1</th><td>1</td><td>c1</td><td>n1</td><td> 6</td></tr>\n",
              "\t<tr><th scope=row>2</th><td>1</td><td>c1</td><td>n2</td><td> 7</td></tr>\n",
              "\t<tr><th scope=row>3</th><td>1</td><td>c1</td><td>n3</td><td> 9</td></tr>\n",
              "\t<tr><th scope=row>4</th><td>1</td><td>c2</td><td>n1</td><td>13</td></tr>\n",
              "\t<tr><th scope=row>5</th><td>1</td><td>c2</td><td>n2</td><td>16</td></tr>\n",
              "\t<tr><th scope=row>6</th><td>1</td><td>c2</td><td>n3</td><td>20</td></tr>\n",
              "</tbody>\n",
              "</table>\n"
            ],
            "text/markdown": "\nA data.frame: 6 × 4\n\n| <!--/--> | block &lt;fct&gt; | clone &lt;fct&gt; | nitrogen &lt;fct&gt; | yield &lt;dbl&gt; |\n|---|---|---|---|---|\n| 1 | 1 | c1 | n1 |  6 |\n| 2 | 1 | c1 | n2 |  7 |\n| 3 | 1 | c1 | n3 |  9 |\n| 4 | 1 | c2 | n1 | 13 |\n| 5 | 1 | c2 | n2 | 16 |\n| 6 | 1 | c2 | n3 | 20 |\n\n",
            "text/latex": "A data.frame: 6 × 4\n\\begin{tabular}{r|llll}\n  & block & clone & nitrogen & yield\\\\\n  & <fct> & <fct> & <fct> & <dbl>\\\\\n\\hline\n\t1 & 1 & c1 & n1 &  6\\\\\n\t2 & 1 & c1 & n2 &  7\\\\\n\t3 & 1 & c1 & n3 &  9\\\\\n\t4 & 1 & c2 & n1 & 13\\\\\n\t5 & 1 & c2 & n2 & 16\\\\\n\t6 & 1 & c2 & n3 & 20\\\\\n\\end{tabular}\n",
            "text/plain": [
              "  block clone nitrogen yield\n",
              "1 1     c1    n1        6   \n",
              "2 1     c1    n2        7   \n",
              "3 1     c1    n3        9   \n",
              "4 1     c2    n1       13   \n",
              "5 1     c2    n2       16   \n",
              "6 1     c2    n3       20   "
            ]
          },
          "metadata": {}
        }
      ]
    },
    {
      "cell_type": "code",
      "source": [
        "outAOV = aov(yield ~ block + clone * nitrogen, data = A)\n",
        "anova(outAOV)\n",
        "outFactorial = LSD.test(outAOV, c(\"clone\", \"nitrogen\"),\n",
        "                        main = \"Yield ~ block + nitrogen + clone + clone:nitrogen\", console = TRUE)"
      ],
      "metadata": {
        "colab": {
          "base_uri": "https://localhost:8080/",
          "height": 916
        },
        "id": "tEikQE-GUqiS",
        "outputId": "6ecdaedb-b719-4908-f297-7736c411cca8"
      },
      "execution_count": 75,
      "outputs": [
        {
          "output_type": "display_data",
          "data": {
            "text/html": [
              "<table class=\"dataframe\">\n",
              "<caption>A anova: 5 × 5</caption>\n",
              "<thead>\n",
              "\t<tr><th></th><th scope=col>Df</th><th scope=col>Sum Sq</th><th scope=col>Mean Sq</th><th scope=col>F value</th><th scope=col>Pr(&gt;F)</th></tr>\n",
              "\t<tr><th></th><th scope=col>&lt;int&gt;</th><th scope=col>&lt;dbl&gt;</th><th scope=col>&lt;dbl&gt;</th><th scope=col>&lt;dbl&gt;</th><th scope=col>&lt;dbl&gt;</th></tr>\n",
              "</thead>\n",
              "<tbody>\n",
              "\t<tr><th scope=row>block</th><td> 3</td><td> 20.75000</td><td>  6.916667</td><td>  5.824561</td><td>3.874630e-03</td></tr>\n",
              "\t<tr><th scope=row>clone</th><td> 2</td><td>497.72222</td><td>248.861111</td><td>209.567251</td><td>6.369541e-16</td></tr>\n",
              "\t<tr><th scope=row>nitrogen</th><td> 2</td><td> 54.05556</td><td> 27.027778</td><td> 22.760234</td><td>2.865383e-06</td></tr>\n",
              "\t<tr><th scope=row>clone:nitrogen</th><td> 4</td><td> 43.27778</td><td> 10.819444</td><td>  9.111111</td><td>1.264554e-04</td></tr>\n",
              "\t<tr><th scope=row>Residuals</th><td>24</td><td> 28.50000</td><td>  1.187500</td><td>        NA</td><td>          NA</td></tr>\n",
              "</tbody>\n",
              "</table>\n"
            ],
            "text/markdown": "\nA anova: 5 × 5\n\n| <!--/--> | Df &lt;int&gt; | Sum Sq &lt;dbl&gt; | Mean Sq &lt;dbl&gt; | F value &lt;dbl&gt; | Pr(&gt;F) &lt;dbl&gt; |\n|---|---|---|---|---|---|\n| block |  3 |  20.75000 |   6.916667 |   5.824561 | 3.874630e-03 |\n| clone |  2 | 497.72222 | 248.861111 | 209.567251 | 6.369541e-16 |\n| nitrogen |  2 |  54.05556 |  27.027778 |  22.760234 | 2.865383e-06 |\n| clone:nitrogen |  4 |  43.27778 |  10.819444 |   9.111111 | 1.264554e-04 |\n| Residuals | 24 |  28.50000 |   1.187500 |         NA |           NA |\n\n",
            "text/latex": "A anova: 5 × 5\n\\begin{tabular}{r|lllll}\n  & Df & Sum Sq & Mean Sq & F value & Pr(>F)\\\\\n  & <int> & <dbl> & <dbl> & <dbl> & <dbl>\\\\\n\\hline\n\tblock &  3 &  20.75000 &   6.916667 &   5.824561 & 3.874630e-03\\\\\n\tclone &  2 & 497.72222 & 248.861111 & 209.567251 & 6.369541e-16\\\\\n\tnitrogen &  2 &  54.05556 &  27.027778 &  22.760234 & 2.865383e-06\\\\\n\tclone:nitrogen &  4 &  43.27778 &  10.819444 &   9.111111 & 1.264554e-04\\\\\n\tResiduals & 24 &  28.50000 &   1.187500 &         NA &           NA\\\\\n\\end{tabular}\n",
            "text/plain": [
              "               Df Sum Sq    Mean Sq    F value    Pr(>F)      \n",
              "block           3  20.75000   6.916667   5.824561 3.874630e-03\n",
              "clone           2 497.72222 248.861111 209.567251 6.369541e-16\n",
              "nitrogen        2  54.05556  27.027778  22.760234 2.865383e-06\n",
              "clone:nitrogen  4  43.27778  10.819444   9.111111 1.264554e-04\n",
              "Residuals      24  28.50000   1.187500         NA           NA"
            ]
          },
          "metadata": {}
        },
        {
          "output_type": "stream",
          "name": "stdout",
          "text": [
            "\n",
            "Study: Yield ~ block + nitrogen + clone + clone:nitrogen\n",
            "\n",
            "LSD t Test for yield \n",
            "\n",
            "Mean Square Error:  1.1875 \n",
            "\n",
            "clone:nitrogen,  means and individual ( 95 %) CI\n",
            "\n",
            "      yield       std r        se       LCL       UCL Min Max   Q25  Q50   Q75\n",
            "c1:n1  7.50 1.2909944 4 0.5448624  6.375459  8.624541   6   9  6.75  7.5  8.25\n",
            "c1:n2  8.50 1.2909944 4 0.5448624  7.375459  9.624541   7  10  7.75  8.5  9.25\n",
            "c1:n3  9.00 0.8164966 4 0.5448624  7.875459 10.124541   8  10  8.75  9.0  9.25\n",
            "c2:n1 13.50 1.2909944 4 0.5448624 12.375459 14.624541  12  15 12.75 13.5 14.25\n",
            "c2:n2 16.75 0.9574271 4 0.5448624 15.625459 17.874541  16  18 16.00 16.5 17.25\n",
            "c2:n3 20.25 1.7078251 4 0.5448624 19.125459 21.374541  18  22 19.50 20.5 21.25\n",
            "c3:n1  9.50 1.2909944 4 0.5448624  8.375459 10.624541   8  11  8.75  9.5 10.25\n",
            "c3:n2  9.50 1.7320508 4 0.5448624  8.375459 10.624541   8  12  8.75  9.0  9.75\n",
            "c3:n3 10.25 1.5000000 4 0.5448624  9.125459 11.374541   9  12  9.00 10.0 11.25\n",
            "\n",
            "Alpha: 0.05 ; DF Error: 24\n",
            "Critical Value of t: 2.063899 \n",
            "\n",
            "least Significant Difference: 1.590341 \n",
            "\n",
            "Treatments with the same letter are not significantly different.\n",
            "\n",
            "      yield groups\n",
            "c2:n3 20.25      a\n",
            "c2:n2 16.75      b\n",
            "c2:n1 13.50      c\n",
            "c3:n3 10.25      d\n",
            "c3:n1  9.50     de\n",
            "c3:n2  9.50     de\n",
            "c1:n3  9.00    def\n",
            "c1:n2  8.50     ef\n",
            "c1:n1  7.50      f\n"
          ]
        }
      ]
    },
    {
      "cell_type": "code",
      "source": [
        "oldpar = par(mar = c(3, 3, 2, 0))\n",
        "pic1 = bar.err(outFactorial$means, variation = \"range\", ylim = c(5, 25), bar = FALSE, col = 0, las = 1)\n",
        "points(pic1$index, pic1$means, pch = 18, cex = 1.5, col = \"blue\")\n",
        "axis(1, pic1$index, labels = FALSE)\n",
        "title(main = \"average and range \\n clon:nitrongen\")\n",
        "par(oldpar)"
      ],
      "metadata": {
        "colab": {
          "base_uri": "https://localhost:8080/",
          "height": 437
        },
        "id": "-pegTyw4UsTy",
        "outputId": "98cea9e5-0e29-44d0-bd59-4390e00768cc"
      },
      "execution_count": 76,
      "outputs": [
        {
          "output_type": "display_data",
          "data": {
            "text/plain": [
              "Plot with title “average and range \n",
              " clon:nitrongen”"
            ],
            "image/png": "[encoded data removed]"
          },
          "metadata": {
            "image/png": {
              "width": 420,
              "height": 420
            }
          }
        }
      ]
    },
    {
      "cell_type": "markdown",
      "source": [
        "### 예제 5.16 : 균형불완비블록설계"
      ],
      "metadata": {
        "id": "ux39jH0IUvx2"
      }
    },
    {
      "cell_type": "code",
      "source": [
        "block = gl(10, 3)\n",
        "variety = c(1, 2, 3, 1, 2, 4, 1, 3, 5, 1, 4, 6, 1, 5, 6, 2, 3, 6, 2, 4, 5, 2, 5, 6, 3, 4, 5, 3, 4, 6)\n",
        "Y = c(69, 54, 50, 77, 65, 38, 72, 45, 54, 63, 60, 39, 70, 65, 54, 65, 68, 67, 57, 60, 62, 59, 65, 63, 75, 62, 61, 59, 55, 56)\n",
        "head(cbind(block, variety, Y))\n",
        "str(BIB.test)"
      ],
      "metadata": {
        "colab": {
          "base_uri": "https://localhost:8080/",
          "height": 291
        },
        "id": "p3FwSGZpUt8e",
        "outputId": "55cbcbec-d752-42fc-8eae-4d5775a79a1c"
      },
      "execution_count": 77,
      "outputs": [
        {
          "output_type": "display_data",
          "data": {
            "text/html": [
              "<table class=\"dataframe\">\n",
              "<caption>A matrix: 6 × 3 of type dbl</caption>\n",
              "<thead>\n",
              "\t<tr><th scope=col>block</th><th scope=col>variety</th><th scope=col>Y</th></tr>\n",
              "</thead>\n",
              "<tbody>\n",
              "\t<tr><td>1</td><td>1</td><td>69</td></tr>\n",
              "\t<tr><td>1</td><td>2</td><td>54</td></tr>\n",
              "\t<tr><td>1</td><td>3</td><td>50</td></tr>\n",
              "\t<tr><td>2</td><td>1</td><td>77</td></tr>\n",
              "\t<tr><td>2</td><td>2</td><td>65</td></tr>\n",
              "\t<tr><td>2</td><td>4</td><td>38</td></tr>\n",
              "</tbody>\n",
              "</table>\n"
            ],
            "text/markdown": "\nA matrix: 6 × 3 of type dbl\n\n| block | variety | Y |\n|---|---|---|\n| 1 | 1 | 69 |\n| 1 | 2 | 54 |\n| 1 | 3 | 50 |\n| 2 | 1 | 77 |\n| 2 | 2 | 65 |\n| 2 | 4 | 38 |\n\n",
            "text/latex": "A matrix: 6 × 3 of type dbl\n\\begin{tabular}{lll}\n block & variety & Y\\\\\n\\hline\n\t 1 & 1 & 69\\\\\n\t 1 & 2 & 54\\\\\n\t 1 & 3 & 50\\\\\n\t 2 & 1 & 77\\\\\n\t 2 & 2 & 65\\\\\n\t 2 & 4 & 38\\\\\n\\end{tabular}\n",
            "text/plain": [
              "     block variety Y \n",
              "[1,] 1     1       69\n",
              "[2,] 1     2       54\n",
              "[3,] 1     3       50\n",
              "[4,] 2     1       77\n",
              "[5,] 2     2       65\n",
              "[6,] 2     4       38"
            ]
          },
          "metadata": {}
        },
        {
          "output_type": "stream",
          "name": "stdout",
          "text": [
            "function (block, trt, y, test = c(\"lsd\", \"tukey\", \"duncan\", \"waller\", \"snk\"), \n",
            "    alpha = 0.05, group = TRUE, console = FALSE)  \n"
          ]
        }
      ]
    },
    {
      "cell_type": "code",
      "source": [
        "BIB.test(block, variety, Y, console = TRUE)\n",
        "out = BIB.test(block, trt = variety, Y, test = \"tukey\", group = FALSE, console = TRUE)\n",
        "names(out)\n",
        "rm(block, variety)"
      ],
      "metadata": {
        "colab": {
          "base_uri": "https://localhost:8080/",
          "height": 1000
        },
        "id": "i-9Bz40vUxRk",
        "outputId": "c39af9a8-9327-4a1c-9ddc-db2be870621b"
      },
      "execution_count": 78,
      "outputs": [
        {
          "output_type": "stream",
          "name": "stdout",
          "text": [
            "\n",
            "ANALYSIS BIB:  Y \n",
            "Class level information\n",
            "\n",
            "Block:  1 2 3 4 5 6 7 8 9 10\n",
            "Trt  :  1 2 3 4 5 6\n",
            "\n",
            "Number of observations:  30 \n",
            "\n",
            "Analysis of Variance Table\n",
            "\n",
            "Response: Y\n",
            "            Df  Sum Sq Mean Sq F value  Pr(>F)  \n",
            "block.unadj  9  466.97  51.885  0.9019 0.54712  \n",
            "trt.adj      5 1156.44 231.289  4.0206 0.01629 *\n",
            "Residuals   15  862.89  57.526                  \n",
            "---\n",
            "Signif. codes:  0 ‘***’ 0.001 ‘**’ 0.01 ‘*’ 0.05 ‘.’ 0.1 ‘ ’ 1\n",
            "\n",
            "coefficient of variation: 12.6 %\n",
            "Y Means: 60.3 \n",
            "\n",
            "variety,  statistics\n",
            "\n",
            "     Y mean.adj       SE r       std Min Max\n",
            "1 70.2 75.13333 3.728552 5  5.069517  63  77\n",
            "2 60.0 58.71667 3.728552 5  4.898979  54  65\n",
            "3 59.4 58.55000 3.728552 5 12.381438  45  75\n",
            "4 55.0 54.96667 3.728552 5  9.848858  38  62\n",
            "5 61.4 60.05000 3.728552 5  4.505552  54  65\n",
            "6 55.8 54.38333 3.728552 5 10.756393  39  67\n",
            "\n",
            "LSD test\n",
            "Std.diff   : 5.363111\n",
            "Alpha      : 0.05\n",
            "LSD        : 11.4312\n",
            "Parameters BIB\n",
            "Lambda     : 2\n",
            "treatmeans : 6\n",
            "Block size : 3\n",
            "Blocks     : 10\n",
            "Replication: 5 \n",
            "\n",
            "Efficiency factor 0.8 \n",
            "\n",
            "<<< Book >>>\n",
            "\n",
            "Comparison between treatments means\n",
            "      Difference pvalue sig.\n",
            "1 - 2 16.4166667 0.0080   **\n",
            "1 - 3 16.5833333 0.0074   **\n",
            "1 - 4 20.1666667 0.0018   **\n",
            "1 - 5 15.0833333 0.0132    *\n",
            "1 - 6 20.7500000 0.0016   **\n",
            "2 - 3  0.1666667 0.9756     \n",
            "2 - 4  3.7500000 0.4952     \n",
            "2 - 5 -1.3333333 0.8070     \n",
            "2 - 6  4.3333333 0.4318     \n",
            "3 - 4  3.5833333 0.5142     \n",
            "3 - 5 -1.5000000 0.7836     \n",
            "3 - 6  4.1666667 0.4492     \n",
            "4 - 5 -5.0833333 0.3582     \n",
            "4 - 6  0.5833333 0.9148     \n",
            "5 - 6  5.6666667 0.3074     \n",
            "\n",
            "Treatments with the same letter are not significantly different.\n",
            "\n",
            "         Y groups\n",
            "1 75.13333      a\n",
            "5 60.05000      b\n",
            "2 58.71667      b\n",
            "3 58.55000      b\n",
            "4 54.96667      b\n",
            "6 54.38333      b\n",
            "\n",
            "ANALYSIS BIB:  Y \n",
            "Class level information\n",
            "\n",
            "Block:  1 2 3 4 5 6 7 8 9 10\n",
            "Trt  :  1 2 3 4 5 6\n",
            "\n",
            "Number of observations:  30 \n",
            "\n",
            "Analysis of Variance Table\n",
            "\n",
            "Response: Y\n",
            "            Df  Sum Sq Mean Sq F value  Pr(>F)  \n",
            "block.unadj  9  466.97  51.885  0.9019 0.54712  \n",
            "trt.adj      5 1156.44 231.289  4.0206 0.01629 *\n",
            "Residuals   15  862.89  57.526                  \n",
            "---\n",
            "Signif. codes:  0 ‘***’ 0.001 ‘**’ 0.01 ‘*’ 0.05 ‘.’ 0.1 ‘ ’ 1\n",
            "\n",
            "coefficient of variation: 12.6 %\n",
            "Y Means: 60.3 \n",
            "\n",
            "variety,  statistics\n",
            "\n",
            "     Y mean.adj       SE r       std Min Max\n",
            "1 70.2 75.13333 3.728552 5  5.069517  63  77\n",
            "2 60.0 58.71667 3.728552 5  4.898979  54  65\n",
            "3 59.4 58.55000 3.728552 5 12.381438  45  75\n",
            "4 55.0 54.96667 3.728552 5  9.848858  38  62\n",
            "5 61.4 60.05000 3.728552 5  4.505552  54  65\n",
            "6 55.8 54.38333 3.728552 5 10.756393  39  67\n",
            "\n",
            "Tukey\n",
            "Alpha      : 0.05\n",
            "Std.err    : 3.792292\n",
            "HSD        : 17.42458\n",
            "Parameters BIB\n",
            "Lambda     : 2\n",
            "treatmeans : 6\n",
            "Block size : 3\n",
            "Blocks     : 10\n",
            "Replication: 5 \n",
            "\n",
            "Efficiency factor 0.8 \n",
            "\n",
            "<<< Book >>>\n",
            "\n",
            "Comparison between treatments means\n",
            "      Difference pvalue sig.\n",
            "1 - 2 16.4166667 0.0705    .\n",
            "1 - 3 16.5833333 0.0666    .\n",
            "1 - 4 20.1666667 0.0191    *\n",
            "1 - 5 15.0833333 0.1096     \n",
            "1 - 6 20.7500000 0.0155    *\n",
            "2 - 3  0.1666667 1.0000     \n",
            "2 - 4  3.7500000 0.9792     \n",
            "2 - 5 -1.3333333 0.9998     \n",
            "2 - 6  4.3333333 0.9616     \n",
            "3 - 4  3.5833333 0.9829     \n",
            "3 - 5 -1.5000000 0.9997     \n",
            "3 - 6  4.1666667 0.9674     \n",
            "4 - 5 -5.0833333 0.9273     \n",
            "4 - 6  0.5833333 1.0000     \n",
            "5 - 6  5.6666667 0.8908     \n"
          ]
        },
        {
          "output_type": "display_data",
          "data": {
            "text/html": [
              "<style>\n",
              ".list-inline {list-style: none; margin:0; padding: 0}\n",
              ".list-inline>li {display: inline-block}\n",
              ".list-inline>li:not(:last-child)::after {content: \"\\00b7\"; padding: 0 .5ex}\n",
              "</style>\n",
              "<ol class=list-inline><li>'parameters'</li><li>'statistics'</li><li>'comparison'</li><li>'means'</li><li>'groups'</li></ol>\n"
            ],
            "text/markdown": "1. 'parameters'\n2. 'statistics'\n3. 'comparison'\n4. 'means'\n5. 'groups'\n\n\n",
            "text/latex": "\\begin{enumerate*}\n\\item 'parameters'\n\\item 'statistics'\n\\item 'comparison'\n\\item 'means'\n\\item 'groups'\n\\end{enumerate*}\n",
            "text/plain": [
              "[1] \"parameters\" \"statistics\" \"comparison\" \"means\"      \"groups\"    "
            ]
          },
          "metadata": {}
        }
      ]
    }
  ]
}