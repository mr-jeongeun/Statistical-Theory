{
  "nbformat": 4,
  "nbformat_minor": 0,
  "metadata": {
    "colab": {
      "provenance": [],
      "collapsed_sections": [
        "cpAGvObhDDfq"
      ]
    },
    "kernelspec": {
      "name": "ir",
      "display_name": "R"
    },
    "language_info": {
      "name": "R"
    }
  },
  "cells": [
    {
      "cell_type": "markdown",
      "source": [
        "## 7.1 주요 R 패키지 이용\n",
        "### 예제 7.1: Dunn 검정"
      ],
      "metadata": {
        "id": "oG3ajQysC5RW"
      }
    },
    {
      "cell_type": "code",
      "source": [
        "install.packages(\"FSA\")\n",
        "library(FSA)\n",
        "ponds = data.frame(pond = as.factor(rep(1:4, each = 8)),\n",
        "                   pH = c(7.68, 7.69, 7.70, 7.70, 7.72, 7.73, 7.73, 7.76,\n",
        "                          7.71, 7.73, 7.74, 7.74, 7.78, 7.78, 7.80, 7.81,\n",
        "                          7.74, 7.75, 7.77, 7.78, 7.80, 7.81, 7.84, NA,\n",
        "                          7.71, 7.71, 7.74, 7.79, 7.81, 7.85, 7.87, 7.91))\n",
        "ponds2 = ponds[complete.cases(ponds), ]  # 결측치 제외 -> 불균형자료\n",
        "kruskal.test(pH ~ pond, data = ponds2)"
      ],
      "metadata": {
        "colab": {
          "base_uri": "https://localhost:8080/",
          "height": 267
        },
        "id": "b8U0VcISbfF7",
        "outputId": "871e4b21-dc74-46b3-9dab-b14a4574ee3a"
      },
      "execution_count": 1,
      "outputs": [
        {
          "output_type": "stream",
          "name": "stderr",
          "text": [
            "Installing package into ‘/usr/local/lib/R/site-library’\n",
            "(as ‘lib’ is unspecified)\n",
            "\n",
            "also installing the dependencies ‘numDeriv’, ‘SparseM’, ‘MatrixModels’, ‘minqa’, ‘nloptr’, ‘Rcpp’, ‘RcppEigen’, ‘carData’, ‘abind’, ‘pbkrtest’, ‘quantreg’, ‘lme4’, ‘zoo’, ‘car’, ‘dunn.test’, ‘lmtest’, ‘plotrix’\n",
            "\n",
            "\n",
            "## FSA v0.9.4. See citation('FSA') if used in publication.\n",
            "## Run fishR() for related website and fishR('IFAR') for related book.\n",
            "\n"
          ]
        },
        {
          "output_type": "display_data",
          "data": {
            "text/plain": [
              "\n",
              "\tKruskal-Wallis rank sum test\n",
              "\n",
              "data:  pH by pond\n",
              "Kruskal-Wallis chi-squared = 11.944, df = 3, p-value = 0.007579\n"
            ]
          },
          "metadata": {}
        }
      ]
    },
    {
      "cell_type": "markdown",
      "source": [
        "+ 검정의 p-value < 0.05 $\\rightarrow$ H0 기각o $\\rightarrow$ 4개의 연못의 산성도는 모두 같다고 할 수 없다. $\\rightarrow$ 다중비교 필요\n"
      ],
      "metadata": {
        "id": "xFYJOGeKbzZD"
      }
    },
    {
      "cell_type": "code",
      "source": [
        "dunnTest(ponds2$pH, ponds2$pond)  # method = holm(default)"
      ],
      "metadata": {
        "colab": {
          "base_uri": "https://localhost:8080/",
          "height": 231
        },
        "id": "N4vz1LU6b2ch",
        "outputId": "490b398c-67bf-4bfc-f9e0-d9f24ea27465"
      },
      "execution_count": 2,
      "outputs": [
        {
          "output_type": "stream",
          "name": "stderr",
          "text": [
            "Dunn (1964) Kruskal-Wallis multiple comparison\n",
            "\n",
            "  p-values adjusted with the Holm method.\n",
            "\n",
            "\n"
          ]
        },
        {
          "output_type": "display_data",
          "data": {
            "text/plain": [
              "  Comparison           Z     P.unadj      P.adj\n",
              "1      1 - 2 -2.13700630 0.032597479 0.13038992\n",
              "2      1 - 3 -2.94934889 0.003184443 0.01592221\n",
              "3      2 - 3 -0.88480467 0.376261991 1.00000000\n",
              "4      1 - 4 -2.99180882 0.002773299 0.01663979\n",
              "5      2 - 4 -0.85480252 0.392660483 0.78532097\n",
              "6      3 - 4  0.05898698 0.952962480 0.95296248"
            ]
          },
          "metadata": {}
        }
      ]
    },
    {
      "cell_type": "markdown",
      "source": [
        "+ unadj : 1-2, 1-3, 1-4 유의, adj : 1-3, 1-4 유의"
      ],
      "metadata": {
        "id": "vyCMJHiwb4cg"
      }
    },
    {
      "cell_type": "code",
      "source": [
        "dunnTest(pH ~ pond, data = ponds2, method = \"bonferroni\")  # method = bonferroni"
      ],
      "metadata": {
        "colab": {
          "base_uri": "https://localhost:8080/",
          "height": 231
        },
        "id": "kSTxqKMOb2Z0",
        "outputId": "e7cf3d2e-8a82-4945-d776-20402231d27d"
      },
      "execution_count": 3,
      "outputs": [
        {
          "output_type": "stream",
          "name": "stderr",
          "text": [
            "Dunn (1964) Kruskal-Wallis multiple comparison\n",
            "\n",
            "  p-values adjusted with the Bonferroni method.\n",
            "\n",
            "\n"
          ]
        },
        {
          "output_type": "display_data",
          "data": {
            "text/plain": [
              "  Comparison           Z     P.unadj      P.adj\n",
              "1      1 - 2 -2.13700630 0.032597479 0.19558488\n",
              "2      1 - 3 -2.94934889 0.003184443 0.01910666\n",
              "3      2 - 3 -0.88480467 0.376261991 1.00000000\n",
              "4      1 - 4 -2.99180882 0.002773299 0.01663979\n",
              "5      2 - 4 -0.85480252 0.392660483 1.00000000\n",
              "6      3 - 4  0.05898698 0.952962480 1.00000000"
            ]
          },
          "metadata": {}
        }
      ]
    },
    {
      "cell_type": "markdown",
      "source": [
        "+ unadj : 1-2, 1-3, 1-4 유의, adj : 1-3, 1-4 유의\n"
      ],
      "metadata": {
        "id": "bPVvV00vb7gK"
      }
    },
    {
      "cell_type": "code",
      "source": [
        "dunnTest(pH ~ pond, data = ponds2, method = \"bh\")  # method = bh"
      ],
      "metadata": {
        "colab": {
          "base_uri": "https://localhost:8080/",
          "height": 231
        },
        "id": "beC-JNp_b2Xu",
        "outputId": "9fa70be4-6343-48ed-bfd6-093aafcfc15d"
      },
      "execution_count": 4,
      "outputs": [
        {
          "output_type": "stream",
          "name": "stderr",
          "text": [
            "Dunn (1964) Kruskal-Wallis multiple comparison\n",
            "\n",
            "  p-values adjusted with the Benjamini-Hochberg method.\n",
            "\n",
            "\n"
          ]
        },
        {
          "output_type": "display_data",
          "data": {
            "text/plain": [
              "  Comparison           Z     P.unadj       P.adj\n",
              "1      1 - 2 -2.13700630 0.032597479 0.065194958\n",
              "2      1 - 3 -2.94934889 0.003184443 0.009553328\n",
              "3      2 - 3 -0.88480467 0.376261991 0.564392987\n",
              "4      1 - 4 -2.99180882 0.002773299 0.016639793\n",
              "5      2 - 4 -0.85480252 0.392660483 0.471192580\n",
              "6      3 - 4  0.05898698 0.952962480 0.952962480"
            ]
          },
          "metadata": {}
        }
      ]
    },
    {
      "cell_type": "markdown",
      "source": [
        "+ unadj : 1-2, 1-3, 1-4 유의, adj : 1-3, 1-4 유의"
      ],
      "metadata": {
        "id": "bUSEub8nb_PO"
      }
    },
    {
      "cell_type": "code",
      "source": [
        "dunnTest(pH ~ pond, data = ponds2, method = \"none\")  # method 미조정"
      ],
      "metadata": {
        "colab": {
          "base_uri": "https://localhost:8080/",
          "height": 231
        },
        "id": "Knecykzcb2V6",
        "outputId": "a03869a2-f928-4e0a-c342-c4f7494d5eb1"
      },
      "execution_count": 5,
      "outputs": [
        {
          "output_type": "stream",
          "name": "stderr",
          "text": [
            "Dunn (1964) Kruskal-Wallis multiple comparison\n",
            "\n",
            "  with no adjustment for p-values.\n",
            "\n",
            "\n"
          ]
        },
        {
          "output_type": "display_data",
          "data": {
            "text/plain": [
              "  Comparison           Z     P.unadj       P.adj\n",
              "1      1 - 2 -2.13700630 0.032597479 0.032597479\n",
              "2      1 - 3 -2.94934889 0.003184443 0.003184443\n",
              "3      2 - 3 -0.88480467 0.376261991 0.376261991\n",
              "4      1 - 4 -2.99180882 0.002773299 0.002773299\n",
              "5      2 - 4 -0.85480252 0.392660483 0.392660483\n",
              "6      3 - 4  0.05898698 0.952962480 0.952962480"
            ]
          },
          "metadata": {}
        }
      ]
    },
    {
      "cell_type": "markdown",
      "source": [
        "+ unadj : 1-2, 1-3, 1-4 유의, adj : 1-2, 1-3, 1-4 유의"
      ],
      "metadata": {
        "id": "bcYUrWrwcAxc"
      }
    },
    {
      "cell_type": "code",
      "source": [
        "dunnTest(pH ~ pond, data = ponds2, two.sided = FALSE) # 단측검정"
      ],
      "metadata": {
        "colab": {
          "base_uri": "https://localhost:8080/",
          "height": 231
        },
        "id": "WatbO3Hnb2Tn",
        "outputId": "cb1b8bae-3b3a-40b1-9d88-0f51c4e1099d"
      },
      "execution_count": 6,
      "outputs": [
        {
          "output_type": "stream",
          "name": "stderr",
          "text": [
            "Dunn (1964) Kruskal-Wallis multiple comparison\n",
            "\n",
            "  p-values adjusted with the Holm method.\n",
            "\n",
            "\n"
          ]
        },
        {
          "output_type": "display_data",
          "data": {
            "text/plain": [
              "  Comparison           Z     P.unadj       P.adj\n",
              "1      1 - 2 -2.13700630 0.016298740 0.065194958\n",
              "2      1 - 3 -2.94934889 0.001592221 0.007961106\n",
              "3      2 - 3 -0.88480467 0.188130996 0.564392987\n",
              "4      1 - 4 -2.99180882 0.001386649 0.008319896\n",
              "5      2 - 4 -0.85480252 0.196330241 0.392660483\n",
              "6      3 - 4  0.05898698 0.476481240 0.476481240"
            ]
          },
          "metadata": {}
        }
      ]
    },
    {
      "cell_type": "markdown",
      "source": [
        "+ unadj : 1-2, 1-3, 1-4 유의, adj : 1-3, 1-4 유의"
      ],
      "metadata": {
        "id": "Ed8FQ0qFcE4i"
      }
    },
    {
      "cell_type": "code",
      "source": [
        "dunnTest(pH ~ pond, data = ponds)"
      ],
      "metadata": {
        "colab": {
          "base_uri": "https://localhost:8080/",
          "height": 267
        },
        "id": "CTGph2F6b2RS",
        "outputId": "cf92de11-6372-43c4-d35c-209200634c14"
      },
      "execution_count": 7,
      "outputs": [
        {
          "output_type": "stream",
          "name": "stderr",
          "text": [
            "Warning message:\n",
            "“Some rows deleted from 'x' and 'g' because missing data.”\n",
            "Dunn (1964) Kruskal-Wallis multiple comparison\n",
            "\n",
            "  p-values adjusted with the Holm method.\n",
            "\n",
            "\n"
          ]
        },
        {
          "output_type": "display_data",
          "data": {
            "text/plain": [
              "  Comparison           Z     P.unadj      P.adj\n",
              "1      1 - 2 -2.13700630 0.032597479 0.13038992\n",
              "2      1 - 3 -2.94934889 0.003184443 0.01592221\n",
              "3      2 - 3 -0.88480467 0.376261991 1.00000000\n",
              "4      1 - 4 -2.99180882 0.002773299 0.01663979\n",
              "5      2 - 4 -0.85480252 0.392660483 0.78532097\n",
              "6      3 - 4  0.05898698 0.952962480 0.95296248"
            ]
          },
          "metadata": {}
        }
      ]
    },
    {
      "cell_type": "markdown",
      "source": [
        "+ unadj : 1-2, 1-3, 1-4 유의, adj : 1-3, 1-4 유의"
      ],
      "metadata": {
        "id": "uPuRJtFrcNfi"
      }
    },
    {
      "cell_type": "code",
      "source": [
        "tmp = dunnTest(pH ~ pond, data = ponds2)\n",
        "print(tmp, dunn.test.results = TRUE)"
      ],
      "metadata": {
        "colab": {
          "base_uri": "https://localhost:8080/"
        },
        "id": "lQzv_VdxcOlw",
        "outputId": "a9a042fe-2e8f-4cfd-86a4-1b978a3ed2c1"
      },
      "execution_count": 8,
      "outputs": [
        {
          "output_type": "stream",
          "name": "stdout",
          "text": [
            "  Kruskal-Wallis rank sum test \n",
            "  \n",
            " data: x and g \n",
            " Kruskal-Wallis chi-squared = 11.9435, df = 3, p-value = 0.01 \n",
            "  \n",
            "  \n",
            "                              Comparison of x by g                               \n",
            "                                     (Holm)                                      \n",
            " Col Mean-| \n",
            " Row Mean |          1          2          3 \n",
            " ---------+--------------------------------- \n",
            "        2 |  -2.137006 \n",
            "          |     0.1304 \n",
            "          | \n",
            "        3 |  -2.949348  -0.884804 \n",
            "          |    0.0159*     1.0000 \n",
            "          | \n",
            "        4 |  -2.991808  -0.854802   0.058986 \n",
            "          |    0.0166*     0.7853     0.9530 \n",
            "  \n",
            " alpha = 0.05 \n",
            " Reject Ho if p <= alpha \n"
          ]
        }
      ]
    },
    {
      "cell_type": "markdown",
      "source": [
        "+ 실험별오류율 0.05에 대하여 1-3, 1-4 유의"
      ],
      "metadata": {
        "id": "ja7-kmF7cPbF"
      }
    },
    {
      "cell_type": "markdown",
      "source": [
        "### 예제 7.2: Dunn 검정"
      ],
      "metadata": {
        "id": "71Z5LohjcZ0X"
      }
    },
    {
      "cell_type": "code",
      "source": [
        "install.packages(\"dunn.test\")\n",
        "library(dunn.test)\n",
        "attach(airquality)\n",
        "dunn.test(Ozone, Month, kw = FALSE, method = \"bonferroni\", altp = T)  # method = bonferroni"
      ],
      "metadata": {
        "colab": {
          "base_uri": "https://localhost:8080/"
        },
        "id": "f3I5rSBNcYZe",
        "outputId": "c7c86aae-2769-4a8f-8892-b16584908fc5"
      },
      "execution_count": 9,
      "outputs": [
        {
          "output_type": "stream",
          "name": "stderr",
          "text": [
            "Installing package into ‘/usr/local/lib/R/site-library’\n",
            "(as ‘lib’ is unspecified)\n",
            "\n"
          ]
        },
        {
          "output_type": "stream",
          "name": "stdout",
          "text": [
            "\n",
            "                         Comparison of Ozone by Month                          \n",
            "                                 (Bonferroni)                                  \n",
            "Col Mean-|\n",
            "Row Mean |          5          6          7          8\n",
            "---------+--------------------------------------------\n",
            "       6 |  -0.925158\n",
            "         |     1.0000\n",
            "         |\n",
            "       7 |  -4.419470  -2.244208\n",
            "         |    0.0001*     0.2482\n",
            "         |\n",
            "       8 |  -4.132813  -2.038635   0.286657\n",
            "         |    0.0004*     0.4149     1.0000\n",
            "         |\n",
            "       9 |  -1.321202   0.002538   3.217199   2.922827\n",
            "         |     1.0000     1.0000    0.0129*    0.0347*\n",
            "\n",
            "alpha = 0.05\n",
            "Reject Ho if p <= alpha\n"
          ]
        }
      ]
    },
    {
      "cell_type": "markdown",
      "source": [
        "+ 실험별오류율 0.05에 대하여 5-7, 5-8, 7-9, 8-9 유의"
      ],
      "metadata": {
        "id": "_h9hBlB7ceLY"
      }
    },
    {
      "cell_type": "code",
      "source": [
        "dunn.test(Ozone, Month, kw = FALSE, method = \"hs\", altp = T)  # method = hs"
      ],
      "metadata": {
        "colab": {
          "base_uri": "https://localhost:8080/"
        },
        "id": "BgR0iSJocYVv",
        "outputId": "de176227-f173-4f5b-ae04-88a306510bb9"
      },
      "execution_count": 10,
      "outputs": [
        {
          "output_type": "stream",
          "name": "stdout",
          "text": [
            "\n",
            "                         Comparison of Ozone by Month                          \n",
            "                                 (Holm-Šidák)                                  \n",
            "Col Mean-|\n",
            "Row Mean |          5          6          7          8\n",
            "---------+--------------------------------------------\n",
            "       6 |  -0.925158\n",
            "         |     0.7315\n",
            "         |\n",
            "       7 |  -4.419470  -2.244208\n",
            "         |    0.0001*     0.1400\n",
            "         |\n",
            "       8 |  -4.132813  -2.038635   0.286657\n",
            "         |    0.0003*     0.1909     0.9491\n",
            "         |\n",
            "       9 |  -1.321202   0.002538   3.217199   2.922827\n",
            "         |     0.5619     0.9980    0.0103*    0.0240*\n",
            "\n",
            "alpha = 0.05\n",
            "Reject Ho if p <= alpha\n"
          ]
        }
      ]
    },
    {
      "cell_type": "markdown",
      "source": [
        "+ 실험별오류율 0.05에 대하여 5-7, 5-8, 7-9, 8-9 유의"
      ],
      "metadata": {
        "id": "LPAtlcr1cg2d"
      }
    },
    {
      "cell_type": "code",
      "source": [
        "dunn.test(Ozone, Month, kw = FALSE, method = \"bh\", altp = T)  # method = bh"
      ],
      "metadata": {
        "colab": {
          "base_uri": "https://localhost:8080/"
        },
        "id": "U2engwqWcYTJ",
        "outputId": "b695af58-ca13-49c6-b5a1-24fea5604b73"
      },
      "execution_count": 11,
      "outputs": [
        {
          "output_type": "stream",
          "name": "stdout",
          "text": [
            "\n",
            "                         Comparison of Ozone by Month                          \n",
            "                             (Benjamini-Hochberg)                              \n",
            "Col Mean-|\n",
            "Row Mean |          5          6          7          8\n",
            "---------+--------------------------------------------\n",
            "       6 |  -0.925158\n",
            "         |     0.4436\n",
            "         |\n",
            "       7 |  -4.419470  -2.244208\n",
            "         |    0.0001*    0.0496*\n",
            "         |\n",
            "       8 |  -4.132813  -2.038635   0.286657\n",
            "         |    0.0002*     0.0691     0.8604\n",
            "         |\n",
            "       9 |  -1.321202   0.002538   3.217199   2.922827\n",
            "         |     0.2663     0.9980    0.0043*    0.0087*\n",
            "\n",
            "alpha = 0.05\n",
            "Reject Ho if p <= alpha\n"
          ]
        }
      ]
    },
    {
      "cell_type": "markdown",
      "source": [
        "+ 실험별오류율 0.05에 대하여 5-7, 5-8, 6-7, 7-9, 8-9 유의"
      ],
      "metadata": {
        "id": "4s7A7ADScjCt"
      }
    },
    {
      "cell_type": "code",
      "source": [
        "dunn.test(Ozone, Month, kw = FALSE, method = \"bonferroni\", altp = F)  # method = bonferroni"
      ],
      "metadata": {
        "colab": {
          "base_uri": "https://localhost:8080/"
        },
        "id": "wRp12vCicYQ1",
        "outputId": "9715df8c-7415-418d-ca6e-b55edf180cd9"
      },
      "execution_count": 12,
      "outputs": [
        {
          "output_type": "stream",
          "name": "stdout",
          "text": [
            "\n",
            "                         Comparison of Ozone by Month                          \n",
            "                                 (Bonferroni)                                  \n",
            "Col Mean-|\n",
            "Row Mean |          5          6          7          8\n",
            "---------+--------------------------------------------\n",
            "       6 |  -0.925158\n",
            "         |     1.0000\n",
            "         |\n",
            "       7 |  -4.419470  -2.244208\n",
            "         |    0.0000*     0.1241\n",
            "         |\n",
            "       8 |  -4.132813  -2.038635   0.286657\n",
            "         |    0.0002*     0.2074     1.0000\n",
            "         |\n",
            "       9 |  -1.321202   0.002538   3.217199   2.922827\n",
            "         |     0.9322     1.0000    0.0065*    0.0173*\n",
            "\n",
            "alpha = 0.05\n",
            "Reject Ho if p <= alpha/2\n"
          ]
        }
      ]
    },
    {
      "cell_type": "markdown",
      "source": [
        "+ 실험별오류율 0.025에 대하여 5-7, 5-8, 7-9, 8-9 유의"
      ],
      "metadata": {
        "id": "TyAvJ8M6ckp-"
      }
    },
    {
      "cell_type": "markdown",
      "source": [
        "### 예제 7.3"
      ],
      "metadata": {
        "id": "v25OTde3cotr"
      }
    },
    {
      "cell_type": "code",
      "source": [
        "install.packages(\"pgirmess\")\n",
        "library(pgirmess)\n",
        "resp = c(0.44, 0.44, 0.54, 0.32, 0.21, 0.28, 0.7, 0.77, 0.48,\n",
        "         0.64, 0.71, 0.75, 0.8, 0.76, 0.34, 0.80, 0.73, 0.8)\n",
        "categ = as.factor(rep(c(\"A\", \"B\", \"C\"), times = 1, each = 6))\n",
        "kruskalmc(resp ~ categ)"
      ],
      "metadata": {
        "colab": {
          "base_uri": "https://localhost:8080/",
          "height": 575
        },
        "id": "89ha1XgrcYOe",
        "outputId": "f11917fe-52f5-468f-bc8c-479f2c5bfdf7"
      },
      "execution_count": 13,
      "outputs": [
        {
          "output_type": "stream",
          "name": "stderr",
          "text": [
            "Installing package into ‘/usr/local/lib/R/site-library’\n",
            "(as ‘lib’ is unspecified)\n",
            "\n",
            "also installing the dependencies ‘wk’, ‘proxy’, ‘classInt’, ‘s2’, ‘units’, ‘spData’, ‘deldir’, ‘e1071’, ‘sf’, ‘sp’, ‘spdep’\n",
            "\n",
            "\n",
            "The legacy packages maptools, rgdal, and rgeos, underpinning the sp package,\n",
            "which was just loaded, will retire in October 2023.\n",
            "Please refer to R-spatial evolution reports for details, especially\n",
            "https://r-spatial.org/r/2023/05/15/evolution4.html.\n",
            "It may be desirable to make the sf package available;\n",
            "package maintainers should consider adding sf to Suggests:.\n",
            "The sp package is now running under evolution status 2\n",
            "     (status 2 uses the sf package in place of rgdal)\n",
            "\n"
          ]
        },
        {
          "output_type": "display_data",
          "data": {
            "text/html": [
              "<dl>\n",
              "\t<dt>$statistic</dt>\n",
              "\t\t<dd>'Multiple comparison test after Kruskal-Wallis'</dd>\n",
              "\t<dt>$alpha</dt>\n",
              "\t\t<dd>0.05</dd>\n",
              "\t<dt>$dif.com</dt>\n",
              "\t\t<dd><table class=\"dataframe\">\n",
              "<caption>A data.frame: 3 × 3</caption>\n",
              "<thead>\n",
              "\t<tr><th></th><th scope=col>obs.dif</th><th scope=col>critical.dif</th><th scope=col>stat.signif</th></tr>\n",
              "\t<tr><th></th><th scope=col>&lt;dbl&gt;</th><th scope=col>&lt;dbl&gt;</th><th scope=col>&lt;lgl&gt;</th></tr>\n",
              "</thead>\n",
              "<tbody>\n",
              "\t<tr><th scope=row>A-B</th><td>6.666667</td><td>7.378741</td><td>FALSE</td></tr>\n",
              "\t<tr><th scope=row>A-C</th><td>9.333333</td><td>7.378741</td><td> TRUE</td></tr>\n",
              "\t<tr><th scope=row>B-C</th><td>2.666667</td><td>7.378741</td><td>FALSE</td></tr>\n",
              "</tbody>\n",
              "</table>\n",
              "</dd>\n",
              "</dl>\n"
            ],
            "text/markdown": "$statistic\n:   'Multiple comparison test after Kruskal-Wallis'\n$alpha\n:   0.05\n$dif.com\n:   \nA data.frame: 3 × 3\n\n| <!--/--> | obs.dif &lt;dbl&gt; | critical.dif &lt;dbl&gt; | stat.signif &lt;lgl&gt; |\n|---|---|---|---|\n| A-B | 6.666667 | 7.378741 | FALSE |\n| A-C | 9.333333 | 7.378741 |  TRUE |\n| B-C | 2.666667 | 7.378741 | FALSE |\n\n\n\n\n",
            "text/latex": "\\begin{description}\n\\item[\\$statistic] 'Multiple comparison test after Kruskal-Wallis'\n\\item[\\$alpha] 0.05\n\\item[\\$dif.com] A data.frame: 3 × 3\n\\begin{tabular}{r|lll}\n  & obs.dif & critical.dif & stat.signif\\\\\n  & <dbl> & <dbl> & <lgl>\\\\\n\\hline\n\tA-B & 6.666667 & 7.378741 & FALSE\\\\\n\tA-C & 9.333333 & 7.378741 &  TRUE\\\\\n\tB-C & 2.666667 & 7.378741 & FALSE\\\\\n\\end{tabular}\n\n\\end{description}\n",
            "text/plain": [
              "Multiple comparison test after Kruskal-Wallis \n",
              "alpha: 0.05 \n",
              "Comparisons\n",
              "     obs.dif critical.dif stat.signif\n",
              "A-B 6.666667     7.378741       FALSE\n",
              "A-C 9.333333     7.378741        TRUE\n",
              "B-C 2.666667     7.378741       FALSE"
            ]
          },
          "metadata": {}
        }
      ]
    },
    {
      "cell_type": "markdown",
      "source": [
        "+ A-C 유의"
      ],
      "metadata": {
        "id": "cmZAOlticrMV"
      }
    },
    {
      "cell_type": "code",
      "source": [
        "kruskalmc(resp ~ categ, probs = 0.01)"
      ],
      "metadata": {
        "colab": {
          "base_uri": "https://localhost:8080/",
          "height": 307
        },
        "id": "cYMAb31Pcqiw",
        "outputId": "83e0ad24-17f7-46b8-c4d9-1b1680f11736"
      },
      "execution_count": 14,
      "outputs": [
        {
          "output_type": "display_data",
          "data": {
            "text/html": [
              "<dl>\n",
              "\t<dt>$statistic</dt>\n",
              "\t\t<dd>'Multiple comparison test after Kruskal-Wallis'</dd>\n",
              "\t<dt>$alpha</dt>\n",
              "\t\t<dd>0.05</dd>\n",
              "\t<dt>$dif.com</dt>\n",
              "\t\t<dd><table class=\"dataframe\">\n",
              "<caption>A data.frame: 3 × 3</caption>\n",
              "<thead>\n",
              "\t<tr><th></th><th scope=col>obs.dif</th><th scope=col>critical.dif</th><th scope=col>stat.signif</th></tr>\n",
              "\t<tr><th></th><th scope=col>&lt;dbl&gt;</th><th scope=col>&lt;dbl&gt;</th><th scope=col>&lt;lgl&gt;</th></tr>\n",
              "</thead>\n",
              "<tbody>\n",
              "\t<tr><th scope=row>A-B</th><td>6.666667</td><td>7.378741</td><td>FALSE</td></tr>\n",
              "\t<tr><th scope=row>A-C</th><td>9.333333</td><td>7.378741</td><td> TRUE</td></tr>\n",
              "\t<tr><th scope=row>B-C</th><td>2.666667</td><td>7.378741</td><td>FALSE</td></tr>\n",
              "</tbody>\n",
              "</table>\n",
              "</dd>\n",
              "</dl>\n"
            ],
            "text/markdown": "$statistic\n:   'Multiple comparison test after Kruskal-Wallis'\n$alpha\n:   0.05\n$dif.com\n:   \nA data.frame: 3 × 3\n\n| <!--/--> | obs.dif &lt;dbl&gt; | critical.dif &lt;dbl&gt; | stat.signif &lt;lgl&gt; |\n|---|---|---|---|\n| A-B | 6.666667 | 7.378741 | FALSE |\n| A-C | 9.333333 | 7.378741 |  TRUE |\n| B-C | 2.666667 | 7.378741 | FALSE |\n\n\n\n\n",
            "text/latex": "\\begin{description}\n\\item[\\$statistic] 'Multiple comparison test after Kruskal-Wallis'\n\\item[\\$alpha] 0.05\n\\item[\\$dif.com] A data.frame: 3 × 3\n\\begin{tabular}{r|lll}\n  & obs.dif & critical.dif & stat.signif\\\\\n  & <dbl> & <dbl> & <lgl>\\\\\n\\hline\n\tA-B & 6.666667 & 7.378741 & FALSE\\\\\n\tA-C & 9.333333 & 7.378741 &  TRUE\\\\\n\tB-C & 2.666667 & 7.378741 & FALSE\\\\\n\\end{tabular}\n\n\\end{description}\n",
            "text/plain": [
              "Multiple comparison test after Kruskal-Wallis \n",
              "alpha: 0.05 \n",
              "Comparisons\n",
              "     obs.dif critical.dif stat.signif\n",
              "A-B 6.666667     7.378741       FALSE\n",
              "A-C 9.333333     7.378741        TRUE\n",
              "B-C 2.666667     7.378741       FALSE"
            ]
          },
          "metadata": {}
        }
      ]
    },
    {
      "cell_type": "markdown",
      "source": [
        "+ A-C 유의"
      ],
      "metadata": {
        "id": "2wxJiJ8Ucsyz"
      }
    },
    {
      "cell_type": "code",
      "source": [
        "kruskalmc(resp ~ categ, cont = \"one-tailed\")"
      ],
      "metadata": {
        "colab": {
          "base_uri": "https://localhost:8080/",
          "height": 276
        },
        "id": "TIeD3DYdcsLB",
        "outputId": "cbf854d5-acf1-4771-bd1d-26cda6a1509d"
      },
      "execution_count": 15,
      "outputs": [
        {
          "output_type": "display_data",
          "data": {
            "text/html": [
              "<dl>\n",
              "\t<dt>$statistic</dt>\n",
              "\t\t<dd>'Multiple comparison test after Kruskal-Wallis, treatment vs control (one-tailed)'</dd>\n",
              "\t<dt>$alpha</dt>\n",
              "\t\t<dd>0.05</dd>\n",
              "\t<dt>$dif.com</dt>\n",
              "\t\t<dd><table class=\"dataframe\">\n",
              "<caption>A data.frame: 2 × 3</caption>\n",
              "<thead>\n",
              "\t<tr><th></th><th scope=col>obs.dif</th><th scope=col>critical.dif</th><th scope=col>stat.signif</th></tr>\n",
              "\t<tr><th></th><th scope=col>&lt;dbl&gt;</th><th scope=col>&lt;dbl&gt;</th><th scope=col>&lt;lgl&gt;</th></tr>\n",
              "</thead>\n",
              "<tbody>\n",
              "\t<tr><th scope=row>A-B</th><td>6.666667</td><td>6.041015</td><td>TRUE</td></tr>\n",
              "\t<tr><th scope=row>A-C</th><td>9.333333</td><td>6.041015</td><td>TRUE</td></tr>\n",
              "</tbody>\n",
              "</table>\n",
              "</dd>\n",
              "</dl>\n"
            ],
            "text/markdown": "$statistic\n:   'Multiple comparison test after Kruskal-Wallis, treatment vs control (one-tailed)'\n$alpha\n:   0.05\n$dif.com\n:   \nA data.frame: 2 × 3\n\n| <!--/--> | obs.dif &lt;dbl&gt; | critical.dif &lt;dbl&gt; | stat.signif &lt;lgl&gt; |\n|---|---|---|---|\n| A-B | 6.666667 | 6.041015 | TRUE |\n| A-C | 9.333333 | 6.041015 | TRUE |\n\n\n\n\n",
            "text/latex": "\\begin{description}\n\\item[\\$statistic] 'Multiple comparison test after Kruskal-Wallis, treatment vs control (one-tailed)'\n\\item[\\$alpha] 0.05\n\\item[\\$dif.com] A data.frame: 2 × 3\n\\begin{tabular}{r|lll}\n  & obs.dif & critical.dif & stat.signif\\\\\n  & <dbl> & <dbl> & <lgl>\\\\\n\\hline\n\tA-B & 6.666667 & 6.041015 & TRUE\\\\\n\tA-C & 9.333333 & 6.041015 & TRUE\\\\\n\\end{tabular}\n\n\\end{description}\n",
            "text/plain": [
              "Multiple comparison test after Kruskal-Wallis, treatment vs control (one-tailed) \n",
              "alpha: 0.05 \n",
              "Comparisons\n",
              "     obs.dif critical.dif stat.signif\n",
              "A-B 6.666667     6.041015        TRUE\n",
              "A-C 9.333333     6.041015        TRUE"
            ]
          },
          "metadata": {}
        }
      ]
    },
    {
      "cell_type": "markdown",
      "source": [
        "+ 다대일(MCC) + A-B, A-C 유의"
      ],
      "metadata": {
        "id": "6PendBAMcuX4"
      }
    },
    {
      "cell_type": "code",
      "source": [
        "kruskalmc(resp ~ categ, cont = \"two-tailed\")"
      ],
      "metadata": {
        "colab": {
          "base_uri": "https://localhost:8080/",
          "height": 276
        },
        "id": "WicedZOqcttT",
        "outputId": "85be812c-df86-4d03-984d-1c5fdd0cc1ad"
      },
      "execution_count": 16,
      "outputs": [
        {
          "output_type": "display_data",
          "data": {
            "text/html": [
              "<dl>\n",
              "\t<dt>$statistic</dt>\n",
              "\t\t<dd>'Multiple comparison test after Kruskal-Wallis, treatments vs control (two-tailed)'</dd>\n",
              "\t<dt>$alpha</dt>\n",
              "\t\t<dd>0.05</dd>\n",
              "\t<dt>$dif.com</dt>\n",
              "\t\t<dd><table class=\"dataframe\">\n",
              "<caption>A data.frame: 2 × 3</caption>\n",
              "<thead>\n",
              "\t<tr><th></th><th scope=col>obs.dif</th><th scope=col>critical.dif</th><th scope=col>stat.signif</th></tr>\n",
              "\t<tr><th></th><th scope=col>&lt;dbl&gt;</th><th scope=col>&lt;dbl&gt;</th><th scope=col>&lt;lgl&gt;</th></tr>\n",
              "</thead>\n",
              "<tbody>\n",
              "\t<tr><th scope=row>A-B</th><td>6.666667</td><td>6.908467</td><td>FALSE</td></tr>\n",
              "\t<tr><th scope=row>A-C</th><td>9.333333</td><td>6.908467</td><td> TRUE</td></tr>\n",
              "</tbody>\n",
              "</table>\n",
              "</dd>\n",
              "</dl>\n"
            ],
            "text/markdown": "$statistic\n:   'Multiple comparison test after Kruskal-Wallis, treatments vs control (two-tailed)'\n$alpha\n:   0.05\n$dif.com\n:   \nA data.frame: 2 × 3\n\n| <!--/--> | obs.dif &lt;dbl&gt; | critical.dif &lt;dbl&gt; | stat.signif &lt;lgl&gt; |\n|---|---|---|---|\n| A-B | 6.666667 | 6.908467 | FALSE |\n| A-C | 9.333333 | 6.908467 |  TRUE |\n\n\n\n\n",
            "text/latex": "\\begin{description}\n\\item[\\$statistic] 'Multiple comparison test after Kruskal-Wallis, treatments vs control (two-tailed)'\n\\item[\\$alpha] 0.05\n\\item[\\$dif.com] A data.frame: 2 × 3\n\\begin{tabular}{r|lll}\n  & obs.dif & critical.dif & stat.signif\\\\\n  & <dbl> & <dbl> & <lgl>\\\\\n\\hline\n\tA-B & 6.666667 & 6.908467 & FALSE\\\\\n\tA-C & 9.333333 & 6.908467 &  TRUE\\\\\n\\end{tabular}\n\n\\end{description}\n",
            "text/plain": [
              "Multiple comparison test after Kruskal-Wallis, treatments vs control (two-tailed) \n",
              "alpha: 0.05 \n",
              "Comparisons\n",
              "     obs.dif critical.dif stat.signif\n",
              "A-B 6.666667     6.908467       FALSE\n",
              "A-C 9.333333     6.908467        TRUE"
            ]
          },
          "metadata": {}
        }
      ]
    },
    {
      "cell_type": "markdown",
      "source": [
        "+ 다대일(MCC) + A-C 유의"
      ],
      "metadata": {
        "id": "eYQ5R0ZWcw_S"
      }
    },
    {
      "cell_type": "markdown",
      "source": [
        "## 7.2 {agricolae} 패키지 이용\n",
        "### 예제 7.4: Kruskal-wallis 검정"
      ],
      "metadata": {
        "id": "7KJFUDExc1nr"
      }
    },
    {
      "cell_type": "code",
      "source": [
        "install.packages(\"agricolae\")\n",
        "library(agricolae)\n",
        "data(corn)\n",
        "str(corn)\n",
        "str(kruskal)"
      ],
      "metadata": {
        "colab": {
          "base_uri": "https://localhost:8080/"
        },
        "id": "5ri8vOEncv_k",
        "outputId": "28bc73af-13c2-45e1-8b31-075b64b04f6c"
      },
      "execution_count": 17,
      "outputs": [
        {
          "output_type": "stream",
          "name": "stderr",
          "text": [
            "Installing package into ‘/usr/local/lib/R/site-library’\n",
            "(as ‘lib’ is unspecified)\n",
            "\n",
            "also installing the dependencies ‘R.methodsS3’, ‘R.oo’, ‘R.utils’, ‘httpuv’, ‘xtable’, ‘sourcetools’, ‘later’, ‘promises’, ‘R.cache’, ‘shiny’, ‘miniUI’, ‘styler’, ‘labelled’, ‘combinat’, ‘questionr’, ‘klaR’, ‘AlgDesign’\n",
            "\n",
            "\n"
          ]
        },
        {
          "output_type": "stream",
          "name": "stdout",
          "text": [
            "'data.frame':\t34 obs. of  3 variables:\n",
            " $ method     : int  1 1 1 1 1 1 1 1 1 2 ...\n",
            " $ observation: int  83 91 94 89 89 96 91 92 90 91 ...\n",
            " $ rx         : num  11 23 28.5 17 17 31.5 23 26 19.5 23 ...\n",
            "function (y, trt, alpha = 0.05, p.adj = c(\"none\", \"holm\", \"hommel\", \"hochberg\", \n",
            "    \"bonferroni\", \"BH\", \"BY\", \"fdr\"), group = TRUE, main = NULL, console = FALSE)  \n"
          ]
        }
      ]
    },
    {
      "cell_type": "code",
      "source": [
        "outKruskal.none = with(corn, kruskal(observation, method, group = FALSE, p.adj = \"none\"))\n",
        "print(outKruskal.none)"
      ],
      "metadata": {
        "colab": {
          "base_uri": "https://localhost:8080/"
        },
        "id": "0CeEaTEfc3rz",
        "outputId": "daa53549-a8a5-4bf2-c606-3aff930eb312"
      },
      "execution_count": 18,
      "outputs": [
        {
          "output_type": "stream",
          "name": "stdout",
          "text": [
            "$statistics\n",
            "     Chisq Df      p.chisq\n",
            "  25.62884  3 1.140573e-05\n",
            "\n",
            "$parameters\n",
            "            test p.ajusted name.t ntr alpha\n",
            "  Kruskal-Wallis      none method   4  0.05\n",
            "\n",
            "$means\n",
            "  observation     rank      std  r Min Max   Q25  Q50   Q75\n",
            "1    90.55556 21.83333 3.643869  9  83  96 89.00 91.0 92.00\n",
            "2    86.40000 15.30000 3.777124 10  81  91 83.25 86.0 89.75\n",
            "3    95.71429 29.57143 3.638419  7  91 101 93.50 95.0 98.00\n",
            "4    79.87500  4.81250 1.726888  8  77  82 78.75 80.5 81.00\n",
            "\n",
            "$comparison\n",
            "      Difference pvalue Signif.        LCL       UCL\n",
            "1 - 2   6.533333 0.0071      **   1.916316 11.150351\n",
            "1 - 3  -7.738095 0.0040      ** -12.802119 -2.674072\n",
            "1 - 4  17.020833 0.0000     ***  12.138086 21.903580\n",
            "2 - 3 -14.271429 0.0000     *** -19.223438 -9.319419\n",
            "2 - 4  10.487500 0.0001     ***   5.721026 15.253974\n",
            "3 - 4  24.758929 0.0000     ***  19.558279 29.959578\n",
            "\n",
            "$groups\n",
            "NULL\n",
            "\n",
            "attr(,\"class\")\n",
            "[1] \"group\"\n"
          ]
        }
      ]
    },
    {
      "cell_type": "markdown",
      "source": [
        "+ a/b/c/d로 그룹핑"
      ],
      "metadata": {
        "id": "eCu3VH6Zc5Pg"
      }
    },
    {
      "cell_type": "markdown",
      "source": [
        "### 예제 7.5: Kruskal-wallis 검정, 조정된 p값 사용"
      ],
      "metadata": {
        "id": "xvvyVea8c9Vr"
      }
    },
    {
      "cell_type": "code",
      "source": [
        "outKruskal.bonf = with(corn, kruskal(observation, method, group = FALSE, p.adj = \"bonferroni\"))\n",
        "print(outKruskal.bonf)"
      ],
      "metadata": {
        "colab": {
          "base_uri": "https://localhost:8080/"
        },
        "id": "FGtj1VLgc4ig",
        "outputId": "f95db28f-1ea8-47b0-903b-04afcb02ad93"
      },
      "execution_count": 19,
      "outputs": [
        {
          "output_type": "stream",
          "name": "stdout",
          "text": [
            "$statistics\n",
            "     Chisq Df      p.chisq\n",
            "  25.62884  3 1.140573e-05\n",
            "\n",
            "$parameters\n",
            "            test  p.ajusted name.t ntr alpha\n",
            "  Kruskal-Wallis bonferroni method   4  0.05\n",
            "\n",
            "$means\n",
            "  observation     rank      std  r Min Max   Q25  Q50   Q75\n",
            "1    90.55556 21.83333 3.643869  9  83  96 89.00 91.0 92.00\n",
            "2    86.40000 15.30000 3.777124 10  81  91 83.25 86.0 89.75\n",
            "3    95.71429 29.57143 3.638419  7  91 101 93.50 95.0 98.00\n",
            "4    79.87500  4.81250 1.726888  8  77  82 78.75 80.5 81.00\n",
            "\n",
            "$comparison\n",
            "      Difference pvalue Signif.         LCL        UCL\n",
            "1 - 2   6.533333 0.0426       *   0.1474712 12.9191955\n",
            "1 - 3  -7.738095 0.0238       * -14.7422174 -0.7339731\n",
            "1 - 4  17.020833 0.0000     ***  10.2674375 23.7742292\n",
            "2 - 3 -14.271429 0.0000     *** -21.1206220 -7.4222351\n",
            "2 - 4  10.487500 0.0006     ***   3.8949224 17.0800776\n",
            "3 - 4  24.758929 0.0000     ***  17.5658367 31.9520205\n",
            "\n",
            "$groups\n",
            "NULL\n",
            "\n",
            "attr(,\"class\")\n",
            "[1] \"group\"\n"
          ]
        }
      ]
    },
    {
      "cell_type": "code",
      "source": [
        "outKruskal.holm = with(corn, kruskal(observation, method, group = FALSE, p.adj = \"holm\"))\n",
        "print(outKruskal.holm$comparison)"
      ],
      "metadata": {
        "colab": {
          "base_uri": "https://localhost:8080/"
        },
        "id": "iRdKZsXRc-ni",
        "outputId": "c7d4d57a-4f58-4258-fba6-9ad669518500"
      },
      "execution_count": 20,
      "outputs": [
        {
          "output_type": "stream",
          "name": "stdout",
          "text": [
            "      Difference pvalue Signif.\n",
            "1 - 2   6.533333 0.0079      **\n",
            "1 - 3  -7.738095 0.0079      **\n",
            "1 - 4  17.020833 0.0000     ***\n",
            "2 - 3 -14.271429 0.0000     ***\n",
            "2 - 4  10.487500 0.0003     ***\n",
            "3 - 4  24.758929 0.0000     ***\n"
          ]
        }
      ]
    },
    {
      "cell_type": "code",
      "source": [
        "outKruskal.holm = with(corn, kruskal(observation, method, group = TRUE, p.adj = \"holm\"))\n",
        "print(outKruskal.holm$groups)"
      ],
      "metadata": {
        "colab": {
          "base_uri": "https://localhost:8080/"
        },
        "id": "g3641pSgdAVd",
        "outputId": "84737019-71db-4919-cc2f-ac62cfa0d7d9"
      },
      "execution_count": 21,
      "outputs": [
        {
          "output_type": "stream",
          "name": "stdout",
          "text": [
            "  observation groups\n",
            "3    29.57143      a\n",
            "1    21.83333      b\n",
            "2    15.30000      c\n",
            "4     4.81250      d\n"
          ]
        }
      ]
    },
    {
      "cell_type": "markdown",
      "source": [
        "+ a/b/c/d로 그룹핑"
      ],
      "metadata": {
        "id": "wg20LR-KdBz5"
      }
    },
    {
      "cell_type": "markdown",
      "source": [
        "### 예제 7.6: Friedman 검정"
      ],
      "metadata": {
        "id": "QjMf6LXzdDus"
      }
    },
    {
      "cell_type": "code",
      "source": [
        "str(friedman)\n",
        "data(grass)\n",
        "out = with(grass, friedman(judge, trt, evaluation, alpha = 0.05, group = FALSE, console = TRUE,\n",
        "                           main = \"Data of the book of Conover\"))"
      ],
      "metadata": {
        "colab": {
          "base_uri": "https://localhost:8080/"
        },
        "id": "AUkMdpt5dBF8",
        "outputId": "34a55f53-f468-4689-a95e-cbedb4436d2b"
      },
      "execution_count": 22,
      "outputs": [
        {
          "output_type": "stream",
          "name": "stdout",
          "text": [
            "function (judge, trt, evaluation, alpha = 0.05, group = TRUE, main = NULL, \n",
            "    console = FALSE)  \n",
            "\n",
            "Study: Data of the book of Conover \n",
            "\n",
            "trt,  Sum of the ranks\n",
            "\n",
            "   evaluation  r\n",
            "t1       38.0 12\n",
            "t2       23.5 12\n",
            "t3       24.5 12\n",
            "t4       34.0 12\n",
            "\n",
            "Friedman's Test\n",
            "===============\n",
            "Adjusted for ties\n",
            "Critical Value: 8.097345\n",
            "P.Value Chisq: 0.04404214\n",
            "F Value: 3.192198\n",
            "P.Value F: 0.03621547 \n",
            "\n",
            "Post Hoc Analysis\n",
            "\n",
            "Comparison between treatments\n",
            "Sum of the ranks\n",
            "\n",
            "        difference pvalue signif.    LCL   UCL\n",
            "t1 - t2       14.5 0.0149       *   3.02 25.98\n",
            "t1 - t3       13.5 0.0226       *   2.02 24.98\n",
            "t1 - t4        4.0 0.4834          -7.48 15.48\n",
            "t2 - t3       -1.0 0.8604         -12.48 10.48\n",
            "t2 - t4      -10.5 0.0717       . -21.98  0.98\n",
            "t3 - t4       -9.5 0.1017         -20.98  1.98\n"
          ]
        }
      ]
    },
    {
      "cell_type": "markdown",
      "source": [
        "### 예제 7.7: Median 검정"
      ],
      "metadata": {
        "id": "TQYep-9JdI9r"
      }
    },
    {
      "cell_type": "code",
      "source": [
        "str(Median.test)\n",
        "data(\"sweetpotato\")\n",
        "outMedian = with(sweetpotato, Median.test(yield, virus, console = TRUE))"
      ],
      "metadata": {
        "colab": {
          "base_uri": "https://localhost:8080/"
        },
        "id": "Ld-qNoDGdE6p",
        "outputId": "55aed226-48db-4b7f-e604-8f834361adb8"
      },
      "execution_count": 23,
      "outputs": [
        {
          "output_type": "stream",
          "name": "stdout",
          "text": [
            "function (y, trt, alpha = 0.05, correct = TRUE, simulate.p.value = FALSE, \n",
            "    group = TRUE, main = NULL, console = TRUE)  \n",
            "\n",
            "The Median Test for yield ~ virus \n",
            "\n",
            "Chi Square = 6.666667   DF = 3   P.Value 0.08331631\n",
            "Median = 28.25 \n",
            "\n",
            "   Median r  Min  Max   Q25   Q75\n",
            "cc   23.0 3 21.7 28.5 22.35 25.75\n",
            "fc   13.1 3 10.6 14.9 11.85 14.00\n",
            "ff   39.2 3 28.0 41.8 33.60 40.50\n",
            "oo   38.2 3 32.1 40.4 35.15 39.30\n",
            "\n",
            "Post Hoc Analysis\n",
            "\n",
            "Groups according to probability of treatment differences and alpha level.\n",
            "\n",
            "Treatments with the same letter are not significantly different.\n",
            "\n",
            "   yield groups\n",
            "ff  39.2      a\n",
            "oo  38.2      a\n",
            "cc  23.0      a\n",
            "fc  13.1      b\n"
          ]
        }
      ]
    },
    {
      "cell_type": "markdown",
      "source": [
        "+ ff, oo, cc/fc로 그룹핑"
      ],
      "metadata": {
        "id": "4qwMy2SAdKz5"
      }
    },
    {
      "cell_type": "code",
      "source": [
        "names(outMedian)\n",
        "outMedian$statistics\n",
        "outMedian$medians"
      ],
      "metadata": {
        "colab": {
          "base_uri": "https://localhost:8080/",
          "height": 353
        },
        "id": "Pf3kbYd6dKeV",
        "outputId": "ff3bc687-db73-46a6-9720-4bcc51fef31b"
      },
      "execution_count": 24,
      "outputs": [
        {
          "output_type": "display_data",
          "data": {
            "text/html": [
              "<style>\n",
              ".list-inline {list-style: none; margin:0; padding: 0}\n",
              ".list-inline>li {display: inline-block}\n",
              ".list-inline>li:not(:last-child)::after {content: \"\\00b7\"; padding: 0 .5ex}\n",
              "</style>\n",
              "<ol class=list-inline><li>'statistics'</li><li>'parameters'</li><li>'medians'</li><li>'comparison'</li><li>'groups'</li></ol>\n"
            ],
            "text/markdown": "1. 'statistics'\n2. 'parameters'\n3. 'medians'\n4. 'comparison'\n5. 'groups'\n\n\n",
            "text/latex": "\\begin{enumerate*}\n\\item 'statistics'\n\\item 'parameters'\n\\item 'medians'\n\\item 'comparison'\n\\item 'groups'\n\\end{enumerate*}\n",
            "text/plain": [
              "[1] \"statistics\" \"parameters\" \"medians\"    \"comparison\" \"groups\"    "
            ]
          },
          "metadata": {}
        },
        {
          "output_type": "display_data",
          "data": {
            "text/html": [
              "<table class=\"dataframe\">\n",
              "<caption>A data.frame: 1 × 4</caption>\n",
              "<thead>\n",
              "\t<tr><th></th><th scope=col>Chisq</th><th scope=col>Df</th><th scope=col>p.chisq</th><th scope=col>Median</th></tr>\n",
              "\t<tr><th></th><th scope=col>&lt;dbl&gt;</th><th scope=col>&lt;int&gt;</th><th scope=col>&lt;dbl&gt;</th><th scope=col>&lt;dbl&gt;</th></tr>\n",
              "</thead>\n",
              "<tbody>\n",
              "\t<tr><th scope=row> </th><td>6.666667</td><td>3</td><td>0.08331631</td><td>28.25</td></tr>\n",
              "</tbody>\n",
              "</table>\n"
            ],
            "text/markdown": "\nA data.frame: 1 × 4\n\n| <!--/--> | Chisq &lt;dbl&gt; | Df &lt;int&gt; | p.chisq &lt;dbl&gt; | Median &lt;dbl&gt; |\n|---|---|---|---|---|\n| <!----> | 6.666667 | 3 | 0.08331631 | 28.25 |\n\n",
            "text/latex": "A data.frame: 1 × 4\n\\begin{tabular}{r|llll}\n  & Chisq & Df & p.chisq & Median\\\\\n  & <dbl> & <int> & <dbl> & <dbl>\\\\\n\\hline\n\t  & 6.666667 & 3 & 0.08331631 & 28.25\\\\\n\\end{tabular}\n",
            "text/plain": [
              "  Chisq    Df p.chisq    Median\n",
              "  6.666667 3  0.08331631 28.25 "
            ]
          },
          "metadata": {}
        },
        {
          "output_type": "display_data",
          "data": {
            "text/html": [
              "<table class=\"dataframe\">\n",
              "<caption>A data.frame: 4 × 6</caption>\n",
              "<thead>\n",
              "\t<tr><th></th><th scope=col>Median</th><th scope=col>r</th><th scope=col>Min</th><th scope=col>Max</th><th scope=col>Q25</th><th scope=col>Q75</th></tr>\n",
              "\t<tr><th></th><th scope=col>&lt;dbl&gt;</th><th scope=col>&lt;int&gt;</th><th scope=col>&lt;dbl&gt;</th><th scope=col>&lt;dbl&gt;</th><th scope=col>&lt;dbl&gt;</th><th scope=col>&lt;dbl&gt;</th></tr>\n",
              "</thead>\n",
              "<tbody>\n",
              "\t<tr><th scope=row>cc</th><td>23.0</td><td>3</td><td>21.7</td><td>28.5</td><td>22.35</td><td>25.75</td></tr>\n",
              "\t<tr><th scope=row>fc</th><td>13.1</td><td>3</td><td>10.6</td><td>14.9</td><td>11.85</td><td>14.00</td></tr>\n",
              "\t<tr><th scope=row>ff</th><td>39.2</td><td>3</td><td>28.0</td><td>41.8</td><td>33.60</td><td>40.50</td></tr>\n",
              "\t<tr><th scope=row>oo</th><td>38.2</td><td>3</td><td>32.1</td><td>40.4</td><td>35.15</td><td>39.30</td></tr>\n",
              "</tbody>\n",
              "</table>\n"
            ],
            "text/markdown": "\nA data.frame: 4 × 6\n\n| <!--/--> | Median &lt;dbl&gt; | r &lt;int&gt; | Min &lt;dbl&gt; | Max &lt;dbl&gt; | Q25 &lt;dbl&gt; | Q75 &lt;dbl&gt; |\n|---|---|---|---|---|---|---|\n| cc | 23.0 | 3 | 21.7 | 28.5 | 22.35 | 25.75 |\n| fc | 13.1 | 3 | 10.6 | 14.9 | 11.85 | 14.00 |\n| ff | 39.2 | 3 | 28.0 | 41.8 | 33.60 | 40.50 |\n| oo | 38.2 | 3 | 32.1 | 40.4 | 35.15 | 39.30 |\n\n",
            "text/latex": "A data.frame: 4 × 6\n\\begin{tabular}{r|llllll}\n  & Median & r & Min & Max & Q25 & Q75\\\\\n  & <dbl> & <int> & <dbl> & <dbl> & <dbl> & <dbl>\\\\\n\\hline\n\tcc & 23.0 & 3 & 21.7 & 28.5 & 22.35 & 25.75\\\\\n\tfc & 13.1 & 3 & 10.6 & 14.9 & 11.85 & 14.00\\\\\n\tff & 39.2 & 3 & 28.0 & 41.8 & 33.60 & 40.50\\\\\n\too & 38.2 & 3 & 32.1 & 40.4 & 35.15 & 39.30\\\\\n\\end{tabular}\n",
            "text/plain": [
              "   Median r Min  Max  Q25   Q75  \n",
              "cc 23.0   3 21.7 28.5 22.35 25.75\n",
              "fc 13.1   3 10.6 14.9 11.85 14.00\n",
              "ff 39.2   3 28.0 41.8 33.60 40.50\n",
              "oo 38.2   3 32.1 40.4 35.15 39.30"
            ]
          },
          "metadata": {}
        }
      ]
    },
    {
      "cell_type": "code",
      "source": [
        "oldpar = par(mfrow = c(2, 2), mar = c(3, 3, 1, 1), cex = 0.8)\n",
        "bar.group(outMedian$groups, ylim = c(0, 50))\n",
        "bar.group(outMedian$groups, xlim = c(0, 50), horiz = TRUE)\n",
        "plot(outMedian)\n",
        "plot(outMedian, variation = \"IQR\", horiz = TRUE)\n",
        "par(oldpar)"
      ],
      "metadata": {
        "colab": {
          "base_uri": "https://localhost:8080/",
          "height": 437
        },
        "id": "e-TQfxs6dNSC",
        "outputId": "0097684f-37a7-494f-b5e2-77d3b7ca3036"
      },
      "execution_count": 25,
      "outputs": [
        {
          "output_type": "display_data",
          "data": {
            "text/plain": [
              "Plot with title “Groups and Interquartile range”"
            ],
            "image/png": "[encoded data removed]"
          },
          "metadata": {
            "image/png": {
              "width": 420,
              "height": 420
            }
          }
        }
      ]
    },
    {
      "cell_type": "markdown",
      "source": [
        "### 예제 7.8: van der Waerden 검정"
      ],
      "metadata": {
        "id": "B6yotraXdRWi"
      }
    },
    {
      "cell_type": "code",
      "source": [
        "str(waerden.test)\n",
        "data(\"sweetpotato\")\n",
        "outWaerden = with(sweetpotato, waerden.test(yield, virus, alpha = 0.01, group = TRUE, console = TRUE))"
      ],
      "metadata": {
        "colab": {
          "base_uri": "https://localhost:8080/"
        },
        "id": "V42-Cy2BdPTi",
        "outputId": "1acd806b-dcc6-407e-9be6-d51b6e14b81a"
      },
      "execution_count": 26,
      "outputs": [
        {
          "output_type": "stream",
          "name": "stdout",
          "text": [
            "function (y, trt, alpha = 0.05, group = TRUE, main = NULL, console = FALSE)  \n",
            "\n",
            "Study: yield ~ virus\n",
            "Van der Waerden (Normal Scores) test's\n",
            "\n",
            "Value : 8.409979\n",
            "Pvalue: 0.03825667\n",
            "Degrees of Freedom:  3 \n",
            "\n",
            "virus,  means of the normal score\n",
            "\n",
            "        yield       std r\n",
            "cc -0.2328353 0.3028832 3\n",
            "fc -1.0601764 0.3467934 3\n",
            "ff  0.6885684 0.7615582 3\n",
            "oo  0.6044433 0.3742929 3\n",
            "\n",
            "Post Hoc Analysis\n",
            "\n",
            "Alpha: 0.01 ; DF Error: 8 \n",
            "\n",
            "Minimum Significant Difference: 1.322487 \n",
            "\n",
            "Treatments with the same letter are not significantly different.\n",
            "\n",
            "Means of the normal score\n",
            "\n",
            "        score groups\n",
            "ff  0.6885684      a\n",
            "oo  0.6044433      a\n",
            "cc -0.2328353     ab\n",
            "fc -1.0601764      b\n"
          ]
        }
      ]
    },
    {
      "cell_type": "markdown",
      "source": [
        "+ ff, oo, cc/cc, fc로 그룹핑"
      ],
      "metadata": {
        "id": "aeDMHAAkdTrs"
      }
    },
    {
      "cell_type": "code",
      "source": [
        "names(outWaerden)\n",
        "out = with(sweetpotato, waerden.test(yield, virus, group = FALSE, console = TRUE))"
      ],
      "metadata": {
        "colab": {
          "base_uri": "https://localhost:8080/",
          "height": 534
        },
        "id": "0fyR_D3hdSv0",
        "outputId": "24daba80-a46b-4018-9429-82b1c5d040b6"
      },
      "execution_count": 27,
      "outputs": [
        {
          "output_type": "display_data",
          "data": {
            "text/html": [
              "<style>\n",
              ".list-inline {list-style: none; margin:0; padding: 0}\n",
              ".list-inline>li {display: inline-block}\n",
              ".list-inline>li:not(:last-child)::after {content: \"\\00b7\"; padding: 0 .5ex}\n",
              "</style>\n",
              "<ol class=list-inline><li>'statistics'</li><li>'parameters'</li><li>'means'</li><li>'comparison'</li><li>'groups'</li></ol>\n"
            ],
            "text/markdown": "1. 'statistics'\n2. 'parameters'\n3. 'means'\n4. 'comparison'\n5. 'groups'\n\n\n",
            "text/latex": "\\begin{enumerate*}\n\\item 'statistics'\n\\item 'parameters'\n\\item 'means'\n\\item 'comparison'\n\\item 'groups'\n\\end{enumerate*}\n",
            "text/plain": [
              "[1] \"statistics\" \"parameters\" \"means\"      \"comparison\" \"groups\"    "
            ]
          },
          "metadata": {}
        },
        {
          "output_type": "stream",
          "name": "stdout",
          "text": [
            "\n",
            "Study: yield ~ virus\n",
            "Van der Waerden (Normal Scores) test's\n",
            "\n",
            "Value : 8.409979\n",
            "Pvalue: 0.03825667\n",
            "Degrees of Freedom:  3 \n",
            "\n",
            "virus,  means of the normal score\n",
            "\n",
            "        yield       std r\n",
            "cc -0.2328353 0.3028832 3\n",
            "fc -1.0601764 0.3467934 3\n",
            "ff  0.6885684 0.7615582 3\n",
            "oo  0.6044433 0.3742929 3\n",
            "\n",
            "Post Hoc Analysis\n",
            "\n",
            "Comparison between treatments\n",
            "mean of the normal score\n",
            "\n",
            "        difference pvalue signif.         LCL         UCL\n",
            "cc - fc  0.8273411 0.0690       . -0.08154345  1.73622564\n",
            "cc - ff -0.9214037 0.0476       * -1.83028827 -0.01251917\n",
            "cc - oo -0.8372786 0.0664       . -1.74616316  0.07160593\n",
            "fc - ff -1.7487448 0.0022      ** -2.65762936 -0.83986026\n",
            "fc - oo -1.6646197 0.0029      ** -2.57350426 -0.75573516\n",
            "ff - oo  0.0841251 0.8363         -0.82475944  0.99300965\n"
          ]
        }
      ]
    },
    {
      "cell_type": "markdown",
      "source": [
        "### 예제 7.9: Durbin 검정"
      ],
      "metadata": {
        "id": "hJGsj-NFdWg3"
      }
    },
    {
      "cell_type": "code",
      "source": [
        "str(durbin.test)\n",
        "days = gl(7, 3)\n",
        "chemical = c(\"A\", \"B\", \"D\", \"A\", \"C\", \"E\", \"C\", \"D\", \"G\", \"A\", \"F\", \"G\",\n",
        "             \"B\", \"C\", \"F\", \"B\", \"E\", \"G\", \"D\", \"E\", \"F\")\n",
        "toxic = c(0.465, 0.343, 0.396, 0.602, 0.873, 0.634, 0.875, 0.325, 0.330, 0.423, 0.987, 0.426,\n",
        "          0.652, 1.142, 0.989, 0.536, 0.409, 0.309, 0.609, 0.417, 0.931)\n",
        "head(data.frame(days, chemical, toxic))"
      ],
      "metadata": {
        "colab": {
          "base_uri": "https://localhost:8080/",
          "height": 322
        },
        "id": "SahXt4WddU5v",
        "outputId": "1cecf548-8581-432b-d962-2699c5ba1bd6"
      },
      "execution_count": 28,
      "outputs": [
        {
          "output_type": "stream",
          "name": "stdout",
          "text": [
            "function (judge, trt, evaluation, alpha = 0.05, group = TRUE, main = NULL, \n",
            "    console = FALSE)  \n"
          ]
        },
        {
          "output_type": "display_data",
          "data": {
            "text/html": [
              "<table class=\"dataframe\">\n",
              "<caption>A data.frame: 6 × 3</caption>\n",
              "<thead>\n",
              "\t<tr><th></th><th scope=col>days</th><th scope=col>chemical</th><th scope=col>toxic</th></tr>\n",
              "\t<tr><th></th><th scope=col>&lt;fct&gt;</th><th scope=col>&lt;chr&gt;</th><th scope=col>&lt;dbl&gt;</th></tr>\n",
              "</thead>\n",
              "<tbody>\n",
              "\t<tr><th scope=row>1</th><td>1</td><td>A</td><td>0.465</td></tr>\n",
              "\t<tr><th scope=row>2</th><td>1</td><td>B</td><td>0.343</td></tr>\n",
              "\t<tr><th scope=row>3</th><td>1</td><td>D</td><td>0.396</td></tr>\n",
              "\t<tr><th scope=row>4</th><td>2</td><td>A</td><td>0.602</td></tr>\n",
              "\t<tr><th scope=row>5</th><td>2</td><td>C</td><td>0.873</td></tr>\n",
              "\t<tr><th scope=row>6</th><td>2</td><td>E</td><td>0.634</td></tr>\n",
              "</tbody>\n",
              "</table>\n"
            ],
            "text/markdown": "\nA data.frame: 6 × 3\n\n| <!--/--> | days &lt;fct&gt; | chemical &lt;chr&gt; | toxic &lt;dbl&gt; |\n|---|---|---|---|\n| 1 | 1 | A | 0.465 |\n| 2 | 1 | B | 0.343 |\n| 3 | 1 | D | 0.396 |\n| 4 | 2 | A | 0.602 |\n| 5 | 2 | C | 0.873 |\n| 6 | 2 | E | 0.634 |\n\n",
            "text/latex": "A data.frame: 6 × 3\n\\begin{tabular}{r|lll}\n  & days & chemical & toxic\\\\\n  & <fct> & <chr> & <dbl>\\\\\n\\hline\n\t1 & 1 & A & 0.465\\\\\n\t2 & 1 & B & 0.343\\\\\n\t3 & 1 & D & 0.396\\\\\n\t4 & 2 & A & 0.602\\\\\n\t5 & 2 & C & 0.873\\\\\n\t6 & 2 & E & 0.634\\\\\n\\end{tabular}\n",
            "text/plain": [
              "  days chemical toxic\n",
              "1 1    A        0.465\n",
              "2 1    B        0.343\n",
              "3 1    D        0.396\n",
              "4 2    A        0.602\n",
              "5 2    C        0.873\n",
              "6 2    E        0.634"
            ]
          },
          "metadata": {}
        }
      ]
    },
    {
      "cell_type": "code",
      "source": [
        "out = durbin.test(days, chemical, toxic, group = FALSE, console = TRUE,\n",
        "                  main = \"Logarithm of the toxic dose\")\n",
        "names(out)\n",
        "out$statistics"
      ],
      "metadata": {
        "colab": {
          "base_uri": "https://localhost:8080/",
          "height": 1000
        },
        "id": "3vgnSHZydX7P",
        "outputId": "222c0f90-a7f2-4cb6-ec2c-55944cdc9f6e"
      },
      "execution_count": 29,
      "outputs": [
        {
          "output_type": "stream",
          "name": "stdout",
          "text": [
            "\n",
            "Study: Logarithm of the toxic dose \n",
            "chemical,  Sum of ranks\n",
            "\n",
            "  sum\n",
            "A   5\n",
            "B   5\n",
            "C   9\n",
            "D   5\n",
            "E   5\n",
            "F   8\n",
            "G   5\n",
            "\n",
            "Durbin Test\n",
            "===========\n",
            "Value      : 7.714286\n",
            "DF 1       : 6\n",
            "P-value    : 0.2597916\n",
            "Alpha      : 0.05\n",
            "DF 2       : 8\n",
            "t-Student  : 2.306004\n",
            "\n",
            "Least Significant Difference\n",
            "between the sum of ranks:  5.00689 \n",
            "\n",
            "Parameters BIB\n",
            "Lambda     : 1\n",
            "Treatmeans : 7\n",
            "Block size : 3\n",
            "Blocks     : 7\n",
            "Replication: 3 \n",
            "\n",
            "Comparison between treatments\n",
            "Sum of the ranks\n",
            "\n",
            "      difference pvalue signif.\n",
            "A - B          0 1.0000        \n",
            "A - C         -4 0.1026        \n",
            "A - D          0 1.0000        \n",
            "A - E          0 1.0000        \n",
            "A - F         -3 0.2044        \n",
            "A - G          0 1.0000        \n",
            "B - C         -4 0.1026        \n",
            "B - D          0 1.0000        \n",
            "B - E          0 1.0000        \n",
            "B - F         -3 0.2044        \n",
            "B - G          0 1.0000        \n",
            "C - D          4 0.1026        \n",
            "C - E          4 0.1026        \n",
            "C - F          1 0.6574        \n",
            "C - G          4 0.1026        \n",
            "D - E          0 1.0000        \n",
            "D - F         -3 0.2044        \n",
            "D - G          0 1.0000        \n",
            "E - F         -3 0.2044        \n",
            "E - G          0 1.0000        \n",
            "F - G          3 0.2044        \n"
          ]
        },
        {
          "output_type": "display_data",
          "data": {
            "text/html": [
              "<style>\n",
              ".list-inline {list-style: none; margin:0; padding: 0}\n",
              ".list-inline>li {display: inline-block}\n",
              ".list-inline>li:not(:last-child)::after {content: \"\\00b7\"; padding: 0 .5ex}\n",
              "</style>\n",
              "<ol class=list-inline><li>'statistics'</li><li>'parameters'</li><li>'means'</li><li>'rank'</li><li>'comparison'</li><li>'groups'</li></ol>\n"
            ],
            "text/markdown": "1. 'statistics'\n2. 'parameters'\n3. 'means'\n4. 'rank'\n5. 'comparison'\n6. 'groups'\n\n\n",
            "text/latex": "\\begin{enumerate*}\n\\item 'statistics'\n\\item 'parameters'\n\\item 'means'\n\\item 'rank'\n\\item 'comparison'\n\\item 'groups'\n\\end{enumerate*}\n",
            "text/plain": [
              "[1] \"statistics\" \"parameters\" \"means\"      \"rank\"       \"comparison\"\n",
              "[6] \"groups\"    "
            ]
          },
          "metadata": {}
        },
        {
          "output_type": "display_data",
          "data": {
            "text/html": [
              "<table class=\"dataframe\">\n",
              "<caption>A data.frame: 1 × 4</caption>\n",
              "<thead>\n",
              "\t<tr><th></th><th scope=col>chisq.value</th><th scope=col>p.value</th><th scope=col>t.value</th><th scope=col>LSD</th></tr>\n",
              "\t<tr><th></th><th scope=col>&lt;dbl&gt;</th><th scope=col>&lt;dbl&gt;</th><th scope=col>&lt;dbl&gt;</th><th scope=col>&lt;dbl&gt;</th></tr>\n",
              "</thead>\n",
              "<tbody>\n",
              "\t<tr><th scope=row> </th><td>7.714286</td><td>0.2597916</td><td>2.306004</td><td>5.00689</td></tr>\n",
              "</tbody>\n",
              "</table>\n"
            ],
            "text/markdown": "\nA data.frame: 1 × 4\n\n| <!--/--> | chisq.value &lt;dbl&gt; | p.value &lt;dbl&gt; | t.value &lt;dbl&gt; | LSD &lt;dbl&gt; |\n|---|---|---|---|---|\n| <!----> | 7.714286 | 0.2597916 | 2.306004 | 5.00689 |\n\n",
            "text/latex": "A data.frame: 1 × 4\n\\begin{tabular}{r|llll}\n  & chisq.value & p.value & t.value & LSD\\\\\n  & <dbl> & <dbl> & <dbl> & <dbl>\\\\\n\\hline\n\t  & 7.714286 & 0.2597916 & 2.306004 & 5.00689\\\\\n\\end{tabular}\n",
            "text/plain": [
              "  chisq.value p.value   t.value  LSD    \n",
              "  7.714286    0.2597916 2.306004 5.00689"
            ]
          },
          "metadata": {}
        }
      ]
    },
    {
      "cell_type": "markdown",
      "source": [
        "+ 다중비교 p-value > 0.05이므로 A~G까지 차이가 없는 한 집단이라고 할 수 있다."
      ],
      "metadata": {
        "id": "xp0Ua-QBdaVD"
      }
    }
  ]
}