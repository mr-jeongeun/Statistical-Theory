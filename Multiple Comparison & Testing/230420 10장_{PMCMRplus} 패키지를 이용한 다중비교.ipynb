{
  "nbformat": 4,
  "nbformat_minor": 0,
  "metadata": {
    "colab": {
      "provenance": []
    },
    "kernelspec": {
      "name": "ir",
      "display_name": "R"
    },
    "language_info": {
      "name": "R"
    }
  },
  "cells": [
    {
      "cell_type": "markdown",
      "source": [
        "+ Colab에서 PMCMRplus 패키지 설치에 오류가 발생하여 코드만 첨부"
      ],
      "metadata": {
        "id": "qkUpA0KPF-Iv"
      }
    },
    {
      "cell_type": "markdown",
      "source": [
        "## 10.2: 다중비교 예제 - 모수적 방법\n",
        "### 예제 10.1: 일원배치에서 모수적 방법 - Dunnett 검정\n",
        "+ dunnettTett() 이용"
      ],
      "metadata": {
        "id": "oG3ajQysC5RW"
      }
    },
    {
      "cell_type": "code",
      "source": [
        "library(PMCMRplus)\n",
        "fit = aov(Y ~ DOSE, data = trout)\n",
        "shapiro.test(residuals(fit))  # 정규성 검정"
      ],
      "metadata": {
        "id": "b8U0VcISbfF7"
      },
      "execution_count": null,
      "outputs": []
    },
    {
      "cell_type": "markdown",
      "source": [
        "+ p-value > 0.05이므로 H0 기각 못함 $\\rightarrow$ 정규성을 만족한다\n",
        "\n"
      ],
      "metadata": {
        "id": "xFYJOGeKbzZD"
      }
    },
    {
      "cell_type": "code",
      "source": [
        "bartlett.test(Y ~ DOSE, data = trout)  # 등분산성 검정"
      ],
      "metadata": {
        "id": "N4vz1LU6b2ch"
      },
      "execution_count": null,
      "outputs": []
    },
    {
      "cell_type": "markdown",
      "source": [
        "+ p-value > 0.05이므로 H0 기각 못함 $\\rightarrow$ 등분산성을 만족한다 $\\rightarrow$ 공통분산 가정 가능"
      ],
      "metadata": {
        "id": "vyCMJHiwb4cg"
      }
    },
    {
      "cell_type": "code",
      "source": [
        "summary(dunnettTest(fit, alternative = \"less\"))"
      ],
      "metadata": {
        "id": "kSTxqKMOb2Z0"
      },
      "execution_count": null,
      "outputs": []
    },
    {
      "cell_type": "markdown",
      "source": [
        "+  1은 control; 3>=1, 5>=1 유의\n"
      ],
      "metadata": {
        "id": "bPVvV00vb7gK"
      }
    },
    {
      "cell_type": "markdown",
      "source": [
        "### 예제 10.2: 일원배치에서 모수적 방법 - Tukey 검정"
      ],
      "metadata": {
        "id": "c5U5OkU_DMYh"
      }
    },
    {
      "cell_type": "code",
      "source": [
        "fit = aov(weight ~ feed, chickwts)\n",
        "shapiro.test(residuals(fit))"
      ],
      "metadata": {
        "id": "rTi223AFDMjG"
      },
      "execution_count": null,
      "outputs": []
    },
    {
      "cell_type": "markdown",
      "source": [
        "+ p-value > 0.05이므로 H0 기각 못함 $\\rightarrow$ 정규성을 만족한다\n"
      ],
      "metadata": {
        "id": "ryNCydW8EoTB"
      }
    },
    {
      "cell_type": "code",
      "source": [
        "bartlett.test(weight ~ feed, chickwts)"
      ],
      "metadata": {
        "id": "6vHUPi1MDMgy"
      },
      "execution_count": null,
      "outputs": []
    },
    {
      "cell_type": "markdown",
      "source": [
        "+ p-value > 0.05이므로 H0 기각 못함 $\\rightarrow$ 등분산성을 만족한다 $\\rightarrow$ 공통분산 가정 가능\n"
      ],
      "metadata": {
        "id": "vOQ0dRrEDMLx"
      }
    },
    {
      "cell_type": "code",
      "source": [
        "anova(fit)"
      ],
      "metadata": {
        "id": "w-U48qqrEyoo"
      },
      "execution_count": null,
      "outputs": []
    },
    {
      "cell_type": "markdown",
      "source": [
        "+ p-value < 0.05이므로 H0 기각 가능 $\\rightarrow$ feed에 따라 weight가 모두 같다고 할 수 없다. $\\rightarrow$ 다중비교 필요\n"
      ],
      "metadata": {
        "id": "UZG5VQYqEzv2"
      }
    },
    {
      "cell_type": "code",
      "source": [
        "res = tukeyTest(fit)\n",
        "summary(res)"
      ],
      "metadata": {
        "id": "Uv_9wKwfE1QZ"
      },
      "execution_count": null,
      "outputs": []
    },
    {
      "cell_type": "code",
      "source": [
        "summaryGroup(res)"
      ],
      "metadata": {
        "id": "B1LESCAiE4CP"
      },
      "execution_count": null,
      "outputs": []
    },
    {
      "cell_type": "markdown",
      "source": [
        " + casein, sunflower, meatmeal vs horsebean, linseed vs linseed, meatmeal, soybean\n"
      ],
      "metadata": {
        "id": "MtzuHS1kE5Vc"
      }
    },
    {
      "cell_type": "markdown",
      "source": [
        "## 10.3: 다중비교 예제 - 비모수적 방법\n",
        "### 예제 10.3: 일원배치에서 비모수적 방법 - K-W-형의 다중비교"
      ],
      "metadata": {
        "id": "Ct1K9H3jE9Ky"
      }
    },
    {
      "cell_type": "code",
      "source": [
        "data(\"InsectSprays\")\n",
        "kruskalTest(count ~ spray, data = InsectSprays)  # ANOVA 비모수버전"
      ],
      "metadata": {
        "id": "XeGomKkQGr07"
      },
      "execution_count": null,
      "outputs": []
    },
    {
      "cell_type": "markdown",
      "source": [
        "+ p-value < 0.05이므로 H0 기각 가능 $\\rightarrow$ spary에 따라 count가 모두 같다고 할 수 없다. $\\rightarrow$ 다중비교 필요\n"
      ],
      "metadata": {
        "id": "uOdryqAoFCnn"
      }
    },
    {
      "cell_type": "code",
      "source": [
        "ans = kwAllPairsConoverTest(count ~ spray, data = InsectSprays, p.adjust.method = \"single-step\")\n",
        "summary(ans)"
      ],
      "metadata": {
        "id": "cP0hIT5nFEDa"
      },
      "execution_count": null,
      "outputs": []
    },
    {
      "cell_type": "code",
      "source": [
        "summaryGroup(ans)"
      ],
      "metadata": {
        "id": "r99DHoY3FGCc"
      },
      "execution_count": null,
      "outputs": []
    },
    {
      "cell_type": "markdown",
      "source": [
        "+  A, B, F vs C, E vs D, E"
      ],
      "metadata": {
        "id": "PhqG1BP1FHou"
      }
    },
    {
      "cell_type": "code",
      "source": [
        "ans = kwAllPairsDunnTest(count ~ spray, data = InsectSprays, p.adjust.method = \"bonferroni\")\n",
        "summary(ans)"
      ],
      "metadata": {
        "id": "4SZv2toXFI3c"
      },
      "execution_count": null,
      "outputs": []
    },
    {
      "cell_type": "code",
      "source": [
        "summaryGroup(ans)"
      ],
      "metadata": {
        "id": "KYVkPUz5FK2g"
      },
      "execution_count": null,
      "outputs": []
    },
    {
      "cell_type": "markdown",
      "source": [
        "+  A, B, F vs C, D, E"
      ],
      "metadata": {
        "id": "392opeyjFLAU"
      }
    },
    {
      "cell_type": "code",
      "source": [
        "ans = kwAllPairsNemenyiTest(count ~ spray, data = InsectSprays)\n",
        "summary(ans)"
      ],
      "metadata": {
        "id": "G2HUA5H1FM8M"
      },
      "execution_count": null,
      "outputs": []
    },
    {
      "cell_type": "code",
      "source": [
        "summaryGroup(ans)"
      ],
      "metadata": {
        "id": "U1ca-aKiFOG4"
      },
      "execution_count": null,
      "outputs": []
    },
    {
      "cell_type": "markdown",
      "source": [
        "+  A, B, F vs C, D, E"
      ],
      "metadata": {
        "id": "5zyuoL_IFPj2"
      }
    },
    {
      "cell_type": "markdown",
      "source": [
        "### 예제 10.4: Friedman-형의 다중비교"
      ],
      "metadata": {
        "id": "kD3BlGCiFTNl"
      }
    },
    {
      "cell_type": "code",
      "source": [
        "y = matrix(c(3.88, 5.64, 5.76, 4.25, 5.91, 4.33, 30.58, 30.14, 16.92, 23.19, 26.74, 10.91,\n",
        "             25.24, 33.52, 25.45, 18.85, 20.45, 26.67, 4.44, 7.94, 4.04, 4.4, 4.23, 4.36,\n",
        "             29.41, 30.72, 32.92, 28.23, 23.35, 12, 38.87, 33.12, 39.15, 28.06, 38.23, 26.65),\n",
        "           nrow = 6, ncol = 6, dimnames = list(1:6, LETTERS[1:6]))\n",
        "print(y)  # 6개의 블록(6명)에 6개의 다른 치료제 처치"
      ],
      "metadata": {
        "id": "TnIWs6-lFP3h"
      },
      "execution_count": null,
      "outputs": []
    },
    {
      "cell_type": "code",
      "source": [
        "friedmanTest(y)"
      ],
      "metadata": {
        "id": "Q1PFT4ZBFU6u"
      },
      "execution_count": null,
      "outputs": []
    },
    {
      "cell_type": "markdown",
      "source": [
        "+ p-value < 0.05이므로 H0 기각 가능 $\\rightarrow$ 블록에 따라 반응이 모두 같다고 할 수 없다. $\\rightarrow$ 다중비교 필요\n"
      ],
      "metadata": {
        "id": "rsMqJRKYFV3o"
      }
    },
    {
      "cell_type": "code",
      "source": [
        "frdAllPairsExactTest(y = y, p.adjust = \"bonferroni\")"
      ],
      "metadata": {
        "id": "kW4kDLpJFXjD"
      },
      "execution_count": null,
      "outputs": []
    },
    {
      "cell_type": "code",
      "source": [
        "frdAllPairsConoverTest(y = y, p.adjust = \"bonferroni\")"
      ],
      "metadata": {
        "id": "MCSGB1EgFYDw"
      },
      "execution_count": null,
      "outputs": []
    },
    {
      "cell_type": "code",
      "source": [
        "frdAllPairsNemenyiTest(y = y)"
      ],
      "metadata": {
        "id": "2EV-EKpMFYBq"
      },
      "execution_count": null,
      "outputs": []
    },
    {
      "cell_type": "code",
      "source": [
        "frdAllPairsMillerTest(y = y)"
      ],
      "metadata": {
        "id": "V46ZFU9pFX_d"
      },
      "execution_count": null,
      "outputs": []
    },
    {
      "cell_type": "code",
      "source": [
        "frdAllPairsSiegelTest(y = y, p.adjust = \"bonferroni\")"
      ],
      "metadata": {
        "id": "puoquKJvFX9Y"
      },
      "execution_count": null,
      "outputs": []
    }
  ]
}