{
  "nbformat": 4,
  "nbformat_minor": 0,
  "metadata": {
    "colab": {
      "provenance": []
    },
    "kernelspec": {
      "name": "ir",
      "display_name": "R"
    },
    "language_info": {
      "name": "R"
    }
  },
  "cells": [
    {
      "cell_type": "markdown",
      "source": [
        "## 예제 1"
      ],
      "metadata": {
        "id": "zo28T-DeQ_rr"
      }
    },
    {
      "cell_type": "markdown",
      "source": [
        "### (a) 단위근 검정 : adf.test()"
      ],
      "metadata": {
        "id": "yQoeam08GT5A"
      }
    },
    {
      "cell_type": "code",
      "execution_count": 28,
      "metadata": {
        "colab": {
          "base_uri": "https://localhost:8080/",
          "height": 124
        },
        "id": "8aCW_j4NQ4yA",
        "outputId": "f11eac03-26e3-4458-eb06-beda11edfc51"
      },
      "outputs": [
        {
          "output_type": "display_data",
          "data": {
            "text/plain": [
              "\n",
              "\tAugmented Dickey-Fuller Test\n",
              "\n",
              "data:  USAccDeaths\n",
              "Dickey-Fuller = -3.8221, Lag order = 4, p-value = 0.02268\n",
              "alternative hypothesis: stationary\n"
            ]
          },
          "metadata": {}
        }
      ],
      "source": [
        "library(tseries)\n",
        "adf.test(USAccDeaths)"
      ]
    },
    {
      "cell_type": "markdown",
      "source": [
        "+ 유의수준 0.05 하에서 귀무가설 기각. 따라서, 단위근을 가진다고 할 수 없음."
      ],
      "metadata": {
        "id": "CwV5d1ypCiM8"
      }
    },
    {
      "cell_type": "code",
      "source": [
        "library(forecast)\n",
        "ndiffs(USAccDeaths, test = \"adf\")"
      ],
      "metadata": {
        "colab": {
          "base_uri": "https://localhost:8080/",
          "height": 34
        },
        "id": "N3ntlN3v3Dyy",
        "outputId": "847c51b8-6ab7-43e4-fabc-4cd03b523fb0"
      },
      "execution_count": 29,
      "outputs": [
        {
          "output_type": "display_data",
          "data": {
            "text/html": [
              "0"
            ],
            "text/markdown": "0",
            "text/latex": "0",
            "text/plain": [
              "[1] 0"
            ]
          },
          "metadata": {}
        }
      ]
    },
    {
      "cell_type": "markdown",
      "source": [
        "+ ADF 검정에 따라 차분 불필요"
      ],
      "metadata": {
        "id": "UZNoIgQQClCw"
      }
    },
    {
      "cell_type": "code",
      "source": [
        "nsdiffs(USAccDeaths, test = \"seas\")"
      ],
      "metadata": {
        "colab": {
          "base_uri": "https://localhost:8080/",
          "height": 34
        },
        "id": "vqFniAuW3Dws",
        "outputId": "a4dcac6d-c9a9-4709-a0a6-9627d85620e4"
      },
      "execution_count": 30,
      "outputs": [
        {
          "output_type": "display_data",
          "data": {
            "text/html": [
              "1"
            ],
            "text/markdown": "1",
            "text/latex": "1",
            "text/plain": [
              "[1] 1"
            ]
          },
          "metadata": {}
        }
      ]
    },
    {
      "cell_type": "markdown",
      "source": [
        "+ seas 검정에 따라 1차 계절차분 필요"
      ],
      "metadata": {
        "id": "opyUAqPFCoKD"
      }
    },
    {
      "cell_type": "markdown",
      "source": [
        "\n",
        "### (b) 독립성 검정 : Box.test()"
      ],
      "metadata": {
        "id": "Dp63vRbZCpjT"
      }
    },
    {
      "cell_type": "code",
      "source": [
        "Box.test(USAccDeaths, type = \"Ljung-Box\")"
      ],
      "metadata": {
        "colab": {
          "base_uri": "https://localhost:8080/",
          "height": 106
        },
        "id": "0SWTj3E53Duh",
        "outputId": "616682fd-4a9b-4b2c-8a16-84e1089b89e2"
      },
      "execution_count": 31,
      "outputs": [
        {
          "output_type": "display_data",
          "data": {
            "text/plain": [
              "\n",
              "\tBox-Ljung test\n",
              "\n",
              "data:  USAccDeaths\n",
              "X-squared = 37.56, df = 1, p-value = 8.865e-10\n"
            ]
          },
          "metadata": {}
        }
      ]
    },
    {
      "cell_type": "markdown",
      "source": [
        "+ 유의수준 0.05 하에서 귀무가설 기각. 따라서, 단위근을 가진다고 할 수 있음"
      ],
      "metadata": {
        "id": "QPH5LipaCsgF"
      }
    }
  ]
}