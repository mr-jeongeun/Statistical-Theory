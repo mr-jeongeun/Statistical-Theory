{
  "nbformat": 4,
  "nbformat_minor": 0,
  "metadata": {
    "colab": {
      "provenance": []
    },
    "kernelspec": {
      "name": "ir",
      "display_name": "R"
    },
    "language_info": {
      "name": "R"
    }
  },
  "cells": [
    {
      "cell_type": "markdown",
      "source": [
        "## ensemble 및 cross-validation\n",
        "## 범주형 데이터"
      ],
      "metadata": {
        "id": "lexgkcIf_AwI"
      }
    },
    {
      "cell_type": "code",
      "source": [
        "install.packages(\"caret\")\n",
        "library(caret)\n",
        "mydata = read.csv(\"https://stats.idre.ucla.edu/stat/data/binary.csv\")\n",
        "head(mydata)\n",
        "str(mydata)"
      ],
      "metadata": {
        "colab": {
          "base_uri": "https://localhost:8080/",
          "height": 574
        },
        "id": "zHFv_Rew-_e2",
        "outputId": "54b8e43a-b027-4b81-ef39-457931c884d3"
      },
      "execution_count": 1,
      "outputs": [
        {
          "output_type": "stream",
          "name": "stderr",
          "text": [
            "Installing package into ‘/usr/local/lib/R/site-library’\n",
            "(as ‘lib’ is unspecified)\n",
            "\n",
            "also installing the dependencies ‘listenv’, ‘parallelly’, ‘future’, ‘globals’, ‘shape’, ‘future.apply’, ‘numDeriv’, ‘progressr’, ‘SQUAREM’, ‘diagram’, ‘lava’, ‘prodlim’, ‘proxy’, ‘iterators’, ‘Rcpp’, ‘clock’, ‘gower’, ‘hardhat’, ‘ipred’, ‘timeDate’, ‘e1071’, ‘foreach’, ‘ModelMetrics’, ‘plyr’, ‘pROC’, ‘recipes’, ‘reshape2’\n",
            "\n",
            "\n",
            "Loading required package: ggplot2\n",
            "\n",
            "Loading required package: lattice\n",
            "\n"
          ]
        },
        {
          "output_type": "display_data",
          "data": {
            "text/html": [
              "<table class=\"dataframe\">\n",
              "<caption>A data.frame: 6 × 4</caption>\n",
              "<thead>\n",
              "\t<tr><th></th><th scope=col>admit</th><th scope=col>gre</th><th scope=col>gpa</th><th scope=col>rank</th></tr>\n",
              "\t<tr><th></th><th scope=col>&lt;int&gt;</th><th scope=col>&lt;int&gt;</th><th scope=col>&lt;dbl&gt;</th><th scope=col>&lt;int&gt;</th></tr>\n",
              "</thead>\n",
              "<tbody>\n",
              "\t<tr><th scope=row>1</th><td>0</td><td>380</td><td>3.61</td><td>3</td></tr>\n",
              "\t<tr><th scope=row>2</th><td>1</td><td>660</td><td>3.67</td><td>3</td></tr>\n",
              "\t<tr><th scope=row>3</th><td>1</td><td>800</td><td>4.00</td><td>1</td></tr>\n",
              "\t<tr><th scope=row>4</th><td>1</td><td>640</td><td>3.19</td><td>4</td></tr>\n",
              "\t<tr><th scope=row>5</th><td>0</td><td>520</td><td>2.93</td><td>4</td></tr>\n",
              "\t<tr><th scope=row>6</th><td>1</td><td>760</td><td>3.00</td><td>2</td></tr>\n",
              "</tbody>\n",
              "</table>\n"
            ],
            "text/markdown": "\nA data.frame: 6 × 4\n\n| <!--/--> | admit &lt;int&gt; | gre &lt;int&gt; | gpa &lt;dbl&gt; | rank &lt;int&gt; |\n|---|---|---|---|---|\n| 1 | 0 | 380 | 3.61 | 3 |\n| 2 | 1 | 660 | 3.67 | 3 |\n| 3 | 1 | 800 | 4.00 | 1 |\n| 4 | 1 | 640 | 3.19 | 4 |\n| 5 | 0 | 520 | 2.93 | 4 |\n| 6 | 1 | 760 | 3.00 | 2 |\n\n",
            "text/latex": "A data.frame: 6 × 4\n\\begin{tabular}{r|llll}\n  & admit & gre & gpa & rank\\\\\n  & <int> & <int> & <dbl> & <int>\\\\\n\\hline\n\t1 & 0 & 380 & 3.61 & 3\\\\\n\t2 & 1 & 660 & 3.67 & 3\\\\\n\t3 & 1 & 800 & 4.00 & 1\\\\\n\t4 & 1 & 640 & 3.19 & 4\\\\\n\t5 & 0 & 520 & 2.93 & 4\\\\\n\t6 & 1 & 760 & 3.00 & 2\\\\\n\\end{tabular}\n",
            "text/plain": [
              "  admit gre gpa  rank\n",
              "1 0     380 3.61 3   \n",
              "2 1     660 3.67 3   \n",
              "3 1     800 4.00 1   \n",
              "4 1     640 3.19 4   \n",
              "5 0     520 2.93 4   \n",
              "6 1     760 3.00 2   "
            ]
          },
          "metadata": {}
        },
        {
          "output_type": "stream",
          "name": "stdout",
          "text": [
            "'data.frame':\t400 obs. of  4 variables:\n",
            " $ admit: int  0 1 1 1 0 1 1 0 1 0 ...\n",
            " $ gre  : int  380 660 800 640 520 760 560 400 540 700 ...\n",
            " $ gpa  : num  3.61 3.67 4 3.19 2.93 3 2.98 3.08 3.39 3.92 ...\n",
            " $ rank : int  3 3 1 4 4 2 1 2 3 2 ...\n"
          ]
        }
      ]
    },
    {
      "cell_type": "code",
      "source": [
        "## 변수 factor화\n",
        "mydata$admit = as.factor(mydata$admit)\n",
        "mydata$rank = as.factor(mydata$rank)\n",
        "summary(mydata)"
      ],
      "metadata": {
        "colab": {
          "base_uri": "https://localhost:8080/",
          "height": 142
        },
        "id": "84-ECMGN-_ci",
        "outputId": "67951988-caf8-42c0-f7d7-64aa02d61d6f"
      },
      "execution_count": 2,
      "outputs": [
        {
          "output_type": "display_data",
          "data": {
            "text/plain": [
              " admit        gre             gpa        rank   \n",
              " 0:273   Min.   :220.0   Min.   :2.260   1: 61  \n",
              " 1:127   1st Qu.:520.0   1st Qu.:3.130   2:151  \n",
              "         Median :580.0   Median :3.395   3:121  \n",
              "         Mean   :587.7   Mean   :3.390   4: 67  \n",
              "         3rd Qu.:660.0   3rd Qu.:3.670          \n",
              "         Max.   :800.0   Max.   :4.000          "
            ]
          },
          "metadata": {}
        }
      ]
    },
    {
      "cell_type": "code",
      "source": [
        "## 데이터 분할\n",
        "set.seed(123)\n",
        "my.ind = createDataPartition(y = mydata$admit,p = 0.75, list = FALSE)\n",
        "my.training = mydata[my.ind, ]\n",
        "my.test = mydata[-my.ind, ]"
      ],
      "metadata": {
        "id": "Q5m-LCoG-_aC"
      },
      "execution_count": 3,
      "outputs": []
    },
    {
      "cell_type": "code",
      "source": [
        "## bagging & cross-validation\n",
        "cctrl1 = trainControl(method = \"cv\", number = 5)\n",
        "set.seed(123)\n",
        "model.bag = train(admit ~ ., data = my.training, trControl = cctrl1, method = \"bag\",\n",
        "                  tuneGrid = data.frame(vars = seq(5, 20, by = 5)),\n",
        "                  bagControl = bagControl(fit = ldaBag$fit, predict = ldaBag$pred, aggregate = ldaBag$aggregate))"
      ],
      "metadata": {
        "colab": {
          "base_uri": "https://localhost:8080/"
        },
        "id": "c6d2qvUm-_Xv",
        "outputId": "ca679efc-fbd3-4d74-9d7f-8c5522b69997"
      },
      "execution_count": 4,
      "outputs": [
        {
          "output_type": "stream",
          "name": "stderr",
          "text": [
            "Warning message:\n",
            "“executing %dopar% sequentially: no parallel backend registered”\n"
          ]
        }
      ]
    },
    {
      "cell_type": "code",
      "source": [
        "## gradient boosting & cross-validation\n",
        "install.packages(\"gbm\")\n",
        "library(gbm)\n",
        "cctrl1 = trainControl(method = \"cv\", number = 5)\n",
        "set.seed(123)\n",
        "model.gbm = train(admit ~ ., data = my.training, trControl = cctrl1, method = \"gbm\", tuneLength = 3)"
      ],
      "metadata": {
        "colab": {
          "base_uri": "https://localhost:8080/"
        },
        "id": "oOLTFoKW-_Vw",
        "outputId": "c89a7bc0-1af3-4ec1-a968-3407f7817756"
      },
      "execution_count": 5,
      "outputs": [
        {
          "output_type": "stream",
          "name": "stderr",
          "text": [
            "Installing package into ‘/usr/local/lib/R/site-library’\n",
            "(as ‘lib’ is unspecified)\n",
            "\n",
            "Loaded gbm 2.1.8.1\n",
            "\n"
          ]
        },
        {
          "output_type": "stream",
          "name": "stdout",
          "text": [
            "Iter   TrainDeviance   ValidDeviance   StepSize   Improve\n",
            "     1        1.2369            -nan     0.1000    0.0054\n",
            "     2        1.2238            -nan     0.1000    0.0037\n",
            "     3        1.2163            -nan     0.1000    0.0013\n",
            "     4        1.2111            -nan     0.1000   -0.0002\n",
            "     5        1.2028            -nan     0.1000    0.0035\n",
            "     6        1.1967            -nan     0.1000    0.0027\n",
            "     7        1.1929            -nan     0.1000    0.0020\n",
            "     8        1.1877            -nan     0.1000   -0.0009\n",
            "     9        1.1852            -nan     0.1000    0.0009\n",
            "    10        1.1821            -nan     0.1000   -0.0026\n",
            "    20        1.1528            -nan     0.1000   -0.0011\n",
            "    40        1.1229            -nan     0.1000   -0.0017\n",
            "    60        1.0993            -nan     0.1000   -0.0006\n",
            "    80        1.0740            -nan     0.1000   -0.0019\n",
            "   100        1.0521            -nan     0.1000   -0.0012\n",
            "   120        1.0388            -nan     0.1000   -0.0026\n",
            "   140        1.0230            -nan     0.1000   -0.0047\n",
            "   150        1.0167            -nan     0.1000   -0.0017\n",
            "\n",
            "Iter   TrainDeviance   ValidDeviance   StepSize   Improve\n",
            "     1        1.2318            -nan     0.1000    0.0072\n",
            "     2        1.2180            -nan     0.1000    0.0047\n",
            "     3        1.2040            -nan     0.1000    0.0056\n",
            "     4        1.1942            -nan     0.1000    0.0019\n",
            "     5        1.1836            -nan     0.1000    0.0032\n",
            "     6        1.1767            -nan     0.1000   -0.0013\n",
            "     7        1.1690            -nan     0.1000   -0.0019\n",
            "     8        1.1592            -nan     0.1000   -0.0001\n",
            "     9        1.1526            -nan     0.1000   -0.0031\n",
            "    10        1.1453            -nan     0.1000   -0.0004\n",
            "    20        1.1108            -nan     0.1000   -0.0033\n",
            "    40        1.0418            -nan     0.1000   -0.0030\n",
            "    60        1.0118            -nan     0.1000   -0.0021\n",
            "    80        0.9743            -nan     0.1000   -0.0033\n",
            "   100        0.9481            -nan     0.1000   -0.0031\n",
            "   120        0.9232            -nan     0.1000   -0.0035\n",
            "   140        0.9023            -nan     0.1000   -0.0008\n",
            "   150        0.8935            -nan     0.1000   -0.0021\n",
            "\n",
            "Iter   TrainDeviance   ValidDeviance   StepSize   Improve\n",
            "     1        1.2343            -nan     0.1000    0.0076\n",
            "     2        1.2148            -nan     0.1000    0.0005\n",
            "     3        1.2022            -nan     0.1000    0.0040\n",
            "     4        1.1920            -nan     0.1000   -0.0000\n",
            "     5        1.1820            -nan     0.1000   -0.0018\n",
            "     6        1.1694            -nan     0.1000    0.0030\n",
            "     7        1.1564            -nan     0.1000    0.0008\n",
            "     8        1.1438            -nan     0.1000   -0.0042\n",
            "     9        1.1369            -nan     0.1000   -0.0016\n",
            "    10        1.1298            -nan     0.1000   -0.0023\n",
            "    20        1.0712            -nan     0.1000   -0.0003\n",
            "    40        1.0026            -nan     0.1000   -0.0022\n",
            "    60        0.9514            -nan     0.1000   -0.0048\n",
            "    80        0.9110            -nan     0.1000   -0.0027\n",
            "   100        0.8808            -nan     0.1000   -0.0035\n",
            "   120        0.8492            -nan     0.1000   -0.0067\n",
            "   140        0.8304            -nan     0.1000   -0.0045\n",
            "   150        0.8197            -nan     0.1000   -0.0040\n",
            "\n",
            "Iter   TrainDeviance   ValidDeviance   StepSize   Improve\n",
            "     1        1.2310            -nan     0.1000    0.0058\n",
            "     2        1.2203            -nan     0.1000    0.0035\n",
            "     3        1.2145            -nan     0.1000    0.0009\n",
            "     4        1.2072            -nan     0.1000    0.0033\n",
            "     5        1.2012            -nan     0.1000    0.0022\n",
            "     6        1.1953            -nan     0.1000    0.0001\n",
            "     7        1.1885            -nan     0.1000   -0.0009\n",
            "     8        1.1808            -nan     0.1000    0.0019\n",
            "     9        1.1759            -nan     0.1000    0.0002\n",
            "    10        1.1703            -nan     0.1000    0.0005\n",
            "    20        1.1516            -nan     0.1000    0.0006\n",
            "    40        1.1107            -nan     0.1000   -0.0024\n",
            "    60        1.0898            -nan     0.1000   -0.0015\n",
            "    80        1.0708            -nan     0.1000   -0.0028\n",
            "   100        1.0533            -nan     0.1000   -0.0017\n",
            "   120        1.0374            -nan     0.1000   -0.0021\n",
            "   140        1.0213            -nan     0.1000   -0.0028\n",
            "   150        1.0147            -nan     0.1000   -0.0021\n",
            "\n",
            "Iter   TrainDeviance   ValidDeviance   StepSize   Improve\n",
            "     1        1.2271            -nan     0.1000    0.0054\n",
            "     2        1.2187            -nan     0.1000   -0.0020\n",
            "     3        1.2104            -nan     0.1000    0.0015\n",
            "     4        1.1967            -nan     0.1000    0.0026\n",
            "     5        1.1902            -nan     0.1000   -0.0012\n",
            "     6        1.1734            -nan     0.1000    0.0034\n",
            "     7        1.1601            -nan     0.1000    0.0022\n",
            "     8        1.1517            -nan     0.1000    0.0025\n",
            "     9        1.1456            -nan     0.1000   -0.0004\n",
            "    10        1.1417            -nan     0.1000   -0.0025\n",
            "    20        1.0988            -nan     0.1000   -0.0028\n",
            "    40        1.0500            -nan     0.1000   -0.0010\n",
            "    60        1.0037            -nan     0.1000   -0.0021\n",
            "    80        0.9732            -nan     0.1000   -0.0062\n",
            "   100        0.9493            -nan     0.1000   -0.0039\n",
            "   120        0.9166            -nan     0.1000   -0.0017\n",
            "   140        0.8902            -nan     0.1000   -0.0028\n",
            "   150        0.8845            -nan     0.1000   -0.0030\n",
            "\n",
            "Iter   TrainDeviance   ValidDeviance   StepSize   Improve\n",
            "     1        1.2282            -nan     0.1000    0.0075\n",
            "     2        1.2091            -nan     0.1000    0.0060\n",
            "     3        1.1941            -nan     0.1000    0.0026\n",
            "     4        1.1817            -nan     0.1000   -0.0023\n",
            "     5        1.1650            -nan     0.1000    0.0031\n",
            "     6        1.1448            -nan     0.1000    0.0036\n",
            "     7        1.1355            -nan     0.1000   -0.0022\n",
            "     8        1.1299            -nan     0.1000   -0.0039\n",
            "     9        1.1237            -nan     0.1000   -0.0017\n",
            "    10        1.1129            -nan     0.1000   -0.0021\n",
            "    20        1.0654            -nan     0.1000   -0.0017\n",
            "    40        0.9913            -nan     0.1000   -0.0043\n",
            "    60        0.9334            -nan     0.1000   -0.0029\n",
            "    80        0.8941            -nan     0.1000   -0.0075\n",
            "   100        0.8586            -nan     0.1000   -0.0033\n",
            "   120        0.8202            -nan     0.1000   -0.0055\n",
            "   140        0.7980            -nan     0.1000   -0.0060\n",
            "   150        0.7809            -nan     0.1000   -0.0047\n",
            "\n",
            "Iter   TrainDeviance   ValidDeviance   StepSize   Improve\n",
            "     1        1.2426            -nan     0.1000    0.0058\n",
            "     2        1.2363            -nan     0.1000   -0.0000\n",
            "     3        1.2234            -nan     0.1000    0.0040\n",
            "     4        1.2156            -nan     0.1000    0.0029\n",
            "     5        1.2119            -nan     0.1000    0.0007\n",
            "     6        1.2073            -nan     0.1000   -0.0027\n",
            "     7        1.2049            -nan     0.1000    0.0001\n",
            "     8        1.1975            -nan     0.1000    0.0014\n",
            "     9        1.1948            -nan     0.1000   -0.0020\n",
            "    10        1.1890            -nan     0.1000   -0.0002\n",
            "    20        1.1674            -nan     0.1000   -0.0029\n",
            "    40        1.1360            -nan     0.1000   -0.0016\n",
            "    60        1.1154            -nan     0.1000   -0.0006\n",
            "    80        1.0959            -nan     0.1000   -0.0049\n",
            "   100        1.0794            -nan     0.1000   -0.0012\n",
            "   120        1.0646            -nan     0.1000   -0.0019\n",
            "   140        1.0500            -nan     0.1000   -0.0037\n",
            "   150        1.0435            -nan     0.1000   -0.0019\n",
            "\n",
            "Iter   TrainDeviance   ValidDeviance   StepSize   Improve\n",
            "     1        1.2343            -nan     0.1000    0.0046\n",
            "     2        1.2222            -nan     0.1000    0.0041\n",
            "     3        1.2098            -nan     0.1000   -0.0014\n",
            "     4        1.1970            -nan     0.1000    0.0020\n",
            "     5        1.1904            -nan     0.1000    0.0016\n",
            "     6        1.1798            -nan     0.1000    0.0013\n",
            "     7        1.1773            -nan     0.1000   -0.0043\n",
            "     8        1.1701            -nan     0.1000   -0.0029\n",
            "     9        1.1649            -nan     0.1000   -0.0055\n",
            "    10        1.1624            -nan     0.1000   -0.0055\n",
            "    20        1.1129            -nan     0.1000   -0.0060\n",
            "    40        1.0717            -nan     0.1000   -0.0036\n",
            "    60        1.0180            -nan     0.1000   -0.0037\n",
            "    80        0.9772            -nan     0.1000   -0.0008\n",
            "   100        0.9459            -nan     0.1000   -0.0020\n",
            "   120        0.9220            -nan     0.1000   -0.0043\n",
            "   140        0.8941            -nan     0.1000   -0.0030\n",
            "   150        0.8836            -nan     0.1000   -0.0035\n",
            "\n",
            "Iter   TrainDeviance   ValidDeviance   StepSize   Improve\n",
            "     1        1.2312            -nan     0.1000    0.0002\n",
            "     2        1.2151            -nan     0.1000    0.0049\n",
            "     3        1.1964            -nan     0.1000    0.0027\n",
            "     4        1.1801            -nan     0.1000    0.0006\n",
            "     5        1.1624            -nan     0.1000    0.0020\n",
            "     6        1.1550            -nan     0.1000    0.0019\n",
            "     7        1.1464            -nan     0.1000   -0.0001\n",
            "     8        1.1394            -nan     0.1000   -0.0008\n",
            "     9        1.1329            -nan     0.1000    0.0006\n",
            "    10        1.1270            -nan     0.1000   -0.0033\n",
            "    20        1.0726            -nan     0.1000   -0.0019\n",
            "    40        1.0066            -nan     0.1000   -0.0027\n",
            "    60        0.9589            -nan     0.1000   -0.0011\n",
            "    80        0.9176            -nan     0.1000   -0.0050\n",
            "   100        0.8811            -nan     0.1000   -0.0022\n",
            "   120        0.8401            -nan     0.1000   -0.0059\n",
            "   140        0.8134            -nan     0.1000   -0.0036\n",
            "   150        0.8021            -nan     0.1000   -0.0028\n",
            "\n",
            "Iter   TrainDeviance   ValidDeviance   StepSize   Improve\n",
            "     1        1.2426            -nan     0.1000    0.0029\n",
            "     2        1.2297            -nan     0.1000    0.0015\n",
            "     3        1.2215            -nan     0.1000    0.0016\n",
            "     4        1.2157            -nan     0.1000   -0.0006\n",
            "     5        1.2088            -nan     0.1000    0.0007\n",
            "     6        1.2046            -nan     0.1000   -0.0019\n",
            "     7        1.1988            -nan     0.1000    0.0013\n",
            "     8        1.1933            -nan     0.1000    0.0004\n",
            "     9        1.1890            -nan     0.1000    0.0012\n",
            "    10        1.1866            -nan     0.1000   -0.0017\n",
            "    20        1.1601            -nan     0.1000   -0.0002\n",
            "    40        1.1324            -nan     0.1000   -0.0011\n",
            "    60        1.1141            -nan     0.1000   -0.0032\n",
            "    80        1.0905            -nan     0.1000   -0.0058\n",
            "   100        1.0732            -nan     0.1000   -0.0007\n",
            "   120        1.0593            -nan     0.1000   -0.0018\n",
            "   140        1.0467            -nan     0.1000   -0.0002\n",
            "   150        1.0399            -nan     0.1000   -0.0033\n",
            "\n",
            "Iter   TrainDeviance   ValidDeviance   StepSize   Improve\n",
            "     1        1.2410            -nan     0.1000    0.0047\n",
            "     2        1.2231            -nan     0.1000    0.0031\n",
            "     3        1.2110            -nan     0.1000    0.0012\n",
            "     4        1.2036            -nan     0.1000   -0.0004\n",
            "     5        1.1953            -nan     0.1000    0.0002\n",
            "     6        1.1902            -nan     0.1000   -0.0001\n",
            "     7        1.1824            -nan     0.1000   -0.0018\n",
            "     8        1.1782            -nan     0.1000   -0.0016\n",
            "     9        1.1712            -nan     0.1000   -0.0002\n",
            "    10        1.1646            -nan     0.1000   -0.0015\n",
            "    20        1.1173            -nan     0.1000   -0.0012\n",
            "    40        1.0610            -nan     0.1000   -0.0029\n",
            "    60        1.0276            -nan     0.1000   -0.0057\n",
            "    80        0.9918            -nan     0.1000   -0.0040\n",
            "   100        0.9616            -nan     0.1000   -0.0044\n",
            "   120        0.9429            -nan     0.1000   -0.0018\n",
            "   140        0.9196            -nan     0.1000   -0.0027\n",
            "   150        0.9087            -nan     0.1000   -0.0021\n",
            "\n",
            "Iter   TrainDeviance   ValidDeviance   StepSize   Improve\n",
            "     1        1.2408            -nan     0.1000    0.0043\n",
            "     2        1.2309            -nan     0.1000    0.0031\n",
            "     3        1.2129            -nan     0.1000   -0.0014\n",
            "     4        1.2011            -nan     0.1000    0.0011\n",
            "     5        1.1940            -nan     0.1000   -0.0007\n",
            "     6        1.1817            -nan     0.1000    0.0015\n",
            "     7        1.1738            -nan     0.1000   -0.0000\n",
            "     8        1.1619            -nan     0.1000   -0.0007\n",
            "     9        1.1524            -nan     0.1000   -0.0007\n",
            "    10        1.1469            -nan     0.1000   -0.0081\n",
            "    20        1.0887            -nan     0.1000   -0.0041\n",
            "    40        1.0141            -nan     0.1000   -0.0003\n",
            "    60        0.9615            -nan     0.1000   -0.0019\n",
            "    80        0.9108            -nan     0.1000   -0.0061\n",
            "   100        0.8775            -nan     0.1000   -0.0041\n",
            "   120        0.8482            -nan     0.1000   -0.0025\n",
            "   140        0.8220            -nan     0.1000   -0.0030\n",
            "   150        0.8104            -nan     0.1000   -0.0020\n",
            "\n",
            "Iter   TrainDeviance   ValidDeviance   StepSize   Improve\n",
            "     1        1.2492            -nan     0.1000   -0.0029\n",
            "     2        1.2385            -nan     0.1000    0.0012\n",
            "     3        1.2287            -nan     0.1000   -0.0004\n",
            "     4        1.2235            -nan     0.1000    0.0017\n",
            "     5        1.2114            -nan     0.1000    0.0010\n",
            "     6        1.2056            -nan     0.1000    0.0023\n",
            "     7        1.2001            -nan     0.1000   -0.0001\n",
            "     8        1.1963            -nan     0.1000    0.0008\n",
            "     9        1.1933            -nan     0.1000    0.0004\n",
            "    10        1.1882            -nan     0.1000    0.0019\n",
            "    20        1.1613            -nan     0.1000   -0.0006\n",
            "    40        1.1292            -nan     0.1000   -0.0017\n",
            "    60        1.0953            -nan     0.1000   -0.0003\n",
            "    80        1.0698            -nan     0.1000   -0.0042\n",
            "   100        1.0483            -nan     0.1000   -0.0008\n",
            "   120        1.0310            -nan     0.1000   -0.0009\n",
            "   140        1.0115            -nan     0.1000   -0.0015\n",
            "   150        1.0028            -nan     0.1000   -0.0016\n",
            "\n",
            "Iter   TrainDeviance   ValidDeviance   StepSize   Improve\n",
            "     1        1.2376            -nan     0.1000    0.0035\n",
            "     2        1.2244            -nan     0.1000    0.0021\n",
            "     3        1.2098            -nan     0.1000    0.0048\n",
            "     4        1.1995            -nan     0.1000    0.0018\n",
            "     5        1.1946            -nan     0.1000   -0.0006\n",
            "     6        1.1866            -nan     0.1000    0.0034\n",
            "     7        1.1823            -nan     0.1000   -0.0016\n",
            "     8        1.1780            -nan     0.1000   -0.0021\n",
            "     9        1.1759            -nan     0.1000   -0.0019\n",
            "    10        1.1714            -nan     0.1000   -0.0009\n",
            "    20        1.1174            -nan     0.1000   -0.0004\n",
            "    40        1.0467            -nan     0.1000   -0.0032\n",
            "    60        0.9996            -nan     0.1000   -0.0038\n",
            "    80        0.9567            -nan     0.1000   -0.0021\n",
            "   100        0.9200            -nan     0.1000   -0.0023\n",
            "   120        0.8824            -nan     0.1000   -0.0039\n",
            "   140        0.8574            -nan     0.1000   -0.0027\n",
            "   150        0.8453            -nan     0.1000   -0.0039\n",
            "\n",
            "Iter   TrainDeviance   ValidDeviance   StepSize   Improve\n",
            "     1        1.2391            -nan     0.1000   -0.0007\n",
            "     2        1.2343            -nan     0.1000   -0.0071\n",
            "     3        1.2114            -nan     0.1000    0.0079\n",
            "     4        1.1943            -nan     0.1000    0.0041\n",
            "     5        1.1818            -nan     0.1000   -0.0012\n",
            "     6        1.1737            -nan     0.1000   -0.0013\n",
            "     7        1.1678            -nan     0.1000    0.0006\n",
            "     8        1.1588            -nan     0.1000   -0.0018\n",
            "     9        1.1560            -nan     0.1000   -0.0039\n",
            "    10        1.1452            -nan     0.1000    0.0038\n",
            "    20        1.0694            -nan     0.1000   -0.0041\n",
            "    40        0.9687            -nan     0.1000   -0.0032\n",
            "    60        0.8988            -nan     0.1000   -0.0044\n",
            "    80        0.8393            -nan     0.1000   -0.0044\n",
            "   100        0.7907            -nan     0.1000   -0.0009\n",
            "   120        0.7614            -nan     0.1000   -0.0027\n",
            "   140        0.7290            -nan     0.1000   -0.0020\n",
            "   150        0.7145            -nan     0.1000   -0.0037\n",
            "\n",
            "Iter   TrainDeviance   ValidDeviance   StepSize   Improve\n",
            "     1        1.2405            -nan     0.1000    0.0047\n",
            "     2        1.2352            -nan     0.1000    0.0011\n",
            "     3        1.2265            -nan     0.1000    0.0023\n",
            "     4        1.2207            -nan     0.1000    0.0025\n",
            "     5        1.2164            -nan     0.1000    0.0011\n",
            "     6        1.2116            -nan     0.1000   -0.0008\n",
            "     7        1.2032            -nan     0.1000    0.0007\n",
            "     8        1.1996            -nan     0.1000   -0.0019\n",
            "     9        1.1967            -nan     0.1000    0.0007\n",
            "    10        1.1904            -nan     0.1000   -0.0034\n",
            "    20        1.1658            -nan     0.1000   -0.0000\n",
            "    40        1.1357            -nan     0.1000   -0.0004\n",
            "    50        1.1254            -nan     0.1000   -0.0018\n",
            "\n"
          ]
        }
      ]
    },
    {
      "cell_type": "code",
      "source": [
        "## adaboost & cross-validation\n",
        "install.packages(\"ada\")\n",
        "library(ada)\n",
        "cctrl1 = trainControl(method = \"cv\", number = 5)\n",
        "set.seed(123)\n",
        "model.ada = train(admit ~ ., data = my.training, trControl = cctrl1, method = \"ada\", tuneLength = 3)"
      ],
      "metadata": {
        "colab": {
          "base_uri": "https://localhost:8080/"
        },
        "id": "93i47igN-_Tl",
        "outputId": "64cbfbcf-8af9-4151-b485-1686c905ecdf"
      },
      "execution_count": 6,
      "outputs": [
        {
          "output_type": "stream",
          "name": "stderr",
          "text": [
            "Installing package into ‘/usr/local/lib/R/site-library’\n",
            "(as ‘lib’ is unspecified)\n",
            "\n",
            "Loading required package: rpart\n",
            "\n"
          ]
        }
      ]
    },
    {
      "cell_type": "code",
      "source": [
        "## random forest & cross-validation\n",
        "install.packages(\"randomForest\")\n",
        "library(randomForest)\n",
        "cctrl1 = trainControl(method = \"cv\", number = 5)\n",
        "set.seed(123)\n",
        "model.rf = train(admit ~ ., data = my.training, trControl = cctrl1, method = \"rf\", tuneLength = 3)"
      ],
      "metadata": {
        "colab": {
          "base_uri": "https://localhost:8080/"
        },
        "id": "GOCx5pbl-_Rm",
        "outputId": "afc8d9c2-462e-4e1f-9bf4-24d7630b23d5"
      },
      "execution_count": 7,
      "outputs": [
        {
          "output_type": "stream",
          "name": "stderr",
          "text": [
            "Installing package into ‘/usr/local/lib/R/site-library’\n",
            "(as ‘lib’ is unspecified)\n",
            "\n",
            "randomForest 4.7-1.1\n",
            "\n",
            "Type rfNews() to see new features/changes/bug fixes.\n",
            "\n",
            "\n",
            "Attaching package: ‘randomForest’\n",
            "\n",
            "\n",
            "The following object is masked from ‘package:ggplot2’:\n",
            "\n",
            "    margin\n",
            "\n",
            "\n"
          ]
        }
      ]
    },
    {
      "cell_type": "code",
      "source": [
        "## 예측 및 평가 측도 계산\n",
        "bag.pred = predict(model.bag, newdata = my.test)\n",
        "gbm.pred = predict(model.gbm, newdata = my.test)\n",
        "ada.pred = predict(model.ada, newdata = my.test)\n",
        "rf.pred = predict(model.rf, newdata = my.test)"
      ],
      "metadata": {
        "id": "Q61_k4jQ-_PR"
      },
      "execution_count": 8,
      "outputs": []
    },
    {
      "cell_type": "code",
      "source": [
        "confusionMatrix(my.test$admit, bag.pred)"
      ],
      "metadata": {
        "colab": {
          "base_uri": "https://localhost:8080/",
          "height": 499
        },
        "id": "k4JxMBVf_glE",
        "outputId": "6759ef39-b48e-4921-cf2e-cef5a1674d75"
      },
      "execution_count": 9,
      "outputs": [
        {
          "output_type": "display_data",
          "data": {
            "text/plain": [
              "Confusion Matrix and Statistics\n",
              "\n",
              "          Reference\n",
              "Prediction  0  1\n",
              "         0 64  4\n",
              "         1 24  7\n",
              "                                          \n",
              "               Accuracy : 0.7172          \n",
              "                 95% CI : (0.6178, 0.8031)\n",
              "    No Information Rate : 0.8889          \n",
              "    P-Value [Acc > NIR] : 0.9999993       \n",
              "                                          \n",
              "                  Kappa : 0.2025          \n",
              "                                          \n",
              " Mcnemar's Test P-Value : 0.0003298       \n",
              "                                          \n",
              "            Sensitivity : 0.7273          \n",
              "            Specificity : 0.6364          \n",
              "         Pos Pred Value : 0.9412          \n",
              "         Neg Pred Value : 0.2258          \n",
              "             Prevalence : 0.8889          \n",
              "         Detection Rate : 0.6465          \n",
              "   Detection Prevalence : 0.6869          \n",
              "      Balanced Accuracy : 0.6818          \n",
              "                                          \n",
              "       'Positive' Class : 0               \n",
              "                                          "
            ]
          },
          "metadata": {}
        }
      ]
    },
    {
      "cell_type": "code",
      "source": [
        "confusionMatrix(my.test$admit, gbm.pred)"
      ],
      "metadata": {
        "colab": {
          "base_uri": "https://localhost:8080/",
          "height": 499
        },
        "id": "GvXwM-QD_gig",
        "outputId": "5647a8d3-7108-4c8c-a6c9-234bd9d9b51c"
      },
      "execution_count": 10,
      "outputs": [
        {
          "output_type": "display_data",
          "data": {
            "text/plain": [
              "Confusion Matrix and Statistics\n",
              "\n",
              "          Reference\n",
              "Prediction  0  1\n",
              "         0 62  6\n",
              "         1 27  4\n",
              "                                          \n",
              "               Accuracy : 0.6667          \n",
              "                 95% CI : (0.5648, 0.7582)\n",
              "    No Information Rate : 0.899           \n",
              "    P-Value [Acc > NIR] : 1.0000000       \n",
              "                                          \n",
              "                  Kappa : 0.05            \n",
              "                                          \n",
              " Mcnemar's Test P-Value : 0.0004985       \n",
              "                                          \n",
              "            Sensitivity : 0.6966          \n",
              "            Specificity : 0.4000          \n",
              "         Pos Pred Value : 0.9118          \n",
              "         Neg Pred Value : 0.1290          \n",
              "             Prevalence : 0.8990          \n",
              "         Detection Rate : 0.6263          \n",
              "   Detection Prevalence : 0.6869          \n",
              "      Balanced Accuracy : 0.5483          \n",
              "                                          \n",
              "       'Positive' Class : 0               \n",
              "                                          "
            ]
          },
          "metadata": {}
        }
      ]
    },
    {
      "cell_type": "code",
      "source": [
        "confusionMatrix(my.test$admit, ada.pred)"
      ],
      "metadata": {
        "colab": {
          "base_uri": "https://localhost:8080/",
          "height": 499
        },
        "id": "CZV755XI_ggm",
        "outputId": "b4bcbcc2-ba2d-4110-b4f4-b212f9f1a825"
      },
      "execution_count": 11,
      "outputs": [
        {
          "output_type": "display_data",
          "data": {
            "text/plain": [
              "Confusion Matrix and Statistics\n",
              "\n",
              "          Reference\n",
              "Prediction  0  1\n",
              "         0 61  7\n",
              "         1 26  5\n",
              "                                          \n",
              "               Accuracy : 0.6667          \n",
              "                 95% CI : (0.5648, 0.7582)\n",
              "    No Information Rate : 0.8788          \n",
              "    P-Value [Acc > NIR] : 1.000000        \n",
              "                                          \n",
              "                  Kappa : 0.07            \n",
              "                                          \n",
              " Mcnemar's Test P-Value : 0.001728        \n",
              "                                          \n",
              "            Sensitivity : 0.7011          \n",
              "            Specificity : 0.4167          \n",
              "         Pos Pred Value : 0.8971          \n",
              "         Neg Pred Value : 0.1613          \n",
              "             Prevalence : 0.8788          \n",
              "         Detection Rate : 0.6162          \n",
              "   Detection Prevalence : 0.6869          \n",
              "      Balanced Accuracy : 0.5589          \n",
              "                                          \n",
              "       'Positive' Class : 0               \n",
              "                                          "
            ]
          },
          "metadata": {}
        }
      ]
    },
    {
      "cell_type": "code",
      "source": [
        "confusionMatrix(my.test$admit, rf.pred)"
      ],
      "metadata": {
        "colab": {
          "base_uri": "https://localhost:8080/",
          "height": 499
        },
        "id": "B-BL8OfJ_geU",
        "outputId": "edcaea09-4bca-48c1-e15a-154320373852"
      },
      "execution_count": 12,
      "outputs": [
        {
          "output_type": "display_data",
          "data": {
            "text/plain": [
              "Confusion Matrix and Statistics\n",
              "\n",
              "          Reference\n",
              "Prediction  0  1\n",
              "         0 63  5\n",
              "         1 26  5\n",
              "                                          \n",
              "               Accuracy : 0.6869          \n",
              "                 95% CI : (0.5859, 0.7764)\n",
              "    No Information Rate : 0.899           \n",
              "    P-Value [Acc > NIR] : 1.000000        \n",
              "                                          \n",
              "                  Kappa : 0.1076          \n",
              "                                          \n",
              " Mcnemar's Test P-Value : 0.000328        \n",
              "                                          \n",
              "            Sensitivity : 0.7079          \n",
              "            Specificity : 0.5000          \n",
              "         Pos Pred Value : 0.9265          \n",
              "         Neg Pred Value : 0.1613          \n",
              "             Prevalence : 0.8990          \n",
              "         Detection Rate : 0.6364          \n",
              "   Detection Prevalence : 0.6869          \n",
              "      Balanced Accuracy : 0.6039          \n",
              "                                          \n",
              "       'Positive' Class : 0               \n",
              "                                          "
            ]
          },
          "metadata": {}
        }
      ]
    },
    {
      "cell_type": "markdown",
      "source": [
        "## 연속형 데이터"
      ],
      "metadata": {
        "id": "9IKfdhuV_yTP"
      }
    },
    {
      "cell_type": "code",
      "source": [
        "## regression 분석을 위한 data 생성\n",
        "reg.data = read.csv(\"https://stats.idre.ucla.edu/wp-content/uploads/2019/02/elemapi2v2.csv\")\n",
        "regdata.ind = createDataPartition(y = reg.data$api00, p = 0.75, list = FALSE)\n",
        "reg.training = reg.data[regdata.ind, ]\n",
        "reg.test = reg.data[-regdata.ind, ]\n",
        "summary(reg.training)"
      ],
      "metadata": {
        "colab": {
          "base_uri": "https://localhost:8080/",
          "height": 874
        },
        "id": "RI_chp1NAEea",
        "outputId": "76f4d7a0-ffa8-4966-f3de-c868a0e89d9b"
      },
      "execution_count": 13,
      "outputs": [
        {
          "output_type": "display_data",
          "data": {
            "text/plain": [
              "      snum           dnum         api00           api99           growth      \n",
              " Min.   :  65   Min.   : 41   Min.   :369.0   Min.   :333.0   Min.   :-69.00  \n",
              " 1st Qu.:1678   1st Qu.:395   1st Qu.:524.0   1st Qu.:484.0   1st Qu.: 19.00  \n",
              " Median :3005   Median :401   Median :643.0   Median :605.0   Median : 37.00  \n",
              " Mean   :2859   Mean   :453   Mean   :647.9   Mean   :610.5   Mean   : 37.35  \n",
              " 3rd Qu.:4284   3rd Qu.:630   3rd Qu.:762.0   3rd Qu.:730.0   3rd Qu.: 55.00  \n",
              " Max.   :6072   Max.   :796   Max.   :940.0   Max.   :917.0   Max.   :134.00  \n",
              "                                                                              \n",
              "     meals             ell            yr_rnd          mobility   \n",
              " Min.   :  0.00   Min.   : 0.00   Min.   :0.0000   Min.   : 3.0  \n",
              " 1st Qu.: 33.00   1st Qu.:10.00   1st Qu.:0.0000   1st Qu.:13.0  \n",
              " Median : 67.00   Median :25.00   Median :0.0000   Median :17.0  \n",
              " Mean   : 60.31   Mean   :31.01   Mean   :0.2359   Mean   :18.1  \n",
              " 3rd Qu.: 90.00   3rd Qu.:48.00   3rd Qu.:0.0000   3rd Qu.:22.0  \n",
              " Max.   :100.00   Max.   :90.00   Max.   :1.0000   Max.   :47.0  \n",
              "                                                   NA's   :1     \n",
              "     acs_k3          acs_46        not_hsg            hsg        \n",
              " Min.   :14.00   Min.   :20.0   Min.   :  0.00   Min.   :  0.00  \n",
              " 1st Qu.:18.00   1st Qu.:27.0   1st Qu.:  4.00   1st Qu.: 17.00  \n",
              " Median :19.00   Median :29.0   Median : 15.00   Median : 26.00  \n",
              " Mean   :19.18   Mean   :29.5   Mean   : 21.39   Mean   : 26.08  \n",
              " 3rd Qu.:20.00   3rd Qu.:31.0   3rd Qu.: 33.00   3rd Qu.: 34.00  \n",
              " Max.   :23.00   Max.   :50.0   Max.   :100.00   Max.   :100.00  \n",
              " NA's   :1       NA's   :3                                       \n",
              "    some_col        col_grad         grad_sch          avg_ed     \n",
              " Min.   : 0.00   Min.   :  0.00   Min.   : 0.000   Min.   :1.000  \n",
              " 1st Qu.:12.00   1st Qu.:  6.00   1st Qu.: 1.000   1st Qu.:2.080  \n",
              " Median :18.00   Median : 16.00   Median : 4.000   Median :2.590  \n",
              " Mean   :19.52   Mean   : 19.08   Mean   : 8.641   Mean   :2.656  \n",
              " 3rd Qu.:28.00   3rd Qu.: 29.00   3rd Qu.:10.000   3rd Qu.:3.160  \n",
              " Max.   :67.00   Max.   :100.00   Max.   :67.000   Max.   :4.620  \n",
              "                                                   NA's   :16     \n",
              "      full             emer           enroll          mealcat     \n",
              " Min.   : 37.00   Min.   : 0.00   Min.   : 130.0   Min.   :1.000  \n",
              " 1st Qu.: 76.00   1st Qu.: 3.00   1st Qu.: 320.0   1st Qu.:1.000  \n",
              " Median : 88.00   Median :10.00   Median : 439.0   Median :2.000  \n",
              " Mean   : 84.44   Mean   :12.73   Mean   : 484.4   Mean   :2.017  \n",
              " 3rd Qu.: 97.00   3rd Qu.:19.00   3rd Qu.: 606.0   3rd Qu.:3.000  \n",
              " Max.   :100.00   Max.   :59.00   Max.   :1570.0   Max.   :3.000  \n",
              "                                                                  \n",
              "    collcat         abv_hsg          lgenroll    \n",
              " Min.   :1.000   Min.   :  0.00   Min.   :2.114  \n",
              " 1st Qu.:1.000   1st Qu.: 67.00   1st Qu.:2.505  \n",
              " Median :2.000   Median : 85.00   Median :2.642  \n",
              " Mean   :2.007   Mean   : 78.61   Mean   :2.641  \n",
              " 3rd Qu.:3.000   3rd Qu.: 96.00   3rd Qu.:2.782  \n",
              " Max.   :3.000   Max.   :100.00   Max.   :3.196  \n",
              "                                                 "
            ]
          },
          "metadata": {}
        }
      ]
    },
    {
      "cell_type": "markdown",
      "source": [
        "+ 연속형 데이터에 대한 adaboost는 caret 패키지에서 적용되지 않아 분석 과정에서 제외하였다."
      ],
      "metadata": {
        "id": "QbwiwtzZAteW"
      }
    },
    {
      "cell_type": "code",
      "source": [
        "## bagging & cross-validation\n",
        "install.packages(\"party\")\n",
        "library(party)\n",
        "cctrl1 = trainControl(method = \"cv\", number = 5)\n",
        "model.bagr = train(api00 ~ enroll + full + col_grad + emer, data = reg.training, trControl = cctrl1,\n",
        "                   B = 100, method = \"bag\", tuneGrid = expand.grid(vars = c(10, 15, 20)),\n",
        "                  bagControl = bagControl(fit = ctreeBag$fit, predict = ctreeBag$pred, aggregate = ctreeBag$aggregate))"
      ],
      "metadata": {
        "colab": {
          "base_uri": "https://localhost:8080/"
        },
        "id": "SIPPd2yJAEcB",
        "outputId": "8f3330b2-e66e-41f8-c068-68a5fe153aef"
      },
      "execution_count": 14,
      "outputs": [
        {
          "output_type": "stream",
          "name": "stderr",
          "text": [
            "Installing package into ‘/usr/local/lib/R/site-library’\n",
            "(as ‘lib’ is unspecified)\n",
            "\n",
            "also installing the dependencies ‘TH.data’, ‘libcoin’, ‘matrixStats’, ‘multcomp’, ‘mvtnorm’, ‘modeltools’, ‘strucchange’, ‘coin’, ‘zoo’, ‘sandwich’\n",
            "\n",
            "\n",
            "Loading required package: grid\n",
            "\n",
            "Loading required package: mvtnorm\n",
            "\n",
            "Loading required package: modeltools\n",
            "\n",
            "Loading required package: stats4\n",
            "\n",
            "Loading required package: strucchange\n",
            "\n",
            "Loading required package: zoo\n",
            "\n",
            "\n",
            "Attaching package: ‘zoo’\n",
            "\n",
            "\n",
            "The following objects are masked from ‘package:base’:\n",
            "\n",
            "    as.Date, as.Date.numeric\n",
            "\n",
            "\n",
            "Loading required package: sandwich\n",
            "\n"
          ]
        }
      ]
    },
    {
      "cell_type": "code",
      "source": [
        "## gradient boosting & cross-validation\n",
        "cctrl1 = trainControl(method = \"cv\", number = 5)\n",
        "set.seed(123)\n",
        "model.gbmr = train(api00 ~ enroll + full + col_grad + emer, data = reg.training,\n",
        "                   trControl = cctrl1, method = \"gbm\", tuneLength = 3)"
      ],
      "metadata": {
        "colab": {
          "base_uri": "https://localhost:8080/"
        },
        "id": "bXt4-mC_AEZ7",
        "outputId": "1d9fc017-1dac-4cb2-ca59-b0aa1111f412"
      },
      "execution_count": 15,
      "outputs": [
        {
          "output_type": "stream",
          "name": "stdout",
          "text": [
            "Iter   TrainDeviance   ValidDeviance   StepSize   Improve\n",
            "     1    18229.3715            -nan     0.1000 1034.4595\n",
            "     2    17154.3264            -nan     0.1000 1080.1131\n",
            "     3    16130.6835            -nan     0.1000  688.9871\n",
            "     4    15173.7852            -nan     0.1000  810.7302\n",
            "     5    14431.6362            -nan     0.1000  546.9066\n",
            "     6    13758.5589            -nan     0.1000  440.3989\n",
            "     7    13138.7688            -nan     0.1000  575.4356\n",
            "     8    12707.9588            -nan     0.1000  337.5909\n",
            "     9    12123.3445            -nan     0.1000  477.7794\n",
            "    10    11701.5952            -nan     0.1000  387.3108\n",
            "    20     9020.8942            -nan     0.1000   43.6339\n",
            "    40     7330.1381            -nan     0.1000  -18.5823\n",
            "    60     6942.6205            -nan     0.1000  -32.7056\n",
            "    80     6742.6378            -nan     0.1000   -0.0468\n",
            "   100     6581.5863            -nan     0.1000  -49.0577\n",
            "   120     6474.6905            -nan     0.1000   -8.5614\n",
            "   140     6377.5251            -nan     0.1000  -30.2567\n",
            "   150     6333.3037            -nan     0.1000  -46.1241\n",
            "\n",
            "Iter   TrainDeviance   ValidDeviance   StepSize   Improve\n",
            "     1    17784.8585            -nan     0.1000 1417.9487\n",
            "     2    16145.4509            -nan     0.1000 1280.0869\n",
            "     3    14828.6308            -nan     0.1000 1054.3827\n",
            "     4    13907.9860            -nan     0.1000  851.5221\n",
            "     5    12956.7777            -nan     0.1000  849.5565\n",
            "     6    12060.2214            -nan     0.1000  848.6067\n",
            "     7    11547.0300            -nan     0.1000  373.1526\n",
            "     8    10826.9893            -nan     0.1000  599.4552\n",
            "     9    10210.9582            -nan     0.1000  330.0252\n",
            "    10     9709.9159            -nan     0.1000  360.8481\n",
            "    20     7465.6986            -nan     0.1000   50.7861\n",
            "    40     6342.0415            -nan     0.1000  -24.0632\n",
            "    60     5952.4230            -nan     0.1000  -73.7283\n",
            "    80     5611.8293            -nan     0.1000  -17.1068\n",
            "   100     5359.7903            -nan     0.1000  -59.1479\n",
            "   120     5096.0347            -nan     0.1000  -80.1383\n",
            "   140     4916.0999            -nan     0.1000  -26.8450\n",
            "   150     4865.3290            -nan     0.1000  -39.6860\n",
            "\n",
            "Iter   TrainDeviance   ValidDeviance   StepSize   Improve\n",
            "     1    17499.7238            -nan     0.1000 1895.7363\n",
            "     2    15913.2793            -nan     0.1000 1358.9033\n",
            "     3    14468.5775            -nan     0.1000 1049.3592\n",
            "     4    13312.1497            -nan     0.1000  920.5443\n",
            "     5    12179.3814            -nan     0.1000  847.8950\n",
            "     6    11341.4228            -nan     0.1000  750.3609\n",
            "     7    10627.5429            -nan     0.1000  556.7140\n",
            "     8    10064.1835            -nan     0.1000  533.9440\n",
            "     9     9581.9413            -nan     0.1000  403.7923\n",
            "    10     9107.7578            -nan     0.1000  313.2353\n",
            "    20     6791.6609            -nan     0.1000   77.1270\n",
            "    40     5757.2377            -nan     0.1000  -46.5432\n",
            "    60     5296.8304            -nan     0.1000  -87.0805\n",
            "    80     4905.0600            -nan     0.1000  -36.0229\n",
            "   100     4623.7722            -nan     0.1000  -62.1617\n",
            "   120     4398.0154            -nan     0.1000  -36.7862\n",
            "   140     4113.5405            -nan     0.1000  -42.2583\n",
            "   150     3998.8836            -nan     0.1000  -42.2205\n",
            "\n",
            "Iter   TrainDeviance   ValidDeviance   StepSize   Improve\n",
            "     1    18995.6739            -nan     0.1000 1353.4739\n",
            "     2    17877.7021            -nan     0.1000 1062.7517\n",
            "     3    16915.4419            -nan     0.1000  841.1538\n",
            "     4    15896.5036            -nan     0.1000  867.4159\n",
            "     5    15079.5885            -nan     0.1000  791.7579\n",
            "     6    14207.7344            -nan     0.1000  616.7499\n",
            "     7    13567.1588            -nan     0.1000  556.4941\n",
            "     8    12885.6095            -nan     0.1000  543.6688\n",
            "     9    12428.9490            -nan     0.1000  426.2699\n",
            "    10    11963.3434            -nan     0.1000  305.5381\n",
            "    20     8942.2423            -nan     0.1000  115.5001\n",
            "    40     7085.3822            -nan     0.1000   16.7149\n",
            "    60     6646.6157            -nan     0.1000  -13.9700\n",
            "    80     6377.2447            -nan     0.1000   -1.2311\n",
            "   100     6223.2520            -nan     0.1000  -28.3710\n",
            "   120     6089.5664            -nan     0.1000  -33.8637\n",
            "   140     5996.7372            -nan     0.1000  -25.3935\n",
            "   150     5967.7849            -nan     0.1000  -38.6384\n",
            "\n",
            "Iter   TrainDeviance   ValidDeviance   StepSize   Improve\n",
            "     1    18525.9994            -nan     0.1000 1707.0944\n",
            "     2    17054.5935            -nan     0.1000  854.2818\n",
            "     3    15622.8802            -nan     0.1000 1562.9708\n",
            "     4    14555.1694            -nan     0.1000  784.3990\n",
            "     5    13494.9236            -nan     0.1000  967.2592\n",
            "     6    12653.5433            -nan     0.1000  756.3930\n",
            "     7    11935.1977            -nan     0.1000  432.0338\n",
            "     8    11185.8668            -nan     0.1000  521.2821\n",
            "     9    10558.0963            -nan     0.1000  442.1734\n",
            "    10    10015.9190            -nan     0.1000  472.5916\n",
            "    20     7341.6579            -nan     0.1000   93.3595\n",
            "    40     6189.8160            -nan     0.1000  -69.9962\n",
            "    60     5790.9421            -nan     0.1000  -23.2227\n",
            "    80     5481.9545            -nan     0.1000  -20.6380\n",
            "   100     5221.8721            -nan     0.1000  -85.3847\n",
            "   120     4971.9629            -nan     0.1000   -6.2085\n",
            "   140     4809.5400            -nan     0.1000  -29.8534\n",
            "   150     4689.9014            -nan     0.1000  -61.2227\n",
            "\n",
            "Iter   TrainDeviance   ValidDeviance   StepSize   Improve\n",
            "     1    18330.3633            -nan     0.1000 1741.6939\n",
            "     2    16482.6174            -nan     0.1000 1669.7625\n",
            "     3    15059.0464            -nan     0.1000 1292.7887\n",
            "     4    13846.1464            -nan     0.1000 1015.2666\n",
            "     5    12808.5706            -nan     0.1000 1064.2106\n",
            "     6    11848.2967            -nan     0.1000  784.5891\n",
            "     7    11043.9002            -nan     0.1000  751.6937\n",
            "     8    10370.1473            -nan     0.1000  596.1442\n",
            "     9     9814.3168            -nan     0.1000  424.4882\n",
            "    10     9364.5379            -nan     0.1000  384.3004\n",
            "    20     6956.1148            -nan     0.1000   49.5645\n",
            "    40     5718.9229            -nan     0.1000  -27.1124\n",
            "    60     5241.3938            -nan     0.1000  -85.3271\n",
            "    80     4828.5841            -nan     0.1000  -88.2403\n",
            "   100     4465.6030            -nan     0.1000  -28.1123\n",
            "   120     4144.1914            -nan     0.1000  -77.4522\n",
            "   140     3911.2379            -nan     0.1000  -32.8201\n",
            "   150     3737.9727            -nan     0.1000  -46.6840\n",
            "\n",
            "Iter   TrainDeviance   ValidDeviance   StepSize   Improve\n",
            "     1    18965.1723            -nan     0.1000 1208.9261\n",
            "     2    17942.8533            -nan     0.1000  834.5090\n",
            "     3    16855.9138            -nan     0.1000 1026.2383\n",
            "     4    15866.8936            -nan     0.1000  729.9939\n",
            "     5    14957.5263            -nan     0.1000  844.7071\n",
            "     6    14312.1192            -nan     0.1000  534.7695\n",
            "     7    13587.8499            -nan     0.1000  599.3133\n",
            "     8    12994.7858            -nan     0.1000  425.5967\n",
            "     9    12494.7183            -nan     0.1000  220.3177\n",
            "    10    12070.8083            -nan     0.1000  348.2887\n",
            "    20     8911.5262            -nan     0.1000  150.0471\n",
            "    40     7120.8921            -nan     0.1000   -9.0000\n",
            "    60     6799.3885            -nan     0.1000  -23.4924\n",
            "    80     6542.7685            -nan     0.1000  -46.9720\n",
            "   100     6322.2778            -nan     0.1000   -9.1576\n",
            "   120     6171.4638            -nan     0.1000  -37.9459\n",
            "   140     6024.7586            -nan     0.1000  -33.8088\n",
            "   150     5963.0583            -nan     0.1000  -17.4996\n",
            "\n",
            "Iter   TrainDeviance   ValidDeviance   StepSize   Improve\n",
            "     1    18907.0446            -nan     0.1000 1392.8897\n",
            "     2    17122.4658            -nan     0.1000 1628.7286\n",
            "     3    15773.1586            -nan     0.1000 1300.4916\n",
            "     4    14673.8317            -nan     0.1000  979.2236\n",
            "     5    13729.1970            -nan     0.1000  699.6610\n",
            "     6    12877.5938            -nan     0.1000  817.6902\n",
            "     7    12178.5469            -nan     0.1000  657.6679\n",
            "     8    11466.0653            -nan     0.1000  565.9883\n",
            "     9    10909.2124            -nan     0.1000  473.6168\n",
            "    10    10471.0902            -nan     0.1000  382.9464\n",
            "    20     7488.3108            -nan     0.1000   25.4746\n",
            "    40     6066.3288            -nan     0.1000  -41.1785\n",
            "    60     5597.0302            -nan     0.1000  -52.3185\n",
            "    80     5297.3833            -nan     0.1000  -17.4857\n",
            "   100     5061.3246            -nan     0.1000  -35.3589\n",
            "   120     4846.1485            -nan     0.1000  -35.3917\n",
            "   140     4648.5112            -nan     0.1000  -36.3921\n",
            "   150     4555.3697            -nan     0.1000  -16.2852\n",
            "\n",
            "Iter   TrainDeviance   ValidDeviance   StepSize   Improve\n",
            "     1    18423.0141            -nan     0.1000 2052.0518\n",
            "     2    16776.5748            -nan     0.1000 1560.4906\n",
            "     3    15345.3271            -nan     0.1000 1362.7207\n",
            "     4    13928.9366            -nan     0.1000 1435.4953\n",
            "     5    12950.1782            -nan     0.1000  908.3166\n",
            "     6    11831.0527            -nan     0.1000  687.8052\n",
            "     7    11070.8146            -nan     0.1000  593.1958\n",
            "     8    10439.1715            -nan     0.1000  595.0055\n",
            "     9     9898.1409            -nan     0.1000  448.9057\n",
            "    10     9400.6661            -nan     0.1000  288.5520\n",
            "    20     6789.6902            -nan     0.1000   79.6384\n",
            "    40     5528.7797            -nan     0.1000  -10.6320\n",
            "    60     4956.9756            -nan     0.1000  -68.9554\n",
            "    80     4529.1718            -nan     0.1000  -23.4788\n",
            "   100     4197.7284            -nan     0.1000  -15.7908\n",
            "   120     3914.7194            -nan     0.1000  -49.7526\n",
            "   140     3705.1665            -nan     0.1000  -60.0253\n",
            "   150     3607.9929            -nan     0.1000  -35.6634\n",
            "\n",
            "Iter   TrainDeviance   ValidDeviance   StepSize   Improve\n",
            "     1    19071.5470            -nan     0.1000 1399.4298\n",
            "     2    17866.2126            -nan     0.1000 1091.4505\n",
            "     3    16908.2386            -nan     0.1000  838.2378\n",
            "     4    15822.4161            -nan     0.1000  931.2126\n",
            "     5    15040.6362            -nan     0.1000  672.2078\n",
            "     6    14052.8583            -nan     0.1000  715.4909\n",
            "     7    13314.4375            -nan     0.1000  535.9418\n",
            "     8    12562.1231            -nan     0.1000  491.2580\n",
            "     9    12081.2947            -nan     0.1000  480.2823\n",
            "    10    11494.7642            -nan     0.1000  356.6118\n",
            "    20     8554.5366            -nan     0.1000   84.3100\n",
            "    40     6956.5887            -nan     0.1000  -18.8065\n",
            "    60     6421.0818            -nan     0.1000  -21.6805\n",
            "    80     6186.9161            -nan     0.1000  -13.9768\n",
            "   100     6039.1493            -nan     0.1000   -8.5690\n",
            "   120     5931.8609            -nan     0.1000  -51.1911\n",
            "   140     5818.1485            -nan     0.1000   -7.9890\n",
            "   150     5755.7272            -nan     0.1000  -40.5788\n",
            "\n",
            "Iter   TrainDeviance   ValidDeviance   StepSize   Improve\n",
            "     1    18559.8293            -nan     0.1000 1583.4395\n",
            "     2    17050.8265            -nan     0.1000 1188.0766\n",
            "     3    15559.5459            -nan     0.1000 1127.3081\n",
            "     4    14384.8642            -nan     0.1000  981.3881\n",
            "     5    13217.8572            -nan     0.1000 1115.4543\n",
            "     6    12387.7620            -nan     0.1000  768.1697\n",
            "     7    11584.7179            -nan     0.1000  860.4416\n",
            "     8    10998.3570            -nan     0.1000  611.5896\n",
            "     9    10393.3271            -nan     0.1000  625.5675\n",
            "    10     9881.5017            -nan     0.1000  394.3439\n",
            "    20     7286.5986            -nan     0.1000   23.7972\n",
            "    40     5968.4804            -nan     0.1000 -116.5396\n",
            "    60     5550.9117            -nan     0.1000  -42.6895\n",
            "    80     5247.8234            -nan     0.1000  -35.9763\n",
            "   100     4937.0493            -nan     0.1000  -40.0099\n",
            "   120     4749.8313            -nan     0.1000  -37.7338\n",
            "   140     4493.7000            -nan     0.1000  -32.0443\n",
            "   150     4391.3766            -nan     0.1000  -25.2902\n",
            "\n",
            "Iter   TrainDeviance   ValidDeviance   StepSize   Improve\n",
            "     1    18439.3715            -nan     0.1000 1907.0977\n",
            "     2    16594.7408            -nan     0.1000 1590.4596\n",
            "     3    15115.3160            -nan     0.1000 1522.3408\n",
            "     4    13745.6430            -nan     0.1000 1291.5365\n",
            "     5    12711.4248            -nan     0.1000 1044.2283\n",
            "     6    11735.5768            -nan     0.1000  741.2831\n",
            "     7    10961.0153            -nan     0.1000  541.5198\n",
            "     8    10230.6609            -nan     0.1000  500.0920\n",
            "     9     9637.5608            -nan     0.1000  496.6725\n",
            "    10     9162.5111            -nan     0.1000  362.5444\n",
            "    20     6493.5113            -nan     0.1000   96.9847\n",
            "    40     5236.4982            -nan     0.1000  -71.1348\n",
            "    60     4784.2192            -nan     0.1000  -78.9858\n",
            "    80     4386.4900            -nan     0.1000  -74.1419\n",
            "   100     4069.4629            -nan     0.1000  -45.2672\n",
            "   120     3820.1009            -nan     0.1000  -91.0707\n",
            "   140     3588.2070            -nan     0.1000  -41.6079\n",
            "   150     3500.5723            -nan     0.1000  -31.9643\n",
            "\n",
            "Iter   TrainDeviance   ValidDeviance   StepSize   Improve\n",
            "     1    18345.1015            -nan     0.1000 1104.7600\n",
            "     2    17250.0734            -nan     0.1000  943.9639\n",
            "     3    16319.9624            -nan     0.1000  701.6645\n",
            "     4    15432.2844            -nan     0.1000  939.9523\n",
            "     5    14680.8462            -nan     0.1000  793.6990\n",
            "     6    13888.9839            -nan     0.1000  591.9940\n",
            "     7    13169.5394            -nan     0.1000  547.6465\n",
            "     8    12491.5974            -nan     0.1000  592.4452\n",
            "     9    11975.1689            -nan     0.1000  386.7458\n",
            "    10    11545.0461            -nan     0.1000  379.0993\n",
            "    20     8511.9126            -nan     0.1000  200.0221\n",
            "    40     6786.8656            -nan     0.1000    1.5858\n",
            "    60     6384.5844            -nan     0.1000  -26.3199\n",
            "    80     6124.6770            -nan     0.1000  -22.0750\n",
            "   100     6008.9669            -nan     0.1000  -30.5063\n",
            "   120     5934.3974            -nan     0.1000  -19.8020\n",
            "   140     5818.6247            -nan     0.1000  -38.8325\n",
            "   150     5725.2280            -nan     0.1000  -20.7121\n",
            "\n",
            "Iter   TrainDeviance   ValidDeviance   StepSize   Improve\n",
            "     1    17983.9753            -nan     0.1000 1499.5047\n",
            "     2    16469.3583            -nan     0.1000 1153.4716\n",
            "     3    15140.2670            -nan     0.1000 1111.7226\n",
            "     4    13818.9811            -nan     0.1000  988.2515\n",
            "     5    12930.9042            -nan     0.1000  831.0215\n",
            "     6    12124.1277            -nan     0.1000  797.1539\n",
            "     7    11226.2694            -nan     0.1000  723.8672\n",
            "     8    10658.8690            -nan     0.1000  425.5662\n",
            "     9    10155.4552            -nan     0.1000  387.5491\n",
            "    10     9666.7750            -nan     0.1000  143.5343\n",
            "    20     7146.2536            -nan     0.1000   -3.7428\n",
            "    40     6011.6912            -nan     0.1000   -5.7036\n",
            "    60     5638.9205            -nan     0.1000  -30.4677\n",
            "    80     5367.4465            -nan     0.1000  -31.6081\n",
            "   100     5123.8273            -nan     0.1000  -68.9039\n",
            "   120     4920.3448            -nan     0.1000  -30.5255\n",
            "   140     4761.1624            -nan     0.1000  -40.0257\n",
            "   150     4674.1537            -nan     0.1000  -29.6034\n",
            "\n",
            "Iter   TrainDeviance   ValidDeviance   StepSize   Improve\n",
            "     1    17747.3712            -nan     0.1000 1522.0779\n",
            "     2    16082.1831            -nan     0.1000 1651.0862\n",
            "     3    14525.6324            -nan     0.1000 1060.2339\n",
            "     4    13286.9406            -nan     0.1000 1049.1463\n",
            "     5    12315.4723            -nan     0.1000  797.7276\n",
            "     6    11354.7453            -nan     0.1000  763.9030\n",
            "     7    10569.3252            -nan     0.1000  608.2064\n",
            "     8    10010.6059            -nan     0.1000  398.8615\n",
            "     9     9470.4298            -nan     0.1000  409.1866\n",
            "    10     8988.3488            -nan     0.1000  437.7896\n",
            "    20     6846.0323            -nan     0.1000   18.9204\n",
            "    40     5702.2340            -nan     0.1000  -22.8564\n",
            "    60     5173.6250            -nan     0.1000  -61.8627\n",
            "    80     4686.7003            -nan     0.1000  -45.5298\n",
            "   100     4383.7557            -nan     0.1000  -44.3718\n",
            "   120     4103.4686            -nan     0.1000  -28.5318\n",
            "   140     3846.0821            -nan     0.1000  -44.7821\n",
            "   150     3730.9472            -nan     0.1000  -34.2695\n",
            "\n",
            "Iter   TrainDeviance   ValidDeviance   StepSize   Improve\n",
            "     1    19000.9293            -nan     0.1000 1100.1451\n",
            "     2    17778.0583            -nan     0.1000 1130.5675\n",
            "     3    16898.8489            -nan     0.1000  887.9022\n",
            "     4    15951.1357            -nan     0.1000  858.5890\n",
            "     5    15044.9259            -nan     0.1000  866.1491\n",
            "     6    14292.4136            -nan     0.1000  625.8193\n",
            "     7    13772.1012            -nan     0.1000  534.2967\n",
            "     8    13199.1940            -nan     0.1000  492.8874\n",
            "     9    12593.8246            -nan     0.1000  480.5661\n",
            "    10    12149.3987            -nan     0.1000  343.7020\n",
            "    20     9096.1339            -nan     0.1000  197.7749\n",
            "    40     7322.4473            -nan     0.1000    6.1552\n",
            "    60     6728.9083            -nan     0.1000   -4.8238\n",
            "    80     6494.6151            -nan     0.1000  -52.8556\n",
            "   100     6290.3834            -nan     0.1000   -7.9269\n",
            "   120     6179.0763            -nan     0.1000  -65.0074\n",
            "   140     6069.5095            -nan     0.1000  -31.5608\n",
            "   150     6016.3328            -nan     0.1000  -23.8725\n",
            "\n"
          ]
        }
      ]
    },
    {
      "cell_type": "code",
      "source": [
        "## random forest & cross-validation\n",
        "cctrl1 = trainControl(method = \"cv\", number = 5)\n",
        "set.seed(123)\n",
        "model.rfr = train(api00 ~ enroll + full + col_grad + emer, data = reg.training,\n",
        "                  trControl = cctrl1, method = \"rf\", tuneLength = 3)"
      ],
      "metadata": {
        "id": "P5ZmHDg3AEVV"
      },
      "execution_count": 16,
      "outputs": []
    },
    {
      "cell_type": "code",
      "source": [
        "## 예측 및 평가 측도 계산\n",
        "bagr.pred = predict(model.bagr, newdata = reg.test)\n",
        "gbmr.pred = predict(model.gbmr, newdata = reg.test)\n",
        "rfr.pred = predict(model.rfr, newdata = reg.test)"
      ],
      "metadata": {
        "id": "OBYOisRyAR1t"
      },
      "execution_count": 17,
      "outputs": []
    },
    {
      "cell_type": "code",
      "source": [
        "install.packages(\"forecast\")\n",
        "library(forecast)\n",
        "accuracy(ts(bagr.pred), reg.test$api00)\n",
        "accuracy(ts(gbmr.pred), reg.test$api00)\n",
        "accuracy(ts(rfr.pred), reg.test$api00)"
      ],
      "metadata": {
        "colab": {
          "base_uri": "https://localhost:8080/",
          "height": 439
        },
        "id": "AeRTsLLtARy-",
        "outputId": "25558379-edcb-435d-c1ae-4e28da6cecd5"
      },
      "execution_count": 18,
      "outputs": [
        {
          "output_type": "stream",
          "name": "stderr",
          "text": [
            "Installing package into ‘/usr/local/lib/R/site-library’\n",
            "(as ‘lib’ is unspecified)\n",
            "\n",
            "also installing the dependencies ‘xts’, ‘TTR’, ‘quadprog’, ‘quantmod’, ‘fracdiff’, ‘lmtest’, ‘tseries’, ‘urca’, ‘RcppArmadillo’\n",
            "\n",
            "\n",
            "Registered S3 method overwritten by 'quantmod':\n",
            "  method            from\n",
            "  as.zoo.data.frame zoo \n",
            "\n"
          ]
        },
        {
          "output_type": "display_data",
          "data": {
            "text/html": [
              "<table class=\"dataframe\">\n",
              "<caption>A matrix: 1 × 5 of type dbl</caption>\n",
              "<thead>\n",
              "\t<tr><th></th><th scope=col>ME</th><th scope=col>RMSE</th><th scope=col>MAE</th><th scope=col>MPE</th><th scope=col>MAPE</th></tr>\n",
              "</thead>\n",
              "<tbody>\n",
              "\t<tr><th scope=row>Test set</th><td>-11.62764</td><td>78.38542</td><td>61.86196</td><td>-3.499486</td><td>10.30429</td></tr>\n",
              "</tbody>\n",
              "</table>\n"
            ],
            "text/markdown": "\nA matrix: 1 × 5 of type dbl\n\n| <!--/--> | ME | RMSE | MAE | MPE | MAPE |\n|---|---|---|---|---|---|\n| Test set | -11.62764 | 78.38542 | 61.86196 | -3.499486 | 10.30429 |\n\n",
            "text/latex": "A matrix: 1 × 5 of type dbl\n\\begin{tabular}{r|lllll}\n  & ME & RMSE & MAE & MPE & MAPE\\\\\n\\hline\n\tTest set & -11.62764 & 78.38542 & 61.86196 & -3.499486 & 10.30429\\\\\n\\end{tabular}\n",
            "text/plain": [
              "         ME        RMSE     MAE      MPE       MAPE    \n",
              "Test set -11.62764 78.38542 61.86196 -3.499486 10.30429"
            ]
          },
          "metadata": {}
        },
        {
          "output_type": "display_data",
          "data": {
            "text/html": [
              "<table class=\"dataframe\">\n",
              "<caption>A matrix: 1 × 5 of type dbl</caption>\n",
              "<thead>\n",
              "\t<tr><th></th><th scope=col>ME</th><th scope=col>RMSE</th><th scope=col>MAE</th><th scope=col>MPE</th><th scope=col>MAPE</th></tr>\n",
              "</thead>\n",
              "<tbody>\n",
              "\t<tr><th scope=row>Test set</th><td>-9.176208</td><td>78.06324</td><td>59.95985</td><td>-2.783279</td><td>9.950763</td></tr>\n",
              "</tbody>\n",
              "</table>\n"
            ],
            "text/markdown": "\nA matrix: 1 × 5 of type dbl\n\n| <!--/--> | ME | RMSE | MAE | MPE | MAPE |\n|---|---|---|---|---|---|\n| Test set | -9.176208 | 78.06324 | 59.95985 | -2.783279 | 9.950763 |\n\n",
            "text/latex": "A matrix: 1 × 5 of type dbl\n\\begin{tabular}{r|lllll}\n  & ME & RMSE & MAE & MPE & MAPE\\\\\n\\hline\n\tTest set & -9.176208 & 78.06324 & 59.95985 & -2.783279 & 9.950763\\\\\n\\end{tabular}\n",
            "text/plain": [
              "         ME        RMSE     MAE      MPE       MAPE    \n",
              "Test set -9.176208 78.06324 59.95985 -2.783279 9.950763"
            ]
          },
          "metadata": {}
        },
        {
          "output_type": "display_data",
          "data": {
            "text/html": [
              "<table class=\"dataframe\">\n",
              "<caption>A matrix: 1 × 5 of type dbl</caption>\n",
              "<thead>\n",
              "\t<tr><th></th><th scope=col>ME</th><th scope=col>RMSE</th><th scope=col>MAE</th><th scope=col>MPE</th><th scope=col>MAPE</th></tr>\n",
              "</thead>\n",
              "<tbody>\n",
              "\t<tr><th scope=row>Test set</th><td>-11.12786</td><td>70.57514</td><td>56.20397</td><td>-3.203636</td><td>9.455154</td></tr>\n",
              "</tbody>\n",
              "</table>\n"
            ],
            "text/markdown": "\nA matrix: 1 × 5 of type dbl\n\n| <!--/--> | ME | RMSE | MAE | MPE | MAPE |\n|---|---|---|---|---|---|\n| Test set | -11.12786 | 70.57514 | 56.20397 | -3.203636 | 9.455154 |\n\n",
            "text/latex": "A matrix: 1 × 5 of type dbl\n\\begin{tabular}{r|lllll}\n  & ME & RMSE & MAE & MPE & MAPE\\\\\n\\hline\n\tTest set & -11.12786 & 70.57514 & 56.20397 & -3.203636 & 9.455154\\\\\n\\end{tabular}\n",
            "text/plain": [
              "         ME        RMSE     MAE      MPE       MAPE    \n",
              "Test set -11.12786 70.57514 56.20397 -3.203636 9.455154"
            ]
          },
          "metadata": {}
        }
      ]
    }
  ]
}